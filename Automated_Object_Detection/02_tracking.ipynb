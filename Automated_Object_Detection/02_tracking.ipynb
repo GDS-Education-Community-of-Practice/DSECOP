{
 "cells": [
  {
   "attachments": {},
   "cell_type": "markdown",
   "id": "0e063bc0",
   "metadata": {},
   "source": [
    "<a href=\"https://colab.research.google.com/github/GDS-Education-Community-of-Practice/DSECOP/blob/main/Automated_Object_Detection/02_tracking.ipynb\" target=\"_parent\"><img src=\"https://colab.research.google.com/assets/colab-badge.svg\" alt=\"Open In Colab\"/></a>\n",
    "\n"
   ]
  },
  {
   "attachments": {},
   "cell_type": "markdown",
   "id": "32ab77d9",
   "metadata": {},
   "source": [
    "# 2. Object tracking for lab videos\n",
    "Created by: Karan Shah"
   ]
  },
  {
   "cell_type": "code",
   "execution_count": null,
   "id": "42bb4e17",
   "metadata": {},
   "outputs": [],
   "source": [
    "# Get res dir and helper files\n",
    "import os\n",
    "try:\n",
    "    import google.colab\n",
    "    IN_COLAB = True\n",
    "except:\n",
    "    IN_COLAB = False\n",
    "\n",
    "if IN_COLAB:\n",
    "    print(\"Colab detected. (Re)Loading resources from github\")\n",
    "    os.system(\"rm -rf images\")\n",
    "    os.system(\"rm -rf experiments\")\n",
    "    os.system(\"rm -f colab_archive.tar.gz\")\n",
    "    os.system(\"wget https://github.com/GDS-Education-Community-of-Practice/DSECOP/blob/main/Automated_Object_Detection/colab_archive.tar.gz?raw=true\")\n",
    "    os.system(\"mv colab_archive.tar.gz?raw=true colab_archive.tar.gz\")\n",
    "    os.system(\"tar -xzf colab_archive.tar.gz\")"
   ]
  },
  {
   "cell_type": "code",
   "execution_count": 1,
   "id": "bf957110",
   "metadata": {},
   "outputs": [],
   "source": [
    "import numpy as np\n",
    "import cv2\n",
    "import matplotlib.pyplot as plt\n",
    "from matplotlib.animation import FuncAnimation\n",
    "from ipywidgets import interact, fixed\n",
    "import ipywidgets as widgets\n",
    "from scipy.signal import savgol_filter\n",
    "\n",
    "# %matplotlib notebook"
   ]
  },
  {
   "cell_type": "code",
   "execution_count": 2,
   "id": "ecd07e6b",
   "metadata": {},
   "outputs": [],
   "source": [
    "#helper code\n",
    "def interactive_viz_colour(t,name, gs=False):\n",
    "    #tstr = str(t).zfill(2)\n",
    "    fname = f\"02_tracking_data/{name}_{t}.jpg\"\n",
    "    image = plt.imread(fname)\n",
    "    plt.figure(figsize=(8,6))\n",
    "    plt.axis('off')\n",
    "    if gs:\n",
    "        plt.imshow(image, cmap='gray')\n",
    "    else:\n",
    "        plt.imshow(image)\n",
    "    plt.show()\n",
    "    \n",
    "def interact_func(name, gs=False):\n",
    "    interact(interactive_viz_colour, t=widgets.IntSlider(min=0, max=max_frame, step=1, value=0), name=fixed(name), gs=fixed(gs))\n",
    "\n",
    "def plot_trajectory(traj_x, traj_y, traj_s, t_arr, name, ylabel):\n",
    "    fig, (ax1, ax2,ax3) = plt.subplots(1, 3, figsize=(10, 3))\n",
    "\n",
    "    fig.suptitle(name)\n",
    "    ax1.set_title('x')\n",
    "    ax1.plot(t_arr, traj_x)\n",
    "    ax2.set_title('y')\n",
    "    ax2.plot(t_arr, traj_y)\n",
    "    ax3.set_title('net scalar')\n",
    "    ax3.plot(t_arr, traj_s)\n",
    "    fig.supxlabel('t')\n",
    "    fig.supylabel(ylabel)\n",
    "    plt.tight_layout()\n",
    "    return fig\n"
   ]
  },
  {
   "attachments": {},
   "cell_type": "markdown",
   "id": "15c38d3c",
   "metadata": {},
   "source": [
    "## Video Object Tracking\n",
    "\n",
    "Now we will use the operations we learnt in the last notebook to track moving objects in a video. This can be helpful to get the trajectory of objects in lab experiments. Instead of the code we wrote, we will use the `opencv` library (refered to as `cv2`). \n",
    "\n",
    "Let's begin by loading the video using `cv2.VideoCapture`."
   ]
  },
  {
   "cell_type": "code",
   "execution_count": 3,
   "id": "33b679b4",
   "metadata": {},
   "outputs": [],
   "source": [
    "experiment_dir = 'experiments/inclined_plane/'\n",
    "os.chdir(experiment_dir)\n",
    "fname = 'video.mp4'\n",
    "capture = cv2.VideoCapture(fname)"
   ]
  },
  {
   "attachments": {},
   "cell_type": "markdown",
   "id": "3e6ffbca",
   "metadata": {},
   "source": [
    "Now we go through the video frame by frame. Keep in mind that each frame is an 2D array of pixels."
   ]
  },
  {
   "cell_type": "code",
   "execution_count": 4,
   "id": "406ad9d8",
   "metadata": {},
   "outputs": [
    {
     "name": "stdout",
     "output_type": "stream",
     "text": [
      "There are 39 frames in this video.\n"
     ]
    }
   ],
   "source": [
    "capture.set(cv2.CAP_PROP_POS_AVI_RATIO, 0)\n",
    "\n",
    "read_flag, img_1 = capture.read()\n",
    "i = 0\n",
    "while capture.isOpened():\n",
    "    read_flag, img_2 = capture.read()\n",
    "    if not read_flag:\n",
    "        break\n",
    "    \n",
    "    if not os.path.exists('02_tracking_data'):\n",
    "        os.makedirs('02_tracking_data')\n",
    "    \n",
    "    cv2.imwrite(f'02_tracking_data/orig_{i}.jpg', img_1)\n",
    "    i+=1\n",
    "    img_1 = img_2\n",
    "\n",
    "max_frame = i-1\n",
    "print(f\"There are {i} frames in this video.\")"
   ]
  },
  {
   "cell_type": "code",
   "execution_count": 5,
   "id": "c8656e11",
   "metadata": {},
   "outputs": [
    {
     "data": {
      "application/vnd.jupyter.widget-view+json": {
       "model_id": "01737be220cc436e968784a02779db5d",
       "version_major": 2,
       "version_minor": 0
      },
      "text/plain": [
       "interactive(children=(IntSlider(value=0, description='t', max=38), Output()), _dom_classes=('widget-interact',…"
      ]
     },
     "metadata": {},
     "output_type": "display_data"
    }
   ],
   "source": [
    "interact_func('orig')"
   ]
  },
  {
   "attachments": {},
   "cell_type": "markdown",
   "id": "6fdf43fe",
   "metadata": {},
   "source": [
    "You can move the slider to go through the video frame by frame."
   ]
  },
  {
   "attachments": {},
   "cell_type": "markdown",
   "id": "b68a12a6",
   "metadata": {},
   "source": [
    "### Get Object Coordinates and Bounding Boxes\n",
    "\n",
    "Now that we have the video loaded, let's start extracting information from it. Here we implement a simple tracking algorithm that works by looking at differences in the pixel between two consecutive frames and generate a bounding box around the region of difference. A bounding box is a rectangle that defines the area of interest. A bounding box is defined by a list of 4 numbers $[x,y,h,w]$, with origin at top-left. The vertices of the box are $(x,y), (x,y+h), (x+w,y), (x+w,y+h)$. We will then use the bounding box to caluclate the approximate coordinates of the ball.\n",
    "\n",
    "This approach works when we have a single moving object in our video, with a static background.\n",
    "\n",
    "We will first run the whole algorithm across the video and save the intermediate frames. Then we will go through each step in brief detail."
   ]
  },
  {
   "cell_type": "code",
   "execution_count": 6,
   "id": "155c3fd4",
   "metadata": {},
   "outputs": [],
   "source": [
    "# Initialize empty lists for bounding boxes\n",
    "\n",
    "i = 0\n",
    "x_list = []\n",
    "y_list = []\n",
    "h_list = []\n",
    "w_list = []\n",
    "\n",
    "capture.set(cv2.CAP_PROP_POS_AVI_RATIO, 0)\n",
    "read_flag, img_1 = capture.read()\n",
    "# img_1 = cv2.cvtColor(img_1, cv2.COLOR_BGR2GRAY)"
   ]
  },
  {
   "cell_type": "code",
   "execution_count": 7,
   "id": "f0f55088",
   "metadata": {},
   "outputs": [
    {
     "name": "stdout",
     "output_type": "stream",
     "text": [
      "i=0 | Coords: x=43, y=88, w=55, h=49 | Detections: 1\n",
      "i=1 | Coords: x=47, y=88, w=56, h=51 | Detections: 1\n",
      "i=2 | Coords: x=52, y=88, w=55, h=51 | Detections: 1\n",
      "i=3 | Coords: x=57, y=88, w=56, h=52 | Detections: 1\n",
      "i=4 | Coords: x=64, y=89, w=56, h=51 | Detections: 1\n",
      "i=5 | Coords: x=71, y=89, w=56, h=53 | Detections: 1\n",
      "i=6 | Coords: x=77, y=90, w=58, h=52 | Detections: 1\n",
      "i=7 | Coords: x=85, y=90, w=59, h=54 | Detections: 1\n",
      "i=8 | Coords: x=93, y=91, w=60, h=53 | Detections: 1\n",
      "i=9 | Coords: x=103, y=92, w=59, h=52 | Detections: 1\n",
      "i=10 | Coords: x=113, y=93, w=60, h=54 | Detections: 1\n",
      "i=11 | Coords: x=123, y=94, w=62, h=53 | Detections: 1\n",
      "i=12 | Coords: x=135, y=95, w=61, h=54 | Detections: 1\n",
      "i=13 | Coords: x=146, y=95, w=63, h=55 | Detections: 1\n",
      "i=14 | Coords: x=160, y=96, w=61, h=55 | Detections: 1\n",
      "i=15 | Coords: x=173, y=97, w=62, h=55 | Detections: 1\n",
      "i=16 | Coords: x=184, y=98, w=65, h=55 | Detections: 1\n",
      "i=17 | Coords: x=199, y=99, w=65, h=56 | Detections: 1\n",
      "i=18 | Coords: x=216, y=101, w=63, h=54 | Detections: 1\n",
      "i=19 | Coords: x=230, y=102, w=65, h=55 | Detections: 1\n",
      "i=20 | Coords: x=246, y=103, w=68, h=55 | Detections: 1\n",
      "i=21 | Coords: x=262, y=104, w=69, h=56 | Detections: 1\n",
      "i=22 | Coords: x=279, y=105, w=71, h=56 | Detections: 1\n",
      "i=23 | Coords: x=296, y=107, w=73, h=55 | Detections: 1\n",
      "i=24 | Coords: x=313, y=108, w=75, h=56 | Detections: 1\n",
      "i=25 | Coords: x=334, y=110, w=74, h=56 | Detections: 1\n",
      "i=26 | Coords: x=352, y=112, w=76, h=56 | Detections: 1\n",
      "i=27 | Coords: x=372, y=113, w=77, h=56 | Detections: 1\n",
      "i=28 | Coords: x=392, y=115, w=79, h=56 | Detections: 1\n",
      "i=29 | Coords: x=414, y=117, w=78, h=56 | Detections: 1\n",
      "i=30 | Coords: x=435, y=119, w=81, h=56 | Detections: 1\n",
      "i=31 | Coords: x=458, y=122, w=79, h=55 | Detections: 1\n",
      "i=32 | Coords: x=484, y=124, w=77, h=55 | Detections: 1\n",
      "i=33 | Coords: x=505, y=126, w=81, h=55 | Detections: 1\n",
      "i=34 | Coords: x=531, y=128, w=77, h=55 | Detections: 1\n",
      "i=35 | Coords: x=553, y=130, w=87, h=57 | Detections: 1\n",
      "i=36 | Coords: x=578, y=132, w=62, h=56 | Detections: 1\n",
      "i=37 | Coords: x=605, y=134, w=35, h=54 | Detections: 1\n",
      "i=38 | Coords: x=629, y=141, w=11, h=40 | Detections: 1\n"
     ]
    }
   ],
   "source": [
    "while capture.isOpened():\n",
    "    # to read frame by frame\n",
    "    read_flag, img_2 = capture.read()\n",
    "    \n",
    "    if not read_flag:\n",
    "        break\n",
    "\n",
    "    cv2.imwrite(f'02_tracking_data/orig_{i}.jpg', img_1)\n",
    "    # find difference between two frames\n",
    "    \n",
    "    diff = cv2.absdiff(img_1, img_2)\n",
    "    cv2.imwrite(f'02_tracking_data/diff_{i}.jpg', diff)\n",
    "    # to convert the frame to grayscale\n",
    "    diff_gray = cv2.cvtColor(diff, cv2.COLOR_BGR2GRAY)\n",
    "    cv2.imwrite(f'02_tracking_data/diff_gray_{i}.jpg', diff_gray)\n",
    "    # apply some blur to smoothen the frame\n",
    "    diff_blur = cv2.GaussianBlur(diff_gray, (5, 5), 0)\n",
    "    cv2.imwrite(f'02_tracking_data/diff_blur_{i}.jpg', diff_blur)\n",
    "    # to get the binary image\n",
    "    _, thresh_bin = cv2.threshold(diff_blur, 20, 255, cv2.THRESH_BINARY)\n",
    "    cv2.imwrite(f'02_tracking_data/thresh_bin_{i}.jpg', thresh_bin)\n",
    "    # to find contours\n",
    "    \n",
    "    rect_kernel = cv2.getStructuringElement(cv2.MORPH_RECT, (30, 30))\n",
    "    thresh_bin_comb = cv2.morphologyEx(thresh_bin, cv2.MORPH_CLOSE, rect_kernel)\n",
    "    cv2.imwrite(f'02_tracking_data/thresh_bin_comb_{i}.jpg', thresh_bin_comb)\n",
    "    \n",
    "    #contours, hierarchy = cv2.findContours(thresh_bin_comb, cv2.RETR_TREE, cv2.CHAIN_APPROX_SIMPLE)\n",
    "    contours, hierarchy = cv2.findContours(thresh_bin_comb, cv2.RETR_EXTERNAL, cv2.CHAIN_APPROX_NONE)\n",
    "    # to draw the bounding box when the motion is detected\n",
    "        \n",
    "    for contour in contours:\n",
    "        x, y, w, h = cv2.boundingRect(contour)\n",
    "        \n",
    "        x_list.append(x)\n",
    "        y_list.append(y)\n",
    "        h_list.append(h)\n",
    "        w_list.append(w)\n",
    "        hull = cv2.convexHull(contour)\n",
    "        hulls = cv2.drawContours(img_1, [hull], -1, (0, 0, 255), 1) \n",
    "        cv2.imwrite(f'02_tracking_data/hulls_{i}.jpg', hulls)\n",
    "        \n",
    "        if cv2.contourArea(contour) > 300:\n",
    "            cv2.rectangle(img_1, (x, y), (x+w, y+h), (0, 255, 0), 2)\n",
    "    cv2.drawContours(img_1, contours, -1, (0, 255, 0), 2)\n",
    "    print(f\"{i=} | Coords: {x=}, {y=}, {w=}, {h=} | Detections: {len(contours)}\")\n",
    "    cv2.imwrite(f'02_tracking_data/img_{i}.jpg', img_1)\n",
    "    i+=1\n",
    "    img_1 = img_2"
   ]
  },
  {
   "cell_type": "code",
   "execution_count": null,
   "id": "a12e4061",
   "metadata": {},
   "outputs": [],
   "source": []
  },
  {
   "cell_type": "code",
   "execution_count": 8,
   "id": "b898b991",
   "metadata": {},
   "outputs": [
    {
     "data": {
      "application/vnd.jupyter.widget-view+json": {
       "model_id": "6f21fb96786e4375a04f19364857e651",
       "version_major": 2,
       "version_minor": 0
      },
      "text/plain": [
       "interactive(children=(IntSlider(value=0, description='t', max=38), Output()), _dom_classes=('widget-interact',…"
      ]
     },
     "metadata": {},
     "output_type": "display_data"
    }
   ],
   "source": [
    "interact_func('orig', gs=False)\n"
   ]
  },
  {
   "attachments": {},
   "cell_type": "markdown",
   "id": "42498907",
   "metadata": {},
   "source": [
    "Get the difference between frames:\n",
    "```python\n",
    "diff = cv2.absdiff(img_1, img_2)\n",
    "```\n"
   ]
  },
  {
   "cell_type": "code",
   "execution_count": 9,
   "id": "8bbd9422",
   "metadata": {},
   "outputs": [
    {
     "data": {
      "application/vnd.jupyter.widget-view+json": {
       "model_id": "b6784743f6a446f493b758409074495a",
       "version_major": 2,
       "version_minor": 0
      },
      "text/plain": [
       "interactive(children=(IntSlider(value=0, description='t', max=38), Output()), _dom_classes=('widget-interact',…"
      ]
     },
     "metadata": {},
     "output_type": "display_data"
    }
   ],
   "source": [
    "interact_func('diff', gs=False)\n"
   ]
  },
  {
   "attachments": {},
   "cell_type": "markdown",
   "id": "57716c12",
   "metadata": {},
   "source": [
    "Convert the diff frame to grayscale:\n",
    "```python\n",
    "diff_gray = cv2.cvtColor(diff, cv2.COLOR_BGR2GRAY)\n",
    "```"
   ]
  },
  {
   "cell_type": "code",
   "execution_count": 10,
   "id": "b1818016",
   "metadata": {},
   "outputs": [
    {
     "data": {
      "application/vnd.jupyter.widget-view+json": {
       "model_id": "edb2f7686b0345b0ada4a6d9996fba81",
       "version_major": 2,
       "version_minor": 0
      },
      "text/plain": [
       "interactive(children=(IntSlider(value=0, description='t', max=38), Output()), _dom_classes=('widget-interact',…"
      ]
     },
     "metadata": {},
     "output_type": "display_data"
    }
   ],
   "source": [
    "interact_func('diff_gray', gs=True)\n"
   ]
  },
  {
   "attachments": {},
   "cell_type": "markdown",
   "id": "a788cddc",
   "metadata": {},
   "source": [
    "Apply a gaussian blur to smoothen the edges:\n",
    "```python\n",
    "diff_blur = cv2.GaussianBlur(diff_gray, (5, 5), 0)\n",
    "```"
   ]
  },
  {
   "cell_type": "code",
   "execution_count": 11,
   "id": "8a10b6d4",
   "metadata": {},
   "outputs": [
    {
     "data": {
      "application/vnd.jupyter.widget-view+json": {
       "model_id": "24d23432b1f0412c8ae1d3ed5662004b",
       "version_major": 2,
       "version_minor": 0
      },
      "text/plain": [
       "interactive(children=(IntSlider(value=0, description='t', max=38), Output()), _dom_classes=('widget-interact',…"
      ]
     },
     "metadata": {},
     "output_type": "display_data"
    }
   ],
   "source": [
    "interact_func('diff_blur', gs=True)\n"
   ]
  },
  {
   "attachments": {},
   "cell_type": "markdown",
   "id": "c10d1409",
   "metadata": {},
   "source": [
    "Apply a binary threshold to demarcate pixels that change between subsequent frames:\n",
    "```python\n",
    "_, thresh_bin = cv2.threshold(diff_blur, 20, 255, cv2.THRESH_BINARY)\n",
    "```"
   ]
  },
  {
   "cell_type": "code",
   "execution_count": 12,
   "id": "87de058f",
   "metadata": {},
   "outputs": [
    {
     "data": {
      "application/vnd.jupyter.widget-view+json": {
       "model_id": "a097b7f277c441c89573490e67c9b6d6",
       "version_major": 2,
       "version_minor": 0
      },
      "text/plain": [
       "interactive(children=(IntSlider(value=0, description='t', max=38), Output()), _dom_classes=('widget-interact',…"
      ]
     },
     "metadata": {},
     "output_type": "display_data"
    }
   ],
   "source": [
    "interact_func('thresh_bin', gs=True)\n"
   ]
  },
  {
   "attachments": {},
   "cell_type": "markdown",
   "id": "822eac39",
   "metadata": {},
   "source": [
    "Find areas that are surrounded by selected pixels to create one continuous component\n",
    "```python\n",
    "thresh_bin_comb = cv2.morphologyEx(thresh_bin, cv2.MORPH_CLOSE, rect_kernel)\n",
    "```"
   ]
  },
  {
   "cell_type": "code",
   "execution_count": 13,
   "id": "55bbf06e",
   "metadata": {},
   "outputs": [
    {
     "data": {
      "application/vnd.jupyter.widget-view+json": {
       "model_id": "c5ee3d974ed8456e80b4e741f7739353",
       "version_major": 2,
       "version_minor": 0
      },
      "text/plain": [
       "interactive(children=(IntSlider(value=0, description='t', max=38), Output()), _dom_classes=('widget-interact',…"
      ]
     },
     "metadata": {},
     "output_type": "display_data"
    }
   ],
   "source": [
    "interact_func('thresh_bin_comb', gs=True)\n"
   ]
  },
  {
   "attachments": {},
   "cell_type": "markdown",
   "id": "ae47c76e",
   "metadata": {},
   "source": [
    "Finally, use the component detected to make a bounding box\n",
    "```python\n",
    "contours, hierarchy = cv2.findContours(thresh_bin_comb, cv2.RETR_EXTERNAL, cv2.CHAIN_APPROX_NONE)\n",
    "```"
   ]
  },
  {
   "cell_type": "code",
   "execution_count": 14,
   "id": "18453098",
   "metadata": {},
   "outputs": [
    {
     "data": {
      "application/vnd.jupyter.widget-view+json": {
       "model_id": "7700aa66bde84a25a8cf31cfb728a94d",
       "version_major": 2,
       "version_minor": 0
      },
      "text/plain": [
       "interactive(children=(IntSlider(value=0, description='t', max=38), Output()), _dom_classes=('widget-interact',…"
      ]
     },
     "metadata": {},
     "output_type": "display_data"
    }
   ],
   "source": [
    "interact_func('img', gs=False)\n"
   ]
  },
  {
   "attachments": {},
   "cell_type": "markdown",
   "id": "8727b460",
   "metadata": {},
   "source": [
    "## Get kinematics"
   ]
  },
  {
   "attachments": {},
   "cell_type": "markdown",
   "id": "40e644c8",
   "metadata": {},
   "source": [
    "Now that we have coordinates of the object, we can use them to calculate position, velocity and acceleration."
   ]
  },
  {
   "cell_type": "code",
   "execution_count": 15,
   "id": "b399bca0",
   "metadata": {},
   "outputs": [],
   "source": [
    "golf_ball_diam_m = 0.0427\n",
    "golf_ball_diam_pix = 55\n",
    "\n",
    "pix_to_m = 1.0\n",
    "frame_to_s = 1.0\n",
    "convert = False\n",
    "if convert:\n",
    "    pix_to_m = golf_ball_diam_m/golf_ball_diam_pix  \n",
    "    frame_to_s = 1.3/39"
   ]
  },
  {
   "attachments": {},
   "cell_type": "markdown",
   "id": "20001715",
   "metadata": {},
   "source": [
    "To remove initial and final bumps, we discard a few initial and final frames."
   ]
  },
  {
   "cell_type": "code",
   "execution_count": 16,
   "id": "0ed97501",
   "metadata": {},
   "outputs": [
    {
     "name": "stdout",
     "output_type": "stream",
     "text": [
      "Using 35 frames, discarding 3 frames.\n"
     ]
    }
   ],
   "source": [
    "window_start = 2\n",
    "window_end = max_frame-1\n",
    "\n",
    "analysis_window = np.arange(window_start, window_end)\n",
    "window_length = len(analysis_window)\n",
    "\n",
    "print(f\"Using {window_length} frames, discarding {max_frame-window_length} frames.\")\n",
    "\n",
    "x_arr = np.asarray(x_list)[analysis_window]\n",
    "y_arr = np.asarray(y_list)[analysis_window]\n",
    "h_arr = np.asarray(h_list)[analysis_window]\n",
    "w_arr = np.asarray(w_list)[analysis_window]\n",
    "\n",
    "t_arr = np.arange(window_length) * frame_to_s\n"
   ]
  },
  {
   "attachments": {},
   "cell_type": "markdown",
   "id": "0231731b",
   "metadata": {},
   "source": [
    "Because the object tracker results can be noisy, we use a filter called savgol filter to smoothen the data."
   ]
  },
  {
   "cell_type": "code",
   "execution_count": 17,
   "id": "9faf748f",
   "metadata": {},
   "outputs": [],
   "source": [
    "filter_win_length = window_length"
   ]
  },
  {
   "cell_type": "code",
   "execution_count": 18,
   "id": "5dec2aa1",
   "metadata": {},
   "outputs": [],
   "source": [
    "# center_x = (x_arr + h_arr/2)*pix_to_m\n",
    "# center_y = (y_arr + w_arr/2)*pix_to_m\n",
    " \n",
    "center_x = x_arr * pix_to_m\n",
    "center_y = y_arr * pix_to_m\n",
    "\n",
    "s_x = center_x - center_x[0]\n",
    "s_y = center_y[-1] - center_y\n",
    "s_net = np.sqrt(s_x**2 + s_y**2)\n",
    "\n",
    "s_x = savgol_filter(s_x, filter_win_length, 3)\n",
    "s_y = savgol_filter(s_y, filter_win_length, 3)"
   ]
  },
  {
   "cell_type": "code",
   "execution_count": 19,
   "id": "e84698a2",
   "metadata": {},
   "outputs": [
    {
     "data": {
      "image/png": "[encoded data removed]",
      "text/plain": [
       "<Figure size 1000x300 with 3 Axes>"
      ]
     },
     "metadata": {},
     "output_type": "display_data"
    }
   ],
   "source": [
    "fig = plot_trajectory(s_x, s_y, s_net, t_arr, 'Position', 's')\n",
    "plt.show()"
   ]
  },
  {
   "attachments": {},
   "cell_type": "markdown",
   "id": "ccc37c44",
   "metadata": {},
   "source": [
    "Now we calculate the gradients of the position to get velocity."
   ]
  },
  {
   "cell_type": "code",
   "execution_count": 20,
   "id": "6b28e10e",
   "metadata": {},
   "outputs": [],
   "source": [
    "v_x = np.gradient(s_x,frame_to_s)\n",
    "v_y = np.gradient(s_y,frame_to_s)\n",
    "\n",
    "v_x = savgol_filter(v_x, filter_win_length, 3)\n",
    "v_y = savgol_filter(v_y, filter_win_length, 3)\n",
    "\n",
    "v_net = np.sqrt(v_x**2 * v_y**2)\n",
    "# v_net = np.gradient(s_net,4)\n",
    "v_net = savgol_filter(v_net, filter_win_length, 3)"
   ]
  },
  {
   "cell_type": "code",
   "execution_count": 21,
   "id": "de9afaa4",
   "metadata": {},
   "outputs": [
    {
     "data": {
      "image/png": "[encoded data removed]",
      "text/plain": [
       "<Figure size 1000x300 with 3 Axes>"
      ]
     },
     "metadata": {},
     "output_type": "display_data"
    }
   ],
   "source": [
    "fig = plot_trajectory(v_x, v_y, v_net, t_arr, 'Velocity', 'v')\n",
    "plt.show()"
   ]
  },
  {
   "attachments": {},
   "cell_type": "markdown",
   "id": "de2bf78e",
   "metadata": {},
   "source": [
    "Finally, we calculate the gradients of the velocity to get acceleration."
   ]
  },
  {
   "cell_type": "code",
   "execution_count": 22,
   "id": "dc70c308",
   "metadata": {},
   "outputs": [],
   "source": [
    "a_x = np.gradient(v_x,frame_to_s)\n",
    "a_y = np.gradient(v_y,frame_to_s)\n",
    "# a_net = np.gradient(v_net,4)\n",
    "a_net = np.sqrt(a_x**2 + a_y**2)"
   ]
  },
  {
   "cell_type": "code",
   "execution_count": 23,
   "id": "c2f86bc7",
   "metadata": {},
   "outputs": [
    {
     "data": {
      "image/png": "[encoded data removed]",
      "text/plain": [
       "<Figure size 1000x300 with 3 Axes>"
      ]
     },
     "metadata": {},
     "output_type": "display_data"
    }
   ],
   "source": [
    "fig = plot_trajectory(a_x, a_y, a_net, t_arr, 'Acceleration', 'a')\n",
    "plt.show()"
   ]
  },
  {
   "attachments": {},
   "cell_type": "markdown",
   "id": "a5819c76",
   "metadata": {},
   "source": [
    "## Discussion\n",
    "\n",
    "In this toy case, we couldn't get accurate acceleration values. This can be due to multiple reasons:\n",
    "\n",
    "1. The video framerate is low. Notice that in the latter part of the video, the ball is moving two fast between the frames, leading to artifacts like these:\n",
    "![artifacts](./images/02_artifact_0.png)\n",
    "![artifacts](./images/02_artifact_1.png)\n",
    "\n",
    "\n",
    "This can distort coordinates of the ball calculated from the bounding boxes.\n",
    "\n",
    "Remedy: Use a higher framerate video.\n",
    "\n",
    "2. Noise in the data. The calculated coordinates are noisy, which leads to sharp peaks in the derivatives. One option is to experiment with different smoothening algorithms. Another option is to use other numerical differentiation schemes.\n",
    "\n",
    "You can read further about different numerical schemes in this DSECOP module:\n",
    "[Solving Differential Equations in Classical Mechanics with Neural Networks](https://github.com/GDS-Education-Community-of-Practice/DSECOP/tree/main/Solving_Differential_Equations_with_NNs)\n"
   ]
  },
  {
   "attachments": {},
   "cell_type": "markdown",
   "id": "203c7e31",
   "metadata": {},
   "source": [
    "## Conclusion\n",
    "\n",
    "We implemented an object tracker, but the results are not so great and we need to tune parameters of the different image operations for each video. However, there are more sophisticated object trackers and even deep learning models that segment images and track objects of interests. We will talk about them in the next part.\n",
    "\n",
    "To get a feel for neural networks, you can try other modules that introduce them:\n",
    "1. [Intro to deep learning](https://github.com/GDS-Education-Community-of-Practice/DSECOP/tree/main/Intro_to_Deep_Learning)\n",
    "2. [Gentle introduction to NNs using pixels](https://github.com/GDS-Education-Community-of-Practice/DSECOP/blob/main/Learning_the_Schrodinger_Equation/00_NN_Basics.ipynb)\n",
    "\n"
   ]
  },
  {
   "attachments": {},
   "cell_type": "markdown",
   "id": "cd1d673c",
   "metadata": {},
   "source": [
    "## References\n",
    "Inclined plane video: https://www.youtube.com/watch?v=LQMQLcV0Mwg"
   ]
  },
  {
   "cell_type": "code",
   "execution_count": null,
   "id": "9e82a460",
   "metadata": {},
   "outputs": [],
   "source": []
  }
 ],
 "metadata": {
  "kernelspec": {
   "display_name": "Python 3 (ipykernel)",
   "language": "python",
   "name": "python3"
  },
  "language_info": {
   "codemirror_mode": {
    "name": "ipython",
    "version": 3
   },
   "file_extension": ".py",
   "mimetype": "text/x-python",
   "name": "python",
   "nbconvert_exporter": "python",
   "pygments_lexer": "ipython3",
   "version": "3.10.6"
  },
  "vscode": {
   "interpreter": {
    "hash": "96ff39ab32ab59dee9e0349211b5ae18b5040f5507621fd28728823703b2bea1"
   }
  }
 },
 "nbformat": 4,
 "nbformat_minor": 5
}
