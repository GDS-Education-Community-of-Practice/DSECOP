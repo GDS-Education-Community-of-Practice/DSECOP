{
  "nbformat": 4,
  "nbformat_minor": 0,
  "metadata": {
    "colab": {
      "private_outputs": true,
      "provenance": []
    },
    "kernelspec": {
      "name": "python3",
      "display_name": "Python 3"
    },
    "language_info": {
      "name": "python"
    }
  },
  "cells": [
    {
      "cell_type": "markdown",
      "source": [
        "# Using Linear Regression to Extract Physical Constants: Newtonian Gravitation\n",
        "\n",
        "Author: Julie Butler, butle222@msu.edu\n",
        "\n",
        "Date Created: October 15, 2022\n",
        "\n",
        "Last Modified: November 7, 2022\n",
        "\n",
        "Notebook 2/5 of the DSECOP Module: An Introduction to the Machine Learning Workflow with Linear Regression.  See the entire module [here]()."
      ],
      "metadata": {
        "id": "5usWFEySuZqd"
      }
    },
    {
      "cell_type": "markdown",
      "source": [
        "## Imports\n",
        "\n",
        "First let's import the necessary packages needed to run this notebook."
      ],
      "metadata": {
        "id": "zjOsaYATWxSA"
      }
    },
    {
      "cell_type": "code",
      "execution_count": null,
      "metadata": {
        "id": "RqpzjDPvEwMY"
      },
      "outputs": [],
      "source": [
        "##############################\n",
        "##          IMPORTS         ##\n",
        "##############################\n",
        "# Needed for arrays and mathematical functions\n",
        "import numpy as np\n",
        "# For plotting\n",
        "import matplotlib.pyplot as plt\n",
        "# For importing and formatting data sets\n",
        "import pandas as pd\n",
        "# For the machine learning section, their functions will be explained later in\n",
        "# the notebook\n",
        "from sklearn.model_selection import train_test_split\n",
        "from sklearn.linear_model import LinearRegression"
      ]
    },
    {
      "cell_type": "markdown",
      "source": [
        "Now we need to set up the notebook to sync with Google Drive.  There will be some pop-up windows you will need to follow the prompts on."
      ],
      "metadata": {
        "id": "0ANGqKqLW6qn"
      }
    },
    {
      "cell_type": "code",
      "source": [
        "# GOOGLE DRIVE SET UP\n",
        "from google.colab import drive\n",
        "# Mount my Google Drive\n",
        "drive.mount('/content/gdrive')"
      ],
      "metadata": {
        "id": "BO1m55pEddGg"
      },
      "execution_count": null,
      "outputs": []
    },
    {
      "cell_type": "markdown",
      "source": [
        "### IMPORTANT!\n",
        "\n",
        "**Problem 1:** Change the below line to match the file directory where the notebooks and data are stored on your Google Drive."
      ],
      "metadata": {
        "id": "VRo1ufSjXDL_"
      }
    },
    {
      "cell_type": "code",
      "source": [
        "# Directory to retrieve data files from (###CHANGE THIS###)\n",
        "data_dir = '/content/gdrive/My Drive/Teaching/DSECOP/Module 2: Workflow/'"
      ],
      "metadata": {
        "id": "UANg0aOreEZs"
      },
      "execution_count": null,
      "outputs": []
    },
    {
      "cell_type": "markdown",
      "source": [
        "## Building A Model\n",
        "\n",
        "Given a star which has a mass of $m_1$ and is at location $\\vec{r}_1$ and a planet which has a mass of $m_2$ and is at location $\\vec{r}_2$, then the graviational force on the planet due to the star is:\n",
        "\n",
        "$$\\vec{F}_{G,21} = -G\\frac{m_1m_2}{r_{21}^2}\\hat{r}_{21},$$\n",
        "\n",
        "where $\\vec{r}_{21} = \\vec{r}_1 - \\vec{r}_2$.\n",
        "\n",
        "However we also know that the net force on an object is given by Newton's second law:\n",
        "\n",
        "$$\\vec{F}_{net} = m\\vec{a},$$\n",
        "\n",
        "where $\\vec{a}$ is the acceleration of the object.\n",
        "\n",
        "If we assume that the only force acting on our planet is the gravitaional force due to being near the star, then its net force and the Newtonian gravitaional force equation are equivalent.  To simplfy calculations we will also only consider the magnitudes of both equations.\n",
        "\n",
        "$$\\vec{F}_{G,21} = \\vec{F}_{net} \\longrightarrow F_{G,21} = F_{net}$$\n",
        "\n",
        "We can expand both equations using the above definitions, where the $m$ in the net force equation is $m_1$, the mass of the planet (i.e. the object who's motion we are studying).\n",
        "\n",
        "$$-G\\frac{m_1m_2}{r_{21}^2} = m_2a$$\n",
        "\n",
        "We can simplify these equations a bit further by doing some algebra:\n",
        "\n",
        "$$a = \\frac{Gm_1}{r_{21}^2} = -Gm_1\\frac{1}{r_{21}^2}$$\n",
        "\n",
        "Now, let's separate the constants from the physical values and we know that both acceleration and position are time dependent, so we can add in a notation that reflects this.\n",
        "\n",
        "$$a(t) =  Gm_1\\frac{1}{r_{12}(t)^2}$$\n",
        "\n",
        "Now, let's look at the equation for the output of the linear regression algorithm and compare it to the equation for acceleration which we have just derived.\n",
        "\n",
        "$$\\hat{y} = X\\theta$$\n",
        "\n",
        "By comparing the equation for a(t) to the equation for $\\hat{y}$, we can begin to see how we can format your acceleration equation as a linear regression problem.  First, we can see that $\\hat{y}$ will be the acceleration of our planet, which we can expand as a vector for each time step we have data on, for a total of N data points.\n",
        "\n",
        "$$\\hat{y} = a(t)\\ = \\ \\begin{bmatrix}\n",
        "    a(t_0) \\\n",
        "    a(t_1) \\\\\n",
        "    a(t_2) \\\\\n",
        "    . \\\\\n",
        "    . \\\\\n",
        "    . \\\\\n",
        "    a(t_N)\n",
        "\\end{bmatrix}$$\n",
        "\n",
        "We can also see that our X data will be the inverse squared position, which we can represent in vector form based on time steps as:\n",
        "\n",
        "$$X\\ =\\ \\frac{1}{r_{21}^2(t)}\\ =\\ \\begin{bmatrix}\n",
        "    1/r_{21}^2(t_0) \\\\\n",
        "    1/r_{21}^2(t_1) \\\\\n",
        "    1/r_{21}^2(t_2) \\\\\n",
        "    . \\\\\n",
        "    . \\\\\n",
        "    . \\\\\n",
        "    1/r_{21}^2(t_N) \\\\\n",
        "\\end{bmatrix}$$\n",
        "\n",
        "Here, we can take a moment to simplify the notation since we only have two objects in total, the planet and the star.  For the remainer of this problem we will simplify the notation to r$_{12}$ $\\rightarrow$ r$_2$.\n",
        "\n",
        "$$X\\ =\\ \\frac{1}{r_{2}^2(t)}\\ =\\ \\begin{bmatrix}\n",
        "    1/r_{2}^2(t_0) \\\\\n",
        "    1/r_{2}^2(t_1) \\\\\n",
        "    1/r_{2}^2(t_2) \\\\\n",
        "    . \\\\\n",
        "    . \\\\\n",
        "    . \\\\\n",
        "    1/r_{2}^2(t_N) \\\\\n",
        "\\end{bmatrix}$$\n",
        "\n",
        "Finally, the weights, $\\theta$, will be the gravitational constant, G, multiplied by the mass of the sun, m$_1$.\n",
        "\n",
        "$$\\theta = Gm_1$$\n",
        "\n",
        "The goal of this linear regression analysis will be to determine the value of m$_1$, the mass of the star the planet is orbiting."
      ],
      "metadata": {
        "id": "JmPn6S82E8Yv"
      }
    },
    {
      "cell_type": "markdown",
      "source": [
        "### Import and Format the Data Set\n",
        "\n",
        "The data needed for this problem is stored in the file `data_notebook_2_one_planet.csv`.  Before we attempt to apply linear regression to this problem we will need to import and format the data set.\n",
        "\n",
        "**Problem 2:** Import the data set as a Pandas dataframe and print the first few lines."
      ],
      "metadata": {
        "id": "7PjQ4a4IaMdv"
      }
    },
    {
      "cell_type": "code",
      "source": [],
      "metadata": {
        "id": "0xrx8uHvmtLM"
      },
      "execution_count": null,
      "outputs": []
    },
    {
      "cell_type": "markdown",
      "source": [
        "**Problem 3:** Remembering that a subscript of \"2\" represents data collected about the planet, what data is provided for this problem.  Write your response in the textbox below.  In the code cell below that, convert each column of the data file to a NumPy array, saving the NumPy arrays with useful and descriptive names (i.e. t, a, v, and r)."
      ],
      "metadata": {
        "id": "WbpgjQczbNYB"
      }
    },
    {
      "cell_type": "markdown",
      "source": [],
      "metadata": {
        "id": "GnAP8JEjbYDz"
      }
    },
    {
      "cell_type": "code",
      "source": [],
      "metadata": {
        "id": "hFqhTA3Rm5G2"
      },
      "execution_count": null,
      "outputs": []
    },
    {
      "cell_type": "markdown",
      "source": [
        "Now we need to create the design matrix, X = 1/r$^2$.  However, since we were given just the position, we will need to perform some manipulations to create our design matrix:"
      ],
      "metadata": {
        "id": "F2oy5TOVlZ9M"
      }
    },
    {
      "cell_type": "code",
      "source": [
        "r_squared = r**2 \n",
        "r_squared_inverse = 1/r_squared\n",
        "X = np.array([r_squared_inverse]).T"
      ],
      "metadata": {
        "id": "OdMhnX8AnHXp"
      },
      "execution_count": null,
      "outputs": []
    },
    {
      "cell_type": "markdown",
      "source": [
        "Next, we need to split our data into a training set and a test set.\n",
        "\n",
        "**Problem 4:** Using the Scikit-Learn function `train_test_split` split the X and y data sets into training and test sets.  Use 20% of the data as the test set and the remainder as the training set."
      ],
      "metadata": {
        "id": "U50hbDKtlrX8"
      }
    },
    {
      "cell_type": "code",
      "source": [],
      "metadata": {
        "id": "tGZKhpbMnB5j"
      },
      "execution_count": null,
      "outputs": []
    },
    {
      "cell_type": "markdown",
      "source": [
        "Since our X data set only has one feature (i.e. its a vector instead of a matrix) we will need to reshape the X components of our training and test data sets."
      ],
      "metadata": {
        "id": "79rNXrTtn7Yu"
      }
    },
    {
      "cell_type": "code",
      "source": [
        "X_train = X_train.reshape(-1,1)\n",
        "X_test = X_test.reshape(-1,1)"
      ],
      "metadata": {
        "id": "klpWKmZWn4fo"
      },
      "execution_count": null,
      "outputs": []
    },
    {
      "cell_type": "markdown",
      "source": [
        "**Problem 5:** Using Scikit-Learn's linear regression model:\n",
        "* Define a linear regression model, remembering to set `fit_intercept` to False\n",
        "* Train the model using the training data\n",
        "* Predict the values of the test set and store the predictions for later use"
      ],
      "metadata": {
        "id": "p5U-lr8Roh_g"
      }
    },
    {
      "cell_type": "code",
      "source": [],
      "metadata": {
        "id": "eMRG7pehnZTh"
      },
      "execution_count": null,
      "outputs": []
    },
    {
      "cell_type": "markdown",
      "source": [
        "Now let's define a function that will calculate the mean-squared error between two data sets."
      ],
      "metadata": {
        "id": "9ZSyW0ussdW-"
      }
    },
    {
      "cell_type": "code",
      "source": [
        "def mse (A,B):\n",
        "    return np.average((A-B)**2)"
      ],
      "metadata": {
        "id": "b_LLD9hgnpMf"
      },
      "execution_count": null,
      "outputs": []
    },
    {
      "cell_type": "markdown",
      "source": [
        "**Problem 6:** Using the MSE function defined above, calculate the MSE between the test data set and the predictions. Based in the MSE, is the machine learning model a good match for the data?"
      ],
      "metadata": {
        "id": "QwD8I4KTsloF"
      }
    },
    {
      "cell_type": "code",
      "source": [],
      "metadata": {
        "id": "sJ9L8OcgnumM"
      },
      "execution_count": null,
      "outputs": []
    },
    {
      "cell_type": "markdown",
      "source": [],
      "metadata": {
        "id": "g1W8Ia5ms1nv"
      }
    },
    {
      "cell_type": "markdown",
      "source": [
        "**Problem 7:**. Finally, graph the test data set and the predicted data set as a function of time (remember that the y component of each data set is acceleration).  Make sure you have a legend on your graph and label the x and y axes."
      ],
      "metadata": {
        "id": "MIj7BEnss1y6"
      }
    },
    {
      "cell_type": "code",
      "source": [],
      "metadata": {
        "id": "2qECXxhunxb9"
      },
      "execution_count": null,
      "outputs": []
    },
    {
      "cell_type": "markdown",
      "source": [
        "Finally, let's extract the linear regression weights to see if we can extract the mass of the star."
      ],
      "metadata": {
        "id": "g4fMQ-IVvKjb"
      }
    },
    {
      "cell_type": "code",
      "source": [
        "weight = LiR.coef_"
      ],
      "metadata": {
        "id": "CE3Bp2hBoM8v"
      },
      "execution_count": null,
      "outputs": []
    },
    {
      "cell_type": "markdown",
      "source": [
        "**Problem 8:** Finally, perform a mathematical operation on the linear regression weight to recover the mass of the star.  Remember that G = 6.67x10$^{-11}$ $\\frac{N m^2}{kg^2}$.  The mass of the star used in the simulation to create the data set is 8x10$^{28}$.  How close is your result?"
      ],
      "metadata": {
        "id": "HEMp_5dWphCz"
      }
    },
    {
      "cell_type": "code",
      "source": [
        "weight/6.67e-11"
      ],
      "metadata": {
        "id": "o4qtMT2qoRQg"
      },
      "execution_count": null,
      "outputs": []
    },
    {
      "cell_type": "markdown",
      "source": [
        "## Practice What You Have Learned\n",
        "\n",
        "Let's assume that we have a system that contains two objects, object 1 (mass = $m_1$, location = $\\vec{r}_1$) and object 2 (mass = $m_2$, location = $\\vec{r}_2$).  These two objects have a strange interaction but after much study we have been able to determine that the force on object 1 caused by object 2 can be modelled by the following equation:\n",
        "\n",
        "$$\\vec{F}_{12} = \\frac{m_1^2m_2}{(\\vec{r}_2-\\vec{r}_1)^3} + \\frac{m_1}{m_2}(\\vec{r}_2-\\vec{r}_1)$$\n",
        "\n",
        "Unfortunately, we have not been able to determine their masses. However, we have been able to record their relative positions and the acceleration of the first object. Using this information, you are asked to determine the mass of the two objects. "
      ],
      "metadata": {
        "id": "ebpbRbJM302A"
      }
    },
    {
      "cell_type": "markdown",
      "source": [
        "a. Before we begin coding, we need to develop a theoretical model to try to match.  Using the above force equation and Newton's second law, write an equation that relates the acceleration of object 1 to the relative distance between the two objects."
      ],
      "metadata": {
        "id": "to4_1ouI--GL"
      }
    },
    {
      "cell_type": "markdown",
      "source": [],
      "metadata": {
        "id": "z4k7EHkI--JD"
      }
    },
    {
      "cell_type": "markdown",
      "source": [
        "b. Using your equation from part a and the equation for linear regression ($\\hat{y} = X\\theta$), figure out which values correspond to $\\hat{y}$, X, and $\\theta$."
      ],
      "metadata": {
        "id": "KiZrTomYwYoZ"
      }
    },
    {
      "cell_type": "markdown",
      "source": [],
      "metadata": {
        "id": "_Dmoy5uWwY5B"
      }
    },
    {
      "cell_type": "markdown",
      "source": [
        "c. The data for this problem is stored in `data_notebook_2_objects`.  Import the data as a Pandas dataframe and print the first few lines.  The columns, in order, are: the time (in seconds), the acceleration of object 2 (m/s$^2$), the velocity of object 2 (m/s), and the relative position between the two objects (i.e. r$_2$ - r$_1$, measured in m).  Extract these columns each as a separate NumPy array and save them with useful names."
      ],
      "metadata": {
        "id": "N7emccOivd7d"
      }
    },
    {
      "cell_type": "code",
      "source": [],
      "metadata": {
        "id": "qPli7ns87lPE"
      },
      "execution_count": null,
      "outputs": []
    },
    {
      "cell_type": "markdown",
      "source": [
        "d. Create a design matrix X using the imported data that corresponds to your answers to parts a and b. "
      ],
      "metadata": {
        "id": "2d8aN5nlwRuX"
      }
    },
    {
      "cell_type": "code",
      "source": [],
      "metadata": {
        "id": "Y8dimVzbxTfx"
      },
      "execution_count": null,
      "outputs": []
    },
    {
      "cell_type": "markdown",
      "source": [
        "e. Using the function `train_test_split` from Scikit-Learn, split your data into a training set and a test set. Use 20% of the data as the test data set."
      ],
      "metadata": {
        "id": "eRL8x9tfxTqq"
      }
    },
    {
      "cell_type": "code",
      "source": [],
      "metadata": {
        "id": "cHLkFJvfyJKX"
      },
      "execution_count": null,
      "outputs": []
    },
    {
      "cell_type": "markdown",
      "source": [
        "f. Using Scikit-Learn's linear regression model:\n",
        "* Define a linear regression model, remembering to set `fit_intercept` to False\n",
        "* Train the model using the training data\n",
        "* Predict the values of the test set and store the predictions for later use"
      ],
      "metadata": {
        "id": "ebqNf5x8yJcW"
      }
    },
    {
      "cell_type": "code",
      "source": [],
      "metadata": {
        "id": "_j3Aon9e73d3"
      },
      "execution_count": null,
      "outputs": []
    },
    {
      "cell_type": "markdown",
      "source": [
        "g. Calculate the MSE error between the test data set and the predicted data set.  Based on this error, is the machine learning model a good fit for the data?"
      ],
      "metadata": {
        "id": "_1RWF6c2ymx0"
      }
    },
    {
      "cell_type": "code",
      "source": [],
      "metadata": {
        "id": "FuKFK1WA8gYt"
      },
      "execution_count": null,
      "outputs": []
    },
    {
      "cell_type": "markdown",
      "source": [],
      "metadata": {
        "id": "vs1lfq1Pyw9P"
      }
    },
    {
      "cell_type": "markdown",
      "source": [
        "h. Plot the predicted and test data sets on the same graph as a function of time.  Make sure you label your axes and add a legend."
      ],
      "metadata": {
        "id": "uK3wlY5TyxGp"
      }
    },
    {
      "cell_type": "code",
      "source": [],
      "metadata": {
        "id": "IMOQs9fm8j-S"
      },
      "execution_count": null,
      "outputs": []
    },
    {
      "cell_type": "markdown",
      "source": [
        "i. Extract the linear regression weights and use them to extract m$_1$ and m$_2$.  The values of m$_1$ and m$_2$ used to generate the data were 5kg and 7kg respectively.  How close were your answers?"
      ],
      "metadata": {
        "id": "_tRCGfu6zMYv"
      }
    },
    {
      "cell_type": "code",
      "source": [],
      "metadata": {
        "id": "WbzworSL8lEO"
      },
      "execution_count": null,
      "outputs": []
    },
    {
      "cell_type": "markdown",
      "source": [],
      "metadata": {
        "id": "w_wLI295zi_d"
      }
    }
  ]
}