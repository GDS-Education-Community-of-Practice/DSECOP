{
 "cells": [
  {
   "cell_type": "markdown",
   "id": "ac87ddbf-b9d9-4123-8ed0-505a3ff023ea",
   "metadata": {},
   "source": [
    "# Searching for New Particle Resonances\n",
    "\n",
    "*Students will “discover” a new particle by characterising a resonant bump in the invariant mass distribution from a set of simulated particle collisions.*\n",
    "\n",
    "**Topics: data processing (raw data → histograms), curve fitting, regression Relevant packages: NumPy, SciPy, Matplotlib**"
   ]
  },
  {
   "cell_type": "markdown",
   "id": "995b3c3f-fadb-4977-92af-12edfe657ddf",
   "metadata": {},
   "source": [
    "Students will be provided with a simulated dataset coming from a $pp \\rightarrow X(\\rightarrow ab)cd$ decay. The dataset will consist of a list the daughter particles' 4-momenta and charges. Students will plot the invariant mass of the mother particle and observe by eye a resonant “bump” corresponding to the mother particle.\n",
    "\n",
    "Students will then write their own regression-based curve-fitting code to fit the background and resonant distributions, thus determining the mother particle mass and decay width. For a more particle physics-specific tangent, students might look into common curve-fit functions (i.e. Gaussian, Landau, Crystal Ball) and understand when a given functional form is most useful. Once students are happy with the performance of their curve-fitting tool, they will redo the analysis using scipy.optimize (which is a useful module for them to know for future research analyses)."
   ]
  },
  {
   "cell_type": "code",
   "execution_count": 2,
   "id": "8f3a1877-1301-4495-8ecc-abe7b36ca048",
   "metadata": {},
   "outputs": [],
   "source": [
    "import numpy as np\n",
    "import matplotlib.pyplot as plt\n",
    "\n",
    "path_to_data = \"test.txt\""
   ]
  },
  {
   "cell_type": "markdown",
   "id": "482f0513-9256-4b62-922a-3a47f25a533f",
   "metadata": {},
   "source": [
    "# 1\n",
    "\n",
    "First, write a python function that will read in the particle collision data from the provided text file.\n",
    "\n",
    "The first few lines of the data file will look something like:\n",
    "\n",
    "```\n",
    "E px py pz charge\n",
    "\n",
    "<event>\n",
    "1.27893787226 -0.967943427485 -0.196782063814 0.4972631904 1\n",
    "0.65484957674 0.0799580860542 0.085630174222 0.621646982287 -1\n",
    "1.07972424322 -0.634807604926 -0.394274396233 -0.750563397282 -1\n",
    "1.73527280522 1.42962557946 0.48622159803 -0.272846669269 1\n",
    "</event>\n",
    "\n",
    "```\n",
    "\n",
    "The very first line of the file is a header telling you what information is provided for each particle.\n",
    "\n",
    "Collision events begin with a line ```<event>``` and end with a line ```</event>```. Each line in a given event represents a particle."
   ]
  },
  {
   "cell_type": "code",
   "execution_count": 3,
   "id": "2bda4108-f32d-4d03-9f0f-c4a59607bc26",
   "metadata": {},
   "outputs": [],
   "source": [
    "# Write your function here\n",
    "\n",
    "def read_in_particle_data(path_to_file):\n",
    "\n",
    "    \"\"\"\n",
    "    INPUTS:\n",
    "    \n",
    "    filename: a string containing the absolute filepath to the collision dataset\n",
    "    \n",
    "    **********\n",
    "    **********\n",
    "    \n",
    "    OUTPUTS: \n",
    "    \n",
    "    dict_of_events: a dictionary of the collision events of the form {event_id: [p4_a, p4_b, p4_c, p4_d]}\n",
    "                        Each p4_i is a list of floats containing the 4-momenta and charge [E, px, py, pz, charge]\n",
    "    \n",
    "    \"\"\"\n",
    "          "
   ]
  },
  {
   "cell_type": "code",
   "execution_count": 4,
   "id": "86371970-39b5-4663-a7c1-0b87e59528db",
   "metadata": {},
   "outputs": [],
   "source": [
    "# Execute your function here"
   ]
  },
  {
   "cell_type": "markdown",
   "id": "bc085954-f231-45f3-a635-732c94140b9f",
   "metadata": {},
   "source": [
    "# 2\n",
    "\n",
    "Now, we need to get a sense of what our dataset looks like! How energetic are the particles? Are they distributed relatively evenly in momentum space? What symmetries do these collision events seem to obey?\n",
    "\n",
    "Plot histograms of the energy and momenta of the daughter particles. Comment briefly on their distributions (perhaps address the three questions in the previous line).\n",
    "\n",
    "Note: we're going to be making a lot of histograms in this notebook. It might be useful to write a function that can quickly make nice-looking histograms so you don't have to explicitly type out the same formatting-related lines multiple times.\n"
   ]
  },
  {
   "cell_type": "code",
   "execution_count": 5,
   "id": "74137f11-a913-4260-9127-006ded9c259a",
   "metadata": {},
   "outputs": [],
   "source": [
    "# Write your plotting function here\n",
    "    \n",
    "def plot_histogram(observables, bins, xlabel):\n",
    "\n",
    "    \"\"\"\n",
    "    INPUTS:\n",
    "    \n",
    "    observables: a list of floats (or ints) containing the data to be histogrammed\n",
    "    \n",
    "    bins: a np.array containing the histogram bin edges\n",
    "    \n",
    "    xlabel: a string of the histogram x-axis label\n",
    "    \n",
    "    **********\n",
    "    **********\n",
    "    \n",
    "    OUTPUTS: \n",
    "    \n",
    "    None\n",
    "    \n",
    "    \"\"\"\n",
    "\n"
   ]
  },
  {
   "cell_type": "markdown",
   "id": "646f4f92-d3bf-4d9f-b0c8-35ee495770e0",
   "metadata": {},
   "source": [
    "Most particle physics analyses do not use $E$, $p_x$, $p_y$, and $p_z$ as the variables for analysis. Instead, it is easier to analyze the variables $p_T$ (the momentum component transverse to the beam axis), $y$ (rapidity), and $\\phi$.\n",
    "\n",
    "Created histograms of these three variables. (You will may have to look up the definitions of these variables in terms of the Cartesian 4-momenta). Comment briefly on their distributions."
   ]
  },
  {
   "cell_type": "code",
   "execution_count": 5,
   "id": "f9d33d38-ab72-478d-99a7-6676e25aa2a1",
   "metadata": {},
   "outputs": [],
   "source": [
    "# Write your function here\n",
    "\n",
    "def calculate_coords(event):\n",
    "    \n",
    "    \"\"\"\n",
    "    INPUTS:\n",
    "    \n",
    "    event: a list of lists [p4_a, p4_b, p4_c, p4_d] corresponding to a given collision event.\n",
    "            Each p4_i is a list of floats containing the 4-momenta and charge [E, px, py, pz, charge]\n",
    "    \n",
    "    **********\n",
    "    **********\n",
    "    \n",
    "    OUTPUTS: \n",
    "    \n",
    "    collision_pT: a list of the transverse momenta for each of the daughter particles\n",
    "                    collision_y, collision_phi are defined similarly\n",
    "    \n",
    "    \n",
    "    \"\"\"\n"
   ]
  },
  {
   "cell_type": "code",
   "execution_count": 6,
   "id": "89385009-8e81-465e-a137-ccf9b103e7c6",
   "metadata": {},
   "outputs": [
    {
     "data": {
      "image/png": "[encoded data removed]",
      "text/plain": [
       "<Figure size 432x288 with 1 Axes>"
      ]
     },
     "metadata": {
      "needs_background": "light"
     },
     "output_type": "display_data"
    },
    {
     "data": {
      "image/png": "[encoded data removed]",
      "text/plain": [
       "<Figure size 432x288 with 1 Axes>"
      ]
     },
     "metadata": {
      "needs_background": "light"
     },
     "output_type": "display_data"
    },
    {
     "data": {
      "image/png": "[encoded data removed]",
      "text/plain": [
       "<Figure size 432x288 with 1 Axes>"
      ]
     },
     "metadata": {
      "needs_background": "light"
     },
     "output_type": "display_data"
    }
   ],
   "source": [
    "# Write your plotting code here\n"
   ]
  },
  {
   "cell_type": "markdown",
   "id": "c30704e5-513a-4361-997f-365d049d9bfe",
   "metadata": {},
   "source": [
    "# 3 \n",
    "\n",
    "Now we want to calculate the mass of the resonant particle $X$ that was produced in the collision event. However, we don't know which two of the four particles in each event decayed from $X$. We do, however, know that $X$ is a neutral particle.\n",
    "\n",
    "For every valid combination of daughter particles that could have come from a decay of $X$, calculate the hypothetical mass of $X$. Then plot a histgram of all of the invariant masses and make a guess at what the true mass of $X$ is."
   ]
  },
  {
   "cell_type": "code",
   "execution_count": 7,
   "id": "8f014168-9aed-48ca-a3f5-37aeff033cf8",
   "metadata": {},
   "outputs": [],
   "source": [
    "# Write your functions here\n",
    "\n",
    "def calculate_m2(particle1, particle2):\n",
    "    \n",
    "    \"\"\"\n",
    "    INPUTS:\n",
    "    \n",
    "    particle1: a list [E, px, py, pz] of 4-momentum components \n",
    "    particle2: a list [E, px, py, pz] of 4-momentum components \n",
    "    \n",
    "    **********\n",
    "    **********\n",
    "    \n",
    "    OUTPUTS: \n",
    "    \n",
    "    m: A float of the invariant mass of a hypothetical mother particle that could have decayed into particle1 + particle2\n",
    "    \n",
    "    \"\"\"\n",
    "    \n",
    "        \n",
    "\n",
    "def get_event_invariant_masses(event):\n",
    "    \n",
    "    \"\"\"\n",
    "    INPUTS:\n",
    "    \n",
    "    event: a list of 4-momenta\n",
    "    \n",
    "    **********\n",
    "    **********\n",
    "    \n",
    "    OUTPUTS: \n",
    "    \n",
    "    masses: a list of the hypothetical invariant masses of the particle X\n",
    "    \n",
    "    \"\"\"\n",
    "         \n",
    "\n"
   ]
  },
  {
   "cell_type": "code",
   "execution_count": 8,
   "id": "13bc00f5-afc7-48fb-bde6-78f1444f3510",
   "metadata": {},
   "outputs": [],
   "source": [
    "# Execute your code here\n",
    "    \n"
   ]
  },
  {
   "cell_type": "markdown",
   "id": "64989999-0ac4-417e-af93-471bb6172cd6",
   "metadata": {},
   "source": [
    "# 4\n",
    "\n",
    "Of course, estimating $m_X$ by eye is not at all rigorous. We should curve fit the invariant mass distribution, then extract the mean of the fit curve. \n",
    "\n",
    "We're going to use ```scipy.optimize.curvefit``` to do this.\n",
    "\n",
    "We'll start by defining the form of the curve that we want to fit to the invariant mass distribution. In the vast majority of such cases in particle physics, we can approximate the \"bump\" corresponding to the resonant particle by a Gaussian, and the background by an exponential decay.\n",
    "\n",
    "Define a function for this distribution below. \n",
    "\n",
    "As a starting hint: your \"background\" fit exponential should have the form $f(m) = N_b \\times e^{-\\alpha m}$. There are two free parameters: $N_b$ is a normalization constant, and $\\alpha$ is the decay constant."
   ]
  },
  {
   "cell_type": "code",
   "execution_count": 10,
   "id": "3607adab-6e37-4719-ab64-54c9d27b232e",
   "metadata": {},
   "outputs": [],
   "source": [
    "# Write your functions here\n",
    "\n",
    "def gaussian():\n",
    "    \n",
    "    \n",
    "def exponential():\n",
    "\n",
    "\n",
    "def model_fit():\n",
    "   "
   ]
  },
  {
   "cell_type": "markdown",
   "id": "ed705360-c316-411a-af80-b7cda6f3d4dc",
   "metadata": {},
   "source": [
    "Now we need to extract the $x$- (invariant mass $m_X$) and $y$- (Counts) coordinates of the curve that we want ```scipy.optimize``` to fit to. Write a function to do so below.\n",
    "\n",
    "Note: you will probably find that the leftmost bin edge should *not* be at $m = 0$ in order for the Gaussian + exponential fit function to be applicable."
   ]
  },
  {
   "cell_type": "code",
   "execution_count": 11,
   "id": "9778fe7c-096d-4d67-87c5-7b937975f27f",
   "metadata": {},
   "outputs": [],
   "source": [
    "# Write your function here\n",
    "\n",
    "def extract_curve_from_histgram(observables, bin_edges):\n",
    "    \n",
    "    \"\"\"\n",
    "    INPUTS:\n",
    "    \n",
    "    observables: a list of floats (or ints) containing the data to be histogrammed\n",
    "    \n",
    "    bins: a np.array containing the histogram bin edges\n",
    "    \n",
    "    **********\n",
    "    **********\n",
    "    \n",
    "    OUTPUTS: \n",
    "    \n",
    "    bin_centers: a np.array of the bin \n",
    "    \n",
    "    counts_y_data: a np.array of the histogram counts for each bin\n",
    "    \n",
    "    \"\"\"\n",
    "  \n"
   ]
  },
  {
   "cell_type": "code",
   "execution_count": null,
   "id": "9cda021a-4bfc-414e-a650-8f0e9e3a9a2d",
   "metadata": {},
   "outputs": [],
   "source": [
    "# Execute your code here"
   ]
  },
  {
   "cell_type": "markdown",
   "id": "9735df86-4483-4fd4-876f-3026bba8d8df",
   "metadata": {},
   "source": [
    "Finally, use ```scipy.optimize.curve_fit``` to fit the histogram data to the model function. Make a plot contaning both the histogram for $m_X$, and the best-fit model function found by ```scipy.optimize.curve_fit```. Also print out the best-fit value for $m_X$ along with the uncertainty on the measurement. "
   ]
  },
  {
   "cell_type": "code",
   "execution_count": 12,
   "id": "88af6117-d0ee-4518-9f19-0816a8f2677f",
   "metadata": {},
   "outputs": [
    {
     "data": {
      "image/png": "[encoded data removed]",
      "text/plain": [
       "<Figure size 432x288 with 1 Axes>"
      ]
     },
     "metadata": {
      "needs_background": "light"
     },
     "output_type": "display_data"
    },
    {
     "name": "stdout",
     "output_type": "stream",
     "text": [
      "Best estimate for $m_X$: 2.49009815817 +/- 0.00352873881579 GeV\n"
     ]
    }
   ],
   "source": [
    "from scipy.optimize import curve_fit\n",
    "\n",
    "# Write your code here\n"
   ]
  },
  {
   "cell_type": "markdown",
   "id": "491a5e2d-d96f-4f69-ac8c-4f1fe9d4d837",
   "metadata": {},
   "source": [
    "# 5\n",
    "\n",
    "As mentioned above, the vast majority of particle resonances can be modeled by a Gaussian. However, other functional forms for \"bumps\" exist that better model lossy processes (i.e. those where the tail of the distribution doesn't fall off as sharply as it does for a Gaussian).\n",
    "\n",
    "Repeat the above curve fitting analysis, but swap out the Gaussian signal function with a Crystal Ball distribution. Comment on the \"goodness\" of the fit with a Crystal Ball distribution compared with that of a Gaussian.\n",
    "\n"
   ]
  },
  {
   "cell_type": "code",
   "execution_count": 13,
   "id": "ecd6fc65-5fce-4af8-a240-831b7c9b2c5a",
   "metadata": {},
   "outputs": [],
   "source": [
    "# Write your functions here\n",
    "\n",
    "def CB():\n",
    "   \n",
    " \n",
    "\n",
    "def model_fit_CB():\n",
    "    \n",
    "    \n"
   ]
  },
  {
   "cell_type": "code",
   "execution_count": 15,
   "id": "844788d3-2405-4b7b-8008-86a5e7ae0040",
   "metadata": {},
   "outputs": [
    {
     "name": "stderr",
     "output_type": "stream",
     "text": [
      "/global/common/cori/software/python/3.6-anaconda-5.2/lib/python3.6/site-packages/IPython/kernel/__main__.py:8: RuntimeWarning: invalid value encountered in double_scalars\n",
      "/global/common/cori/software/python/3.6-anaconda-5.2/lib/python3.6/site-packages/IPython/kernel/__main__.py:8: RuntimeWarning: overflow encountered in double_scalars\n"
     ]
    },
    {
     "data": {
      "image/png": "[encoded data removed]",
      "text/plain": [
       "<Figure size 432x288 with 1 Axes>"
      ]
     },
     "metadata": {
      "needs_background": "light"
     },
     "output_type": "display_data"
    },
    {
     "name": "stdout",
     "output_type": "stream",
     "text": [
      "Best estimate for $m_X$: 2.51329465428 +/- 0.00339418948205 GeV\n"
     ]
    }
   ],
   "source": [
    "# Write your code here\n",
    "\n"
   ]
  },
  {
   "cell_type": "code",
   "execution_count": null,
   "id": "36a063f8-fa2d-44e8-aa37-575863682a5e",
   "metadata": {},
   "outputs": [],
   "source": []
  },
  {
   "cell_type": "code",
   "execution_count": null,
   "id": "8a4d9f9c-d722-4b50-be3e-36b660f093f0",
   "metadata": {},
   "outputs": [],
   "source": []
  }
 ],
 "metadata": {
  "kernelspec": {
   "display_name": "PyROOT - Python3",
   "language": "python",
   "name": "pyroot3"
  },
  "language_info": {
   "codemirror_mode": {
    "name": "ipython",
    "version": 3
   },
   "file_extension": ".py",
   "mimetype": "text/x-python",
   "name": "python",
   "nbconvert_exporter": "python",
   "pygments_lexer": "ipython3",
   "version": "3.6.8"
  }
 },
 "nbformat": 4,
 "nbformat_minor": 5
}
