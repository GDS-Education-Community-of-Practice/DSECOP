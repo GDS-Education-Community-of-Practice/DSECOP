{
 "cells": [
  {
   "cell_type": "markdown",
   "metadata": {},
   "source": [
    "<a href=\"https://colab.research.google.com/github/GDS-Education-Community-of-Practice/DSECOP/blob/main/Spectral_Clustering/03_Kmeans.ipynb\" target=\"_parent\"><img src=\"https://colab.research.google.com/assets/colab-badge.svg\" alt=\"Open In Colab\"/></a>\n",
    "\n",
    "# Part 3: K-means\n",
    "\n",
    "## K-means\n",
    "\n",
    "We have already seen that we could embed the particles or data points into a space by their similiarity measure. The embedding has the property that points with high similarity are put closer. In two dimensional embedding, we could tell the groupping by eyes but what about in high dimensional embedding? Could we find a proper way to group the embedded points automatically? \n",
    "\n",
    "There are many methods available, such as Gaussian mixture models, hierarchical clustering etc. Here we introduce the simplest one, the K-means. We use the simple clustering method because we already embed the particles in a space with convenient property and we expect the clustering in the embedding space will be straightforward. \n",
    "\n",
    "Consider we have $n$ data points and we want to cluster them into $C$ clusters. The K-means algorithm is as follows.\n",
    "\n",
    "1. Given a cluster assignment $(C_1, C_2, \\dots, C_n)$ for the $n$ data points, compute the mean or centroid of each clusters $(m_1,\\dots, m_K)$. \n",
    "2. Update the cluster assignment to the data points by the nearest center.\n",
    "3. repeat step 1 and 2 until the assignment does not change any more\n",
    "\n",
    "This method is intuitive: if a point belongs to a certain cluster $C_i$, it should be closer to the center of $C_i$ than any other cluster centers. \n"
   ]
  },
  {
   "cell_type": "markdown",
   "metadata": {},
   "source": [
    "## The K-means Class\n",
    "\n",
    "We could write a simple class to run the K-means algorithm for given data points. We would build the class by three parts: initialize, fit and predict. The initialize function just specify some property of the class. The fit function should compute the cluster centroids and the predict function would assign clusters to any given data points.\n"
   ]
  },
  {
   "cell_type": "code",
   "execution_count": 1,
   "metadata": {},
   "outputs": [],
   "source": [
    "import numpy as np\n",
    "\n",
    "class KMeans:\n",
    "    def __init__(self, n_clusters):\n",
    "        self.n_clusters = n_clusters\n",
    "        \n",
    "    def fit(self, data, max_iter = 100):\n",
    "        \n",
    "        assign = [i for i in range(self.n_clusters)]*(data.shape[0]//self.n_clusters)\n",
    "        assign += list(np.random.choice(np.arange(self.n_clusters), size=data.shape[0] - len(assign)))\n",
    "        assign = np.array(assign)\n",
    "        np.random.shuffle(assign)\n",
    "        \n",
    "        means = np.zeros(shape=(self.n_clusters, data.shape[1]))\n",
    "        it = 0\n",
    "        while it < max_iter:\n",
    "            it +=1\n",
    "            for k in range(self.n_clusters):\n",
    "                #print (np.mean(data[assign == k,:], axis=0).shape)\n",
    "                means[k,:] = np.mean(data[assign == k,:], axis = 0)\n",
    "            \n",
    "            dists = np.sum( (data[:,None, :] - means[None,:,:])**2, axis = -1)\n",
    "            new_assign = np.argmin(dists, axis = -1)\n",
    "            if np.sum(new_assign != assign) ==0 :\n",
    "                break\n",
    "            assign[:] = new_assign[:]\n",
    "            \n",
    "        self.means = means\n",
    "    \n",
    "        return self\n",
    "    \n",
    "    def predict(self, data):\n",
    "        \n",
    "        dists = np.sum( (data[:,None, :] - self.means[None,:,:])**2, axis = -1)\n",
    "        assign = np.argmin(dists, axis = -1)\n",
    "        return assign     "
   ]
  },
  {
   "cell_type": "markdown",
   "metadata": {},
   "source": [
    "We could test our K-means function and see whether it will work on simple problems. Here, we generate data with three clusters. Each cluster is from a two dimensional gaussian distribution. The first cluster has distribution $\\mathcal{N}((5,5), I)$, the second cluster has distribution $\\mathcal{N}((0,0), I)$ and the last cluster has distribution $\\mathcal{N}((-5,5), I)$. We can draw it easily."
   ]
  },
  {
   "cell_type": "code",
   "execution_count": 2,
   "metadata": {},
   "outputs": [
    {
     "data": {
      "text/plain": [
       "<matplotlib.collections.PathCollection at 0x1198219d0>"
      ]
     },
     "execution_count": 2,
     "metadata": {},
     "output_type": "execute_result"
    },
    {
     "data": {
      "image/png": "[encoded data removed]",
      "text/plain": [
       "<Figure size 432x288 with 1 Axes>"
      ]
     },
     "metadata": {
      "needs_background": "light"
     },
     "output_type": "display_data"
    }
   ],
   "source": [
    "import matplotlib.pyplot as plt\n",
    "\n",
    "data1 = np.random.multivariate_normal([5.0,5.0], np.eye(2), size=20)\n",
    "data2 = np.random.multivariate_normal([0.0,0.0], np.eye(2), size=20)\n",
    "data3 = np.random.multivariate_normal([-5.0,5.0], np.eye(2), size=20)\n",
    "\n",
    "data = np.concatenate([data1,data2,data3], axis = 0)\n",
    "plt.scatter(data[:,0], data[:,1])\n"
   ]
  },
  {
   "cell_type": "markdown",
   "metadata": {},
   "source": [
    "Then, we could do the K-means algorithm to clustering the data. We should definitely use $3$ clusters. "
   ]
  },
  {
   "cell_type": "code",
   "execution_count": 3,
   "metadata": {},
   "outputs": [
    {
     "data": {
      "text/plain": [
       "<matplotlib.axes._subplots.AxesSubplot at 0x119897790>"
      ]
     },
     "execution_count": 3,
     "metadata": {},
     "output_type": "execute_result"
    },
    {
     "data": {
      "image/png": "[encoded data removed]",
      "text/plain": [
       "<Figure size 432x288 with 1 Axes>"
      ]
     },
     "metadata": {
      "needs_background": "light"
     },
     "output_type": "display_data"
    }
   ],
   "source": [
    "km = KMeans(3)\n",
    "km.fit(data)\n",
    "cluster_assign = km.predict(data)\n",
    "\n",
    "def plot_clustering(data, assign, ax = None):\n",
    "    n = np.max(assign)+1\n",
    "    if ax is None:\n",
    "        ax = plt.gca()\n",
    "    for i in range(n):\n",
    "        ax.scatter(data[assign==i,0], data[assign==i,1], marker=f\"${i+1}$\", s = 20*5 )\n",
    "    return ax\n",
    "\n",
    "plot_clustering(data, cluster_assign)"
   ]
  },
  {
   "cell_type": "markdown",
   "metadata": {},
   "source": [
    "In the plot, data points are plotted by the cluster assignment. We could see that the points closer to each other possess same labeling and this indicates that the K-means algorithm works well. "
   ]
  }
 ],
 "metadata": {
  "kernelspec": {
   "display_name": "Python 3 (ipykernel)",
   "language": "python",
   "name": "python3"
  },
  "language_info": {
   "codemirror_mode": {
    "name": "ipython",
    "version": 3
   },
   "file_extension": ".py",
   "mimetype": "text/x-python",
   "name": "python",
   "nbconvert_exporter": "python",
   "pygments_lexer": "ipython3",
   "version": "3.9.7"
  }
 },
 "nbformat": 4,
 "nbformat_minor": 4
}
