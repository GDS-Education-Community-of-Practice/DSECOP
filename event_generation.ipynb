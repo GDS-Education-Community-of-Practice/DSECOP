{
 "cells": [
  {
   "cell_type": "markdown",
   "id": "6b36657a-94f2-44de-8dd6-c9aa4033fd7a",
   "metadata": {},
   "source": [
    "# APS DSECOP Module #4 dataset generation\n",
    "\n",
    "This script generates a set of $pp \\rightarrow X(\\rightarrow ab)cd$ events, then outputs them to a text file in a user-readable format.\n",
    "\n",
    "We assume that particles $a$ and $c$ have a charge of $+1$ and particles $b$ and $d$ have a charge of $-1$.\n",
    "\n",
    "\n",
    "Steps:\n",
    "\n",
    "- Use $\\texttt{ROOT.TGenPhaseSpace()}$ to generate the decay\n",
    "\n",
    "- Simulate the detector inefficiency by rescaling all components of the daughter particle 4-momenta by a random number $\\sim < 1$\n",
    "\n",
    "- Output the daughter momenta (in a random order) to a .txt file\n"
   ]
  },
  {
   "cell_type": "code",
   "execution_count": 1,
   "id": "20291382-77b5-48f4-bea9-5aebb43ae7b4",
   "metadata": {},
   "outputs": [
    {
     "name": "stdout",
     "output_type": "stream",
     "text": [
      "Welcome to JupyROOT 6.18/00\n"
     ]
    }
   ],
   "source": [
    "# imports\n",
    "\n",
    "import ROOT \n",
    "import ROOT.TMath as rm\n",
    "from array import array\n",
    "import numpy as np\n",
    "import matplotlib.pyplot as plt"
   ]
  },
  {
   "cell_type": "markdown",
   "id": "2402b0da-dd84-407b-b0ee-d9ad77d13b37",
   "metadata": {},
   "source": [
    "First, a function to simulate the resonant decay.\n",
    "\n",
    "Note: the $\\texttt{ROOT.TGenPhaseSpace()}$ class gives each decay a weight. For now, we're going to pretend all of the weights are 1. This will slightly change the output distributions from what is physically correct, but not so much that we can't do a realistic fit to an invariant mass distribution."
   ]
  },
  {
   "cell_type": "code",
   "execution_count": 2,
   "id": "17a24e11-ffd6-43eb-b394-ebc96c4b16ad",
   "metadata": {},
   "outputs": [],
   "source": [
    "def simulateResonantDecay(m_X, m_products, COM_energy, randomSeed=-1):\n",
    "    \n",
    "    \"\"\"\n",
    "    INPUTS:\n",
    "    \n",
    "    m_X: float of the mass of the resonant particle X in GeV\n",
    "    \n",
    "    m_products: array [m_a, m_b, m_c, m_d] containing floats of the mass of the daughter particles in GeV\n",
    "    \n",
    "    COM_energy: float of the COM collision energy in GeV\n",
    "    \n",
    "    **********\n",
    "    **********\n",
    "    \n",
    "    OUTPUTS: \n",
    "    \n",
    "    p4_a, p4_b, p4_c, p4_d: ROOT.TLorentzVectors for the daughter particles\n",
    "    \n",
    "    \"\"\"\n",
    "    \n",
    "    [m_a, m_b, m_c, m_d] = m_products\n",
    "    \n",
    "    # The initial collision energy, in the COM frame \n",
    "    p4_init = ROOT.TLorentzVector(0, 0, 0, COM_energy) \n",
    "    weight = 1.0\n",
    "    \n",
    "    if (randomSeed >= 0):\n",
    "        ROOT.gRandom.SetSeed(randomSeed)\n",
    "           \n",
    "    # Create the first TGenPhaseSpace class\n",
    "    # This is for the decay pp -> Xcd\n",
    "    event = ROOT.TGenPhaseSpace()\n",
    "    daughters_array = array(\"d\",[m_X, m_c, m_d])\n",
    "    passed = event.SetDecay(p4_init, 3, daughters_array)\n",
    "    if not passed:\n",
    "        print(\"ERROR: Decay Failed\")\n",
    "    weight = event.Generate()\n",
    "    \n",
    "    # Get the daughter particles\n",
    "    p4_X = event.GetDecay(0)\n",
    "    p4_c = event.GetDecay(1)\n",
    "    p4_d = event.GetDecay(2)\n",
    "    \n",
    "    # Create the second TGenPhaseSpace class\n",
    "    # This is for the decay X -> ab\n",
    "    eventX = ROOT.TGenPhaseSpace()\n",
    "    daughters_array = array(\"d\",[m_a, m_b])\n",
    "    passed = eventX.SetDecay(p4_X, 2, daughters_array)\n",
    "    if not passed:\n",
    "        print(\"ERROR: Decay Failed\")\n",
    "    # simulate the decay\n",
    "    weightX = eventX.Generate()\n",
    "    \n",
    "    # Get the daughter particles\n",
    "    p4_a = eventX.GetDecay(0)\n",
    "    p4_b = eventX.GetDecay(1)\n",
    "    \n",
    "    \n",
    "    return p4_a, p4_b, p4_c, p4_d\n"
   ]
  },
  {
   "cell_type": "markdown",
   "id": "dfc8d62a-50e6-4b30-b3ae-4cfed7a6e8dd",
   "metadata": {},
   "source": [
    "Now a function to simulate the detector response (and a function to quickly convert from $\\texttt{ROOT.TLorentzVector}$ to an array).\n",
    "\n",
    "The detector is lossy, so it will always reduce the absolute value of the 4-momentum component. "
   ]
  },
  {
   "cell_type": "code",
   "execution_count": 3,
   "id": "4bb83507-418b-438e-b332-a935e872bbf5",
   "metadata": {},
   "outputs": [],
   "source": [
    "def simulateDetector(p4_vec, loss = 0.005):\n",
    "    \n",
    "    \"\"\"\n",
    "    INPUTS:\n",
    "    \n",
    "    p4_vec: array [E, px, py, pz] containing floats of 4-momenta components in GeV\n",
    "    \n",
    "    loss: a float of the standard deviation for the detector loss function \n",
    "    \n",
    "    **********\n",
    "    **********\n",
    "    \n",
    "    OUTPUTS: \n",
    "    \n",
    "    detected_p4_vec: array [E, px, py, pz] containing floats of the \"detected\" 4-momenta components in GeV\n",
    "    \n",
    "    \"\"\"\n",
    "    \n",
    "    detector_loss = 1.0 - np.abs(np.random.normal(0,loss,4))\n",
    "    \n",
    "    detected_p4_vec = [detector_loss[i]*p4_vec[i]for i in range(4)]\n",
    "    \n",
    "    return detected_p4_vec\n",
    "   \n",
    "\n",
    "def TLorentzToList(p4_vec):\n",
    "    \n",
    "    \"\"\"\n",
    "    INPUTS:\n",
    "    \n",
    "    p4_vec: a ROOT.TLorentzVec\n",
    "    \n",
    "    **********\n",
    "    **********\n",
    "    \n",
    "    OUTPUTS: \n",
    "    \n",
    "    p4_list: list [E, px, py, pz] containing floats of the 4-momenta components \n",
    "    \n",
    "    \"\"\"\n",
    "    \n",
    "    return [p4_vec.E(), p4_vec.Px(), p4_vec.Py(), p4_vec.Pz()]\n",
    "    \n",
    "    "
   ]
  },
  {
   "cell_type": "markdown",
   "id": "02fc42e6-1ae6-401a-9d26-c31416d7ba60",
   "metadata": {},
   "source": [
    "Now run the simulution (bare decay + detector) and output the daughter particles to a file in randomized order,\n",
    "\n",
    "Feel free to modify the particle masses, COM energy, or detector lossiness."
   ]
  },
  {
   "cell_type": "code",
   "execution_count": 4,
   "id": "853cffaa-636f-4a50-90f7-14ba87efed3f",
   "metadata": {},
   "outputs": [],
   "source": [
    "#now we run the simulation\n",
    "\n",
    "outfile_path = \"test.txt\"\n",
    "\n",
    "\n",
    "def run_simuluation_and_write(mass_X, m_daughters, COM_energy, loss, NInteractions, outfile_loc):\n",
    "    \n",
    "    \"\"\"\n",
    "    INPUTS:\n",
    "    \n",
    "    mass_X: a float of the mass of the resonant particle in GeV\n",
    "    \n",
    "    m_daughters: a list of floats of the masses of the daughter particles a, b c, d in GeV\n",
    "    \n",
    "    COM_energy: a float of the CoM energy of the collision in GeV\n",
    "    \n",
    "    loss: a float of the standard deviation for the detector loss function \n",
    "    \n",
    "    NInteractions: an int for the number of collision events to simulate\n",
    "    \n",
    "    outfile_loc: a string containing the output file location\n",
    "    \n",
    "    **********\n",
    "    **********\n",
    "    \n",
    "    OUTPUTS: \n",
    "    \n",
    "    None\n",
    "    \n",
    "    \"\"\"\n",
    "\n",
    "    #set the seed\n",
    "    ROOT.gRandom.SetSeed(123)\n",
    "\n",
    "    with open(outfile_loc, \"w\") as outfile:\n",
    "        outfile.write(\"E px py pz charge\\n\\n\")\n",
    "\n",
    "\n",
    "        for i in range(NInteractions):\n",
    "\n",
    "            if i % 1000 == 0:\n",
    "                print (\"On decay\", i)\n",
    "\n",
    "            # Simulate the decay\n",
    "            p4_a, p4_b, p4_c, p4_d = simulateResonantDecay(mass_X, m_daughters, COM_energy)\n",
    "\n",
    "            # Convert the TLorentzVecs to lists and simulate the detector loss\n",
    "            p4_a = simulateDetector(TLorentzToList(p4_a),loss)\n",
    "            p4_b = simulateDetector(TLorentzToList(p4_b),loss)\n",
    "            p4_c = simulateDetector(TLorentzToList(p4_c),loss)\n",
    "            p4_d = simulateDetector(TLorentzToList(p4_d),loss)\n",
    "\n",
    "            ordered_particles = {0:p4_a, 1:p4_b, 2:p4_c, 3:p4_d}\n",
    "\n",
    "            # Write out the events in a random order\n",
    "            outfile.write(\"<event>\\n\")\n",
    "\n",
    "            line = \"\"\n",
    "\n",
    "            order = [0,1,2,3]    \n",
    "            np.random.shuffle(order)\n",
    "\n",
    "            for o in order: \n",
    "                if o % 2 == 0: # positively charged particle\n",
    "                    charge = +1\n",
    "                else: \n",
    "                    charge = -1\n",
    "                line += (str(ordered_particles[o][0]) + \" \" + str(ordered_particles[o][1]) + \" \" + str(ordered_particles[o][2]) + \" \" + str(ordered_particles[o][3]) + \" \" + str(charge) + \"\\n\")\n",
    "\n",
    "\n",
    "            outfile.write(line)\n",
    "\n",
    "            outfile.write(\"</event>\\n\")\n",
    "            outfile.write(\"\\n\")\n",
    "\n",
    "        print(\"Output file written to\", outfile_loc)\n",
    "\n",
    "\n"
   ]
  },
  {
   "cell_type": "markdown",
   "id": "eeb2812c-d499-48e1-af05-6fe91bbf3981",
   "metadata": {},
   "source": [
    "\n"
   ]
  },
  {
   "cell_type": "code",
   "execution_count": 5,
   "id": "47102a6f-00ab-438a-a284-a9be92311e7e",
   "metadata": {},
   "outputs": [
    {
     "name": "stdout",
     "output_type": "stream",
     "text": [
      "On decay 0\n",
      "On decay 1000\n",
      "On decay 2000\n",
      "On decay 3000\n",
      "On decay 4000\n",
      "On decay 5000\n",
      "On decay 6000\n",
      "On decay 7000\n",
      "On decay 8000\n",
      "On decay 9000\n",
      "Output file written to test.txt\n"
     ]
    }
   ],
   "source": [
    "NInteractions = 10000\n",
    "mass_X = 2.632 # GeV \n",
    "m_daughters = [.7,.2,.6,.3]\n",
    "\n",
    "COM_energy = 5\n",
    "loss = 0.08\n",
    "\n",
    "run_simuluation_and_write(mass_X, m_daughters, COM_energy, loss, NInteractions, outfile_path)"
   ]
  },
  {
   "cell_type": "markdown",
   "id": "93add2a0-0a88-488a-9617-0571b0277b34",
   "metadata": {},
   "source": [
    "\n"
   ]
  },
  {
   "cell_type": "code",
   "execution_count": null,
   "id": "2aa87775-2fa2-4e02-a523-45f50f2533b1",
   "metadata": {},
   "outputs": [],
   "source": []
  },
  {
   "cell_type": "markdown",
   "id": "1e4d6663-6bc2-4e50-95b7-5ba8fd096b9b",
   "metadata": {},
   "source": []
  },
  {
   "cell_type": "code",
   "execution_count": null,
   "id": "e92b4db0-e641-4b1b-8d3a-efabcd763c91",
   "metadata": {},
   "outputs": [],
   "source": []
  },
  {
   "cell_type": "code",
   "execution_count": null,
   "id": "4115a895-45be-4549-8579-0d3f219836be",
   "metadata": {},
   "outputs": [],
   "source": []
  },
  {
   "cell_type": "markdown",
   "id": "c1558f32-b076-4914-b39d-fca09335e94f",
   "metadata": {},
   "source": []
  },
  {
   "cell_type": "code",
   "execution_count": null,
   "id": "2773f58c-0570-48b6-92b4-0e4074f80819",
   "metadata": {},
   "outputs": [],
   "source": []
  },
  {
   "cell_type": "markdown",
   "id": "d98a0a84-5619-4cb6-8a1d-1503903409b7",
   "metadata": {},
   "source": []
  },
  {
   "cell_type": "code",
   "execution_count": null,
   "id": "0692a65a-a91d-4820-9491-2c6d8055855e",
   "metadata": {},
   "outputs": [],
   "source": []
  },
  {
   "cell_type": "code",
   "execution_count": null,
   "id": "f84fc2dd-b48a-4a2c-9251-1bf5fbcc3f75",
   "metadata": {},
   "outputs": [],
   "source": []
  },
  {
   "cell_type": "code",
   "execution_count": null,
   "id": "ffd59bb4-168e-4f1f-ae81-9b2b055d8a33",
   "metadata": {},
   "outputs": [],
   "source": [
    "\n"
   ]
  },
  {
   "cell_type": "code",
   "execution_count": null,
   "id": "3a1d5d3d-7bf3-4b2b-a7e6-6c5f0cac5095",
   "metadata": {},
   "outputs": [],
   "source": []
  },
  {
   "cell_type": "code",
   "execution_count": null,
   "id": "c15f41f3-182b-48c0-9c57-5b490e1a23cb",
   "metadata": {},
   "outputs": [],
   "source": []
  }
 ],
 "metadata": {
  "kernelspec": {
   "display_name": "PyROOT - Python3",
   "language": "python",
   "name": "pyroot3"
  },
  "language_info": {
   "codemirror_mode": {
    "name": "ipython",
    "version": 3
   },
   "file_extension": ".py",
   "mimetype": "text/x-python",
   "name": "python",
   "nbconvert_exporter": "python",
   "pygments_lexer": "ipython3",
   "version": "3.6.8"
  }
 },
 "nbformat": 4,
 "nbformat_minor": 5
}
