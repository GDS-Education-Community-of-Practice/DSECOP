{
  "nbformat": 4,
  "nbformat_minor": 0,
  "metadata": {
    "colab": {
      "provenance": [],
      "toc_visible": true,
      "authorship_tag": "ABX9TyNZrgiQcJsGz50wuuozo8cK",
      "include_colab_link": true
    },
    "kernelspec": {
      "name": "python3",
      "display_name": "Python 3"
    },
    "language_info": {
      "name": "python"
    }
  },
  "cells": [
    {
      "cell_type": "markdown",
      "metadata": {
        "id": "view-in-github",
        "colab_type": "text"
      },
      "source": [
        "<a href=\"https://colab.research.google.com/github/GDS-Education-Community-of-Practice/DSECOP/blob/main/Connecting_MonteCarlo_to_ModernAI/02_2D_Ising_Model.ipynb\" target=\"_parent\"><img src=\"https://colab.research.google.com/assets/colab-badge.svg\" alt=\"Open In Colab\"/></a>"
      ]
    },
    {
      "cell_type": "markdown",
      "source": [
        "# Notebook 2: 2D Ising Model\n",
        "Ashley Dale\n",
        "\n",
        "\n",
        "---\n",
        "\n",
        "\n",
        "In this notebook, you will learn the following concepts:\n",
        "*   The Ising model for ferromagnetic systems\n",
        "*   How to implement the Metropolis-Hastings algorithm for a 2D Ising Lattice\n",
        "*   How to evaluate the efficiency of your code and time the execution\n",
        "*   How to speed up your code so that you can run larger simulations using the same computational resources"
      ],
      "metadata": {
        "id": "qudgYfeHPeHj"
      }
    },
    {
      "cell_type": "markdown",
      "source": [
        "#### Setup Python Environment"
      ],
      "metadata": {
        "id": "0cE9udnsrVub"
      }
    },
    {
      "cell_type": "code",
      "source": [
        "import numpy as np\n",
        "import matplotlib.pyplot as plt\n",
        "from tqdm import tqdm, trange\n",
        "\n",
        "import timeit\n",
        "from numba import jit\n",
        "import copy\n",
        "\n",
        "from ipywidgets import interact, interactive, fixed, interact_manual\n",
        "import ipywidgets as widgets\n",
        "\n",
        "%matplotlib inline"
      ],
      "metadata": {
        "id": "y96VpVId0ihm"
      },
      "execution_count": 1,
      "outputs": []
    },
    {
      "cell_type": "markdown",
      "source": [
        "#Background Information\n",
        "\n",
        "\n"
      ],
      "metadata": {
        "id": "1rBZkar9rzyk"
      }
    },
    {
      "cell_type": "markdown",
      "source": [
        "## Ising Hamiltonian for Ferromagnetic 2D System\n",
        "\n",
        "*Note: For a very good reference on this derivation (and where much of this notation comes from), [see here](https://farside.ph.utexas.edu/teaching/329/lectures/node110.html).  Other good references can be found in the \"Additional Readings\" section.*\n",
        "\n",
        "Consider a system of ferromagnetic atoms, where each atom initially has spin up (+1) or down (-1).  Ferromagnetic means that the system wants to align all of the spins in the same direction to minimize energy, so that all of the spins should be up or all of the spins should be down.  If the net-magnetization of the system is zero, all of the spins cancel each other out.  If the net-magnetization of the system is greater than zero, then some percentage of the magnetic spins are aligned.\n",
        "\n",
        "**We want to be able to study the phase transition of the system from disordered (spins randomly oriented) to ordered (spins aligned), and vice versa.**  In order to do this, let's arrange the spins onto the grid points of a lattice as shown in the figure below.  Note that the picture shown is for a 2D system, but any useful dimensionality can be done."
      ],
      "metadata": {
        "id": "E8KJ2HFFy-jL"
      }
    },
    {
      "cell_type": "code",
      "source": [
        "# Code to show an example lattice with non-interacting spins\n",
        "spin_up_or_down = np.random.choice([0,1], size=(10,10))\n",
        "xv, yv = np.meshgrid(np.linspace(1, 10, 10), np.linspace(1, 10, 10))\n",
        "fig, ax = plt.subplots(1, 1)\n",
        "ax.scatter(xv[np.reshape(spin_up_or_down, (10, 10)) == 1],\n",
        "            yv[np.reshape(spin_up_or_down, (10, 10)) == 1],\n",
        "            c='r', label=\"Spin Up\")\n",
        "ax.scatter(xv[np.reshape(spin_up_or_down, (10, 10)) == 0],\n",
        "            yv[np.reshape(spin_up_or_down, (10, 10)) == 0],\n",
        "            c='b', label=\"Spin Down\")\n",
        "ax.legend(loc='center left', bbox_to_anchor=(1, 0.5))\n",
        "ax.axis('equal')\n",
        "plt.title(\"Figure 1. Lattice with non-interacting atoms on grid points\")\n",
        "plt.show()"
      ],
      "metadata": {
        "colab": {
          "base_uri": "https://localhost:8080/",
          "height": 452
        },
        "id": "A6_8q4m81kz4",
        "outputId": "76d4ac0a-f12e-4bdc-a757-ede100844864"
      },
      "execution_count": 3,
      "outputs": [
        {
          "output_type": "display_data",
          "data": {
            "text/plain": [
              "<Figure size 640x480 with 1 Axes>"
            ],
            "image/png": "[encoded data removed]"
          },
          "metadata": {}
        }
      ]
    },
    {
      "cell_type": "markdown",
      "source": [
        "To determine the energy of the $i^{th}$ atom in the system above, we start with the energy of the atom in a magnetic field\n",
        "\n",
        "<center>$\\epsilon_i = \\mu H \\sigma_i$</center>\n",
        "\n",
        "where $\\mu$ is the atomic magnetic moment, $H$ is an applied magnetic field, and the $\\sigma$ operator \"measures\" the spin of the atom and returns value $+1$ for spin up or $-1$ for spin down.\n",
        "\n",
        "Next, lets add a nearest-neighbors interaction between the particles, with strength $J$:"
      ],
      "metadata": {
        "id": "s592Nqit5RHF"
      }
    },
    {
      "cell_type": "code",
      "source": [
        "# Code to show add nearest-neighbors interactions to the above figure\n",
        "fig, ax = plt.subplots(1, 1)\n",
        "\n",
        "for x, y in zip(xv, yv):\n",
        "    ax.plot(x, y, 'k', alpha=0.25)\n",
        "    ax.plot(y, x, 'k', alpha=0.25)\n",
        "ax.scatter(xv[np.reshape(spin_up_or_down, (10, 10)) == 1],\n",
        "            yv[np.reshape(spin_up_or_down, (10, 10)) == 1],\n",
        "            c='r', label=\"Spin Up\")\n",
        "ax.scatter(xv[np.reshape(spin_up_or_down, (10, 10)) == 0],\n",
        "            yv[np.reshape(spin_up_or_down, (10, 10)) == 0],\n",
        "            c='b', label=\"Spin Down\")\n",
        "ax.legend(loc='center left', bbox_to_anchor=(1, 0.5))\n",
        "ax.axis('equal')\n",
        "plt.title(\"Figure 2. Adding Nearest Neighbor Interactions\")\n",
        "plt.show()"
      ],
      "metadata": {
        "colab": {
          "base_uri": "https://localhost:8080/",
          "height": 452
        },
        "id": "LSDtgiIe5XT7",
        "outputId": "6935f60b-4b1e-46a5-f54b-25b2dc016e7c"
      },
      "execution_count": 4,
      "outputs": [
        {
          "output_type": "display_data",
          "data": {
            "text/plain": [
              "<Figure size 640x480 with 1 Axes>"
            ],
            "image/png": "[encoded data removed]"
          },
          "metadata": {}
        }
      ]
    },
    {
      "cell_type": "markdown",
      "source": [
        "To include the energy from each site interacting with the $i$th atom, we can update the above expression:\n",
        "\n",
        "<center>$\\epsilon_i = -\\frac{1}{2}J\\sum_{j\\in[1,4]} \\sigma_i \\sigma_j + \\mu H \\sigma_i$</center>\n",
        "\n",
        "where\n",
        "- the $\\frac{1}{2}$ factor ensures that we don't double count the contributions from neighboring atoms.\n",
        "- $J$ is the coupling between nearest neighbors (the gray lines in Figure 2)\n",
        "- The negative sign \"$-$\" in front of the $J$ means that this is a ferromagnetic system\n",
        "- $j$ means that only four nearest neighbors for each atom in Figure 2 will be included in the calculation\n",
        "\n",
        "\n",
        "It's important to note here, that the $\\sigma_i$ term can be pulled out of the sum and we can divide by the magnetic moment:\n",
        "\n",
        "<center>$ -\\frac{1}{2 \\mu}J$<font color='red'>$\\sigma_i$</font>$ \\sum_{j\\in[1,4]} \\sigma_j$</center>\n",
        "\n",
        "So that the total energy for the $i$th spin can be written as\n",
        "\n",
        "<center>$\\epsilon_i = \\mu \\sigma H_{eff}$</center>\n",
        "\n",
        "where\n",
        "\n",
        "<center>$H_{eff} = -\\frac{1}{2 \\mu}J \\sum_{j\\in[1,4]} \\sigma_j + H$</center>\n",
        "\n",
        "which means that for atom $i$, the only difference in energy for the atom in a spin up state or spin down state is a $+$ or $-$ sign:\n",
        "\n",
        "<center>$\\epsilon_i\\{\\sigma_i, UP\\} = - \\epsilon_i\\{\\sigma_i, DOWN\\}$</center>\n",
        "\n",
        "To get the total energy for the system, we sum over all the measured of the observed energies:\n",
        "\n",
        "<center>$E = \\sum_i \\epsilon_i$</center>."
      ],
      "metadata": {
        "id": "4esfxn_u6C-L"
      }
    },
    {
      "cell_type": "markdown",
      "source": [
        "Using this Hamiltonian, we want to understand the expected spin value given the temperature of the system.  The probability $p$ that a spin has a particular value can be calculated using the [Maxwell-Boltzmann distribution](https://chem.libretexts.org/Bookshelves/Physical_and_Theoretical_Chemistry_Textbook_Maps/Supplemental_Modules_(Physical_and_Theoretical_Chemistry)/Kinetics/03%3A_Rate_Laws/3.01%3A_Gas_Phase_Kinetics/3.1.02%3A_Maxwell-Boltzmann_Distributions)\n",
        "\n",
        "<center>$p_{i,\\pm} = \\frac{e^{\\mp \\epsilon_i/k_BT}}{\\sum_i e^{\\epsilon_i /k_B T}} $</center>\n",
        "\n",
        "where $\\epsilon_i$ is the energy of the atom, and $k_BT$ is the energy environment (also referred to as a temperature bath) of the atom.  The denominator of the fraction normalizes the probability distribution, so that there is a max probability of 1.\n",
        "\n",
        "The average value of the magnetic moment of the atom for a given temperature is\n",
        "\n",
        "<center>$\\langle \\mu \\rangle = \\frac{\\mu p_+ + (-\\mu)p_-}{p_+ + p_-}$</center>\n",
        "\n",
        "After plugging in the expression for the probability and evaluating the $\\sigma_i$ operators appropriately, we get\n",
        "\n",
        "<center>$\\langle \\mu \\rangle = \\mu \\frac{e^{- \\mu H/k_BT} - e^{+ \\mu H /k_BT}}{e^{- \\mu H/k_BT} + e^{+ \\mu H/k_BT}} = \\mu$ tanh($\\frac{\\mu H}{k_B T}$)</center>\n",
        "\n",
        "**This is not an expression we can solve analytically, but it can be solved numerically.**"
      ],
      "metadata": {
        "id": "6HqYWVZYkpIs"
      }
    },
    {
      "cell_type": "markdown",
      "source": [
        "## Metropolis-Hastings Algorithm Walk-through\n",
        "\n",
        "This algorithm has multiple variations in addition to \"[Metropolis-Hastings](https://pubs.aip.org/aip/jcp/article-abstract/21/6/1087/202680/Equation-of-State-Calculations-by-Fast-Computing?redirectedFrom=fulltext)\", such as \"[Stochastic Simulated Annealing](https://machinelearningmastery.com/simulated-annealing-from-scratch-in-python/)\" and \"[Sequential Simulated Annealing](https://link.springer.com/article/10.1007/s10898-011-9838-3)\".  The \"simulated annealing\" comes from the idea that the system begins in a random state that is equivalent to the system being at infinitely high temperature. The system is then \"submerged\" into a bath of temperature $T$ where $T$ is a finite temperature that \"cools\" the system off.\n",
        "\n",
        "---\n",
        "\n",
        "0. Initialize the system with the following variables:\n",
        "    - $T$: temperature of the \"bath\" which will anneal the system\n",
        "    - $N$: the size of the system\n",
        "    - $s$: the state of each particle in the system\n",
        "    - $J$: the coupling between particles in the system\n",
        "    - $H$: the applied magnetic field\n",
        "1. Select an atom in the system\n",
        "2. Calculate the energy $e_i$ of that atom\n",
        "3. Determine if changing the spin of the atom would decrease the energy\n",
        "4. If it decreases the energy **OR** if the probability of the state in the Boltzmann distribution is greater than a sample from a uniform probability distribution, then change the spin state of the atom.\n",
        "5. Continue with steps 1-4 until the stopping criteria is met.\n",
        "6. Return to step 0 and re-initialize the system with different variables as desired.\n",
        "---\n",
        "Let's go through these steps in code:"
      ],
      "metadata": {
        "id": "CKoPXdP1sZ5W"
      }
    },
    {
      "cell_type": "markdown",
      "source": [
        "**Step 0: Initialize the lattice and the simulation**\n",
        "\n",
        "I want a square, 10x10 lattice (N = 100).  By calling the `np.random.uniform()` function, I know I will get an uniform distribution of values between 0 and 1"
      ],
      "metadata": {
        "id": "bGQwjA0XAdnh"
      }
    },
    {
      "cell_type": "code",
      "source": [
        "lattice = np.random.uniform(size=(10,10))"
      ],
      "metadata": {
        "id": "iskEhLNBAlwm"
      },
      "execution_count": null,
      "outputs": []
    },
    {
      "cell_type": "markdown",
      "source": [
        "Next, I want to prepare the system into spin up and spin down"
      ],
      "metadata": {
        "id": "7-JJJvoyAn9_"
      }
    },
    {
      "cell_type": "code",
      "execution_count": null,
      "metadata": {
        "id": "AvTQs_NkPdgj"
      },
      "outputs": [],
      "source": [
        "lattice[lattice>0.5]=1 # any values greater than 0.5, I set equal to 1\n",
        "lattice[lattice !=1]=-1 # anything I don't change before, I make equal to -1"
      ]
    },
    {
      "cell_type": "markdown",
      "source": [
        "Last thing for the lattice is to visually check and see if everything turned out okay.  Every value in the lattice should be $+1$ or $-1$."
      ],
      "metadata": {
        "id": "REEkWzNTAr3d"
      }
    },
    {
      "cell_type": "code",
      "source": [
        "plt.imshow(lattice)\n",
        "plt.colorbar()\n",
        "plt.show()"
      ],
      "metadata": {
        "id": "eFwy4f1pAsyD"
      },
      "execution_count": null,
      "outputs": []
    },
    {
      "cell_type": "markdown",
      "source": [
        "Next, I am going to create a temperature variable.  In the equations above, the inverse temperature is represented by $1/k_B T$, where $k_B$ is the Boltzmann constant.  If $T = ∞$, then the inverse temperature will zero, and if $T=0$ then the inverse temperature will be $∞$.  Accordingly, we can define:\n",
        "\n",
        "<center>$\\beta = 1/k_B T$</center>\n",
        "\n",
        "where we can artificially restrict $\\beta \\ge 0$ to make calculations simple.  We already know what the system is like at infinite temperature because we are starting out in a thermalized state, so this way as $T → 0$, $\\beta$ will become very large.  For now, let's start with $\\beta=0$, just to make sure things are working."
      ],
      "metadata": {
        "id": "QbW1XdJiAwCp"
      }
    },
    {
      "cell_type": "code",
      "source": [
        "beta = 0 # thermodynamic inverse temperature variable"
      ],
      "metadata": {
        "id": "t-8CB2UI4qDD"
      },
      "execution_count": null,
      "outputs": []
    },
    {
      "cell_type": "markdown",
      "source": [
        "For right now, I'm going to set $H=0$, $J=1$, and $\\mu=1$.  This means I can omit them from my code, and proceed to step 1 of the algorithm.\n",
        "\n",
        "**Step 1: Select an atom in the system**\n",
        "\n",
        "This is where I need to make another coding decision.  If I start with the atom at location (0, 0), then there are no neighbors located at (-1, 0) and (0, -1) because of how ```numpy``` matrices are indexed.  This same thing will happen for all of the other atoms at the edges of my lattice: they are missing neighbors.  So for right now, I will start in the *second* row and *second* column, then stop at the *second-to-last* row and *second-to-last* column.  I won't be able to update the edge atoms with the lower energy configurations, but my code will run for right now.\n",
        "\n",
        "**(Steps 2-5 are in the code comments)**"
      ],
      "metadata": {
        "id": "TsTsr0tRCi_U"
      }
    },
    {
      "cell_type": "code",
      "source": [
        "# --> Step 1: double for-loop\n",
        "for r in range(1,9): # the range is from (1,9) instead of (0, 10)\n",
        "  for c in range(1,9): # the range is from (1,9) instead of (0, 10)\n",
        "\n",
        "        # --> Step 2: Calculate the energy of the atom\n",
        "        # the sum over the nearest neighbors is completed first to make it easy to check\n",
        "        sum_NN = (lattice[r-1,c]+lattice[r+1, c]+lattice[r,c+1]+lattice[r,c-1])\n",
        "\n",
        "        # then the total energy for the atom is calculated\n",
        "        E_a = -0.5*lattice[r,c]*sum_NN\n",
        "\n",
        "        # --> Step 3: Change the spin and re-calculate the energy\n",
        "        # Remember we said above that changing the spin just changes the sign\n",
        "        # of the energy\n",
        "        E_b = -1*E_a\n",
        "\n",
        "        # --> Step 4: If the energy decreased or the probability sample\n",
        "        # meets the requirement\n",
        "        if E_b < E_a or np.exp(-(E_b - E_a)*(beta)) > np.random.rand():\n",
        "            # Update the actual spin value in the lattice\n",
        "            lattice[r, c] *= -1\n",
        "\n",
        "        # --> Step 5: The stop condition for this code block is that all of the\n",
        "        # interior atoms have been updated at least once"
      ],
      "metadata": {
        "id": "5im24DR11l50"
      },
      "execution_count": null,
      "outputs": []
    },
    {
      "cell_type": "markdown",
      "source": [
        "Next, I'm going to visualize my system again to see if anything changed.  Since I set the thermodynamic temperature at $\\beta=0 → T = \\infty$, it should still be in a mixed state."
      ],
      "metadata": {
        "id": "M5zpUnh2GBw5"
      }
    },
    {
      "cell_type": "code",
      "source": [
        "plt.imshow(lattice)\n",
        "plt.colorbar()\n",
        "plt.show()"
      ],
      "metadata": {
        "id": "gLLMzQ6HUa06"
      },
      "execution_count": null,
      "outputs": []
    },
    {
      "cell_type": "markdown",
      "source": [
        "Above, we implemented a Monte Carlo Markov Chain (MCMC) to update the atom's spin state.  The state transition was considered based on sampling from both the Boltzmann distribution and the uniform distribution.  The MCMC simulation allowed us to implement the Hamiltonian model for how we think the sytem should behave."
      ],
      "metadata": {
        "id": "QbTqKZCcG7PT"
      }
    },
    {
      "cell_type": "markdown",
      "source": [
        "### Example Temperature Experiment\n",
        "So far, so good!\n",
        "\n",
        "Let's make some improvements to the code, and simulate the model for a range of temperatures.\n",
        "\n",
        "In the code below, the variable `sqrt_N` = $\\sqrt{N}$.  Since we have $N$ atoms in the system, the lattice has dimension $\\sqrt{N} \\times \\sqrt{N}$."
      ],
      "metadata": {
        "id": "mSHQkSk61lm4"
      }
    },
    {
      "cell_type": "code",
      "source": [
        "# Making the lattice a little larger\n",
        "sqrt_N = 25\n",
        "\n",
        "# Create a new lattice\n",
        "init_lattice = np.random.uniform(size=(sqrt_N,sqrt_N))\n",
        "\n",
        "#mask lattice\n",
        "init_lattice[init_lattice>0.5]=1\n",
        "init_lattice[init_lattice !=1]=-1\n",
        "\n",
        "# A new step here to create non-interacting atoms around the edge by padding\n",
        "# the array edges with zeroes.  This way, we can iterate over all N atoms in the\n",
        "# system without causing an out-of-bounds error\n",
        "lattice = np.zeros((sqrt_N+2, sqrt_N+2))\n",
        "lattice[1:sqrt_N+1, 1:sqrt_N+1] = init_lattice\n",
        "\n",
        "# Define a range of temperatures to test\n",
        "beta = np.linspace(0, 2, 1000)\n",
        "\n",
        "# Empty variable to hold the magnetism calculations\n",
        "M = []\n",
        "\n",
        "# For each temperature\n",
        "for temp in tqdm(beta):\n",
        "\n",
        "    # Repeat the MCMC step 100 times to make sure the system is stable\n",
        "    for n in range(100):\n",
        "\n",
        "        [rows, cols] = lattice.shape # Figure out the size of the lattice\n",
        "\n",
        "        for r in range(1,rows-1): # keep the neighbors inside the region\n",
        "            for c in range(1,cols-1):\n",
        "\n",
        "                # sum over the nearest neighbors\n",
        "                sum_NN = (lattice[r-1,c]+lattice[r+1, c]+lattice[r,c+1]+lattice[r,c-1])\n",
        "\n",
        "                # calculate the energy\n",
        "                E_a = -0.5*lattice[r,c]*sum_NN\n",
        "\n",
        "                # re-calculate the energy for a spin state change\n",
        "                E_b = -1*E_a\n",
        "\n",
        "                # choose whether to keep the new state or not\n",
        "                if E_b < E_a or (np.exp(-(E_b - E_a)*temp) > np.random.rand()):\n",
        "                    lattice[r, c] *= -1\n",
        "\n",
        "    # After the system is stable, calculate the net magnetism by summing over\n",
        "    # all of the spin values and averaging them\n",
        "    M.append(np.abs(np.sum(np.sum(lattice)))/(sqrt_N*sqrt_N))"
      ],
      "metadata": {
        "colab": {
          "base_uri": "https://localhost:8080/"
        },
        "id": "h4S6ICAUnIjW",
        "outputId": "eac0f7df-e933-483d-e919-92f6168f45d2"
      },
      "execution_count": null,
      "outputs": [
        {
          "output_type": "stream",
          "name": "stderr",
          "text": [
            "100%|██████████| 1000/1000 [04:37<00:00,  3.60it/s]\n"
          ]
        }
      ]
    },
    {
      "cell_type": "markdown",
      "source": [
        "Plot the final lattice to see how the overall spin state has changed:"
      ],
      "metadata": {
        "id": "OclzGADGDU5_"
      }
    },
    {
      "cell_type": "code",
      "source": [
        "plt.imshow(lattice)\n",
        "plt.colorbar()\n",
        "plt.show()"
      ],
      "metadata": {
        "id": "JqrQhgEnVLbg"
      },
      "execution_count": null,
      "outputs": []
    },
    {
      "cell_type": "markdown",
      "source": [
        "We can also plot the net-magnetism as a function of temperature, as shown below:"
      ],
      "metadata": {
        "id": "jCpoZbi8Da4V"
      }
    },
    {
      "cell_type": "code",
      "source": [
        "fig, ax = plt.subplots(1, 1)\n",
        "ax.scatter(beta, M, s=1)\n",
        "ax.set_xlabel(r\"Inverse Temperature $\\beta$\", )\n",
        "ax.set_ylabel(\"Net Magnetism M\")\n",
        "plt.show()"
      ],
      "metadata": {
        "id": "oL07p6Osnpz1"
      },
      "execution_count": null,
      "outputs": []
    },
    {
      "cell_type": "markdown",
      "source": [
        "The plot above shows a noisy transition from 0 net magnetism at $\\beta=0$ (or $T=\\infty$), to completely magnetized by $\\beta=2$.  The phase transition resembles the [$tanh$](https://mathworld.wolfram.com/HyperbolicTangent.html) function, but centered around 1."
      ],
      "metadata": {
        "id": "wgLjuYlYcIGm"
      }
    },
    {
      "cell_type": "markdown",
      "source": [
        "## Optimizing Your Algorithm Execution\n",
        "\n",
        "The code above takes a few minutes to run for even a fairly small system.  We want to optimize the code to make it as fast as possible so that we can repeat our results many times to make sure they are reliable, study larger systems, and use computational resources wisely.\n",
        "\n",
        "Optimizing code requires two different types of analysis:\n",
        "\n",
        "1. **Complexity analysis.**  This approach considers the number of commands required to finish your simulation, and can be used to estimate the amount of time it takes to run your code before you run it.  Complexity analysis leverages mathematical cleverness to solve a problem using the fewest number of steps possible.  It does not depend on what programming language you use, or what computer your code will run on, which makes it a very powerful and flexible technique.  [For a good introduction, see here.](https://discrete.gr/complexity/)\n",
        "\n",
        "2. **Execution optimization.** This approach considers how to best use the hardware resources available to you, so it requires an understanding of both the different code libraries and languages you are using, and how the hardware uses these libraries to return your result.  Significant improvements can be made, but it can be difficult to reduplicate the optimization for your algorithm on another machine or in a different programming language.\n",
        "\n",
        "Execution optimization is more challenging than complexity analysis and is hardware specific, so in general you will want to start with complexity analysis, and then add execution optimization as the second optimization step."
      ],
      "metadata": {
        "id": "MCmaYJwkTlqV"
      }
    },
    {
      "cell_type": "markdown",
      "source": [
        "### Complexity Analysis\n",
        "\n",
        "To gain an understanding of complexity analysis, let's start by looking at a function that defines just the MCMC step.  Prepare to dust off your counting skills:\n",
        "\n",
        "---\n",
        "```\n",
        "1. def MCMC_step(T: int, lattice: np.array):\n",
        "2.     [rows, cols] = lattice.shape\n",
        "3.     for r in range(1,rows-1):\n",
        "4.         for c in range(1,cols-1):\n",
        "5.             sum_NN = (lattice[r-1, c]+\n",
        "                         lattice[r+1, c]+\n",
        "                         lattice[r, c+1]+\n",
        "                         lattice[r, c-1])\n",
        "6.             E_a = -0.5*lattice[r,c]*sum_NN\n",
        "7.             E_b = -1*E_a\n",
        "8.             if E_b < E_a:\n",
        "9.                 lattice[r, c] *= -1\n",
        "10.             elif np.exp(-(E_b - E_a)*T) > np.random.rand():\n",
        "11.                lattice[r, c] *= -1\n",
        "12.    return lattice\n",
        "```\n",
        "---\n",
        "\n",
        "We want to try and *estimate* how many commands happen inside this function.  The actual number of commands is not as important as gaining intuition about what parts of the code take the most time to run.  We want to find the slowest things first, so that we can fix them the fastest.  Use the following guide lines to help with the analysis:\n",
        "\n",
        "\n",
        "\n",
        "**1. Work from inside nested code to outside nested code.**\n",
        "\n",
        "**2. Corollary: Find the ```for``` loops first.**\n",
        "\n",
        "There are two ```for``` loops defined, on lines 3 and 4, and the ```for``` loop on line 4 is inside the ```for``` loop on line 3.\n",
        "\n",
        "- The ```for``` loop on line 4 repeatedly executes commands on lines 5-11.  Since these commands have a constant number of steps, where the number of steps does not depend on the input arguments to the function, we can say that there are $C_1$ commands for lines 5-11, and the total number of commands $T$ for lines 5-11 is\n",
        "<center>$T_{5:11} = C_1$</center>\n",
        "\n",
        "- Now, because there is a ```for``` loop on line 4, we know that the commands on lines 5-11 will be repeated for $x = (cols-1) - 1$ times, because that is the number of iterations of the line 4 ```for``` loop, where the index variable ```c``` goes through the different column values of the lattice.  Furthermore, we can tell from line 2 that the value of ```cols``` depends on the input argument to this function.  So when including the command on line 4, we will want to use a variable $x$ for the number of times this ```for``` loop executes, and the total number of commands becomes\n",
        "<center>$T_{4:11} = C_1  x$</center>\n",
        "\n",
        "- Next, we need to consider the ```for``` loop on line 3.  For this notebook, we will only use square matrices, which means that the number of rows and columns will be the same, and the ```for``` loop on line 3 will execute $x$ times, the same as the loop on line 4.  The total number of commands increases to\n",
        "<center>$T_{3:11} = C_1x^2$ </center>\n",
        "\n",
        "- Finally, we need to account for the command on line 2.  This command is expected to have a constant run time because it is returning the shape of the input, and returning the shape requires the same calculations regardless of what the shape actually is.  Therefore, we can say that the number of commands for line 2 is $C_2$.  We can omit lines 1 and 12 because they initialize and exit the function, so the total time is\n",
        "<center>$T = C_1x^2 + C_2$</center>\n",
        "\n",
        "\n",
        "**Here's what we know from this analysis**\n",
        "\n",
        "- **The primary parameter controlling the speed of this algorithm is the size of the lattice that we are simulating.**  The $x$ value is the number of rows/columns in the system.  The value of the other parameter, $T$, does not change how fast or slow the code is.\n",
        "\n",
        "- **The slowest part of the code will be the nested for-loop.**  The nested for-loop structure is why we have the highest power term in $T$ is the $x^2$.  This is a *polynomial run time*, which means that if we change from a $10\\times10$ lattice to a $20\\times20$ lattice, we should expect the time it takes to run the code to approximately quadruple.  This can be shown mathematically as follows:\n",
        "<center>$T_1(x=10) = 100C_1 + C_2$</center>\n",
        "<center>$T_2(x=20) = 400C_1 + C_2$</center>\n",
        "<center>$T_2 \\approx 4 T_1$</center>\n",
        "\n",
        "---\n",
        "*TLDR: In general, good coding practices means you will repeat a command as few times as possible. **DON'T** put anything inside a for-loop (i.e. a variable initialization) unless it absolutely must be there, and be careful using for-loops in the first place.*\n",
        "---\n",
        "\n",
        "This function is already very minimal, which means that to optimize it further we need to consider how it can be executed on the hardware."
      ],
      "metadata": {
        "id": "ESLSwVtIeQkK"
      }
    },
    {
      "cell_type": "markdown",
      "source": [
        "### Execution Optimization\n",
        "\n",
        "Before we get started optimizing, here are some things to know:\n",
        "\n",
        "- [Computers convert every programming language to machine code in the end.](https://www.cs.mtsu.edu/~xyang/2170/computerLanguages.html)  However, the compiler a computer uses to do this conversion can make a huge difference in how quickly your code runs.\n",
        "\n",
        "- [Python is an interpreted language,](https://www.scaler.com/topics/why-python-is-interpreted-language/) which means that every time a line of code is executed the computer pretends it has never compiled it before (even if it has, as in the case of a `for` loop).  This means Python is easy to read and easy to change as you work, but the flexibility slows the computer down.  Python was designed to be human-friendly, not computer-friendly.\n",
        "\n",
        "- The big Python data science libraries like NumPy, SciPy, SciKit-Learn, TensorFlow/Keras, and PyTorch have typically undergone execution optimization to make them as fast as possible.  For example, [NumPy uses the C programming language to speed up calculations; calculations actually aren't executed in Python because C has a very good compiler.](https://numpy.org/doc/stable/dev/internals.code-explanations.html)  As a scientist, sometimes you will need decide whether to choose the speed gained by using a pre-optimized function, or the transparency that comes from coding your own version.\n",
        "\n",
        "- Python libraries for visualization like Matplotlib and Pandas will always be slower than libraries used for calculation, even if they have some calculation functionality included (*cough* Pandas *cough*).  Keep this in mind when deciding where in your code to generate plots.\n"
      ],
      "metadata": {
        "id": "EVWnLZH9smZO"
      }
    },
    {
      "cell_type": "markdown",
      "source": [
        "#### Execution Optimization Toolkit\n",
        "Here are some common tools useful for analyzing how your code runs. These tools focus on optimizing *speed* and *memory*; there are other tools for optimizing other aspects of programming like [documentation](https://docs.python.org/3/library/pydoc.html) and [code consistency](https://www.techbeamers.com/pylint-tool/).\n",
        "\n",
        "|What you are optimizing|What you use to optimize it| How it works\n",
        "| --- | --- | --- |\n",
        "|Speed|[timeit](https://docs.python.org/3/library/timeit.html)|Measures how long a code snippet takes to execute|\n",
        "|Speed|[tqdm](https://tqdm.github.io/)|Measures how long a loop takes to execute *with a loading bar!!!*|\n",
        "|Memory|[memory-profiler](https://pypi.org/project/memory-profiler/#description)|See which variables and programs use what memory resource |\n",
        "\n",
        "Note that these are diagnostic tools that provide a way to measure what the computer does with your code.  It is still up to you to find solutions to slow parts or out-of-memory (OOM) errors and implement them."
      ],
      "metadata": {
        "id": "Z259mJbqjIQn"
      }
    },
    {
      "cell_type": "markdown",
      "source": [
        "# Exercises\n",
        "\n",
        "Complete the exercises below."
      ],
      "metadata": {
        "id": "fx5V1t6PKCNE"
      }
    },
    {
      "cell_type": "markdown",
      "source": [
        "## Programming Exercise 1: Optimize the Speed of the Metropolis-Hastings Algorithm\n"
      ],
      "metadata": {
        "id": "AiAPXGCSZIja"
      }
    },
    {
      "cell_type": "markdown",
      "source": [
        "### 1a) Complete the functions `intialize_lattice` and `MCMC_step`\n",
        "\n",
        "... using the information provided above and the commented hints in the function templates provided below.  Feel free to copy code from above as you fill in the blanks, but be careful!  Some variable names have been changed..."
      ],
      "metadata": {
        "id": "a3tf6uQLlJXj"
      }
    },
    {
      "cell_type": "code",
      "source": [
        "# Complete the initialize_lattice function below\n",
        "\n",
        "def initialize_lattice(sqrt_n: int):\n",
        "    \"\"\"\n",
        "    Function to initialize lattice.  Adds a border of zeros\n",
        "    to represent non-interacting atoms and make the neighbor\n",
        "    calculation easier\n",
        "\n",
        "    sqrt_n: The square root of the number of atoms in the lattice\n",
        "    returns padded_lattice: A lattice of size (sqrt_n+2, sqrt_n+2)\n",
        "    \"\"\"\n",
        "\n",
        "    # initialize the lattice using np.random.random for a lattice of size\n",
        "    # sqrt_n x sqrt_n\n",
        "\n",
        "    new_lattice =\n",
        "\n",
        "    # create a lattice of zeros that has an extra row on the top and bottom,\n",
        "    # and an extra column on the left and the right\n",
        "\n",
        "    padded_lattice =\n",
        "\n",
        "    #mask lattice by setting values above 0.5 to 1, and everything else to -1\n",
        "    new_lattice[new_lattice>0.5] =\n",
        "    new_lattice[new_lattice!=1] =\n",
        "\n",
        "    # added step to create non-interacting atoms\n",
        "    padded_lattice[1:sqrt_n+1, 1:sqrt_n+1] =\n",
        "\n",
        "    return np.array(padded_lattice)"
      ],
      "metadata": {
        "id": "n8qQmWgRw-mu"
      },
      "execution_count": null,
      "outputs": []
    },
    {
      "cell_type": "code",
      "source": [
        "# Complete the MCMC_step function below\n",
        "\n",
        "def MCMC_step(beta: float, lattice: np.array):\n",
        "    \"\"\"\n",
        "    Function to repeat the Monte Carlo Markov Chain for this system.\n",
        "    beta: the inverse temperature value for the MCMC step\n",
        "    lattice: the system of spins that will be simulated\n",
        "    returns: an updated version of the input lattice\n",
        "    \"\"\"\n",
        "\n",
        "    # Figure out the size of the lattice\n",
        "    [rows, cols] = lattice.shape\n",
        "\n",
        "    # keep the neighbors inside the region\n",
        "    for r in range(1,rows-1):\n",
        "        for c in range(1,cols-1):\n",
        "\n",
        "            # sum over the nearest neighbors\n",
        "            sum_NN =\n",
        "\n",
        "            # calculate the energy\n",
        "            E_a =\n",
        "\n",
        "            # re-calculate the energy for a spin state change\n",
        "            E_b = -1*E_a\n",
        "\n",
        "            # choose whether to keep the new state or not\n",
        "            if #<ENTER LOGIC STATEMENT HERE>\n",
        "                lattice[r, c] *= -1\n",
        "\n",
        "    return lattice"
      ],
      "metadata": {
        "id": "_DpvUfIGnCwr"
      },
      "execution_count": null,
      "outputs": []
    },
    {
      "cell_type": "markdown",
      "source": [
        "### 1b) Perform the following experiment\n",
        "\n",
        "By calling the `main_exercise1b` function using different arguments:\n",
        "\n",
        "1. Re-run the simulation for lattice sizes of $\\sqrt{N}$ = [10, 15, 20, 25, 40].\n",
        "2. For each simulation of $\\sqrt{N}$ values, record how long it took to run.  Use `timeit` and/or `tqdm` to measure the how long the code takes to run. (What is the difference between the reported values if you use both?)\n",
        "3. Make a plot showing how the time it took to run depends on the size of the simulation.\n",
        "4. Make a plot showing the net-magnetization curves for each system size.\n",
        "\n",
        "The function `main_exercise1b` is provided for you below; it calls the two functions you just completed.\n",
        "\n",
        ">Note: This computation may take some time to complete.  Discuss with your instructor how long you should wait for a simulation to run."
      ],
      "metadata": {
        "id": "ec0Qlw5LkFDA"
      }
    },
    {
      "cell_type": "code",
      "source": [
        "def main_exercise1b(sqrt_N: int):\n",
        "    \"\"\"\n",
        "    Main function to complete a simple Metropolis-Hastings Ising model\n",
        "    experiment.\n",
        "\n",
        "    sqrt_N: integer that is the square root of the number of atoms in the system\n",
        "\n",
        "    returns [inverse_temperature, M]: where M is the net magnetization at each\n",
        "            temperature\n",
        "    \"\"\"\n",
        "\n",
        "    spin_lattice = initialize_lattice(sqrt_N)\n",
        "\n",
        "    inverse_temperature = np.linspace(0, 2, 1000)\n",
        "\n",
        "    M = [] #empty variable to hold net magnetism\n",
        "\n",
        "    # For each temperature\n",
        "    for beta in tqdm(inverse_temperature):\n",
        "\n",
        "        # Repeat the MCMC step 100 times to make sure the system is stable\n",
        "        for n in range(100):\n",
        "\n",
        "            spin_lattice = MCMC_step(beta, spin_lattice)\n",
        "\n",
        "        M.append(np.abs(np.sum(np.sum(spin_lattice)))/(sqrt_N*sqrt_N))\n",
        "\n",
        "    return inverse_temperature, M"
      ],
      "metadata": {
        "id": "oHc0hr9yp5VF"
      },
      "execution_count": null,
      "outputs": []
    },
    {
      "cell_type": "markdown",
      "source": [
        "Call the main function in the code cell below like this.\n",
        "```\n",
        "start = timeit.default_timer()\n",
        "beta_N5, M_N5 = main_exercise1b(5)\n",
        "print(\"\\nTime to completion for N = 5: \"+str(timeit.default_timer() - start))\n",
        "```\n",
        "Make sure to keep the `beta` and `M` values for plotting."
      ],
      "metadata": {
        "id": "gKrd7crIpWzi"
      }
    },
    {
      "cell_type": "code",
      "source": [
        "# Enter your code to call the main function here.  You can either\n",
        "# call the function multiple times in one cell, or add code cells\n",
        "# for each call\n",
        "\n",
        "\n"
      ],
      "metadata": {
        "id": "LUw3PY4spBls"
      },
      "execution_count": null,
      "outputs": []
    },
    {
      "cell_type": "code",
      "source": [
        "# Manually enter your results for each run here:\n",
        "num_atoms = []\n",
        "measured_time = []"
      ],
      "metadata": {
        "id": "bnRUVrj6oeDB"
      },
      "execution_count": null,
      "outputs": []
    },
    {
      "cell_type": "code",
      "source": [
        "# Put your plotting code here\n"
      ],
      "metadata": {
        "id": "EQVhU4GkreF7"
      },
      "execution_count": null,
      "outputs": []
    },
    {
      "cell_type": "markdown",
      "source": [
        "### 1c) Optimize the code to see if you can reduce the time it takes to run.\n",
        "\n",
        "0. Copy-paste the `MCMC_step` function from above into the empty code cell below.  We are going to modify it to make it faster, but we also want to keep the original for reference.  Rename the function `MCMC_step_optimized`.\n",
        "\n",
        "1. Add a `numba` \"decorator\" to the line just above the function declaration.  It should look like this:\n",
        "```\n",
        "@jit()\n",
        "def MCMC_step_optimized(beta: float, lattice: np.array):\n",
        "...\n",
        "```\n",
        "The `@jit()` decorator comes from the `numba` python package and, when placed before the function, tells the Python compiler to treat this code like a statically compiled C object. The first time the function is called, it won't show any improvement because it isn't compiled yet.  However, the second time the function is called, the compiled version should still be in memory, and we will see some improvements."
      ],
      "metadata": {
        "id": "DFlS0ccamkiU"
      }
    },
    {
      "cell_type": "code",
      "source": [
        "# Copy-paste the MCMC_step function from above here\n",
        "\n"
      ],
      "metadata": {
        "id": "AzwqX0Jcu-wR"
      },
      "execution_count": null,
      "outputs": []
    },
    {
      "cell_type": "markdown",
      "source": [
        "2. A slightly altered main function `main_exercise1c` is provided for you here.  No need to change anything.  Just call it the same way you did before.\n",
        "```\n",
        "start = timeit.default_timer()\n",
        "beta_N5, M_N5 = main_exercise1c(5)\n",
        "print(\"\\nTime to completion for N = 5: \"+str(timeit.default_timer() - start))\n",
        "```"
      ],
      "metadata": {
        "id": "GaM4Z6Hy1tYA"
      }
    },
    {
      "cell_type": "code",
      "source": [
        "#from tqdm.gui import tqdm_gui\n",
        "# Here is a slightly altered main function for you\n",
        "\n",
        "def main_exercise1c(sqrt_N: int):\n",
        "    \"\"\"\n",
        "    Main function to complete a simple Metropolis-Hastings Ising model\n",
        "    experiment.\n",
        "\n",
        "    sqrt_N: integer that is the square root of the number of atoms in the system\n",
        "\n",
        "    returns [inverse_temperature, M]: where M is the net magnetization at each\n",
        "            temperature\n",
        "    \"\"\"\n",
        "\n",
        "    spin_lattice = initialize_lattice(sqrt_N)\n",
        "\n",
        "    inverse_temperature = np.linspace(0, 2, 1000)\n",
        "\n",
        "    M = np.zeros(1000) #empty variable to hold net magnetism\n",
        "\n",
        "    # For each temperature\n",
        "    for t in range(len(inverse_temperature)):\n",
        "        beta = inverse_temperature[t]\n",
        "\n",
        "        # Repeat the MCMC step 500 times to make sure the system is stable\n",
        "        for n in range(500):\n",
        "\n",
        "            spin_lattice = MCMC_step_optimized(beta, spin_lattice)\n",
        "\n",
        "        M[t] = (np.abs(np.sum(np.sum(spin_lattice)))/(sqrt_N*sqrt_N))\n",
        "\n",
        "    return inverse_temperature, M"
      ],
      "metadata": {
        "id": "nSaqNczEyuyU"
      },
      "execution_count": null,
      "outputs": []
    },
    {
      "cell_type": "markdown",
      "source": [
        "3. Repeat the experiment with the same values for $\\sqrt{N}$ from above, and record the new time values.  Create a two more plots to compare with the ones created above (Time vs $\\sqrt{N}$, and Net Magnetization vs Temp), and compare them with the plot from earlier.  Answer these questions:\n",
        "\n",
        "- What things are the same in the Net Magnetization plot?\n",
        "- What things are different in the Timing plot?\n",
        "- How effective is using the `numba` package at improving your code?"
      ],
      "metadata": {
        "id": "IVSkXsPJ1xwL"
      }
    },
    {
      "cell_type": "code",
      "source": [
        "# Call the optimized version of the functions here:\n"
      ],
      "metadata": {
        "id": "oE8sR9IWzpOy"
      },
      "execution_count": null,
      "outputs": []
    },
    {
      "cell_type": "code",
      "source": [
        "# Create plotting code here"
      ],
      "metadata": {
        "id": "TuG9DUzX3H2S"
      },
      "execution_count": null,
      "outputs": []
    },
    {
      "cell_type": "markdown",
      "source": [
        "## Programming Exercise 2: Study of Magnetic Domain Formation\n",
        "\n",
        "Now that we have code up and running for a large system efficiently, let's watch some magnetic domains form.  Complete the following experiment:\n",
        "\n",
        "1. Write a new main function `main_exercise2` by making the following changes to `main_exercise1c`:\n",
        "    - create a new `list` variable: `lattice_at_T`.  This variable will hold a set of lattices at different temperatures\n",
        "    - update the `lattice_at_T` variable after the net magnetism `M` is calculated by appending the `spin_lattice` to the list.\n",
        "    - return the `lattice_at_T` variable along with the `inverse_temperature` and `M` variables\n",
        "    - A template is started for you below.\n",
        "\n",
        "2. Choose the largest value of `N` that you can simulate within a reasonable amount of time.  Use the code in *Exercise 1C* to figure out how large to go.\n",
        "\n",
        "3. Execute the new `main_exercise2` function.  Save all three outputs.\n",
        "\n",
        "4. Plotting code is created for you below."
      ],
      "metadata": {
        "id": "fQPh6FrkgcbL"
      }
    },
    {
      "cell_type": "code",
      "source": [
        "# Template to get you started\n",
        "def main_exercise2(sqrt_N: int):\n",
        "    \"\"\"\n",
        "    Main function to complete a simple Metropolis-Hastings Ising model\n",
        "    experiment.\n",
        "\n",
        "    sqrt_N: integer that is the square root of the number of atoms in the system\n",
        "\n",
        "    returns [inverse_temperature, M]: where M is the net magnetization at each\n",
        "            temperature\n",
        "    \"\"\"\n",
        "\n",
        "    spin_lattice =\n",
        "\n",
        "    inverse_temperature = np.linspace(0, 2, 1000)\n",
        "\n",
        "    #empty variable to hold net magnetism\n",
        "    M = []\n",
        "\n",
        "    # --> Declare new variable to hold spin lattices here\n",
        "\n",
        "\n",
        "    # For each temperature\n",
        "    for beta in tqdm(inverse_temperature):\n",
        "\n",
        "        # Repeat the MCMC step 500 times to make sure the system is stable\n",
        "        for n in range(100):\n",
        "\n",
        "            spin_lattice = MCMC_step_optimized(beta, spin_lattice)\n",
        "\n",
        "        M.append(np.abs(np.sum(np.sum(spin_lattice)))/(sqrt_N*sqrt_N))\n",
        "\n",
        "        # --> Update the lattice array here\n",
        "\n",
        "\n",
        "    return inverse_temperature, M, # Add returned argument here"
      ],
      "metadata": {
        "id": "e4MUjvq6tkaV"
      },
      "execution_count": null,
      "outputs": []
    },
    {
      "cell_type": "code",
      "source": [
        "# Call the function above here\n",
        "beta, mag, lattices ="
      ],
      "metadata": {
        "id": "ZVfDUjnNuDHv"
      },
      "execution_count": null,
      "outputs": []
    },
    {
      "cell_type": "code",
      "source": [
        "# You should be able to just run this cell and the next directly\n",
        "fig, ax = plt.subplots(1, 1)\n",
        "ax.plot(beta, mag)\n",
        "ax.set_xlabel(r\"Inverse Temperature $\\beta$\")\n",
        "ax.set_ylabel(\"Net-magnetism M\")\n",
        "plt.show()"
      ],
      "metadata": {
        "id": "TnDqltp7vQOs"
      },
      "execution_count": null,
      "outputs": []
    },
    {
      "cell_type": "code",
      "source": [
        "def plot_mag_domains(x):\n",
        "    plt.figure(2)\n",
        "    plt.imshow(lattices[x])\n",
        "    plt.title(r\"$\\beta$ = \"+str(beta[x]))\n",
        "    plt.show()\n",
        "\n",
        "interactive_plot = interactive(plot_mag_domains, x=(0,999))\n",
        "output = interactive_plot.children[-1]\n",
        "output.layout.height = '500px'\n",
        "interactive_plot"
      ],
      "metadata": {
        "id": "smDmb0sm-JTo"
      },
      "execution_count": null,
      "outputs": []
    },
    {
      "cell_type": "markdown",
      "source": [
        "### Answer the following questions:\n",
        "\n",
        "Explore the set of simulated lattices above using the slider, and see if you can detect changes in the magnetic domains generated.  Edit this cell with your answers to the questions.\n",
        "\n",
        "1. At what inverse temperature $\\beta < 1$ do you notice a significant change in the lattice domain states?\n",
        "\n",
        "> **Answer:**\n",
        "\n",
        "2. How does this compare to the plotted values?\n",
        "\n",
        "> **Answer:**\n",
        "\n",
        "3. How would you describe the shapes of the domains that form at $\\beta \\in [0.75, 0.85]$?\n",
        "\n",
        "> **Answer:**\n",
        "\n",
        "4. Do you have a lattice that is completely aligned?  For what $\\beta$ value?  Is there one that is close?\n",
        "\n",
        "> **Answer:**"
      ],
      "metadata": {
        "id": "8glGlAo1f-25"
      }
    },
    {
      "cell_type": "markdown",
      "source": [
        "# Additional Readings\n",
        "\n",
        "1. [Jeffery Chang. \"1D Ising Model Derivation\". 2019](https://stanford.edu/~jeffjar/statmech/lec4.html)\n",
        "\n",
        "2. [LibreTexts Chemistry. \"Review of Maxwell-Boltzmann Calculations\". N.D.](https://chem.libretexts.org/Bookshelves/Physical_and_Theoretical_Chemistry_Textbook_Maps/Supplemental_Modules_(Physical_and_Theoretical_Chemistry)/Kinetics/03%3A_Rate_Laws/3.01%3A_Gas_Phase_Kinetics/3.1.02%3A_Maxwell-Boltzmann_Distributions)\n",
        "\n",
        "3. [A ~5 minute guide to Numba](https://numba.readthedocs.io/en/stable/user/5minguide.html)\n",
        "\n",
        "4. [How to optimize for speed](https://scikit-learn.org/stable/developers/performance.html)\n",
        "\n",
        "5. [Python Memory Profilers](https://stackify.com/top-5-python-memory-profilers/)\n",
        "\n",
        "6. [How to Optimize Python Code](https://stackify.com/how-to-optimize-python-code/)"
      ],
      "metadata": {
        "id": "LSVUi_Fzp50k"
      }
    }
  ]
}
