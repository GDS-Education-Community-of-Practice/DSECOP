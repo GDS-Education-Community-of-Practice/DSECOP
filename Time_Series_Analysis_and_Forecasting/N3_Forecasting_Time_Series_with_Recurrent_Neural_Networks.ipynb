{
  "cells": [
    {
      "cell_type": "markdown",
      "metadata": {
        "id": "view-in-github",
        "colab_type": "text"
      },
      "source": [
        "<a href=\"https://colab.research.google.com/github/GDS-Education-Community-of-Practice/DSECOP/blob/connor_module/Time_Series_Analysis_and_Forecasting/N3_Forecasting_Time_Series_with_Recurrent_Neural_Networks.ipynb\" target=\"_parent\"><img src=\"https://colab.research.google.com/assets/colab-badge.svg\" alt=\"Open In Colab\"/></a>"
      ]
    },
    {
      "cell_type": "code",
      "source": [
        "import numpy as np\n",
        "import pandas as pd\n",
        "import matplotlib.pyplot as plt\n",
        "\n",
        "# Use CPU rather than GPU for keras neural networks\n",
        "import os\n",
        "os.environ[\"CUDA_DEVICE_ORDER\"] = \"PCI_BUS_ID\"\n",
        "os.environ[\"CUDA_VISIBLE_DEVICES\"] = \"\"\n",
        "from tensorflow import keras\n",
        "from tqdm.keras import TqdmCallback"
      ],
      "metadata": {
        "id": "a-utiRozzioB"
      },
      "id": "a-utiRozzioB",
      "execution_count": 1,
      "outputs": []
    },
    {
      "cell_type": "markdown",
      "id": "9e76a680-4307-4699-bd7e-7a723afdf4d9",
      "metadata": {
        "id": "9e76a680-4307-4699-bd7e-7a723afdf4d9"
      },
      "source": [
        "# Notebook 3: Forecasting projectile motion with recurrent neural networks\n",
        "\n",
        "In notebook 1, we simulated the motion of several trapezoid shaped projectiles that collect information after having been catapulted from the ground. This is an imagined scenario but takes the simple Newtonian motion of an idealized projectile and considers a more realistic scenario which includes varied drag.\n",
        "\n",
        "This data includes a varied drag coefficient and projectile area for four sides of the object.\n",
        "A large number of these runs were simulated and saved in the file `launches.csv`.\n",
        "\n",
        "Notebook 2 demonstrated some classical time series analysis techniques to better understand that data and then demonstrated linear techniques for \"forecasting\" or predicting the future state of the projectile, given some initial portion of the data.\n",
        "\n",
        "In this notebook, we will explore the use of neural networks, which are nonlinear models, to forecast future states of the projectile, given the previous locations and other information.\n",
        "i.e. if we know how the projectile travelled from time $t=0$ to time $t=10$, where will it be at time $t=11$?\n",
        "Although you can calculate this with Newton's second law, the previous notebook demonstrated that this calculation can be more tricky if you do not know the exact drag coefficient on the projectile.\n",
        "\n",
        "We begin by loading the file of simulated launches, which will be our data for tuning and testing the neural network parameters."
      ]
    },
    {
      "cell_type": "code",
      "source": [
        "# Load our launch data\n",
        "data_location = \"https://raw.githubusercontent.com/GDS-Education-Community-of-Practice/DSECOP/connor_module/Time_Series_Analysis_and_Forecasting/launches.csv\"\n",
        "all_launches = pd.read_csv(data_location, index_col=\"Time (s)\")\n",
        "\n",
        "# Split into individual launches\n",
        "split_indices = np.where(all_launches.index[1:] - all_launches.index[0:-1] < 0)[0].tolist() # Find where time decreases (signifies different launch)\n",
        "split_indices = [0] + split_indices + [all_launches.shape[0]]\n",
        "launches = [all_launches.iloc[split_indices[i]+1:split_indices[i+1]] for i in range(100)]"
      ],
      "metadata": {
        "id": "tHXdTJ4vD3zk"
      },
      "id": "tHXdTJ4vD3zk",
      "execution_count": 2,
      "outputs": []
    },
    {
      "cell_type": "markdown",
      "id": "41373192-099d-4c40-8d78-ec96bdc9de47",
      "metadata": {
        "id": "41373192-099d-4c40-8d78-ec96bdc9de47"
      },
      "source": [
        "## Feedforward neural network\n",
        "\n",
        "*The material in this section is taken heavily from previous DSECOP modules on [introduction to deep learning](https://github.com/GDS-Education-Community-of-Practice/DSECOP/blob/main/Intro_to_Deep_Learning/01_Introduction_to_Neural_Network.ipynb) and [learning differential equations with neural networks](https://github.com/GDS-Education-Community-of-Practice/DSECOP/blob/main/Solving_Differential_Equations_with_NNs/02_neural_networks.ipynb).\n",
        "Please see those modules for more information on basic neural network architectures.*\n",
        "\n",
        "An feedforward neural network is a function that was designed to mimic biological neural networks.\n",
        "It can be written as simply\n",
        "$$\n",
        "y = f(W_lf(W_{l-1}(\\cdot \\cdot \\cdot f(W_1\\textbf{x} + \\textbf{b}_1) \\cdot \\cdot \\cdot) + \\textbf{b}_{l-1}) + \\textbf{b}_l).\n",
        "$$\n",
        "This may look confusing at first glance, but basically it is just a function that takes in a vector (or value) $\\textbf{x}$ and outputs a value $y$.\n",
        "This function is a nested function (in that it repeatedly applies the function $f$) and can be written more legibly as:\n",
        "$$\n",
        "y_1 = f(W_1\\textbf{x} + \\textbf{b}_1) \\\\\n",
        "y_2 = f(W_2y_1 + \\textbf{b}_2) \\\\\n",
        "\\vdots \\\\\n",
        "y = f(W_ly_{l-1} + \\textbf{b}_l)\n",
        "$$\n",
        "Note that at the $i^\\text{th}$ level, $y_{i-1}$ is the input to the function.\n",
        "\n",
        "\n"
      ]
    },
    {
      "cell_type": "markdown",
      "source": [
        "### Structure\n",
        "You may be wondering how this is similar to biological neural networks.\n",
        "This is clearer if we write the above in a diagram form:\n",
        "\n",
        "![](https://raw.githubusercontent.com/GDS-Education-Community-of-Practice/DSECOP/connor_module/Time_Series_Analysis_and_Forecasting/diagrams/feedforward_nn1.drawio.svg)\n",
        "\n",
        "For some terminology,\n",
        "- $f$ is an \"activation\" function (something like $\\tanh$)\n",
        "- $W_i$ is called a \"weight\" matrix\n",
        "- $b_i$ is called a \"bias\" vector\n",
        "Because $W_i$ are matrices, they can change the dimension at each level.\n",
        "For example, if our input $\\textbf{x}$ was a vector of 3 items, and the matrix $W_1$ was a $5 \\times 3$ matrix, then $W_1\\textbf{x}$ would be a size 5 vector.\n",
        "With this in mind, the above diagram is more commonly drawn as:\n",
        "\n",
        "![](https://raw.githubusercontent.com/GDS-Education-Community-of-Practice/DSECOP/connor_module/Time_Series_Analysis_and_Forecasting/diagrams/feedforward_nn2.drawio.svg)\n",
        "\n",
        "This diagram shows how the function we wrote above is actually a network.\n",
        "Each line on the diagram represents an operation like $W_{i,jk}y_{i,k} + b_j$ where $W_{i,jk}$ is the $j,k$ entry in the $W_i$ matrix.\n",
        "Each circle is the application of the activation function $f$ (which could actually be different at each layer) and are usually called \"nodes.\"\n",
        "The network is called \"feedforward\" because data only flows from left to right (there are no loops).\n",
        "\n",
        "Let's create a simple network with the following properties in the `keras` Python framework:\n",
        "- $\\textbf{x}$ is a vector of length 2\n",
        "- $W_1,W_2$ are sizes $3\\times 2$ and $1 \\times 3$ respectively\n",
        "- $b_1, b_2$ are vectors of size $3$ and $1$ respectively\n",
        "- $f$ is a $\\tanh$ function"
      ],
      "metadata": {
        "id": "rK7-Ep58IxA0"
      },
      "id": "rK7-Ep58IxA0"
    },
    {
      "cell_type": "code",
      "source": [
        "# Set the random seed to make sure we get reproducible results (we get the same every time we run)\n",
        "keras.utils.set_random_seed(0)\n",
        "\n",
        "# Make input layer of appropriate size (1 sample of size 2)\n",
        "x   = keras.layers.Input(shape=(2,),name=\"Input\")\n",
        "\n",
        "# Pass input x into first layer of size 3 x 2\n",
        "y_1 = keras.layers.Dense(3,activation=\"tanh\")(x)\n",
        "\n",
        "# Pass middle or \"hidden\" layer into output\n",
        "y   = keras.layers.Dense(1,activation=\"tanh\")(y_1)\n",
        "\n",
        "model = keras.Model(inputs=x,outputs=y)"
      ],
      "metadata": {
        "id": "qGVkbntwJedC"
      },
      "id": "qGVkbntwJedC",
      "execution_count": 3,
      "outputs": []
    },
    {
      "cell_type": "markdown",
      "source": [
        "We can now try putting a vector of size 2 into the network to see the output."
      ],
      "metadata": {
        "id": "DXoPsuSFKKEv"
      },
      "id": "DXoPsuSFKKEv"
    },
    {
      "cell_type": "code",
      "source": [
        "# 1 random sample of size 2\n",
        "sample = np.random.random(size=(1,2))\n",
        "\n",
        "print(\"Sample: {}\".format(sample))\n",
        "print(\"Result: {}\".format(model(sample)))"
      ],
      "metadata": {
        "colab": {
          "base_uri": "https://localhost:8080/"
        },
        "id": "IBL8-1PeKON7",
        "outputId": "02de4171-1441-4898-f956-d4737d57b068"
      },
      "id": "IBL8-1PeKON7",
      "execution_count": 4,
      "outputs": [
        {
          "output_type": "stream",
          "name": "stdout",
          "text": [
            "Sample: [[0.5488135  0.71518937]]\n",
            "Result: [[0.50497514]]\n"
          ]
        }
      ]
    },
    {
      "cell_type": "markdown",
      "source": [
        "If we wanted to put in many samples of size 2 and see all of their outputs at the same time, we could write:"
      ],
      "metadata": {
        "id": "O6tREPYKLOl2"
      },
      "id": "O6tREPYKLOl2"
    },
    {
      "cell_type": "code",
      "source": [
        "# 5 random samples of size 2\n",
        "samples = np.random.random(size=(5,2))\n",
        "\n",
        "print(\"Samples: \\n{}\".format(samples))\n",
        "print(\"Results: \\n{}\".format(model(samples)))"
      ],
      "metadata": {
        "colab": {
          "base_uri": "https://localhost:8080/"
        },
        "id": "OLyiszdDLULM",
        "outputId": "1acf8e35-75c6-425f-ea6a-972b07971a92"
      },
      "id": "OLyiszdDLULM",
      "execution_count": 5,
      "outputs": [
        {
          "output_type": "stream",
          "name": "stdout",
          "text": [
            "Samples: \n",
            "[[0.60276338 0.54488318]\n",
            " [0.4236548  0.64589411]\n",
            " [0.43758721 0.891773  ]\n",
            " [0.96366276 0.38344152]\n",
            " [0.79172504 0.52889492]]\n",
            "Results: \n",
            "[[0.38953546]\n",
            " [0.47595912]\n",
            " [0.60580003]\n",
            " [0.23124357]\n",
            " [0.3555    ]]\n"
          ]
        }
      ]
    },
    {
      "cell_type": "markdown",
      "source": [
        "### Tuning the network\n",
        "\n",
        "To reiterate, the neural network is just a function.\n",
        "You input $\\textbf{x}$ and it outputs $y$.\n",
        "For time series forecasting, we'd like to input a sequence of previous time series data $\\textbf{x}$ and get out the next point in the series $y$.\n",
        "\n",
        "In order to make our neural network model function accurate (to get the answer $y$ correct), we can adjust the weights $W_1,W_2,\\ldots,W_l$ and biases $b_1,b_2,\\ldots,b_l$.\n",
        "We can do this by considering a \"loss\" function $\\mathcal{L}(y,\\hat{y})$ where $\\hat{y}$ is the actual value and $y$ is the value predicted by the neural network.\n",
        "A common loss is just the squared difference:\n",
        "$$\n",
        "\\mathcal{L}(y,\\hat{y}) = (y - \\hat{y})^2\n",
        "$$\n",
        "\n",
        "Knowing that we want $y$ and $\\hat{y}$ to be as close as possible to each other so that our network is accurate, we want to minimize $\\mathcal{L}(y,\\hat{y})$.\n",
        "From calculus, we know we can take a derivative of $\\mathcal{L}$ and set it to 0.\n",
        "For a single parameter, this can be written as:\n",
        "$$\n",
        "\\frac{d}{dW_i}\\mathcal{L}(y,\\hat{y}) = 0\n",
        "$$\n",
        "\n",
        "A significant amount of effort and programming has been put in to be able to automatically calculate these derivatives.\n",
        "It is thus namely called \"automatic differentiation.\"\n",
        "Most neural network frameworks obscure these details and let you focus on just the network design (how many nodes, layers $l$, etc.).\n",
        "\n",
        "Once we can calculate these derivatives, we can use a procedure called \"gradient descent\" to iteratively adjust the weights and biases to better match our data.\n",
        "This process is usually called \"training\" the network.\n",
        "\n",
        "The `keras` framework makes it easy to select a gradient descent type and loss function and fit to data.\n",
        "Consider the following example where we have data samples of $x = [\\sin(t),\\cos(t)]$ for values of $t$ between $0$ and $10$ and we want to output the value $\\sin(t)\\cos(t)$.\n",
        "We use the mean squared error loss and the gradient descenet algorithm `adam`.\n",
        "\n"
      ],
      "metadata": {
        "id": "KRN42VtYI3QU"
      },
      "id": "KRN42VtYI3QU"
    },
    {
      "cell_type": "code",
      "source": [
        "# Make our data samples\n",
        "t_values = np.linspace(0,10,100)\n",
        "samples = np.vstack([np.sin(t_values), np.cos(t_values)]).T\n",
        "output_values = np.sin(t_values)*np.cos(t_values)\n",
        "\n",
        "# Train model\n",
        "model.compile(\n",
        "    optimizer = keras.optimizers.Adam(),\n",
        "    loss = keras.losses.MeanSquaredError()\n",
        ")\n",
        "history = model.fit(\n",
        "    samples,\n",
        "    output_values,\n",
        "    batch_size=10,         # The training takes groups of samples (in this case 10 samples at a time)\n",
        "    epochs=500,            # The number of times to iterate through our dataset\n",
        "    validation_split = 0.2,# Use 20% of data to check accuracy\n",
        "    verbose=0,             # Don't print info as it trains\n",
        "    callbacks=[TqdmCallback(verbose=0)]\n",
        ")\n",
        "\n",
        "# Plot prediction and the true values\n",
        "plt.close('all')\n",
        "plt.figure(figsize=(8,6))\n",
        "plt.plot(t_values, output_values, label=\"$\\sin(t)\\cos(t)$\")\n",
        "plt.plot(t_values, model(samples), label=\"model(t)\")\n",
        "plt.legend()\n",
        "plt.xlabel(\"t\")\n",
        "plt.show()"
      ],
      "metadata": {
        "colab": {
          "base_uri": "https://localhost:8080/",
          "height": 574,
          "referenced_widgets": [
            "29e5b0a09c314b8db988a040457c359d",
            "27e8b1d19a75415db9bf3cb0892d8f20",
            "d277ed404f0e419b85f704b8f00f6fbc",
            "991f3111cea3427ea5feb7d4ab403ead",
            "b8fd5a5480544beea54e8e58dc10c3dc",
            "6180b0f72ebf4ad3b9b7ef7e9ad8e5c2",
            "d176e3d2c4994644b975e54e7b732757",
            "85f7662c825c466fa858479cf0893fbb",
            "9c08213ea3f942749a3d4c9c82d7a03e",
            "0d2a65b55c3e4d30a290da9cae208e6f",
            "596dd7b4e88641d697de261248fd31af"
          ]
        },
        "id": "NMBr21VPMhRl",
        "outputId": "e15216e5-1f9d-487f-d17c-ef1217bc351d"
      },
      "id": "NMBr21VPMhRl",
      "execution_count": 6,
      "outputs": [
        {
          "output_type": "display_data",
          "data": {
            "text/plain": [
              "0epoch [00:00, ?epoch/s]"
            ],
            "application/vnd.jupyter.widget-view+json": {
              "version_major": 2,
              "version_minor": 0,
              "model_id": "29e5b0a09c314b8db988a040457c359d"
            }
          },
          "metadata": {}
        },
        {
          "output_type": "display_data",
          "data": {
            "text/plain": [
              "<Figure size 800x600 with 1 Axes>"
            ],
            "image/png": "[encoded data removed]"
          },
          "metadata": {}
        }
      ]
    },
    {
      "cell_type": "markdown",
      "source": [
        "Not bad!\n",
        "Using automatic differentiation and gradient descent, the neural network weights and biases have been adjusted to make the neural network approximate the function $\\sin(t)\\cos(t)$.\n",
        "It is not perfect, but it gets the general shape.\n",
        "We could increase the number of `epochs` to train for longer and improve the accuracy."
      ],
      "metadata": {
        "id": "98MMYMYG9eOQ"
      },
      "id": "98MMYMYG9eOQ"
    },
    {
      "cell_type": "markdown",
      "source": [
        "## Recurrent neural network\n",
        "\n",
        "A \"recurrent\" neural network is not exactly feedforward.\n",
        "There are a variety of forms for a recurrent network, but using the previous diagramming method, we can write the most common form as:\n",
        "\n",
        "![](https://raw.githubusercontent.com/GDS-Education-Community-of-Practice/DSECOP/connor_module/Time_Series_Analysis_and_Forecasting/diagrams/recurrent_nn_loop.drawio.svg)\n",
        "\n",
        "As you can see, there is a loop (the recurrent part) which passes information from one evaluation of the function to the next time the function is evaluated.\n",
        "This might seem strange at first glance but makes more sense when you consider a sequence of events.\n",
        "For example, words.\n",
        "If we have three words of a sentence, predicting the next word likely depends on all three words rather than only the previous.\n",
        "\n"
      ],
      "metadata": {
        "id": "HBHH8wxg-q59"
      },
      "id": "HBHH8wxg-q59"
    },
    {
      "cell_type": "markdown",
      "source": [
        "### Structure\n",
        "The \"looped\" diagram shown above can also be written in an \"unrolled\" form as follows:\n",
        "\n",
        "**Many-to-many**\n",
        "\n",
        "![](https://raw.githubusercontent.com/GDS-Education-Community-of-Practice/DSECOP/connor_module/Time_Series_Analysis_and_Forecasting/diagrams/recurrent_nn1.drawio.svg)\n",
        "\n",
        "Note that this form of recurrent neural network requires inputs at each step and gives outputs at each step.\n",
        "This is is not strictly necessary and you could instead have only the end output or only one input and one output as show below:\n",
        "\n",
        "**Many-to-one**\n",
        "![](https://raw.githubusercontent.com/GDS-Education-Community-of-Practice/DSECOP/connor_module/Time_Series_Analysis_and_Forecasting/diagrams/recurrent_nn2.drawio.svg)\n",
        "\n",
        "**One-to-one**\n",
        "![](https://raw.githubusercontent.com/GDS-Education-Community-of-Practice/DSECOP/connor_module/Time_Series_Analysis_and_Forecasting/diagrams/recurrent_nn3.drawio.svg)\n",
        "\n",
        "\n",
        "Each of the demonstrated diagrams features a very simple version of the neural network, but it could have many layers at each step such as the following:\n",
        "\n",
        "![](https://raw.githubusercontent.com/GDS-Education-Community-of-Practice/DSECOP/connor_module/Time_Series_Analysis_and_Forecasting/diagrams/recurrent_nn_loop2.drawio.svg)\n",
        "\n",
        "\n",
        "Fortunately, these can all be easily implemented using the `keras` framework.\n",
        "Let's return to our example of input data of the form $[\\sin(t),\\cos(t)]$ and outputs of the form $\\sin(t)\\cos(t)$ but lets try to use 2 values of $t$ to get the next value.\n",
        "So, we will pass in something like\n",
        "$$\n",
        "\\begin{bmatrix}\n",
        "\\sin(t_1) & \\cos(t_1) \\\\\n",
        "\\sin(t_2) & \\cos(t_2)\n",
        "\\end{bmatrix}\n",
        "$$\n",
        "to get the output $\\sin(t_3)\\cos(t_3)$.\n",
        "We'll use two layers.\n",
        "See below for examples of these recurrent neural network forms:"
      ],
      "metadata": {
        "id": "BJTrmFOcqfxy"
      },
      "id": "BJTrmFOcqfxy"
    },
    {
      "cell_type": "code",
      "source": [
        "keras.utils.set_random_seed(0)\n",
        "\n",
        "# Make input layer of appropriate size (2 samples of size 2 or 1 sample of size 2)\n",
        "x_many   = keras.layers.Input(shape=(2,2))\n",
        "x_one    = keras.layers.Input(shape=(1,2))\n",
        "\n",
        "# Pass input x into first layer of size 3 x 2\n",
        "# return_sequences=True means there is an output for each input\n",
        "y_many = keras.layers.SimpleRNN(3,activation=\"tanh\", return_sequences=True)(x_many)\n",
        "y_one  = keras.layers.SimpleRNN(3,activation=\"tanh\", return_sequences=True)(x_one)\n",
        "y_many_to_many = keras.layers.SimpleRNN(1,activation=\"tanh\", return_sequences=True)(y_many)\n",
        "y_many_to_one  = keras.layers.SimpleRNN(1,activation=\"tanh\", return_sequences=False)(y_many)\n",
        "y_one_to_one   = keras.layers.SimpleRNN(1,activation=\"tanh\", return_sequences=False)(y_one)\n",
        "\n",
        "many_to_many = keras.Model(inputs=x_many,outputs=y_many_to_many)\n",
        "many_to_one  = keras.Model(inputs=x_many,outputs=y_many_to_one)\n",
        "one_to_one   = keras.Model(inputs=x_one ,outputs=y_one_to_one)"
      ],
      "metadata": {
        "id": "WY-53NturRdp"
      },
      "id": "WY-53NturRdp",
      "execution_count": 7,
      "outputs": []
    },
    {
      "cell_type": "code",
      "source": [
        "# 1 batch of 2 random samples of size 2\n",
        "sample_many = np.random.random(size=(1,2,2))\n",
        "sample_one  = np.random.random(size=(1,1,2))\n",
        "\n",
        "print(\"Sample of 2: \\n{}\".format(sample_many))\n",
        "print(\"Many to many output: \\n{}\".format(many_to_many(sample_many)))\n",
        "print(\"Many to one output: \\n{}\".format(many_to_one(sample_many)))\n",
        "print(\"Sample of 1: \\n{}\".format(sample_one))\n",
        "print(\"One to one output: \\n{}\".format(one_to_one(sample_one)))"
      ],
      "metadata": {
        "colab": {
          "base_uri": "https://localhost:8080/"
        },
        "id": "dZU7IqPXtTr3",
        "outputId": "f75377e0-9499-4b4f-de09-e189c4c0adad"
      },
      "id": "dZU7IqPXtTr3",
      "execution_count": 8,
      "outputs": [
        {
          "output_type": "stream",
          "name": "stdout",
          "text": [
            "Sample of 2: \n",
            "[[[0.5488135  0.71518937]\n",
            "  [0.60276338 0.54488318]]]\n",
            "Many to many output: \n",
            "[[[0.2860116]\n",
            "  [0.5201849]]]\n",
            "Many to one output: \n",
            "[[-0.04503517]]\n",
            "Sample of 1: \n",
            "[[[0.4236548  0.64589411]]]\n",
            "One to one output: \n",
            "[[0.37018642]]\n"
          ]
        }
      ]
    },
    {
      "cell_type": "markdown",
      "source": [
        "The number passed into the `SimpleRNN` is the number of loops performed.\n",
        "In the case described above, we want to take samples at times $t_1$ and $t_2$ and output the value of the function at time $t_3$.\n",
        "This is a \"many-to-one\" case.\n",
        "\n",
        "In order to train the network to perform well in this case, we need to arrange our data in pairs of\n",
        "$$\n",
        "\\begin{bmatrix}\n",
        "\\sin(t_i) & \\cos(t_{i}) \\\\\n",
        "\\sin(t_{i+1}) & \\cos(t_{i+1})\n",
        "\\end{bmatrix}\n",
        "$$ aligned with outputs $\\sin(t_{i+2})\\cos(t_{i+2})$:"
      ],
      "metadata": {
        "id": "O6x_xmQr19XH"
      },
      "id": "O6x_xmQr19XH"
    },
    {
      "cell_type": "code",
      "source": [
        "# Arrange our data samples\n",
        "input_samples = []\n",
        "output_samples = []\n",
        "for i in range(98):\n",
        "  # Take two samples at time t_i and t_{i+1}\n",
        "  input_samples.append(samples[i:i+2])\n",
        "  # Get function output at time t_{i+2}\n",
        "  output_samples.append(output_values[i+2])\n",
        "\n",
        "input_samples = np.array(input_samples)\n",
        "output_samples = np.array(output_samples)"
      ],
      "metadata": {
        "id": "0YD5H8CP2_43"
      },
      "id": "0YD5H8CP2_43",
      "execution_count": 9,
      "outputs": []
    },
    {
      "cell_type": "markdown",
      "source": [
        "We can now compile the many to one model and train it on this test data."
      ],
      "metadata": {
        "id": "Wv_VBc7b34xS"
      },
      "id": "Wv_VBc7b34xS"
    },
    {
      "cell_type": "code",
      "source": [
        "# Train model\n",
        "many_to_one.compile(\n",
        "    optimizer = keras.optimizers.Adam(),\n",
        "    loss = keras.losses.MeanSquaredError()\n",
        ")\n",
        "history = many_to_one.fit(\n",
        "    input_samples,\n",
        "    output_samples,\n",
        "    batch_size=10,         # The training takes groups of samples (in this case 10 samples at a time)\n",
        "    epochs=500,            # The number of times to iterate through our dataset\n",
        "    validation_split = 0.2,# Use 20% of data to check accuracy\n",
        "    verbose=0,             # Don't print info as it trains\n",
        "    callbacks=[TqdmCallback(verbose=0)]\n",
        ")\n",
        "\n",
        "# Plot prediction and the true values\n",
        "plt.close('all')\n",
        "plt.figure(figsize=(8,6))\n",
        "plt.plot(t_values, output_values, label=\"$\\sin(t)\\cos(t)$\")\n",
        "plt.plot(t_values[2:], many_to_one(input_samples), label=\"many_to_one(t)\")\n",
        "plt.legend()\n",
        "plt.xlabel(\"t\")\n",
        "plt.show()"
      ],
      "metadata": {
        "colab": {
          "base_uri": "https://localhost:8080/",
          "height": 574,
          "referenced_widgets": [
            "fcffa5c59253484a9cc2f2d2fc6bc649",
            "8d8f5a55c038453ea74f87eaf40e0cc4",
            "0ed063293bfd49469bcbdcaf78860479",
            "86ce9d3e70b248808bc4f191a9422e39",
            "c854dab5f9fa477bbc1fa316e14d7b6f",
            "750b5f4a234e4c17a30147e29cda95f4",
            "9147943a83f44946a9ac521b48b031b0",
            "5a3d7ec84f3643a7a238b9bbc84a2697",
            "81ba78e529f344eaa2ae6fef2f176e8e",
            "837b11a64a0c4715bf1a1125eb8b706a",
            "493c16fc3c904e0b847e1866d9ab1310"
          ]
        },
        "id": "83y65sLs39Dm",
        "outputId": "eb81580e-0798-4df1-bdd6-a30fb51a105f"
      },
      "id": "83y65sLs39Dm",
      "execution_count": 10,
      "outputs": [
        {
          "output_type": "display_data",
          "data": {
            "text/plain": [
              "0epoch [00:00, ?epoch/s]"
            ],
            "application/vnd.jupyter.widget-view+json": {
              "version_major": 2,
              "version_minor": 0,
              "model_id": "fcffa5c59253484a9cc2f2d2fc6bc649"
            }
          },
          "metadata": {}
        },
        {
          "output_type": "display_data",
          "data": {
            "text/plain": [
              "<Figure size 800x600 with 1 Axes>"
            ],
            "image/png": "[encoded data removed]"
          },
          "metadata": {}
        }
      ]
    },
    {
      "cell_type": "markdown",
      "source": [
        "Similar to the feedforward neural network, the recurrent architecture was able to roughly approximate the curve!\n",
        "Although it is not very noticeable in this case, the recurrent model can also uses less weights and biases (because it has the looping behavior built in) making it less computationally expensive and easier to train!\n",
        "This has made the recurrent architecture very popular for time series like applications for real world problems (in fact, modern transformers such as ChatGPT are built on the same concepts as RNNs)."
      ],
      "metadata": {
        "id": "I2Z3gozD5otZ"
      },
      "id": "I2Z3gozD5otZ"
    },
    {
      "cell_type": "markdown",
      "source": [
        "## Forecasting projectile data with recurrent neural networks\n",
        "\n",
        "Recurrent neural networks are mainly used for sequential information because of their repetitive nature.\n",
        "This is perfectly suited for time series data such as our projectile data.\n",
        "\n",
        "Similarly to the application of the ARMA linear model in notebook 2, we will consider our test launch as our training data.\n",
        "As we did in the example, we will consider taking two steps of the distance variable and try to predict the next distance."
      ],
      "metadata": {
        "id": "rDahbG3eqkbs"
      },
      "id": "rDahbG3eqkbs"
    },
    {
      "cell_type": "code",
      "source": [
        "# Get our test launch data\n",
        "test_launch = launches[20]\n",
        "\n",
        "# Take the first quarter of the data\n",
        "distance = test_launch[\"Distance (m)\"]\n",
        "quarter_distance = np.array(distance.iloc[1:17])\n",
        "quarter_height = np.array(test_launch[\"Height (m)\"].iloc[1:17])\n",
        "\n",
        "# Organize the data for our recurrent neural network\n",
        "k = 2\n",
        "distance_in = []\n",
        "distance_out = []\n",
        "for i in range(len(quarter_distance)-k):\n",
        "  # Take k samples at time t_i ... t_{i+k-1}\n",
        "  distance_in.append(quarter_distance[i:i+k].reshape((k,1)))\n",
        "  # Get function output at time t_{i+k}\n",
        "  distance_out.append(quarter_distance[i+k])\n",
        "\n",
        "distance_in = np.array(distance_in)\n",
        "distance_out = np.array(distance_out)"
      ],
      "metadata": {
        "id": "WU8ttzxu8p6I"
      },
      "id": "WU8ttzxu8p6I",
      "execution_count": 11,
      "outputs": []
    },
    {
      "cell_type": "code",
      "source": [
        "keras.utils.set_random_seed(0)\n",
        "\n",
        "# Make simple many to one model (input 2 samples of size 1)\n",
        "x = keras.layers.Input(shape=(k,1))\n",
        "y = keras.layers.SimpleRNN(10,activation=\"tanh\", return_sequences=True)(x)\n",
        "y = keras.layers.SimpleRNN(1,activation=\"linear\", return_sequences=False)(y)\n",
        "distance_model  = keras.Model(inputs=x,outputs=y)\n",
        "\n",
        "# Train model\n",
        "distance_model.compile(\n",
        "    optimizer = keras.optimizers.Adam(),\n",
        "    loss = keras.losses.MeanSquaredError()\n",
        ")\n",
        "history = distance_model.fit(\n",
        "    distance_in,\n",
        "    distance_out,\n",
        "    batch_size=10,         # The training takes groups of samples (in this case 10 samples at a time)\n",
        "    epochs=2000,           # The number of times to iterate through our dataset\n",
        "    validation_split = 0 , # Use 0% of data to check accuracy\n",
        "    verbose=0,             # Don't print info as it trains\n",
        "    callbacks=[TqdmCallback(verbose=0)]\n",
        ")"
      ],
      "metadata": {
        "colab": {
          "base_uri": "https://localhost:8080/",
          "height": 49,
          "referenced_widgets": [
            "1ced7ffc14164f40bf6c5cee9e1af0f7",
            "6da8f9b185324429b64219d1db726379",
            "02b2c99aa9c24a209a8729f821dbed25",
            "954a61f5f8ec4ab5a8d9583170ee266e",
            "29b5fc6101b840e3a1659674d06e486e",
            "1e15db6445ba4548aeec3a67ab8caf8f",
            "c1d26c560cd440e8bd2c2f12874defcc",
            "2a9c2126f7fc4c1c92b8c08eee4d3acb",
            "fee5083521a54c479bdcb30ee41a5a9b",
            "876f65b1b7e44907a4b10918c4e7484d",
            "489133e0a4e44fc1b090945dcf25509b"
          ]
        },
        "id": "hAth-ag0_Jht",
        "outputId": "14456fa6-edf4-45b7-d682-afb48a5ede42"
      },
      "id": "hAth-ag0_Jht",
      "execution_count": 12,
      "outputs": [
        {
          "output_type": "display_data",
          "data": {
            "text/plain": [
              "0epoch [00:00, ?epoch/s]"
            ],
            "application/vnd.jupyter.widget-view+json": {
              "version_major": 2,
              "version_minor": 0,
              "model_id": "1ced7ffc14164f40bf6c5cee9e1af0f7"
            }
          },
          "metadata": {}
        }
      ]
    },
    {
      "cell_type": "code",
      "source": [
        "# Plot prediction and the true values\n",
        "data_distance = distance.iloc[17:]\n",
        "data_height = test_launch[\"Height (m)\"].iloc[17:]\n",
        "\n",
        "# Run predictions through the model to get the next time step\n",
        "predictions = [distance_in[-1][i,0] for i in range(k)]\n",
        "for i in range(len(data_distance)):\n",
        "  # Get the k previous steps\n",
        "  i_input = np.array([predictions[-i] for i in range(k,0,-1)])\n",
        "  prediction = distance_model(i_input.reshape((1,k,1)))\n",
        "  # Convert single value matrix to just a number\n",
        "  predictions.append(np.array(prediction)[0][0])\n",
        "\n",
        "# Cut out first k predictions (that we actually already knew)\n",
        "predictions = np.array(predictions[k:])\n",
        "\n",
        "# Plot\n",
        "plt.close('all')\n",
        "plt.figure(figsize=(10,4))\n",
        "plt.scatter(quarter_distance, quarter_height, label=\"Input\")\n",
        "plt.scatter(data_distance, data_height, label=\"True data\")\n",
        "plt.scatter(predictions, data_height, label=\"Predicted data\")\n",
        "plt.legend()\n",
        "plt.show()"
      ],
      "metadata": {
        "colab": {
          "base_uri": "https://localhost:8080/",
          "height": 368
        },
        "id": "lJvfoPdpgRhU",
        "outputId": "207c3f65-5413-4180-9601-3d2535869f79"
      },
      "id": "lJvfoPdpgRhU",
      "execution_count": 13,
      "outputs": [
        {
          "output_type": "display_data",
          "data": {
            "text/plain": [
              "<Figure size 1000x400 with 1 Axes>"
            ],
            "image/png": "[encoded data removed]"
          },
          "metadata": {}
        }
      ]
    },
    {
      "cell_type": "markdown",
      "source": [
        "Well, those predictions are no good!\n",
        "Apparently, our model is unable to predict the next portion of the data..\n",
        "This is because the model is not good at \"extrapolation\" or predicting beyond where it was trained (this is more common for nonlinear models than for linear models like ARMA because they are more flexible).\n",
        "Note that all of the input data is in the range 0 to 75.\n",
        "It seems that as soon as we give data beyond that, the model spits out values that it has seen before.\n",
        "\n",
        "One way to avoid this issue would be to first make our data stationary or close to stationary (see notebook 2 for more information).\n",
        "We can do this by subtracting the data at the previous time from the current data.\n",
        "Our new stationary distance will then be in the range of the training data and work better with our network."
      ],
      "metadata": {
        "id": "28SZyNgZKsbP"
      },
      "id": "28SZyNgZKsbP"
    },
    {
      "cell_type": "code",
      "source": [
        "keras.utils.set_random_seed(0)\n",
        "\n",
        "# Take the first quarter of the data (stationary)\n",
        "original_distance = test_launch[\"Distance (m)\"].shift()\n",
        "distance = test_launch[\"Distance (m)\"] - test_launch[\"Distance (m)\"].shift()\n",
        "quarter_distance = np.array(distance.iloc[1:17])\n",
        "quarter_height = np.array(test_launch[\"Height (m)\"].iloc[1:17])\n",
        "\n",
        "# Organize the data for our recurrent neural network\n",
        "k = 2\n",
        "distance_in = []\n",
        "distance_out = []\n",
        "for i in range(len(quarter_distance)-k):\n",
        "  # Take k samples at time t_i ... t_{i+k-1}\n",
        "  distance_in.append(quarter_distance[i:i+k].reshape((k,1)))\n",
        "  # Get function output at time t_{i+k}\n",
        "  distance_out.append(quarter_distance[i+k])\n",
        "\n",
        "distance_in = np.array(distance_in)\n",
        "distance_out = np.array(distance_out)\n",
        "\n",
        "# Make simple many to one model (input 2 samples of size 1)\n",
        "x = keras.layers.Input(shape=(k,1))\n",
        "y = keras.layers.SimpleRNN(10,activation=\"tanh\", return_sequences=True)(x)\n",
        "y = keras.layers.SimpleRNN(1,activation=\"linear\", return_sequences=False)(y)\n",
        "distance_model  = keras.Model(inputs=x,outputs=y)\n",
        "\n",
        "# Train model\n",
        "distance_model.compile(\n",
        "    optimizer = keras.optimizers.Adam(),\n",
        "    loss = keras.losses.MeanSquaredError()\n",
        ")\n",
        "history = distance_model.fit(\n",
        "    distance_in,\n",
        "    distance_out,\n",
        "    batch_size=10,         # The training takes groups of samples (in this case 10 samples at a time)\n",
        "    epochs=2000,           # The number of times to iterate through our dataset\n",
        "    validation_split = 0,  # Use 0% of data to check accuracy\n",
        "    verbose=0,             # Don't print info as it trains\n",
        "    callbacks=[TqdmCallback(verbose=0)]\n",
        ")\n",
        "\n",
        "# Plot prediction and the true values\n",
        "data_distance = distance.iloc[17:]\n",
        "data_height = test_launch[\"Height (m)\"].iloc[17:]\n",
        "\n",
        "# Run predictions through the model to get the next time step\n",
        "predictions = [distance_in[-1][i,0] for i in range(k)]\n",
        "for i in range(len(data_distance)):\n",
        "  # Get the k previous steps\n",
        "  i_input = np.array([predictions[-i] for i in range(k,0,-1)])\n",
        "  prediction = distance_model(i_input.reshape((1,k,1)))\n",
        "  # Convert single value matrix to just a number\n",
        "  predictions.append(np.array(prediction)[0][0])\n",
        "\n",
        "# Cut out first k predictions (that we actually already knew)\n",
        "predictions = np.array(predictions[k:])\n",
        "\n",
        "# Shift data and predictions\n",
        "shift_quarter_distance = quarter_distance+original_distance.iloc[1:17]\n",
        "shift_data_distance = data_distance+original_distance.iloc[17:]\n",
        "shift_predictions = [predictions[0]+original_distance.iloc[17]]\n",
        "for pred in predictions[1:]:\n",
        "  shift_predictions.append(pred + shift_predictions[-1])\n",
        "\n",
        "# Plot\n",
        "plt.close('all')\n",
        "plt.figure(figsize=(10,4))\n",
        "plt.scatter(shift_quarter_distance, quarter_height, label=\"Input\")\n",
        "plt.scatter(shift_data_distance, data_height, label=\"True data\")\n",
        "plt.scatter(shift_predictions, data_height, label=\"Predicted data\")\n",
        "plt.legend()\n",
        "plt.show()"
      ],
      "metadata": {
        "colab": {
          "base_uri": "https://localhost:8080/",
          "height": 400,
          "referenced_widgets": [
            "372022ebd5c445f1ab1c54359f3ceba8",
            "562bea54ed4d49729a4672ddfff61ab0",
            "6f0aa5a195f646de862a7e316d1c6abc",
            "ed39cf31f7ae4cf493182be609bb1702",
            "042d7ab742e646c8bbca4171eeba990d",
            "c3433d9d4079417896c9fd4436edbee6",
            "3792679d1cc048f6a78fcbcb6afe37ed",
            "1b9ac3025ddc4f24ba517015e307613a",
            "7cfe0f87f2844c67b9e3f7924ed76035",
            "f4af0701e86d4d3794ff40f2ba67c439",
            "f4ca0adf97c84475be0a205a6c1fb594"
          ]
        },
        "id": "A6QZaATvhfwO",
        "outputId": "84909e8a-58bb-4287-e8e2-8a3861c276d8"
      },
      "id": "A6QZaATvhfwO",
      "execution_count": 14,
      "outputs": [
        {
          "output_type": "display_data",
          "data": {
            "text/plain": [
              "0epoch [00:00, ?epoch/s]"
            ],
            "application/vnd.jupyter.widget-view+json": {
              "version_major": 2,
              "version_minor": 0,
              "model_id": "372022ebd5c445f1ab1c54359f3ceba8"
            }
          },
          "metadata": {}
        },
        {
          "output_type": "display_data",
          "data": {
            "text/plain": [
              "<Figure size 1000x400 with 1 Axes>"
            ],
            "image/png": "[encoded data removed]"
          },
          "metadata": {}
        }
      ]
    },
    {
      "cell_type": "markdown",
      "source": [
        "Well that worked enormously better!\n",
        "But the results still look somewhat equivalent to the linear models of ARMA in notebook 2."
      ],
      "metadata": {
        "id": "wHq3bfugh_GX"
      },
      "id": "wHq3bfugh_GX"
    },
    {
      "cell_type": "markdown",
      "source": [
        "----\n",
        "### Problem 1\n",
        "\n",
        "Try adding more `SimpleRNN` layers, changing the number of nodes in the layers, adding more training `epochs`, and adjusting the number of time points `k` for the dataset to acheive more accurate results.\n",
        "\n",
        "How close can you get?\n",
        "\n",
        "*Note:* It is recommended that you change one at a time to see how each component affects the results."
      ],
      "metadata": {
        "id": "8gUF2wOOL8Nv"
      },
      "id": "8gUF2wOOL8Nv"
    },
    {
      "cell_type": "code",
      "source": [
        "# Answer for Problem 1"
      ],
      "metadata": {
        "id": "fHtN-LhXKxmg"
      },
      "id": "fHtN-LhXKxmg",
      "execution_count": 15,
      "outputs": []
    },
    {
      "cell_type": "markdown",
      "source": [
        "----\n",
        "\n",
        "Now, up until now, our data has been entirely based on the distance information.\n",
        "However, our dataset contains more than just distance.\n",
        "Also, notably, classical linear models such as ARMA cannot easily incorporate more than one variable.\n",
        "But neural networks are very well suited to high dimensional data.\n",
        "\n",
        "What if we also include the height variable in the training and prediction?"
      ],
      "metadata": {
        "id": "nrx3lZw-i0Ek"
      },
      "id": "nrx3lZw-i0Ek"
    },
    {
      "cell_type": "code",
      "source": [
        "keras.utils.set_random_seed(0)\n",
        "\n",
        "# Take the first quarter of the data (stationary)\n",
        "original_dh = test_launch[[\"Distance (m)\", \"Height (m)\"]].shift()\n",
        "dh_data = test_launch[[\"Distance (m)\", \"Height (m)\"]] - test_launch[[\"Distance (m)\", \"Height (m)\"]].shift()\n",
        "quarter_dh = np.array(dh_data.iloc[1:17])\n",
        "quarter_height = np.array(test_launch[\"Height (m)\"].iloc[1:17])\n",
        "\n",
        "# Organize the data for our recurrent neural network\n",
        "k = 4\n",
        "dh_in = []\n",
        "distance_out = []\n",
        "for i in range(len(quarter_dh)-k):\n",
        "  # Take k samples at time t_i ... t_{i+k-1}\n",
        "  dh_in.append(quarter_dh[i:i+k])\n",
        "  # Get function output at time t_{i+k}\n",
        "  distance_out.append(quarter_dh[i+k,0])\n",
        "\n",
        "dh_in = np.array(dh_in)\n",
        "distance_out = np.array(distance_out)\n",
        "\n",
        "# Make simple many to one model (input 2 samples of size 2 variables)\n",
        "x = keras.layers.Input(shape=(k,2))\n",
        "y = keras.layers.SimpleRNN(10,activation=\"tanh\", return_sequences=True)(x)\n",
        "y = keras.layers.SimpleRNN(1,activation=\"linear\", return_sequences=False)(y)\n",
        "dh_model  = keras.Model(inputs=x,outputs=y)\n",
        "\n",
        "# Train model\n",
        "dh_model.compile(\n",
        "    optimizer = keras.optimizers.Adam(),\n",
        "    loss = keras.losses.MeanSquaredError()\n",
        ")\n",
        "history = dh_model.fit(\n",
        "    dh_in,\n",
        "    distance_out,\n",
        "    batch_size=10,         # The training takes groups of samples (in this case 10 samples at a time)\n",
        "    epochs=2000,           # The number of times to iterate through our dataset\n",
        "    validation_split = 0,  # Use 0% of data to check accuracy\n",
        "    verbose=0,             # Don't print info as it trains\n",
        "    callbacks=[TqdmCallback(verbose=0)]\n",
        ")\n",
        "\n",
        "# Plot prediction and the true values\n",
        "data_distance = test_launch[\"Distance (m)\"].iloc[17:]\n",
        "data_height = test_launch[\"Height (m)\"].iloc[17:]\n",
        "\n",
        "# Run predictions through the model to get the next time step\n",
        "predictions = [dh_in[-1][i,0] for i in range(k)]\n",
        "for i in range(len(data_distance)):\n",
        "  # Get the k previous steps of height and with predicted distance\n",
        "  i_input = np.vstack([\n",
        "      np.array([predictions[-i] for i in range(k,0,-1)]),\n",
        "      np.array([dh_data[\"Height (m)\"].iloc[17+i-j] for j in range(k,0,-1)])\n",
        "  ]).T\n",
        "  prediction = dh_model(i_input.reshape((1,k,2)))\n",
        "  # Convert single value matrix to just a number\n",
        "  predictions.append(np.array(prediction)[0][0])\n",
        "\n",
        "# Cut out first k predictions (that we actually already knew)\n",
        "predictions = np.array(predictions[k:])\n",
        "\n",
        "# Shift data and predictions\n",
        "shift_quarter_distance = quarter_dh[:,0]+original_dh[\"Distance (m)\"].iloc[1:17]\n",
        "shift_data_distance = data_distance\n",
        "shift_predictions = [predictions[0]+original_dh[\"Distance (m)\"].iloc[17]]\n",
        "for pred in predictions[1:]:\n",
        "  shift_predictions.append(pred + shift_predictions[-1])\n",
        "\n",
        "# Plot\n",
        "plt.close('all')\n",
        "plt.figure(figsize=(10,4))\n",
        "plt.scatter(shift_quarter_distance, quarter_height, label=\"Input\")\n",
        "plt.scatter(shift_data_distance, data_height, label=\"True data\")\n",
        "plt.scatter(shift_predictions, data_height, label=\"Predicted data\")\n",
        "plt.legend()\n",
        "plt.show()"
      ],
      "metadata": {
        "colab": {
          "base_uri": "https://localhost:8080/",
          "height": 400,
          "referenced_widgets": [
            "315258c07cbe4a14a19c9b8309588a12",
            "6672f603b03648b4ade6f7d46391545d",
            "6e6b893c00094b0d979911e848e061b3",
            "4eaf09ac88da4b2389ef97612de9b047",
            "85bdec6825774bd0a2340144dd7e7be7",
            "0472aeeea1b5469b908e137ec4154a6b",
            "c603291995fa4f0a95d51f00509c339c",
            "afa028a125984ec5bc0e7a80dccb7949",
            "80ed1337e67b4222a5627f6f2ab6f9c1",
            "1200d3192f8b449aa9ae6eafdc1b5c65",
            "64ff63eaed804fc1a5cd1f184675e8c9"
          ]
        },
        "id": "hy0_9LS8xTEG",
        "outputId": "e0dc9448-617f-4105-cda3-4d0b3492a4a1"
      },
      "id": "hy0_9LS8xTEG",
      "execution_count": 16,
      "outputs": [
        {
          "output_type": "display_data",
          "data": {
            "text/plain": [
              "0epoch [00:00, ?epoch/s]"
            ],
            "application/vnd.jupyter.widget-view+json": {
              "version_major": 2,
              "version_minor": 0,
              "model_id": "315258c07cbe4a14a19c9b8309588a12"
            }
          },
          "metadata": {}
        },
        {
          "output_type": "display_data",
          "data": {
            "text/plain": [
              "<Figure size 1000x400 with 1 Axes>"
            ],
            "image/png": "[encoded data removed]"
          },
          "metadata": {}
        }
      ]
    },
    {
      "cell_type": "markdown",
      "source": [
        "This result doesn't look too different from our previous result, but notice that we needed to change to use `k=4` previous time points to make the prediction.\n",
        "You can try to use `k=2` to see the interesting predictions that it yields (because the height values repeat themselves when the projectile comes back down, the distance prediction go backward!)."
      ],
      "metadata": {
        "id": "mUsDPw5TP198"
      },
      "id": "mUsDPw5TP198"
    },
    {
      "cell_type": "markdown",
      "source": [
        "----\n",
        "\n",
        "### Problem 2\n",
        "\n",
        "Using the example above, include the other variables in our dataset.\n",
        "Namely, include the drag coefficient and projectile area.\n",
        "\n",
        "Do these help with the prediction accuracy (without changing anything else)?\n",
        "Why or why not might that be?"
      ],
      "metadata": {
        "id": "HT4wowHvQQGR"
      },
      "id": "HT4wowHvQQGR"
    },
    {
      "cell_type": "code",
      "source": [
        "# Answer to problem 2"
      ],
      "metadata": {
        "id": "HRAMCgXMQduC"
      },
      "id": "HRAMCgXMQduC",
      "execution_count": 17,
      "outputs": []
    },
    {
      "cell_type": "markdown",
      "source": [
        "\n",
        "----"
      ],
      "metadata": {
        "id": "1nReL3axRmzW"
      },
      "id": "1nReL3axRmzW"
    },
    {
      "cell_type": "markdown",
      "source": [
        "\n",
        "### Problem 3\n",
        "\n",
        "So far, we have only used a single test launch.\n",
        "However, the network training can be improved by incorporating all of the launches.\n",
        "In fact, all of the launches can be used in their entirety to train the network, after which we can test it on the case we have been considering.\n",
        "\n",
        "In this problem, fit (or train) the network on all of the data contained in `launches` except for the 20th entry (which is `test_launch`), then predict on the last 3/4 of the data from `test_launch` as the previous examples and problems have shown.\n",
        "\n",
        "*Note:* You will likely need to decrease the number of `epochs` due to the much larger dataset.\n",
        "Also, use `np.any(np.isnan())` to make sure you don't add anything with `NaN` (not a number) to the dataset."
      ],
      "metadata": {
        "id": "L70ALlLJSNK9"
      },
      "id": "L70ALlLJSNK9"
    },
    {
      "cell_type": "code",
      "source": [
        "# Answer to problem 3"
      ],
      "metadata": {
        "id": "Zg31nnG6R-eO"
      },
      "id": "Zg31nnG6R-eO",
      "execution_count": 18,
      "outputs": []
    },
    {
      "cell_type": "markdown",
      "source": [],
      "metadata": {
        "id": "XEc3Qkn5kLY7"
      },
      "id": "XEc3Qkn5kLY7"
    },
    {
      "cell_type": "markdown",
      "source": [
        "----"
      ],
      "metadata": {
        "id": "FljeSy2pfrHD"
      },
      "id": "FljeSy2pfrHD"
    },
    {
      "cell_type": "markdown",
      "source": [
        "## Appendix\n",
        "\n",
        "**Resources:**\n",
        "- https://towardsdatascience.com/time-series-forecasting-deep-learning-vs-statistics-who-wins-c568389d02df"
      ],
      "metadata": {
        "id": "wGJg7hk3zuws"
      },
      "id": "wGJg7hk3zuws"
    }
  ],
  "metadata": {
    "kernelspec": {
      "display_name": "Python 3",
      "name": "python3"
    },
    "language_info": {
      "codemirror_mode": {
        "name": "ipython",
        "version": 3
      },
      "file_extension": ".py",
      "mimetype": "text/x-python",
      "name": "python",
      "nbconvert_exporter": "python",
      "pygments_lexer": "ipython3",
      "version": "3.9.16"
    },
    "colab": {
      "provenance": [],
      "gpuType": "T4",
      "toc_visible": true,
      "include_colab_link": true
    },
    "widgets": {
      "application/vnd.jupyter.widget-state+json": {
        "29e5b0a09c314b8db988a040457c359d": {
          "model_module": "@jupyter-widgets/controls",
          "model_name": "HBoxModel",
          "model_module_version": "1.5.0",
          "state": {
            "_dom_classes": [],
            "_model_module": "@jupyter-widgets/controls",
            "_model_module_version": "1.5.0",
            "_model_name": "HBoxModel",
            "_view_count": null,
            "_view_module": "@jupyter-widgets/controls",
            "_view_module_version": "1.5.0",
            "_view_name": "HBoxView",
            "box_style": "",
            "children": [
              "IPY_MODEL_27e8b1d19a75415db9bf3cb0892d8f20",
              "IPY_MODEL_d277ed404f0e419b85f704b8f00f6fbc",
              "IPY_MODEL_991f3111cea3427ea5feb7d4ab403ead"
            ],
            "layout": "IPY_MODEL_b8fd5a5480544beea54e8e58dc10c3dc"
          }
        },
        "27e8b1d19a75415db9bf3cb0892d8f20": {
          "model_module": "@jupyter-widgets/controls",
          "model_name": "HTMLModel",
          "model_module_version": "1.5.0",
          "state": {
            "_dom_classes": [],
            "_model_module": "@jupyter-widgets/controls",
            "_model_module_version": "1.5.0",
            "_model_name": "HTMLModel",
            "_view_count": null,
            "_view_module": "@jupyter-widgets/controls",
            "_view_module_version": "1.5.0",
            "_view_name": "HTMLView",
            "description": "",
            "description_tooltip": null,
            "layout": "IPY_MODEL_6180b0f72ebf4ad3b9b7ef7e9ad8e5c2",
            "placeholder": "​",
            "style": "IPY_MODEL_d176e3d2c4994644b975e54e7b732757",
            "value": "100%"
          }
        },
        "d277ed404f0e419b85f704b8f00f6fbc": {
          "model_module": "@jupyter-widgets/controls",
          "model_name": "FloatProgressModel",
          "model_module_version": "1.5.0",
          "state": {
            "_dom_classes": [],
            "_model_module": "@jupyter-widgets/controls",
            "_model_module_version": "1.5.0",
            "_model_name": "FloatProgressModel",
            "_view_count": null,
            "_view_module": "@jupyter-widgets/controls",
            "_view_module_version": "1.5.0",
            "_view_name": "ProgressView",
            "bar_style": "success",
            "description": "",
            "description_tooltip": null,
            "layout": "IPY_MODEL_85f7662c825c466fa858479cf0893fbb",
            "max": 500,
            "min": 0,
            "orientation": "horizontal",
            "style": "IPY_MODEL_9c08213ea3f942749a3d4c9c82d7a03e",
            "value": 500
          }
        },
        "991f3111cea3427ea5feb7d4ab403ead": {
          "model_module": "@jupyter-widgets/controls",
          "model_name": "HTMLModel",
          "model_module_version": "1.5.0",
          "state": {
            "_dom_classes": [],
            "_model_module": "@jupyter-widgets/controls",
            "_model_module_version": "1.5.0",
            "_model_name": "HTMLModel",
            "_view_count": null,
            "_view_module": "@jupyter-widgets/controls",
            "_view_module_version": "1.5.0",
            "_view_name": "HTMLView",
            "description": "",
            "description_tooltip": null,
            "layout": "IPY_MODEL_0d2a65b55c3e4d30a290da9cae208e6f",
            "placeholder": "​",
            "style": "IPY_MODEL_596dd7b4e88641d697de261248fd31af",
            "value": " 500/500 [00:33&lt;00:00, 23.53epoch/s, loss=0.00651, val_loss=0.00588]"
          }
        },
        "b8fd5a5480544beea54e8e58dc10c3dc": {
          "model_module": "@jupyter-widgets/base",
          "model_name": "LayoutModel",
          "model_module_version": "1.2.0",
          "state": {
            "_model_module": "@jupyter-widgets/base",
            "_model_module_version": "1.2.0",
            "_model_name": "LayoutModel",
            "_view_count": null,
            "_view_module": "@jupyter-widgets/base",
            "_view_module_version": "1.2.0",
            "_view_name": "LayoutView",
            "align_content": null,
            "align_items": null,
            "align_self": null,
            "border": null,
            "bottom": null,
            "display": null,
            "flex": null,
            "flex_flow": null,
            "grid_area": null,
            "grid_auto_columns": null,
            "grid_auto_flow": null,
            "grid_auto_rows": null,
            "grid_column": null,
            "grid_gap": null,
            "grid_row": null,
            "grid_template_areas": null,
            "grid_template_columns": null,
            "grid_template_rows": null,
            "height": null,
            "justify_content": null,
            "justify_items": null,
            "left": null,
            "margin": null,
            "max_height": null,
            "max_width": null,
            "min_height": null,
            "min_width": null,
            "object_fit": null,
            "object_position": null,
            "order": null,
            "overflow": null,
            "overflow_x": null,
            "overflow_y": null,
            "padding": null,
            "right": null,
            "top": null,
            "visibility": null,
            "width": null
          }
        },
        "6180b0f72ebf4ad3b9b7ef7e9ad8e5c2": {
          "model_module": "@jupyter-widgets/base",
          "model_name": "LayoutModel",
          "model_module_version": "1.2.0",
          "state": {
            "_model_module": "@jupyter-widgets/base",
            "_model_module_version": "1.2.0",
            "_model_name": "LayoutModel",
            "_view_count": null,
            "_view_module": "@jupyter-widgets/base",
            "_view_module_version": "1.2.0",
            "_view_name": "LayoutView",
            "align_content": null,
            "align_items": null,
            "align_self": null,
            "border": null,
            "bottom": null,
            "display": null,
            "flex": null,
            "flex_flow": null,
            "grid_area": null,
            "grid_auto_columns": null,
            "grid_auto_flow": null,
            "grid_auto_rows": null,
            "grid_column": null,
            "grid_gap": null,
            "grid_row": null,
            "grid_template_areas": null,
            "grid_template_columns": null,
            "grid_template_rows": null,
            "height": null,
            "justify_content": null,
            "justify_items": null,
            "left": null,
            "margin": null,
            "max_height": null,
            "max_width": null,
            "min_height": null,
            "min_width": null,
            "object_fit": null,
            "object_position": null,
            "order": null,
            "overflow": null,
            "overflow_x": null,
            "overflow_y": null,
            "padding": null,
            "right": null,
            "top": null,
            "visibility": null,
            "width": null
          }
        },
        "d176e3d2c4994644b975e54e7b732757": {
          "model_module": "@jupyter-widgets/controls",
          "model_name": "DescriptionStyleModel",
          "model_module_version": "1.5.0",
          "state": {
            "_model_module": "@jupyter-widgets/controls",
            "_model_module_version": "1.5.0",
            "_model_name": "DescriptionStyleModel",
            "_view_count": null,
            "_view_module": "@jupyter-widgets/base",
            "_view_module_version": "1.2.0",
            "_view_name": "StyleView",
            "description_width": ""
          }
        },
        "85f7662c825c466fa858479cf0893fbb": {
          "model_module": "@jupyter-widgets/base",
          "model_name": "LayoutModel",
          "model_module_version": "1.2.0",
          "state": {
            "_model_module": "@jupyter-widgets/base",
            "_model_module_version": "1.2.0",
            "_model_name": "LayoutModel",
            "_view_count": null,
            "_view_module": "@jupyter-widgets/base",
            "_view_module_version": "1.2.0",
            "_view_name": "LayoutView",
            "align_content": null,
            "align_items": null,
            "align_self": null,
            "border": null,
            "bottom": null,
            "display": null,
            "flex": null,
            "flex_flow": null,
            "grid_area": null,
            "grid_auto_columns": null,
            "grid_auto_flow": null,
            "grid_auto_rows": null,
            "grid_column": null,
            "grid_gap": null,
            "grid_row": null,
            "grid_template_areas": null,
            "grid_template_columns": null,
            "grid_template_rows": null,
            "height": null,
            "justify_content": null,
            "justify_items": null,
            "left": null,
            "margin": null,
            "max_height": null,
            "max_width": null,
            "min_height": null,
            "min_width": null,
            "object_fit": null,
            "object_position": null,
            "order": null,
            "overflow": null,
            "overflow_x": null,
            "overflow_y": null,
            "padding": null,
            "right": null,
            "top": null,
            "visibility": null,
            "width": null
          }
        },
        "9c08213ea3f942749a3d4c9c82d7a03e": {
          "model_module": "@jupyter-widgets/controls",
          "model_name": "ProgressStyleModel",
          "model_module_version": "1.5.0",
          "state": {
            "_model_module": "@jupyter-widgets/controls",
            "_model_module_version": "1.5.0",
            "_model_name": "ProgressStyleModel",
            "_view_count": null,
            "_view_module": "@jupyter-widgets/base",
            "_view_module_version": "1.2.0",
            "_view_name": "StyleView",
            "bar_color": null,
            "description_width": ""
          }
        },
        "0d2a65b55c3e4d30a290da9cae208e6f": {
          "model_module": "@jupyter-widgets/base",
          "model_name": "LayoutModel",
          "model_module_version": "1.2.0",
          "state": {
            "_model_module": "@jupyter-widgets/base",
            "_model_module_version": "1.2.0",
            "_model_name": "LayoutModel",
            "_view_count": null,
            "_view_module": "@jupyter-widgets/base",
            "_view_module_version": "1.2.0",
            "_view_name": "LayoutView",
            "align_content": null,
            "align_items": null,
            "align_self": null,
            "border": null,
            "bottom": null,
            "display": null,
            "flex": null,
            "flex_flow": null,
            "grid_area": null,
            "grid_auto_columns": null,
            "grid_auto_flow": null,
            "grid_auto_rows": null,
            "grid_column": null,
            "grid_gap": null,
            "grid_row": null,
            "grid_template_areas": null,
            "grid_template_columns": null,
            "grid_template_rows": null,
            "height": null,
            "justify_content": null,
            "justify_items": null,
            "left": null,
            "margin": null,
            "max_height": null,
            "max_width": null,
            "min_height": null,
            "min_width": null,
            "object_fit": null,
            "object_position": null,
            "order": null,
            "overflow": null,
            "overflow_x": null,
            "overflow_y": null,
            "padding": null,
            "right": null,
            "top": null,
            "visibility": null,
            "width": null
          }
        },
        "596dd7b4e88641d697de261248fd31af": {
          "model_module": "@jupyter-widgets/controls",
          "model_name": "DescriptionStyleModel",
          "model_module_version": "1.5.0",
          "state": {
            "_model_module": "@jupyter-widgets/controls",
            "_model_module_version": "1.5.0",
            "_model_name": "DescriptionStyleModel",
            "_view_count": null,
            "_view_module": "@jupyter-widgets/base",
            "_view_module_version": "1.2.0",
            "_view_name": "StyleView",
            "description_width": ""
          }
        },
        "fcffa5c59253484a9cc2f2d2fc6bc649": {
          "model_module": "@jupyter-widgets/controls",
          "model_name": "HBoxModel",
          "model_module_version": "1.5.0",
          "state": {
            "_dom_classes": [],
            "_model_module": "@jupyter-widgets/controls",
            "_model_module_version": "1.5.0",
            "_model_name": "HBoxModel",
            "_view_count": null,
            "_view_module": "@jupyter-widgets/controls",
            "_view_module_version": "1.5.0",
            "_view_name": "HBoxView",
            "box_style": "",
            "children": [
              "IPY_MODEL_8d8f5a55c038453ea74f87eaf40e0cc4",
              "IPY_MODEL_0ed063293bfd49469bcbdcaf78860479",
              "IPY_MODEL_86ce9d3e70b248808bc4f191a9422e39"
            ],
            "layout": "IPY_MODEL_c854dab5f9fa477bbc1fa316e14d7b6f"
          }
        },
        "8d8f5a55c038453ea74f87eaf40e0cc4": {
          "model_module": "@jupyter-widgets/controls",
          "model_name": "HTMLModel",
          "model_module_version": "1.5.0",
          "state": {
            "_dom_classes": [],
            "_model_module": "@jupyter-widgets/controls",
            "_model_module_version": "1.5.0",
            "_model_name": "HTMLModel",
            "_view_count": null,
            "_view_module": "@jupyter-widgets/controls",
            "_view_module_version": "1.5.0",
            "_view_name": "HTMLView",
            "description": "",
            "description_tooltip": null,
            "layout": "IPY_MODEL_750b5f4a234e4c17a30147e29cda95f4",
            "placeholder": "​",
            "style": "IPY_MODEL_9147943a83f44946a9ac521b48b031b0",
            "value": "100%"
          }
        },
        "0ed063293bfd49469bcbdcaf78860479": {
          "model_module": "@jupyter-widgets/controls",
          "model_name": "FloatProgressModel",
          "model_module_version": "1.5.0",
          "state": {
            "_dom_classes": [],
            "_model_module": "@jupyter-widgets/controls",
            "_model_module_version": "1.5.0",
            "_model_name": "FloatProgressModel",
            "_view_count": null,
            "_view_module": "@jupyter-widgets/controls",
            "_view_module_version": "1.5.0",
            "_view_name": "ProgressView",
            "bar_style": "success",
            "description": "",
            "description_tooltip": null,
            "layout": "IPY_MODEL_5a3d7ec84f3643a7a238b9bbc84a2697",
            "max": 500,
            "min": 0,
            "orientation": "horizontal",
            "style": "IPY_MODEL_81ba78e529f344eaa2ae6fef2f176e8e",
            "value": 500
          }
        },
        "86ce9d3e70b248808bc4f191a9422e39": {
          "model_module": "@jupyter-widgets/controls",
          "model_name": "HTMLModel",
          "model_module_version": "1.5.0",
          "state": {
            "_dom_classes": [],
            "_model_module": "@jupyter-widgets/controls",
            "_model_module_version": "1.5.0",
            "_model_name": "HTMLModel",
            "_view_count": null,
            "_view_module": "@jupyter-widgets/controls",
            "_view_module_version": "1.5.0",
            "_view_name": "HTMLView",
            "description": "",
            "description_tooltip": null,
            "layout": "IPY_MODEL_837b11a64a0c4715bf1a1125eb8b706a",
            "placeholder": "​",
            "style": "IPY_MODEL_493c16fc3c904e0b847e1866d9ab1310",
            "value": " 500/500 [00:31&lt;00:00, 12.28epoch/s, loss=0.000222, val_loss=9.53e-5]"
          }
        },
        "c854dab5f9fa477bbc1fa316e14d7b6f": {
          "model_module": "@jupyter-widgets/base",
          "model_name": "LayoutModel",
          "model_module_version": "1.2.0",
          "state": {
            "_model_module": "@jupyter-widgets/base",
            "_model_module_version": "1.2.0",
            "_model_name": "LayoutModel",
            "_view_count": null,
            "_view_module": "@jupyter-widgets/base",
            "_view_module_version": "1.2.0",
            "_view_name": "LayoutView",
            "align_content": null,
            "align_items": null,
            "align_self": null,
            "border": null,
            "bottom": null,
            "display": null,
            "flex": null,
            "flex_flow": null,
            "grid_area": null,
            "grid_auto_columns": null,
            "grid_auto_flow": null,
            "grid_auto_rows": null,
            "grid_column": null,
            "grid_gap": null,
            "grid_row": null,
            "grid_template_areas": null,
            "grid_template_columns": null,
            "grid_template_rows": null,
            "height": null,
            "justify_content": null,
            "justify_items": null,
            "left": null,
            "margin": null,
            "max_height": null,
            "max_width": null,
            "min_height": null,
            "min_width": null,
            "object_fit": null,
            "object_position": null,
            "order": null,
            "overflow": null,
            "overflow_x": null,
            "overflow_y": null,
            "padding": null,
            "right": null,
            "top": null,
            "visibility": null,
            "width": null
          }
        },
        "750b5f4a234e4c17a30147e29cda95f4": {
          "model_module": "@jupyter-widgets/base",
          "model_name": "LayoutModel",
          "model_module_version": "1.2.0",
          "state": {
            "_model_module": "@jupyter-widgets/base",
            "_model_module_version": "1.2.0",
            "_model_name": "LayoutModel",
            "_view_count": null,
            "_view_module": "@jupyter-widgets/base",
            "_view_module_version": "1.2.0",
            "_view_name": "LayoutView",
            "align_content": null,
            "align_items": null,
            "align_self": null,
            "border": null,
            "bottom": null,
            "display": null,
            "flex": null,
            "flex_flow": null,
            "grid_area": null,
            "grid_auto_columns": null,
            "grid_auto_flow": null,
            "grid_auto_rows": null,
            "grid_column": null,
            "grid_gap": null,
            "grid_row": null,
            "grid_template_areas": null,
            "grid_template_columns": null,
            "grid_template_rows": null,
            "height": null,
            "justify_content": null,
            "justify_items": null,
            "left": null,
            "margin": null,
            "max_height": null,
            "max_width": null,
            "min_height": null,
            "min_width": null,
            "object_fit": null,
            "object_position": null,
            "order": null,
            "overflow": null,
            "overflow_x": null,
            "overflow_y": null,
            "padding": null,
            "right": null,
            "top": null,
            "visibility": null,
            "width": null
          }
        },
        "9147943a83f44946a9ac521b48b031b0": {
          "model_module": "@jupyter-widgets/controls",
          "model_name": "DescriptionStyleModel",
          "model_module_version": "1.5.0",
          "state": {
            "_model_module": "@jupyter-widgets/controls",
            "_model_module_version": "1.5.0",
            "_model_name": "DescriptionStyleModel",
            "_view_count": null,
            "_view_module": "@jupyter-widgets/base",
            "_view_module_version": "1.2.0",
            "_view_name": "StyleView",
            "description_width": ""
          }
        },
        "5a3d7ec84f3643a7a238b9bbc84a2697": {
          "model_module": "@jupyter-widgets/base",
          "model_name": "LayoutModel",
          "model_module_version": "1.2.0",
          "state": {
            "_model_module": "@jupyter-widgets/base",
            "_model_module_version": "1.2.0",
            "_model_name": "LayoutModel",
            "_view_count": null,
            "_view_module": "@jupyter-widgets/base",
            "_view_module_version": "1.2.0",
            "_view_name": "LayoutView",
            "align_content": null,
            "align_items": null,
            "align_self": null,
            "border": null,
            "bottom": null,
            "display": null,
            "flex": null,
            "flex_flow": null,
            "grid_area": null,
            "grid_auto_columns": null,
            "grid_auto_flow": null,
            "grid_auto_rows": null,
            "grid_column": null,
            "grid_gap": null,
            "grid_row": null,
            "grid_template_areas": null,
            "grid_template_columns": null,
            "grid_template_rows": null,
            "height": null,
            "justify_content": null,
            "justify_items": null,
            "left": null,
            "margin": null,
            "max_height": null,
            "max_width": null,
            "min_height": null,
            "min_width": null,
            "object_fit": null,
            "object_position": null,
            "order": null,
            "overflow": null,
            "overflow_x": null,
            "overflow_y": null,
            "padding": null,
            "right": null,
            "top": null,
            "visibility": null,
            "width": null
          }
        },
        "81ba78e529f344eaa2ae6fef2f176e8e": {
          "model_module": "@jupyter-widgets/controls",
          "model_name": "ProgressStyleModel",
          "model_module_version": "1.5.0",
          "state": {
            "_model_module": "@jupyter-widgets/controls",
            "_model_module_version": "1.5.0",
            "_model_name": "ProgressStyleModel",
            "_view_count": null,
            "_view_module": "@jupyter-widgets/base",
            "_view_module_version": "1.2.0",
            "_view_name": "StyleView",
            "bar_color": null,
            "description_width": ""
          }
        },
        "837b11a64a0c4715bf1a1125eb8b706a": {
          "model_module": "@jupyter-widgets/base",
          "model_name": "LayoutModel",
          "model_module_version": "1.2.0",
          "state": {
            "_model_module": "@jupyter-widgets/base",
            "_model_module_version": "1.2.0",
            "_model_name": "LayoutModel",
            "_view_count": null,
            "_view_module": "@jupyter-widgets/base",
            "_view_module_version": "1.2.0",
            "_view_name": "LayoutView",
            "align_content": null,
            "align_items": null,
            "align_self": null,
            "border": null,
            "bottom": null,
            "display": null,
            "flex": null,
            "flex_flow": null,
            "grid_area": null,
            "grid_auto_columns": null,
            "grid_auto_flow": null,
            "grid_auto_rows": null,
            "grid_column": null,
            "grid_gap": null,
            "grid_row": null,
            "grid_template_areas": null,
            "grid_template_columns": null,
            "grid_template_rows": null,
            "height": null,
            "justify_content": null,
            "justify_items": null,
            "left": null,
            "margin": null,
            "max_height": null,
            "max_width": null,
            "min_height": null,
            "min_width": null,
            "object_fit": null,
            "object_position": null,
            "order": null,
            "overflow": null,
            "overflow_x": null,
            "overflow_y": null,
            "padding": null,
            "right": null,
            "top": null,
            "visibility": null,
            "width": null
          }
        },
        "493c16fc3c904e0b847e1866d9ab1310": {
          "model_module": "@jupyter-widgets/controls",
          "model_name": "DescriptionStyleModel",
          "model_module_version": "1.5.0",
          "state": {
            "_model_module": "@jupyter-widgets/controls",
            "_model_module_version": "1.5.0",
            "_model_name": "DescriptionStyleModel",
            "_view_count": null,
            "_view_module": "@jupyter-widgets/base",
            "_view_module_version": "1.2.0",
            "_view_name": "StyleView",
            "description_width": ""
          }
        },
        "1ced7ffc14164f40bf6c5cee9e1af0f7": {
          "model_module": "@jupyter-widgets/controls",
          "model_name": "HBoxModel",
          "model_module_version": "1.5.0",
          "state": {
            "_dom_classes": [],
            "_model_module": "@jupyter-widgets/controls",
            "_model_module_version": "1.5.0",
            "_model_name": "HBoxModel",
            "_view_count": null,
            "_view_module": "@jupyter-widgets/controls",
            "_view_module_version": "1.5.0",
            "_view_name": "HBoxView",
            "box_style": "",
            "children": [
              "IPY_MODEL_6da8f9b185324429b64219d1db726379",
              "IPY_MODEL_02b2c99aa9c24a209a8729f821dbed25",
              "IPY_MODEL_954a61f5f8ec4ab5a8d9583170ee266e"
            ],
            "layout": "IPY_MODEL_29b5fc6101b840e3a1659674d06e486e"
          }
        },
        "6da8f9b185324429b64219d1db726379": {
          "model_module": "@jupyter-widgets/controls",
          "model_name": "HTMLModel",
          "model_module_version": "1.5.0",
          "state": {
            "_dom_classes": [],
            "_model_module": "@jupyter-widgets/controls",
            "_model_module_version": "1.5.0",
            "_model_name": "HTMLModel",
            "_view_count": null,
            "_view_module": "@jupyter-widgets/controls",
            "_view_module_version": "1.5.0",
            "_view_name": "HTMLView",
            "description": "",
            "description_tooltip": null,
            "layout": "IPY_MODEL_1e15db6445ba4548aeec3a67ab8caf8f",
            "placeholder": "​",
            "style": "IPY_MODEL_c1d26c560cd440e8bd2c2f12874defcc",
            "value": "100%"
          }
        },
        "02b2c99aa9c24a209a8729f821dbed25": {
          "model_module": "@jupyter-widgets/controls",
          "model_name": "FloatProgressModel",
          "model_module_version": "1.5.0",
          "state": {
            "_dom_classes": [],
            "_model_module": "@jupyter-widgets/controls",
            "_model_module_version": "1.5.0",
            "_model_name": "FloatProgressModel",
            "_view_count": null,
            "_view_module": "@jupyter-widgets/controls",
            "_view_module_version": "1.5.0",
            "_view_name": "ProgressView",
            "bar_style": "success",
            "description": "",
            "description_tooltip": null,
            "layout": "IPY_MODEL_2a9c2126f7fc4c1c92b8c08eee4d3acb",
            "max": 2000,
            "min": 0,
            "orientation": "horizontal",
            "style": "IPY_MODEL_fee5083521a54c479bdcb30ee41a5a9b",
            "value": 2000
          }
        },
        "954a61f5f8ec4ab5a8d9583170ee266e": {
          "model_module": "@jupyter-widgets/controls",
          "model_name": "HTMLModel",
          "model_module_version": "1.5.0",
          "state": {
            "_dom_classes": [],
            "_model_module": "@jupyter-widgets/controls",
            "_model_module_version": "1.5.0",
            "_model_name": "HTMLModel",
            "_view_count": null,
            "_view_module": "@jupyter-widgets/controls",
            "_view_module_version": "1.5.0",
            "_view_name": "HTMLView",
            "description": "",
            "description_tooltip": null,
            "layout": "IPY_MODEL_876f65b1b7e44907a4b10918c4e7484d",
            "placeholder": "​",
            "style": "IPY_MODEL_489133e0a4e44fc1b090945dcf25509b",
            "value": " 2000/2000 [00:17&lt;00:00, 146.69epoch/s, loss=40.8]"
          }
        },
        "29b5fc6101b840e3a1659674d06e486e": {
          "model_module": "@jupyter-widgets/base",
          "model_name": "LayoutModel",
          "model_module_version": "1.2.0",
          "state": {
            "_model_module": "@jupyter-widgets/base",
            "_model_module_version": "1.2.0",
            "_model_name": "LayoutModel",
            "_view_count": null,
            "_view_module": "@jupyter-widgets/base",
            "_view_module_version": "1.2.0",
            "_view_name": "LayoutView",
            "align_content": null,
            "align_items": null,
            "align_self": null,
            "border": null,
            "bottom": null,
            "display": null,
            "flex": null,
            "flex_flow": null,
            "grid_area": null,
            "grid_auto_columns": null,
            "grid_auto_flow": null,
            "grid_auto_rows": null,
            "grid_column": null,
            "grid_gap": null,
            "grid_row": null,
            "grid_template_areas": null,
            "grid_template_columns": null,
            "grid_template_rows": null,
            "height": null,
            "justify_content": null,
            "justify_items": null,
            "left": null,
            "margin": null,
            "max_height": null,
            "max_width": null,
            "min_height": null,
            "min_width": null,
            "object_fit": null,
            "object_position": null,
            "order": null,
            "overflow": null,
            "overflow_x": null,
            "overflow_y": null,
            "padding": null,
            "right": null,
            "top": null,
            "visibility": null,
            "width": null
          }
        },
        "1e15db6445ba4548aeec3a67ab8caf8f": {
          "model_module": "@jupyter-widgets/base",
          "model_name": "LayoutModel",
          "model_module_version": "1.2.0",
          "state": {
            "_model_module": "@jupyter-widgets/base",
            "_model_module_version": "1.2.0",
            "_model_name": "LayoutModel",
            "_view_count": null,
            "_view_module": "@jupyter-widgets/base",
            "_view_module_version": "1.2.0",
            "_view_name": "LayoutView",
            "align_content": null,
            "align_items": null,
            "align_self": null,
            "border": null,
            "bottom": null,
            "display": null,
            "flex": null,
            "flex_flow": null,
            "grid_area": null,
            "grid_auto_columns": null,
            "grid_auto_flow": null,
            "grid_auto_rows": null,
            "grid_column": null,
            "grid_gap": null,
            "grid_row": null,
            "grid_template_areas": null,
            "grid_template_columns": null,
            "grid_template_rows": null,
            "height": null,
            "justify_content": null,
            "justify_items": null,
            "left": null,
            "margin": null,
            "max_height": null,
            "max_width": null,
            "min_height": null,
            "min_width": null,
            "object_fit": null,
            "object_position": null,
            "order": null,
            "overflow": null,
            "overflow_x": null,
            "overflow_y": null,
            "padding": null,
            "right": null,
            "top": null,
            "visibility": null,
            "width": null
          }
        },
        "c1d26c560cd440e8bd2c2f12874defcc": {
          "model_module": "@jupyter-widgets/controls",
          "model_name": "DescriptionStyleModel",
          "model_module_version": "1.5.0",
          "state": {
            "_model_module": "@jupyter-widgets/controls",
            "_model_module_version": "1.5.0",
            "_model_name": "DescriptionStyleModel",
            "_view_count": null,
            "_view_module": "@jupyter-widgets/base",
            "_view_module_version": "1.2.0",
            "_view_name": "StyleView",
            "description_width": ""
          }
        },
        "2a9c2126f7fc4c1c92b8c08eee4d3acb": {
          "model_module": "@jupyter-widgets/base",
          "model_name": "LayoutModel",
          "model_module_version": "1.2.0",
          "state": {
            "_model_module": "@jupyter-widgets/base",
            "_model_module_version": "1.2.0",
            "_model_name": "LayoutModel",
            "_view_count": null,
            "_view_module": "@jupyter-widgets/base",
            "_view_module_version": "1.2.0",
            "_view_name": "LayoutView",
            "align_content": null,
            "align_items": null,
            "align_self": null,
            "border": null,
            "bottom": null,
            "display": null,
            "flex": null,
            "flex_flow": null,
            "grid_area": null,
            "grid_auto_columns": null,
            "grid_auto_flow": null,
            "grid_auto_rows": null,
            "grid_column": null,
            "grid_gap": null,
            "grid_row": null,
            "grid_template_areas": null,
            "grid_template_columns": null,
            "grid_template_rows": null,
            "height": null,
            "justify_content": null,
            "justify_items": null,
            "left": null,
            "margin": null,
            "max_height": null,
            "max_width": null,
            "min_height": null,
            "min_width": null,
            "object_fit": null,
            "object_position": null,
            "order": null,
            "overflow": null,
            "overflow_x": null,
            "overflow_y": null,
            "padding": null,
            "right": null,
            "top": null,
            "visibility": null,
            "width": null
          }
        },
        "fee5083521a54c479bdcb30ee41a5a9b": {
          "model_module": "@jupyter-widgets/controls",
          "model_name": "ProgressStyleModel",
          "model_module_version": "1.5.0",
          "state": {
            "_model_module": "@jupyter-widgets/controls",
            "_model_module_version": "1.5.0",
            "_model_name": "ProgressStyleModel",
            "_view_count": null,
            "_view_module": "@jupyter-widgets/base",
            "_view_module_version": "1.2.0",
            "_view_name": "StyleView",
            "bar_color": null,
            "description_width": ""
          }
        },
        "876f65b1b7e44907a4b10918c4e7484d": {
          "model_module": "@jupyter-widgets/base",
          "model_name": "LayoutModel",
          "model_module_version": "1.2.0",
          "state": {
            "_model_module": "@jupyter-widgets/base",
            "_model_module_version": "1.2.0",
            "_model_name": "LayoutModel",
            "_view_count": null,
            "_view_module": "@jupyter-widgets/base",
            "_view_module_version": "1.2.0",
            "_view_name": "LayoutView",
            "align_content": null,
            "align_items": null,
            "align_self": null,
            "border": null,
            "bottom": null,
            "display": null,
            "flex": null,
            "flex_flow": null,
            "grid_area": null,
            "grid_auto_columns": null,
            "grid_auto_flow": null,
            "grid_auto_rows": null,
            "grid_column": null,
            "grid_gap": null,
            "grid_row": null,
            "grid_template_areas": null,
            "grid_template_columns": null,
            "grid_template_rows": null,
            "height": null,
            "justify_content": null,
            "justify_items": null,
            "left": null,
            "margin": null,
            "max_height": null,
            "max_width": null,
            "min_height": null,
            "min_width": null,
            "object_fit": null,
            "object_position": null,
            "order": null,
            "overflow": null,
            "overflow_x": null,
            "overflow_y": null,
            "padding": null,
            "right": null,
            "top": null,
            "visibility": null,
            "width": null
          }
        },
        "489133e0a4e44fc1b090945dcf25509b": {
          "model_module": "@jupyter-widgets/controls",
          "model_name": "DescriptionStyleModel",
          "model_module_version": "1.5.0",
          "state": {
            "_model_module": "@jupyter-widgets/controls",
            "_model_module_version": "1.5.0",
            "_model_name": "DescriptionStyleModel",
            "_view_count": null,
            "_view_module": "@jupyter-widgets/base",
            "_view_module_version": "1.2.0",
            "_view_name": "StyleView",
            "description_width": ""
          }
        },
        "372022ebd5c445f1ab1c54359f3ceba8": {
          "model_module": "@jupyter-widgets/controls",
          "model_name": "HBoxModel",
          "model_module_version": "1.5.0",
          "state": {
            "_dom_classes": [],
            "_model_module": "@jupyter-widgets/controls",
            "_model_module_version": "1.5.0",
            "_model_name": "HBoxModel",
            "_view_count": null,
            "_view_module": "@jupyter-widgets/controls",
            "_view_module_version": "1.5.0",
            "_view_name": "HBoxView",
            "box_style": "",
            "children": [
              "IPY_MODEL_562bea54ed4d49729a4672ddfff61ab0",
              "IPY_MODEL_6f0aa5a195f646de862a7e316d1c6abc",
              "IPY_MODEL_ed39cf31f7ae4cf493182be609bb1702"
            ],
            "layout": "IPY_MODEL_042d7ab742e646c8bbca4171eeba990d"
          }
        },
        "562bea54ed4d49729a4672ddfff61ab0": {
          "model_module": "@jupyter-widgets/controls",
          "model_name": "HTMLModel",
          "model_module_version": "1.5.0",
          "state": {
            "_dom_classes": [],
            "_model_module": "@jupyter-widgets/controls",
            "_model_module_version": "1.5.0",
            "_model_name": "HTMLModel",
            "_view_count": null,
            "_view_module": "@jupyter-widgets/controls",
            "_view_module_version": "1.5.0",
            "_view_name": "HTMLView",
            "description": "",
            "description_tooltip": null,
            "layout": "IPY_MODEL_c3433d9d4079417896c9fd4436edbee6",
            "placeholder": "​",
            "style": "IPY_MODEL_3792679d1cc048f6a78fcbcb6afe37ed",
            "value": "100%"
          }
        },
        "6f0aa5a195f646de862a7e316d1c6abc": {
          "model_module": "@jupyter-widgets/controls",
          "model_name": "FloatProgressModel",
          "model_module_version": "1.5.0",
          "state": {
            "_dom_classes": [],
            "_model_module": "@jupyter-widgets/controls",
            "_model_module_version": "1.5.0",
            "_model_name": "FloatProgressModel",
            "_view_count": null,
            "_view_module": "@jupyter-widgets/controls",
            "_view_module_version": "1.5.0",
            "_view_name": "ProgressView",
            "bar_style": "success",
            "description": "",
            "description_tooltip": null,
            "layout": "IPY_MODEL_1b9ac3025ddc4f24ba517015e307613a",
            "max": 2000,
            "min": 0,
            "orientation": "horizontal",
            "style": "IPY_MODEL_7cfe0f87f2844c67b9e3f7924ed76035",
            "value": 2000
          }
        },
        "ed39cf31f7ae4cf493182be609bb1702": {
          "model_module": "@jupyter-widgets/controls",
          "model_name": "HTMLModel",
          "model_module_version": "1.5.0",
          "state": {
            "_dom_classes": [],
            "_model_module": "@jupyter-widgets/controls",
            "_model_module_version": "1.5.0",
            "_model_name": "HTMLModel",
            "_view_count": null,
            "_view_module": "@jupyter-widgets/controls",
            "_view_module_version": "1.5.0",
            "_view_name": "HTMLView",
            "description": "",
            "description_tooltip": null,
            "layout": "IPY_MODEL_f4af0701e86d4d3794ff40f2ba67c439",
            "placeholder": "​",
            "style": "IPY_MODEL_f4ca0adf97c84475be0a205a6c1fb594",
            "value": " 2000/2000 [00:17&lt;00:00, 145.38epoch/s, loss=14.5]"
          }
        },
        "042d7ab742e646c8bbca4171eeba990d": {
          "model_module": "@jupyter-widgets/base",
          "model_name": "LayoutModel",
          "model_module_version": "1.2.0",
          "state": {
            "_model_module": "@jupyter-widgets/base",
            "_model_module_version": "1.2.0",
            "_model_name": "LayoutModel",
            "_view_count": null,
            "_view_module": "@jupyter-widgets/base",
            "_view_module_version": "1.2.0",
            "_view_name": "LayoutView",
            "align_content": null,
            "align_items": null,
            "align_self": null,
            "border": null,
            "bottom": null,
            "display": null,
            "flex": null,
            "flex_flow": null,
            "grid_area": null,
            "grid_auto_columns": null,
            "grid_auto_flow": null,
            "grid_auto_rows": null,
            "grid_column": null,
            "grid_gap": null,
            "grid_row": null,
            "grid_template_areas": null,
            "grid_template_columns": null,
            "grid_template_rows": null,
            "height": null,
            "justify_content": null,
            "justify_items": null,
            "left": null,
            "margin": null,
            "max_height": null,
            "max_width": null,
            "min_height": null,
            "min_width": null,
            "object_fit": null,
            "object_position": null,
            "order": null,
            "overflow": null,
            "overflow_x": null,
            "overflow_y": null,
            "padding": null,
            "right": null,
            "top": null,
            "visibility": null,
            "width": null
          }
        },
        "c3433d9d4079417896c9fd4436edbee6": {
          "model_module": "@jupyter-widgets/base",
          "model_name": "LayoutModel",
          "model_module_version": "1.2.0",
          "state": {
            "_model_module": "@jupyter-widgets/base",
            "_model_module_version": "1.2.0",
            "_model_name": "LayoutModel",
            "_view_count": null,
            "_view_module": "@jupyter-widgets/base",
            "_view_module_version": "1.2.0",
            "_view_name": "LayoutView",
            "align_content": null,
            "align_items": null,
            "align_self": null,
            "border": null,
            "bottom": null,
            "display": null,
            "flex": null,
            "flex_flow": null,
            "grid_area": null,
            "grid_auto_columns": null,
            "grid_auto_flow": null,
            "grid_auto_rows": null,
            "grid_column": null,
            "grid_gap": null,
            "grid_row": null,
            "grid_template_areas": null,
            "grid_template_columns": null,
            "grid_template_rows": null,
            "height": null,
            "justify_content": null,
            "justify_items": null,
            "left": null,
            "margin": null,
            "max_height": null,
            "max_width": null,
            "min_height": null,
            "min_width": null,
            "object_fit": null,
            "object_position": null,
            "order": null,
            "overflow": null,
            "overflow_x": null,
            "overflow_y": null,
            "padding": null,
            "right": null,
            "top": null,
            "visibility": null,
            "width": null
          }
        },
        "3792679d1cc048f6a78fcbcb6afe37ed": {
          "model_module": "@jupyter-widgets/controls",
          "model_name": "DescriptionStyleModel",
          "model_module_version": "1.5.0",
          "state": {
            "_model_module": "@jupyter-widgets/controls",
            "_model_module_version": "1.5.0",
            "_model_name": "DescriptionStyleModel",
            "_view_count": null,
            "_view_module": "@jupyter-widgets/base",
            "_view_module_version": "1.2.0",
            "_view_name": "StyleView",
            "description_width": ""
          }
        },
        "1b9ac3025ddc4f24ba517015e307613a": {
          "model_module": "@jupyter-widgets/base",
          "model_name": "LayoutModel",
          "model_module_version": "1.2.0",
          "state": {
            "_model_module": "@jupyter-widgets/base",
            "_model_module_version": "1.2.0",
            "_model_name": "LayoutModel",
            "_view_count": null,
            "_view_module": "@jupyter-widgets/base",
            "_view_module_version": "1.2.0",
            "_view_name": "LayoutView",
            "align_content": null,
            "align_items": null,
            "align_self": null,
            "border": null,
            "bottom": null,
            "display": null,
            "flex": null,
            "flex_flow": null,
            "grid_area": null,
            "grid_auto_columns": null,
            "grid_auto_flow": null,
            "grid_auto_rows": null,
            "grid_column": null,
            "grid_gap": null,
            "grid_row": null,
            "grid_template_areas": null,
            "grid_template_columns": null,
            "grid_template_rows": null,
            "height": null,
            "justify_content": null,
            "justify_items": null,
            "left": null,
            "margin": null,
            "max_height": null,
            "max_width": null,
            "min_height": null,
            "min_width": null,
            "object_fit": null,
            "object_position": null,
            "order": null,
            "overflow": null,
            "overflow_x": null,
            "overflow_y": null,
            "padding": null,
            "right": null,
            "top": null,
            "visibility": null,
            "width": null
          }
        },
        "7cfe0f87f2844c67b9e3f7924ed76035": {
          "model_module": "@jupyter-widgets/controls",
          "model_name": "ProgressStyleModel",
          "model_module_version": "1.5.0",
          "state": {
            "_model_module": "@jupyter-widgets/controls",
            "_model_module_version": "1.5.0",
            "_model_name": "ProgressStyleModel",
            "_view_count": null,
            "_view_module": "@jupyter-widgets/base",
            "_view_module_version": "1.2.0",
            "_view_name": "StyleView",
            "bar_color": null,
            "description_width": ""
          }
        },
        "f4af0701e86d4d3794ff40f2ba67c439": {
          "model_module": "@jupyter-widgets/base",
          "model_name": "LayoutModel",
          "model_module_version": "1.2.0",
          "state": {
            "_model_module": "@jupyter-widgets/base",
            "_model_module_version": "1.2.0",
            "_model_name": "LayoutModel",
            "_view_count": null,
            "_view_module": "@jupyter-widgets/base",
            "_view_module_version": "1.2.0",
            "_view_name": "LayoutView",
            "align_content": null,
            "align_items": null,
            "align_self": null,
            "border": null,
            "bottom": null,
            "display": null,
            "flex": null,
            "flex_flow": null,
            "grid_area": null,
            "grid_auto_columns": null,
            "grid_auto_flow": null,
            "grid_auto_rows": null,
            "grid_column": null,
            "grid_gap": null,
            "grid_row": null,
            "grid_template_areas": null,
            "grid_template_columns": null,
            "grid_template_rows": null,
            "height": null,
            "justify_content": null,
            "justify_items": null,
            "left": null,
            "margin": null,
            "max_height": null,
            "max_width": null,
            "min_height": null,
            "min_width": null,
            "object_fit": null,
            "object_position": null,
            "order": null,
            "overflow": null,
            "overflow_x": null,
            "overflow_y": null,
            "padding": null,
            "right": null,
            "top": null,
            "visibility": null,
            "width": null
          }
        },
        "f4ca0adf97c84475be0a205a6c1fb594": {
          "model_module": "@jupyter-widgets/controls",
          "model_name": "DescriptionStyleModel",
          "model_module_version": "1.5.0",
          "state": {
            "_model_module": "@jupyter-widgets/controls",
            "_model_module_version": "1.5.0",
            "_model_name": "DescriptionStyleModel",
            "_view_count": null,
            "_view_module": "@jupyter-widgets/base",
            "_view_module_version": "1.2.0",
            "_view_name": "StyleView",
            "description_width": ""
          }
        },
        "315258c07cbe4a14a19c9b8309588a12": {
          "model_module": "@jupyter-widgets/controls",
          "model_name": "HBoxModel",
          "model_module_version": "1.5.0",
          "state": {
            "_dom_classes": [],
            "_model_module": "@jupyter-widgets/controls",
            "_model_module_version": "1.5.0",
            "_model_name": "HBoxModel",
            "_view_count": null,
            "_view_module": "@jupyter-widgets/controls",
            "_view_module_version": "1.5.0",
            "_view_name": "HBoxView",
            "box_style": "",
            "children": [
              "IPY_MODEL_6672f603b03648b4ade6f7d46391545d",
              "IPY_MODEL_6e6b893c00094b0d979911e848e061b3",
              "IPY_MODEL_4eaf09ac88da4b2389ef97612de9b047"
            ],
            "layout": "IPY_MODEL_85bdec6825774bd0a2340144dd7e7be7"
          }
        },
        "6672f603b03648b4ade6f7d46391545d": {
          "model_module": "@jupyter-widgets/controls",
          "model_name": "HTMLModel",
          "model_module_version": "1.5.0",
          "state": {
            "_dom_classes": [],
            "_model_module": "@jupyter-widgets/controls",
            "_model_module_version": "1.5.0",
            "_model_name": "HTMLModel",
            "_view_count": null,
            "_view_module": "@jupyter-widgets/controls",
            "_view_module_version": "1.5.0",
            "_view_name": "HTMLView",
            "description": "",
            "description_tooltip": null,
            "layout": "IPY_MODEL_0472aeeea1b5469b908e137ec4154a6b",
            "placeholder": "​",
            "style": "IPY_MODEL_c603291995fa4f0a95d51f00509c339c",
            "value": "100%"
          }
        },
        "6e6b893c00094b0d979911e848e061b3": {
          "model_module": "@jupyter-widgets/controls",
          "model_name": "FloatProgressModel",
          "model_module_version": "1.5.0",
          "state": {
            "_dom_classes": [],
            "_model_module": "@jupyter-widgets/controls",
            "_model_module_version": "1.5.0",
            "_model_name": "FloatProgressModel",
            "_view_count": null,
            "_view_module": "@jupyter-widgets/controls",
            "_view_module_version": "1.5.0",
            "_view_name": "ProgressView",
            "bar_style": "success",
            "description": "",
            "description_tooltip": null,
            "layout": "IPY_MODEL_afa028a125984ec5bc0e7a80dccb7949",
            "max": 2000,
            "min": 0,
            "orientation": "horizontal",
            "style": "IPY_MODEL_80ed1337e67b4222a5627f6f2ab6f9c1",
            "value": 2000
          }
        },
        "4eaf09ac88da4b2389ef97612de9b047": {
          "model_module": "@jupyter-widgets/controls",
          "model_name": "HTMLModel",
          "model_module_version": "1.5.0",
          "state": {
            "_dom_classes": [],
            "_model_module": "@jupyter-widgets/controls",
            "_model_module_version": "1.5.0",
            "_model_name": "HTMLModel",
            "_view_count": null,
            "_view_module": "@jupyter-widgets/controls",
            "_view_module_version": "1.5.0",
            "_view_name": "HTMLView",
            "description": "",
            "description_tooltip": null,
            "layout": "IPY_MODEL_1200d3192f8b449aa9ae6eafdc1b5c65",
            "placeholder": "​",
            "style": "IPY_MODEL_64ff63eaed804fc1a5cd1f184675e8c9",
            "value": " 2000/2000 [00:19&lt;00:00, 109.75epoch/s, loss=1.04e-11]"
          }
        },
        "85bdec6825774bd0a2340144dd7e7be7": {
          "model_module": "@jupyter-widgets/base",
          "model_name": "LayoutModel",
          "model_module_version": "1.2.0",
          "state": {
            "_model_module": "@jupyter-widgets/base",
            "_model_module_version": "1.2.0",
            "_model_name": "LayoutModel",
            "_view_count": null,
            "_view_module": "@jupyter-widgets/base",
            "_view_module_version": "1.2.0",
            "_view_name": "LayoutView",
            "align_content": null,
            "align_items": null,
            "align_self": null,
            "border": null,
            "bottom": null,
            "display": null,
            "flex": null,
            "flex_flow": null,
            "grid_area": null,
            "grid_auto_columns": null,
            "grid_auto_flow": null,
            "grid_auto_rows": null,
            "grid_column": null,
            "grid_gap": null,
            "grid_row": null,
            "grid_template_areas": null,
            "grid_template_columns": null,
            "grid_template_rows": null,
            "height": null,
            "justify_content": null,
            "justify_items": null,
            "left": null,
            "margin": null,
            "max_height": null,
            "max_width": null,
            "min_height": null,
            "min_width": null,
            "object_fit": null,
            "object_position": null,
            "order": null,
            "overflow": null,
            "overflow_x": null,
            "overflow_y": null,
            "padding": null,
            "right": null,
            "top": null,
            "visibility": null,
            "width": null
          }
        },
        "0472aeeea1b5469b908e137ec4154a6b": {
          "model_module": "@jupyter-widgets/base",
          "model_name": "LayoutModel",
          "model_module_version": "1.2.0",
          "state": {
            "_model_module": "@jupyter-widgets/base",
            "_model_module_version": "1.2.0",
            "_model_name": "LayoutModel",
            "_view_count": null,
            "_view_module": "@jupyter-widgets/base",
            "_view_module_version": "1.2.0",
            "_view_name": "LayoutView",
            "align_content": null,
            "align_items": null,
            "align_self": null,
            "border": null,
            "bottom": null,
            "display": null,
            "flex": null,
            "flex_flow": null,
            "grid_area": null,
            "grid_auto_columns": null,
            "grid_auto_flow": null,
            "grid_auto_rows": null,
            "grid_column": null,
            "grid_gap": null,
            "grid_row": null,
            "grid_template_areas": null,
            "grid_template_columns": null,
            "grid_template_rows": null,
            "height": null,
            "justify_content": null,
            "justify_items": null,
            "left": null,
            "margin": null,
            "max_height": null,
            "max_width": null,
            "min_height": null,
            "min_width": null,
            "object_fit": null,
            "object_position": null,
            "order": null,
            "overflow": null,
            "overflow_x": null,
            "overflow_y": null,
            "padding": null,
            "right": null,
            "top": null,
            "visibility": null,
            "width": null
          }
        },
        "c603291995fa4f0a95d51f00509c339c": {
          "model_module": "@jupyter-widgets/controls",
          "model_name": "DescriptionStyleModel",
          "model_module_version": "1.5.0",
          "state": {
            "_model_module": "@jupyter-widgets/controls",
            "_model_module_version": "1.5.0",
            "_model_name": "DescriptionStyleModel",
            "_view_count": null,
            "_view_module": "@jupyter-widgets/base",
            "_view_module_version": "1.2.0",
            "_view_name": "StyleView",
            "description_width": ""
          }
        },
        "afa028a125984ec5bc0e7a80dccb7949": {
          "model_module": "@jupyter-widgets/base",
          "model_name": "LayoutModel",
          "model_module_version": "1.2.0",
          "state": {
            "_model_module": "@jupyter-widgets/base",
            "_model_module_version": "1.2.0",
            "_model_name": "LayoutModel",
            "_view_count": null,
            "_view_module": "@jupyter-widgets/base",
            "_view_module_version": "1.2.0",
            "_view_name": "LayoutView",
            "align_content": null,
            "align_items": null,
            "align_self": null,
            "border": null,
            "bottom": null,
            "display": null,
            "flex": null,
            "flex_flow": null,
            "grid_area": null,
            "grid_auto_columns": null,
            "grid_auto_flow": null,
            "grid_auto_rows": null,
            "grid_column": null,
            "grid_gap": null,
            "grid_row": null,
            "grid_template_areas": null,
            "grid_template_columns": null,
            "grid_template_rows": null,
            "height": null,
            "justify_content": null,
            "justify_items": null,
            "left": null,
            "margin": null,
            "max_height": null,
            "max_width": null,
            "min_height": null,
            "min_width": null,
            "object_fit": null,
            "object_position": null,
            "order": null,
            "overflow": null,
            "overflow_x": null,
            "overflow_y": null,
            "padding": null,
            "right": null,
            "top": null,
            "visibility": null,
            "width": null
          }
        },
        "80ed1337e67b4222a5627f6f2ab6f9c1": {
          "model_module": "@jupyter-widgets/controls",
          "model_name": "ProgressStyleModel",
          "model_module_version": "1.5.0",
          "state": {
            "_model_module": "@jupyter-widgets/controls",
            "_model_module_version": "1.5.0",
            "_model_name": "ProgressStyleModel",
            "_view_count": null,
            "_view_module": "@jupyter-widgets/base",
            "_view_module_version": "1.2.0",
            "_view_name": "StyleView",
            "bar_color": null,
            "description_width": ""
          }
        },
        "1200d3192f8b449aa9ae6eafdc1b5c65": {
          "model_module": "@jupyter-widgets/base",
          "model_name": "LayoutModel",
          "model_module_version": "1.2.0",
          "state": {
            "_model_module": "@jupyter-widgets/base",
            "_model_module_version": "1.2.0",
            "_model_name": "LayoutModel",
            "_view_count": null,
            "_view_module": "@jupyter-widgets/base",
            "_view_module_version": "1.2.0",
            "_view_name": "LayoutView",
            "align_content": null,
            "align_items": null,
            "align_self": null,
            "border": null,
            "bottom": null,
            "display": null,
            "flex": null,
            "flex_flow": null,
            "grid_area": null,
            "grid_auto_columns": null,
            "grid_auto_flow": null,
            "grid_auto_rows": null,
            "grid_column": null,
            "grid_gap": null,
            "grid_row": null,
            "grid_template_areas": null,
            "grid_template_columns": null,
            "grid_template_rows": null,
            "height": null,
            "justify_content": null,
            "justify_items": null,
            "left": null,
            "margin": null,
            "max_height": null,
            "max_width": null,
            "min_height": null,
            "min_width": null,
            "object_fit": null,
            "object_position": null,
            "order": null,
            "overflow": null,
            "overflow_x": null,
            "overflow_y": null,
            "padding": null,
            "right": null,
            "top": null,
            "visibility": null,
            "width": null
          }
        },
        "64ff63eaed804fc1a5cd1f184675e8c9": {
          "model_module": "@jupyter-widgets/controls",
          "model_name": "DescriptionStyleModel",
          "model_module_version": "1.5.0",
          "state": {
            "_model_module": "@jupyter-widgets/controls",
            "_model_module_version": "1.5.0",
            "_model_name": "DescriptionStyleModel",
            "_view_count": null,
            "_view_module": "@jupyter-widgets/base",
            "_view_module_version": "1.2.0",
            "_view_name": "StyleView",
            "description_width": ""
          }
        }
      }
    }
  },
  "nbformat": 4,
  "nbformat_minor": 5
}