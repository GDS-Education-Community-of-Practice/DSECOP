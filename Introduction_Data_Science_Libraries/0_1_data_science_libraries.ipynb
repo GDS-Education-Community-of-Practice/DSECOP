{
  "nbformat": 4,
  "nbformat_minor": 0,
  "metadata": {
    "colab": {
      "provenance": []
    },
    "kernelspec": {
      "name": "python3",
      "display_name": "Python 3"
    },
    "language_info": {
      "name": "python"
    }
  },
  "cells": [
    {
      "cell_type": "markdown",
      "source": [
        "# Introduction to Data Science Libraries: Using Pandas, Seaborn, and Matplotlib to Analyze Physics Data\n",
        "\n",
        "Author: Julie Butler\n",
        "\n",
        "Date Created: March 7, 2023\n",
        "\n",
        "Last Modified: April 8, 2023\n",
        "\n",
        "The goal of this notebook is to introduce you to three libraries that are commonly used in data science to analyze, format, and display data sets that are stored in files. This notebook is also framed around exploring data sets specific to physics. It thus will cover some of the common problems encountered when analyzing data from physics experiments or theoretical calculations.\n",
        "\n",
        "[View this notebook on Google Colab.](https://colab.research.google.com/drive/1RLwGBn1JL2zhmtLbB4lXSlORXcEpcdQf?usp=sharing)"
      ],
      "metadata": {
        "id": "u14ZF6rF_7Y6"
      }
    },
    {
      "cell_type": "markdown",
      "source": [
        "## Introduction to Data Science Libraries\n",
        "\n",
        "This notebook will introduce you to three libraries commonly used in data science and help analyze physics data. Pandas provide ways to easily import data from a file and save it in something called a Pandas Dataframe, which allows us to easily display the data as a table, access the different columns of data, and begin formatting the data for later analysis. The other two libraries introduced in this notebook, Seaborn and Matplotlib, are used to create graphs from the data set. Each graphing library has its strengths and reasons to use, which will be discussed later in the notebook."
      ],
      "metadata": {
        "id": "LJiizh2_ALpD"
      }
    },
    {
      "cell_type": "markdown",
      "source": [
        "## Introduction to the Data Set\n",
        "\n",
        "The data set we will investigate in this notebook contains the following data for every measurable isotope: number of neutrons, number of protons, number of nucleons, binding energy, the uncertainty of binding energy measurement, atomic mass, and uncertainty on mass measurement. This notebook section will help you better understand this data set and why nuclear scientists may want to study it.\n",
        "\n",
        "### Isotopes and Nucleons\n",
        "\n",
        "The nucleus of an atom contains two types of particles: positively charged particles called **protons** and neutral particles called **neutrons**. The total number of protons in the nucleus is Z, and the total number of neutrons is N. Protons and neutrons are both types of **nucleons**, so the total number of nucleons in the nucleus is A = Z + N. \n",
        "\n",
        "The number of protons in the nucleus determines what **element** it is. For example, all nuclei with 12 protons are carbon nuclei, all nuclei with 1 proton are hydrogen, and all nuclei with 20 protons are calcium. However, the number of neutrons in a nucleus does not define an element. So there are carbon atoms with 11 neutrons, 12 neutrons, 13 neutrons, and so on. Nuclei that have the same number of protons but different numbers of neutrons are referred to as **isotopes** of each other.\n",
        "\n",
        "### Atomic Mass\n",
        "\n",
        "An atom's **atomic mass** is the atom's total mass (i.e., the nucleus and the protons). Note that it is not the same as the sum of the masses of the particles that make up the atom. This will be explored in the next section.\n",
        "\n",
        "### Binding Energy\n",
        "\n",
        "The mass of an atomic nucleus will be less than the total mass of its constituent particles. This difference in mass is called the binding energy, as it is the energy required to hold the atom together. Remember that mass and energy are related by the famous equation from Einstein: $E = mc^2$.\n",
        "\n",
        "To calculate the theoretical binding energies using Einstein's equation, we can define the binding energy as:\n",
        "\n",
        "$$BE = Mc^2 - mc^2,$$\n",
        "\n",
        "where M is the total mass of all of the particles in the atom, m is the actual atomic mass of the atom, and c is the speed of light in a vacuum. We can define M as:\n",
        "\n",
        "$$M = Z(m_p + m_e) + Nm_n,$$\n",
        "\n",
        "where m$_p$ is the mass of a proton, m$_e$ is the mass of an electron, and m$_n$ is the mass of a neutron. So, we can rewrite the binding energy as:\n",
        "\n",
        "$$BE = ((m_p + m_e)Z + m_nN - m)c^2.$$\n",
        "\n",
        "Next, we can define the atomic mass of hydrogen as one proton plus one electron:\n",
        "$$m_h = m_p + m_e,$$\n",
        "\n",
        "which means we can rewrite the binding energy as:\n",
        "\n",
        "$$BE = (m_hZ + m_nN - m)c^2,$$\n",
        "\n",
        "where $m_h$ = 1.007 MeV, $m_n$ = 1.008 MeV and $c^2$ = 931.49 MeV/u.\n",
        "\n",
        "The binding energies in the data set are experimental binding energies. Later in this notebook, we will determine how well the experimental binding energies correspond to the theoretical ones we defined in this section.\n",
        "\n",
        "### Uncertainties\n",
        "\n",
        "The atomic masses and binding energies in this data set were collected through experiments. Any data collected through experimentation has uncertainty in it. Though these are usually relatively small, they are also presented in this data set. "
      ],
      "metadata": {
        "id": "gjsThFcxAOQW"
      }
    },
    {
      "cell_type": "markdown",
      "source": [
        "## Imports"
      ],
      "metadata": {
        "id": "eZWqWxPdN36o"
      }
    },
    {
      "cell_type": "code",
      "execution_count": null,
      "metadata": {
        "id": "qFTETpiCLw7H"
      },
      "outputs": [],
      "source": [
        "# THIRD PARTY IMPORTS\n",
        "import numpy as np\n",
        "import pandas as pd\n",
        "import matplotlib.pyplot as plt\n",
        "from matplotlib import cm\n",
        "from matplotlib.ticker import LinearLocator\n",
        "import seaborn as sns"
      ]
    },
    {
      "cell_type": "code",
      "source": [
        "# GOOGLE DRIVE SET UP\n",
        "from google.colab import drive\n",
        "# Mount my Google Drive\n",
        "drive.mount('/content/gdrive')"
      ],
      "metadata": {
        "id": "TYU1jDsnC5bI"
      },
      "execution_count": null,
      "outputs": []
    },
    {
      "cell_type": "markdown",
      "source": [
        "**EXERCISE 0:** Change the below directory to match where you have the data file stored on Google Drive. `/content/gdrive/My Drive` is the main folder in Google drive, other folders can be added to this path using `/`."
      ],
      "metadata": {
        "id": "_uvaBKuPBEFz"
      }
    },
    {
      "cell_type": "code",
      "source": [
        "# Directory to retrieve data files from (###CHANGE THIS###)\n",
        "data_dir = '/content/gdrive/My Drive/Teaching/DSECOP/Module 3: Data Science Intro/'"
      ],
      "metadata": {
        "id": "EyqwpvlcBCQO"
      },
      "execution_count": null,
      "outputs": []
    },
    {
      "cell_type": "markdown",
      "source": [
        "## Pandas"
      ],
      "metadata": {
        "id": "7pVCcP-29UPW"
      }
    },
    {
      "cell_type": "markdown",
      "source": [
        "### Importing the Data as a Dataframe"
      ],
      "metadata": {
        "id": "F1ygPksM9XqY"
      }
    },
    {
      "cell_type": "markdown",
      "source": [
        "The data set is saved in the file \"NuclearData.tsv\". The file ending \".tsv\" means that the data in the file will be separated into columns using a tab. This and a csv (comma separate columns) are common ways to store data in column format. Luckily, both \".csv\" files and \".tsv\" files are easy to import with the Pandas method `read_csv.` The below code cell imports the data file from where it is saved. We must also specify that the columns of our data are separated with tabs (`\\t` represented a tab in Python). The data is imported as a Python Dataframe, saved in `nuclear_data.tsv` You can read more about the `read_csv` function [here](https://pandas.pydata.org/docs/reference/api/pandas.read_csv.html)."
      ],
      "metadata": {
        "id": "IVN-piXyCURP"
      }
    },
    {
      "cell_type": "code",
      "source": [
        "nuclear_data = pd.read_csv(data_dir+\"nuclear_data.tsv\", sep='\\t')"
      ],
      "metadata": {
        "id": "UNMj3NStL0zo"
      },
      "execution_count": null,
      "outputs": []
    },
    {
      "cell_type": "markdown",
      "source": [
        "First, lets confirm that `nuclear_data` is a Pandas Dataframe by printing its type.\n"
      ],
      "metadata": {
        "id": "NnKny6VPDOHu"
      }
    },
    {
      "cell_type": "code",
      "source": [
        "type(nuclear_data)"
      ],
      "metadata": {
        "id": "gTqU7didC8S7"
      },
      "execution_count": null,
      "outputs": []
    },
    {
      "cell_type": "markdown",
      "source": [
        "Now lets print `nuclear_data` to see what a Dataframe looks like."
      ],
      "metadata": {
        "id": "FUj1VKAXDmGH"
      }
    },
    {
      "cell_type": "code",
      "source": [
        "nuclear_data"
      ],
      "metadata": {
        "id": "h4J5ISevZJ_v"
      },
      "execution_count": null,
      "outputs": []
    },
    {
      "cell_type": "markdown",
      "source": [
        "A Dataframe allows us to easily display the different columns and rows of the data file in a table. It even used the column labels from the data file to name the other columns. The columns from left to right are the number of neutrons, number of protons, number of nucleons (i.e., the total number of protons and neutrons or A = N+Z), the elemental symbol, the binding energy per nucleon, the uncertainty on the binding energy, the atomic mass, and the uncertainty on the atomic mass.\n",
        "\n",
        "Sometimes it is easier to display just the first few rows of a data frame instead of just what a basic print statement gives. We can accomplish this with the `head` function. You can read more about it [here](https://pandas.pydata.org/docs/reference/api/pandas.DataFrame.head.html).\n",
        "\n"
      ],
      "metadata": {
        "id": "78a3MPioEt7b"
      }
    },
    {
      "cell_type": "code",
      "source": [
        "nuclear_data.head()"
      ],
      "metadata": {
        "id": "3lzC9Q9XZIAR"
      },
      "execution_count": null,
      "outputs": []
    },
    {
      "cell_type": "markdown",
      "source": [
        "### Access the Data Columns\n",
        "\n",
        "A Pandas Dataframe can behave like a dictionary where the column headings are the keys, and the columns are the values. The column headings can even be printed using the `keys` function, exactly like dictionaries."
      ],
      "metadata": {
        "id": "Pyb4cCNYHmId"
      }
    },
    {
      "cell_type": "code",
      "source": [
        "nuclear_data.keys()"
      ],
      "metadata": {
        "id": "_gUGQBNDXrAu"
      },
      "execution_count": null,
      "outputs": []
    },
    {
      "cell_type": "markdown",
      "source": [
        "This means that we can access the different columns of data separately by using their column name.  For example, if I wanted to separate the data for the number of neutrons from the remainder of the Dataframe using the following code."
      ],
      "metadata": {
        "id": "WejAQPZ0Xv1p"
      }
    },
    {
      "cell_type": "code",
      "source": [
        "number_of_neutrons_data = nuclear_data['N']\n",
        "number_of_neutrons_data"
      ],
      "metadata": {
        "id": "0jFXW15WYcBK"
      },
      "execution_count": null,
      "outputs": []
    },
    {
      "cell_type": "markdown",
      "source": [
        "Note that the first column of the above printout are just indices, and the second column is the data.\n",
        "\n",
        "**EXERCISE 1:** In the below code cell, explore accessing the various columns of data using the column headers. Make sure you can access all of the different columns."
      ],
      "metadata": {
        "id": "tj7OEvujYjMb"
      }
    },
    {
      "cell_type": "code",
      "source": [],
      "metadata": {
        "id": "NQUh8TDgYjiB"
      },
      "execution_count": null,
      "outputs": []
    },
    {
      "cell_type": "markdown",
      "source": [
        "### Initial Formatting of the Data\n",
        "\n",
        "After a data set is imported, we need to start formatting it so it's ready for analysis. Most of the time, this will include ensuring the data is the correct type (i.e., numeric or words) and that every entry in the Dataframe is filled out. Every column of the Dataframe should be numeric except for the element symbol. However, when `nuclear_data` is printed, some of the rows contain \"#\"s next to the number. This indicates that the value results from an extrapolation instead of an experimental result, but adding the \"#\" does mean that that entry is no longer a number. We need the expected numeric data for later analysis, so the following code cell will force the last four columns to be numeric. This will convert the entries with \"#\" to \"NaN,\" which stands for \"not a number.\" This makes these entries easier to remove.\n",
        "\n",
        "The process shown in this notebook section is quite common when working with physics data sets. But, first, Python must recognize the columns we wish to perform calculations with as numeric values. If you complete this step, it will make much of the later analysis in this notebook possible."
      ],
      "metadata": {
        "id": "LUUqP9eb9e4Z"
      }
    },
    {
      "cell_type": "code",
      "source": [
        "nuclear_data['BE'] = pd.to_numeric(nuclear_data['BE'], errors='coerce')\n",
        "nuclear_data['BEd'] = pd.to_numeric(nuclear_data['BEd'], errors='coerce')\n",
        "nuclear_data['MASS'] = pd.to_numeric(nuclear_data['MASS'], errors='coerce')\n",
        "nuclear_data['MASSd'] = pd.to_numeric(nuclear_data['MASSd'], errors='coerce')"
      ],
      "metadata": {
        "id": "r1JVH6JPQuuX"
      },
      "execution_count": null,
      "outputs": []
    },
    {
      "cell_type": "markdown",
      "source": [
        "If we now print `nuclear_data` we should see that most of the later data (which previously contained \"#\"s) should read \"NaN\"."
      ],
      "metadata": {
        "id": "lqzN7qXvI165"
      }
    },
    {
      "cell_type": "code",
      "source": [
        "nuclear_data"
      ],
      "metadata": {
        "id": "8VqIHZv5IgaP"
      },
      "execution_count": null,
      "outputs": []
    },
    {
      "cell_type": "markdown",
      "source": [
        "Pandas makes it very easy to remove \"NaN\" values from a Dataframe, so now the data will be easy to format.  If you are unsure if there are \"NaN\" values in your Dataframe you can use the below line of code to check.  It will return `True` if any entries in the Dataframe are \"NaN\"."
      ],
      "metadata": {
        "id": "yA89fvTAJsEV"
      }
    },
    {
      "cell_type": "code",
      "source": [
        "nuclear_data.isnull().values.any()"
      ],
      "metadata": {
        "id": "-Zm5i2tpG0Ug"
      },
      "execution_count": null,
      "outputs": []
    },
    {
      "cell_type": "markdown",
      "source": [
        "Before we remove the \"NaN\"s, lets print the number of rows in the Dataframe, using the 'len' function, to see how many data points we started out with."
      ],
      "metadata": {
        "id": "TISa6RhbKBTP"
      }
    },
    {
      "cell_type": "code",
      "source": [
        "len(nuclear_data)"
      ],
      "metadata": {
        "id": "k4F8zxULGYrY"
      },
      "execution_count": null,
      "outputs": []
    },
    {
      "cell_type": "markdown",
      "source": [
        "`dropna` will remove a row from the Dataframe if any entry in that row is \"NaN\".  This will reduce the amount of data we have in our Dataframe but it ensures that the remaining data is numeric. You can read more about `dropna` [here](https://pandas.pydata.org/docs/reference/api/pandas.DataFrame.dropna.html)."
      ],
      "metadata": {
        "id": "5xry5Ru6KMr1"
      }
    },
    {
      "cell_type": "code",
      "source": [
        "nuclear_data = nuclear_data.dropna()"
      ],
      "metadata": {
        "id": "qxV2mP6vFwzg"
      },
      "execution_count": null,
      "outputs": []
    },
    {
      "cell_type": "markdown",
      "source": [
        "Finally, let's print the number of remaining data points and the Dataframe to make sure the data still looks reasonable."
      ],
      "metadata": {
        "id": "D1yVzooAK_vw"
      }
    },
    {
      "cell_type": "code",
      "source": [
        "len(nuclear_data)"
      ],
      "metadata": {
        "id": "OPe4W5QtGa_G"
      },
      "execution_count": null,
      "outputs": []
    },
    {
      "cell_type": "code",
      "source": [
        "nuclear_data"
      ],
      "metadata": {
        "id": "dnGPC2shZSQX"
      },
      "execution_count": null,
      "outputs": []
    },
    {
      "cell_type": "markdown",
      "source": [
        "### Masks\n",
        "\n",
        "Masks are a way to create a smaller Dataframe where only certain conditions are true. We do this by putting a conditional expression (an expression that evaluates to either `True` or `False`) after the name of the Dataframe. Only the rows of the Dataframe that result in a `True` value will be returned.\n",
        "\n",
        "For example, the following code cell creates a smaller Dataframe called `nuclear_data_A_below_60`, where entries from `nuclear_data` are added if they have 60 or fewer nucleons (A)."
      ],
      "metadata": {
        "id": "HpTJyZJZ9pDA"
      }
    },
    {
      "cell_type": "code",
      "source": [
        "nuclear_data_A_below_60 = nuclear_data[nuclear_data[\"A\"] <= 60]"
      ],
      "metadata": {
        "id": "TwT4f1l_aocg"
      },
      "execution_count": null,
      "outputs": []
    },
    {
      "cell_type": "markdown",
      "source": [
        "We can print `nuclear_data_A_below_60` in order to ensure that it only gives us entries were A $\\leq$ 60."
      ],
      "metadata": {
        "id": "1Vv0LrRaPU5D"
      }
    },
    {
      "cell_type": "code",
      "source": [
        "nuclear_data_A_below_60"
      ],
      "metadata": {
        "id": "M9XFxsJea4JO"
      },
      "execution_count": null,
      "outputs": []
    },
    {
      "cell_type": "markdown",
      "source": [
        "**EXERCISE 2:**. Masks have a variety of uses, and the conditions can be as complicated as needed. For example, the above mask could be extended to separate A $\\leq$ 60 and A $\\geq$ 180. You could create a mask that extracts the isotopes of carbon, oxygen, and nitrogen by filtering for specific values of Z or element symbol. In the code cell below, apply any mask to the `nuclear_data` you want and save it as a new Dataframe with a descriptive name. Then, print the new Dataframe to ensure it contains the expected values."
      ],
      "metadata": {
        "id": "PH14Ww19Pe5J"
      }
    },
    {
      "cell_type": "code",
      "source": [],
      "metadata": {
        "id": "btADExi6PeFA"
      },
      "execution_count": null,
      "outputs": []
    },
    {
      "cell_type": "markdown",
      "source": [
        "### Converting the Data to NumPy Arrays\n",
        "\n",
        "While a Pandas Dataframe helps do some of the data formatting and analysis, having the data separated by column and saved as NumPy arrays are also advantageous, especially regarding some of the data manipulation required for graphing. This section formats the data from our Dataframe to help create graphs.\n",
        "\n",
        "**EXERCISE 3:** In the below code cell, extract the various columns of the Dataframe and save them using the variable names shown in the below table.\n",
        "\n",
        "| Column Name | Variable Name |\n",
        "|-------------|-----------------|\n",
        "| N | N |\n",
        "| Z | Z |\n",
        "| A | A |\n",
        "| BE | BE |\n",
        "| BEd | BE_uncertainity |\n",
        "| MASS | mass |\n",
        "|MASSd |mass_uncertainity|\n",
        "\n",
        "The first column is extracted for you. You must use the names specified in the above table, as the rest of the code relies on them."
      ],
      "metadata": {
        "id": "z2p_3Bt2971B"
      }
    },
    {
      "cell_type": "code",
      "source": [
        "N = nuclear_data[\"N\"]\n"
      ],
      "metadata": {
        "id": "JBQEDUpFb0Ek"
      },
      "execution_count": null,
      "outputs": []
    },
    {
      "cell_type": "markdown",
      "source": [
        "If we print the type of each of the columns we extracted above, we will see that the type is `pandas.core.series.Series` instead of a NumPy array."
      ],
      "metadata": {
        "id": "n9uZUGLsSMko"
      }
    },
    {
      "cell_type": "code",
      "source": [
        "type(Z)"
      ],
      "metadata": {
        "id": "JuqtWo7cd087"
      },
      "execution_count": null,
      "outputs": []
    },
    {
      "cell_type": "markdown",
      "source": [
        "Luckily, NumPy as an easy way to convert Pandas Series, and other data types, into arrays using the `asarray` function.\n",
        "\n",
        "**EXERCISE 4:** Convert all of the Pandas Series you created above into NumPy arrays using the `asarray` function. Save the NumPy arrays with the same name as the Pandas Series.  The first one is done for you below."
      ],
      "metadata": {
        "id": "RL9E9U7qTtlM"
      }
    },
    {
      "cell_type": "code",
      "source": [
        "N = np.asarray(N)\n"
      ],
      "metadata": {
        "id": "pB-AlR-8dEDU"
      },
      "execution_count": null,
      "outputs": []
    },
    {
      "cell_type": "markdown",
      "source": [
        "Combining the previous two steps into one line per column is possible using the following format. First, the column is extracted from the Dataframe as a Pandas Series and immediately converted to a NumPy array. Python is full of these so-called one-liners. Sometimes, like here, they are simple to read and understand, but other times they can be pretty complicated. Feel free to split a one-liner over a few lines to understand it better."
      ],
      "metadata": {
        "id": "_vY-FIDnVa5y"
      }
    },
    {
      "cell_type": "code",
      "source": [
        "N = np.asarray(nuclear_data[\"N\"])"
      ],
      "metadata": {
        "id": "F4ITwREtdF1D"
      },
      "execution_count": null,
      "outputs": []
    },
    {
      "cell_type": "markdown",
      "source": [
        "Another thing to consider when using numerical data is what units are associated with the data and whether they are the correct units for further analysis. The binding energies and uncertainties are given in units of keV (kiloelectron volts) per nucleon. By convention, however, binding energies are usually given in units of MeV (megaelectron volts) per nucleon. It is easy to convert keV to MeV simply by dividing by 1000. The below code cell converts the binding energy and its uncertainty into MeV."
      ],
      "metadata": {
        "id": "3zYCplNyWThF"
      }
    },
    {
      "cell_type": "code",
      "source": [
        "BE /= 1000\n",
        "BE_uncertainity /= 1000"
      ],
      "metadata": {
        "id": "0Nbs_2WneYEU"
      },
      "execution_count": null,
      "outputs": []
    },
    {
      "cell_type": "markdown",
      "source": [
        "Next, the mass and its uncertainty are given in terms of $\\mu$u (micro-atomic units), but it's easier to have them in atomic units (u). Therefore we multiply the mass and its uncertainty by 1x10$^{-6}$ to get the correct units."
      ],
      "metadata": {
        "id": "Xx2qAT8TXBCx"
      }
    },
    {
      "cell_type": "code",
      "source": [
        "mass *= 1e-6\n",
        "mass_uncertainity *= 1e-6"
      ],
      "metadata": {
        "id": "Z85kZeBJec9b"
      },
      "execution_count": null,
      "outputs": []
    },
    {
      "cell_type": "markdown",
      "source": [
        "##Seaborn\n",
        "\n",
        "Seaborn is one of two libraries explored in this notebook for displaying data in graphs. Seaborn is convenient for two reasons:\n",
        "\n",
        "1. The graphs come pre-formatted with axis labels, colors, legends, etc.\n",
        "2. Seaborn can make plots from Pandas Dataframes without converting them to NumPy arrays.\n",
        "\n",
        "Seaborn can create many different types of graphs. In this notebook, we will explore one functionality of Seaborn that is particularly useful when dealing with new datasets: the `pairplot.`"
      ],
      "metadata": {
        "id": "vaV8iaCW-D56"
      }
    },
    {
      "cell_type": "markdown",
      "source": [
        "### Pairplot\n",
        "\n",
        "The Seaborn function `pairplot` allows you to plot every column of your Pandas Dataframe against every other column, creating a matrix of graphs. `pairplot` is useful when you are working with a data set that you are unfamiliar with because it can help you see the patterns within your data and figure out which of the relationships you should analyze further. You can read more about `pairplot` [here](https://seaborn.pydata.org/generated/seaborn.pairplot.html).\n",
        "\n",
        "**Warning**: The `pairplot` cells below will take a while each to run due to the amount of data being graphed. Be patient!"
      ],
      "metadata": {
        "id": "gVPSzkM6-QEd"
      }
    },
    {
      "cell_type": "code",
      "source": [
        "sns.pairplot(nuclear_data)"
      ],
      "metadata": {
        "id": "V4ahtvTP44sl"
      },
      "execution_count": null,
      "outputs": []
    },
    {
      "cell_type": "markdown",
      "source": [
        "From the matrix of graphs above, we can start to an idea of some good relations that we may want to graph in more detail. The diagonal of the matrix is just a column plotted against itself, so not too helpful when it comes to analyzing the behavior of nuclei. Plotting N as a function of Z gives us an interesting graph showing how many isotopes occur for each element. Likewise, plotting binding energy as a function of either N, Z, or A shows us the binding energy sharply increases initially but then curves and starts to decrease. The shape of this graph is important in nuclear physics because it helps explain why some nuclei undergo fission as a decay process while others undergo fusion. Note that you may see this graph presented upside down. Plotting mass as a function of N, Z, or A does not give us anything unexpected since we would expect the mass to increase as the number of particles grows. Finally, plotting the uncertainties as a function of anything does not make sense since they only depend on the measurement they were made with.\n",
        "\n",
        "For the third section of this notebook, we will focus on the graph of binding energy as a function of A as this graph has quite a bit of importance in nuclear physics and engineering, so displaying it in a pleasing and easy-to-understand manner is essential."
      ],
      "metadata": {
        "id": "M17wU58p5DUo"
      }
    },
    {
      "cell_type": "markdown",
      "source": [
        "### Pairplot with Hue\n",
        "\n",
        "If your data comes with labels for different classes, creating a `pairplot` is possible where the labels will be different colors. This is accomplished by setting the `hue` attribute equal to the column name containing the label. For the case of this nuclear data set, plotting the data such that each element is a different color may be helpful. This element symbol column (\"EL\") is our label. The below code cell creates a pairplot using the Dataframe only containing data with A $\\leq$ 60 (to reduce the number of points). When a value of `hue` is passed, it automatically creates a legend on the side of the graph with the different labels."
      ],
      "metadata": {
        "id": "dQXZGzn3-5fX"
      }
    },
    {
      "cell_type": "code",
      "source": [
        "sns.pairplot(nuclear_data_A_below_60,hue=\"EL\")"
      ],
      "metadata": {
        "id": "GgB2ZGIM5MPg"
      },
      "execution_count": null,
      "outputs": []
    },
    {
      "cell_type": "markdown",
      "source": [
        "**EXERCISE 5:** In the below code cell, create a `pairplot` with the masked Dataframe you created in Exercise 2. Set the `hue` attribute to a relevant value for your Dataframe. The element symbols may make the most sense or another column depending on the mask you applied."
      ],
      "metadata": {
        "id": "qqO_bWcddl8e"
      }
    },
    {
      "cell_type": "code",
      "source": [],
      "metadata": {
        "id": "a3apjjFHdmGn"
      },
      "execution_count": null,
      "outputs": []
    },
    {
      "cell_type": "markdown",
      "source": [
        "Besides `pairplot,` Seaborn contains a variety of helpful plotting tools. See some examples of graphs in [this gallery](https://seaborn.pydata.org/examples/index.html). The nice thing about Seaborn is that the graphs come preformatted with labels and legends, and color scales. This can be nice for saving time, but it does take some of the customizations out of the process. The following library we will investigate, Matplotlib, provides a lot of customization for the graphs, but it all must be done manually instead of using prebuilt style guides."
      ],
      "metadata": {
        "id": "yDDSTiw1eK1S"
      }
    },
    {
      "cell_type": "markdown",
      "source": [
        "## Matplotlib\n",
        "\n",
        "Now we will investigate the second plotting library: Matplotlib. Matplotlib is the most commonly used plotting library in Python, and there are many examples and tutorials on the internet for making your graphs look a certain way. For example, see [this gallery](https://matplotlib.org/stable/gallery/index.html). Matplotlib allows for a lot more customization than Seaborn, but it does require us to use the NumPy arrays we created earlier instead of just passing the Pandas Dataframe as we could do with Seaborn. Below, we will explore some typical plots in Matplotlib in two and three dimensions."
      ],
      "metadata": {
        "id": "jEgg4_Pj-_m4"
      }
    },
    {
      "cell_type": "markdown",
      "source": [
        "### Plot\n",
        "\n",
        "Matplotlib makes it easy to make a simple line graph using the `plot` function, which you can read about [here](https://matplotlib.org/stable/api/_as_gen/matplotlib.pyplot.plot.html). For example, in the code cell below, we will plot the binding energy per nucleon as a function of the number of nucleons."
      ],
      "metadata": {
        "id": "YEEX10b6_RFL"
      }
    },
    {
      "cell_type": "code",
      "source": [
        "plt.plot(A,BE)"
      ],
      "metadata": {
        "id": "AoYl2K8teLtP"
      },
      "execution_count": null,
      "outputs": []
    },
    {
      "cell_type": "markdown",
      "source": [
        "The graph is quite plain with the basic `plot` statement and does not help a viewer understand the data. However, using the documentation for `plot,` we can make some changes to make the graph look better and display the data clearer.\n",
        "\n",
        "The first thing we will do is change the color of the graph. A list of colors available in Matplotlib can be found [here](https://matplotlib.org/stable/gallery/color/named_colors.html).\n",
        "\n",
        "**EXERCISE 6:** Set the variable `color` in the below cell to your chosen Matplotlib color. Make sure you make the color name a string (enclosed in `\"` or `'`), and spell it exactly as it is found in the documentation. Next, run the updated plot statement and make sure the color of the plot has changed."
      ],
      "metadata": {
        "id": "GKv2RLHHOkVG"
      }
    },
    {
      "cell_type": "code",
      "source": [
        "color = "
      ],
      "metadata": {
        "id": "SVnwZ0VReOyl"
      },
      "execution_count": null,
      "outputs": []
    },
    {
      "cell_type": "code",
      "source": [
        "plt.plot(A,BE,color=color)"
      ],
      "metadata": {
        "id": "G0R2s7iEeTho"
      },
      "execution_count": null,
      "outputs": []
    },
    {
      "cell_type": "markdown",
      "source": [
        "Next, we can change the line style of the plot from a solid line if desired. A list of available line styles is found [here](https://matplotlib.org/stable/gallery/lines_bars_and_markers/linestyles.html).\n",
        "\n",
        "**EXERCISE 7:** Choose a line style you like and change the `linestyle` variable below. Ensure you are spelling the line style as shown in the documentation. Next, run the `plot` code cell and make sure the graph looks as it should."
      ],
      "metadata": {
        "id": "WhKm-tAYPbUz"
      }
    },
    {
      "cell_type": "code",
      "source": [
        "linestyle = "
      ],
      "metadata": {
        "id": "9nnW7NoseWFn"
      },
      "execution_count": null,
      "outputs": []
    },
    {
      "cell_type": "code",
      "source": [
        "plt.plot(A,BE,color=color, linestyle=linestyle)"
      ],
      "metadata": {
        "id": "Bumv2C5Geybl"
      },
      "execution_count": null,
      "outputs": []
    },
    {
      "cell_type": "markdown",
      "source": [
        "We may also want to change the line width on our plot. We can do this by setting the `linewidth` argument, where a larger number represents a thicker line.\n",
        "\n",
        "**EXERCISE 8:** Play around with different line widths using the below two code cells until you are satisfied with the plot's appearance. You can also change the color and line style to make the plot look how you want."
      ],
      "metadata": {
        "id": "j3myximJQNAI"
      }
    },
    {
      "cell_type": "code",
      "source": [
        "linewidth = "
      ],
      "metadata": {
        "id": "EvYkMfUBe2_J"
      },
      "execution_count": null,
      "outputs": []
    },
    {
      "cell_type": "code",
      "source": [
        "plt.plot(A,BE,color=color, linestyle=linestyle, linewidth=linewidth)"
      ],
      "metadata": {
        "id": "Z_L196L2e78K"
      },
      "execution_count": null,
      "outputs": []
    },
    {
      "cell_type": "markdown",
      "source": [
        "Now that the plot looks nice, we must make it easier to read. When we make a plot in physics, we always want to add labels to the x and y axes that tell what is being plotted and in what units (if applicable). In Matplotlib, we can add labels to the axes using `xlabel` and `ylabel.` See the documentation of `xlabel` [here](https://matplotlib.org/stable/api/_as_gen/matplotlib.pyplot.xlabel.html). We can format the axes labels (font size, font style, etc.). Here, we will only change the font size.\n",
        "\n",
        "**EXERCISE 9:** Set the variables `x_label` and `y_label` below to strings that you want to use as the x and y axes labels. Remember that the x-axis is the number of nucleons, and the y-axis is the binding energy per nucleon, measured in MeV. Also, set the `fontsize` variable to a font size you think is appropriate and readable. Run the plot cell below to ensure everything looks how you want."
      ],
      "metadata": {
        "id": "SPuwIdsFRN6G"
      }
    },
    {
      "cell_type": "code",
      "source": [
        "x_label = \n",
        "y_label = \n",
        "fontsize = "
      ],
      "metadata": {
        "id": "EODj_V42f9xb"
      },
      "execution_count": null,
      "outputs": []
    },
    {
      "cell_type": "code",
      "source": [
        "plt.plot(A,BE,color=color, linestyle=linestyle, linewidth=linewidth)\n",
        "plt.xlabel(x_label, fontsize=fontsize)\n",
        "plt.ylabel(y_label, fontsize=fontsize)"
      ],
      "metadata": {
        "id": "-PhkTmpupefv"
      },
      "execution_count": null,
      "outputs": []
    },
    {
      "cell_type": "markdown",
      "source": [
        "### Scatter Plot\n",
        "\n",
        "A line plot (where the data points are connected) may not always be the best way to display data. Another common way to display two-dimensional data is a scatter plot, where a marker represents each point, and the points are not connected. Matplotlib allows scatter plots to be created using the `scatter` function, which you can read about [here](https://matplotlib.org/stable/api/_as_gen/matplotlib.pyplot.scatter.html). Here is an example of a scatter plot using the data set we were looking at above."
      ],
      "metadata": {
        "id": "ezWuWM2x_VK0"
      }
    },
    {
      "cell_type": "code",
      "source": [
        "plt.scatter(A, BE)\n",
        "plt.xlabel(x_label, fontsize=fontsize)\n",
        "plt.ylabel(y_label, fontsize=fontsize)"
      ],
      "metadata": {
        "id": "jiCeShWze92t"
      },
      "execution_count": null,
      "outputs": []
    },
    {
      "cell_type": "markdown",
      "source": [
        "Like with the `plot,` we can change the look of a scatterplot by passing the `scatter` function a few simple values. But first, we can change the color of the markers.\n",
        "\n",
        "**EXERCISE 10:** Set the color variable in the code cell below to any color you like. As with the `plot` statement, the available colors can be found [here](https://matplotlib.org/stable/gallery/color/named_colors.html). Next, run the plotting cell and make sure the color of the markers has changed."
      ],
      "metadata": {
        "id": "9qgAT5Dmtl64"
      }
    },
    {
      "cell_type": "code",
      "source": [
        "color = "
      ],
      "metadata": {
        "id": "lFnL8EXFfntK"
      },
      "execution_count": null,
      "outputs": []
    },
    {
      "cell_type": "code",
      "source": [
        "plt.scatter(A, BE, color=color)\n",
        "plt.xlabel(x_label, fontsize=fontsize)\n",
        "plt.ylabel(y_label, fontsize=fontsize)"
      ],
      "metadata": {
        "id": "bK8xkf-xfsO7"
      },
      "execution_count": null,
      "outputs": []
    },
    {
      "cell_type": "markdown",
      "source": [
        "The shape of the markers can also be changed using the `marker` keyword. The marker is altered by passing a symbol that represents the shape of the marker. A list of the possible markers can be found [here](https://matplotlib.org/stable/gallery/lines_bars_and_markers/marker_reference.html#sphx-glr-gallery-lines-bars-and-markers-marker-reference-py). \n",
        "\n",
        "**EXERCISE 11:**. Change the `markerstyle` variable below to reflect the marker style you would like to make the plot with. Remember that you must make the marker style a string. An example of a possible marker style is `'^'`. Next, run the plot cell and make sure the color and the marker style have changed to reflect your preferences."
      ],
      "metadata": {
        "id": "IX7BtyiEuGT1"
      }
    },
    {
      "cell_type": "code",
      "source": [
        "markerstyle = "
      ],
      "metadata": {
        "id": "Tq1_T0Xwft4o"
      },
      "execution_count": null,
      "outputs": []
    },
    {
      "cell_type": "code",
      "source": [
        "plt.scatter(A, BE, color=color, marker=markerstyle)\n",
        "plt.xlabel(x_label, fontsize=fontsize)\n",
        "plt.ylabel(y_label, fontsize=fontsize)"
      ],
      "metadata": {
        "id": "nJJNdtNcfzab"
      },
      "execution_count": null,
      "outputs": []
    },
    {
      "cell_type": "markdown",
      "source": [
        "Finally, you can change the size of each marker by changing the `s` attribute of the `scatter` function. The attribute `s` is an integer where the larger the value of `s,` the larger the markers will appear.\n",
        "\n",
        "**EXERCISE 12:** Change the size variable below to reflect the size you want the markers to change. Next, run the plot cell to make sure your changes appear."
      ],
      "metadata": {
        "id": "X7hvZ70AwTOo"
      }
    },
    {
      "cell_type": "code",
      "source": [
        "size = "
      ],
      "metadata": {
        "id": "UuQ3W8Ikf1t0"
      },
      "execution_count": null,
      "outputs": []
    },
    {
      "cell_type": "code",
      "source": [
        "plt.scatter(A, BE, color=color, marker=markerstyle, s=size)\n",
        "plt.xlabel(x_label, fontsize=fontsize)\n",
        "plt.ylabel(y_label, fontsize=fontsize)"
      ],
      "metadata": {
        "id": "uMlrIY6nf5MC"
      },
      "execution_count": null,
      "outputs": []
    },
    {
      "cell_type": "markdown",
      "source": [
        "### Plotting Multiple Data Sets\n",
        "\n",
        "We often want to graph several data sets on the same plot so they can be compared. Matplotlib makes this easy, as we need to add the different `plot` (and/or `scatter`) statements in the same code cell to get them graphed on the same plot. \n",
        "\n",
        "For example, we often want to plot an experimental (or actual) result against a theoretical result. As we mentioned early in this notebook, the theoretical equation for the binding energies is:\n",
        "$$BE = (m_hZ + m_nN - m)c^2,$$\n",
        "\n",
        "where $m_h$ = 1.007 MeV, $m_n$ = 1.008 MeV and $c^2$ = 931.49 MeV/u. However, the data we have been working with was collected through experiments, so plotting the theoretical and experimental values of the same plot could be useful to see how they compare.\n",
        "\n",
        "First, we will create the theoretical binding energies from the above equation and then divide them by A so they are the binding energies per nucleon to match our experimental data."
      ],
      "metadata": {
        "id": "W5wZUImI_Z9D"
      }
    },
    {
      "cell_type": "code",
      "source": [
        "c_squared = 931.49 # MeV/u\n",
        "m_hydrogen = 1.007 #u\n",
        "m_neutron = 1.008 #u\n",
        "\n",
        "BE_theoretical = ((m_hydrogen*Z + m_neutron*N - mass)*c_squared)/A"
      ],
      "metadata": {
        "id": "BwZ2mgxOf7MO"
      },
      "execution_count": null,
      "outputs": []
    },
    {
      "cell_type": "markdown",
      "source": [
        "Next, we can plot these theoretical binding energies with the experimental ones on the same plot using the below code, where the experimental energies will be a scatter plot and the theoretical values will be a line plot."
      ],
      "metadata": {
        "id": "6WOllX0CR9Vd"
      }
    },
    {
      "cell_type": "code",
      "source": [
        "plt.scatter(A, BE, color=color, marker=markerstyle, s=size)\n",
        "plt.plot(A, BE_theoretical, linewidth=2, color='red')\n",
        "plt.xlabel(x_label, fontsize=fontsize)\n",
        "plt.ylabel(y_label, fontsize=fontsize)"
      ],
      "metadata": {
        "id": "5c7yBjMmg0Q7"
      },
      "execution_count": null,
      "outputs": []
    },
    {
      "cell_type": "markdown",
      "source": [
        "Since we created the plot, we know which data set is which is not apparent to another person viewing the graph. To help with telling the two plots apart, we will want to add a legend. We will do this by adding the `label` attribute to each plotting statement (`plot` and `scatter`), and then we will add a `plt.legend` statement at the end of the cell. We can set the font size of the legend using the `fontsize` attribute. There are other attributes of the legend statement that you can find [here](https://matplotlib.org/stable/api/_as_gen/matplotlib.pyplot.legend.html#matplotlib-pyplot-legend).\n",
        "\n",
        "The below code cell adds legends and labels to our graph to make it more readable."
      ],
      "metadata": {
        "id": "-1U-lbvBTOwo"
      }
    },
    {
      "cell_type": "code",
      "source": [
        "plt.scatter(A, BE, color=color, marker=markerstyle, s=size, label=\"Experimental\")\n",
        "plt.plot(A, BE_theoretical, linewidth=2, color='red', label=\"Theoretical\")\n",
        "plt.xlabel(x_label, fontsize=fontsize)\n",
        "plt.ylabel(y_label, fontsize=fontsize)\n",
        "plt.legend(fontsize=fontsize)"
      ],
      "metadata": {
        "id": "FO4Zz18mkAzv"
      },
      "execution_count": null,
      "outputs": []
    },
    {
      "cell_type": "markdown",
      "source": [
        "The liquid drop model is a semi-empirical formula for calculating the binding energies of the various nuclei using only N and Z (remember that A = N + Z). A semi-empirical formula is a formula whose form is partially based on theory but with coefficients that fit using experimental data. For example, the liquid drop model can be defined as:\n",
        "\n",
        "$$BE_{liquid\\ drop}(N,Z) = a_vA - a_sA^{2/3} - a_c \\frac{Z(Z-1)}{A^{1/3}} - a_A\\frac{(N-Z)^2}{A} + \\delta (N,Z),$$\n",
        "\n",
        "where the coefficients $a_v$, $a_s$, $a_c$, $a_A$ and the function $\\delta(N,Z)$ are determined using experimental data. Numerical values for these and an explanation for each term in the equation can be found [here](https://en.wikipedia.org/wiki/Semi-empirical_mass_formula#The_liquid-drop_model).\n",
        "\n",
        "The code cell below uses the liquid drop model to calculate the binding energy per nucleon for all the nuclei given in the in"
      ],
      "metadata": {
        "id": "GsF0axYGUdwq"
      }
    },
    {
      "cell_type": "code",
      "source": [
        "aV = 15.76\n",
        "aS = 17.81\n",
        "aC = 0.711\n",
        "aA = 23.702\n",
        "BE_liquid_drop = []\n",
        "for i in range(len(BE)):\n",
        "    energy = aV*A[i] - aS*A[i]**(2/3) - aC*Z[i]*(Z[i]-1)/A[i]**(1/3) - aA*(N[i]-Z[i])**2/A[i]\n",
        "    if Z[i]%2==0 and N[i]%2==0:\n",
        "        energy += 34/A[i]**(3/4)\n",
        "    elif Z[i]%2==1 and N[i]%2==1:\n",
        "        energy -= 34/A[i]**(3/4)\n",
        "    else:\n",
        "        energy += 0\n",
        "    BE_liquid_drop.append(energy)\n",
        "\n",
        "BE_liquid_drop /= A"
      ],
      "metadata": {
        "id": "_dde1bH17c43"
      },
      "execution_count": null,
      "outputs": []
    },
    {
      "cell_type": "markdown",
      "source": [
        "**EXERCISE 13:** In the code cell below, plot the experimental binding energies per nucleon, the theoretical binding energies per nucleon, and the binding energies per nucleon from the liquid drop model. You can use any combination of `plot` and `scatter,` along with colors, line widths, marker sizes, and styles. Make a graph that you find visually appealing. Ensure you add a readable x label, y label, and legend."
      ],
      "metadata": {
        "id": "D0v5C1o7XI4x"
      }
    },
    {
      "cell_type": "code",
      "source": [],
      "metadata": {
        "id": "1HglPgeb8XH1"
      },
      "execution_count": null,
      "outputs": []
    },
    {
      "cell_type": "markdown",
      "source": [
        "### Plotting Three-Dimensional Data\n",
        "\n",
        "Previously we have only created two-dimensional graphs with one independent variable (the number of nucleons) and one dependent variable (the binding energy per nucleon). However, sometimes we want to make three dimension plots with two independent variables and one dependent variable. In this case, we want to see how the binding energy per nucleon varies as a function of the number of neutrons and protons in the nucleus. The below code cell creates the two-dimensional NumPy array where each row corresponds to increasing protons (the first row is zero protons, the second row is one proton, and so on). Each column corresponds to an increasing number of neutrons. Each element the in the matrix is the binding energy per nucleon for that row's number of neutrons and that column's number of neutrons. Then, the number of protons and neutrons is formatted for three-dimensional graphing."
      ],
      "metadata": {
        "id": "djFV0ws6_gvr"
      }
    },
    {
      "cell_type": "code",
      "source": [
        "BE_dict = {}\n",
        "for i in range(len(N)):\n",
        "    value = [Z[i], N[i]]\n",
        "    BE_dict[BE[i]] = value\n",
        "\n",
        "BE_2D = np.zeros((np.max(Z)+1,np.max(N)+1))\n",
        "\n",
        "for i in range(len(BE)):\n",
        "    z,n = BE_dict[BE[i]]\n",
        "    BE_2D[z][n] = BE[i] \n",
        "\n",
        "z = BE_2D\n",
        "nrows, ncols = BE_2D.shape\n",
        "Z_2D = np.linspace(np.min(Z), np.max(Z), ncols)\n",
        "N_2D = np.linspace(np.min(N), np.max(N), nrows)\n",
        "Z_2D, N_2D = np.meshgrid(Z_2D, N_2D)       "
      ],
      "metadata": {
        "id": "M0FhhPPSqWSB"
      },
      "execution_count": null,
      "outputs": []
    },
    {
      "cell_type": "markdown",
      "source": [
        "### Three-Dimensional Scatter Plots\n",
        "\n",
        "There are many types of three-dimensional plots you can make in Matplotlib. See [this page](https://matplotlib.org/stable/gallery/mplot3d/index.html) for some examples. The first three-dimensional plot we will look at is the three-dimensional scatter plot, which you can read about [here](https://matplotlib.org/stable/gallery/mplot3d/scatter3d.html#sphx-glr-gallery-mplot3d-scatter3d-py). The below code cell makes a three-dimensional scatter plot with our data, using the same `scatter` statement we were previously using. However, first, we must use a `subplots` statement to set the projection of our graph to `3d`. The only other change from our previous scatter plots is now we must use `ax.scatter` instead of `plt.scatter` to make the plot three-dimensional."
      ],
      "metadata": {
        "id": "VAD7kte8_kYz"
      }
    },
    {
      "cell_type": "code",
      "source": [
        "# Create a three dimensional plot\n",
        "fig, ax = plt.subplots(subplot_kw=dict(projection='3d'))\n",
        "# Add a three dimensional scatter plot with Z and N on the \n",
        "# x and y axes and the binding energies on the z axis.\n",
        "ax.scatter(Z_2D,N_2D,BE_2D)"
      ],
      "metadata": {
        "id": "z-zjhwiltqmB"
      },
      "execution_count": null,
      "outputs": []
    },
    {
      "cell_type": "markdown",
      "source": [
        "We can make several improvements to this graph to make it easier to read. In addition to the previous modifications (adding labels, changing the color, marker size, and marker style), we can make other improvements. Since only some combinations of Z and N yield a nucleus, there are a lot of zeros in this plot that are distracting. Let's remove these and see if that makes for a better graph. The below cell makes a copy of `BE_2D_no_zeros`, which eliminates all of the zeros by setting them to NaN (not a number), and thus they will not be plotted."
      ],
      "metadata": {
        "id": "LeO87mEMai7t"
      }
    },
    {
      "cell_type": "code",
      "source": [
        "BE_2D_no_zeros = BE_2D.copy()\n",
        "BE_2D_no_zeros[ BE_2D_no_zeros==0 ] = np.nan"
      ],
      "metadata": {
        "id": "mijIMxo0xvnh"
      },
      "execution_count": null,
      "outputs": []
    },
    {
      "cell_type": "markdown",
      "source": [
        "**EXERCISE 14:** Create a three-dimensional scatter plot with the new matrix (`BE_2D_no_zeros`) in the code cell below. Set the color, marker style, and marker size to values you like, and then add x, y, and z labels."
      ],
      "metadata": {
        "id": "jsL_jc1bcIKT"
      }
    },
    {
      "cell_type": "code",
      "source": [],
      "metadata": {
        "id": "XhhXA--Uycs6"
      },
      "execution_count": null,
      "outputs": []
    },
    {
      "cell_type": "markdown",
      "source": [
        "### Surface Plot\n",
        "\n",
        "Another type of three-dimensional plot is called a surface plot. Surface plots can be helpful because they use color to help show the values of the z data (in this case, the binding energies per nucleon). The `colorbar` on the right of the plot gives numbers for what each of the colors represents."
      ],
      "metadata": {
        "id": "-UJ-ZaR8_p1e"
      }
    },
    {
      "cell_type": "code",
      "source": [
        "# Create a three dimensional plot\n",
        "fig, ax = plt.subplots(subplot_kw={\"projection\": \"3d\"})\n",
        "\n",
        "# Create a surface plot where the colors are \"cool warm\".  This is\n",
        "# set by setting the cmap (color map).\n",
        "surf = ax.plot_surface(Z_2D, N_2D, BE_2D_no_zeros, cmap=cm.coolwarm)\n",
        "\n",
        "# Add a color bar which maps values to colors.\n",
        "fig.colorbar(surf)"
      ],
      "metadata": {
        "id": "PDzr_T2MzYJ8"
      },
      "execution_count": null,
      "outputs": []
    },
    {
      "cell_type": "markdown",
      "source": [
        "### Heat Maps\n",
        "\n",
        "The final form of three-dimensional plotting we will look at is a heat map, a typical plot used to visualize the values in a matrix. The matrix is represented with a plane of squares, with the color of a square corresponding to the value of the matrix element in the exact location. For example, we can create a heat map of our binding energies matrix `BE_2D` using the `matshow` function to create a heat map. You can read about `matshow` [here](https://matplotlib.org/stable/api/_as_gen/matplotlib.pyplot.matshow.html)."
      ],
      "metadata": {
        "id": "EgsWrznr_tBY"
      }
    },
    {
      "cell_type": "code",
      "source": [
        "cax = plt.matshow(BE_2D)"
      ],
      "metadata": {
        "id": "qKELeKHT1FZP"
      },
      "execution_count": null,
      "outputs": []
    },
    {
      "cell_type": "markdown",
      "source": [
        "While we have a heat map, we do not have any context for the colors. We can add a color bar that shows the numerical values associated with each color (the same as for the surface plot)."
      ],
      "metadata": {
        "id": "wRsEhc33feee"
      }
    },
    {
      "cell_type": "code",
      "source": [
        "cax = plt.matshow(BE_2D)\n",
        "plt.colorbar(cax)"
      ],
      "metadata": {
        "id": "vRaXoxFk1JY4"
      },
      "execution_count": null,
      "outputs": []
    },
    {
      "cell_type": "markdown",
      "source": [
        "We can also change the colors of the heat map using the `cmap` attribute. Here I use the colormap \"magma,\" but a complete list of the possible colormaps can be found [here](https://matplotlib.org/stable/tutorials/colors/colormaps.html)."
      ],
      "metadata": {
        "id": "FZT3Jvw4jFgU"
      }
    },
    {
      "cell_type": "code",
      "source": [
        "cax = plt.matshow(BE_2D, cmap=\"magma\")\n",
        "plt.colorbar(cax)"
      ],
      "metadata": {
        "id": "F2j-UJ1Prkpo"
      },
      "execution_count": null,
      "outputs": []
    },
    {
      "cell_type": "markdown",
      "source": [
        "**EXERCISE 15:** Create a heat map of `BE_2D` in the code cell below with your chosen heat map.  Add a color bar, an x label, an y label, and a title to the graph (using `plt.title`)."
      ],
      "metadata": {
        "id": "HDHclmpUjtp2"
      }
    },
    {
      "cell_type": "code",
      "source": [],
      "metadata": {
        "id": "bVWFIIgF0a3z"
      },
      "execution_count": null,
      "outputs": []
    },
    {
      "cell_type": "markdown",
      "source": [
        "### Error Bars and Uncertainty\n",
        "\n",
        "Many physical data sets have an associated error or uncertainty on each data point. For the binding energies the uncertainties for each point are stored in the array `BE_uncertainity.` There are two ways to display these uncertainties graphically: we can add error bars to each point (using the `errorbar` function shown [here](https://matplotlib.org/stable/api/_as_gen/matplotlib.pyplot.errorbar.html)) or by added a shaded region to represent the uncertainty (using the `fill_between` function shown [here](https://matplotlib.org/stable/api/_as_gen/matplotlib.pyplot.fill_between.html)).\n",
        "\n",
        "\n",
        "The below two code cells set up these two different types of graphs.\n"
      ],
      "metadata": {
        "id": "w364IpR0_wqV"
      }
    },
    {
      "cell_type": "code",
      "source": [
        "plt.errorbar(A,BE,BE_uncertainity)"
      ],
      "metadata": {
        "id": "_zod9waE1jO0"
      },
      "execution_count": null,
      "outputs": []
    },
    {
      "cell_type": "code",
      "source": [
        "plt.scatter(A,BE)\n",
        "plt.fill_between(A.ravel(),BE - BE_uncertainity,\n",
        "    BE+ BE_uncertainity,alpha=0.2)\n"
      ],
      "metadata": {
        "id": "1_ZYjBwj1_K6"
      },
      "execution_count": null,
      "outputs": []
    },
    {
      "cell_type": "markdown",
      "source": [
        "Fortunately for nuclear scientists, but unfortunately for us, the uncertainties on these binding energy measurements are pretty small and do not show up well in the graphs. To better understand how these plots can look, let's make some fake uncertainty data that will be large enough to show up in the plots."
      ],
      "metadata": {
        "id": "eejWtccplgD8"
      }
    },
    {
      "cell_type": "code",
      "source": [
        "BE_uncertainity_fake = BE*(np.random.random(len(BE))*.25)"
      ],
      "metadata": {
        "id": "6cS0pTJW2iyQ"
      },
      "execution_count": null,
      "outputs": []
    },
    {
      "cell_type": "markdown",
      "source": [
        "Now, lets create both types of uncertainity plots using the fake uncertainites to see the difference."
      ],
      "metadata": {
        "id": "4koHQYq0mAGw"
      }
    },
    {
      "cell_type": "code",
      "source": [
        "plt.errorbar(A,BE,BE_uncertainity_fake)"
      ],
      "metadata": {
        "id": "mZqhAceg2uuR"
      },
      "execution_count": null,
      "outputs": []
    },
    {
      "cell_type": "code",
      "source": [
        "plt.scatter(A,BE)\n",
        "plt.fill_between(A.ravel(),BE - BE_uncertainity_fake,\n",
        "    BE + BE_uncertainity_fake,alpha=0.2)\n"
      ],
      "metadata": {
        "id": "UsOnyaB72xKH"
      },
      "execution_count": null,
      "outputs": []
    },
    {
      "cell_type": "markdown",
      "source": [
        "**EXERCISE 16:** Create either an `errorbar` plot or a scatter plot with the `fill_between` function to show the uncertainty in the below code cell. Change the colors, marker sizes, etc., to get a graph you like. You can also set new attributes, such as `capsize` for the `errorbar` plot or `alpha` for the `fill_inbetween` function. Add an x label and a y label. If you use `fill_between,` you can also add a legend where the `scatter` statement and the `fill_between` have different labels."
      ],
      "metadata": {
        "id": "GIFGRfFRmYQS"
      }
    },
    {
      "cell_type": "code",
      "source": [],
      "metadata": {
        "id": "5rSMgi6i20c2"
      },
      "execution_count": null,
      "outputs": []
    },
    {
      "cell_type": "markdown",
      "source": [
        "## Conclusion\n",
        "\n",
        "In this notebook, we have explored how the three libraries Pandas, Seaborn, and Matplotlib can be used to examine and display a data set. These libraries have many applications across data science and other fields, and you will encounter them many times while using Python. \n",
        "\n",
        "\n",
        "## Further Resources\n",
        "\n",
        "If you want to learn more about any of the libraries presented here, the websites for each library are a great place to start.\n",
        "\n",
        "* [Pandas website](https://pandas.pydata.org)\n",
        "* [Getting Started with Pandas](https://pandas.pydata.org/docs/getting_started/index.html)\n",
        "* [Seaborn website](https://seaborn.pydata.org)\n",
        "* [Seaborn Examples](https://seaborn.pydata.org/examples/index.html)\n",
        "* [Seaborn User Guide and Tutorials](https://seaborn.pydata.org/tutorial.html)\n",
        "* [Matplotlib website](https://matplotlib.org/stable/index.html)\n",
        "* [Matplotlib Examples](https://matplotlib.org/stable/gallery/index.html)\n",
        "* [Matplotlib Tutorials](https://matplotlib.org/stable/tutorials/index.html)\n",
        "\n",
        "\n"
      ],
      "metadata": {
        "id": "J8Zs5_jQ_1Zi"
      }
    },
    {
      "cell_type": "code",
      "source": [],
      "metadata": {
        "id": "B2Zqy-5r3-__"
      },
      "execution_count": null,
      "outputs": []
    }
  ]
}