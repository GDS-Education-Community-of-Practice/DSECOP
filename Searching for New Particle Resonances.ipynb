{
 "cells": [
  {
   "cell_type": "markdown",
   "id": "ac87ddbf-b9d9-4123-8ed0-505a3ff023ea",
   "metadata": {},
   "source": [
    "# Searching for New Particle Resonances\n",
    "\n",
    "*Students will “discover” a new particle by characterising a resonant bump in the invariant mass distribution from a set of simulated particle collisions.*\n",
    "\n",
    "**Topics: data processing (raw data → histograms), curve fitting, regression Relevant packages: NumPy, SciPy, Matplotlib**"
   ]
  },
  {
   "cell_type": "markdown",
   "id": "995b3c3f-fadb-4977-92af-12edfe657ddf",
   "metadata": {},
   "source": [
    "Students will be provided with a simulated dataset coming from an $X \\rightarrow abc$ decay (i.e. a list\n",
    "of particle 4-momenta). They will plot the invariant mass of the mother particle and observe by eye a resonant “bump” corresponding to the mother particle.\n",
    "\n",
    "Students will then write their own regression-based curve-fitting code to fit the background and resonant distributions, thus determining the mother particle mass and decay width. For a more particle physics-specific tangent, students might look into common curve-fit functions (i.e. Gaussian, Landau, Crystal Ball) and understand when a given functional form is most useful. Once students are happy with the performance of their curve-fitting tool, they will redo the analysis using scipy.optimize (which is a useful module for them to know for future research analyses)."
   ]
  },
  {
   "cell_type": "code",
   "execution_count": 1,
   "id": "8f3a1877-1301-4495-8ecc-abe7b36ca048",
   "metadata": {},
   "outputs": [],
   "source": [
    "import numpy as np\n",
    "import matplotlib.pyplot as plt"
   ]
  },
  {
   "cell_type": "markdown",
   "id": "482f0513-9256-4b62-922a-3a47f25a533f",
   "metadata": {},
   "source": [
    "First, write a python function that will read in the particle collision data from the provided text file.\n",
    "\n",
    "The first few lines of the data file will look something like:\n",
    "\n",
    "```\n",
    "E px py pz charge\n",
    "\n",
    "<event>\n",
    "1.27893787226 -0.967943427485 -0.196782063814 0.4972631904 1\n",
    "0.65484957674 0.0799580860542 0.085630174222 0.621646982287 -1\n",
    "1.07972424322 -0.634807604926 -0.394274396233 -0.750563397282 -1\n",
    "1.73527280522 1.42962557946 0.48622159803 -0.272846669269 1\n",
    "</event>\n",
    "\n",
    "```\n",
    "\n",
    "The first line is a header telling you what information is provided for each particle.\n",
    "\n",
    "Collision events begin with a line ```<event>``` and end with a line ```</event>```. Each line in a given event represents a particle."
   ]
  },
  {
   "cell_type": "code",
   "execution_count": 2,
   "id": "2bda4108-f32d-4d03-9f0f-c4a59607bc26",
   "metadata": {},
   "outputs": [],
   "source": [
    "# Write your function here\n",
    "\n",
    "def read_in_particle_data(path_to_file):\n",
    "\n",
    "    \"\"\"\n",
    "    INPUTS:\n",
    "    \n",
    "    filename: a string containing the absolute filepath to the collision dataset\n",
    "    \n",
    "    **********\n",
    "    **********\n",
    "    \n",
    "    OUTPUTS: \n",
    "    \n",
    "    dict_of_events: a dictionary {event_id: [p4_a, p4_b, p4_c, p4_d]}\n",
    "    \n",
    "    \"\"\"\n",
    "    \n",
    "    dict_of_events = {}\n",
    "    \n",
    "    event_counter = 0\n",
    "    \n",
    "    with open(path_to_file) as infile:\n",
    "        for line in infile:\n",
    "            \n",
    "            if \"<event>\" in line:\n",
    "                dict_of_events[event_counter] = []\n",
    "                \n",
    "            elif \"</event>\" in line:\n",
    "                event_counter += 1\n",
    "                \n",
    "            else:\n",
    "                try: \n",
    "                    test_digit = float(line.split()[0]) # testing to see if the first value in the line is a number\n",
    "                    p_vec = [float(x) for x in line.split()]\n",
    "                    dict_of_events[event_counter].append(p_vec)\n",
    "                except:\n",
    "                    pass\n",
    "          \n",
    "    return dict_of_events\n"
   ]
  },
  {
   "cell_type": "code",
   "execution_count": 8,
   "id": "86371970-39b5-4663-a7c1-0b87e59528db",
   "metadata": {},
   "outputs": [],
   "source": [
    "path_to_data = \"test.txt\"\n",
    "\n",
    "# Execute your function here\n",
    "\n",
    "dict_of_events = read_in_particle_data(path_to_data)\n",
    "\n",
    "N_collisions = len(dict_of_events)"
   ]
  },
  {
   "cell_type": "markdown",
   "id": "bc085954-f231-45f3-a635-732c94140b9f",
   "metadata": {},
   "source": [
    "First of all, we need to get a sense of what our dataset looks like.\n",
    "\n",
    "Most particle physics analyses do not use $E$, $p_x$, $p_y$, and $p_z$ as the variables for analysis. Instead, it is easier to analyze the variables $p_T$ (the momentum component transverse to the beam axis), $y$ (rapidity), and $\\phi$.\n",
    "\n",
    "Created histograms of these three variables. What do you notice about them?"
   ]
  },
  {
   "cell_type": "code",
   "execution_count": 27,
   "id": "f9d33d38-ab72-478d-99a7-6676e25aa2a1",
   "metadata": {},
   "outputs": [],
   "source": [
    "def calculate_coords(event):\n",
    "    \n",
    "    collision_pT = []\n",
    "    collision_y = []\n",
    "    collision_phi = []\n",
    "    \n",
    "    for particle in event: \n",
    "        pT = np.sqrt(particle[1]**2 + particle[2]**2)\n",
    "        if ((particle[0]+particle[3])/(particle[0]-particle[3])) > 0:\n",
    "            y = (0.5)*np.log((particle[0]+particle[3])/(particle[0]-particle[3]))\n",
    "        else:\n",
    "            y = 0\n",
    "        phi = np.arctan2(particle[2], particle[1])\n",
    "        \n",
    "        collision_pT.append(pT)\n",
    "        collision_y.append(y)\n",
    "        collision_phi.append(phi)\n",
    "        \n",
    "    return collision_pT, collision_y, collision_phi\n",
    "\n",
    "all_pT = []\n",
    "all_y = []\n",
    "all_phi = []\n",
    "\n",
    "for i in range(N_collisions):\n",
    "    collision_pT, collision_y, collision_phi = calculate_coords(dict_of_events[i])\n",
    "    all_pT.extend(collision_pT)\n",
    "    all_y.extend(collision_y)\n",
    "    all_phi.extend(collision_phi)\n",
    "    \n",
    "    "
   ]
  },
  {
   "cell_type": "code",
   "execution_count": 28,
   "id": "89385009-8e81-465e-a137-ccf9b103e7c6",
   "metadata": {},
   "outputs": [
    {
     "data": {
      "image/png": "[encoded data removed]",
      "text/plain": [
       "<Figure size 432x288 with 1 Axes>"
      ]
     },
     "metadata": {
      "needs_background": "light"
     },
     "output_type": "display_data"
    },
    {
     "data": {
      "image/png": "[encoded data removed]",
      "text/plain": [
       "<Figure size 432x288 with 1 Axes>"
      ]
     },
     "metadata": {
      "needs_background": "light"
     },
     "output_type": "display_data"
    },
    {
     "data": {
      "image/png": "[encoded data removed]",
      "text/plain": [
       "<Figure size 432x288 with 1 Axes>"
      ]
     },
     "metadata": {
      "needs_background": "light"
     },
     "output_type": "display_data"
    }
   ],
   "source": [
    "# Write your plotting code here\n",
    "\n",
    "pT_bins = np.linspace(0,2.5,40)\n",
    "y_bins = np.linspace(-3,3,40)\n",
    "phi_bins = np.linspace(-3.5,3.5,40)\n",
    "\n",
    "def plot_histograms(data, bins, xlabel):\n",
    "    \n",
    "    plt.figure()\n",
    "    plt.hist(data, bins = bins)\n",
    "    plt.xlabel(xlabel)\n",
    "    plt.ylabel(\"Counts\")\n",
    "    plt.show()\n",
    "    \n",
    "    \n",
    "plot_histograms(all_pT, pT_bins, \"$p_T$ [GeV]\")\n",
    "\n",
    "plot_histograms(all_y, y_bins, \"$y$\")\n",
    "plot_histograms(all_phi, phi_bins, \"$\\phi$\")"
   ]
  },
  {
   "cell_type": "markdown",
   "id": "c30704e5-513a-4361-997f-365d049d9bfe",
   "metadata": {},
   "source": [
    "Now we want to calculate the mass of the resonant particle $X$ that was produced in the collision event. However, we don't know which two of the four particles in each event decayed from $X$.\n",
    "\n",
    "For every valid* combination of daughter particles, calculate the hypothetical mass of the mother $X$ particle. Then plot a histgram of all of the invariant masses.\n",
    "\n",
    "*Note the charge of $X$\n",
    "\n",
    "Feel free to use or ignore the following function outlines."
   ]
  },
  {
   "cell_type": "code",
   "execution_count": 32,
   "id": "8f014168-9aed-48ca-a3f5-37aeff033cf8",
   "metadata": {},
   "outputs": [],
   "source": [
    "def calculate_m2(particle1, particle2):\n",
    "    \n",
    "    \"\"\"\n",
    "    INPUTS:\n",
    "    \n",
    "    particle1: a list [E, px, py, pz] of 4-momentum components \n",
    "    particle2: a list [E, px, py, pz] of 4-momentum components \n",
    "    \n",
    "    **********\n",
    "    **********\n",
    "    \n",
    "    OUTPUTS: \n",
    "    \n",
    "    m: A float of the invariant mass of a hypothetical mother particle that could have decayed into particle1 + particle2\n",
    "    \n",
    "    \"\"\"\n",
    "    \n",
    "        \n",
    "    E = particle1[0] + particle2[0]\n",
    "    px = particle1[1] + particle2[1] \n",
    "    py = particle1[2] + particle2[2]\n",
    "    pz = particle1[3] + particle2[3]\n",
    "    m2 = E**2 - px**2 - py**2 - pz**2\n",
    "    \n",
    "    if m2 > 0:\n",
    "        return np.sqrt(m2) \n",
    "    else:\n",
    "        return 0\n",
    "\n",
    "\n",
    "def get_event_invariant_masses(event):\n",
    "    \n",
    "    \"\"\"\n",
    "    INPUTS:\n",
    "    \n",
    "    event: a list of 4-momenta\n",
    "    \n",
    "    \n",
    "    **********\n",
    "    **********\n",
    "    \n",
    "    OUTPUTS: \n",
    "    \n",
    "    masses: a list of the hypothetical invariant masses of the particle X\n",
    "    \n",
    "    \"\"\"\n",
    "    \n",
    "            \n",
    "    positives = []\n",
    "    negatives = []\n",
    "    \n",
    "    for particle in event:\n",
    "        if particle[-1] < 0:\n",
    "            negatives.append(particle)\n",
    "        elif particle[-1] > 0: \n",
    "            positives.append(particle)\n",
    "\n",
    "    masses = []\n",
    "    \n",
    "    \n",
    "    masses.append(calculate_m2(positives[0], negatives[0]))\n",
    "    masses.append(calculate_m2(positives[0], negatives[1]))\n",
    "    masses.append(calculate_m2(positives[1], negatives[0]))\n",
    "    masses.append(calculate_m2(positives[1], negatives[1]))    \n",
    "    \n",
    "    return masses\n"
   ]
  },
  {
   "cell_type": "code",
   "execution_count": 33,
   "id": "13bc00f5-afc7-48fb-bde6-78f1444f3510",
   "metadata": {},
   "outputs": [],
   "source": [
    "# Execute your code here\n",
    "    \n",
    "all_mX = []\n",
    "\n",
    "for i in range(N_collisions):\n",
    "    \n",
    "    all_mX.extend(get_event_invariant_masses(dict_of_events[i]))\n",
    "  "
   ]
  },
  {
   "cell_type": "markdown",
   "id": "954275fd-303b-4a29-a717-a08c06d75bf9",
   "metadata": {},
   "source": [
    "Then plot the distribution $m$. You should see a bump. Write your estimate of the mass of $X$."
   ]
  },
  {
   "cell_type": "code",
   "execution_count": 34,
   "id": "cf12f6ab-df47-4993-973b-90c8e2adc482",
   "metadata": {},
   "outputs": [
    {
     "data": {
      "image/png": "[encoded data removed]",
      "text/plain": [
       "<Figure size 432x288 with 1 Axes>"
      ]
     },
     "metadata": {
      "needs_background": "light"
     },
     "output_type": "display_data"
    }
   ],
   "source": [
    "mX_bins = np.linspace(0,4,50)\n",
    "\n",
    "plot_histograms(all_mX, mX_bins, \"$m_X$ [GeV]\")"
   ]
  },
  {
   "cell_type": "markdown",
   "id": "64989999-0ac4-417e-af93-471bb6172cd6",
   "metadata": {},
   "source": [
    "Of course, estimating $m_X$ by eye is not at all rigorous. We should curve fit the distribution, then extract the mean of the fit curve. \n",
    "\n",
    "We're going to use scipy.optimize.curvefit to do this.\n",
    "\n",
    "We can start by fitting the distribution to a Gaussian + Exponential. Define the function for this fit below"
   ]
  },
  {
   "cell_type": "code",
   "execution_count": 47,
   "id": "3607adab-6e37-4719-ab64-54c9d27b232e",
   "metadata": {},
   "outputs": [],
   "source": [
    "def gaussian(x, mu, sigma):\n",
    "    return np.exp(-((x-mu)/sigma)**2/2.0)\n",
    "    \n",
    "def exponential(x, a):\n",
    "    return np.exp(-x*a)\n",
    "\n",
    "def model_fit(x, mu, sigma, a, N_sig, N_bkg):\n",
    "    return N_sig*gaussian(x, mu, sigma) + N_bkg*exponential(x, a)\n",
    "\n"
   ]
  },
  {
   "cell_type": "code",
   "execution_count": 56,
   "id": "9778fe7c-096d-4d67-87c5-7b937975f27f",
   "metadata": {},
   "outputs": [],
   "source": [
    "mX_bins_adj = np.linspace(1.7,3.4,40)\n",
    "\n",
    "\n",
    "\n",
    "hist, bin_edges = np.histogram(all_mX, mX_bins_adj)\n",
    "\n",
    "bin_centers = 0.5*(bin_edges[1:] + bin_edges[:-1])\n"
   ]
  },
  {
   "cell_type": "code",
   "execution_count": 57,
   "id": "88af6117-d0ee-4518-9f19-0816a8f2677f",
   "metadata": {},
   "outputs": [
    {
     "name": "stdout",
     "output_type": "stream",
     "text": [
      "[  2.48856695e+00  -1.05350990e-01   1.52717348e+00   1.54312380e+03\n",
      "   1.47814018e+04]\n"
     ]
    },
    {
     "data": {
      "image/png": "[encoded data removed]",
      "text/plain": [
       "<Figure size 432x288 with 1 Axes>"
      ]
     },
     "metadata": {
      "needs_background": "light"
     },
     "output_type": "display_data"
    }
   ],
   "source": [
    "from scipy.optimize import curve_fit\n",
    "\n",
    "p0 = [2, .05, -1, 1000, 1000]\n",
    "\n",
    "popt, pcov = curve_fit(model_fit, bin_centers, hist, p0 = p0)\n",
    "print(popt)\n",
    "\n",
    "plt.figure()\n",
    "plt.hist(all_mX, bins = mX_bins_adj)\n",
    "plt.plot(bin_centers, model_fit(bin_centers, *popt))\n",
    "\n",
    "plt.show()"
   ]
  },
  {
   "cell_type": "markdown",
   "id": "491a5e2d-d96f-4f69-ac8c-4f1fe9d4d837",
   "metadata": {},
   "source": [
    "Now try a different functional form"
   ]
  },
  {
   "cell_type": "code",
   "execution_count": null,
   "id": "ecd6fc65-5fce-4af8-a240-831b7c9b2c5a",
   "metadata": {},
   "outputs": [],
   "source": []
  },
  {
   "cell_type": "code",
   "execution_count": null,
   "id": "844788d3-2405-4b7b-8008-86a5e7ae0040",
   "metadata": {},
   "outputs": [],
   "source": []
  }
 ],
 "metadata": {
  "kernelspec": {
   "display_name": "PyROOT - Python3",
   "language": "python",
   "name": "pyroot3"
  },
  "language_info": {
   "codemirror_mode": {
    "name": "ipython",
    "version": 3
   },
   "file_extension": ".py",
   "mimetype": "text/x-python",
   "name": "python",
   "nbconvert_exporter": "python",
   "pygments_lexer": "ipython3",
   "version": "3.6.8"
  }
 },
 "nbformat": 4,
 "nbformat_minor": 5
}
