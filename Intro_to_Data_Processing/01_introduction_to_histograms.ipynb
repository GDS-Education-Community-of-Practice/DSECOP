{
 "cells": [
  {
   "cell_type": "markdown",
   "metadata": {
    "colab_type": "text",
    "id": "view-in-github"
   },
   "source": [
    "<a href=\"https://colab.research.google.com/github/GDS-Education-Community-of-Practice/DSECOP/blob/rmastand/introToDataProcessing/01_introduction_to_histograms.ipynb\" target=\"_parent\"><img src=\"https://colab.research.google.com/assets/colab-badge.svg\" alt=\"Open In Colab\"/></a>"
   ]
  },
  {
   "cell_type": "code",
   "execution_count": null,
   "metadata": {
    "colab": {
     "base_uri": "https://localhost:8080/"
    },
    "id": "-IURtN_DaJSE",
    "outputId": "bb7e4f48-58c5-406b-b757-e1081147531a"
   },
   "outputs": [
    {
     "name": "stdout",
     "output_type": "stream",
     "text": [
      "Mounted at /content/drive/\n",
      "/content/drive/My Drive/DSECOP/Colab Notebooks\n"
     ]
    }
   ],
   "source": [
    "# Here are some necessary packages that we need to import to run this notebook\n",
    "\n",
    "import numpy as np\n",
    "import matplotlib.pyplot as plt\n",
    "\n",
    "from google.colab import drive \n",
    "drive.mount(\"/content/drive/\")\n",
    "\n",
    "import os\n",
    "os.chdir(\"/content/drive/My Drive/DSECOP/Colab Notebooks/\")\n",
    "!pwd"
   ]
  },
  {
   "cell_type": "markdown",
   "metadata": {
    "id": "g-6ZYqtLaQOl"
   },
   "source": [
    "# Histograms as a tool for data visualization.\n",
    "\n",
    "In this notebook, we'll learn how *histograms* can be used as a tool to visualize large datasets. We'll practice how to create histograms from large datasets, both through writing our own code and by using the external packages ```numpy``` and ```matplotlib.pyplot``` in Python."
   ]
  },
  {
   "cell_type": "markdown",
   "metadata": {
    "id": "fgzrFk86bPXP"
   },
   "source": [
    "## What does a histogram represent?\n",
    "\n",
    "Virtually all data collection in physics boils down to writing numbers that represent some sort of measurement. We then want to convert the collection of numbers (the *dataset*) into a representation that is easily analyzable. This generally involves converting the numbers into a *plot*.\n",
    "\n",
    "One type of plot is a *histogram*. Histograms are most useful when we have a large number of measurements of the same quantity that were taken under the same conditions. As an example, consider this histogram produced by the ATLAS experiment at the LHC in 2012.\n",
    "\n",
    "\n",
    "This specific analysis focused on decays of proton-proton collisions that resulted in four leptons. For each decay, a measurement was made of the *invariant mass* $m_{4l}$ of the four lepton system. In other words, if the four leptons had all been produced from the decay of a single mother particle, that mother particle would have had a mass of $m_{4l}$.\n",
    "\n",
    "<p><a href=\"https://arxiv.org/abs/1207.7214\">\n",
    "<img src=\"https://drive.google.com/uc?export=view&id=1wk-gGEjCSSdSUxadtjbVrSbZ1zAO6Zhh\" alt=\"drawing\" width=\"400\"/>\n",
    "</a></p>\n",
    "\n",
    "\n",
    "\n",
    "In the above histogram, the x-axis represents all the potential masses that the mother particle could have had (in this case, the experiment is considering masses ranging from 80 to 250 GeV). Note that the x-axis is divided into bins of width 10 GeV. The y-axis shows the number of observations made for a candidate mother particle within each mass bin. \n",
    "\n",
    "Specific to the above plot, the black dots show the actual observations made by the ATLAS experiment. The colored regions show *fits* to the data, assuming different models for the mother particle (we'll go into fitting histograms in detail in the next notebook!). You can see that the most probable mother particle mass is at ~215 GeV.\n",
    "\n",
    "A histogram can be thought of as representing the *probability distribution* of a given observable. (We'll show this later on.) At a glance, we can see the most probable values for the observable, or how evenly distributed or clumped the values are. \n",
    "\n",
    "Note that the ATLAS experiment found a bump at $m_{4l}$ = 125 GeV, which indicates the existence of a mystery particle...(maybe you have heard of it before?)"
   ]
  },
  {
   "cell_type": "markdown",
   "metadata": {
    "id": "51FAyaPha2k8"
   },
   "source": [
    "## Creating histograms from a raw dataset\n",
    "\n",
    "Let's try to create our own histogram from a dataset of raw numbers. Consider the following scenerio:\n",
    "\n",
    "You are gifted a sample of Uranium-241 for your birthday. You want to see if you can pick up radioactive emissions from the sample, so you grab your trusty Geiger counter and place it near the uranium.\n",
    "\n",
    "Every minute, you record the number of \"clicks\" that the Geiger counter makes. You store the data in text file ```geiger_counts_A.txt```, separating each measurement with a comma."
   ]
  },
  {
   "cell_type": "markdown",
   "metadata": {
    "id": "qhqJ7bHHrdke"
   },
   "source": [
    "**Activity:** Write a function to read in the dataset into a ```np.array``` of numbers, ```num_clicks_per_minute```. Print out the first few values of the dataset."
   ]
  },
  {
   "cell_type": "code",
   "execution_count": null,
   "metadata": {
    "colab": {
     "base_uri": "https://localhost:8080/"
    },
    "id": "6HRDglh4cQms",
    "outputId": "8f859df3-e2bc-4d7e-cabd-4138f96d87e3"
   },
   "outputs": [
    {
     "name": "stdout",
     "output_type": "stream",
     "text": [
      "[14 14  9 10 13 14 13  9 15 14]\n"
     ]
    }
   ],
   "source": [
    "dataset_location = \"datasets/geiger_counts_A.txt\"\n",
    "\n",
    "def read_in_dataset(file_loc):\n",
    "\n",
    "  with open(file_loc, \"r\") as infile:\n",
    "    dataset = infile.read().split(\",\")\n",
    "    num_clicks_per_minute = np.array([int(x) for x in dataset if x != \" \"])\n",
    "\n",
    "    return num_clicks_per_minute\n",
    "\n",
    "num_clicks_per_minute = read_in_dataset(dataset_location)\n",
    "\n",
    "print(num_clicks_per_minute[:10])"
   ]
  },
  {
   "cell_type": "markdown",
   "metadata": {
    "id": "wlA8Q7b_driX"
   },
   "source": [
    "It's very hard to gain any meaning from this list of numbers. So let's make this data into a histogram.\n",
    "\n",
    "First, we need to define how we're going to divide the dataset into intervals, or *bins*. Each histogram bin is defined by two numbers, a *left edge* and a *right edge*. Note that histogram bin edges never overlap each other, so there should be no ambiguity about where a given data point is binned. \n",
    "\n",
    "Histogram bins represent the set of all the possible values that we could see in our dataset. *Binning* a dataset means that we assign each measurement to a given bin if it falls between the two edge values. This means that we could quickly see, for example, how many times we counted 1 click per minute, or 2 clicks, and so on... "
   ]
  },
  {
   "cell_type": "markdown",
   "metadata": {
    "id": "XxEaqf22rmig"
   },
   "source": [
    "\n",
    "**Activity:** Write a function that bins the data in ```num_clicks_per_minute```. Chose a reasonable binning / partitioning scheme.\n",
    "\n",
    "You may find it helpful to use the [function](https://numpy.org/doc/stable/reference/generated/numpy.linspace.html) ```np.linspace(lower_bound, upper_bound, num)```. This function creates a ```np.array``` of ```num``` linearly spaced numbers ranging from ```lower_bound``` to ```upper_bound```. "
   ]
  },
  {
   "cell_type": "code",
   "execution_count": null,
   "metadata": {
    "id": "gyKmVwbNfuWI"
   },
   "outputs": [],
   "source": [
    "def bin_data(dataset, lower_bound, upper_bound, num_bins):\n",
    "\n",
    "  # Define your bin edges here\n",
    "  bin_edges = np.linspace(lower_bound, upper_bound, num_bins)\n",
    "  bin_width = bin_edges[1] - bin_edges[0]\n",
    "\n",
    "  # Calculate the center positions of each bin (this will be helpful later!)\n",
    "  bin_centers = 0.5*(bin_edges[1:] + bin_edges[:-1])\n",
    "\n",
    "  # Define a dictionary here\n",
    "  binned_data = {}\n",
    "\n",
    "  for left_edge_i in bin_edges[:-1]:\n",
    "    binned_data[left_edge_i] = 0\n",
    "\n",
    "  # Bin the data\n",
    "  for data_point in dataset:\n",
    "    for left_edge_i in bin_edges[:-1]:\n",
    "      if (data_point >= left_edge_i) and ( data_point < left_edge_i + bin_width):\n",
    "        binned_data[left_edge_i] += 1\n",
    "\n",
    "  return binned_data, bin_edges, bin_centers\n",
    "\n",
    "\n",
    "clicks_per_minute_binned, clicks_per_minute_bin_edges, clicks_per_minute_bin_centers = bin_data(num_clicks_per_minute, -.5, 30.5, 32)\n",
    "\n"
   ]
  },
  {
   "cell_type": "markdown",
   "metadata": {
    "id": "hEwcjlMSgYwy"
   },
   "source": [
    "**Activity:** Write a function that creates a histogram of the binned data in ```num_clicks_per_minute``` using ```plt.bar()```."
   ]
  },
  {
   "cell_type": "code",
   "execution_count": null,
   "metadata": {
    "colab": {
     "base_uri": "https://localhost:8080/",
     "height": 282
    },
    "id": "GKAZRLLniU_X",
    "outputId": "c1e59f43-fb4c-464c-a461-2a9d0391ba9c"
   },
   "outputs": [
    {
     "data": {
      "image/png": "[encoded data removed]",
      "text/plain": [
       "<Figure size 432x288 with 1 Axes>"
      ]
     },
     "metadata": {
      "needs_background": "light"
     },
     "output_type": "display_data"
    }
   ],
   "source": [
    "clicks_per_minute_counts = list(clicks_per_minute_binned.values())\n",
    "\n",
    "plt.figure()\n",
    "plt.bar(clicks_per_minute_bin_centers, clicks_per_minute_counts)\n",
    "plt.xlabel(\"Clicks per minute\")\n",
    "plt.ylabel(\"Num counts\")\n",
    "plt.show()"
   ]
  },
  {
   "cell_type": "markdown",
   "metadata": {
    "id": "IqEIsKj8iUfX"
   },
   "source": [
    "### Using built-in functions to make histograms\n",
    "\n",
    "In practice, it is much more efficient to use preexisting histogramming tools than to write our own code every time. One of the most common function to do this is ```plt.hist()```. \n",
    "\n",
    "This function takes two main arguments: \n",
    "\n",
    "1. A ```np.array``` (or ```list```) of the data to be binned. \n",
    "2. ```bins```: A ```np.array```(or ```list```) of bin edges, or an ```int``` of the number of bins (```plt``` will automatically set the bin edges for you!). \n",
    "\n",
    "The function will automatically plot the histogram. It also returns a list of the counts in each histogram bin.\n",
    "\n",
    "You can read more about ```plt.hist()``` [here](https://matplotlib.org/3.5.0/api/_as_gen/matplotlib.pyplot.hist.html).\n",
    "\n",
    "\n",
    "\n",
    "*Note*: In some cases, you might prefer to use ```numpy.histogram()```. This function is essentially identical to ```plt.hist()```, except it doesn't automatically plot the histogram."
   ]
  },
  {
   "cell_type": "markdown",
   "metadata": {
    "id": "X5O6ZHZBr4wf"
   },
   "source": [
    "**Activity:** Use ```plt.hist()``` to remake the plot shown above. Don't forget to label your axes!"
   ]
  },
  {
   "cell_type": "code",
   "execution_count": null,
   "metadata": {
    "colab": {
     "base_uri": "https://localhost:8080/",
     "height": 282
    },
    "id": "o3CHc4Lbf2Ft",
    "outputId": "fa620df4-18a5-47ca-daa7-c4ac2183ac41"
   },
   "outputs": [
    {
     "data": {
      "image/png": "[encoded data removed]",
      "text/plain": [
       "<Figure size 432x288 with 1 Axes>"
      ]
     },
     "metadata": {
      "needs_background": "light"
     },
     "output_type": "display_data"
    }
   ],
   "source": [
    "plt.figure()\n",
    "plt.hist(num_clicks_per_minute, bins = clicks_per_minute_bin_edges)\n",
    "plt.xlabel(\"Clicks per minute\")\n",
    "plt.ylabel(\"Num counts\")\n",
    "plt.show()"
   ]
  },
  {
   "cell_type": "markdown",
   "metadata": {
    "id": "9iAMHg89f0P_"
   },
   "source": [
    "## Histograms as probability distributions\n",
    "\n",
    "We said earlier that histograms can be interpreted as probability distributions for a given observable. Here's how we can see that. \n",
    "\n",
    "The total number of observations $N$ in the dataset can be found by summing the number of values in each bin, over all bins. i.e. \n",
    "\n",
    "$$N = \\sum_i n_i.$$\n",
    "\n",
    "Here, we have introduced $i$ as an index over histogram bins $b_i$. \n",
    "\n",
    "Then the probability of an arbitrary observation belonging to the bin $b_i$ is\n",
    "\n",
    "$$p_i = \\frac{n_i}{N}.$$\n",
    "\n",
    "If bin $b_i$ has a left edge value $l_i$ and a bin width $\\delta$, then $p_i$ is the probability that a given observable lies in the interval $[l_i, l_i + \\delta]$. But this is exactly the definition for the proability distribution for the observable! \n"
   ]
  },
  {
   "cell_type": "markdown",
   "metadata": {
    "id": "8Vkb_KC0sCQC"
   },
   "source": [
    "When comparing histograms of different distributions, it is often useful to plot the normalized distributions, rather than the raw distributions. \n",
    "\n",
    "As an example, maybe you took data using your Geiger counter for 2 hours on Monday, and for 3 hours on Tuesday. Then the two datasets would be of different sizes. However, it is much harder to compare the datasets (i.e. quickly gauging the mean or mode by eye) if they don't share the same y-axis scales.\n"
   ]
  },
  {
   "cell_type": "markdown",
   "metadata": {
    "id": "JZNV_GnksDPO"
   },
   "source": [
    "\n",
    "**Activity**: Plot your Geiger counter data from Monday (which should be contained in the variable ```num_clicks_per_minute```) and Tuesday (which is contained in the dataset ```geiger_counts_B.txt```, and should be stored in a variable ```num_clicks_per_minute_2```) on the same plot. Remake the plot, this time normalizing both histograms."
   ]
  },
  {
   "cell_type": "code",
   "execution_count": null,
   "metadata": {
    "colab": {
     "base_uri": "https://localhost:8080/",
     "height": 544
    },
    "id": "15wycICUmoUt",
    "outputId": "16d03069-1c9e-4b87-8eb2-4a945a3ad177"
   },
   "outputs": [
    {
     "data": {
      "image/png": "[encoded data removed]",
      "text/plain": [
       "<Figure size 432x288 with 1 Axes>"
      ]
     },
     "metadata": {
      "needs_background": "light"
     },
     "output_type": "display_data"
    },
    {
     "data": {
      "image/png": "[encoded data removed]",
      "text/plain": [
       "<Figure size 432x288 with 1 Axes>"
      ]
     },
     "metadata": {
      "needs_background": "light"
     },
     "output_type": "display_data"
    }
   ],
   "source": [
    "dataset_location_2 = \"datasets/geiger_counts_B.txt\"\n",
    "\n",
    "num_clicks_per_minute_2 = read_in_dataset(dataset_location_2)\n",
    "\n",
    "# Unnormalized histograms\n",
    "plt.figure()\n",
    "plt.hist(num_clicks_per_minute, bins = clicks_per_minute_bin_edges, alpha = 0.3, density = False, label = \"Monday data\")\n",
    "plt.hist(num_clicks_per_minute_2, bins = clicks_per_minute_bin_edges, alpha = 0.3, density = False, label = \"Tuesday data\")\n",
    "plt.legend()\n",
    "plt.xlabel(\"Clicks per second\")\n",
    "plt.ylabel(\"Num counts\")\n",
    "plt.show()\n",
    "\n",
    "# Normalized histograms\n",
    "plt.figure()\n",
    "plt.hist(num_clicks_per_minute, bins = clicks_per_minute_bin_edges, alpha = 0.3, density = True, label = \"Monday data\")\n",
    "plt.hist(num_clicks_per_minute_2, bins = clicks_per_minute_bin_edges, alpha = 0.3, density = True, label = \"Tuesday data\")\n",
    "plt.legend()\n",
    "plt.xlabel(\"Clicks per second\")\n",
    "plt.ylabel(\"Density\")\n",
    "plt.show()"
   ]
  },
  {
   "cell_type": "markdown",
   "metadata": {
    "id": "zBNfwb3hsnbV"
   },
   "source": [
    "*Move on to notebook 02*"
   ]
  },
  {
   "cell_type": "code",
   "execution_count": null,
   "metadata": {
    "id": "qGIhP3QMspvO"
   },
   "outputs": [],
   "source": []
  }
 ],
 "metadata": {
  "colab": {
   "authorship_tag": "ABX9TyPYHSSnndRm5N97I4hElGhl",
   "collapsed_sections": [],
   "include_colab_link": true,
   "name": "01_introduction_to_histograms.ipynb",
   "provenance": []
  },
  "kernelspec": {
   "display_name": "Python 3 (ipykernel)",
   "language": "python",
   "name": "python3"
  },
  "language_info": {
   "codemirror_mode": {
    "name": "ipython",
    "version": 3
   },
   "file_extension": ".py",
   "mimetype": "text/x-python",
   "name": "python",
   "nbconvert_exporter": "python",
   "pygments_lexer": "ipython3",
   "version": "3.9.7"
  }
 },
 "nbformat": 4,
 "nbformat_minor": 4
}
