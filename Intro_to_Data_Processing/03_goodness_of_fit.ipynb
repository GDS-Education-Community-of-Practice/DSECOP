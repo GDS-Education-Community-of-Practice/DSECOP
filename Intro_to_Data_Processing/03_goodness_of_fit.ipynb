{
 "cells": [
  {
   "cell_type": "markdown",
   "metadata": {
    "colab_type": "text",
    "id": "view-in-github"
   },
   "source": [
    "<a href=\"https://colab.research.google.com/github/GDS-Education-Community-of-Practice/DSECOP/blob/main/Intro_to_Data_Processing/03_goodness_of_fit.ipynb\" target=\"_parent\"><img src=\"https://colab.research.google.com/assets/colab-badge.svg\" alt=\"Open In Colab\"/></a>"
   ]
  },
  {
   "cell_type": "code",
   "execution_count": null,
   "metadata": {
    "colab": {
     "base_uri": "https://localhost:8080/"
    },
    "id": "EdWc3zxi1rSW",
    "outputId": "3c728272-f390-40c2-b872-82f97fe3b613"
   },
   "outputs": [
    {
     "name": "stdout",
     "output_type": "stream",
     "text": [
      "Mounted at /content/drive/\n",
      "/content/drive/My Drive/DSECOP/Colab Notebooks\n"
     ]
    }
   ],
   "source": [
    "# Here are some necessary packages that we need to import to run this notebook\n",
    "\n",
    "import numpy as np\n",
    "import matplotlib.pyplot as plt\n",
    "\n",
    "from google.colab import drive \n",
    "drive.mount(\"/content/drive/\")\n",
    "\n",
    "import os\n",
    "os.chdir(\"/content/drive/My Drive/DSECOP/Colab Notebooks/\")\n",
    "!pwd"
   ]
  },
  {
   "cell_type": "markdown",
   "metadata": {
    "id": "jCuGAZVeo-Vz"
   },
   "source": [
    "# Quantifying goodness of fit\n",
    "\n",
    "In this notebook, we will learn to quantitatively determine how well a given model describes a dataset. We will do this by introducing the *chi-square* goodness-of-fit test statistic."
   ]
  },
  {
   "cell_type": "markdown",
   "metadata": {
    "id": "ZZx2jeT5q3J6"
   },
   "source": [
    "## How good is a given fit model?\n",
    "\n",
    "As covered in the previous notebook, a curve fitting algorithm works in the following manner. \n",
    "\n",
    "1. Create a histogram for given dataset with a bin choice $b_i$. The histogram produces a list of counts in each bin, $n_i$. \n",
    " - If your data is not histogrammed (i.e. perhaps you have a scatterplot of measurements as a function of time), you can interpret any dataset pairs ($x_i$, $y_i$) as parallels to the histogram variables ($b_i, n_i$).\n",
    "\n",
    "\n",
    "2. Define a function $f(b_i, \\Theta)$ to fit to the histogram. This function will be calculated at the center of each bin to produce a list of the same length of $n_i$.\n",
    "\n",
    "3. Select a trial value for the fit parameter(s) $\\Theta_{\\textrm{trial}}$. Calculate the numbers $f(b_i, \\Theta_{\\textrm{trial}})$ at each bin center.\n",
    "\n",
    "4. Calculate the *loss* between the fit function and the data, i.e. between $f(b_i, \\Theta_{\\textrm{trial}})$ and $n_i$.\n",
    "\n",
    "4. Repeat steps 3 and 4 for a range of $\\Theta_{\\textrm{trial}}$ values. \n",
    "\n",
    "5. Select the $\\Theta_{\\textrm{trial}}$ that minimizes the loss. This will produce the best-fitting function to the data.\n",
    "\n",
    "However, it may be the case that the best-fitting function to the data that is found by the curve fitting algorithm is an objectively *bad*-fitting function. \n",
    "\n",
    "As an example: suppose we have a dataset drawn from a parabolic distribution (maybe we're plotting the distance traveled as a funtion of time for an object in free-fall). We *could* fit the plot of distance vs. time to a linear model and get values for the slope and y-intercept that minimize the loss function.\n",
    "\n",
    "\n",
    "<img src=\"https://drive.google.com/uc?export=view&id=1w4u7ZYTm50D2HM3Ouin4SWgS0nvih4E9\" alt=\"drawing\" width=\"500\"/>\n",
    "\n",
    "\n",
    "\n",
    "But by eye, we can see that a parabolic fit is superior!\n",
    "\n",
    "How can we quantitatively describe how good a fit is?"
   ]
  },
  {
   "cell_type": "markdown",
   "metadata": {
    "id": "UApFX-f0v8SJ"
   },
   "source": [
    "**Activity:** Read in the dataset ```geiger_counts_A.txt``` and histogram it. Fit the data to a Poisson distribution, then a Gaussian distribution. Plot both fits and the histogram on the same plot. By eye, can you decisively determine which model provides a better fit to the data?\n"
   ]
  },
  {
   "cell_type": "code",
   "execution_count": null,
   "metadata": {
    "id": "ofer8xg-v5Hz"
   },
   "outputs": [],
   "source": [
    "# First histogram the data\n",
    "\n",
    "dataset_location = \"datasets/geiger_counts_A.txt\"\n",
    "\n",
    "def read_in_dataset(file_loc):\n",
    "\n",
    "  with open(file_loc, \"r\") as infile:\n",
    "    dataset = infile.read().split(\",\")\n",
    "    num_clicks_per_minute = np.array([int(x) for x in dataset if x != \" \"])\n",
    "\n",
    "    return num_clicks_per_minute\n",
    "\n",
    "num_clicks_per_minute = read_in_dataset(dataset_location)\n",
    "\n",
    "clicks_per_minute_bin_edges = np.linspace(-.5,30.5,32)\n",
    "clicks_per_minute_bin_centers = 0.5*(clicks_per_minute_bin_edges[1:]+clicks_per_minute_bin_edges[:-1])\n",
    "\n",
    "  # We're using np.histogram() here as we don't necessarily need to see the plot of the histogram\n",
    "n_i, bins = np.histogram(num_clicks_per_minute, clicks_per_minute_bin_edges, density = False)\n"
   ]
  },
  {
   "cell_type": "code",
   "execution_count": null,
   "metadata": {
    "id": "vSVSb_phw7y8"
   },
   "outputs": [],
   "source": [
    "# define the fit functions\n",
    "\n",
    "def poisson(n, l, N):\n",
    "\n",
    "  return [N*(l**x)*np.exp(-l) / np.math.factorial(x) for x in n]\n",
    "\n",
    "def gaussian(n, mu, sigma, N):\n",
    "\n",
    "  return [N*(1.0/(sigma*np.sqrt(2*np.pi)))*np.exp(-(x-mu)**2/sigma**2) for x in n]"
   ]
  },
  {
   "cell_type": "code",
   "execution_count": null,
   "metadata": {
    "colab": {
     "base_uri": "https://localhost:8080/",
     "height": 279
    },
    "id": "pfu1ZFs8xVDa",
    "outputId": "f8d8f4c1-f107-487c-e367-76a5a20e2cc0"
   },
   "outputs": [
    {
     "data": {
      "image/png": "[encoded data removed]",
      "text/plain": [
       "<Figure size 432x288 with 1 Axes>"
      ]
     },
     "metadata": {
      "needs_background": "light"
     },
     "output_type": "display_data"
    }
   ],
   "source": [
    "from scipy.optimize import curve_fit\n",
    "\n",
    "\n",
    "popt_poisson, pcov_poisson = curve_fit(poisson, clicks_per_minute_bin_centers, n_i)\n",
    "popt_gaussian, pcov_gaussian = curve_fit(gaussian, clicks_per_minute_bin_centers, n_i, p0 = [12, 5, 3000])\n",
    "\n",
    "plt.figure()\n",
    "plt.hist(num_clicks_per_minute, bins = clicks_per_minute_bin_edges, label = \"Observed data\")\n",
    "plt.plot(clicks_per_minute_bin_centers, gaussian(clicks_per_minute_bin_centers, *popt_gaussian), label = \"gaussian best fit\")\n",
    "plt.plot(clicks_per_minute_bin_centers, poisson(clicks_per_minute_bin_centers, *popt_poisson), label = \"poisson best fit\")\n",
    "\n",
    "plt.legend()\n",
    "\n",
    "plt.xlabel(\"Clicks per minute\")\n",
    "plt.ylabel(\"Num counts\")\n",
    "plt.show()"
   ]
  },
  {
   "cell_type": "markdown",
   "metadata": {
    "id": "AftiBo-u0KZg"
   },
   "source": [
    "## Defining the $\\chi^2$ test statistic\n",
    "\n",
    "The *chi-square* goodness-of-fit test statistic is defined as\n",
    "\n",
    "$$\\chi^2 = \\sum_i \\frac{(O_i - E_i)^2}{E_i},$$\n",
    "\n",
    "where $O_i$ is the observed value for a given bin $b_i$ and $E_i$ is the expected value for that bin, as calculated from the model fit function.\n",
    "\n",
    "Using terms we have already defined, this is equivalent to \n",
    "\n",
    "$$\\chi^2 = \\sum_i \\frac{(n_i - f(b_i, \\Theta))^2}{f(b_i, \\Theta)}.$$\n",
    "\n",
    "\n"
   ]
  },
  {
   "cell_type": "markdown",
   "metadata": {
    "id": "eHnqtDkh0VoT"
   },
   "source": [
    "### Comparing the $\\chi^2$ test statistic and loss functions\n",
    "\n",
    "Looking at the expression for $\\chi^2$ above, you might have noticed how similar it looks to the expression for the mean-squared error loss in the previous notebook.\n",
    "\n",
    "$$\\chi^2 = \\sum_i \\frac{(n_i - f(b_i, \\Theta))^2}{f(b_i, \\Theta)} \\;\\;\\; \\textrm{vs.} \\;\\;\\; \\mathcal{L}_{MSE}(\\Theta) = \\frac{\\sum_i (n_i - f(b_i, \\Theta))^2}{\\textrm{num. bins}}$$\n",
    "\n",
    "However, these quantities do not gauge the same thing.\n",
    "\n",
    "Loss functions are used to find the variables $\\Theta$ (sometimes called the *parameters*) associated with a given model. You might use a loss function when you know the general analytical process that governs a given dataset, and you want to find specific constants that would lead to the exact numerical data that you observed. For example, maybe you have a plot of the distance a body falls on Mars as a function of time. You are pretty sure that this data should be parabolically distributed, but you use a loss function to best fit the data to a parabola to find the value of $g_{Mars}$.\n",
    "\n",
    "In contrast, the $\\chi^2$ is used to evaluate how well the data fits the predictions of a fully determined model. So maybe you measure the mass and radius of Mars to calculate $g_{Mars}$ from a theoretical standpoint. You can then calculate $\\chi^2$ between the theoretical prediction and your observations.\n",
    "\n"
   ]
  },
  {
   "cell_type": "markdown",
   "metadata": {
    "id": "n5E-6r8lwOku"
   },
   "source": [
    "**Activity:** Write a function to calculate the $\\chi^2$ test statistic given two arrays ```observed_vals``` and ```expected_vals```. Calculate $\\chi^2$ for both the Poisson and the Gaussian fit. Now can you decisively determine which model provides a better fit to the data?"
   ]
  },
  {
   "cell_type": "code",
   "execution_count": null,
   "metadata": {
    "colab": {
     "base_uri": "https://localhost:8080/"
    },
    "id": "CeGyjsua1cHx",
    "outputId": "d8f5b2c6-25ad-45a3-b248-26f21c46df29"
   },
   "outputs": [
    {
     "name": "stdout",
     "output_type": "stream",
     "text": [
      "$\\chi^2$ for a gaussian fit: 158.5802040119228\n",
      "$\\chi^2$ for a Poisson fit: 24.961948378337947\n"
     ]
    }
   ],
   "source": [
    "def chi2(observed_vals, expected_vals):\n",
    "\n",
    "  chi2 = 0\n",
    "\n",
    "  for i in range(len(observed_vals)):\n",
    "\n",
    "    chi2 += ( (observed_vals[i] - expected_vals[i])**2 / expected_vals[i] )\n",
    "  return chi2\n",
    "\n",
    "exp_gaussian = gaussian(clicks_per_minute_bin_centers, *popt_gaussian)\n",
    "exp_poisson = poisson(clicks_per_minute_bin_centers, *popt_poisson)\n",
    "\n",
    "chi2_gaussian = chi2(n_i, exp_gaussian)\n",
    "chi2_poisson = chi2(n_i, exp_poisson)\n",
    "\n",
    "print(\"$\\chi^2$ for a gaussian fit:\", chi2_gaussian)\n",
    "print(\"$\\chi^2$ for a Poisson fit:\", chi2_poisson)"
   ]
  },
  {
   "cell_type": "markdown",
   "metadata": {
    "id": "KTsaUm1K0z-x"
   },
   "source": [
    "A related test statistic is $\\chi^2/\\nu$, or the *reduced chi-square*, or the *chi-square per degrees of freedom*.\n",
    "\n",
    "The degrees of freedom $\\nu$ is equal to (num. observations made) - (num. fit parameters in the model).\n",
    "\n",
    "*Note*: There's a bit of ambiguous language here. Here, an \"observation\" is equivalent to observing $n_i$ counts in a given bin $b_i$. It is *not* equal to the number of measurements in a given dataset."
   ]
  },
  {
   "cell_type": "markdown",
   "metadata": {
    "id": "8Fa1qiLjybqH"
   },
   "source": [
    "**Activity**: Calculate the reduced chi-square, $\\chi^2 / \\nu$, for the Poisson and Gaussian fit to the dataset."
   ]
  },
  {
   "cell_type": "code",
   "execution_count": null,
   "metadata": {
    "colab": {
     "base_uri": "https://localhost:8080/"
    },
    "id": "-weWi-GfyilF",
    "outputId": "7d55f137-8939-44e1-bd88-cbeb7c002a4c"
   },
   "outputs": [
    {
     "name": "stdout",
     "output_type": "stream",
     "text": [
      "$\\chi^2$ / DoF for a gaussian fit: 5.468282896962855\n",
      "$\\chi^2$ / DoF for a Poisson fit: 0.8320649459445982\n"
     ]
    }
   ],
   "source": [
    "dof_gaussian = len(clicks_per_minute_bin_centers) - 2\n",
    "dof_poisson = len(clicks_per_minute_bin_centers) - 1\n",
    "\n",
    "print(\"$\\chi^2$ / DoF for a gaussian fit:\", chi2_gaussian / dof_gaussian)\n",
    "print(\"$\\chi^2$ / DoF for a Poisson fit:\", chi2_poisson / dof_poisson)"
   ]
  },
  {
   "cell_type": "markdown",
   "metadata": {
    "id": "YhzkHUgCDBid"
   },
   "source": [
    "### A mathematical aside: $\\chi^2$ distribution\n",
    "\n",
    "To fully understand the usefulness of the $\\chi^2$ test statistic, we need to understand the $\\chi^2$ distribution. The $\\chi^2$ distribution is a probability distribution $f(x)$ given by\n",
    "\n",
    "$$f_k(x) = \\frac{x^{k/2 -1}e^{-x/2}}{2^{k/2}\\Gamma(k/2)}, \\hspace{7mm} (x \\geq 0).$$\n",
    "\n",
    "Here, $\\Gamma(k/2)$ is the *Gamma function*. It's defined on integers by $\\Gamma(m) = (m-1)!$ and is extrapolated to be well-defined on non-integers. \n",
    "\n",
    "To construct the probability distribution $f(x)$, we would execute the following steps:\n",
    "\n",
    "1. Draw $k$ independent trials from the *standard normal* distribution (a gaussian with $\\mu$ = 0 and $\\sigma = 1$) to produce a list of measurements $z_1$, ..., $z_k$\n",
    "2. Calculate the sum of the squares $Q = \\sum_{i=1}^k z_i^2$\n",
    "\n",
    "If steps 1 and 2 are repeated many times, then the variable $Q$ can be histogrammed to produce $f(x)$.\n",
    "\n",
    "\n",
    "A plot from [Wikipedia](https://en.wikipedia.org/wiki/Chi-squared_distribution) is shown below, for a range of $k$ values.\n",
    "\n",
    "\n",
    "<img src=\"https://drive.google.com/uc?export=view&id=1tNO8htoUOzD6BzFSR7v-BKcnRkIgluRt\" alt=\"drawing\" width=\"400\"/>\n",
    "\n",
    "\n",
    "\n"
   ]
  },
  {
   "cell_type": "markdown",
   "metadata": {
    "id": "rF_QbqnUEWKq"
   },
   "source": [
    "### Adding in physical context: f(x) and the $\\chi^2$ test statistic\n",
    "\n",
    "Now, let's outline how we can recover this theoretical distribution for $f(x)$ from a more realistic physical experiment.\n",
    "\n",
    "Let's go back to your Geiger counter radioactivity experiment with the Uranium-241 sample. You record the number of counts per minute for as long as you can stand. At the end of that time period, you histogram your measurements using the binning scheme $b_i$ to get counts $n_i$ (let's assume $n_i$ are the normalized counts), fit the histogram to a Poisson distribution, and get a best-fit value $\\lambda$.\n",
    "\n",
    "\n",
    "The parameter $\\lambda$ that you found each day should be close to the true value $\\lambda^*$ of the theoretical poisson decay process for Urainium-241. But it will likely *not* match. The real world is noisy and messy, and real experiements are rife with fluctuations and statistical errors. However, the more measurements you take, the closer $\\lambda$ will be to $\\lambda^*$.\n",
    "\n",
    "\n",
    "For each bin $b_i$, the true underlying process $\\lambda^*$ would produce  $n_i^*$ (normalized) for each bin. Again, this will almost certainly differ from the observed $n_i$ counts that you get in your experiment. \n",
    "\n",
    "Let's say you do the Geiger counting experiment for several days in a row using the same binning scheme. By the [Central Limit Theorem](https://), the observation for each bin $n_i$ that you get each day will be randomly pulled from a gaussian with mean $n_i^*$ and standard deviation $\\sqrt{n_i^*}$.\n",
    "\n",
    "*Note:* If you are familiar with the Central Limit Theorem, you may know that the standard deviation should be $\\frac{\\sigma}{\\sqrt{n}}$, where $\\sigma$ is the standard deviation of the underlying process and $n$ is the number of measurements made. For counting experiemnts, the error on the number of counts $m$ in a bin is $\\sqrt{m}$, and each day, we make one measurement per bin.\n",
    "\n",
    "Then we have\n",
    "\n",
    "$$\\chi^2 = \\sum_i \\frac{(n_i - n_i^*)^2}{n_i}.$$\n",
    "\n",
    "Now consider the quantity $\\frac{(n_i - n_i^*)^2}{n_i}$ calculated for each bin $b_i$. Since we can identify $\\sigma_i^2$ with $n_i$, then the quantity is equal to the normalized variance. In other words, it's the variance for a random process pulled from a standard normal distribution. And this was the theoretical underpinning of the $\\chi^2$ distribution $f(x)$ -- we have completed the circle, and expressed the $\\chi^2$ as the sum of many normalized variances!\n",
    "\n",
    "*Note:* There's a subtlety here -- while $f(x)$ was defined as the sum over $k$ independent measurements, we identify $k$ not with the number of bins $I$, but rather with the degrees of freedom $\\nu$ for our model fit. This is because our random draws of histograms bins are not actually independent for a normalized distribution. (Can you see why the individual bins for a histogram wouldn't be independent?)"
   ]
  },
  {
   "cell_type": "markdown",
   "metadata": {
    "id": "NqEJyinI6w8O"
   },
   "source": [
    "### Using the $\\chi^2$ test statistic to evaluate a model\n",
    "\n",
    "In the doing the previous exercises, you may have come to the conclusion that a lower $\\chi^2$ test statistic is generally better, as we have better agreement between the observed data and the results predicted by the model. But how can we turn this general sentiment into something more rigorous?"
   ]
  },
  {
   "cell_type": "markdown",
   "metadata": {
    "id": "c3cSojmbfdAe"
   },
   "source": [
    "### The language of hypothesis testing\n",
    "\n",
    "At this point, it is useful to introduce the idea of hypothesis testing. In this framework, we define two hypothesis:\n",
    "\n",
    "$\\mathcal{H_0}$ , the null hypothesis: this is the situation where the model fit we have defined **does** describe the data.\n",
    "\n",
    "$\\mathcal{H_1}$, the alternative hypothesis: this is the situation where the model fit we have defined **does not** describe the data.\n",
    "\n",
    "When we do a hypothesis testing analysis, we operate under the assumption that the null hypotehsis is true. In other words, we postulate (possibly incorrectly) that the model fit we have derived from out dataset is the *correct* model that describes the underlying physics process that we measured. So if your Poisson fit to the Geiger counter data returned a best-fit value for $\\lambda$ = 35 counts per minute, then we make the claim that the sample fo Uranium-241 does indeed have a true decay rate of 35 counts per minute, i.e. $\\lambda^* = \\lambda$. \n",
    "\n",
    "Now, let's say that you give the Uranium-241 sample to $i$ different friends over the course of a week, and they all make their own counts per minute datasets. Due to random statistical fluctuations, none of your friends will produce the *same* dataset. But, if your friends do a fit to their individual datasets using the same binning scheme as you did, they should find that the data is indeed Poisson distributed with $\\lambda_i \\sim $ 35. Your friends can then calculate their own measurements of $\\chi^2_i$. And the collection of $\\chi^2_i$ measurements mase by you and your friends should follow the a theoretical chi-square proability distribution with $\\nu$ degrees of freedom $f_\\nu(x)$. "
   ]
  },
  {
   "cell_type": "markdown",
   "metadata": {
    "id": "oJJ0yNUUPrmH"
   },
   "source": [
    "### Significance and $p$-values\n",
    "\n",
    "All of the above scenario was created under the claimm that the null hypothesis was true. Now it's time to check whether that claim was a good one to make.\n",
    "\n",
    "For each measurement $\\chi^2_i$ that your friends make, we can define the quantity $\\alpha$ (sometimes called the *$p$-value* as \n",
    "\n",
    "$$\\alpha = \\int_{\\chi^2_i}^\\infty f_k(x) dx.$$\n",
    "\n",
    "We can interpret $\\alpha$ as the probability that an arbitrary experiment of the same type would result in a measured value of $\\chi^2$ that is *greater* than the value $\\chi^2_i$. \n",
    "\n",
    "If $\\alpha$ is very small, this means that it would be very unlikely to measure a value of $\\chi^2$ greater than $\\chi^2_i$. There are two possbilities as a result: \n",
    "\n",
    "1. The null hypothesis is true, and the dataset that made an abnormally large measurement of $\\chi^2_i$ was a rare statistical anomaly. \n",
    "2. The null hypothesis is *not* a good description of the data.\n",
    "\n",
    "Most times, a $p$-value of 0.05 is considered sufficient to reject the null hypothesis. \n",
    "\n",
    "<a href=\"https://www.simplypsychology.org/p-value.html\">\n",
    "<img src=\"https://drive.google.com/uc?export=view&id=1zFUzppFzicwLM2KqqAPam-aecOrFsUVn\" alt=\"drawing\" width=\"500\"/>\n"
   ]
  },
  {
   "cell_type": "markdown",
   "metadata": {
    "id": "s3UBykogFPIm"
   },
   "source": [
    "In practice, if you don't feel like writing code to calculate the $\\chi^2$ test statistic yourself, you can use the ```scipy.stats.chisquare()``` method.\n",
    "\n",
    "The function takes three main arguments: \n",
    "\n",
    "1. ```f_obs```: a ```np.array``` (or ```list```)  containing the observed data counts /  frequencies\n",
    "2. ```f_exp```: a ```np.array``` (or ```list```)  containing the expected data counts /  frequencies\n",
    "3. ```ddof```: an ```int``` containing the number of degrees of freedom corresponding to the model fit.Recall that we defined $\\nu$ as (num. observations made) - (num. fit parameters in the model). ```scipy.stats.chisquare()``` infers (num. observations made) from ```f_obs``` and ```f_exp```, so ```ddof`` is just the \"delta\" to this value.\n",
    "\n",
    "The function returns the (unscaled) $\\chi^2$ test statistic and the $p$-value ($\\alpha$), as derived from comparing the calculated $\\chi^2$ with the theoretical $\\chi^2$ distribution with the relevant degrees of freedom. \n",
    "\n",
    "You can read more about the function [here](https://docs.scipy.org/doc/scipy/reference/generated/scipy.stats.chisquare.html)."
   ]
  },
  {
   "cell_type": "markdown",
   "metadata": {
    "id": "IDT0pywNzLeb"
   },
   "source": [
    "**Activity**: Accept or reject the null hypothesis using the $\\chi^2$ test statistic, assuming (1) a Poisson model and (2) a gaussian model."
   ]
  },
  {
   "cell_type": "code",
   "execution_count": null,
   "metadata": {
    "colab": {
     "base_uri": "https://localhost:8080/"
    },
    "id": "RhWCyt0PY1xD",
    "outputId": "9c8364e5-b83f-45f3-f362-e963eda2ad6a"
   },
   "outputs": [
    {
     "name": "stdout",
     "output_type": "stream",
     "text": [
      "$\\Chi^2$ for gaussian fit = Power_divergenceResult(statistic=158.5802040119228, pvalue=3.442260037741459e-20)\n",
      "$\\Chi^2$ for poisson fit = Power_divergenceResult(statistic=24.961948378337947, pvalue=0.6802205648039448)\n"
     ]
    }
   ],
   "source": [
    "from scipy.stats import chisquare\n",
    "\n",
    "result_gaussian = chisquare(n_i, exp_gaussian, 2)\n",
    "result_poisson = chisquare(n_i, exp_poisson, 1)\n",
    "\n",
    "print(\"$\\Chi^2$ for gaussian fit =\", result_gaussian)\n",
    "print(\"$\\Chi^2$ for poisson fit =\", result_poisson)"
   ]
  },
  {
   "cell_type": "markdown",
   "metadata": {
    "id": "x3Wpyy5j7BUk"
   },
   "source": [
    "## Bonus: The Kolmogorov-Smirnov goodness-of-fit test.\n",
    "\n",
    "In this notebook, we've focused on the $\\chi^2$ test statistic. But this test is only truly useful for categorical data (i.e. datasets of counts or frequencies). For histogram-based analyses, the number of \"categories\" could maybe be considered equal to the number of binsm, but it might be easier to work with normalized histograms anyways. Then the $\\chi^2$ test statistic might fail to gauge goodness-of-fit for a given model.\n",
    "\n",
    "A useful goodness-of-fit procedure for histogram-based analyses is the *Kolmogorov-Smirnov* test.\n",
    "\n",
    "Consider a data sample of size $n$ with a probability distribution $p_n(x)$ (in other words, the normalized histogram) and a cumulative distribution function (CDF) $F_n(x)$. Let's say that you want to test whether the data can be well-modeled by the probability distribution $p_0(x)$ with a cumulative distribution function $F_0(x)$.\n",
    "\n",
    "The Kolmogorov-Smirnov test statistic is\n",
    "\n",
    "$$D_n = \\max_x |F_n(x) - F_0(x)|.$$\n",
    "\n",
    "In essense, we're calculating the largest difference between the CDFs of the data and the postulated model. (It should be clear that for a model that perfectly fits the data, $D_n = 0$.)\n",
    "\n",
    "Each $n$ and $\\alpha$ ($p$-value) pairing is associated with a critical test statistic $d_{n, \\alpha}$. You can find these in a [lookup table](https://www.real-statistics.com/statistics-tables/two-sample-kolmogorov-smirnov-table/). If $D_n > d_{n, \\alpha}$, then the null hypothesis must be rejected at the given confidence level. "
   ]
  },
  {
   "cell_type": "markdown",
   "metadata": {
    "id": "ucjCZE8O7CHW"
   },
   "source": [
    "*Note*: the Kolmogorov-Smirnov test is defined for *unbinned* data with a continuous CDF. Here, we're asking you to run the test on Poisson-distributed data, which is discrete (as you can only measure an integer number of counts). So take this example with a grain of salt. In writing code to do a pseudo- Kolmogorov-Smirnov test, you'll gain conceptual understanding in what the test actually measures. But you won't be able to meaningfully accept of reject the null hypothesis. \n",
    "\n",
    "**Activity**: write code to run a *binned* Kolmogorov-Smirnov test on the (1) gaussian and (2) poisson fit to data. Plot CDFs of the two fits and the actual data on the same plot. For each fit, print out the test statistic $D_n$ and its bin location."
   ]
  },
  {
   "cell_type": "code",
   "execution_count": null,
   "metadata": {
    "colab": {
     "base_uri": "https://localhost:8080/",
     "height": 315
    },
    "id": "b89-0s3i7UCt",
    "outputId": "915cdfeb-74cd-44f9-9484-4ad27907b710"
   },
   "outputs": [
    {
     "data": {
      "image/png": "[encoded data removed]",
      "text/plain": [
       "<Figure size 432x288 with 1 Axes>"
      ]
     },
     "metadata": {
      "needs_background": "light"
     },
     "output_type": "display_data"
    },
    {
     "name": "stdout",
     "output_type": "stream",
     "text": [
      "KS statistic for gaussian fit = 0.01777623541426221 at 15.0\n",
      "KS statistic for poisson fit = 0.00478921792972363 at 7.0\n"
     ]
    }
   ],
   "source": [
    "def KS_test(pdf_1, pdf_2):\n",
    "\n",
    "  # calculate the CDFs\n",
    "  CDF_1 = np.cumsum(pdf_1) / np.sum(pdf_1) \n",
    "  CDF_2 = np.cumsum(pdf_2) / np.sum(pdf_2) \n",
    "\n",
    "  D_n = max(np.abs(CDF_1 - CDF_2))\n",
    "  arg_max = np.argmax(np.abs(CDF_1 - CDF_2))\n",
    "\n",
    "  return D_n, arg_max\n",
    "\n",
    "\n",
    "CDF_data = np.cumsum(n_i) / np.sum(n_i) \n",
    "CDF_gaussian = np.cumsum(exp_gaussian) / np.sum(exp_gaussian) \n",
    "CDF_poisson = np.cumsum(exp_poisson) / np.sum(exp_poisson) \n",
    "\n",
    "KS_gaussian = KS_test(n_i, exp_gaussian)\n",
    "KS_poisson = KS_test(n_i, exp_poisson)\n",
    "\n",
    "\n",
    "plt.figure()\n",
    "plt.plot(clicks_per_minute_bin_centers, CDF_poisson, label = \"Poisson fit\")\n",
    "plt.plot(clicks_per_minute_bin_centers, CDF_gaussian, label = \"Gaussian fit\")\n",
    "plt.plot(clicks_per_minute_bin_centers, CDF_data, label = \"Data\")\n",
    "plt.xlabel(\"Clicks per minute\")\n",
    "plt.legend()\n",
    "plt.show()\n",
    "\n",
    "print(\"KS statistic for gaussian fit =\", KS_gaussian[0], \"at\", clicks_per_minute_bin_centers[KS_gaussian[1]])\n",
    "print(\"KS statistic for poisson fit =\", KS_poisson[0], \"at\", clicks_per_minute_bin_centers[KS_poisson[1]])\n"
   ]
  },
  {
   "cell_type": "code",
   "execution_count": null,
   "metadata": {
    "colab": {
     "base_uri": "https://localhost:8080/"
    },
    "id": "M2khWhF188q8",
    "outputId": "8b56bc1e-4508-48fe-f1b2-f9575efec643"
   },
   "outputs": [
    {
     "name": "stdout",
     "output_type": "stream",
     "text": [
      "For p value = 0.001 , d_crit = 0.030823827150842253\n",
      "Reject at 0.001\n",
      "\n",
      "For p value = 0.01 , d_crit = 0.02573493182621629\n",
      "Reject at 0.01\n",
      "\n",
      "For p value = 0.05 , d_crit = 0.021473446451373383\n",
      "Reject at 0.05\n",
      "\n",
      "For p value = 0.1 , d_crit = 0.019350767571985356\n",
      "Reject at 0.1\n",
      "\n"
     ]
    }
   ],
   "source": [
    "# https://www.real-statistics.com/statistics-tables/kolmogorov-smirnov-table/\n",
    "\n",
    "\n",
    "D_n = .0388\n",
    "KS_table = {.001:1.94947, .01:1.62762, .05:1.35810, .1:1.22385 }\n",
    "\n",
    "for p_val in KS_table.keys():\n",
    "  d_crit = KS_table[p_val]/np.sqrt(sum(n_i))\n",
    "  print(\"For p value =\", p_val, \", d_crit =\", d_crit)\n",
    "  if D_n > d_crit:\n",
    "    print(\"Reject at\", p_val)\n",
    "  else:\n",
    "    print(\"Accept at\", p_val)\n",
    "  print()"
   ]
  },
  {
   "cell_type": "markdown",
   "metadata": {
    "id": "nyaKclUuBhrX"
   },
   "source": [
    "The relevant built-in function for the Kolmogorov-Smirnoff test is ```scipy.stats.kstest()```. \n",
    "\n",
    "The function takes three main arguments: \n",
    "\n",
    "1. ```x```: a ```np.array``` (or ```list```)  containing the raw observed data. Note that is NOT the histogrammed data. \n",
    "2. ```cdf```: this is usually a string describing the random variable of the model that you want to fit. If you wanted to fit a Gaussian distribution, you could use the string ```\"norm\"```.\n",
    "3. ```args```: parameters of the model. For a Gaussian distribution, this would be ```(mu, sigma)```.\n",
    "\n",
    "The function returns the test statistic $D_n$ and the associated $p$-value. \n",
    "\n",
    "You can read more about the function [here](https://docs.scipy.org/doc/scipy/reference/generated/scipy.stats.kstest.html#scipy.stats.kstest)."
   ]
  },
  {
   "cell_type": "markdown",
   "metadata": {
    "id": "fwcfCQl8GsY8"
   },
   "source": [
    "Another common application of the Kolmogorov-Smirnoff test is to compare two distributions to determine if they came from the same underlying model, as opposed to comparing a single distribution to a model. Then you might want to use the function ```scipy.stats.ks_2samp()```.\n",
    "\n",
    "\n",
    "The function takes two main arguments: \n",
    "\n",
    "1. ```data_1```: a ```np.array``` (or ```list```)  containing the raw observed data of sample 1. Note that is NOT the histogrammed data. \n",
    "2. ```data_2```: a ```np.array``` (or ```list```)  containing the raw observed data of sample 2.\n",
    "\n",
    "\n",
    "The function returns the test statistic $D_n$ and the associated $p$-value. \n",
    "\n",
    "\n",
    "You can read more about the function [here](https://docs.scipy.org/doc/scipy/reference/generated/scipy.stats.ks_2samp.html)."
   ]
  },
  {
   "cell_type": "markdown",
   "metadata": {
    "id": "_OI3Le-aF8V-"
   },
   "source": [
    "*Notebook finished*"
   ]
  }
 ],
 "metadata": {
  "colab": {
   "authorship_tag": "ABX9TyOkNryWM9yTvaTUrvRf0SS5",
   "collapsed_sections": [],
   "include_colab_link": true,
   "name": "03_goodness_of_fit.ipynb",
   "provenance": []
  },
  "kernelspec": {
   "display_name": "Python 3 (ipykernel)",
   "language": "python",
   "name": "python3"
  },
  "language_info": {
   "codemirror_mode": {
    "name": "ipython",
    "version": 3
   },
   "file_extension": ".py",
   "mimetype": "text/x-python",
   "name": "python",
   "nbconvert_exporter": "python",
   "pygments_lexer": "ipython3",
   "version": "3.9.7"
  }
 },
 "nbformat": 4,
 "nbformat_minor": 4
}
