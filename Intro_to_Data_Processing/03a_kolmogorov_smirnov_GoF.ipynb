{
  "nbformat": 4,
  "nbformat_minor": 0,
  "metadata": {
    "colab": {
      "name": "03a_kolmogorov_smirnov-GoF.ipynb",
      "provenance": [],
      "collapsed_sections": []
    },
    "kernelspec": {
      "name": "python3",
      "display_name": "Python 3"
    },
    "language_info": {
      "name": "python"
    }
  },
  "cells": [
    {
      "cell_type": "code",
      "execution_count": 1,
      "metadata": {
        "colab": {
          "base_uri": "https://localhost:8080/"
        },
        "id": "yZfWcIefb81B",
        "outputId": "e8e030f3-bc69-4c52-d673-8d048d8c8437"
      },
      "outputs": [
        {
          "output_type": "stream",
          "name": "stdout",
          "text": [
            "Mounted at /content/drive/\n",
            "/content/drive/My Drive/DSECOP/Colab Notebooks\n"
          ]
        }
      ],
      "source": [
        "# Here are some necessary packages that we need to import to run this notebook\n",
        "\n",
        "import numpy as np\n",
        "import matplotlib.pyplot as plt\n",
        "\n",
        "from google.colab import drive \n",
        "drive.mount(\"/content/drive/\")\n",
        "\n",
        "import os\n",
        "os.chdir(\"/content/drive/My Drive/DSECOP/Colab Notebooks/\")\n",
        "!pwd"
      ]
    },
    {
      "cell_type": "markdown",
      "source": [
        "# Quantifying goodness of fit BONUS notebook: The Kolmogorov-Smirnov goodness of fit test\n",
        "\n"
      ],
      "metadata": {
        "id": "nTATb9-ecDaN"
      }
    },
    {
      "cell_type": "markdown",
      "source": [
        "In this notebook, we've focused on the $\\chi^2$ test statistic. But this test is only truly useful for categorical data (i.e. datasets of counts or frequencies). For histogram-based analyses, the number of \"categories\" could maybe be considered equal to the number of binsm, but it might be easier to work with normalized histograms anyways. Then the $\\chi^2$ test statistic might fail to gauge goodness-of-fit for a given model.\n",
        "\n",
        "A useful goodness-of-fit procedure for histogram-based analyses is the *Kolmogorov-Smirnov* test.\n",
        "\n",
        "Consider a data sample of size $n$ with a probability distribution $p_n(x)$ (in other words, the normalized histogram) and a cumulative distribution function (CDF) $F_n(x)$. Let's say that you want to test whether the data can be well-modeled by the probability distribution $p_0(x)$ with a cumulative distribution function $F_0(x)$.\n",
        "\n",
        "$$D_n = \\max_x |F_n(x) - F_0(x)|.$$\n",
        "\n",
        "In essense, we're calculating the largest difference between the CDFs of the data and the postulated model. (It should be clear that for a model that perfectly fits the data, $D_n = 0$.)\n",
        "\n",
        "Each $n$ and $\\alpha$ ($p$-value) pairing is associated with a critical test statistic $d_{n, \\alpha}$. You can find these in a [lookup table](https://www.real-statistics.com/statistics-tables/two-sample-kolmogorov-smirnov-table/). If $D_n > d_{n, \\alpha}$, then the null hypothesis must be rejected at the given confidence level. "
      ],
      "metadata": {
        "id": "_INa8NsAcPjE"
      }
    },
    {
      "cell_type": "markdown",
      "source": [
        "*Note*: the Kolmogorov-Smirnov test is defined for *unbinned* data with a continuous CDF. Here, we're asking you to run the test on Poisson-distributed data, which is discrete (as you can only measure an integer number of counts). So take this example with a grain of salt. In writing code to do a pseudo- Kolmogorov-Smirnov test, you'll gain conceptual understanding in what the test actually measures. But you won't be able to meaningfully accept of reject the null hypothesis. \n",
        "\n"
      ],
      "metadata": {
        "id": "xiBOQmNjcdt4"
      }
    },
    {
      "cell_type": "markdown",
      "source": [
        "**Activity**: write code to run a *binned* Kolmogorov-Smirnov test on the (1) gaussian and (2) poisson fit to data. Plot CDFs of the two fits and the actual data on the same plot. For each fit, print out the test statistic $D_n$ and its bin location."
      ],
      "metadata": {
        "id": "xwxo_msocerJ"
      }
    },
    {
      "cell_type": "code",
      "source": [
        "def KS_test(pdf_1, pdf_2):\n",
        "\n",
        "  # calculate the CDFs\n",
        "  CDF_1 = np.cumsum(pdf_1) / np.sum(pdf_1) \n",
        "  CDF_2 = np.cumsum(pdf_2) / np.sum(pdf_2) \n",
        "\n",
        "  D_n = max(np.abs(CDF_1 - CDF_2))\n",
        "  arg_max = np.argmax(np.abs(CDF_1 - CDF_2))\n",
        "\n",
        "  return D_n, arg_max\n",
        "\n",
        "\n",
        "CDF_data = np.cumsum(n_i) / np.sum(n_i) \n",
        "CDF_gaussian = np.cumsum(exp_gaussian) / np.sum(exp_gaussian) \n",
        "CDF_poisson = np.cumsum(exp_poisson) / np.sum(exp_poisson) \n",
        "\n",
        "KS_gaussian = KS_test(n_i, exp_gaussian)\n",
        "KS_poisson = KS_test(n_i, exp_poisson)\n",
        "\n",
        "\n",
        "plt.figure()\n",
        "plt.plot(clicks_per_minute_bin_centers, CDF_poisson, label = \"Poisson fit\")\n",
        "plt.plot(clicks_per_minute_bin_centers, CDF_gaussian, label = \"Gaussian fit\")\n",
        "plt.plot(clicks_per_minute_bin_centers, CDF_data, label = \"Data\")\n",
        "plt.xlabel(\"Clicks per minute\")\n",
        "plt.legend()\n",
        "plt.show()\n",
        "\n",
        "print(\"KS statistic for gaussian fit =\", KS_gaussian[0], \"at\", clicks_per_minute_bin_centers[KS_gaussian[1]])\n",
        "print(\"KS statistic for poisson fit =\", KS_poisson[0], \"at\", clicks_per_minute_bin_centers[KS_poisson[1]])\n"
      ],
      "metadata": {
        "id": "metZbNM2cdHx"
      },
      "execution_count": null,
      "outputs": []
    },
    {
      "cell_type": "code",
      "source": [
        "# https://www.real-statistics.com/statistics-tables/kolmogorov-smirnov-table/\n",
        "\n",
        "\n",
        "D_n = .0388\n",
        "KS_table = {.001:1.94947, .01:1.62762, .05:1.35810, .1:1.22385 }\n",
        "\n",
        "for p_val in KS_table.keys():\n",
        "  d_crit = KS_table[p_val]/np.sqrt(sum(n_i))\n",
        "  print(\"For p value =\", p_val, \", d_crit =\", d_crit)\n",
        "  if D_n > d_crit:\n",
        "    print(\"Reject at\", p_val)\n",
        "  else:\n",
        "    print(\"Accept at\", p_val)\n",
        "  print()"
      ],
      "metadata": {
        "id": "Fxvhl3AbcDEW"
      },
      "execution_count": null,
      "outputs": []
    },
    {
      "cell_type": "markdown",
      "source": [
        "The relevant built-in function for the Kolmogorov-Smirnoff test is ```scipy.stats.kstest()```. \n",
        "\n",
        "The function takes three main arguments: \n",
        "\n",
        "1. ```x```: a ```np.array``` (or ```list```)  containing the raw observed data. Note that is NOT the histogrammed data. \n",
        "2. ```cdf```: this is usually a string describing the random variable of the model that you want to fit. If you wanted to fit a Gaussian distribution, you could use the string ```\"norm\"```.\n",
        "3. ```args```: parameters of the model. For a Gaussian distribution, this would be ```(mu, sigma)```.\n",
        "\n",
        "The function returns the test statistic $D_n$ and the associated $p$-value. \n",
        "\n",
        "You can read more about the function [here](https://docs.scipy.org/doc/scipy/reference/generated/scipy.stats.kstest.html#scipy.stats.kstest).\n",
        "\n",
        "---"
      ],
      "metadata": {
        "id": "iT-oRNepci8_"
      }
    },
    {
      "cell_type": "markdown",
      "source": [
        "Another common application of the Kolmogorov-Smirnoff test is to compare two distributions to determine if they came from the same underlying model, as opposed to comparing a single distribution to a model. Then you might want to use the function ```scipy.stats.ks_2samp()```.\n",
        "\n",
        "\n",
        "The function takes two main arguments: \n",
        "\n",
        "1. ```data_1```: a ```np.array``` (or ```list```)  containing the raw observed data of sample 1. Note that is NOT the histogrammed data. \n",
        "2. ```data_2```: a ```np.array``` (or ```list```)  containing the raw observed data of sample 2.\n",
        "\n",
        "\n",
        "The function returns the test statistic $D_n$ and the associated $p$-value. \n",
        "\n",
        "\n",
        "You can read more about the function [here](https://docs.scipy.org/doc/scipy/reference/generated/scipy.stats.ks_2samp.html)."
      ],
      "metadata": {
        "id": "3R-GbVHscoY4"
      }
    },
    {
      "cell_type": "markdown",
      "source": [
        "*Move on to notebook 04*"
      ],
      "metadata": {
        "id": "H1qc-jFycuF_"
      }
    }
  ]
}