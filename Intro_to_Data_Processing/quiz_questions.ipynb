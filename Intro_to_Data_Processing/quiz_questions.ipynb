{
  "nbformat": 4,
  "nbformat_minor": 0,
  "metadata": {
    "colab": {
      "name": "quiz_questions.ipynb",
      "provenance": [],
      "collapsed_sections": []
    },
    "kernelspec": {
      "name": "python3",
      "display_name": "Python 3"
    },
    "language_info": {
      "name": "python"
    }
  },
  "cells": [
    {
      "cell_type": "code",
      "execution_count": null,
      "metadata": {
        "id": "_WdOzNqb7oHv",
        "colab": {
          "base_uri": "https://localhost:8080/"
        },
        "outputId": "8e34b412-bde5-4a1e-ca01-407549333b1e"
      },
      "outputs": [
        {
          "output_type": "stream",
          "name": "stdout",
          "text": [
            "Mounted at /content/drive/\n",
            "/content/drive/My Drive/DSECOP/Colab Notebooks\n"
          ]
        }
      ],
      "source": [
        "import numpy as np\n",
        "from scipy.optimize import curve_fit\n",
        "import matplotlib.pyplot as plt\n",
        "\n",
        "from google.colab import drive \n",
        "drive.mount(\"/content/drive/\")\n",
        "\n",
        "import os\n",
        "os.chdir(\"/content/drive/My Drive/DSECOP/Colab Notebooks/\")\n",
        "!pwd"
      ]
    },
    {
      "cell_type": "markdown",
      "source": [
        "# Conceptual questions"
      ],
      "metadata": {
        "id": "UqeJ80ls-MaS"
      }
    },
    {
      "cell_type": "markdown",
      "source": [
        "## Choosing a histogram binning scheme\n"
      ],
      "metadata": {
        "id": "J1JhVcvU4PcW"
      }
    },
    {
      "cell_type": "markdown",
      "source": [
        "In going through the example modules, you might have wondered how to choose the number of bins for a given histogram. Certainly one bin is too few, as it would produce a histogram with no internal structure. On the other hand, assinging every data point to its own histogram would result in too many bins, and would in fact not represent any data processing at all. But between those two extremes, it might not be obvious where the optimal binning scheme lies, or if an optimal exists at all.\n",
        "\n",
        "How does choice of binning affect what you learn from a histogram? A dataset is provided for you in the file ```quiz_dataset.txt``` to explore this question.\n",
        "\n",
        "*Note*: This question is fairly open-ended. Focus more on giving an answer that you are personally satisfied with, rather than the \"right\" answer. "
      ],
      "metadata": {
        "id": "UcNhM_G1hkGV"
      }
    },
    {
      "cell_type": "markdown",
      "source": [
        "*Write your thoughts here:*"
      ],
      "metadata": {
        "id": "-qwEMM85om65"
      }
    },
    {
      "cell_type": "code",
      "source": [
        "# Write some code here:\n",
        "\n",
        "def gaussian(x, mu, sigma, N):\n",
        "  return N*np.exp(-(x-mu)**2/(2*sigma**2))\n",
        "\n",
        "def exp(x, alpha, M):\n",
        "  return M*np.exp(-x*alpha)\n",
        "\n",
        "def fit(x, mu, sigma, N, alpha, M):\n",
        "  return gaussian(x, mu, sigma, N) + exp(x, alpha, M)\n",
        "\n",
        "def least_sq_loss(obs_vals, fit_vals):\n",
        "  loss = 0\n",
        "  for i in range(len(obs_vals)):\n",
        "    loss += (obs_vals[i] - fit_vals[i])**2\n",
        "  return loss / len(obs_vals)"
      ],
      "metadata": {
        "id": "a24h1dKB8rDj"
      },
      "execution_count": null,
      "outputs": []
    },
    {
      "cell_type": "code",
      "source": [
        "def fit_dataset(dataset, num_bins):\n",
        "\n",
        "    bins = np.linspace(0,30,num_bins)\n",
        "    centers = 0.5*(bins[1:] + bins[:-1])\n",
        "    vals, bins = np.histogram(dataset, bins)\n",
        "\n",
        "    popt, pcov = curve_fit(fit, centers, vals)\n",
        "\n",
        "    loss = least_sq_loss(vals, fit(centers, *popt))\n",
        "\n",
        "    return num_bins, loss\n",
        "\n",
        "\n",
        "dataset_location = \"datasets/quiz_dataset.txt\"\n",
        "\n",
        "def read_in_dataset(file_loc):\n",
        "\n",
        "  with open(file_loc, \"r\") as infile:\n",
        "    dataset = infile.read().split(\",\")\n",
        "    dataset = np.array([float(x) for x in dataset if x != \" \"])\n",
        "\n",
        "    return dataset\n",
        "\n",
        "dataset = read_in_dataset(dataset_location)\n",
        "\n",
        "num_bins_vals = []\n",
        "loss_vals = []\n",
        "\n",
        "for num_bins in range(20,200,2):\n",
        "  loc_bins, loc_loss = fit_dataset(dataset, num_bins)\n",
        "  num_bins_vals.append(loc_bins)\n",
        "  loss_vals.append(loc_loss)\n",
        "\n",
        "plt.figure()\n",
        "plt.plot(num_bins_vals, loss_vals)\n",
        "plt.xlabel(\"Num. bins\")\n",
        "plt.ylabel(\"Loss\")\n",
        "plt.show()\n",
        " "
      ],
      "metadata": {
        "colab": {
          "base_uri": "https://localhost:8080/",
          "height": 350
        },
        "id": "e51E-GpB8s7S",
        "outputId": "c2cc2276-cd4d-4a69-96cc-08364a859510"
      },
      "execution_count": null,
      "outputs": [
        {
          "output_type": "stream",
          "name": "stderr",
          "text": [
            "/usr/local/lib/python3.7/dist-packages/ipykernel_launcher.py:7: RuntimeWarning: overflow encountered in exp\n",
            "  import sys\n",
            "/usr/local/lib/python3.7/dist-packages/ipykernel_launcher.py:7: RuntimeWarning: overflow encountered in multiply\n",
            "  import sys\n"
          ]
        },
        {
          "output_type": "display_data",
          "data": {
            "text/plain": [
              "<Figure size 432x288 with 1 Axes>"
            ],
            "image/png": "[encoded data removed]"
          },
          "metadata": {
            "needs_background": "light"
          }
        }
      ]
    },
    {
      "cell_type": "markdown",
      "source": [
        "## $\\chi^2$ test subtleties\n",
        "\n"
      ],
      "metadata": {
        "id": "hfkJxyVg9sv9"
      }
    },
    {
      "cell_type": "markdown",
      "source": [
        "Captived by your earlier counting experiments, your friends Alice and Bob managed to swipe your Uranium-241 sample to do some testing of their own. In an attempt to measure the decay rate of the same, Alice and Bob record the counts per minute from the sample for 4 hours. They then decide to run a $\\chi^2$ goodness-of-fit test to see if their measured decay rate is consistent with the listed value on in the [Particle Data Group tables](https://pdg.lbl.gov/).\n",
        "\n",
        "\n",
        "Alice: \"We should calculate the $\\chi^2$ test statistic with the observed and expected values also in counts, right after we histogram the data.\"\n",
        "\n",
        "Bob: \"I don't agree. We should histogram the data, then normalize the histograms and use the rescaled counts to calculate the $\\chi^2$ statistic.\"\n",
        "\n",
        "Alice: \"But the data that we took was in units of counts. Shouldn't we keep those units for the $\\chi^2$ test?\"\n",
        "\n",
        "Bob: \"No way! If we took data for 2 hours, we would have twice as many counts per histogram bin. But the overall shape would still obey the same distribution. The $\\chi^2$ test statistic shouldn't change depending on how long we take data for.\"\n",
        "\n",
        "Is Bob right? Justify your answer below.\n"
      ],
      "metadata": {
        "id": "h1faNUYShmCf"
      }
    },
    {
      "cell_type": "markdown",
      "source": [
        "*Write your thoughts here:*"
      ],
      "metadata": {
        "id": "67h8s8nEol4A"
      }
    },
    {
      "cell_type": "markdown",
      "source": [
        "## The language of hypothesis testing\n",
        "\n"
      ],
      "metadata": {
        "id": "2p5c9Mko38Bu"
      }
    },
    {
      "cell_type": "markdown",
      "source": [
        "Alice and Bob come to some consensus on how to best calculate the $\\chi^2$ test statistic. They then move to the task of evaluating how well their data is described by the null hypothesis. (In this case, the null hypothesis is Uranium-241 has a decay rate of 19 counts / minute.)\n",
        "\n",
        "Alice: \"The value of $\\chi^2$ that we measured is greater than the value of $\\chi^2_{\\alpha}$ from the lookup table, even for $\\alpha$ = 0.01. This means that the null hypothesis is false.\"\n",
        "\n",
        "Bob: \"Great, so that means that the alternative hypothesis is true.\"\n",
        "\n",
        "Why are they *both* wrong?"
      ],
      "metadata": {
        "id": "Mj0OZ_F4hpIr"
      }
    },
    {
      "cell_type": "markdown",
      "source": [
        "*Write your thoughts here:*"
      ],
      "metadata": {
        "id": "NoQRY2r7ohnj"
      }
    },
    {
      "cell_type": "markdown",
      "source": [
        "## The bin-wise behavior of residuals\n",
        "\n",
        "\n"
      ],
      "metadata": {
        "id": "WfjywsrdXUDu"
      }
    },
    {
      "cell_type": "markdown",
      "source": [
        "Alice decides to make a residual plot for her histogram of Uranium-241 counts per minute data. Alice fits her histogram to a given distribution, evaluates her residuals plot, and concludes:\n",
        "\n",
        "Alice: \"Half of my residuals are positive and half are negative. Therefore my fit function is a good one for my observed data.\"\n",
        "\n",
        "Under what circumstances could Alice have made a half-positive half-negative residuals plot with a model function that is a poor fit to the data? It might help to draw some scenerios out.\n"
      ],
      "metadata": {
        "id": "OI17NGFhhv05"
      }
    },
    {
      "cell_type": "markdown",
      "source": [
        "*Write your thoughts here:*"
      ],
      "metadata": {
        "id": "nKZLx54Shv_Y"
      }
    }
  ]
}