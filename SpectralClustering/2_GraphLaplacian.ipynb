{
 "cells": [
  {
   "cell_type": "markdown",
   "metadata": {},
   "source": [
    "# Part 2: Graph Laplacian and Spectral Embedding\n",
    "\n",
    "## The Matrix Form of Equation of Motion\n",
    "\n",
    "In the previous situation, where we have three equal-mass particles connected pairwisely by the spring, we have the equation of motion:\n",
    "\n",
    "$$\n",
    "\\begin{aligned}\n",
    "&m\\frac{d^2 x_1}{dt^2} = - (k_{12} + k_{13})x_1 + k_{12} x_2 + k_{13} x_3 \\\\\n",
    "&m\\frac{d^2 x_2}{dt^2} = - (k_{21} + k_{23})x_2 + k_{21} x_1 + k_{23} x_3 \\\\\n",
    "&m\\frac{d^2 x_3}{dt^2} = - (k_{31} + k_{32})x_3 + k_{31} x_1 + k_{32} x_2\\\\\n",
    "\\end{aligned}\n",
    "$$\n",
    "\n",
    "If we put the coordinates $x_1, x_2, x_3$ into a vector $\\mathbf{x} = (x_1,x_2,x_3)^T$, we could write that \n",
    "\n",
    "$$\n",
    "\\begin{aligned}\n",
    "\\frac{d^2 }{dt^2} \\mathbf{x} &= \\begin{pmatrix} \n",
    "- (k_{12} + k_{13}) & k_{12} & k_{13} \\\\\n",
    "k_{21} &  - (k_{21} + k_{23}) & k_{23} \\\\\n",
    "k_{31} & k_{32} & - (k_{31}+k_{32})\n",
    "\\end{pmatrix} \\mathbf{x} \\\\\n",
    "&= \\begin{pmatrix} k_{11}- (k_{11}+ k_{12} + k_{13}) & k_{12} & k_{13} \\\\\n",
    "k_{21} &  k_{22}- (k_{21} + k_{22}+ k_{23}) & k_{23} \\\\\n",
    "k_{31} & k_{32} & k_{33}- (k_{31}+k_{32}+k_{33})\n",
    "\\end{pmatrix} \\mathbf{x}\n",
    "\\end{aligned}\n",
    "$$\n",
    "\n",
    "where in the diagonal terms, we add a term and subtract it off. If we define the matrix $K$ as \n",
    "\n",
    "$$\n",
    "K = \n",
    "\\begin{pmatrix}\n",
    "k_{11} & k_{12} & k_{13} \\\\\n",
    "k_{21} & k_{22} & k_{23} \\\\\n",
    "k_{31} & k_{32} & k_{33}\n",
    "\\end{pmatrix}\n",
    "$$\n",
    "\n",
    "and we define the $D$ matrix as \n",
    "\n",
    "$$\n",
    "D = \n",
    "\\begin{pmatrix}\n",
    "k_{11} + k_{12} + k_{13} & 0 & 0 \\\\\n",
    "0 & k_{21} + k_{22} + k_{23} & 0 \\\\\n",
    "0 & 0 & k_{31} + k_{32} + k_{33}\n",
    "\\end{pmatrix}\n",
    "$$\n",
    "\n",
    "\n",
    "We could then define $L = D-K$ as the **graph Laplacian** defined by $K$. As a result, the differential equation becomes \n",
    "\n",
    "$$\n",
    "\\frac{d^2}{dt^2}\\mathbf{x} = - L \\mathbf{x}\n",
    "$$\n",
    "\n",
    "In the classical mechanics, we would solve the coupled differential equations by using the ansatz $\\mathbf{x} = A\\exp{i\\omega t} $ and the differential equation becomes eigen value equation as \n",
    "\n",
    "$$\n",
    "\\omega^2 A = L A.\n",
    "$$\n",
    "\n",
    "The eigen vector solution $A$ is called the normal mode of the system. If we prepare $\\mathbf{x}$ in the normal modes, the solution would be $\\mathbf{x} = A \\text{Re}(e^{i\\omega t}) = A \\cos (\\omega t) $ and $\\mathbf{x}$ will vanish at $t = \\frac{\\pi}{2\\omega}$. At those times, there are no potential energy and the kinetic energy is proportional to $\\omega^2$ and as a result, if $\\omega^2$ is larger, the energy is larger. \n",
    "\n",
    "Since we already know from the previous section that larger energy will try to break the bonding that bonds the particles, we would like to use the lower energy modes to tell us which pairs have strong bonding and which pairs do not. \n",
    "\n",
    "However from the physical point view, if all particles moving in the same direction with not relative motion, there will be no oscillation and this costs no energy (infinitesmal speed will give infinitesmal kinetic energy). This mode has eigenvalue $0$ and eigenvector $(1,1,1)^T$. This is of no interest since we want to use oscillation to clustering particles. We would normally neglect this mode and we will start from the second lowest energy mode. \n"
   ]
  },
  {
   "cell_type": "markdown",
   "metadata": {},
   "source": [
    "## Example:\n",
    "\n",
    "We would like to extract the lower energy normal mode of the graph laplacian of the three body example. We first construct a function of calculating the Graph Lalacian of a given spring constant matrix $K$. "
   ]
  },
  {
   "cell_type": "code",
   "execution_count": 1,
   "metadata": {},
   "outputs": [],
   "source": [
    "import numpy as np\n",
    "import matplotlib.pyplot as plt\n",
    "\n",
    "def GraphLaplacian(K):\n",
    "    D = np.diag(np.sum(K, axis = 1))\n",
    "    L = D-K\n",
    "    return L\n",
    "    "
   ]
  },
  {
   "cell_type": "markdown",
   "metadata": {},
   "source": [
    "Recall that the system in the previous section has $k_{12} = 10$, $k_{23} = k_{13} = 1$. We could try to get the eigenvector of the system."
   ]
  },
  {
   "cell_type": "code",
   "execution_count": 2,
   "metadata": {},
   "outputs": [],
   "source": [
    "def GetNormalMode(K, first_few = 2):\n",
    "    L = GraphLaplacian(K)\n",
    "    eigval, eigvec = np.linalg.eig(L)\n",
    "    order = np.argsort(eigval)\n",
    "    chosen = order[1:1+first_few] # neglect the 0 eigen value\n",
    "    \n",
    "    return eigvec[:, chosen], eigval[chosen]"
   ]
  },
  {
   "cell_type": "code",
   "execution_count": 3,
   "metadata": {},
   "outputs": [
    {
     "name": "stdout",
     "output_type": "stream",
     "text": [
      "[ 3. 21.]\n",
      "[[ 4.08248290e-01 -7.07106781e-01]\n",
      " [-8.16496581e-01  5.28040339e-18]\n",
      " [ 4.08248290e-01  7.07106781e-01]]\n"
     ]
    }
   ],
   "source": [
    "k2 = np.zeros((3,3))\n",
    "k2[0,1] = k2[1,0] = 1  # k12\n",
    "k2[1,2] = k2[2,1] = 1  # k23\n",
    "k2[0,2] = k2[2,0] = 10 # k13\n",
    "\n",
    "normal_modes, freqs = GetNormalMode(k2)\n",
    "print (freqs)\n",
    "print (normal_modes)"
   ]
  },
  {
   "cell_type": "markdown",
   "metadata": {},
   "source": [
    "In the above code, we neglected the zero eigenvalue and keep the following eigenvalues. The two modes are \n",
    "\n",
    "$$\n",
    "x(t) = \\begin{pmatrix} 0.41 \\\\ -0.82 \\\\ 0.41 \\end{pmatrix} \\cos( \\sqrt{3} t) \\quad \\text{ and } \\quad \n",
    "x(t) = \\begin{pmatrix} -0.71 \\\\ 0.0 \\\\ 0.71 \\end{pmatrix} \\cos (\\sqrt{21} t)\n",
    "$$\n",
    "\n",
    "Thus, we have low energy in the system, we cannot have strong effects from the second mode and most effects are from the first mode. In the first mode, particel 1 and particle 3 are close to each other. In order to see it clearly, we would plot the normal modes. Let $v = (v_1,v_2,v_3)$ be the eigen mode of the system. Then $v_1$ will be the location of particle 1 at $t = 0$ and $v_2$ will be the  location of particle $2$ are $t=0$. We could use two eigen modes to plot a scatter plot. We let the locations for first mode to be $x$ axis coordinate and the locations for the second mode to be $y$ axis coordinate."
   ]
  },
  {
   "cell_type": "code",
   "execution_count": 4,
   "metadata": {},
   "outputs": [],
   "source": [
    "def ScatterNormalMode(normal_modes, ax = None, **kwargs):\n",
    "    if ax is None:\n",
    "        ax = plt.gca()\n",
    "    for i in range(normal_modes.shape[0]):\n",
    "        ax.scatter(normal_modes[i,0], normal_modes[i,1], marker=f\"${i+1}$\", s = 20*3*5)\n",
    "    ax.set_xlabel(\"normal mode 1\")\n",
    "    ax.set_ylabel(\"normal mode 2\")\n",
    "    return ax"
   ]
  },
  {
   "cell_type": "code",
   "execution_count": 5,
   "metadata": {},
   "outputs": [
    {
     "data": {
      "text/plain": [
       "<matplotlib.axes._subplots.AxesSubplot at 0x111ad6090>"
      ]
     },
     "execution_count": 5,
     "metadata": {},
     "output_type": "execute_result"
    },
    {
     "data": {
      "image/png": "[encoded data removed]",
      "text/plain": [
       "<Figure size 432x288 with 1 Axes>"
      ]
     },
     "metadata": {
      "needs_background": "light"
     },
     "output_type": "display_data"
    }
   ],
   "source": [
    "ScatterNormalMode(normal_modes)"
   ]
  },
  {
   "cell_type": "markdown",
   "metadata": {},
   "source": [
    "It is clear that the particle $1$ and particle $3$ have equal $x$ coordinates and the three particles are equally divided in the $y$ axis. "
   ]
  },
  {
   "cell_type": "markdown",
   "metadata": {},
   "source": [
    "## Spectral Embedding\n",
    "\n",
    "In the previous discussion, we only focus on a three particle system. However we could generalize the idea to system with any number of particles. Given the similarity matrix (spring constant matrix) $K$, we have the following procedures of clustering them:\n",
    "\n",
    "1. Calculate the graph Laplacian of $K$\n",
    "2. Get the first few eigen vectors of $L$ ordered increasingly of the eigenvalues: $v^{(1)}, v^{(2)}, \\dots, v^{(d)} $.  \n",
    "3. Give coordinate $(v^{(1)}_i, v^{(2)}_i, \\dots, v^{(d)}_i)$ for particle $i$. \n",
    "\n",
    "Thus, from the above procedure we put the particles or data points into a new coordinate system with the property that pairs with higher value of $K_{ij}$ (more similarity) are put closer.  This procedure is called **Spectral Embedding** since we used the spectrum (eigenvalues and eigen vectors) to embed the data points. The dimension of the embedding is labeled as $d$, which is the number of eigen vectors we want. \n",
    "\n",
    "We give an example with $10$ particles: We let particle $1 \\sim 3$ are of same cluster with high values of similarity and $4\\sim 8$ are of strong similiarity and $9\\sim 10$ are of same similarity. We want the clusterwise similarity to be small and we set them to zero. "
   ]
  },
  {
   "cell_type": "code",
   "execution_count": 6,
   "metadata": {},
   "outputs": [
    {
     "data": {
      "text/plain": [
       "<matplotlib.image.AxesImage at 0x11719b550>"
      ]
     },
     "execution_count": 6,
     "metadata": {},
     "output_type": "execute_result"
    },
    {
     "data": {
      "image/png": "[encoded data removed]",
      "text/plain": [
       "<Figure size 288x288 with 1 Axes>"
      ]
     },
     "metadata": {
      "needs_background": "light"
     },
     "output_type": "display_data"
    }
   ],
   "source": [
    "K = np.zeros((10,10))\n",
    "# first cluster\n",
    "for i in range(3):\n",
    "    for j in range(i+1,3):\n",
    "        K[i,j] = np.random.uniform(5.0, 10.0)\n",
    "        K[j,i] = K[i,j]\n",
    "# second cluster\n",
    "for i in range(3,8):\n",
    "    for j in range(i+1,8):\n",
    "        K[i,j] = np.random.uniform(5.0, 10.0)\n",
    "        K[j,i] = K[i,j]\n",
    "        \n",
    "# second cluster\n",
    "for i in range(8,10):\n",
    "    for j in range(i+1,10):\n",
    "        K[i,j] = np.random.uniform(5.0, 10.0)\n",
    "        K[j,i] = K[i,j]\n",
    "plt.matshow(K)  "
   ]
  },
  {
   "cell_type": "markdown",
   "metadata": {},
   "source": [
    "We plot the matrix $K$ by its entry value. It is clear that the similarity matrix are block diagonal. The cross-block terms in the matrix are zeros. This is what we want to design. We want to see how the spectral embedding would work"
   ]
  },
  {
   "cell_type": "code",
   "execution_count": 7,
   "metadata": {},
   "outputs": [
    {
     "data": {
      "text/plain": [
       "<matplotlib.axes._subplots.AxesSubplot at 0x11726d7d0>"
      ]
     },
     "execution_count": 7,
     "metadata": {},
     "output_type": "execute_result"
    },
    {
     "data": {
      "image/png": "[encoded data removed]",
      "text/plain": [
       "<Figure size 432x288 with 1 Axes>"
      ]
     },
     "metadata": {
      "needs_background": "light"
     },
     "output_type": "display_data"
    }
   ],
   "source": [
    "normal_modes, vals = GetNormalMode(K, first_few=2)\n",
    "ScatterNormalMode(normal_modes)"
   ]
  },
  {
   "cell_type": "markdown",
   "metadata": {},
   "source": [
    "We see from the plot that the particles are clustered correctly by their similarity measures and particles from the same cluster are put to the same location in the embedding. However, in real application, we cannot have such clean data, we usually will have noise contaminated similarity measure. We could test the robustness of the spectral embedding methods by adding some random noise into the matrix:"
   ]
  },
  {
   "cell_type": "code",
   "execution_count": 8,
   "metadata": {},
   "outputs": [
    {
     "data": {
      "text/plain": [
       "<matplotlib.axes._subplots.AxesSubplot at 0x10746d710>"
      ]
     },
     "execution_count": 8,
     "metadata": {},
     "output_type": "execute_result"
    },
    {
     "data": {
      "image/png": "[encoded data removed]",
      "text/plain": [
       "<Figure size 432x288 with 1 Axes>"
      ]
     },
     "metadata": {
      "needs_background": "light"
     },
     "output_type": "display_data"
    }
   ],
   "source": [
    "K = K + np.random.uniform(1.0, 3.0, size=(10,10))\n",
    "normal_modes, vals = GetNormalMode(K, first_few=2)\n",
    "ScatterNormalMode(normal_modes)"
   ]
  },
  {
   "cell_type": "markdown",
   "metadata": {},
   "source": [
    "In the plot, the particles from the same cluster are not at exactly the same spot any more. The noise perturbed the clustering method a little bit and the particles from the same cluster are still close to each other in the plot. \n",
    "\n",
    "The visualization is clear in the above plot. However, if we have many particles like thousands and we want to do higher dimensional embedding like $4$ dimensional, we cannot do the above plot again. This simply because we cannot draw a $4$-D picture. Thus, we should use a more precise way to see whether the points are put into the correct locations. \n",
    "We could calculate the pairwise distance among the particles in the embedding space and plot the pairwise distance value versus the similarity measure $K$. This method does not depend on the dimension of embedding since Euclidean distance can be calculated in any dimension."
   ]
  },
  {
   "cell_type": "code",
   "execution_count": 9,
   "metadata": {},
   "outputs": [],
   "source": [
    "def pairwise_distance(coords):\n",
    "    # coords shape (num_particles, dimension)\n",
    "    return np.sum( (coords[None,:,:] - coords[:,None,:])**2, axis = -1)\n",
    "\n",
    "def compareEmbedK(modes, K, ax = None):\n",
    "    distM = pairwise_distance(normal_modes)\n",
    "    dists = np.zeros(K.shape[0]*(K.shape[0]-1)//2)\n",
    "    sims = np.zeros(dists.shape[0])\n",
    "    count = 0\n",
    "    for i in range(K.shape[0]):\n",
    "        for j in range(i+1, K.shape[0]):\n",
    "            dists[count] = distM[i,j]\n",
    "            sims[count] = K[i,j]\n",
    "            count+=1\n",
    "    if ax is None:\n",
    "        ax = plt.gca()\n",
    "    ax.scatter(sims, dists)\n",
    "    ax.set_ylabel(\"pairwise distance\")\n",
    "    ax.set_xlabel(\"pairwise similarity\")"
   ]
  },
  {
   "cell_type": "code",
   "execution_count": 10,
   "metadata": {},
   "outputs": [
    {
     "data": {
      "image/png": "[encoded data removed]",
      "text/plain": [
       "<Figure size 432x288 with 1 Axes>"
      ]
     },
     "metadata": {
      "needs_background": "light"
     },
     "output_type": "display_data"
    }
   ],
   "source": [
    "compareEmbedK(normal_modes, K)"
   ]
  },
  {
   "cell_type": "markdown",
   "metadata": {},
   "source": [
    "From the plot, it is seen that for similarity larger than $7$, the pairwise distance are almost zero while the pairwise distance are greater than 0.3 for similarity value smaller than $6$. This is exactly what we claimed for the embedding algorithm: similar points are closer to each other in the embedding space.  "
   ]
  },
  {
   "cell_type": "markdown",
   "metadata": {},
   "source": [
    "## Homework\n",
    "\n",
    "### Problem 1\n",
    "Show that the lowest eigenvalue of $K_{ij}$ is zero and thus just prove that $K_{ij}$ is positive semi-definite."
   ]
  },
  {
   "cell_type": "markdown",
   "metadata": {},
   "source": [
    "### Solution:\n",
    "\n",
    "For any vector $v$, we can just need to show $vLv \\geq 0$. Specifically, \n",
    "\n",
    "$$\n",
    "\\begin{aligned}\n",
    "vLv &= \\sum_{ij} (D_{ij} - K_{ij}) v_i v_j \\\\\n",
    "&= \\sum_{ij} D_{ij}v_i v_j - \\sum_{ij} K_{ij} v_i v_j\\\\\n",
    "&= \\sum_{ij} (D_{ii} \\delta_{ij} ) v_i v_j - \\sum_{ij} K_{ij} v_i v_j \\\\\n",
    "&= \\sum_{i} v_i v_i D_{ii} - \\sum_{ij} K_{ij} v_i v_j\n",
    "\\end{aligned}\n",
    "$$\n",
    "\n",
    "We could use the definition that $D_{ii} = \\sum_j K_{ij} $ and we get \n",
    "\n",
    "$$\n",
    "\\begin{aligned}\n",
    "vLv &= \\sum_{i} v_i v_i \\sum_j K_{ij} - \\sum_{ij} K_{ij} v_i v_j \\\\\n",
    "&= \\sum_{ij}K_{ij} v_i (v_i-v_j) \\\\\n",
    "&= \\frac{1}{2}\\sum_{ij}K_{ij} v_i (v_i-v_j) + \\frac{1}{2}\\sum_{ij}K_{ij} v_i (v_i-v_j) \\\\\n",
    "&= \\frac{1}{2}\\sum_{ij}K_{ij} v_i (v_i-v_j) + \\frac{1}{2}\\sum_{ij}K_{ji} v_j (v_j-v_i) \\\\\n",
    "&= \\frac{1}{2}\\sum_{ij}K_{ij} v_i (v_i-v_j) - \\frac{1}{2}\\sum_{ij}K_{ji} v_j (v_i-v_j) \\\\\n",
    "&= \\frac{1}{2}\\sum_{ij}K_{ij} (v_i-v_j)^2\n",
    "\\end{aligned}\n",
    "$$\n",
    "Since $K_{ij} \\geq 0$ and $(v_i-v_j)^2 \\geq 0$, we conclude that $vLv\\geq 0$ and thus it is positive semi-definite."
   ]
  }
 ],
 "metadata": {
  "kernelspec": {
   "display_name": "Python 3",
   "language": "python",
   "name": "python3"
  },
  "language_info": {
   "codemirror_mode": {
    "name": "ipython",
    "version": 3
   },
   "file_extension": ".py",
   "mimetype": "text/x-python",
   "name": "python",
   "nbconvert_exporter": "python",
   "pygments_lexer": "ipython3",
   "version": "3.7.4"
  }
 },
 "nbformat": 4,
 "nbformat_minor": 4
}
