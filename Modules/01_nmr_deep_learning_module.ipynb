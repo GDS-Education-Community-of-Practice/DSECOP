{
  "cells": [
    {
      "cell_type": "markdown",
      "metadata": {
        "id": "wu9nz0gZfBTX"
      },
      "source": [
        "# NMR Spectrum Analysis Using Artificial Neural Networks\n",
        "\n",
        "\n",
        "---\n",
        "\n",
        "\n",
        "#### Authored by Sebastian W. Atalla\n",
        "##### UNC Chapel Hill | Dept. of Physics & Astronomy"
      ]
    },
    {
      "cell_type": "markdown",
      "metadata": {
        "id": "etxHOCey6jBF"
      },
      "source": [
        "[![Open In Colab](https://colab.research.google.com/assets/colab-badge.svg)](https://colab.research.google.com/github/GDS-Education-Community-of-Practice/DSECOP/blob/atalla_nmr_module_1/Modules/01_nmr_deep_learning.ipynb)\n",
        "\n",
        "*The content of this notebook is computationally expensive, and is best experienced with a GPU-accelerated runtime. Such a runtime is available via Google Colab. To open this notebook in a Colab environment, follow the badge above.*"
      ]
    },
    {
      "cell_type": "markdown",
      "metadata": {
        "id": "Xj-yOalNgFNQ"
      },
      "source": [
        "## **Background**\n",
        "\n",
        "The Fourier transform is one of the most important concepts in signal processing. It translates an acquired signal between its time and frequency domain representations, allowing for the decomposition of a signal into its constituent frequencies, or construction of a signal from those frequencies.\n",
        "\n",
        "The Fourier transform, $F(k)$, and its inverse transformation, $f(x)$, are generally given by\n",
        "\n",
        "\\begin{equation}\n",
        "  F(k) = \\int_{-\\infty}^{\\infty} f(x) \\, e^{-2\\pi i k x} \\, dx  \n",
        "  \\qquad \\qquad\n",
        "  f(x) = \\int_{-\\infty}^{\\infty} F(k) \\, e^{2\\pi i k x} \\, dk\n",
        "\\end{equation}\n",
        "\n",
        "respectively. The Fourier transform as as defined above may be naively computed via the discrete Fourier transform (DFT) and its inverse transformation,\n",
        "\n",
        "\\begin{equation}\n",
        "  X_k = \\sum_{n=0}^{N-1} x_n \\, e^{-i\\frac{2\\pi}{N}kn}\n",
        "  \\qquad \\qquad\n",
        "  x_n = \\frac{1}{N} \\sum_{k=0}^{N-1} X_k \\, e^{i\\frac{2\\pi}{N}kn}\n",
        "\\end{equation}\n",
        "\n",
        "respectively; however, this is remarkably ineffificent compared to the modern fast Fourier transform (FFT) utilized in practically all computational domains.\n",
        "\n",
        "The Fourier transform is used to great effect in nuclear magnetic resonance (NMR) spectroscopy, which exploits the fact that different atomic species resonate at different frequencies in a magnetic field as defined by their gyromagnetic ratio – a phenomenon known as spin precession. Faraday induction is used to detect the precession of the magnetization vector of the nuclear spins, which yields the magnetization amplitude as a function of time. The DFT decomposes this signal into discrete frequencies that may be interpreted in terms of chemical shift, which is a field-independent representation of a nucleus’s resonant frequency.\n",
        "\n",
        "This same principle is utilized heavily in magnetic resonance imaging (MRI), in which images are reconstructed via a 2-dimensional FFT from data collected by the MRI machine in *k-space*, which represents spatial frequencies in the acquired image."
      ]
    },
    {
      "cell_type": "markdown",
      "metadata": {
        "id": "3AokNer4m5Jm"
      },
      "source": [
        "## Deep Learning Applications\n",
        "\n",
        "Deep learning is a sub-discipline of machine learning that encompasses the concept of neural networks. Theoretically, neural networks scale better than traditional computational methods for large amounts of data. This is particularly important for signal processing, since some datasets (e.g., magnetic resonance imaging data) can be extremely large. Deep learning algorithms attempt to learn features about the data; however, in the context of traditional computation and the DFT, the features are intrinsic to the signal. Therein arises the point of this module – can a neural network estimate the frequency content of a signal? "
      ]
    },
    {
      "cell_type": "markdown",
      "metadata": {
        "id": "97cLa9nqnQP6"
      },
      "source": [
        "### **Disclaimer**\n",
        "\n",
        "The FFT algorithm is efficient and exact. Practically, the Fourier transform is a poor application of deep learning; however, the exactness of the computation (which provides a ground truth for the network's predictions) and the litany of features that may be discerned from the data render it a good thought experiment for learning about neural net architecture and feature engineering."
      ]
    },
    {
      "cell_type": "markdown",
      "metadata": {
        "id": "_yi6QygKzXIJ"
      },
      "source": [
        "## Preparation\n",
        "\n",
        "**Execute these cells to initialize notebook**. These cells import packages, define constants, and instantiate generators used in the following cells."
      ]
    },
    {
      "cell_type": "code",
      "execution_count": 1,
      "metadata": {
        "id": "RONFUD8o0BZm"
      },
      "outputs": [],
      "source": [
        "# Computation\n",
        "import numpy as np\n",
        "from numpy.random import default_rng\n",
        "import scipy\n",
        "import scipy.optimize\n",
        "import scipy.signal\n",
        "import scipy.integrate\n",
        "\n",
        "# Visualization\n",
        "import matplotlib.pyplot as plt\n",
        "import matplotlib.patches as mpatches\n",
        "import seaborn as sb\n",
        "\n",
        "#  Machine learning\n",
        "import tensorflow as tf\n",
        "from tensorflow import keras"
      ]
    },
    {
      "cell_type": "code",
      "execution_count": 2,
      "metadata": {
        "id": "hataIPLR0J6T"
      },
      "outputs": [],
      "source": [
        "# If problems arise while editing NN parameters, run this cell to clear persistent graph data.\n",
        "tf.keras.backend.clear_session()"
      ]
    },
    {
      "cell_type": "code",
      "execution_count": 3,
      "metadata": {
        "id": "7lcQ3JoP0TBY"
      },
      "outputs": [],
      "source": [
        "# Define a constant for pi since `np.pi` is clumsy, and it's preferable to not import it\n",
        "PI = np.pi\n",
        "\n",
        "# Random generator\n",
        "rng = np.random.default_rng()"
      ]
    },
    {
      "cell_type": "markdown",
      "metadata": {
        "id": "R8q7XuGPo2Eb"
      },
      "source": [
        "# **Exercise 1** Estimation of FID Frequency Content from FFT\n",
        "\n",
        "This exercise explores the fidelity of a neural network trained on an NMR signal and the frequency content from that signal's FFT. The signals are simulated from the expression describing a free induction decay (FID), a waveform prevalent in the common single-pulse sequences used in NMR spectroscopy.\n",
        "\n",
        "An FID may be described by\n",
        "\n",
        "\\begin{equation}\n",
        "  \\text{FID} = \\sin{(\\omega_0 t)} \\, e^{-t/T_2^*}\n",
        "\\end{equation}\n",
        "\n",
        "where $\\omega_0$ and $t$ are of the usual formulation in signal processing, and $T_2^*$ is the effective decay in transverse magnetization of the nucleus being measured."
      ]
    },
    {
      "cell_type": "markdown",
      "metadata": {
        "id": "3XeEelchsyFa"
      },
      "source": [
        "The NMR spectrometer detects a signal as a series of voltages, which must be digitized by an analog-to-digital (ADC) converter, which binarizes the signal for use on a computer. Sampling by the ADC occurs in regular intervals, which yields the datapoints seen in the FID.\n",
        "\n",
        "The sampling rate of the ADC must be fast enough that important information in the signal is not lost. The minimum sampling frequency, $f_{s_{min}}$, needed to render an accurate signal is\n",
        "\n",
        "\\begin{equation}\n",
        "  f_{s_{min}} \\equiv f_{N} = 2f_{max}\n",
        "\\end{equation}\n",
        "\n",
        "where $f_{N}$ is the *Nyquist frequency* and $f_{max}$ is the highest sampled frequency.\n",
        "\n",
        "The Nyquist limit is problematic because NMR frequencies are on the order of megahertz. An ADC cannot digitize fast enough to capture this signal. The solution to this is *RF mixing*, in which two frequencies (typically the observed frequency and a reference frequency) are multiplied to yield sinusoids of sums and differences of the two frequencies,\n",
        "\n",
        "\\begin{equation}\n",
        "  A\\cos{(\\omega_0 t)} \\, \\times \\, A\\cos{(\\omega_{rx} t)} =\n",
        "  \\frac{1}{2}A \\big[ \\cos{ \\big( (\\omega_0 + \\omega_{rx})t \\big)}\\big] + \\cos{ \\big( (\\omega_0 - \\omega_{rx})t \\big)}\\big]\n",
        "\\end{equation}\n",
        "\n",
        "where $\\omega_0$ is the Larmor frequency, and $\\omega_{rx}$ is the reference frequency. After applying a low-pass filter, the signal of interest is now simply\n",
        "\n",
        "\\begin{equation}\n",
        "  S = \\frac{1}{2}A\\left[\\cos{ \\big( (\\omega_0 - \\omega_{rx})t \\big)}\\right] = \\frac{1}{2}A\\left[\\cos{ (\\omega_{\\text{mix}})t)}\\right]\n",
        "\\end{equation}\n",
        "\n",
        "in which $\\omega_{\\text{mix}}$ is a frequency that may now be sampled by the ADC."
      ]
    },
    {
      "cell_type": "markdown",
      "metadata": {
        "id": "sGURVRokyUfB"
      },
      "source": [
        "## Signal Data\n",
        "\n",
        "The FIDs will be simulated from an array of RF-mixed frequencies spanning 50 Hz to 1 kHz. A series of $T_2^*$ relaxation times will also be used to emulate the spectra in various media (e.g. tissue, water, fat, etc.). "
      ]
    },
    {
      "cell_type": "code",
      "execution_count": 4,
      "metadata": {
        "id": "F7Hk-Uab0Xl8"
      },
      "outputs": [],
      "source": [
        "# RF=mixed frequencies from 50 Hz to 1 kHz\n",
        "rf_mix_frequency = np.linspace(50, 1000, num=50, endpoint=True)\n",
        "\n",
        "# T2 spin-spin relaxation times for proton in various media\n",
        "spin2_relaxation = np.linspace(0.1, 4, num=25, endpoint=True) # Seconds\n",
        "\n",
        "# Nyquist limit for highest frequencu; satisfies all Nyquist limit reqs. for lower frequencies\n",
        "min_sampling_freq = 2 * rf_mix_frequency.max() # Hertz\n",
        "\n",
        "# Sampling that satisfies the Nyquist limit for the highest RF-mixed frequency\n",
        "time = np.arange(0, 1, 1/(2*min_sampling_freq)) # Seconds"
      ]
    },
    {
      "cell_type": "code",
      "execution_count": 5,
      "metadata": {
        "id": "MKeV6f8i0mXo"
      },
      "outputs": [],
      "source": [
        "def fid_sim(w0, t, T2, phase_shift = 0):\n",
        "   \"\"\" Simulates a free induction decay (FID). \"\"\"\n",
        "   return np.sin(2*PI * w0 * t + phase_shift) * np.exp(-t/T2)"
      ]
    },
    {
      "cell_type": "code",
      "execution_count": 6,
      "metadata": {
        "id": "WH2I0ILE0o8-"
      },
      "outputs": [],
      "source": [
        "# At least one of the args needs to be Iterable to make a table; for simplicity, enforce it on all args\n",
        "def make_fid_table(frequency, timepts, relaxation):\n",
        "   \"\"\" Constructs a table of simulated FIDs. \"\"\"\n",
        "   # Use list for efficient append\n",
        "   fid_table = []\n",
        "\n",
        "   # `sz_dim` is the number of signals generated\n",
        "   sz_dim = len(frequency) * len(relaxation)\n",
        "\n",
        "   # Generate amplitude scaling and phase shifting factors to introduce more variance\n",
        "   amplitude_scale_table   = rng.uniform(1, 10, sz_dim)\n",
        "   phase_shift_table       = rng.uniform(0, 2*PI, sz_dim)\n",
        "\n",
        "   # Iterate over each relaxation time for each frequency\n",
        "   for w0 in frequency:\n",
        "      for t2 in relaxation:\n",
        "         # Randomly select an amplitude scaling factor and phase shift\n",
        "         amp = rng.choice(amplitude_scale_table)\n",
        "         phi = rng.choice(phase_shift_table)\n",
        "\n",
        "         # Generate fid and append to the FID table\n",
        "         fid = amp * fid_sim(w0, timepts, t2, phase_shift=phi)\n",
        "         fid_table.append(fid)\n",
        "\n",
        "   # Cast the list to an ndarray\n",
        "   fid_table = np.asarray(fid_table)\n",
        "\n",
        "   # Add some Gaussian noise to better simulate a real signal\n",
        "   noise = rng.normal(-0.05, 0.05, fid_table.shape)\n",
        "   noisy_fid = fid_table + noise\n",
        "\n",
        "   # Shuffle the generated FIDs\n",
        "   rng.shuffle(noisy_fid)\n",
        "\n",
        "   return noisy_fid"
      ]
    },
    {
      "cell_type": "markdown",
      "metadata": {
        "id": "EmGVFyXhzyUk"
      },
      "source": [
        "The following cell contains the simulated FIDs."
      ]
    },
    {
      "cell_type": "code",
      "source": [
        "full_fid_table = make_fid_table(rf_mix_frequency, time, spin2_relaxation)"
      ],
      "metadata": {
        "id": "yGRdYOqJEh5f"
      },
      "execution_count": 7,
      "outputs": []
    },
    {
      "cell_type": "code",
      "execution_count": 8,
      "metadata": {
        "id": "Tg2iAi_e0rlB"
      },
      "outputs": [],
      "source": [
        "# Table of simulated FIDs to serve as observed NMR spectra.\n",
        "full_fid_table = make_fid_table(rf_mix_frequency, time, spin2_relaxation)\n",
        "\n",
        "acq_fid_num = int(np.ceil(0.95 * len(full_fid_table)))\n",
        "\n",
        "observed_fid_table = full_fid_table[0:acq_fid_num]\n",
        "test_fid_table = full_fid_table[acq_fid_num:]"
      ]
    },
    {
      "cell_type": "markdown",
      "metadata": {
        "id": "yv8bjF86zrxq"
      },
      "source": [
        "The next step is to compute the Fourier transform of the FIDs that have just been generated. "
      ]
    },
    {
      "cell_type": "code",
      "execution_count": 9,
      "metadata": {
        "id": "WNF64r_91e9_"
      },
      "outputs": [],
      "source": [
        "def make_window(arr):\n",
        "    \"\"\" Windows the input array relative to a signal's upper Nyquist band. \"\"\"\n",
        "    return arr[:int(np.ceil(len(arr)/2))]\n",
        "\n",
        "def transform_fid_table(fid_table):\n",
        "    \"\"\" Computes the forward FFT of the input FID array and returns the upper Nyquist band. \"\"\"\n",
        "    # Use a list for efficient append\n",
        "    fid_transform_table = []\n",
        "\n",
        "    # Iterate over each FID in the FID table\n",
        "    for fid in fid_table:\n",
        "        # Computes forward FFT and scales with the FID length\n",
        "        fid_ft      = np.fft.fft(fid)/len(fid)\n",
        "        # Collects complex modulus of the frequency-domain signal\n",
        "        abs_ft      = np.abs(fid_ft)\n",
        "        # Windows the FFT output to the upper Nyquist band\n",
        "        win_fid_ft  = make_window(abs_ft)\n",
        "\n",
        "        fid_transform_table.append(win_fid_ft)\n",
        "\n",
        "    # Cast the list to an ndarray\n",
        "    transformed_fid_table = np.asarray(fid_transform_table)\n",
        "\n",
        "    return transformed_fid_table"
      ]
    },
    {
      "cell_type": "markdown",
      "metadata": {
        "id": "PGkVm5pJ0U1X"
      },
      "source": [
        "The following cell contains the Fourier transforms of the generated FIDs."
      ]
    },
    {
      "cell_type": "code",
      "execution_count": 10,
      "metadata": {
        "id": "JX46-8Og1sNm"
      },
      "outputs": [],
      "source": [
        "ft_table = transform_fid_table(observed_fid_table)"
      ]
    },
    {
      "cell_type": "markdown",
      "metadata": {
        "id": "-CMa-MG8HjHJ"
      },
      "source": [
        "The following cell is the frequency range of the signals, respective to the minimum sampling rate dictated by the highest frequency with which the FIDs were generated."
      ]
    },
    {
      "cell_type": "code",
      "execution_count": 11,
      "metadata": {
        "id": "YoYe1yPi6cW9"
      },
      "outputs": [],
      "source": [
        "# Frequency range based on Nyquist limit\n",
        "xfrq = make_window(np.fft.fftfreq(n=len(time), d=1/(2*min_sampling_freq)))"
      ]
    },
    {
      "cell_type": "markdown",
      "metadata": {
        "id": "day-kCYr1HsN"
      },
      "source": [
        "## The Neural Network\n",
        "\n",
        "Can a neural network learn to decipher the frequency content of an observed FID? The first attempt will make use of simple artificial neural network (ANN) architecture trained on the FIDs and their respective FFT. This neural network consists of sequential dense, or fully-connected, layers which forms the *model*. The dense layers have several tunable parameters, otherwise known as *hyperparameters*. The `Dense` layer is defined in Keras as\n",
        "\n",
        "```python\n",
        "tf.keras.layers.Dense(\n",
        "    units,\n",
        "    activation = None,\n",
        "    use_bias = True,\n",
        "    kernel_initializer = \"glorot_uniform\",\n",
        "    bias_initializer = \"zeros\",\n",
        "    kernel_regularizer = None,\n",
        "    bias_regularizer = None,\n",
        "    activity_regularizer = None,\n",
        "    kernel_constraint = None,\n",
        "    bias_constraint = None,\n",
        "    **kwargs)\n",
        "```\n",
        "where the arguments provided represent the default values instantiated by Keras.\n",
        "\n",
        "Some of the most commonly tuned hyperparameters are `units`, which corresponds the output dimensions of the layer (i.e. the number of *nodes*), and `activation` to specify which activation function should be used. The number of layers in the model is also a tunable hyperparameter.\n",
        "\n",
        "An important note about hyperparameters is that they are not universally constant - they require tuning by the user. This means that a network will potentially undergo many iterations before the quality of its predictions is satisfactory to the user.\n"
      ]
    },
    {
      "cell_type": "markdown",
      "metadata": {
        "id": "Nr59M03ULpYN"
      },
      "source": [
        "The largest hurdle in developing a neural network is understanding what the network is supposed to be solving. In the forward direction, the FFT is a linear transformation between the time-domain and frequency-domain representations of a signal. Thus, it behaves more like a regression than a classification. This immediately limits our choice of activation function, making the `activation` hyperparameter simple to tune.\n",
        "\n",
        "Keras maintains several activation functions. Some of the most popular are `sigmoid`, `softmax`, `relu`, and `tanh`. Functions such as `sigmoid` and `softmax` are more useful in the final layer of network classifers, since they normalize the output to a probability distribution. That means `relu`-type and `linear` activation functions are preferred for regression problems, since they *generally* allow the output to remain unconstrained between $-\\infty$ and $\\infty$.\n",
        "\n",
        "An exaustive list of Keras's activation functions and short descriptions of each may be found in the [Keras Activation Function API](https://keras.io/api/layers/activations/#available-activations) documentation."
      ]
    },
    {
      "cell_type": "markdown",
      "source": [
        "### Exercise 1\n",
        "\n",
        "The ANN below is able to learn an FID's frequency content, but it has trouble learning the amplitude and spectral-width of the center frequency. Adjust the parameters shown in the `Dense` API listed above. \n",
        "\n",
        "*   Focus primarily on layer `units` and activation functions.\n",
        "*   Leave the initializers as default - these specify how the weights and biases are initialized in the model."
      ],
      "metadata": {
        "id": "Dfjz1HcbmRsH"
      }
    },
    {
      "cell_type": "markdown",
      "source": [
        "#### **Layers**\n",
        "A neural network is expressed as a *model* composed of *layers*. The first layer in a network is the *input layer*, and the last layer is the *output layer*. The layers in between are the *hidden layers*, and is where the network's \"learning\" occurs. Each layer is comprised of *nodes*.\n",
        "\n",
        "Nodes simply hold a number. For the input layer, this number is the input feature itself; for instance, it could be the intensity of a pixel in an image, or a value in a vector of data. This number is also known as the *activation* - called $h_{n}^{(k)}$ henceforth, where $n$ is the index of the node in a layer of $N$ nodes (or features), and $k$ is the index of the layer in which that node resides. The network learns parameters called weights, $w_{n}$, which are used to weight the activation of a node in the previous layer and feed it forward to the next layer. The weights help the network determine which features are most important. In the `Dense` layers used in this network, each node is fully connected to the nodes of the next layer. Thus, each node in some layer $k$ after the input contains a value expressed by\n",
        "\n",
        "\\begin{equation}\n",
        "  h_{n}^{(k+1)} = \\sum_{n=1}^{N}\\,h_{n}^{(k)}w_{n,k}\n",
        "\\end{equation}\n",
        "\n",
        "Depending on the data on which the network is learning, there may be additional requirements to satisfy activation of a node, such as a numeric threshold. A *bias* term may be added to the weighted sum describing a node's activation, such that the activation expression for a node may now be expressed as\n",
        "\n",
        "\\begin{equation}\n",
        "  h_{n}^{(k+1)} = b_n + \\sum_{n=1}^{N}\\,h_{n}^{(k)}w_{n,k}\n",
        "\\end{equation}\n",
        "\n",
        "in which $b_n$ shifts the value of the weighted sum to account for some bias. For example, if the threshold for activation is desired to be $h_{n}^{(k)} > 5$, the bias term would be $b_n = -5$.\n",
        "\n",
        "Typically, the number of nodes in the input layer corresponds to the number of features in the input data, and the number of nodes in the output layer is equal to the number of solutions to the problem being solved. For example, in a network classifying whether an animal is a dog or a cat, the input layer may be the dimensions of 3 features - length, weight, and fur color - and the output layer may consist of 2 nodes, 1 for \"dog\" and 1 for \"cat\": \n",
        "\n",
        "![Network Diagram](https://github.com/GDS-Education-Community-of-Practice/DSECOP/blob/atalla_nmr_module_1/Modules/Resources/network2.png?raw=true)\n",
        "\n",
        "This is an example of a network with 3 inputs, $x_n$, and a single hidden layer consisting of 5 nodes. The lines between the nodes are colored blue for negative weights and orange for positive weights. There may be any number of hidden layers, and the dimensions of those layers may be tuned to fit the problem being solved, such as two dimensions for images (e.g. `128x128` for a picture) and three dimensions for time-series data.\n",
        "\n",
        "The number of layers is an example of a *hyperparameter*, which are network parameters that must be iteratively tuned and generally cannot be learned by the model. This is in contrast to *parameters*, which are learned by the network, e.g. weights. The number of layers in a model is a readily tunable hyperparameter. The number of nodes in a layer is also a tunable hyperparameter. These hyperparameters represent the foundation of the model. The following ANN consists of a sequence of `Dense` layers, for the general rule is that more layers are better - but not always (e.g. overfitting).$^1$\n",
        "\n",
        "---\n",
        "\n",
        "**Exercise 1.1** Try adding and removing `Dense` layers with varying numbers of nodes. Do any trends regarding the number of nodes and layers stick out? The [Keras Dense Layer API](https://keras.io/api/layers/core_layers/dense/) lists the arguments necessary for instantiating a `Dense` layer."
      ],
      "metadata": {
        "id": "DpSwXCUDmYhB"
      }
    },
    {
      "cell_type": "markdown",
      "source": [
        "#### **Activation Functions**\n",
        "Activation functions are some of the most important components of a network. These functions are responsible for constraining the data within physically meaningful bounds. As a simple example, classification networks tend to be concerned with percentages describing the confidence at which a network can classify an input as belonging to a particular group. This means that the activations $h_{n}^{(k)}$ should ideally be constrained on the interval $[0,1]$. For a regression problem, the boundaries could be defined on any interval meaningful to the data. Thus, different activation functions are better suited for different problems, and using the wrong activation function can yield poor or meaningless output from the network. With the inclusion of the activation function, the node's activation may now be expressed as\n",
        "\n",
        "\\begin{equation}\n",
        "  h_{n}^{(k+1)} = f\\left(b + \\sum_{n=1}^{N}\\,h_{n}^{(k)}w_{n,k}\\right)\n",
        "\\end{equation}\n",
        "\n",
        "where the activation $h_{n}^{(k)}$ is the argument of the activation function $f$.\n",
        "\n",
        "##### **Linear Function**\n",
        "The `linear` activation function is simply\n",
        "\n",
        "\\begin{equation}\n",
        "  f(x)=x\n",
        "\\end{equation}\n",
        "\n",
        "which means the output is unchanged from the input. In Keras's `Dense` layers, `activation=None` is the default value, implying the default activation function is `linear`. This is also sometimes used in the output layer of regression networks since the function is unconstrained, e.g. if the solutions are valid on the interval $(-\\infty, \\infty)$. Using the `linear` function in hidden layers prevents the network from learning more complex relationships about the input features, and thus is not recommended.\n",
        "\n",
        "##### **Sigmoid Function**\n",
        "The `sigmoid` function clamps values on the interval $[0,1]$, and has the form\n",
        "\n",
        "\\begin{equation}\n",
        "  \\sigma{(z)}=\\frac{1}{1+e^{-z}}\n",
        "\\end{equation}\n",
        "\n",
        "which results in lower activation values being more heavily weighted towards zero, and higher activation towards one. This effectively produces a vector of probabilities. The `sigmoid` function is typically only used in the output layer of binary classification networks, since the resultant probabilities are not related and their sum is not contrained to be less than or equal to one.\n",
        "\n",
        "##### **Softmax Function**\n",
        "A similar function, `softmax`, is a generalizion of the `sigmoid` function and is used for higher order classification involving more than 2 groups. It is defined as\n",
        "\n",
        "\\begin{equation}\n",
        "  \\sigma{(\\mathbf{z})}_{j}=\\frac{e^{z_{j}}}{\\sum_{c=1}^{C}e^{z_c}}\n",
        "\\end{equation}\n",
        "\n",
        "where $C$ is the number of distinct groups, and $j$ is on the interval $[1,C]$. This function is used in the output layer for multi-class classification ($C>2$) since the resultant probabilities are related and sum to one.\n",
        "\n",
        "##### **Rectified Linear Unit (ReLU) Function**\n",
        "The `ReLU` function is frequently used as the activation function for hidden layers, regardless of whether the network classifies or regresses. It has the form\n",
        "\n",
        "\\begin{equation}\n",
        "  f(z)=max(z,0)\n",
        "\\end{equation}\n",
        "\n",
        "which simply clamps the input to values on the interval $[0,\\infty)$. Thus, negative activations are rendered as zero, and positive activations are left unchanged. This function may also be used in the output later if the solutions are desired to be positive. The `ReLU` function and its derivatives are some of the most frequently used activation functions when designing neural networks.\n",
        "\n",
        "Depending on the requirements of the network, it is also possible to design a custom activation function. Activation functions are most often non-linear and differentiable. Non-linearity allows the network to parse out more complex relationships within the data. If the activation function is differentiable, this allows for its gradient to be computed, which facilitates optimization methods such as *Stochastic Gradient Descent* (SGD).\n",
        "\n",
        "---\n",
        "\n",
        "**Exercise 1.2** Try different activation functions in one, some, or all layers; however, limit the functions to `sigmoid`, `softmax`, `relu`, and `linear`. A linear activation function is the default value of a Keras `Dense` layer, specified by `activation = None` What differences in behavior arise when using different activation functions? Arguments for the activation functions may be found in the [Keras Activation Function API](https://keras.io/api/layers/activations/) documentation."
      ],
      "metadata": {
        "id": "GH9GQ0Krm0FK"
      }
    },
    {
      "cell_type": "markdown",
      "source": [
        "#### **Regularization**\n",
        "Regularization is a method used to prevent overfitting in the model. A model ultimately seeks to fit its learned parameters to the training data in order to produce a generalizable solution that works on unseen data. If a model is underfit, this means that the model has trouble converging to a solution for the training data. If the model is overfit, this means that the model performs accurately on the training data, but the solution is poorly generalized; thus, unseen data fed to the network will yield poor results.\n",
        "\n",
        "##### **L1 and L2 Regularizers**\n",
        "A model seeks to converge by minimizing a loss function. A popular loss function is *mean squared error* (MSE), which has the general form\n",
        "\n",
        "\\begin{equation}\n",
        "  \\text{MSE} = \\frac{1}{M}\\sum_{m=1}^{M}\\left(y_m - \\hat{y}_{m} \\right)^2\n",
        "\\end{equation}\n",
        "\n",
        "where $M$ is the number of samples, $y_m$ is some known, actual value (a.k.a. *ground truth*), and $\\hat{y}_{m}$ is the predicted value. In the context of this module's neural network, this may have the form\n",
        "\n",
        "\\begin{equation}\n",
        "  \\text{MSE} = \\frac{1}{M}\\sum_{m=1}^{M}\\left(y_m - f\\left(b_n + \\sum_{n=1}^{N}\\,h_{n}^{(k)}w_{n,k}\\right) \\right)^2\n",
        "\\end{equation}\n",
        "\n",
        "The optimizer will work to minimize the MSE in order to determine the quality of the solution upon which it has converged, i.e. good fitness. A clear indicator of overfitting is when the training loss, denoted as `loss` in Keras, converges much more rapidly than the validation loss, denoted by Keras as `val_loss`. Another indicator is when `val_loss` converges early, such that `loss` $\\ll$ `val_loss`. This means that the model is poorly generalized and is failing to converge well on the validation data.\n",
        "\n",
        "Regularization attempts to reduce MSE by punishing large weights with the introduction of a penalty term. Two of the most popular regularization techniques are `L1` and `L2`, where the penalty term is simply added to the MSE. Thus, the regularized MSE can be written in the form\n",
        "\n",
        "\\begin{equation}\n",
        "  \\begin{aligned}\n",
        "    \\text{MSE}_{L1} &= \\frac{1}{M}\\sum_{m=1}^{M}\\left(y_m - \\hat{y}_{m} \\right)^2 + \\lambda \\sum_{n=1}^{N}\\left|w_{n,k}\\right| \n",
        "    \\\\\n",
        "    \\\\\n",
        "    \\text{MSE}_{L2} &= \\frac{1}{M}\\sum_{m=1}^{M}\\left(y_m - \\hat{y}_{m} \\right)^2 + \\underbrace{\\lambda \\sum_{n=1}^{N}w_{n,k}^2}_{\\text{Penalty}}\\\\\n",
        "  \\end{aligned}\n",
        "\\end{equation}\n",
        "\n",
        "The hyperparameter $\\lambda$ is typically a positive number. A larger $\\lambda$ increases the MSE, especially so for large $w$, which suggests that the model should continue to optimize. A smaller $\\lambda$ shrinks the MSE, doing the opposite. The penalty $\\lambda$ often requires iterations to the tuning in order to determine a good value for this hyperparameter.\n",
        "\n",
        "##### **Dropout**\n",
        "Another regularization method is *dropout*, which may be implemented via a Keras `Dropout` layer as\n",
        "```python\n",
        "  keras.layers.Dropout(rate)\n",
        "```\n",
        "where `rate` is a value between 0 and 1 to indicate how much of the data should drop out. Dropout essentially introduces noise to the data by removing nodes, thus reconfiguring the connectivity of nodes in subsequent layers.\n",
        "\n",
        "##### **Early Stopping**\n",
        "*Early stopping* is a useful regularization technique that halts model training when the `loss` or `val_loss` (or other metric, depending on the model) has reached a minimum. This helps prevent the optimizer from deviating from a found minumum, and is implemented as a callback in the `model.fit` method.\n",
        "\n",
        "---\n",
        "\n",
        "**Exercise 1.3** Try tuning the `L1` and/or `L2` regularizers at the kernel level on one, some, or all layers to see how this affects the neural network's ability to learn. This can be implemented in the `Dense` layer via\n",
        "```python\n",
        "  kernel_regularizer = keras.regularizers.L1(l1=0)\n",
        "  kernel_regularizer = keras.regularizers.L2(l2=0)\n",
        "```\n",
        "Note that the `kernel_regularizer` will attempt to penalize large weights without considering the bias. The `activity_regularizer` attempts to reduce the output of a layer by accounting for both the weights and the bias. The `bias_regularizer` reduces the bias. For layers with no bias, `kernel_regularizer` is sufficient.\n",
        "\n",
        "Further information about layer arguments may be found in the [Keras Layers API](https://keras.io/api/layers/core_layers/) documentation."
      ],
      "metadata": {
        "id": "M01RVI-Pm-i1"
      }
    },
    {
      "cell_type": "markdown",
      "metadata": {
        "id": "6Rdzj3DNPvRp"
      },
      "source": [
        "#### **Optimizer**\n",
        "##### **Stochastic Gradient Descent**\n",
        "The optimizer is the function that minimizes the loss function. The optimizer used in this network is *Stochastic Gradient Descent* (SGD), and the loss function is the *mean squared error* (MSE). New weights are determined via SGD in this module's network for the next iteration of learning by\n",
        "\n",
        "\\begin{equation}\n",
        "  w_{n,k}^{(new)} = w_{n,k}^{(old)} - \\alpha \\frac{\\partial{\\text{MSE}}}{\\partial{\\,w_{n,k}^{(old)}}}\n",
        "\\end{equation}\n",
        "\n",
        "where $w_{n,k}^{(new)}$ is the updated weight, $w_{n,k}^{(old)}$ is the current weight, and $\\alpha$ is the *learning rate*. This method, however, differs from traditional gradient descent isn that SGD optimizes via randomly chosen samples, whereas gradient descent utilizes *all* samples. Thus, SGD may significantly improve optimization time.\n",
        "\n",
        "##### **Learning Rate**\n",
        "The learning rate $\\alpha$ is a hyperparameter that controls how quickly the optimizer adjusts weights. Imagining the convergence as traversal of a parabola, the learning rate affects how quickly the bottom of the parabola is reached; a smaller $\\alpha$ means the optimizer converges more slowly, and a larger $\\alpha$ means faster convergence. It would seem that a larger $\\alpha$ would be ideal, but if there exist multiple minima in the optimization, a faster learning rate could overshoot. A lower learning rate reduces the risk of overshoot, but may take longer to converge. As with other hyperparameters, this may require tuning to reach a suitable value.\n",
        "\n",
        "Learning rates in Keras may be implemented as a schedule, which affords finer control of the learning rate by introducing decay, which allows the model to begin training with a high learning rate which decays as training progresses. This offers a compromise between convergence speed and accuracy.\n",
        "\n",
        "##### **Momentum**\n",
        "An important optimization hyperparameter is the *momentum*. The momentum works much in the same way as physical inertia - as the optimizer converges on a solution, momentum allows it to retain some degree of the previous optimization's direction as it searches for minima, potentially decreasing convergence time and allowing for better traversal across local minima.\n",
        "\n",
        "---\n",
        "\n",
        "SGD finds the derivatives of the loss function in order to find local minima. This method is susceptible to vanishing and exploding gradients, which result in weights being calculated as `nan`. The `clipnorm` argument in the optimizer clips exploding gradients at `1.0`.\n",
        "\n",
        "**Exercise 1.4** Try different optimizers and try tuning the optimization hyperparameters. From the descriptions of the optimizers, why might some be poorly suited to this problem? The possible optimizers for use with Keras models are listed in the [Keras Optimizers API](https://keras.io/api/optimizers/#available-optimizers) documentation.\n",
        "\n",
        "**Excercise 1.5** Tune the hyperparameters in `lr_schedule` and observe the effect on `loss` and `val_loss`. Learning rate schedules and API usage are listed in the [Keras Learning Schedule API](https://keras.io/api/optimizers/learning_rate_schedules/) documentation."
      ]
    },
    {
      "cell_type": "markdown",
      "source": [
        "### References\n",
        "\n",
        "---\n",
        "\n",
        "[1] [Bengio, Yoshua. \"Practical recommendations for gradient-based training of deep architectures.\" Neural networks: Tricks of the trade. Springer Berlin Heidelberg, 2012. 437-478.](https://arxiv.org/abs/1206.5533)"
      ],
      "metadata": {
        "id": "27N4tLN76tFL"
      }
    },
    {
      "cell_type": "code",
      "execution_count": null,
      "metadata": {
        "id": "FIYgwHix1veg"
      },
      "outputs": [],
      "source": [
        "model_ft = keras.models.Sequential([\n",
        "    # Input layer\n",
        "    keras.layers.Input(\n",
        "        shape = observed_fid_table.shape[1]\n",
        "    ),\n",
        "    # Hidden layer 1\n",
        "    keras.layers.Dense(\n",
        "        #activation  = tf.nn.relu,\n",
        "        units       = observed_fid_table.shape[1],\n",
        "        use_bias    = False,\n",
        "        kernel_regularizer = keras.regularizers.L1(\n",
        "            l1 = 1e-4\n",
        "        )\n",
        "    ),\n",
        "    # Output layer\n",
        "    keras.layers.Dense(\n",
        "        # Linear activation - regression-type problem\n",
        "        units       = ft_table.shape[1],\n",
        "        use_bias    = False\n",
        "    )\n",
        "])\n",
        "\n",
        "# Callback to stop the model early based on `val_loss` to prevent overfitting\n",
        "early_stop_callback = keras.callbacks.EarlyStopping(\n",
        "    monitor   = 'val_loss', \n",
        "    min_delta = 1e-4, \n",
        "    patience  = 10, \n",
        "    mode      = 'auto',\n",
        "    verbose   = 1,\n",
        "    baseline  = None\n",
        "    )\n",
        "\n",
        "# Learning rate schedule to decrease the learning rate over the training period\n",
        "lr_schedule = keras.optimizers.schedules.ExponentialDecay(\n",
        "    initial_learning_rate   = 0.1,\n",
        "    decay_steps             = 500,\n",
        "    decay_rate              = 0.96\n",
        ")\n",
        "\n",
        "model_ft.compile(\n",
        "    loss        = 'mean_squared_error', \n",
        "    optimizer   = tf.keras.optimizers.SGD(\n",
        "        learning_rate = lr_schedule,\n",
        "        momentum      = 0.5,\n",
        "        # Prevents vanishing/exploding gradients\n",
        "        clipnorm      = 1.0\n",
        "        )\n",
        "    )\n",
        "\n",
        "model_ft.fit(\n",
        "    x                 = observed_fid_table, \n",
        "    y                 = ft_table, \n",
        "    epochs            = 300,\n",
        "    batch_size        = 50,\n",
        "    # Train on 80% of the input data, validate on 20%\n",
        "    validation_split  = 0.2,\n",
        "    verbose           = 1,\n",
        "    callbacks         = [early_stop_callback]\n",
        "    )"
      ]
    },
    {
      "cell_type": "markdown",
      "metadata": {
        "id": "sQQLmjkegKhs"
      },
      "source": [
        "A summary of the neural network may be seen below. The number of parameters is exceptionally large. When working with unmixed frequencies in the MHz regime, the Nyquist limit would rapidly drive the number of parameters beyond the point of overflow."
      ]
    },
    {
      "cell_type": "code",
      "execution_count": 13,
      "metadata": {
        "colab": {
          "base_uri": "https://localhost:8080/"
        },
        "id": "r_HHzsDFBCxA",
        "outputId": "9265856f-3347-49ba-f150-1764bd48fc84"
      },
      "outputs": [
        {
          "output_type": "stream",
          "name": "stdout",
          "text": [
            "Model: \"sequential\"\n",
            "_________________________________________________________________\n",
            " Layer (type)                Output Shape              Param #   \n",
            "=================================================================\n",
            " dense (Dense)               (None, 4000)              16000000  \n",
            "                                                                 \n",
            " dense_1 (Dense)             (None, 2000)              8000000   \n",
            "                                                                 \n",
            "=================================================================\n",
            "Total params: 24,000,000\n",
            "Trainable params: 24,000,000\n",
            "Non-trainable params: 0\n",
            "_________________________________________________________________\n"
          ]
        }
      ],
      "source": [
        "model_ft.summary()"
      ]
    },
    {
      "cell_type": "markdown",
      "metadata": {
        "id": "rwCBmKNal0Ju"
      },
      "source": [
        "### ANN Predictions\n",
        "\n",
        "An FID may be submitted to the model via the `predict()` method, which will return the neural network's estimation of the FID's frequency spectrum."
      ]
    },
    {
      "cell_type": "code",
      "execution_count": 14,
      "metadata": {
        "id": "ggiNRpDwBEIn"
      },
      "outputs": [],
      "source": [
        "def nn_fft(input):\n",
        "    prediction = model_ft.predict(input[np.newaxis])[0]\n",
        "    return prediction"
      ]
    },
    {
      "cell_type": "code",
      "execution_count": 17,
      "metadata": {
        "cellView": "form",
        "colab": {
          "base_uri": "https://localhost:8080/",
          "height": 350
        },
        "id": "52NWx1kPBIar",
        "outputId": "ed539219-870e-4ab4-dfa4-fed1e5dedbdb"
      },
      "outputs": [
        {
          "output_type": "display_data",
          "data": {
            "text/plain": [
              "<Figure size 1224x360 with 2 Axes>"
            ],
            "image/png": "[encoded data removed]"
          },
          "metadata": {
            "needs_background": "light"
          }
        }
      ],
      "source": [
        "#@title ANN Predictions Visualized\n",
        "#@markdown Press the `Play` button on the left side of the cell to visualize the ANN predictions for a randomly generated FID. On the left is the submitted FID, and on the right is a superimposition of the ANN prediction and the real FFT output for that FID.\n",
        "#@markdown The frequency in the ANN Prediction callout is the center frequency predicted by the network. Check the results of hyperparameter tuning against the output in this figure.\n",
        "#@markdown\n",
        "#@markdown ---\n",
        "#@markdown **Exercise 1.1.6** Run this code several times and observe how the network's estimated resonant frequency compares to the real frequency from the FFT.\n",
        "n_samples = len(test_fid_table)\n",
        "rand_idx = rng.integers(low = 0, high = n_samples)\n",
        "rand_sample = test_fid_table[rand_idx]\n",
        "\n",
        "nn_test = nn_fft(rand_sample)\n",
        "ft_real = make_window(np.abs(np.fft.fft(rand_sample)/len(rand_sample)))\n",
        "\n",
        "nn_peak_at = np.argmax(np.abs(nn_test))\n",
        "ft_peak_at = np.argmax(ft_real)\n",
        "peak_mean = np.mean([nn_peak_at, ft_peak_at])\n",
        "\n",
        "nn_freq = xfrq[nn_peak_at]\n",
        "ft_freq = xfrq[ft_peak_at]\n",
        "\n",
        "#*_, axis = plt.subplots(1, 3, figsize = (24, 5))\n",
        "*_, axis = plt.subplots(1, 2, figsize = (17, 5))\n",
        "sb.lineplot(x = time, y = rand_sample, ax = axis[0], label = 'FID')\n",
        "sb.lineplot(x = xfrq, y = nn_test, ax = axis[1], label = f'ANN Prediction')\n",
        "sb.lineplot(x = xfrq, y = ft_real, ax = axis[1], label = f'FFT Output')\n",
        "\n",
        "axis[0].set(title=\"Observed FID\", xlabel=\"Time (s)\", ylabel=\"Amplitude\")\n",
        "axis[1].set(title=\"FID Frequency Spectrum vs ANN Predicted Spectrum\", xlabel=\"Frequency (Hz)\", ylabel=\"Amplitude\")\n",
        "\n",
        "# Annotations\n",
        "arrow_args = dict(arrowstyle='->')\n",
        "bbox_args = dict(boxstyle='square', fc='white')\n",
        "bbox_args2 = dict(boxstyle='round', fc='white', edgecolor='gray', linewidth = 0.5)\n",
        "\n",
        "nn_amp = nn_test[nn_peak_at]\n",
        "ft_amp = ft_real[ft_peak_at]\n",
        "\n",
        "if (nn_amp < 0): \n",
        "  nn_y_annotate = nn_amp - 0.025\n",
        "else:\n",
        "  nn_y_annotate = nn_amp + 0.01\n",
        "\n",
        "axis[1].annotate(f'{nn_freq} Hz', xy=(nn_freq, nn_amp), xytext=(nn_freq + 8, nn_y_annotate), arrowprops=arrow_args, bbox=bbox_args, fontsize=12)\n",
        "axis[1].annotate(f'{ft_freq} Hz', xy=(ft_freq, ft_amp), xytext=(ft_freq - 19, ft_amp-0.075), arrowprops=arrow_args, bbox=bbox_args, fontsize=12)\n",
        "\n",
        "first_legend = axis[1].legend()\n",
        "axis[1].add_artist(first_legend)\n",
        "\n",
        "axis[1].annotate(f'Δf={np.abs(nn_freq-ft_freq)}', xy=(0.7425, 0.795), xycoords='axes fraction', bbox=bbox_args2, fontsize=12)\n",
        "\n",
        "# `np.isclose(a, b)` assumed b is the reference value\n",
        "if np.isclose(nn_peak_at, ft_peak_at, atol = 5):\n",
        "  axis[1].set_xlim(peak_mean - 50, peak_mean + 50)\n",
        "\n",
        "if (nn_amp < 0):\n",
        "  axis[1].set_ylim(nn_amp - 0.15, ft_amp + 0.1)"
      ]
    },
    {
      "cell_type": "markdown",
      "metadata": {
        "id": "Dc8HUJcKxG4d"
      },
      "source": [
        "### Discussion\n",
        "The neural network with the hyperparameters provided in this module was able to successfully learn the frequency content of the majority of FIDs submitted to the predictor. The network showed little capacity for learning the amplitude or spectral width of the center frequency. Some solutions to this problem are adding more layers or further tuning of the hyperparameters.\n",
        "\n",
        "There exists an alternative to the approach above. Rather than training the network on the FID and its corresponding frequency spectrum, a network may be trained on the FID and the information one expects to discern from the spectrum.\n",
        "\n",
        "This approach is advantageous because it significantly reduces the number of outputs, and subsequently the number of training parameters. The next exercise in this module will explore this approach in more depth."
      ]
    },
    {
      "cell_type": "markdown",
      "metadata": {
        "id": "fCl7pj3vf7Sq"
      },
      "source": [
        "# ⚒ **Exercise 2** Estimation of Lorentzian Curve Fitting Parameters from FID Frequency Spectra - WIP\n",
        "\n",
        "In the previous exercise, it was found that the ANN failed to produce meaningful estimates of the amplitude and spectral width of the FID's center frequency. This information is important in spectroscopy. For instance, in $^1$H NMR, the area under the peak is proportional to the number of protons producing that peak. The sum of the peak integrals represents the number of hydrogens in a substance, which allows for estimation of a substance's molecular formula. Thus, without accurate amplitude and width data, predicting the center frequency is functionally useless."
      ]
    },
    {
      "cell_type": "markdown",
      "metadata": {
        "id": "vDl9NSrJ1g2A"
      },
      "source": [
        "## Curve Fitting of NMR Data\n",
        "\n",
        "Determining the location, amplitude, and spectral width of a spectrum's resonant frequency is easily done by fitting the peak to a spectral line shape function. The most common line shapes encountered in NMR are *Lorentzian*, *Gaussian*, and *Voigt*.\n",
        "\n",
        "\\\n",
        "#### **Lorentzian Distribution**\n",
        "The Lorentzian line shape function is given by its probability density function (PDF),\n",
        "\n",
        "\\begin{equation}\n",
        "  L(x; x_0, A, \\gamma) = \\frac{A}{\\pi}\\left(\\frac{\\gamma}{(x-x_0)^2 + \\gamma^2}\\right)\n",
        "\\end{equation}\n",
        "\n",
        "where $x_0$ is the location of the resonant frequency, $A$ is the amplitude, and $\\gamma$ is the FWHM corresponding to the spectral width.\n",
        "\n",
        "\\\n",
        "#### **Gaussian Distribution**\n",
        "Gaussian line shapes are similarly given by their PDF as\n",
        "\n",
        "\\begin{equation}\n",
        "  G(x; \\mu, A, \\sigma) = \\frac{A}{\\sigma\\sqrt{2\\pi}}\\exp\\left(-\\frac{(x-\\mu)^2)}{2\\sigma^2}\\right)\n",
        "\\end{equation}\n",
        "\n",
        "where $\\mu$ corresponds to the location of the resonant frequency, $A$ is again the amplitude, and $\\sigma$ is the FWHM describing the spectral width. \n",
        "\n",
        "\\\n",
        "#### **Voigt Profile**\n",
        "The Voigt profile is a convolution of the Lorentzian and Gaussian line shapes, and is given by\n",
        "\n",
        "\\begin{equation}\n",
        "  V(x; \\sigma, \\gamma) = \\int_{-\\infty}^{\\infty}\\,G(x';\\sigma)L(x-x';\\gamma)\\,dx'\n",
        "\\end{equation}\n",
        "\n",
        "There is no closed-form expression for the Voigt profile, but may be approximated from the real part of the Faddeeva function $w(z)$,\n",
        "\n",
        "\\begin{equation}\n",
        "  V(x; \\sigma, \\gamma) = \\frac{\\Re\\left[w(z)\\right]}{\\sigma\\sqrt{2\\pi}}, \\qquad z=\\frac{x+iy}{\\sigma\\sqrt{2}}\n",
        "\\end{equation}\n",
        "\n",
        "Computing $w(z)$ is computationally expensive, so the Voigt profile is most often approximated using a pseudo-Voigt profile,\n",
        "\n",
        "\\begin{equation}\n",
        "  pV(x; \\sigma, \\gamma) = \\eta G(x;\\sigma) + (1-\\eta)L(x;\\gamma)\n",
        "\\end{equation}\n",
        "\n",
        "where $\\eta$ is a parameter bound between 0 and 1 that shifts the profile towards pure Gaussian or pure Lorentzian when approaching 1 or 0, respectively."
      ]
    },
    {
      "cell_type": "markdown",
      "metadata": {
        "id": "R5RUSE_V-K_y"
      },
      "source": [
        "### Lorentzian Fit\n",
        "\n",
        "The function below defines a Lorentzian line shape that is callable by `scipy.optimize.curve_fit()`. The parameters being estimated are the location of the resonant frequency, the amplitude of the peak, and the width of the peak."
      ]
    },
    {
      "cell_type": "code",
      "execution_count": 18,
      "metadata": {
        "id": "qB7jiJyw13HT"
      },
      "outputs": [],
      "source": [
        "def lorentzian(x, x0, amp, gamma):\n",
        "    \"\"\" Callable Lorentzian distribution for use with `scipy.optimize.curve_fit() \"\"\"\n",
        "    loc_param = (x - x0)**2     # est. location param - peak location\n",
        "    scl_param = gamma**2        # scale param specifying FWHM\n",
        "\n",
        "    # Probability density function for Lorentzian distribution \n",
        "    lorentz_pdf = (amp/PI) * (gamma / (loc_param + scl_param))\n",
        "\n",
        "    return lorentz_pdf"
      ]
    },
    {
      "cell_type": "markdown",
      "metadata": {
        "id": "EKf4auqP_J3B"
      },
      "source": [
        "The curve fitting algorithm provided by `scipy` works best with initial guesses for the parameters. The peak locations and amplitudes may be robustly determined from the `scipy.signal.find_peaks()` peak finding algorithm by thresholding valid peaks to a peak prominence limited by the signal-to-noise ratio (SNR) of the frequency spectrum."
      ]
    },
    {
      "cell_type": "code",
      "execution_count": 19,
      "metadata": {
        "id": "h1jroIEN62pR"
      },
      "outputs": [],
      "source": [
        "def fit_spectrum_lorentzian(ft_spectrum_table):\n",
        "    \"\"\" Fits the Fourier transform spectrum to a Lorentzian PDF for parameter estimation \"\"\"\n",
        "    popt_table = []\n",
        "\n",
        "    # peak prominence threshold determined from SNR\n",
        "    snr_pdiff = 0.049\n",
        "\n",
        "    for spectrum in ft_spectrum_table:\n",
        "        # Determine index of maximum amplitude\n",
        "        # peaks = np.argmax(spectrum) # Less robust than peak finding\n",
        "\n",
        "        # Determines peak based on prominence of peak relative to depth of side lobes\n",
        "        # Adjust prominence until desired number of peaks are found\n",
        "        peaks, _ = scipy.signal.find_peaks(\n",
        "            x           = spectrum, \n",
        "            prominence  = snr_pdiff\n",
        "            )\n",
        "        amp_at_center_frq = int(peaks[0])\n",
        "\n",
        "        # Estimate the the amplitude and location (x0) from the amp_at_center_frq\n",
        "        amp_pred = spectrum[amp_at_center_frq]\n",
        "        frq_pred = xfrq[amp_at_center_frq]\n",
        "\n",
        "        # Return optimized parameters, discard covariance matrix\n",
        "        optimized_parameters, *_ = scipy.optimize.curve_fit(\n",
        "            f       = lorentzian,\n",
        "            xdata   = xfrq, \n",
        "            ydata   = spectrum, \n",
        "            method  = 'lm', \n",
        "            p0      = [frq_pred, amp_pred, 100]\n",
        "        )\n",
        "\n",
        "        popt_table.append(optimized_parameters)\n",
        "\n",
        "    return np.asarray(popt_table)"
      ]
    },
    {
      "cell_type": "markdown",
      "source": [
        "The table of best-fit parameters determined by `scipy.optimize.curve_fit()` is stored in the `opt_params` variable."
      ],
      "metadata": {
        "id": "G4JHKPxtNCtc"
      }
    },
    {
      "cell_type": "code",
      "source": [
        "opt_params = fit_spectrum_lorentzian(ft_table)"
      ],
      "metadata": {
        "id": "LXfgkxUDM_MH"
      },
      "execution_count": 20,
      "outputs": []
    },
    {
      "cell_type": "markdown",
      "metadata": {
        "id": "kegsUf60AK-i"
      },
      "source": [
        "## The Neural Network\n",
        "\n",
        "The ANN below is of similar architecture to the one used in Exercise 1. The major difference is the number of training parameters in the network. The input layer remains the same as the first network, but the final layer yields only 3 outputs - the location of the resonant frequency, the amplitude of the peak, and the width of the curve."
      ]
    },
    {
      "cell_type": "markdown",
      "metadata": {
        "id": "bwonDcAjJb6G"
      },
      "source": [
        "### Exercise 2\n",
        "\n",
        "Unlike the linear transformation from an FID to its frequency spectrum in Exercise 1, there exist much more complex relationships between the input and output data in the following ANN due to the addition of a curve-fitting task which the network must learn.\n",
        "\n",
        "\\\n",
        "Activation functions are especially important for elucidating these complex relationships. Without them, the model behaves as if it only has a single layer and important weights cannot be updated as quickly. In short, the activation functions introduce non-linearity.\n",
        "\n",
        "\n",
        "---\n",
        "\n",
        "**Exercise 2.1** Revisit the activation functions introduced in Exercise 1. Tune the `activation` hyperparameter using some of the more advanced functions available in the [Keras Activation Function API](https://keras.io/api/layers/activations/) documentation. Note how these functions alter the model's ability to converge upon a solution.\n",
        "\n",
        "\\\n",
        "Aside from the activation function, all of the same hyperparameters from the network in Exercise 1.1 exist in this network, e.g. the number of layers and the number of nodes within each layer, the learning rate, momentum, etc.\n",
        "\n",
        "\n",
        "---\n",
        "\n",
        "**Exercise 2.2** This model is overfitting. Revisit the discussion on **Regularization** in Exercise 1, and tune the hyperparameters to seek some improvement. Change the `monitor` option in the early stopping callback to monitor `val_loss` instead of `loss`. In addition to the suggestions in Exercise 1, the model may be overly complex or more samples may be needed for training. Again, these are all tunable hyperparameters that may need adjustment over the course of designing the network. Check the tuning results against the figure at the end of this section - run it several times to compare against several randomly selected FIDs. If the results are unsatisfactory, tune the parameters again and continue to attempt to minimize `val_loss`."
      ]
    },
    {
      "cell_type": "code",
      "execution_count": null,
      "metadata": {
        "id": "1c_6MTS-7Bh6"
      },
      "outputs": [],
      "source": [
        "model_lorentzian = keras.models.Sequential([\n",
        "    keras.layers.Input(\n",
        "        shape       = observed_fid_table.shape[1],\n",
        "    ),\n",
        "    keras.layers.Dense(\n",
        "        units               = int(np.ceil(observed_fid_table.shape[1]/2)),\n",
        "        activation          = tf.nn.relu,\n",
        "        use_bias            = False\n",
        "    ),\n",
        "    keras.layers.Dense(\n",
        "        units               = int(np.ceil(observed_fid_table.shape[1]/4)),\n",
        "        activation          = tf.nn.relu6,\n",
        "        use_bias            = False\n",
        "    ),\n",
        "    keras.layers.Dense(\n",
        "        units               = int(np.ceil(observed_fid_table.shape[1]/8)),\n",
        "        activation          = tf.nn.relu6,\n",
        "        use_bias            = False\n",
        "    ),\n",
        "    keras.layers.Dense(\n",
        "        units               = int(np.ceil(observed_fid_table.shape[1]/16)),\n",
        "        activation          = tf.nn.selu,\n",
        "        use_bias            = False\n",
        "    ),\n",
        "    keras.layers.Dense(\n",
        "        units               = int(np.ceil(observed_fid_table.shape[1]/32)),\n",
        "        activation          = tf.nn.relu,\n",
        "        use_bias            = False\n",
        "    ),\n",
        "    keras.layers.Dense(\n",
        "        units               = int(np.ceil(observed_fid_table.shape[1]/128)),\n",
        "        activation          = tf.nn.relu,\n",
        "        use_bias            = False\n",
        "    ),\n",
        "    keras.layers.Dense(\n",
        "        activation  = None, # Linear activation in final later - regression-type problem\n",
        "        units       = opt_params.shape[1],\n",
        "    )\n",
        "])\n",
        "\n",
        "lr_schedule_fit = keras.optimizers.schedules.ExponentialDecay(\n",
        "    initial_learning_rate   = 0.2,\n",
        "    decay_steps             = 50,\n",
        "    decay_rate              = 0.96,\n",
        "    staircase               = True\n",
        "    )\n",
        "\n",
        "early_stop_callback = keras.callbacks.EarlyStopping(\n",
        "    monitor   = 'loss', # Change this to `val_loss` in order to complete Exercise 2.2\n",
        "    min_delta = 1e-4, \n",
        "    patience  = 10, \n",
        "    mode      = 'auto',\n",
        "    verbose   = 1,\n",
        "    baseline  = None\n",
        "    )\n",
        "\n",
        "model_lorentzian.compile(\n",
        "    loss        = 'mean_squared_error', \n",
        "    optimizer   = tf.keras.optimizers.SGD(\n",
        "        learning_rate   = lr_schedule_fit,\n",
        "        momentum        = 0.5,\n",
        "        clipnorm        = 1.0\n",
        "        )\n",
        "    )\n",
        "\n",
        "history = model_lorentzian.fit(\n",
        "    x           = observed_fid_table, \n",
        "    y           = opt_params, \n",
        "    epochs      = 300, \n",
        "    batch_size  = 25,\n",
        "    # Train on 80% of the input data, validate on 20%\n",
        "    # validation_split  = 0.2,\n",
        "    callbacks   = [early_stop_callback]\n",
        "    )"
      ]
    },
    {
      "cell_type": "markdown",
      "metadata": {
        "id": "wJ-2k-c2Xj3F"
      },
      "source": [
        "Consider the model summary below. Note how the number of training parameters is significantly smaller compared to the number of training parameters in the network in Exercise 1."
      ]
    },
    {
      "cell_type": "code",
      "execution_count": 22,
      "metadata": {
        "colab": {
          "base_uri": "https://localhost:8080/"
        },
        "id": "JGGxGRb1e4up",
        "outputId": "13af8177-292e-477f-c1a7-749b928e2cab"
      },
      "outputs": [
        {
          "output_type": "stream",
          "name": "stdout",
          "text": [
            "Model: \"sequential_1\"\n",
            "_________________________________________________________________\n",
            " Layer (type)                Output Shape              Param #   \n",
            "=================================================================\n",
            " dense_2 (Dense)             (None, 2000)              8000000   \n",
            "                                                                 \n",
            " dense_3 (Dense)             (None, 1000)              2000000   \n",
            "                                                                 \n",
            " dense_4 (Dense)             (None, 500)               500000    \n",
            "                                                                 \n",
            " dense_5 (Dense)             (None, 250)               125000    \n",
            "                                                                 \n",
            " dense_6 (Dense)             (None, 125)               31250     \n",
            "                                                                 \n",
            " dense_7 (Dense)             (None, 32)                4000      \n",
            "                                                                 \n",
            " dense_8 (Dense)             (None, 3)                 99        \n",
            "                                                                 \n",
            "=================================================================\n",
            "Total params: 10,660,349\n",
            "Trainable params: 10,660,349\n",
            "Non-trainable params: 0\n",
            "_________________________________________________________________\n"
          ]
        }
      ],
      "source": [
        "model_lorentzian.summary()"
      ]
    },
    {
      "cell_type": "markdown",
      "metadata": {
        "id": "ubQtwm0Dc5vI"
      },
      "source": [
        "### ANN Predictions\n",
        "\n",
        "An FID may be submitted to the model via the `predict()` method, which will return the neural network's estimation of the frequency spectrum's best curve-fit parameters, in the form \n",
        "```\n",
        "[frequency, amplitude, fwhm]\n",
        "```\n",
        "where `amplitude` and `fwhm` correspond to the distribution-specific parameters (e.g. $A$ and $\\gamma$ for the Lorentzian line shape) that influence those properties of the curve."
      ]
    },
    {
      "cell_type": "code",
      "execution_count": 23,
      "metadata": {
        "id": "KWhQLv2nenFo"
      },
      "outputs": [],
      "source": [
        "def nn_lorentzian(input):\n",
        "  prediction = model_lorentzian.predict(input[np.newaxis])[0]\n",
        "  return prediction"
      ]
    },
    {
      "cell_type": "code",
      "source": [
        "#@title ANN Predictions Visualized\n",
        "#@markdown Press the `Play` button on the left side of the cell to visualize the ANN predictions for a randomly generated FID. \n",
        "#@markdown On the left is the submitted FID, in the center is a radar plot of the real and predicted fit parameters, and on the right is a superimposition of the ANN prediction and the real Lorentzian curve output for the best-fit parameters for the resonant frequency peak of that FID's FFT.\n",
        "#@markdown Check the results of hyperparameter tuning against the output in this figure.\n",
        "#@markdown\n",
        "#@markdown ---\n",
        "#@markdown **Exercise 1.1.6** Run this code several times and observe how the network's estimated best-fit parameters compare to those determined from the resonant frequency peak of the FID's FFT.\n",
        "# Be patient - this function takes some time to run\n",
        "def all_nn_lorentzian(fid_input_table):\n",
        "  prediction_table = []\n",
        "\n",
        "  for fid in fid_input_table:\n",
        "    fid_fit = nn_lorentzian(fid)\n",
        "    prediction_table.append(fid_fit)\n",
        "\n",
        "  return prediction_table\n",
        "\n",
        "nn_test_fit_predictions = all_nn_lorentzian(test_fid_table)\n",
        "ft_test_fit_actual  = fit_spectrum_lorentzian(transform_fid_table(test_fid_table))\n",
        "\n",
        "total_sample_num = len(rf_mix_frequency) * len(spin2_relaxation)\n",
        "test_sample_num = total_sample_num - acq_fid_num\n",
        "\n",
        "random_sample_n = rng.integers(low = 0, high = test_sample_num)\n",
        "\n",
        "nn_curve_table = []\n",
        "ft_curve_table = []\n",
        "\n",
        "for fit in nn_test_fit_predictions:\n",
        "  nn = lorentzian(xfrq, fit[0], fit[1], fit[2])\n",
        "  nn_curve_table.append(nn)\n",
        "\n",
        "for fit in ft_test_fit_actual:\n",
        "  ft = lorentzian(xfrq, fit[0], fit[1], fit[2])\n",
        "  ft_curve_table.append(ft)\n",
        "\n",
        "random_fid        = test_fid_table[random_sample_n]\n",
        "random_nn_output  = nn_curve_table[random_sample_n]\n",
        "random_ft_output  = ft_curve_table[random_sample_n]\n",
        "\n",
        "#*_, ax = plt.subplots(1, 2, figsize = (17, 5))\n",
        "fig = plt.figure(figsize=(22,5))\n",
        "ax0 = plt.subplot(131)\n",
        "sb.lineplot(x = time, y = random_fid, ax = ax0, label = 'FID')\n",
        "\n",
        "def make_wrap(lst):\n",
        "  return (lambda x: [*x, x[0]])(lst)\n",
        "\n",
        "curve_params = make_wrap(['Frequency (MHz)', 'Amplitude', 'Width'])\n",
        "\n",
        "nn_test_fit_predictions_mutate  = np.copy(nn_test_fit_predictions)\n",
        "ft_test_fit_actual_mutate       = np.copy(ft_test_fit_actual)\n",
        "\n",
        "for prediction in nn_test_fit_predictions_mutate:\n",
        "  prediction[0] /= 1000\n",
        "  #prediction[0] = np.log(prediction[0])\n",
        "\n",
        "for bestfit in ft_test_fit_actual_mutate:\n",
        "  #bestfit[0] = np.log(bestfit[0])\n",
        "  bestfit[0] /= 1000\n",
        "\n",
        "netw_params = make_wrap(nn_test_fit_predictions_mutate[random_sample_n])\n",
        "real_params = make_wrap(ft_test_fit_actual_mutate[random_sample_n])\n",
        "\n",
        "label_loc = np.linspace(start=0, stop=2 * np.pi, num=len(netw_params))\n",
        "\n",
        "#plt.figure(figsize=(8, 8))\n",
        "ax3 = plt.subplot(132, polar=True)\n",
        "plt.plot(label_loc, netw_params, label='ANN Predicted Params')\n",
        "plt.plot(label_loc, real_params, label='FFT Best-Fit Params')\n",
        "plt.title('Comparison of Real vs Predicted Lorentzian Fit Parameters')\n",
        "lines, labels = plt.thetagrids(np.degrees(label_loc), labels=curve_params)\n",
        "plt.legend()\n",
        "\n",
        "\n",
        "ax1 = plt.subplot(133)\n",
        "sb.lineplot(x = xfrq, y = random_nn_output, ax = ax1, label = f'ANN Prediction')\n",
        "sb.lineplot(x = xfrq, y = random_ft_output, ax = ax1, label = f'FFT Best-Fit Params')\n",
        "\n",
        "\n",
        "ax0.set(title=\"Observed FID\", xlabel=\"Time (s)\", ylabel=\"Amplitude\")\n",
        "ax1.set(title=\"Real-Parameter Lorentzian vs ANN Predicted Lorentzian\", xlabel=\"Frequency (Hz)\", ylabel=\"Amplitude\")\n",
        "\n",
        "mn = np.mean([nn_test_fit_predictions[random_sample_n][0], ft_test_fit_actual[random_sample_n][0]])\n",
        "xmin = mn - 15\n",
        "xmax = mn + 15\n",
        "ax1.set_xlim(xmin, xmax)\n",
        "\n",
        "plt.show()"
      ],
      "metadata": {
        "colab": {
          "base_uri": "https://localhost:8080/",
          "height": 363
        },
        "cellView": "form",
        "id": "k8BKK8499b-B",
        "outputId": "001a0361-1afc-40c7-8138-6a7f892e5d64"
      },
      "execution_count": 144,
      "outputs": [
        {
          "output_type": "display_data",
          "data": {
            "text/plain": [
              "<Figure size 1584x360 with 3 Axes>"
            ],
            "image/png": "[encoded data removed]"
          },
          "metadata": {
            "needs_background": "light"
          }
        }
      ]
    },
    {
      "cell_type": "markdown",
      "metadata": {
        "id": "CIvJ8aQgnGc7"
      },
      "source": [
        "### Discussion\n",
        "\n",
        "Overall, the network trained on the curve fitting parameters reconstructs the frequency content of the FIDs with much higher fidelity - including the width and amplitude of the peak - than the network trained directly on the spectrum. Both networks display significant room for improvement; however, as was stressed earlier in this module, DFT computation is a poor application for a neural network due to the efficiency and exactness of modern FFT implementations. Nonetheless, the network in Exercise 2 that predicts parameters of best fit is a better problem domain for deep learning, and takes advantage of an ANN's ability to learn complex, nonlinear relationships within data.\n",
        "\n",
        "\\\n",
        "Outside of the network hyperparameters, one possible area of improvement for the network is the line shape function to which the spectrum is fit. A Lorentzian distribution was utilized initially, but NMR spectra typically fit the Voigt profile better.\n",
        "\n",
        "---\n",
        "\n",
        "**Exercise 2.3** Implement the pseudo-Voigt profile as a `curve_fit()` callable function and fit the spectra. Specific details on SciPy curve fitting may be found in the [SciPy Optimize API](https://docs.scipy.org/doc/scipy/reference/generated/scipy.optimize.curve_fit.html) documentation. Train the network on the new fit parameters and investigate whether or not - and to what degree - the differences between the learned and real spectra have been resolved. Don't forget to change the number of units in the output layer to account for any potential increase in parameters.\n",
        "\n",
        "**Exercise 2.4** Would the line shape function be considered a tunable hyperparameter?"
      ]
    }
  ],
  "metadata": {
    "accelerator": "GPU",
    "colab": {
      "collapsed_sections": [
        "_yi6QygKzXIJ"
      ],
      "name": "01_nmr_deep_learning_module.ipynb",
      "provenance": [],
      "toc_visible": true
    },
    "gpuClass": "standard",
    "kernelspec": {
      "display_name": "Python 3.10.4 ('dsecop397')",
      "language": "python",
      "name": "python3"
    },
    "language_info": {
      "codemirror_mode": {
        "name": "ipython",
        "version": 3
      },
      "file_extension": ".py",
      "mimetype": "text/x-python",
      "name": "python",
      "nbconvert_exporter": "python",
      "pygments_lexer": "ipython3",
      "version": "3.10.4"
    },
    "vscode": {
      "interpreter": {
        "hash": "c845d35f92c355c2a26648433b6a8d61f96b4ec37586d6ddc3a03bb31e580d46"
      }
    }
  },
  "nbformat": 4,
  "nbformat_minor": 0
}