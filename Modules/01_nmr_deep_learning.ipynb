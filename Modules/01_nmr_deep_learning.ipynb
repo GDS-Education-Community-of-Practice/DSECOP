{
  "nbformat": 4,
  "nbformat_minor": 0,
  "metadata": {
    "colab": {
      "name": "01_nmr_deep_learning.ipynb",
      "provenance": [],
      "collapsed_sections": [
        "_yi6QygKzXIJ"
      ],
      "include_colab_link": true
    },
    "kernelspec": {
      "name": "python3",
      "display_name": "Python 3"
    },
    "language_info": {
      "name": "python"
    },
    "accelerator": "GPU",
    "gpuClass": "standard"
  },
  "cells": [
    {
      "cell_type": "markdown",
      "metadata": {
        "id": "view-in-github",
        "colab_type": "text"
      },
      "source": [
        "<a href=\"https://colab.research.google.com/github/GDS-Education-Community-of-Practice/DSECOP/blob/atalla_nmr_module_1/Modules/01_nmr_deep_learning.ipynb\" target=\"_parent\"><img src=\"https://colab.research.google.com/assets/colab-badge.svg\" alt=\"Open In Colab\"/></a>"
      ]
    },
    {
      "cell_type": "markdown",
      "source": [
        "# NMR Spectrum Analysis Using Artificial Neural Networks\n",
        "\n",
        "\n",
        "---\n",
        "\n",
        "\n",
        "#### Authored by Sebastian W. Atalla\n",
        "##### UNC Chapel Hill | Dept. of Physics & Astronomy\n",
        "\n"
      ],
      "metadata": {
        "id": "wu9nz0gZfBTX"
      }
    },
    {
      "cell_type": "markdown",
      "source": [
        "## **Background**\n",
        "\n",
        "The Fourier transform is one of the most important concepts in signal processing. It translates an acquired signal between its time and frequency domain representations, allowing for the decomposition of a singal into its constituent frequencies, or construction of a signal from those frequencies.\n",
        "\n",
        "The Fourier transform, $F(k)$, and its inverse transformation, $f(x)$, are generally given by\n",
        "\n",
        "\\begin{equation}\n",
        "  F(k) = \\int_{-\\infty}^{\\infty} f(x) \\, e^{-2\\pi i k x} \\, dx  \n",
        "  \\qquad \\qquad\n",
        "  f(x) = \\int_{-\\infty}^{\\infty} F(k) \\, e^{2\\pi i k x} \\, dk\n",
        "\\end{equation}\n",
        "\n",
        "respectively. The Fourier transform as as defined above may be naively computed via the discrete Fourier transform (DFT) and its inverse transformation,\n",
        "\n",
        "\\begin{equation}\n",
        "  X_k = \\sum_{n=0}^{N-1} x_n \\, e^{-i\\frac{2\\pi}{N}kn}\n",
        "  \\qquad \\qquad\n",
        "  x_n = \\frac{1}{N} \\sum_{k=0}^{N-1} X_k \\, e^{i\\frac{2\\pi}{N}kn}\n",
        "\\end{equation}\n",
        "\n",
        "respectively; however, this is remarkably ineffificent compared to the modern fast Fourier transform (FFT) utilized in practically all computational domains.\n",
        "\n",
        "The Fourier transform is used to great effect in nuclear magnetic resonance (NMR) spectroscopy, which exploits the fact that different atomic species resonate at different frequencies in a magnetic field as defined by their gyromagnetic ratio – a phenomenon known as spin precession. Faraday induction is used to detect the precession of the magnetization vector of the nuclear spins, which yields the magnetization amplitude as a function of time. The DFT decomposes this signal into discrete frequencies that may be interpreted in terms of chemical shift, which is a field-independent representation of a nucleus’s resonant frequency.\n",
        "\n",
        "This same principle is utilized heavily in magnetic resonance imaging (MRI), in which images are reconstructed via a 2-dimensional FFT from data collected by the MRI machine in *k-space*, which represents spatial frequencies in the acquired image."
      ],
      "metadata": {
        "id": "Xj-yOalNgFNQ"
      }
    },
    {
      "cell_type": "markdown",
      "source": [
        "## Deep Learning Applications\n",
        "\n",
        "Deep learning is a sub-discipline of machine learning that encompasses the concept of neural networks. Theoretically, neural networks scale better than traditional computational methods for large amounts of data. This is particularly important for signal processing, since some datasets (e.g., magnetic resonance imaging data) can be extremely large. Deep learning algorithms attempt to learn features about the data; however, in the context of traditional computation and the DFT, the features are intrinsic to the signal. Therein arises the point of this module – can a neural network estimate the frequency content of a signal? "
      ],
      "metadata": {
        "id": "3AokNer4m5Jm"
      }
    },
    {
      "cell_type": "markdown",
      "source": [
        "### **Disclaimer**\n",
        "\n",
        "The FFT algorithm is efficient and exact. Practically, the Fourier transform is a poor application of deep learning; however, the exactness of the computation (which provides a ground truth for the network's predictions) and the litany of features that may be discerned from the data render it a good thought experiment for learning about neural net architecture and feature engineering."
      ],
      "metadata": {
        "id": "97cLa9nqnQP6"
      }
    },
    {
      "cell_type": "markdown",
      "source": [
        "## Preparation\n",
        "\n",
        "Packages, constants, and generates are imported and defined in the following cells."
      ],
      "metadata": {
        "id": "_yi6QygKzXIJ"
      }
    },
    {
      "cell_type": "code",
      "execution_count": null,
      "metadata": {
        "id": "RONFUD8o0BZm"
      },
      "outputs": [],
      "source": [
        "# Computation\n",
        "import numpy as np\n",
        "from numpy.random import default_rng\n",
        "import scipy\n",
        "import scipy.optimize\n",
        "import scipy.signal\n",
        "import scipy.integrate\n",
        "\n",
        "# Visualization\n",
        "import matplotlib.pyplot as plt\n",
        "import matplotlib.patches as mpatches\n",
        "import seaborn as sb\n",
        "\n",
        "#  Machine learning\n",
        "import tensorflow as tf\n",
        "from tensorflow import keras"
      ]
    },
    {
      "cell_type": "code",
      "source": [
        "# If problems arise while editing NN parameters, run this cell to clear persistent graph data.\n",
        "tf.keras.backend.clear_session()"
      ],
      "metadata": {
        "id": "hataIPLR0J6T"
      },
      "execution_count": null,
      "outputs": []
    },
    {
      "cell_type": "code",
      "source": [
        "# Define a constant for pi since `np.pi` is clumsy, and it's preferable to not import it\n",
        "PI = np.pi\n",
        "\n",
        "# Random generator\n",
        "rng = np.random.default_rng()"
      ],
      "metadata": {
        "id": "7lcQ3JoP0TBY"
      },
      "execution_count": null,
      "outputs": []
    },
    {
      "cell_type": "markdown",
      "source": [
        "# **Exercise 1** Estimation of FID Frequency Content from FFT\n",
        "\n",
        "This exercise explores the fidelity of a neural net trained on an NMR signal and the frequency content from that signal's FFT. The signals are simulated from the expression describing a free induction decay (FID), a waveform prevalent in the common single-pulse sequences used in NMR spectroscopy.\n",
        "\n",
        "An FID may be described by\n",
        "\n",
        "\\begin{equation}\n",
        "  FID = \\sin{(\\omega_0 t)} \\, e^{-t/T_2^*}\n",
        "\\end{equation}\n",
        "\n",
        "where $\\omega_0$ and $t$ are of the usual formulation in signal processing, and $T_2^*$ is the effective decay in transverse magnetization of the nucleus being measured."
      ],
      "metadata": {
        "id": "R8q7XuGPo2Eb"
      }
    },
    {
      "cell_type": "markdown",
      "source": [
        "The NMR spectrometer detects a signal as a series of voltages, which must be digitized by an analog-to-digital (ADC) converter, which binarizes the signal for use on a computer. Sampling by the ADC occurs in regular intervals, which yields the datapoints seen in the FID.\n",
        "\n",
        "The sampling rate of the ADC must be fast enough that important information in the signal is not lost. The minimum sampling rate, $Δ$, needed to render an accurate signal is\n",
        "\n",
        "\\begin{equation}\n",
        "  \\Delta = \\frac{1}{2\\,f_{max}}\n",
        "\\end{equation}\n",
        "\n",
        "where $f_{max}$ is the *Nyquist frequency*.\n",
        "\n",
        "The Nyquist limit is problematic because NMR frequencies are on the order of megahertz. An ADC cannot digitize fast enough to capture this signal. The solution to this is *RF mixing*, in which two frequencies (typically the observed frequency and a reference frequency) are multiplied to yield sinusoids of sums and differences of the two frequencies,\n",
        "\n",
        "\\begin{equation}\n",
        "  A\\cos{(\\omega_0 t)} \\, \\times \\, A\\cos{(\\omega_{rx} t)} =\n",
        "  \\frac{1}{2}A \\big[ \\cos{ \\big( (\\omega_0 + \\omega_{rx})t \\big)}\\big] + \\cos{ \\big( (\\omega_0 - \\omega_{rx})t \\big)}\\big]\n",
        "\\end{equation}\n",
        "\n",
        "where $\\omega_0$ is the Larmor frequency, and $\\omega_{rx}$ is the reference frequency. After applying a low-pass filter, the signal of interest is now simply\n",
        "\n",
        "\\begin{equation}\n",
        "  S = \\frac{1}{2}A\\left[\\cos{ \\big( (\\omega_0 - \\omega_{rx})t \\big)}\\right] = \\frac{1}{2}A\\left[\\cos{ (\\omega_{\\text{mix}})t)}\\right]\n",
        "\\end{equation}\n",
        "\n",
        "in which $\\omega_{\\text{mix}}$ is a frequency that may now be sampled by the ADC."
      ],
      "metadata": {
        "id": "3XeEelchsyFa"
      }
    },
    {
      "cell_type": "markdown",
      "source": [
        "## Signal Data\n",
        "\n",
        "The FIDs will be simulated from an array of RF-mixed frequencies spanning 50 Hz to 1 kHz. A series of $T_2^*$ relaxation times will also be used to emulate the spectra in various media (e.g. tissue, water, fat, etc.). "
      ],
      "metadata": {
        "id": "sGURVRokyUfB"
      }
    },
    {
      "cell_type": "code",
      "source": [
        "# RF=mixed frequencies from 50 Hz to 1 kHz\n",
        "rf_mix_frequency = np.linspace(50, 1000, num=50, endpoint=True)\n",
        "\n",
        "# T2 spin-spin relaxation times for proton in various media\n",
        "spin2_relaxation = np.linspace(0.1, 4, num=25, endpoint=True) # Seconds\n",
        "\n",
        "# Nyquist limit for highest frequencu; satisfies all Nyquist limit reqs. for lower frequencies\n",
        "min_sampling_freq = 2 * rf_mix_frequency.max() # Hertz\n",
        "\n",
        "# Sampling that satisfies the Nyquist limit for the highest RF-mixed frequency\n",
        "time = np.arange(0, 1, 1/(2*min_sampling_freq)) # Seconds"
      ],
      "metadata": {
        "id": "F7Hk-Uab0Xl8"
      },
      "execution_count": null,
      "outputs": []
    },
    {
      "cell_type": "code",
      "source": [
        "def fid_sim(w0, t, T2, phase_shift = 0):\n",
        "   \"\"\" Simulates a free induction decay (FID). \"\"\"\n",
        "   return np.sin(2*PI * w0 * t + phase_shift) * np.exp(-t/T2)"
      ],
      "metadata": {
        "id": "MKeV6f8i0mXo"
      },
      "execution_count": null,
      "outputs": []
    },
    {
      "cell_type": "code",
      "source": [
        "# At least one of the args needs to be Iterable to make a table; for simplicity, enforce it on all args\n",
        "def make_fid_table(frequency, timepts, relaxation):\n",
        "   \"\"\" Constructs a table of simulated FIDs. \"\"\"\n",
        "   # Use list for efficient append\n",
        "   fid_table = []\n",
        "\n",
        "   # `sz_dim` is the number of signals generated\n",
        "   sz_dim = len(frequency) * len(relaxation)\n",
        "\n",
        "   # Generate amplitude scaling and phase shifting factors to introduce more variance\n",
        "   amplitude_scale_table   = rng.uniform(1, 10, sz_dim)\n",
        "   phase_shift_table       = rng.uniform(0, 2*PI, sz_dim)\n",
        "\n",
        "   # Iterate over each relaxation time for each frequency\n",
        "   for w0 in frequency:\n",
        "      for t2 in relaxation:\n",
        "         # Randomly select an amplitude scaling factor and phase shift\n",
        "         amp = rng.choice(amplitude_scale_table)\n",
        "         phi = rng.choice(phase_shift_table)\n",
        "\n",
        "         # Generate fid and append to the FID table\n",
        "         fid = amp * fid_sim(w0, timepts, t2, phase_shift=phi)\n",
        "         fid_table.append(fid)\n",
        "\n",
        "   # Cast the list to an ndarray\n",
        "   fid_table = np.asarray(fid_table)\n",
        "\n",
        "   # Add some Gaussian noise to better simulate a real signal\n",
        "   noise = rng.normal(-0.05, 0.05, fid_table.shape)\n",
        "   noisy_fid = fid_table + noise\n",
        "\n",
        "   # Shuffle the generated FIDs\n",
        "   rng.shuffle(noisy_fid)\n",
        "\n",
        "   return noisy_fid"
      ],
      "metadata": {
        "id": "WH2I0ILE0o8-"
      },
      "execution_count": null,
      "outputs": []
    },
    {
      "cell_type": "markdown",
      "source": [
        "The following cell contains the simulated FIDs."
      ],
      "metadata": {
        "id": "EmGVFyXhzyUk"
      }
    },
    {
      "cell_type": "code",
      "source": [
        "# Table of simulated FIDs to serve as observed NMR spectra.\n",
        "observed_fid_table = make_fid_table(rf_mix_frequency, time, spin2_relaxation)"
      ],
      "metadata": {
        "id": "Tg2iAi_e0rlB"
      },
      "execution_count": null,
      "outputs": []
    },
    {
      "cell_type": "markdown",
      "source": [
        "The next step is to compute the Fourier transform of the FIDs that have just been generated. "
      ],
      "metadata": {
        "id": "yv8bjF86zrxq"
      }
    },
    {
      "cell_type": "code",
      "source": [
        "def make_window(arr):\n",
        "    \"\"\" Windows the input array relative to a signal's upper Nyquist band. \"\"\"\n",
        "    return arr[:int(np.ceil(len(arr)/2))]\n",
        "\n",
        "def transform_fid_table(fid_table):\n",
        "    \"\"\" Computes the forward FFT of the input FID array and returns the upper Nyquist band. \"\"\"\n",
        "    # Use a list for efficient append\n",
        "    fid_transform_table = []\n",
        "\n",
        "    # Iterate over each FID in the FID table\n",
        "    for fid in fid_table:\n",
        "        # Computes forward FFT and scales with the FID length\n",
        "        fid_ft      = np.fft.fft(fid)/len(fid)\n",
        "        # Collects complex modulus of the frequency-domain signal\n",
        "        abs_ft      = np.abs(fid_ft)\n",
        "        # Windows the FFT output to the upper Nyquist band\n",
        "        win_fid_ft  = make_window(abs_ft)\n",
        "\n",
        "        fid_transform_table.append(win_fid_ft)\n",
        "\n",
        "    # Cast the list to an ndarray\n",
        "    transformed_fid_table = np.asarray(fid_transform_table)\n",
        "\n",
        "    return transformed_fid_table"
      ],
      "metadata": {
        "id": "WNF64r_91e9_"
      },
      "execution_count": null,
      "outputs": []
    },
    {
      "cell_type": "markdown",
      "source": [
        "The following cell contains the Fourier transforms of the generated FIDs."
      ],
      "metadata": {
        "id": "PGkVm5pJ0U1X"
      }
    },
    {
      "cell_type": "code",
      "source": [
        "ft_table = transform_fid_table(observed_fid_table)"
      ],
      "metadata": {
        "id": "JX46-8Og1sNm"
      },
      "execution_count": null,
      "outputs": []
    },
    {
      "cell_type": "markdown",
      "source": [
        "The follow cell is the frequency range of the signals, respective to the minimum sampling rate dictated by the highest frequency with which the FIDs were generated."
      ],
      "metadata": {
        "id": "-CMa-MG8HjHJ"
      }
    },
    {
      "cell_type": "code",
      "source": [
        "# Frequency range based on Nyquist limit\n",
        "xfrq = make_window(np.fft.fftfreq(n=len(time), d=1/(2*min_sampling_freq)))"
      ],
      "metadata": {
        "id": "YoYe1yPi6cW9"
      },
      "execution_count": null,
      "outputs": []
    },
    {
      "cell_type": "markdown",
      "source": [
        "## The Neural Network\n",
        "\n",
        "Can a neural network learn to decipher the frequency content of an observed FID? The first attempt will make use of simple artificial neural network (ANN) architecture trained on the FIDs and their respective FFT. This neural network consists of sequential dense, or fully-connected, layers which forms the *model*. The dense layers have several tunable parameters, otherwise known as *hyperparameters*. The `Dense` layer is defined in Keras as\n",
        "\n",
        "```python\n",
        "tf.keras.layers.Dense(\n",
        "    units,\n",
        "    activation = None,\n",
        "    use_bias = True,\n",
        "    kernel_initializer = \"glorot_uniform\",\n",
        "    bias_initializer = \"zeros\",\n",
        "    kernel_regularizer = None,\n",
        "    bias_regularizer = None,\n",
        "    activity_regularizer = None,\n",
        "    kernel_constraint = None,\n",
        "    bias_constraint = None,\n",
        "    **kwargs)\n",
        "```\n",
        "where the arguments provided represent the default values instantiated by Keras.\n",
        "\n",
        "Some of the most commonly tuned hyperparameters are `units`, which corresponds the output dimensions of the layer (i.e. the number of *nodes*), and `activation` to specify which activation function should be used. The number of layers in the model is also a tunable hyperparameter.\n",
        "\n",
        "An important note about hyperparameters is that they are not universally constant - they require tuning by the user. This means that a network will potentially undergo many iterations before the quality of its predictions is satisfactory to the user.\n"
      ],
      "metadata": {
        "id": "day-kCYr1HsN"
      }
    },
    {
      "cell_type": "markdown",
      "source": [
        "The largest hurdle in developing a neural network is understanding what the network is supposed to be solving. In the forward direction, the FFT is a linear transformation between the time-domain and frequency-domain representations of a signal. Thus, it behaves more like a regression than a classification. This immediately limits our choice of activation function, making the `activation` hyperparameter simple to tune.\n",
        "\n",
        "Keras maintains several activation functions. Some of the most popular are `sigmoid`, `softmax`, `relu`, and `tanh`. Logit-type Functions such as `sigmoid` and `softmax` are more useful in the final layer of network classifers, since they normalize the output to a probability distribution. That means `relu`-type and `linear` activation functions are preferred, since they generally allow the output to remain unconstrained between $-\\infty$ and $\\infty$.\n",
        "\n",
        "An exaustive list of Keras's activation functions and short descriptions of each may be found in the [Keras Activation Function API](https://keras.io/api/layers/activations/#available-activations) documentation."
      ],
      "metadata": {
        "id": "Nr59M03ULpYN"
      }
    },
    {
      "cell_type": "markdown",
      "source": [
        "### Exercise 1\n",
        "\n",
        "The ANN below is able to learn an FIDs frequency content, but it has trouble learning the amplitude and spectral-width of the center frequency. Adjust the parameters shown in the `Dense` API listed above. \n",
        "\n",
        "*   Focus on units and activation functions.\n",
        "*   Leave the initializers as default - these specify how the weights and biases are initialized in the model.\n",
        "\n",
        "When using linear activation functions, the biases should be less impactful, as they will introduce a constant to the activation function that shifts the weight (akin to the intercept term $b$ of the slope-intercept form of the line equation, $y=mx+b$).\n",
        "\n",
        "\\\n",
        "The number of layers in a model is a readily tunable hyperparameter. The number of nodes in a layer is also a tunable hyperparameter. These hyperparameters represent the foundation of the model. The following ANN consists of a sequence of `Dense` layers, for which the rule of thumb is that more layers are better.$^1$\n",
        "\n",
        "---\n",
        "\n",
        "**Exercise 1.1** Try adding and removing `Dense` layers with varying numbers of nodes. Do any trends regarding the number of nodes and layers stick out? The [Keras Dense Layer API](https://keras.io/api/layers/core_layers/dense/) lists the arguments necessary for instantiating a `Dense` layer.\n",
        "\n",
        "\\\n",
        "As mentioned above, different activation functions are better suited for different problems. Using the wrong activation function can cause a neural network to yield poor output.\n",
        "\n",
        "---\n",
        "\n",
        "**Exercise 1.2** Try different activation functions in one, some, or all layers; however, limit the functions to `sigmoid`, `softmax`, `relu`, and `linear`. A linear activation function is the default value of a Keras `Dense` layer, specified by `activation = None` What differences in behavior arise when using different classes of activation function? Arguments for the activation functions may be found in the [Keras Activation Function API](https://keras.io/api/layers/activations/) documentation.\n",
        "\n",
        "\\\n",
        "Regularizers may have some value, especially LASSO/L1 regularization, which is well suited for sparse problems where less important features can have their coefficients weighted towards zero. However, each point in the DFT is a sum of every point in the time-domain signal. \n",
        "\n",
        "---\n",
        "\n",
        "**Exercise 1.3** Is this problem sparse? Try tuning (with small numbers less than 1) the `L1` regularizer at the kernel level on one, some, or all layers to see how this affects the neural network's ability to learn. This can be implemented in the `Dense` layer via\n",
        "```python\n",
        "  kernel_regularizer = keras.regularizers.L1(l1=0)\n",
        "```\n",
        "Further information about layer arguments may be found in the [Keras Layers API](https://keras.io/api/layers/core_layers/) documentation.\n",
        "\n",
        "\\\n",
        "Another important hyperparameter is the learning rate, which determines the step size at each iteration as the model minimizes the loss function. Increasing the learning rate causes the model to converge faster. If the learning rate is too high, this can cause convergence on a poor solution, but if it's too low then convergence may never occur. Decay can slow the learning rate down until a minimum solution is found. \n",
        "\n",
        "---\n",
        "\n",
        "**Excercise 1.4** Tune the hyperparameters in `lr_schedule` and observe the effect on `loss` and `val_loss`. Learning rate schedules and API usage are listed in the [Keras Learning Schedule API](https://keras.io/api/optimizers/learning_rate_schedules/) documentation.\n",
        "\n",
        "\\\n",
        "The optimizer is the function that minimizes the loss function. The optimizer used in this network is *Stochastic Gradient Descent* (SGD), and the loss function is the *mean squared error* (MSE). SGD finds the derivatives of the loss function in order to find local minima. This method is susceptible to vanishing and exploding gradients, which result in weights being calculated as `nan`. The `clipnorm` argument in the optimizer clips exploding gradients at `1.0`. The `momentum` hyperparameter helps the optimizer maintain some degree of the previous optimization's direction with each iteration. \n",
        "\n",
        "---\n",
        "\n",
        "**Exercise 1.5** Try different optimizers and try tuning the optimization hyperparameters. From the descriptions of the optimizers, why might some be poorly suited to this problem? The possible optimizers for use with Keras models are listed in the [Keras Optimizers API](https://keras.io/api/optimizers/#available-optimizers) documentation.\n",
        "\n",
        "\\\n",
        "\n",
        "\\\n",
        "\n",
        "### References\n",
        "\n",
        "---\n",
        "\n",
        "[1] [Bengio, Yoshua. \"Practical recommendations for gradient-based training of deep architectures.\" Neural networks: Tricks of the trade. Springer Berlin Heidelberg, 2012. 437-478.](https://arxiv.org/abs/1206.5533)"
      ],
      "metadata": {
        "id": "6Rdzj3DNPvRp"
      }
    },
    {
      "cell_type": "code",
      "source": [
        "model_ft = keras.models.Sequential([\n",
        "    # Input layer\n",
        "    keras.layers.Input(\n",
        "        shape = observed_fid_table.shape[1]\n",
        "    ),\n",
        "    # Hidden layer 1\n",
        "    keras.layers.Dense(\n",
        "        #activation  = tf.nn.relu,\n",
        "        units       = observed_fid_table.shape[1],\n",
        "        use_bias    = False,\n",
        "        kernel_regularizer = keras.regularizers.L1(\n",
        "            l1 = 1e-4\n",
        "        )\n",
        "    ),\n",
        "    # Hidden layer 2\n",
        "    keras.layers.Dense(\n",
        "        #activation  = tf.nn.relu,\n",
        "        units       = int(np.ceil(observed_fid_table.shape[1]/2)),\n",
        "        use_bias    = False\n",
        "    ),\n",
        "    # Hidden layer 3\n",
        "    keras.layers.Dense(\n",
        "        #activation  = tf.nn.relu,\n",
        "        units       = int(np.ceil(observed_fid_table.shape[1]/2)),\n",
        "        use_bias    = False\n",
        "    ),\n",
        "    # Output layer\n",
        "    keras.layers.Dense(\n",
        "        # Linear activation - regression-type problem\n",
        "        units       = ft_table.shape[1],\n",
        "        use_bias    = False\n",
        "    )\n",
        "])\n",
        "\n",
        "# Callback to stop the model early based on `val_loss` to prevent overfitting\n",
        "early_stop_callback = keras.callbacks.EarlyStopping(\n",
        "    monitor   = 'val_loss', \n",
        "    min_delta = 1e-4, \n",
        "    patience  = 10, \n",
        "    mode      = 'auto',\n",
        "    verbose   = 1,\n",
        "    baseline  = None\n",
        "    )\n",
        "\n",
        "# Learning rate schedule to decrease the learning rate over the training period\n",
        "lr_schedule = keras.optimizers.schedules.ExponentialDecay(\n",
        "    initial_learning_rate   = 0.1,\n",
        "    decay_steps             = 500,\n",
        "    decay_rate              = 0.96\n",
        ")\n",
        "\n",
        "model_ft.compile(\n",
        "    loss        = 'mean_squared_error', \n",
        "    optimizer   = tf.keras.optimizers.SGD(\n",
        "        learning_rate = lr_schedule,\n",
        "        momentum      = 0.5,\n",
        "        # Prevents vanishing/exploding gradients\n",
        "        clipnorm      = 1.0\n",
        "        )\n",
        "    )\n",
        "\n",
        "model_ft.fit(\n",
        "    x                 = observed_fid_table, \n",
        "    y                 = ft_table, \n",
        "    epochs            = 300, \n",
        "    batch_size        = 50,\n",
        "    # Train on 80% of the input data, validate on 20%\n",
        "    validation_split  = 0.2,\n",
        "    verbose           = 1,\n",
        "    callbacks         = [early_stop_callback]\n",
        "    )"
      ],
      "metadata": {
        "id": "FIYgwHix1veg",
        "colab": {
          "base_uri": "https://localhost:8080/"
        },
        "outputId": "725b930a-4dbc-41d2-9c60-b72d2b7b62b8"
      },
      "execution_count": null,
      "outputs": [
        {
          "output_type": "stream",
          "name": "stdout",
          "text": [
            "Epoch 1/300\n",
            "20/20 [==============================] - 4s 23ms/step - loss: 27.9778 - val_loss: 23.1005\n",
            "Epoch 2/300\n",
            "20/20 [==============================] - 0s 15ms/step - loss: 22.3918 - val_loss: 22.0287\n",
            "Epoch 3/300\n",
            "20/20 [==============================] - 0s 15ms/step - loss: 21.7935 - val_loss: 21.6280\n",
            "Epoch 4/300\n",
            "20/20 [==============================] - 0s 14ms/step - loss: 21.3940 - val_loss: 21.2968\n",
            "Epoch 5/300\n",
            "20/20 [==============================] - 0s 15ms/step - loss: 21.0297 - val_loss: 20.9193\n",
            "Epoch 6/300\n",
            "20/20 [==============================] - 0s 14ms/step - loss: 20.6583 - val_loss: 20.4908\n",
            "Epoch 7/300\n",
            "20/20 [==============================] - 0s 15ms/step - loss: 20.2957 - val_loss: 20.0796\n",
            "Epoch 8/300\n",
            "20/20 [==============================] - 0s 14ms/step - loss: 19.8747 - val_loss: 19.6795\n",
            "Epoch 9/300\n",
            "20/20 [==============================] - 0s 15ms/step - loss: 19.4736 - val_loss: 19.2706\n",
            "Epoch 10/300\n",
            "20/20 [==============================] - 0s 15ms/step - loss: 19.0511 - val_loss: 18.8747\n",
            "Epoch 11/300\n",
            "20/20 [==============================] - 0s 14ms/step - loss: 18.6419 - val_loss: 18.4599\n",
            "Epoch 12/300\n",
            "20/20 [==============================] - 0s 14ms/step - loss: 18.2334 - val_loss: 17.9957\n",
            "Epoch 13/300\n",
            "20/20 [==============================] - 0s 15ms/step - loss: 17.7796 - val_loss: 17.5725\n",
            "Epoch 14/300\n",
            "20/20 [==============================] - 0s 15ms/step - loss: 17.2887 - val_loss: 17.0425\n",
            "Epoch 15/300\n",
            "20/20 [==============================] - 0s 15ms/step - loss: 16.8414 - val_loss: 16.6051\n",
            "Epoch 16/300\n",
            "20/20 [==============================] - 0s 15ms/step - loss: 16.3354 - val_loss: 16.0951\n",
            "Epoch 17/300\n",
            "20/20 [==============================] - 0s 15ms/step - loss: 15.8069 - val_loss: 15.5550\n",
            "Epoch 18/300\n",
            "20/20 [==============================] - 0s 15ms/step - loss: 15.3040 - val_loss: 15.0588\n",
            "Epoch 19/300\n",
            "20/20 [==============================] - 0s 15ms/step - loss: 14.8061 - val_loss: 14.5651\n",
            "Epoch 20/300\n",
            "20/20 [==============================] - 0s 15ms/step - loss: 14.3275 - val_loss: 14.0854\n",
            "Epoch 21/300\n",
            "20/20 [==============================] - 0s 15ms/step - loss: 13.8406 - val_loss: 13.5961\n",
            "Epoch 22/300\n",
            "20/20 [==============================] - 0s 15ms/step - loss: 13.3438 - val_loss: 13.1057\n",
            "Epoch 23/300\n",
            "20/20 [==============================] - 0s 15ms/step - loss: 12.8599 - val_loss: 12.6309\n",
            "Epoch 24/300\n",
            "20/20 [==============================] - 0s 15ms/step - loss: 12.3968 - val_loss: 12.1747\n",
            "Epoch 25/300\n",
            "20/20 [==============================] - 0s 14ms/step - loss: 11.9453 - val_loss: 11.7169\n",
            "Epoch 26/300\n",
            "20/20 [==============================] - 0s 15ms/step - loss: 11.4928 - val_loss: 11.2824\n",
            "Epoch 27/300\n",
            "20/20 [==============================] - 0s 15ms/step - loss: 11.0499 - val_loss: 10.8335\n",
            "Epoch 28/300\n",
            "20/20 [==============================] - 0s 14ms/step - loss: 10.6167 - val_loss: 10.4053\n",
            "Epoch 29/300\n",
            "20/20 [==============================] - 0s 14ms/step - loss: 10.1921 - val_loss: 9.9863\n",
            "Epoch 30/300\n",
            "20/20 [==============================] - 0s 15ms/step - loss: 9.7784 - val_loss: 9.5766\n",
            "Epoch 31/300\n",
            "20/20 [==============================] - 0s 15ms/step - loss: 9.3740 - val_loss: 9.1765\n",
            "Epoch 32/300\n",
            "20/20 [==============================] - 0s 14ms/step - loss: 8.9789 - val_loss: 8.7855\n",
            "Epoch 33/300\n",
            "20/20 [==============================] - 0s 15ms/step - loss: 8.5932 - val_loss: 8.4041\n",
            "Epoch 34/300\n",
            "20/20 [==============================] - 0s 15ms/step - loss: 8.2164 - val_loss: 8.0310\n",
            "Epoch 35/300\n",
            "20/20 [==============================] - 0s 15ms/step - loss: 7.8486 - val_loss: 7.6677\n",
            "Epoch 36/300\n",
            "20/20 [==============================] - 0s 15ms/step - loss: 7.4898 - val_loss: 7.3127\n",
            "Epoch 37/300\n",
            "20/20 [==============================] - 0s 15ms/step - loss: 7.1400 - val_loss: 6.9673\n",
            "Epoch 38/300\n",
            "20/20 [==============================] - 0s 15ms/step - loss: 6.7991 - val_loss: 6.6309\n",
            "Epoch 39/300\n",
            "20/20 [==============================] - 0s 15ms/step - loss: 6.4673 - val_loss: 6.3028\n",
            "Epoch 40/300\n",
            "20/20 [==============================] - 0s 15ms/step - loss: 6.1442 - val_loss: 5.9838\n",
            "Epoch 41/300\n",
            "20/20 [==============================] - 0s 15ms/step - loss: 5.8297 - val_loss: 5.6739\n",
            "Epoch 42/300\n",
            "20/20 [==============================] - 0s 15ms/step - loss: 5.5241 - val_loss: 5.3725\n",
            "Epoch 43/300\n",
            "20/20 [==============================] - 0s 15ms/step - loss: 5.2272 - val_loss: 5.0796\n",
            "Epoch 44/300\n",
            "20/20 [==============================] - 0s 15ms/step - loss: 4.9388 - val_loss: 4.7954\n",
            "Epoch 45/300\n",
            "20/20 [==============================] - 0s 14ms/step - loss: 4.6593 - val_loss: 4.5201\n",
            "Epoch 46/300\n",
            "20/20 [==============================] - 0s 14ms/step - loss: 4.3881 - val_loss: 4.2529\n",
            "Epoch 47/300\n",
            "20/20 [==============================] - 0s 15ms/step - loss: 4.1254 - val_loss: 3.9945\n",
            "Epoch 48/300\n",
            "20/20 [==============================] - 0s 14ms/step - loss: 3.8714 - val_loss: 3.7445\n",
            "Epoch 49/300\n",
            "20/20 [==============================] - 0s 15ms/step - loss: 3.6258 - val_loss: 3.5034\n",
            "Epoch 50/300\n",
            "20/20 [==============================] - 0s 15ms/step - loss: 3.3885 - val_loss: 3.2701\n",
            "Epoch 51/300\n",
            "20/20 [==============================] - 0s 14ms/step - loss: 3.1597 - val_loss: 3.0455\n",
            "Epoch 52/300\n",
            "20/20 [==============================] - 0s 15ms/step - loss: 2.9393 - val_loss: 2.8292\n",
            "Epoch 53/300\n",
            "20/20 [==============================] - 0s 15ms/step - loss: 2.7270 - val_loss: 2.6211\n",
            "Epoch 54/300\n",
            "20/20 [==============================] - 0s 15ms/step - loss: 2.5230 - val_loss: 2.4215\n",
            "Epoch 55/300\n",
            "20/20 [==============================] - 0s 14ms/step - loss: 2.3275 - val_loss: 2.2300\n",
            "Epoch 56/300\n",
            "20/20 [==============================] - 0s 15ms/step - loss: 2.1399 - val_loss: 2.0465\n",
            "Epoch 57/300\n",
            "20/20 [==============================] - 0s 15ms/step - loss: 1.9605 - val_loss: 1.8713\n",
            "Epoch 58/300\n",
            "20/20 [==============================] - 0s 15ms/step - loss: 1.7894 - val_loss: 1.7043\n",
            "Epoch 59/300\n",
            "20/20 [==============================] - 0s 15ms/step - loss: 1.6262 - val_loss: 1.5449\n",
            "Epoch 60/300\n",
            "20/20 [==============================] - 0s 15ms/step - loss: 1.4712 - val_loss: 1.3942\n",
            "Epoch 61/300\n",
            "20/20 [==============================] - 0s 15ms/step - loss: 1.3242 - val_loss: 1.2513\n",
            "Epoch 62/300\n",
            "20/20 [==============================] - 0s 15ms/step - loss: 1.1852 - val_loss: 1.1164\n",
            "Epoch 63/300\n",
            "20/20 [==============================] - 0s 15ms/step - loss: 1.0541 - val_loss: 0.9893\n",
            "Epoch 64/300\n",
            "20/20 [==============================] - 0s 15ms/step - loss: 0.9310 - val_loss: 0.8704\n",
            "Epoch 65/300\n",
            "20/20 [==============================] - 0s 16ms/step - loss: 0.8159 - val_loss: 0.7594\n",
            "Epoch 66/300\n",
            "20/20 [==============================] - 0s 17ms/step - loss: 0.7087 - val_loss: 0.6562\n",
            "Epoch 67/300\n",
            "20/20 [==============================] - 0s 17ms/step - loss: 0.6093 - val_loss: 0.5608\n",
            "Epoch 68/300\n",
            "20/20 [==============================] - 0s 16ms/step - loss: 0.5177 - val_loss: 0.4732\n",
            "Epoch 69/300\n",
            "20/20 [==============================] - 0s 17ms/step - loss: 0.4340 - val_loss: 0.3936\n",
            "Epoch 70/300\n",
            "20/20 [==============================] - 0s 16ms/step - loss: 0.3582 - val_loss: 0.3219\n",
            "Epoch 71/300\n",
            "20/20 [==============================] - 0s 15ms/step - loss: 0.2900 - val_loss: 0.2577\n",
            "Epoch 72/300\n",
            "20/20 [==============================] - 0s 14ms/step - loss: 0.2295 - val_loss: 0.2012\n",
            "Epoch 73/300\n",
            "20/20 [==============================] - 0s 15ms/step - loss: 0.1768 - val_loss: 0.1524\n",
            "Epoch 74/300\n",
            "20/20 [==============================] - 0s 14ms/step - loss: 0.1318 - val_loss: 0.1117\n",
            "Epoch 75/300\n",
            "20/20 [==============================] - 0s 14ms/step - loss: 0.0944 - val_loss: 0.0777\n",
            "Epoch 76/300\n",
            "20/20 [==============================] - 0s 14ms/step - loss: 0.0646 - val_loss: 0.0520\n",
            "Epoch 77/300\n",
            "20/20 [==============================] - 0s 15ms/step - loss: 0.0424 - val_loss: 0.0332\n",
            "Epoch 78/300\n",
            "20/20 [==============================] - 0s 15ms/step - loss: 0.0270 - val_loss: 0.0213\n",
            "Epoch 79/300\n",
            "20/20 [==============================] - 0s 14ms/step - loss: 0.0179 - val_loss: 0.0148\n",
            "Epoch 80/300\n",
            "20/20 [==============================] - 0s 15ms/step - loss: 0.0135 - val_loss: 0.0121\n",
            "Epoch 81/300\n",
            "20/20 [==============================] - 0s 14ms/step - loss: 0.0115 - val_loss: 0.0113\n",
            "Epoch 82/300\n",
            "20/20 [==============================] - 0s 15ms/step - loss: 0.0111 - val_loss: 0.0110\n",
            "Epoch 83/300\n",
            "20/20 [==============================] - 0s 14ms/step - loss: 0.0108 - val_loss: 0.0107\n",
            "Epoch 84/300\n",
            "20/20 [==============================] - 0s 15ms/step - loss: 0.0108 - val_loss: 0.0106\n",
            "Epoch 85/300\n",
            "20/20 [==============================] - 0s 15ms/step - loss: 0.0107 - val_loss: 0.0108\n",
            "Epoch 86/300\n",
            "20/20 [==============================] - 0s 15ms/step - loss: 0.0108 - val_loss: 0.0105\n",
            "Epoch 87/300\n",
            "20/20 [==============================] - 0s 15ms/step - loss: 0.0108 - val_loss: 0.0106\n",
            "Epoch 88/300\n",
            "20/20 [==============================] - 0s 14ms/step - loss: 0.0108 - val_loss: 0.0107\n",
            "Epoch 89/300\n",
            "20/20 [==============================] - 0s 15ms/step - loss: 0.0107 - val_loss: 0.0105\n",
            "Epoch 90/300\n",
            "20/20 [==============================] - 0s 15ms/step - loss: 0.0107 - val_loss: 0.0104\n",
            "Epoch 91/300\n",
            "20/20 [==============================] - 0s 15ms/step - loss: 0.0107 - val_loss: 0.0107\n",
            "Epoch 92/300\n",
            "20/20 [==============================] - 0s 15ms/step - loss: 0.0107 - val_loss: 0.0107\n",
            "Epoch 93/300\n",
            "20/20 [==============================] - 0s 15ms/step - loss: 0.0106 - val_loss: 0.0105\n",
            "Epoch 94/300\n",
            "20/20 [==============================] - 0s 15ms/step - loss: 0.0107 - val_loss: 0.0111\n",
            "Epoch 95/300\n",
            "20/20 [==============================] - 0s 25ms/step - loss: 0.0107 - val_loss: 0.0105\n",
            "Epoch 96/300\n",
            "20/20 [==============================] - 0s 16ms/step - loss: 0.0107 - val_loss: 0.0103\n",
            "Epoch 97/300\n",
            "20/20 [==============================] - 0s 15ms/step - loss: 0.0106 - val_loss: 0.0108\n",
            "Epoch 98/300\n",
            "20/20 [==============================] - 0s 23ms/step - loss: 0.0107 - val_loss: 0.0103\n",
            "Epoch 99/300\n",
            "20/20 [==============================] - 0s 16ms/step - loss: 0.0106 - val_loss: 0.0104\n",
            "Epoch 100/300\n",
            "20/20 [==============================] - 0s 21ms/step - loss: 0.0106 - val_loss: 0.0105\n",
            "Epoch 101/300\n",
            "20/20 [==============================] - 0s 19ms/step - loss: 0.0106 - val_loss: 0.0106\n",
            "Epoch 102/300\n",
            "20/20 [==============================] - 0s 15ms/step - loss: 0.0106 - val_loss: 0.0103\n",
            "Epoch 103/300\n",
            "20/20 [==============================] - 0s 15ms/step - loss: 0.0105 - val_loss: 0.0105\n",
            "Epoch 104/300\n",
            "20/20 [==============================] - 0s 15ms/step - loss: 0.0106 - val_loss: 0.0104\n",
            "Epoch 105/300\n",
            "20/20 [==============================] - 0s 15ms/step - loss: 0.0105 - val_loss: 0.0105\n",
            "Epoch 106/300\n",
            "20/20 [==============================] - 0s 15ms/step - loss: 0.0106 - val_loss: 0.0103\n",
            "Epoch 106: early stopping\n"
          ]
        },
        {
          "output_type": "execute_result",
          "data": {
            "text/plain": [
              "<keras.callbacks.History at 0x7f57f0389750>"
            ]
          },
          "metadata": {},
          "execution_count": 11
        }
      ]
    },
    {
      "cell_type": "markdown",
      "source": [
        "A summary of the neural network may be seen below. The number of parameters is exceptionally large. When working with unmixed frequencies in the MHz regime, the Nyquist limit would rapidly drive the number of parameters beyond the point of overflow."
      ],
      "metadata": {
        "id": "sQQLmjkegKhs"
      }
    },
    {
      "cell_type": "code",
      "source": [
        "model_ft.summary()"
      ],
      "metadata": {
        "colab": {
          "base_uri": "https://localhost:8080/"
        },
        "id": "r_HHzsDFBCxA",
        "outputId": "763cc3a6-5ddc-4cf5-82d9-2fd68964b927"
      },
      "execution_count": null,
      "outputs": [
        {
          "output_type": "stream",
          "name": "stdout",
          "text": [
            "Model: \"sequential\"\n",
            "_________________________________________________________________\n",
            " Layer (type)                Output Shape              Param #   \n",
            "=================================================================\n",
            " dense (Dense)               (None, 4000)              16000000  \n",
            "                                                                 \n",
            " dense_1 (Dense)             (None, 2000)              8000000   \n",
            "                                                                 \n",
            " dense_2 (Dense)             (None, 2000)              4000000   \n",
            "                                                                 \n",
            " dense_3 (Dense)             (None, 2000)              4000000   \n",
            "                                                                 \n",
            "=================================================================\n",
            "Total params: 32,000,000\n",
            "Trainable params: 32,000,000\n",
            "Non-trainable params: 0\n",
            "_________________________________________________________________\n"
          ]
        }
      ]
    },
    {
      "cell_type": "markdown",
      "source": [
        "### ANN Predictions\n",
        "\n",
        "An FID may be submitted to the model via the `predict()` method, which will return the neural network's estimation of the FID's frequency spectrum."
      ],
      "metadata": {
        "id": "rwCBmKNal0Ju"
      }
    },
    {
      "cell_type": "code",
      "source": [
        "def nn_fft(input):\n",
        "    prediction = model_ft.predict(input[np.newaxis])[0]\n",
        "    return prediction"
      ],
      "metadata": {
        "id": "ggiNRpDwBEIn"
      },
      "execution_count": null,
      "outputs": []
    },
    {
      "cell_type": "code",
      "source": [
        "#all_nn_pred = np.asarray([nn_fft(x) for x in observed_fid_table])\n",
        "#all_nn_freq = [xfrq[np.argmax(x)] for x in all_nn_pred]\n",
        "#all_ft_freq = [xfrq[np.argmax(x)] for x in ft_table]"
      ],
      "metadata": {
        "id": "eBbwgpZdAunr"
      },
      "execution_count": null,
      "outputs": []
    },
    {
      "cell_type": "code",
      "source": [
        "#@title ANN Predictions Visualized\n",
        "#@markdown Press the `Play` button on the left side of the cell to visualize the ANN predictions for a randomly selected FID. On the left is the submitted FID, and on the right is a superimposition of the ANN prediction and the real FFT output for that FID.\n",
        "#@markdown The frequency in the ANN Prediction callout is the center frequency predicted by the network. Check the results of hyperparameter tuning against the output in this figure.\n",
        "#@markdown\n",
        "#@markdown ---\n",
        "#@markdown **Exercise 1.1.6** Run this code several times and observe how the network's estimated resonant frequency compares to the real frequency from the FFT.\n",
        "n_samples = len(rf_mix_frequency) * len(spin2_relaxation)\n",
        "rand_idx = rng.integers(low = 0, high = n_samples)\n",
        "rand_sample = observed_fid_table[rand_idx]\n",
        "\n",
        "nn_test = nn_fft(rand_sample)\n",
        "ft_real = make_window(np.abs(np.fft.fft(rand_sample)/len(rand_sample)))\n",
        "\n",
        "nn_peak_at = np.argmax(np.abs(nn_test))\n",
        "ft_peak_at = np.argmax(ft_real)\n",
        "peak_mean = np.mean([nn_peak_at, ft_peak_at])\n",
        "\n",
        "nn_freq = xfrq[nn_peak_at]\n",
        "ft_freq = xfrq[ft_peak_at]\n",
        "\n",
        "#*_, axis = plt.subplots(1, 3, figsize = (24, 5))\n",
        "*_, axis = plt.subplots(1, 2, figsize = (17, 5))\n",
        "sb.lineplot(x = time, y = rand_sample, ax = axis[0], label = 'FID')\n",
        "sb.lineplot(x = xfrq, y = nn_test, ax = axis[1], label = f'ANN Prediction')\n",
        "sb.lineplot(x = xfrq, y = ft_real, ax = axis[1], label = f'FFT Output')\n",
        "\n",
        "axis[0].set(title=\"Observed FID\", xlabel=\"Time (s)\", ylabel=\"Amplitude\")\n",
        "axis[1].set(title=\"FID Frequency Spectrum vs ANN Predicted Spectrum\", xlabel=\"Frequency (Hz)\", ylabel=\"Amplitude\")\n",
        "\n",
        "# Annotations\n",
        "arrow_args = dict(arrowstyle='->')\n",
        "bbox_args = dict(boxstyle='square', fc='white')\n",
        "bbox_args2 = dict(boxstyle='round', fc='white', edgecolor='gray', linewidth = 0.5)\n",
        "\n",
        "nn_amp = nn_test[nn_peak_at]\n",
        "ft_amp = ft_real[ft_peak_at]\n",
        "\n",
        "if (nn_amp < 0): \n",
        "  nn_y_annotate = nn_amp - 0.025\n",
        "else:\n",
        "  nn_y_annotate = nn_amp + 0.01\n",
        "\n",
        "axis[1].annotate(f'{nn_freq} Hz', xy=(nn_freq, nn_amp), xytext=(nn_freq + 8, nn_y_annotate), arrowprops=arrow_args, bbox=bbox_args, fontsize=12)\n",
        "axis[1].annotate(f'{ft_freq} Hz', xy=(ft_freq, ft_amp), xytext=(ft_freq - 19, ft_amp-0.075), arrowprops=arrow_args, bbox=bbox_args, fontsize=12)\n",
        "\n",
        "first_legend = axis[1].legend()\n",
        "axis[1].add_artist(first_legend)\n",
        "\n",
        "axis[1].annotate(f'Δf={np.abs(nn_freq-ft_freq)}', xy=(0.7425, 0.795), xycoords='axes fraction', bbox=bbox_args2, fontsize=12)\n",
        "\n",
        "# `np.isclose(a, b)` assumed b is the reference value\n",
        "if np.isclose(nn_peak_at, ft_peak_at, atol = 5):\n",
        "  axis[1].set_xlim(peak_mean - 50, peak_mean + 50)\n",
        "\n",
        "if (nn_amp < 0):\n",
        "  axis[1].set_ylim(nn_amp - 0.15, ft_amp + 0.1)"
      ],
      "metadata": {
        "id": "52NWx1kPBIar",
        "colab": {
          "base_uri": "https://localhost:8080/",
          "height": 350
        },
        "cellView": "form",
        "outputId": "51f4912e-1d0a-44b1-d204-e00ffa89608d"
      },
      "execution_count": null,
      "outputs": [
        {
          "output_type": "display_data",
          "data": {
            "text/plain": [
              "<Figure size 1224x360 with 2 Axes>"
            ],
            "image/png": "[encoded data removed]"
          },
          "metadata": {
            "needs_background": "light"
          }
        }
      ]
    },
    {
      "cell_type": "markdown",
      "source": [
        "### Discussion\n",
        "The neural network with the hyperparameters provided in this module was able to successfully learn the frequency content of the majority of FIDs submitted to the predictor. The network showed little capacity for learning the amplitude or spectral width of the center frequency. Some solutions to this problem are adding more layers or further tuning of the hyperparameters.\n",
        "\n",
        "There exists an alternative to the approach above. Rather than training the network on the FID and its corresponding frequency spectrum, a network may be trained on the FID and the information one expects to discern from the spectrum.\n",
        "\n",
        "This approach is advantageous because it significantly reduces the number of outputs, and subsequently the number of training parameters. The next exercise in this module will explore this approach in more depth."
      ],
      "metadata": {
        "id": "Dc8HUJcKxG4d"
      }
    },
    {
      "cell_type": "markdown",
      "source": [
        "# **Exercise 2** Estimation of Lorentzian Curve Fitting Parameters from FID Frequency Spectra\n",
        "\n",
        "In the previous exercise, it was found that the ANN failed to produce meaningful estimates of the amplitude and spectral width of the FID's center frequency. This information is important in spectroscopy. For instance, in $^1$H NMR, the area under the peak is proportional to the number of protons producing that peak. The sum of the peak integrals represents the number of hydrogens in a substance, which allows for estimation of a substance's molecular formula. Thus, without accurate amplitude and width data, predicting the center frequency is functionally useless."
      ],
      "metadata": {
        "id": "fCl7pj3vf7Sq"
      }
    },
    {
      "cell_type": "markdown",
      "source": [
        "## Curve Fitting of NMR Data\n",
        "\n",
        "Determining the location, amplitude, and spectral width of a spectrum's resonant frequency is easily done by fitting the peak to a spectral line shape function. The most common line shapes encountered in NMR are *Lorentzian*, *Gaussian*, and *Voigt*.\n",
        "\n",
        "\\\n",
        "#### **Lorentzian Distribution**\n",
        "The Lorentzian line shape function is given by its probability density function (PDF),\n",
        "\n",
        "\\begin{equation}\n",
        "  L(x; x_0, A, \\gamma) = \\frac{A}{\\pi}\\left(\\frac{\\gamma}{(x-x_0)^2 + \\gamma^2}\\right)\n",
        "\\end{equation}\n",
        "\n",
        "where $x_0$ is the location of the resonant frequency, $A$ is the amplitude, and $\\gamma$ is the FWHM corresponding to the spectral width.\n",
        "\n",
        "\\\n",
        "#### **Gaussian Distribution**\n",
        "Gaussian line shapes are similarly given by their PDF as\n",
        "\n",
        "\\begin{equation}\n",
        "  G(x; \\mu, A, \\sigma) = \\frac{A}{\\sigma\\sqrt{2\\pi}}\\exp\\left(-\\frac{(x-\\mu)^2)}{2\\sigma^2}\\right)\n",
        "\\end{equation}\n",
        "\n",
        "where $\\mu$ corresponds to the location of the resonant frequency, $A$ is again the amplitude, and $\\sigma$ is the FWHM describing the spectral width. \n",
        "\n",
        "\\\n",
        "#### **Voigt Profile**\n",
        "The Voigt profile is a convolution of the Lorentzian and Gaussian line shapes, and is given by\n",
        "\n",
        "\\begin{equation}\n",
        "  V(x; \\sigma, \\gamma) = \\int_{-\\infty}^{\\infty}\\,G(x';\\sigma)L(x-x';\\gamma)\\,dx'\n",
        "\\end{equation}\n",
        "\n",
        "There is no closed-form expression for the Voigt profile, but may be approximated from the real part of the Faddeeva function $w(z)$,\n",
        "\n",
        "\\begin{equation}\n",
        "  V(x; \\sigma, \\gamma) = \\frac{\\Re\\left[w(z)\\right]}{\\sigma\\sqrt{2\\pi}}, \\qquad z=\\frac{x+iy}{\\sigma\\sqrt{2}}\n",
        "\\end{equation}\n",
        "\n",
        "Computing $w(z)$ is computationally expensive, so the Voigt profile is most often approximated using a pseudo-Voigt profile,\n",
        "\n",
        "\\begin{equation}\n",
        "  pV(x; \\sigma, \\gamma) = \\eta G(x;\\sigma) + (1-\\eta)L(x;\\gamma)\n",
        "\\end{equation}\n",
        "\n",
        "where $\\eta$ is a parameter bound between 0 and 1 that shifts the profile towards pure Gaussian or pure Lorentzian when approaching 1 or 0, respectively."
      ],
      "metadata": {
        "id": "vDl9NSrJ1g2A"
      }
    },
    {
      "cell_type": "markdown",
      "source": [
        "### Lorentzian Fit\n",
        "\n",
        "The function below defines a Lorentzian line shape that is callable by `scipy.optimize.curve_fit()`. The parameters being estimated are the location of the resonant frequency, the amplitude of the peak, and the width of the peak."
      ],
      "metadata": {
        "id": "R5RUSE_V-K_y"
      }
    },
    {
      "cell_type": "code",
      "source": [
        "def lorentzian(x, x0, amp, gamma):\n",
        "    \"\"\" Callable Lorentzian distribution for use with `scipy.optimize.curve_fit() \"\"\"\n",
        "    loc_param = (x - x0)**2     # est. location param - peak location\n",
        "    scl_param = gamma**2        # scale param specifying FWHM\n",
        "\n",
        "    # Probability density function for Lorentzian distribution \n",
        "    lorentz_pdf = (amp/PI) * (gamma / (loc_param + scl_param))\n",
        "\n",
        "    return lorentz_pdf"
      ],
      "metadata": {
        "id": "qB7jiJyw13HT"
      },
      "execution_count": null,
      "outputs": []
    },
    {
      "cell_type": "markdown",
      "source": [
        "The curve fitting algorithm provided by `scipy` works best with initial guesses for the parameters. The peak locations and amplitudes may be robustly determined from the `scipy.signal.find_peaks()` peak finding algorithm by thresholding valid peaks to a peak prominence limited by the signal-to-noise ratio (SNR) of the frequency spectrum."
      ],
      "metadata": {
        "id": "EKf4auqP_J3B"
      }
    },
    {
      "cell_type": "code",
      "source": [
        "def fit_spectrum_lorentzian():\n",
        "    \"\"\" Fits the Fourier transform spectrum to a Lorentzian PDF for parameter estimation \"\"\"\n",
        "    popt_table = []\n",
        "\n",
        "    # peak prominence threshold determined from SNR\n",
        "    snr_pdiff = 0.049\n",
        "\n",
        "    for spectrum in ft_table:\n",
        "        # Determine index of maximum amplitude\n",
        "        # peaks = np.argmax(spectrum) # Less robust than peak finding\n",
        "\n",
        "        # Determines peak based on prominence of peak relative to depth of side lobes\n",
        "        # Adjust prominence until desired number of peaks are found\n",
        "        peaks, _ = scipy.signal.find_peaks(\n",
        "            x           = spectrum, \n",
        "            prominence  = snr_pdiff\n",
        "            )\n",
        "        amp_at_center_frq = int(peaks[0])\n",
        "\n",
        "        # Estimate the the amplitude and location (x0) from the amp_at_center_frq\n",
        "        amp_pred = spectrum[amp_at_center_frq]\n",
        "        frq_pred = xfrq[amp_at_center_frq]\n",
        "\n",
        "        # Return optimized parameters, discard covariance matrix\n",
        "        optimized_parameters, *_ = scipy.optimize.curve_fit(\n",
        "            f       = lorentzian,\n",
        "            xdata   = xfrq, \n",
        "            ydata   = spectrum, \n",
        "            method  = 'lm', \n",
        "            p0      = [frq_pred, amp_pred, 100]\n",
        "        )\n",
        "\n",
        "        popt_table.append(optimized_parameters)\n",
        "\n",
        "    return np.asarray(popt_table)\n",
        "\n",
        "opt_params = fit_spectrum_lorentzian()"
      ],
      "metadata": {
        "id": "h1jroIEN62pR"
      },
      "execution_count": null,
      "outputs": []
    },
    {
      "cell_type": "markdown",
      "source": [
        "## The Neural Network\n",
        "\n",
        "The ANN below is of similar architecture to the one used in Exercise 1. The major difference is the number of training parameters in the network. The input layer remains the same as the first network, but the final layer yields only 3 outputs - the location of the resonant frequency, the amplitude of the peak, and the width of the curve."
      ],
      "metadata": {
        "id": "kegsUf60AK-i"
      }
    },
    {
      "cell_type": "markdown",
      "source": [
        "### Exercise 2.1\n",
        "\n",
        "Unlike the linear transformation from an FID to its frequency spectrum in Exercise 1, there exist much more complex relationships between the input and output data in the following ANN due to the addition of a curve-fitting task which the network must learn.\n",
        "\n",
        "\\\n",
        "Activation functions are especially important for elucidating these complex relationships. Without them, the model behaves as if it only has a single layer and important weights cannot be updated as quickly. In short, the activation functions introduce non-linearity.\n",
        "\n",
        "\n",
        "---\n",
        "\n",
        "**Exercise 2.1** Revisit the activation functions introduced in Exercise 1. Tune the `activation` hyperparameter using some of the more advanced functions available. Note how these functions alter the convergence of the validation loss, `val_loss`.\n",
        "\n",
        "\\\n",
        "Aside from the activation function, all of the same hyperparameters from the network in Exercise 1.1 exist in this network, e.g. the number of layers and the number of nodes within each layer, the learning rate, momentum, etc.\n",
        "\n",
        "\n",
        "---\n",
        "\n",
        "**Exercise 2.2** Using Exercise 1 as a reference, tune the hyperparameters in this network so that the validation loss converges. Proceed to the next section and visualize the effect of that tuning on the network's output. If it is unsatisfactory, tune the parameters again and attempt to minimize `val_loss`."
      ],
      "metadata": {
        "id": "bwonDcAjJb6G"
      }
    },
    {
      "cell_type": "code",
      "source": [
        "model_lorentzian = keras.models.Sequential([\n",
        "    keras.layers.Input(\n",
        "        shape       = observed_fid_table.shape[1],\n",
        "    ),\n",
        "    keras.layers.Dense(\n",
        "        units               = int(np.ceil(observed_fid_table.shape[1]/2)),\n",
        "        activation          = tf.nn.swish,\n",
        "        use_bias            = False\n",
        "    ),\n",
        "    keras.layers.Dense(\n",
        "        units               = int(np.ceil(observed_fid_table.shape[1]/4)),\n",
        "        activation          = tf.nn.relu6,\n",
        "        use_bias            = False\n",
        "    ),\n",
        "    keras.layers.Dense(\n",
        "        units               = int(np.ceil(observed_fid_table.shape[1]/8)),\n",
        "        activation          = tf.nn.relu6,\n",
        "        use_bias            = False\n",
        "    ),\n",
        "    keras.layers.Dense(\n",
        "        units               = int(np.ceil(observed_fid_table.shape[1]/16)),\n",
        "        activation          = tf.nn.selu,\n",
        "        use_bias            = False\n",
        "    ),\n",
        "    keras.layers.Dense(\n",
        "        units               = int(np.ceil(observed_fid_table.shape[1]/32)),\n",
        "        activation          = tf.nn.relu,\n",
        "        use_bias            = False\n",
        "    ),\n",
        "    keras.layers.Dense(\n",
        "        units               = int(np.ceil(observed_fid_table.shape[1]/128)),\n",
        "        activation          = tf.nn.relu,\n",
        "        use_bias            = False\n",
        "    ),\n",
        "    keras.layers.Dense(\n",
        "        # Linear activation in final later - regression-type problem\n",
        "        activation  = None,\n",
        "        units       = opt_params.shape[1],\n",
        "    )\n",
        "])\n",
        "\n",
        "lr_schedule_fit = keras.optimizers.schedules.ExponentialDecay(\n",
        "    initial_learning_rate   = 0.2,\n",
        "    decay_steps             = 50,\n",
        "    decay_rate              = 0.96,\n",
        "    staircase               = True\n",
        "    )\n",
        "\n",
        "early_stop_callback = keras.callbacks.EarlyStopping(\n",
        "    monitor   = 'loss', \n",
        "    min_delta = 1e-4, \n",
        "    patience  = 10, \n",
        "    mode      = 'auto',\n",
        "    verbose   = 1,\n",
        "    baseline  = None\n",
        "    )\n",
        "\n",
        "model_lorentzian.compile(\n",
        "    loss        = 'mean_squared_error', \n",
        "    optimizer   = tf.keras.optimizers.SGD(\n",
        "        learning_rate   = lr_schedule_fit,\n",
        "        momentum        = 0.5,\n",
        "        clipnorm        = 1.0\n",
        "        )\n",
        "    )\n",
        "\n",
        "history = model_lorentzian.fit(\n",
        "    x           = observed_fid_table, \n",
        "    y           = opt_params, \n",
        "    epochs      = 300, \n",
        "    batch_size  = 25,\n",
        "    # Train on 80% of the input data, validate on 20%\n",
        "    # validation_split  = 0.2,\n",
        "    callbacks   = [early_stop_callback]\n",
        "    )"
      ],
      "metadata": {
        "colab": {
          "base_uri": "https://localhost:8080/"
        },
        "id": "1c_6MTS-7Bh6",
        "outputId": "1869866b-d395-4f42-93d3-8e92f11771e4"
      },
      "execution_count": null,
      "outputs": [
        {
          "output_type": "stream",
          "name": "stdout",
          "text": [
            "Epoch 1/300\n",
            "50/50 [==============================] - 1s 6ms/step - loss: 31942.6328\n",
            "Epoch 2/300\n",
            "50/50 [==============================] - 0s 5ms/step - loss: 13619.1426\n",
            "Epoch 3/300\n",
            "50/50 [==============================] - 0s 5ms/step - loss: 10234.4180\n",
            "Epoch 4/300\n",
            "50/50 [==============================] - 0s 5ms/step - loss: 8328.2383\n",
            "Epoch 5/300\n",
            "50/50 [==============================] - 0s 5ms/step - loss: 6888.1602\n",
            "Epoch 6/300\n",
            "50/50 [==============================] - 0s 5ms/step - loss: 6032.9883\n",
            "Epoch 7/300\n",
            "50/50 [==============================] - 0s 5ms/step - loss: 5011.5229\n",
            "Epoch 8/300\n",
            "50/50 [==============================] - 0s 5ms/step - loss: 4626.7910\n",
            "Epoch 9/300\n",
            "50/50 [==============================] - 0s 5ms/step - loss: 4001.0283\n",
            "Epoch 10/300\n",
            "50/50 [==============================] - 0s 5ms/step - loss: 3691.1135\n",
            "Epoch 11/300\n",
            "50/50 [==============================] - 0s 5ms/step - loss: 3345.3132\n",
            "Epoch 12/300\n",
            "50/50 [==============================] - 0s 5ms/step - loss: 3056.5779\n",
            "Epoch 13/300\n",
            "50/50 [==============================] - 0s 5ms/step - loss: 2679.6216\n",
            "Epoch 14/300\n",
            "50/50 [==============================] - 0s 5ms/step - loss: 2461.4744\n",
            "Epoch 15/300\n",
            "50/50 [==============================] - 0s 5ms/step - loss: 2211.7693\n",
            "Epoch 16/300\n",
            "50/50 [==============================] - 0s 5ms/step - loss: 1955.7722\n",
            "Epoch 17/300\n",
            "50/50 [==============================] - 0s 5ms/step - loss: 1867.8420\n",
            "Epoch 18/300\n",
            "50/50 [==============================] - 0s 5ms/step - loss: 1705.9200\n",
            "Epoch 19/300\n",
            "50/50 [==============================] - 0s 5ms/step - loss: 1534.5887\n",
            "Epoch 20/300\n",
            "50/50 [==============================] - 0s 5ms/step - loss: 1441.9788\n",
            "Epoch 21/300\n",
            "50/50 [==============================] - 0s 5ms/step - loss: 1293.1943\n",
            "Epoch 22/300\n",
            "50/50 [==============================] - 0s 5ms/step - loss: 1211.8690\n",
            "Epoch 23/300\n",
            "50/50 [==============================] - 0s 5ms/step - loss: 1102.0978\n",
            "Epoch 24/300\n",
            "50/50 [==============================] - 0s 5ms/step - loss: 1033.2424\n",
            "Epoch 25/300\n",
            "50/50 [==============================] - 0s 5ms/step - loss: 904.4929\n",
            "Epoch 26/300\n",
            "50/50 [==============================] - 0s 5ms/step - loss: 883.2900\n",
            "Epoch 27/300\n",
            "50/50 [==============================] - 0s 5ms/step - loss: 756.6744\n",
            "Epoch 28/300\n",
            "50/50 [==============================] - 0s 5ms/step - loss: 678.1041\n",
            "Epoch 29/300\n",
            "50/50 [==============================] - 0s 5ms/step - loss: 651.7195\n",
            "Epoch 30/300\n",
            "50/50 [==============================] - 0s 5ms/step - loss: 610.7276\n",
            "Epoch 31/300\n",
            "50/50 [==============================] - 0s 5ms/step - loss: 556.0492\n",
            "Epoch 32/300\n",
            "50/50 [==============================] - 0s 5ms/step - loss: 540.9367\n",
            "Epoch 33/300\n",
            "50/50 [==============================] - 0s 5ms/step - loss: 459.8676\n",
            "Epoch 34/300\n",
            "50/50 [==============================] - 0s 5ms/step - loss: 426.3264\n",
            "Epoch 35/300\n",
            "50/50 [==============================] - 0s 5ms/step - loss: 397.6733\n",
            "Epoch 36/300\n",
            "50/50 [==============================] - 0s 5ms/step - loss: 358.8998\n",
            "Epoch 37/300\n",
            "50/50 [==============================] - 0s 5ms/step - loss: 319.8039\n",
            "Epoch 38/300\n",
            "50/50 [==============================] - 0s 5ms/step - loss: 284.0875\n",
            "Epoch 39/300\n",
            "50/50 [==============================] - 0s 5ms/step - loss: 280.0563\n",
            "Epoch 40/300\n",
            "50/50 [==============================] - 0s 5ms/step - loss: 262.0378\n",
            "Epoch 41/300\n",
            "50/50 [==============================] - 0s 5ms/step - loss: 239.6938\n",
            "Epoch 42/300\n",
            "50/50 [==============================] - 0s 5ms/step - loss: 221.8984\n",
            "Epoch 43/300\n",
            "50/50 [==============================] - 0s 5ms/step - loss: 204.3413\n",
            "Epoch 44/300\n",
            "50/50 [==============================] - 0s 5ms/step - loss: 180.1724\n",
            "Epoch 45/300\n",
            "50/50 [==============================] - 0s 5ms/step - loss: 171.2173\n",
            "Epoch 46/300\n",
            "50/50 [==============================] - 0s 5ms/step - loss: 155.4072\n",
            "Epoch 47/300\n",
            "50/50 [==============================] - 0s 5ms/step - loss: 142.3812\n",
            "Epoch 48/300\n",
            "50/50 [==============================] - 0s 5ms/step - loss: 134.5939\n",
            "Epoch 49/300\n",
            "50/50 [==============================] - 0s 5ms/step - loss: 122.8630\n",
            "Epoch 50/300\n",
            "50/50 [==============================] - 0s 5ms/step - loss: 115.0537\n",
            "Epoch 51/300\n",
            "50/50 [==============================] - 0s 5ms/step - loss: 104.5337\n",
            "Epoch 52/300\n",
            "50/50 [==============================] - 0s 5ms/step - loss: 99.2042\n",
            "Epoch 53/300\n",
            "50/50 [==============================] - 0s 5ms/step - loss: 93.0236\n",
            "Epoch 54/300\n",
            "50/50 [==============================] - 0s 5ms/step - loss: 82.4896\n",
            "Epoch 55/300\n",
            "50/50 [==============================] - 0s 5ms/step - loss: 76.1620\n",
            "Epoch 56/300\n",
            "50/50 [==============================] - 0s 5ms/step - loss: 73.7447\n",
            "Epoch 57/300\n",
            "50/50 [==============================] - 0s 5ms/step - loss: 66.2260\n",
            "Epoch 58/300\n",
            "50/50 [==============================] - 0s 5ms/step - loss: 58.9451\n",
            "Epoch 59/300\n",
            "50/50 [==============================] - 0s 5ms/step - loss: 55.4770\n",
            "Epoch 60/300\n",
            "50/50 [==============================] - 0s 5ms/step - loss: 52.0998\n",
            "Epoch 61/300\n",
            "50/50 [==============================] - 0s 5ms/step - loss: 45.4844\n",
            "Epoch 62/300\n",
            "50/50 [==============================] - 0s 5ms/step - loss: 45.2300\n",
            "Epoch 63/300\n",
            "50/50 [==============================] - 0s 5ms/step - loss: 39.6915\n",
            "Epoch 64/300\n",
            "50/50 [==============================] - 0s 5ms/step - loss: 37.5132\n",
            "Epoch 65/300\n",
            "50/50 [==============================] - 0s 5ms/step - loss: 34.4837\n",
            "Epoch 66/300\n",
            "50/50 [==============================] - 0s 5ms/step - loss: 30.6923\n",
            "Epoch 67/300\n",
            "50/50 [==============================] - 0s 5ms/step - loss: 29.5762\n",
            "Epoch 68/300\n",
            "50/50 [==============================] - 0s 5ms/step - loss: 26.3102\n",
            "Epoch 69/300\n",
            "50/50 [==============================] - 0s 5ms/step - loss: 25.3068\n",
            "Epoch 70/300\n",
            "50/50 [==============================] - 0s 5ms/step - loss: 23.9332\n",
            "Epoch 71/300\n",
            "50/50 [==============================] - 0s 5ms/step - loss: 21.2491\n",
            "Epoch 72/300\n",
            "50/50 [==============================] - 0s 5ms/step - loss: 20.3837\n",
            "Epoch 73/300\n",
            "50/50 [==============================] - 0s 5ms/step - loss: 18.4565\n",
            "Epoch 74/300\n",
            "50/50 [==============================] - 0s 5ms/step - loss: 17.6337\n",
            "Epoch 75/300\n",
            "50/50 [==============================] - 0s 5ms/step - loss: 15.8755\n",
            "Epoch 76/300\n",
            "50/50 [==============================] - 0s 5ms/step - loss: 14.2663\n",
            "Epoch 77/300\n",
            "50/50 [==============================] - 0s 5ms/step - loss: 13.9885\n",
            "Epoch 78/300\n",
            "50/50 [==============================] - 0s 5ms/step - loss: 12.3125\n",
            "Epoch 79/300\n",
            "50/50 [==============================] - 0s 5ms/step - loss: 11.6216\n",
            "Epoch 80/300\n",
            "50/50 [==============================] - 0s 5ms/step - loss: 11.6661\n",
            "Epoch 81/300\n",
            "50/50 [==============================] - 0s 5ms/step - loss: 10.8205\n",
            "Epoch 82/300\n",
            "50/50 [==============================] - 0s 5ms/step - loss: 10.1067\n",
            "Epoch 83/300\n",
            "50/50 [==============================] - 0s 5ms/step - loss: 8.7023\n",
            "Epoch 84/300\n",
            "50/50 [==============================] - 0s 5ms/step - loss: 8.5667\n",
            "Epoch 85/300\n",
            "50/50 [==============================] - 0s 5ms/step - loss: 7.8869\n",
            "Epoch 86/300\n",
            "50/50 [==============================] - 0s 5ms/step - loss: 7.3078\n",
            "Epoch 87/300\n",
            "50/50 [==============================] - 0s 5ms/step - loss: 6.7766\n",
            "Epoch 88/300\n",
            "50/50 [==============================] - 0s 5ms/step - loss: 6.3467\n",
            "Epoch 89/300\n",
            "50/50 [==============================] - 0s 5ms/step - loss: 5.8656\n",
            "Epoch 90/300\n",
            "50/50 [==============================] - 0s 5ms/step - loss: 5.9467\n",
            "Epoch 91/300\n",
            "50/50 [==============================] - 0s 5ms/step - loss: 5.3759\n",
            "Epoch 92/300\n",
            "50/50 [==============================] - 0s 5ms/step - loss: 4.9524\n",
            "Epoch 93/300\n",
            "50/50 [==============================] - 0s 5ms/step - loss: 4.6793\n",
            "Epoch 94/300\n",
            "50/50 [==============================] - 0s 5ms/step - loss: 4.3873\n",
            "Epoch 95/300\n",
            "50/50 [==============================] - 0s 5ms/step - loss: 4.2359\n",
            "Epoch 96/300\n",
            "50/50 [==============================] - 0s 5ms/step - loss: 3.6174\n",
            "Epoch 97/300\n",
            "50/50 [==============================] - 0s 5ms/step - loss: 2.0772\n",
            "Epoch 98/300\n",
            "50/50 [==============================] - 0s 5ms/step - loss: 2.1028\n",
            "Epoch 99/300\n",
            "50/50 [==============================] - 0s 5ms/step - loss: 2.0594\n",
            "Epoch 100/300\n",
            "50/50 [==============================] - 0s 5ms/step - loss: 1.9141\n",
            "Epoch 101/300\n",
            "50/50 [==============================] - 0s 5ms/step - loss: 1.8762\n",
            "Epoch 102/300\n",
            "50/50 [==============================] - 0s 5ms/step - loss: 1.8025\n",
            "Epoch 103/300\n",
            "50/50 [==============================] - 0s 5ms/step - loss: 1.7812\n",
            "Epoch 104/300\n",
            "50/50 [==============================] - 0s 5ms/step - loss: 1.7005\n",
            "Epoch 105/300\n",
            "50/50 [==============================] - 0s 5ms/step - loss: 1.6748\n",
            "Epoch 106/300\n",
            "50/50 [==============================] - 0s 5ms/step - loss: 1.8903\n",
            "Epoch 107/300\n",
            "50/50 [==============================] - 0s 5ms/step - loss: 2.2094\n",
            "Epoch 108/300\n",
            "50/50 [==============================] - 0s 5ms/step - loss: 2.0988\n",
            "Epoch 109/300\n",
            "50/50 [==============================] - 0s 5ms/step - loss: 2.0216\n",
            "Epoch 110/300\n",
            "50/50 [==============================] - 0s 5ms/step - loss: 2.0547\n",
            "Epoch 111/300\n",
            "50/50 [==============================] - 0s 5ms/step - loss: 1.9035\n",
            "Epoch 112/300\n",
            "50/50 [==============================] - 0s 5ms/step - loss: 1.7817\n",
            "Epoch 113/300\n",
            "50/50 [==============================] - 0s 5ms/step - loss: 1.7743\n",
            "Epoch 114/300\n",
            "50/50 [==============================] - 0s 5ms/step - loss: 1.6978\n",
            "Epoch 115/300\n",
            "50/50 [==============================] - 0s 5ms/step - loss: 1.6026\n",
            "Epoch 116/300\n",
            "50/50 [==============================] - 0s 5ms/step - loss: 1.5963\n",
            "Epoch 117/300\n",
            "50/50 [==============================] - 0s 5ms/step - loss: 1.4657\n",
            "Epoch 118/300\n",
            "50/50 [==============================] - 0s 5ms/step - loss: 1.4955\n",
            "Epoch 119/300\n",
            "50/50 [==============================] - 0s 5ms/step - loss: 1.4553\n",
            "Epoch 120/300\n",
            "50/50 [==============================] - 0s 5ms/step - loss: 1.3587\n",
            "Epoch 121/300\n",
            "50/50 [==============================] - 0s 5ms/step - loss: 1.2129\n",
            "Epoch 122/300\n",
            "50/50 [==============================] - 0s 5ms/step - loss: 1.3485\n",
            "Epoch 123/300\n",
            "50/50 [==============================] - 0s 5ms/step - loss: 1.1967\n",
            "Epoch 124/300\n",
            "50/50 [==============================] - 0s 5ms/step - loss: 1.2585\n",
            "Epoch 125/300\n",
            "50/50 [==============================] - 0s 5ms/step - loss: 1.2228\n",
            "Epoch 126/300\n",
            "50/50 [==============================] - 0s 5ms/step - loss: 1.1013\n",
            "Epoch 127/300\n",
            "50/50 [==============================] - 0s 5ms/step - loss: 1.1479\n",
            "Epoch 128/300\n",
            "50/50 [==============================] - 0s 5ms/step - loss: 1.1476\n",
            "Epoch 129/300\n",
            "50/50 [==============================] - 0s 5ms/step - loss: 1.1340\n",
            "Epoch 130/300\n",
            "50/50 [==============================] - 0s 5ms/step - loss: 1.0432\n",
            "Epoch 131/300\n",
            "50/50 [==============================] - 0s 5ms/step - loss: 1.0594\n",
            "Epoch 132/300\n",
            "50/50 [==============================] - 0s 5ms/step - loss: 1.0110\n",
            "Epoch 133/300\n",
            "50/50 [==============================] - 0s 5ms/step - loss: 1.0369\n",
            "Epoch 134/300\n",
            "50/50 [==============================] - 0s 5ms/step - loss: 1.0074\n",
            "Epoch 135/300\n",
            "50/50 [==============================] - 0s 5ms/step - loss: 1.0057\n",
            "Epoch 136/300\n",
            "50/50 [==============================] - 0s 5ms/step - loss: 0.9841\n",
            "Epoch 137/300\n",
            "50/50 [==============================] - 0s 5ms/step - loss: 0.9437\n",
            "Epoch 138/300\n",
            "50/50 [==============================] - 0s 5ms/step - loss: 0.9543\n",
            "Epoch 139/300\n",
            "50/50 [==============================] - 0s 5ms/step - loss: 0.9235\n",
            "Epoch 140/300\n",
            "50/50 [==============================] - 0s 5ms/step - loss: 0.9217\n",
            "Epoch 141/300\n",
            "50/50 [==============================] - 0s 5ms/step - loss: 0.9030\n",
            "Epoch 142/300\n",
            "50/50 [==============================] - 0s 5ms/step - loss: 0.8906\n",
            "Epoch 143/300\n",
            "50/50 [==============================] - 0s 5ms/step - loss: 0.8765\n",
            "Epoch 144/300\n",
            "50/50 [==============================] - 0s 5ms/step - loss: 0.8606\n",
            "Epoch 145/300\n",
            "50/50 [==============================] - 0s 5ms/step - loss: 0.8521\n",
            "Epoch 146/300\n",
            "50/50 [==============================] - 0s 5ms/step - loss: 0.8553\n",
            "Epoch 147/300\n",
            "50/50 [==============================] - 0s 5ms/step - loss: 0.8313\n",
            "Epoch 148/300\n",
            "50/50 [==============================] - 0s 5ms/step - loss: 0.8211\n",
            "Epoch 149/300\n",
            "50/50 [==============================] - 0s 5ms/step - loss: 0.8229\n",
            "Epoch 150/300\n",
            "50/50 [==============================] - 0s 5ms/step - loss: 0.8085\n",
            "Epoch 151/300\n",
            "50/50 [==============================] - 0s 5ms/step - loss: 0.7996\n",
            "Epoch 152/300\n",
            "50/50 [==============================] - 0s 5ms/step - loss: 0.7773\n",
            "Epoch 153/300\n",
            "50/50 [==============================] - 0s 5ms/step - loss: 0.7817\n",
            "Epoch 154/300\n",
            "50/50 [==============================] - 0s 5ms/step - loss: 0.7642\n",
            "Epoch 155/300\n",
            "50/50 [==============================] - 0s 5ms/step - loss: 0.7599\n",
            "Epoch 156/300\n",
            "50/50 [==============================] - 0s 5ms/step - loss: 0.7541\n",
            "Epoch 157/300\n",
            "50/50 [==============================] - 0s 5ms/step - loss: 0.7520\n",
            "Epoch 158/300\n",
            "50/50 [==============================] - 0s 5ms/step - loss: 0.7400\n",
            "Epoch 159/300\n",
            "50/50 [==============================] - 0s 5ms/step - loss: 0.7410\n",
            "Epoch 160/300\n",
            "50/50 [==============================] - 0s 5ms/step - loss: 0.7305\n",
            "Epoch 161/300\n",
            "50/50 [==============================] - 0s 5ms/step - loss: 0.7306\n",
            "Epoch 162/300\n",
            "50/50 [==============================] - 0s 5ms/step - loss: 0.7182\n",
            "Epoch 163/300\n",
            "50/50 [==============================] - 0s 5ms/step - loss: 0.7118\n",
            "Epoch 164/300\n",
            "50/50 [==============================] - 0s 5ms/step - loss: 0.7100\n",
            "Epoch 165/300\n",
            "50/50 [==============================] - 0s 5ms/step - loss: 0.7019\n",
            "Epoch 166/300\n",
            "50/50 [==============================] - 0s 5ms/step - loss: 0.6979\n",
            "Epoch 167/300\n",
            "50/50 [==============================] - 0s 5ms/step - loss: 0.6902\n",
            "Epoch 168/300\n",
            "50/50 [==============================] - 0s 5ms/step - loss: 0.6918\n",
            "Epoch 169/300\n",
            "50/50 [==============================] - 0s 5ms/step - loss: 0.6851\n",
            "Epoch 170/300\n",
            "50/50 [==============================] - 0s 5ms/step - loss: 0.6799\n",
            "Epoch 171/300\n",
            "50/50 [==============================] - 0s 5ms/step - loss: 0.6748\n",
            "Epoch 172/300\n",
            "50/50 [==============================] - 0s 5ms/step - loss: 0.6713\n",
            "Epoch 173/300\n",
            "50/50 [==============================] - 0s 5ms/step - loss: 0.6659\n",
            "Epoch 174/300\n",
            "50/50 [==============================] - 0s 5ms/step - loss: 0.6653\n",
            "Epoch 175/300\n",
            "50/50 [==============================] - 0s 5ms/step - loss: 0.6568\n",
            "Epoch 176/300\n",
            "50/50 [==============================] - 0s 5ms/step - loss: 0.6539\n",
            "Epoch 177/300\n",
            "50/50 [==============================] - 0s 5ms/step - loss: 0.6536\n",
            "Epoch 178/300\n",
            "50/50 [==============================] - 0s 5ms/step - loss: 0.6523\n",
            "Epoch 179/300\n",
            "50/50 [==============================] - 0s 5ms/step - loss: 0.6453\n",
            "Epoch 180/300\n",
            "50/50 [==============================] - 0s 5ms/step - loss: 0.6438\n",
            "Epoch 181/300\n",
            "50/50 [==============================] - 0s 5ms/step - loss: 0.6425\n",
            "Epoch 182/300\n",
            "50/50 [==============================] - 0s 5ms/step - loss: 0.6396\n",
            "Epoch 183/300\n",
            "50/50 [==============================] - 0s 5ms/step - loss: 0.6324\n",
            "Epoch 184/300\n",
            "50/50 [==============================] - 0s 5ms/step - loss: 0.6322\n",
            "Epoch 185/300\n",
            "50/50 [==============================] - 0s 5ms/step - loss: 0.6334\n",
            "Epoch 186/300\n",
            "50/50 [==============================] - 0s 5ms/step - loss: 0.6291\n",
            "Epoch 187/300\n",
            "50/50 [==============================] - 0s 5ms/step - loss: 0.6266\n",
            "Epoch 188/300\n",
            "50/50 [==============================] - 0s 5ms/step - loss: 0.6253\n",
            "Epoch 189/300\n",
            "50/50 [==============================] - 0s 5ms/step - loss: 0.6215\n",
            "Epoch 190/300\n",
            "50/50 [==============================] - 0s 5ms/step - loss: 0.6210\n",
            "Epoch 191/300\n",
            "50/50 [==============================] - 0s 5ms/step - loss: 0.6184\n",
            "Epoch 192/300\n",
            "50/50 [==============================] - 0s 5ms/step - loss: 0.6157\n",
            "Epoch 193/300\n",
            "50/50 [==============================] - 0s 5ms/step - loss: 0.6145\n",
            "Epoch 194/300\n",
            "50/50 [==============================] - 0s 5ms/step - loss: 0.6131\n",
            "Epoch 195/300\n",
            "50/50 [==============================] - 0s 5ms/step - loss: 0.6113\n",
            "Epoch 196/300\n",
            "50/50 [==============================] - 0s 5ms/step - loss: 0.6092\n",
            "Epoch 197/300\n",
            "50/50 [==============================] - 0s 5ms/step - loss: 0.6096\n",
            "Epoch 198/300\n",
            "50/50 [==============================] - 0s 5ms/step - loss: 0.6081\n",
            "Epoch 199/300\n",
            "50/50 [==============================] - 0s 5ms/step - loss: 0.6058\n",
            "Epoch 200/300\n",
            "50/50 [==============================] - 0s 5ms/step - loss: 0.6051\n",
            "Epoch 201/300\n",
            "50/50 [==============================] - 0s 5ms/step - loss: 0.6021\n",
            "Epoch 202/300\n",
            "50/50 [==============================] - 0s 5ms/step - loss: 0.6032\n",
            "Epoch 203/300\n",
            "50/50 [==============================] - 0s 5ms/step - loss: 0.6010\n",
            "Epoch 204/300\n",
            "50/50 [==============================] - 0s 5ms/step - loss: 0.6003\n",
            "Epoch 205/300\n",
            "50/50 [==============================] - 0s 5ms/step - loss: 0.5983\n",
            "Epoch 206/300\n",
            "50/50 [==============================] - 0s 5ms/step - loss: 0.5972\n",
            "Epoch 207/300\n",
            "50/50 [==============================] - 0s 5ms/step - loss: 0.5967\n",
            "Epoch 208/300\n",
            "50/50 [==============================] - 0s 5ms/step - loss: 0.5966\n",
            "Epoch 209/300\n",
            "50/50 [==============================] - 0s 5ms/step - loss: 0.5952\n",
            "Epoch 210/300\n",
            "50/50 [==============================] - 0s 5ms/step - loss: 0.5926\n",
            "Epoch 211/300\n",
            "50/50 [==============================] - 0s 5ms/step - loss: 0.5927\n",
            "Epoch 212/300\n",
            "50/50 [==============================] - 0s 5ms/step - loss: 0.5933\n",
            "Epoch 213/300\n",
            "50/50 [==============================] - 0s 5ms/step - loss: 0.5911\n",
            "Epoch 214/300\n",
            "50/50 [==============================] - 0s 5ms/step - loss: 0.5907\n",
            "Epoch 215/300\n",
            "50/50 [==============================] - 0s 5ms/step - loss: 0.5899\n",
            "Epoch 216/300\n",
            "50/50 [==============================] - 0s 5ms/step - loss: 0.5895\n",
            "Epoch 217/300\n",
            "50/50 [==============================] - 0s 5ms/step - loss: 0.5885\n",
            "Epoch 218/300\n",
            "50/50 [==============================] - 0s 5ms/step - loss: 0.5885\n",
            "Epoch 219/300\n",
            "50/50 [==============================] - 0s 5ms/step - loss: 0.5883\n",
            "Epoch 220/300\n",
            "50/50 [==============================] - 0s 5ms/step - loss: 0.5864\n",
            "Epoch 221/300\n",
            "50/50 [==============================] - 0s 5ms/step - loss: 0.5863\n",
            "Epoch 222/300\n",
            "50/50 [==============================] - 0s 5ms/step - loss: 0.5865\n",
            "Epoch 223/300\n",
            "50/50 [==============================] - 0s 5ms/step - loss: 0.5851\n",
            "Epoch 224/300\n",
            "50/50 [==============================] - 0s 5ms/step - loss: 0.5855\n",
            "Epoch 225/300\n",
            "50/50 [==============================] - 0s 5ms/step - loss: 0.5845\n",
            "Epoch 226/300\n",
            "50/50 [==============================] - 0s 5ms/step - loss: 0.5840\n",
            "Epoch 227/300\n",
            "50/50 [==============================] - 0s 5ms/step - loss: 0.5836\n",
            "Epoch 228/300\n",
            "50/50 [==============================] - 0s 5ms/step - loss: 0.5837\n",
            "Epoch 229/300\n",
            "50/50 [==============================] - 0s 5ms/step - loss: 0.5825\n",
            "Epoch 230/300\n",
            "50/50 [==============================] - 0s 5ms/step - loss: 0.5827\n",
            "Epoch 231/300\n",
            "50/50 [==============================] - 0s 5ms/step - loss: 0.5816\n",
            "Epoch 232/300\n",
            "50/50 [==============================] - 0s 5ms/step - loss: 0.5820\n",
            "Epoch 233/300\n",
            "50/50 [==============================] - 0s 5ms/step - loss: 0.5812\n",
            "Epoch 234/300\n",
            "50/50 [==============================] - 0s 5ms/step - loss: 0.5814\n",
            "Epoch 235/300\n",
            "50/50 [==============================] - 0s 5ms/step - loss: 0.5811\n",
            "Epoch 236/300\n",
            "50/50 [==============================] - 0s 5ms/step - loss: 0.5806\n",
            "Epoch 237/300\n",
            "50/50 [==============================] - 0s 5ms/step - loss: 0.5803\n",
            "Epoch 238/300\n",
            "50/50 [==============================] - 0s 5ms/step - loss: 0.5802\n",
            "Epoch 239/300\n",
            "50/50 [==============================] - 0s 5ms/step - loss: 0.5802\n",
            "Epoch 240/300\n",
            "50/50 [==============================] - 0s 5ms/step - loss: 0.5796\n",
            "Epoch 241/300\n",
            "50/50 [==============================] - 0s 5ms/step - loss: 0.5789\n",
            "Epoch 242/300\n",
            "50/50 [==============================] - 0s 5ms/step - loss: 0.5788\n",
            "Epoch 243/300\n",
            "50/50 [==============================] - 0s 5ms/step - loss: 0.5788\n",
            "Epoch 244/300\n",
            "50/50 [==============================] - 0s 5ms/step - loss: 0.5781\n",
            "Epoch 245/300\n",
            "50/50 [==============================] - 0s 5ms/step - loss: 0.5782\n",
            "Epoch 246/300\n",
            "50/50 [==============================] - 0s 5ms/step - loss: 0.5780\n",
            "Epoch 247/300\n",
            "50/50 [==============================] - 0s 5ms/step - loss: 0.5779\n",
            "Epoch 248/300\n",
            "50/50 [==============================] - 0s 5ms/step - loss: 0.5778\n",
            "Epoch 249/300\n",
            "50/50 [==============================] - 0s 5ms/step - loss: 0.5776\n",
            "Epoch 250/300\n",
            "50/50 [==============================] - 0s 5ms/step - loss: 0.5771\n",
            "Epoch 251/300\n",
            "50/50 [==============================] - 0s 5ms/step - loss: 0.5771\n",
            "Epoch 252/300\n",
            "50/50 [==============================] - 0s 5ms/step - loss: 0.5769\n",
            "Epoch 253/300\n",
            "50/50 [==============================] - 0s 5ms/step - loss: 0.5767\n",
            "Epoch 254/300\n",
            "50/50 [==============================] - 0s 5ms/step - loss: 0.5765\n",
            "Epoch 255/300\n",
            "50/50 [==============================] - 0s 5ms/step - loss: 0.5763\n",
            "Epoch 256/300\n",
            "50/50 [==============================] - 0s 5ms/step - loss: 0.5764\n",
            "Epoch 257/300\n",
            "50/50 [==============================] - 0s 5ms/step - loss: 0.5762\n",
            "Epoch 258/300\n",
            "50/50 [==============================] - 0s 5ms/step - loss: 0.5760\n",
            "Epoch 259/300\n",
            "50/50 [==============================] - 0s 5ms/step - loss: 0.5759\n",
            "Epoch 260/300\n",
            "50/50 [==============================] - 0s 5ms/step - loss: 0.5758\n",
            "Epoch 261/300\n",
            "50/50 [==============================] - 0s 5ms/step - loss: 0.5756\n",
            "Epoch 262/300\n",
            "50/50 [==============================] - 0s 5ms/step - loss: 0.5758\n",
            "Epoch 263/300\n",
            "50/50 [==============================] - 0s 5ms/step - loss: 0.5757\n",
            "Epoch 264/300\n",
            "50/50 [==============================] - 0s 7ms/step - loss: 0.5755\n",
            "Epoch 265/300\n",
            "50/50 [==============================] - 0s 9ms/step - loss: 0.5754\n",
            "Epoch 266/300\n",
            "50/50 [==============================] - 0s 5ms/step - loss: 0.5755\n",
            "Epoch 267/300\n",
            "50/50 [==============================] - 0s 7ms/step - loss: 0.5750\n",
            "Epoch 268/300\n",
            "50/50 [==============================] - 0s 9ms/step - loss: 0.5751\n",
            "Epoch 269/300\n",
            "50/50 [==============================] - 0s 5ms/step - loss: 0.5750\n",
            "Epoch 270/300\n",
            "50/50 [==============================] - 0s 5ms/step - loss: 0.5749\n",
            "Epoch 271/300\n",
            "50/50 [==============================] - 0s 5ms/step - loss: 0.5749\n",
            "Epoch 272/300\n",
            "50/50 [==============================] - 0s 5ms/step - loss: 0.5748\n",
            "Epoch 273/300\n",
            "50/50 [==============================] - 0s 5ms/step - loss: 0.5747\n",
            "Epoch 274/300\n",
            "50/50 [==============================] - 0s 5ms/step - loss: 0.5747\n",
            "Epoch 275/300\n",
            "50/50 [==============================] - 0s 5ms/step - loss: 0.5746\n",
            "Epoch 276/300\n",
            "50/50 [==============================] - 0s 5ms/step - loss: 0.5744\n",
            "Epoch 277/300\n",
            "50/50 [==============================] - 0s 5ms/step - loss: 0.5745\n",
            "Epoch 278/300\n",
            "50/50 [==============================] - 0s 5ms/step - loss: 0.5744\n",
            "Epoch 279/300\n",
            "50/50 [==============================] - 0s 5ms/step - loss: 0.5745\n",
            "Epoch 280/300\n",
            "50/50 [==============================] - 0s 5ms/step - loss: 0.5742\n",
            "Epoch 281/300\n",
            "50/50 [==============================] - 0s 5ms/step - loss: 0.5741\n",
            "Epoch 282/300\n",
            "50/50 [==============================] - 0s 5ms/step - loss: 0.5741\n",
            "Epoch 283/300\n",
            "50/50 [==============================] - 0s 5ms/step - loss: 0.5741\n",
            "Epoch 284/300\n",
            "50/50 [==============================] - 0s 5ms/step - loss: 0.5740\n",
            "Epoch 285/300\n",
            "50/50 [==============================] - 0s 5ms/step - loss: 0.5740\n",
            "Epoch 286/300\n",
            "50/50 [==============================] - 0s 5ms/step - loss: 0.5741\n",
            "Epoch 287/300\n",
            "50/50 [==============================] - 0s 5ms/step - loss: 0.5740\n",
            "Epoch 288/300\n",
            "50/50 [==============================] - 0s 5ms/step - loss: 0.5740\n",
            "Epoch 289/300\n",
            "50/50 [==============================] - 0s 5ms/step - loss: 0.5740\n",
            "Epoch 290/300\n",
            "50/50 [==============================] - 0s 5ms/step - loss: 0.5740\n",
            "Epoch 291/300\n",
            "50/50 [==============================] - 0s 5ms/step - loss: 0.5739\n",
            "Epoch 292/300\n",
            "50/50 [==============================] - 0s 5ms/step - loss: 0.5739\n",
            "Epoch 293/300\n",
            "50/50 [==============================] - 0s 5ms/step - loss: 0.5738\n",
            "Epoch 294/300\n",
            "50/50 [==============================] - 0s 5ms/step - loss: 0.5738\n",
            "Epoch 295/300\n",
            "50/50 [==============================] - 0s 5ms/step - loss: 0.5738\n",
            "Epoch 296/300\n",
            "50/50 [==============================] - 0s 5ms/step - loss: 0.5737\n",
            "Epoch 297/300\n",
            "50/50 [==============================] - 0s 5ms/step - loss: 0.5737\n",
            "Epoch 298/300\n",
            "50/50 [==============================] - 0s 5ms/step - loss: 0.5736\n",
            "Epoch 299/300\n",
            "50/50 [==============================] - 0s 5ms/step - loss: 0.5736\n",
            "Epoch 300/300\n",
            "50/50 [==============================] - 0s 5ms/step - loss: 0.5736\n"
          ]
        }
      ]
    },
    {
      "cell_type": "markdown",
      "source": [
        "Consider the model summary below. Note how the number of training parameters is significantly smaller compared to the number of training parameters in the network in Exercise 1."
      ],
      "metadata": {
        "id": "wJ-2k-c2Xj3F"
      }
    },
    {
      "cell_type": "code",
      "source": [
        "model_lorentzian.summary()"
      ],
      "metadata": {
        "colab": {
          "base_uri": "https://localhost:8080/"
        },
        "id": "JGGxGRb1e4up",
        "outputId": "29c1ed12-1951-4b59-98b8-6047a35b2549"
      },
      "execution_count": null,
      "outputs": [
        {
          "output_type": "stream",
          "name": "stdout",
          "text": [
            "Model: \"sequential_1\"\n",
            "_________________________________________________________________\n",
            " Layer (type)                Output Shape              Param #   \n",
            "=================================================================\n",
            " dense_4 (Dense)             (None, 2000)              8000000   \n",
            "                                                                 \n",
            " dense_5 (Dense)             (None, 1000)              2000000   \n",
            "                                                                 \n",
            " dense_6 (Dense)             (None, 500)               500000    \n",
            "                                                                 \n",
            " dense_7 (Dense)             (None, 250)               125000    \n",
            "                                                                 \n",
            " dense_8 (Dense)             (None, 125)               31250     \n",
            "                                                                 \n",
            " dense_9 (Dense)             (None, 32)                4000      \n",
            "                                                                 \n",
            " dense_10 (Dense)            (None, 3)                 99        \n",
            "                                                                 \n",
            "=================================================================\n",
            "Total params: 10,660,349\n",
            "Trainable params: 10,660,349\n",
            "Non-trainable params: 0\n",
            "_________________________________________________________________\n"
          ]
        }
      ]
    },
    {
      "cell_type": "markdown",
      "source": [
        "### ANN Predictions\n",
        "\n",
        "An FID may be submitted to the model via the `predict()` method, which will return the neural network's estimation of the frequency spectrum's curve-fit parameters, in the form \n",
        "```\n",
        "[frequency, amplitude, fwhm]\n",
        "```\n",
        "where `amplitude` and `fwhm` correspond to the distribution-specific parameters (e.g. $A$ and $\\gamma$ for the Lorentzian line shape) that influence those properties of the curve."
      ],
      "metadata": {
        "id": "ubQtwm0Dc5vI"
      }
    },
    {
      "cell_type": "code",
      "source": [
        "def nn_lorentzian(input):\n",
        "  prediction = model_lorentzian.predict(input[np.newaxis])[0]\n",
        "  return prediction"
      ],
      "metadata": {
        "id": "KWhQLv2nenFo"
      },
      "execution_count": null,
      "outputs": []
    },
    {
      "cell_type": "code",
      "source": [
        "# Be patient - this function takes some time to run\n",
        "def all_nn_lorentzian():\n",
        "  prediction_table = []\n",
        "\n",
        "  for fid in observed_fid_table:\n",
        "    fid_fit = nn_lorentzian(fid)\n",
        "    prediction_table.append(fid_fit)\n",
        "\n",
        "  return prediction_table\n",
        "\n",
        "fit_predictions = all_nn_lorentzian()"
      ],
      "metadata": {
        "id": "fziP1SuWg5nn"
      },
      "execution_count": null,
      "outputs": []
    },
    {
      "cell_type": "markdown",
      "source": [
        "#### ANN Predictions Visualized"
      ],
      "metadata": {
        "id": "qNQex5Kwnax8"
      }
    },
    {
      "cell_type": "code",
      "source": [
        "nn_curve_table = []\n",
        "ft_curve_table = []\n",
        "\n",
        "for fit in fit_predictions:\n",
        "  nn = lorentzian(xfrq, fit[0], fit[1], fit[2])\n",
        "  nn_curve_table.append(nn)\n",
        "\n",
        "for fit in opt_params:\n",
        "  ft = lorentzian(xfrq, fit[0], fit[1], fit[2])\n",
        "  ft_curve_table.append(ft)"
      ],
      "metadata": {
        "id": "CkIgEVDFh5I-"
      },
      "execution_count": null,
      "outputs": []
    },
    {
      "cell_type": "code",
      "source": [
        "nn_quad_table = []\n",
        "ft_quad_table = []\n",
        "\n",
        "for curve in nn_curve_table:\n",
        "  cv = scipy.integrate.simps(curve)\n",
        "  nn_quad_table.append(cv)\n",
        "\n",
        "for curve in ft_curve_table:\n",
        "  cv = scipy.integrate.simps(curve)\n",
        "  ft_quad_table.append(cv)\n",
        "\n",
        "nn_quad_table = np.asarray(nn_quad_table)\n",
        "ft_quad_table = np.asarray(ft_quad_table)\n",
        "\n",
        "cvdiff = np.subtract(nn_quad_table, ft_quad_table)\n",
        "\n",
        "frqdiff = np.fromiter((fit_predictions[i][0] - opt_params[i][0] for i in range(1250)), dtype=float)"
      ],
      "metadata": {
        "id": "dKws3yegihPE"
      },
      "execution_count": null,
      "outputs": []
    },
    {
      "cell_type": "code",
      "source": [
        "*_, axs = plt.subplots(1, 1, figsize=(17,5))\n",
        "sb.lineplot(x=range(1250), y=np.abs(cvdiff), ax=axs)\n",
        "sb.lineplot(x=range(1250), y=np.abs(frqdiff), ax=axs)\n",
        "axs.set_xlim(0, 1250)"
      ],
      "metadata": {
        "colab": {
          "base_uri": "https://localhost:8080/",
          "height": 338
        },
        "id": "KTMaNkeShKIf",
        "outputId": "9195178b-2fb7-4468-d4f5-f55375b871d4"
      },
      "execution_count": null,
      "outputs": [
        {
          "output_type": "execute_result",
          "data": {
            "text/plain": [
              "(0.0, 1250.0)"
            ]
          },
          "metadata": {},
          "execution_count": 56
        },
        {
          "output_type": "display_data",
          "data": {
            "text/plain": [
              "<Figure size 1224x360 with 1 Axes>"
            ],
            "image/png": "[encoded data removed]"
          },
          "metadata": {
            "needs_background": "light"
          }
        }
      ]
    },
    {
      "cell_type": "code",
      "source": [
        "num = len(rf_mix_frequency) * len(spin2_relaxation)\n",
        "random_sample_n = rng.integers(low = 0, high = num)\n",
        "\n",
        "\n",
        "\n"
      ],
      "metadata": {
        "id": "DWxAhNO0eagF"
      },
      "execution_count": null,
      "outputs": []
    },
    {
      "cell_type": "code",
      "source": [
        "test_n = rng.integers(low=0, high=1250)\n",
        "\n",
        "fit_test = nn_lorentzian(observed_fid_table[test_n])\n",
        "fit_real = opt_params[test_n]\n",
        "\n",
        "print(f'Predicted parameters: {fit_test}')\n",
        "print(f'Expected parameters: {fit_real}')"
      ],
      "metadata": {
        "colab": {
          "base_uri": "https://localhost:8080/"
        },
        "id": "qTA6svFNeulu",
        "outputId": "555310a3-a414-490d-dcfe-25f22b411fe1"
      },
      "execution_count": null,
      "outputs": [
        {
          "output_type": "stream",
          "name": "stdout",
          "text": [
            "Predicted parameters: [88.88494    3.451331   0.8003022]\n",
            "Expected parameters: [88.87568511  3.21032899  0.81925814]\n"
          ]
        }
      ]
    },
    {
      "cell_type": "code",
      "source": [
        "lorentz_nn_test = lorentzian(xfrq, fit_test[0], fit_test[1], fit_test[2])\n",
        "lorentz_rl_test = lorentzian(xfrq, fit_real[0], fit_real[1], fit_real[2])\n",
        "\n",
        "mn = np.mean([fit_test[0], fit_real[0]])\n",
        "xmin = mn - 15\n",
        "xmax = mn + 15\n",
        "\n",
        "\n",
        "fig, ax = plt.subplots()\n",
        "sb.lineplot(x=xfrq, y=lorentz_nn_test)\n",
        "sb.lineplot(x=xfrq, y=lorentz_rl_test)\n",
        "ax.set_xlim(xmin, xmax)"
      ],
      "metadata": {
        "colab": {
          "base_uri": "https://localhost:8080/",
          "height": 286
        },
        "id": "rsRG1Ycoey2c",
        "outputId": "aa7fec84-f332-41e3-ecae-2f51ebd37e0c"
      },
      "execution_count": null,
      "outputs": [
        {
          "output_type": "execute_result",
          "data": {
            "text/plain": [
              "(73.88031310581003, 103.88031310581003)"
            ]
          },
          "metadata": {},
          "execution_count": 70
        },
        {
          "output_type": "display_data",
          "data": {
            "text/plain": [
              "<Figure size 432x288 with 1 Axes>"
            ],
            "image/png": "[encoded data removed]"
          },
          "metadata": {
            "needs_background": "light"
          }
        }
      ]
    },
    {
      "cell_type": "code",
      "source": [
        "atest = scipy.integrate.simps(lorentz_nn_test)\n",
        "print(atest)\n",
        "\n",
        "atest2 = scipy.integrate.simps(lorentz_rl_test)\n",
        "print(atest2)"
      ],
      "metadata": {
        "colab": {
          "base_uri": "https://localhost:8080/"
        },
        "id": "AVIoF73jccFF",
        "outputId": "535e55c9-e997-4e14-8ad9-078d75ae6d81"
      },
      "execution_count": null,
      "outputs": [
        {
          "output_type": "stream",
          "name": "stdout",
          "text": [
            "6.60803493584287\n",
            "5.754867687660493\n"
          ]
        }
      ]
    },
    {
      "cell_type": "code",
      "source": [
        "np.allclose(lorentz_nn_test, lorentz_rl_test, atol=0.1)"
      ],
      "metadata": {
        "colab": {
          "base_uri": "https://localhost:8080/"
        },
        "id": "Oz6IYWr8Se89",
        "outputId": "3fe9f8c8-28bd-473c-f03a-e5b6f9bcf5d2"
      },
      "execution_count": null,
      "outputs": [
        {
          "output_type": "execute_result",
          "data": {
            "text/plain": [
              "False"
            ]
          },
          "metadata": {},
          "execution_count": 29
        }
      ]
    },
    {
      "cell_type": "markdown",
      "source": [
        "### Discussion\n",
        "\n",
        "Overall, the network trained on the curve fitting parameters reconstructs the frequency content of the FIDs with much higher fidelity than the network trained directly on the spectrum. Both networks display significant room for improvement; however, as was stressed earlier in this module, DFT computation is a poor application for a neural network due to the efficiency and exactness of modern FFT implementations. Nonetheless, the network in Exercise 2 that predicts parameters of best fit is a better problem domain for deep learning, and takes advantage of an ANN's ability to learn complex, nonlinear relationships within data.\n",
        "\n",
        "\\\n",
        "Outside of the network hyperparameters, one possible area of improvement for the network is the line shape function to which the spectrum is fit. A Lorentzian distribution was utilized initially, but NMR spectra typically fit the Voigt profile better.\n",
        "\n",
        "---\n",
        "\n",
        "**Exercise 2.3** Implement the pseudo-Voigt profile as a `curve_fit()` callable function and fit the spectra. Specific details on SciPy curve fitting may be found in the [SciPy Optimize API](https://docs.scipy.org/doc/scipy/reference/generated/scipy.optimize.curve_fit.html) documentation. Train the network on the new fit parameters and investigate whether or not - and to what degree - the differences between the learned and real spectra have been resolved. \n",
        "\n",
        "**Exercise 2.4** Is the line shape function a tunable hyperparameter?"
      ],
      "metadata": {
        "id": "CIvJ8aQgnGc7"
      }
    }
  ]
}