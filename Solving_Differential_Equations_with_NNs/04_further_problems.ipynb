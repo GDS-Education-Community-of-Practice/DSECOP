{
 "cells": [
  {
   "cell_type": "markdown",
   "metadata": {
    "id": "fs7wAiisL1hh"
   },
   "source": [
    "<a href=\"https://colab.research.google.com/github/GDS-Education-Community-of-Practice/DSECOP/blob/main/Solving_Differential_Equations_with_NNs/04_further_problems.ipynb\" target=\"_parent\"><img src=\"https://colab.research.google.com/assets/colab-badge.svg\" alt=\"Open In Colab\"/></a>\n",
    "\n",
    "# Notebook 4: Further Problems "
   ]
  },
  {
   "cell_type": "markdown",
   "metadata": {
    "id": "b6Y9khk0Ie8r"
   },
   "source": [
    "## Topics from Notebook 1\n",
    "\n",
    "### Stability Over Time (Estimated Time: 45 minutes)\n",
    "Model the motion of the Earth strictly under the gravitational force caused by the Sun using Euler's method, the Euler-Cromer method, and the Velocity-Verlet method.  As the final time of the simulation is increased, does the accuracy of each method hold?  Assume that the mass of the sun is 2e30kg, the mass of the Earth is 6e24kg, and the distance between the Sun to the Earth (in a circular orbit) is 152e6km.  Note: Either SI or astronomical units (AU) can be used for this problem, it just depends on the value of the gravitational constant which is chosen.\n",
    "\n",
    "### Theoretical Accuracy (Estimated Time: 1 minute)\n",
    "At a fixed time step where $\\Delta$t < 1.0, which of the three numerical differentiation methods should be the most accurate and why?"
   ]
  },
  {
   "cell_type": "markdown",
   "metadata": {
    "id": "KL_DH0x6Ig-r"
   },
   "source": [
    "## Topics from Notebook 2\n",
    "\n",
    "### Drawing and Labelling Neural Networks (5 minutes)\n",
    "Draw a neural network that contains one neuron in its input layer, two neurons in the first hidden layer, three hidden neurons in the second hidden layer, and two neurons in the output layer.  Label each layer and make sure you draw all connections between the neurons.\n",
    "\n",
    "### Activation Functions (1 minute)\n",
    "Name one common activation function that is used with neural networks.\n",
    "\n",
    "### Creating Neural Networks Three Ways (20 minutes)\n",
    "Create a neural network from scratch, using the library Scikit-Learn (see [this tutorial](https://scikit-learn.org/stable/modules/generated/sklearn.neural_network.MLPRegressor.html)), and the library Keras to create neural networks with the following specifications: an input layer with two neurons, three hidden layers, each with 10 neurons, and an output layer with 1 hidden neuron.  There should be a sigmoid activation function on the first hidden layer, an hyperbolic tangent activation function on the second and third hidden layers, and no activation function on the output layer.  "
   ]
  },
  {
   "cell_type": "markdown",
   "metadata": {
    "id": "OuWseN1XIiXg"
   },
   "source": [
    "## Topics from Notebook 3\n",
    "\n",
    "### A Different Trial Function (45 minutes)\n",
    "\n",
    "Instead of being given the initial position and velocity of an object (making it an initial boundary value problem), instead we can consider a system where we know the position of the object at t=0s and t=1s.  This would make the problem a Dirichlet two boundary problem.  Here instead of using a trial solution of the form\n",
    "\n",
    "$$y_{trial}(t) = A + Bt + t^2NN(W,t),$$\n",
    "\n",
    "we can instead assume a solution of the form\n",
    "\n",
    "$$y_{trial} = A + (B-A)t + (t-t^2)NN(W,t),$$\n",
    "\n",
    "where in this case A = y(0) and B = y(1)-A.  Write your neural network from the \"Practice What You Learned\" section of the notebook to include a trial solution of this form, assuming that the initial position is y(0)=0m and the second position is y(1)=0.25m.  Does this increase or decrease the accuracy of your neural network?\n",
    "\n",
    "### Hyperparameter Tuning (5 minutes)\n",
    "\n",
    "Describe the process of hyperparameter tuning and why you may want to do this for your neural network.\n",
    "\n"
   ]
  }
 ],
 "metadata": {
  "colab": {
   "authorship_tag": "ABX9TyOO3UsBKEeRG5S5OCX9gzSK",
   "collapsed_sections": [],
   "name": "04_further_problems.ipynb",
   "provenance": []
  },
  "kernelspec": {
   "display_name": "Python 3 (ipykernel)",
   "language": "python",
   "name": "python3"
  },
  "language_info": {
   "codemirror_mode": {
    "name": "ipython",
    "version": 3
   },
   "file_extension": ".py",
   "mimetype": "text/x-python",
   "name": "python",
   "nbconvert_exporter": "python",
   "pygments_lexer": "ipython3",
   "version": "3.9.7"
  }
 },
 "nbformat": 4,
 "nbformat_minor": 4
}
