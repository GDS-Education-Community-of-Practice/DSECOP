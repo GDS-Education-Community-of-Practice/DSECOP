{
 "cells": [
  {
   "cell_type": "markdown",
   "metadata": {
    "id": "xL4HSSqENvzO"
   },
   "source": [
    "<a href=\"https://colab.research.google.com/github/GDS-Education-Community-of-Practice/DSECOP/blob/main/Solving_Differential_Equations_with_NNs/03_solving_differential_equations_neural_networks.ipynb\" target=\"_parent\"><img src=\"https://colab.research.google.com/assets/colab-badge.svg\" alt=\"Open In Colab\"/></a>\n",
    "\n",
    "# Notebook 3: Solving Differential Equations with Neural Networks"
   ]
  },
  {
   "cell_type": "markdown",
   "metadata": {
    "id": "-ctuRPTG8k9M"
   },
   "source": [
    "## Introduction\n",
    "\n",
    "An important result to come from studying neural networks is a theorum known as the Universal Approximation Theorem.  It states that a neural network with one hidden layer and a finite number of neurons can approximate any function to any given accuracy.  Of course in practice it may be hard to train a neural network to an accuracy wanted, but we can generally get the accuracy relatively high.  \n",
    "\n",
    "The Universal Approximation Theorem is important for this module because we will be using it to validate the use of neural networks to model the position of an object.  We will do this given only the acceleration of the object and will work up to creating a neural network that models the position.  In doing so, we will be creating a neural network that solves the following differential equation:\n",
    "\n",
    "$$\\frac{d^2y}{dt^2} = a(t,v,y,\\vec{c}),$$\n",
    "\n",
    "where the acceleration of the object, a, may be a function of time, velocity, position, and/or any constants $\\vec{c}$.\n",
    "\n",
    "The below code cells walk you through the process of setting up a neural network that will solve a second order differential equation (in this case using acceleration to find position).  We will compare the results from the neural network to both the exact solution and the results from numerically solving the differential equation using the Velocity-Verlet method (the most accurate of the numerical differential equation solvers investigated)."
   ]
  },
  {
   "cell_type": "markdown",
   "metadata": {
    "id": "xo0TGzeR_AsL"
   },
   "source": [
    "## Overview of Solving Differential Equations with Neural Networks\n",
    "\n",
    "When solving differential equations with neural networks, we assume that the neural network will approximate the function that we are trying to solve and we train the neural network so that its n-th derivative matches the nth-order differential equation we are trying to solve.  For example, when solving for position given acceleration, we can formulate this as a second order differential equation.  Therefore, when we are approximating the position on an object with a neural network, we want to train the network such that its second derivative is as close to the known acceleration as possible.\n",
    "\n",
    "Deriving a neural network may seem like an abstract concept, but the same automatic differentiation library we used in Notebook 2 (JAX) can be used to derive a neural network."
   ]
  },
  {
   "cell_type": "code",
   "execution_count": null,
   "metadata": {
    "id": "oNVpdxqzJnn5"
   },
   "outputs": [],
   "source": [
    "# IMPORTS\n",
    "# Math for the ceiling function\n",
    "from math import ceil\n",
    "# Matplotlib for graphing capabilities\n",
    "from matplotlib import pyplot as plt\n",
    "import numpy as np\n",
    "# Modules from the JAX library for creating neural networks\n",
    "import jax.numpy as jnp\n",
    "from jax import grad\n",
    "from jax import random as npr"
   ]
  },
  {
   "cell_type": "markdown",
   "metadata": {
    "id": "R3WZG7PocnKH"
   },
   "source": [
    "## Support Function\n",
    "\n",
    "The below two code cells define a function that calculates the root mean-squared error between two NumPy arrays (for error analysis) and the a common activation function for neural networks (the sigmoid function)."
   ]
  },
  {
   "cell_type": "code",
   "execution_count": null,
   "metadata": {
    "id": "mWEp7FJeXNa0"
   },
   "outputs": [],
   "source": [
    "def rmse(A,B):\n",
    "    \"\"\"\n",
    "        Inputs:\n",
    "            A,B (NumPy arrays)\n",
    "        Returns:\n",
    "            Unnamed (a float): the RMSE error between A and B\n",
    "        Calculates the RMSE error between A and B.\n",
    "    \"\"\"\n",
    "    assert len(A)==len(B),\"The data sets must be the same length to calcualte\\\n",
    "        the RMSE.\"\n",
    "    return np.sqrt(np.average((A-B)**2)) "
   ]
  },
  {
   "cell_type": "code",
   "execution_count": null,
   "metadata": {
    "id": "NDrQsV8Vcnzj"
   },
   "outputs": [],
   "source": [
    "def sigmoid(x):\n",
    "    \"\"\"\n",
    "        Calculates the value of the sigmoid function for \n",
    "        a given input of x\n",
    "    \"\"\"\n",
    "    return 1. / (1. + jnp.exp(-x))"
   ]
  },
  {
   "cell_type": "markdown",
   "metadata": {
    "id": "_xJT2d_ykwLM"
   },
   "source": [
    "## Defining the Model\n",
    "\n",
    "Now let's define the analytic solution for our position as well as the Velocity-Verlet solution.  The code in the next two cells is taken from the first notebook in this module (Notebook 1: Solving Differential Equations Numerically).  Please see that notebook for a review of these code cells if needed.  The difference is that we define y=0 to be where the object is released in the air (since coordinate systems are arbitrary this is fine)."
   ]
  },
  {
   "cell_type": "code",
   "execution_count": null,
   "metadata": {
    "id": "dlqOGOOKhXsL"
   },
   "outputs": [],
   "source": [
    "def y_analytic(t, b, m):\n",
    "    \"\"\"\n",
    "        Inputs:\n",
    "            t (a 1D NumPy array): the times to calculate the exact position at\n",
    "            b (a float): the linear drag coefficient\n",
    "            m (a float): the mass of the object\n",
    "        Returns:\n",
    "            y_exact (a 1D NumPy array): the exact y position of the object at \n",
    "                each time step\n",
    "        Calculates the exact position for an object in freefall with linear drag\n",
    "    \"\"\"\n",
    "   # Define the gravitational constant\n",
    "    g = -9.81\n",
    "\n",
    "    # Set up the initial conditions (velocity and height)\n",
    "    v_0 = 0\n",
    "    y_0 = 0\n",
    "\n",
    "    # Define the termminal velocity and the characteristic time\n",
    "    v_ter = m*g/b\n",
    "    tau = v_ter/g\n",
    "\n",
    "    # Define and return the exact solution\n",
    "    y_exact = v_ter*t + (v_0-v_ter)*tau*(1-np.exp(-t/tau))+y_0\n",
    "    return y_exact"
   ]
  },
  {
   "cell_type": "code",
   "execution_count": null,
   "metadata": {
    "id": "i-Zta1tEelMV"
   },
   "outputs": [],
   "source": [
    "def velocity_verlet (b,m,DeltaT,tfinal):\n",
    "    \"\"\"\n",
    "        Inputs:\n",
    "            b (a float): the linear drag coefficient\n",
    "            m (a float): the mass of the object\n",
    "            DeltaT (a float): the time step to calculate the position at\n",
    "            tfinal (a float): the last time to calculate the position at\n",
    "        Returns:\n",
    "            y_vv (a 1D NumPy array): the predicted position of the object at \n",
    "                each time step, calculated using the Velocity-Verlet method\n",
    "        Predicts the position of an object in freefall with linear drag using the\n",
    "        Velocity-Cerlet method for solving differential equations\n",
    "    \"\"\"\n",
    "    # Define the near Earth gravitational constant\n",
    "    g = -9.81\n",
    "\n",
    "    # set up arrays \n",
    "    n = ceil(tfinal/DeltaT) #Assuming tinitial=0\n",
    "\n",
    "    # set up arrays for t, a, v, and y and we can compare our results with analytical ones\n",
    "    t = np.zeros(n)\n",
    "    a = np.zeros(n)\n",
    "    v = np.zeros(n)\n",
    "    y_vv = np.zeros(n)\n",
    "\n",
    "    # Initial conditions (Change these if needed)\n",
    "    v[0] = 0.0  #m/s\n",
    "    y_vv[0] = 0.0 #m\n",
    "\n",
    "    # Start integrating using Euler-Cromer\n",
    "    for i in range(n-1):\n",
    "        # expression for acceleration\n",
    "        a[i] = g - (b/m)*v[i]\n",
    "        # update position\n",
    "        y_vv[i+1] = y_vv[i] + v[i]*DeltaT + 0.5*a[i]*DeltaT**2\n",
    "        # updated expression for acceleration\n",
    "        a[i+1] = g - (b/m)*v[i+1]\n",
    "        # update velocity\n",
    "        v[i+1] = v[i] + 0.5*DeltaT*(a[i+1] + a[i])\n",
    "        # update time to next time step and compute analytical answer\n",
    "        t[i+1] = t[i] + DeltaT\n",
    "\n",
    "    return y_vv"
   ]
  },
  {
   "cell_type": "markdown",
   "metadata": {
    "id": "GjA42ac3Svwr"
   },
   "source": [
    "## Define the Acceleration\n",
    "\n",
    "The below function defines the acceleration for an object in free fall with linear drag.  The acceleration here depends only on the velocity of the object and the linear drag coefficient, b."
   ]
  },
  {
   "cell_type": "code",
   "execution_count": null,
   "metadata": {
    "id": "BZ8i92mJhsK9"
   },
   "outputs": [],
   "source": [
    "def acceleration(v, b):\n",
    "    \"\"\"\n",
    "        Inputs:\n",
    "            t (a float): the time to calculate the acceleration at\n",
    "            v (a float): the velocity at time t\n",
    "            b (a float): the linear drag coefficient\n",
    "        Returns:\n",
    "            Unnamed (a float): the acceleration for the given set\n",
    "                of parameters\n",
    "        Calculates and returns the acceleration of the object at a given time t\n",
    "    \"\"\"\n",
    "    g = -9.81 #m/s^2\n",
    "    return g-b*v"
   ]
  },
  {
   "cell_type": "markdown",
   "metadata": {
    "id": "IQPQJhs1k28f"
   },
   "source": [
    "## Creating the Neural Network\n",
    "\n",
    "Now let's create a neural network that has one hidden layer and uses the sigmoid activation function on the hidden layer and no activation function on the outer layer.  If the below code seems unfamiliar, go back and look through the second notebook of this module (Notebook 2: What is a Neural Network?)."
   ]
  },
  {
   "cell_type": "code",
   "execution_count": null,
   "metadata": {
    "id": "yfU_H0olh5cF"
   },
   "outputs": [],
   "source": [
    "def neural_network(W, x):\n",
    "    \"\"\"\n",
    "        Inputs:\n",
    "            W (a list of length 2): the weights of the neural \n",
    "                network\n",
    "            x (a float): the input value of the neural network\n",
    "        Returns:\n",
    "            Unnamed (a float): The output of the neural network\n",
    "        Defines a neural network with one hidden layer.  The \n",
    "        number of neurons in the hidden layer is the length of \n",
    "        W[0]. The activation function is the sigmoid function \n",
    "        on the hidden layer an none on the output layer.\n",
    "    \"\"\"\n",
    "    # Calculate the output for the neurons in the hidden layer\n",
    "    hidden_neuron = sigmoid(jnp.dot(x, W[0]))\n",
    "    # Calculate the result for the output neuron\n",
    "    return jnp.dot(hidden_neuron, W[1])"
   ]
  },
  {
   "cell_type": "markdown",
   "metadata": {
    "id": "gGYVl6Pvgiwt"
   },
   "source": [
    "## Trial Position\n",
    "\n",
    "The below function defines the trial position as a function of the neural network (a general form we assume the equation for the position will take that will be fine-tuned by training the neural network).  Here we are assuming that we know the starting position y(t=0) and the starting velocity v(t=0), making this an initial value problem.  Let's assume that your trial solution has the form:\n",
    "\n",
    "$$y_{trial}(t) = A + Bt + t^2NN(W,t),$$\n",
    "\n",
    "where A and B are a constants set by the initial conditions and NN is the output of the neural network that depends on both the weights (W) and the time.  As it turns out, A = y(t=0) and B = v(t=0) (both of which will be zero in the specific case of this problem).  This makes the final form of our trial solution:\n",
    "\n",
    "$$y_{trial}(t) = t^2NN(W,t).$$\n",
    "\n",
    "Note that we could have used any trial solution for the position as long as it satisfied the initial conditions.  The choice for this particular form of trial solution is discussed [here](https://arxiv.org/pdf/physics/9705023.pdf), though the mathematics can get a bit complicated in places."
   ]
  },
  {
   "cell_type": "code",
   "execution_count": null,
   "metadata": {
    "id": "WfswnIMCh99v"
   },
   "outputs": [],
   "source": [
    "def y_trial(ti, nn):\n",
    "    \"\"\"\n",
    "        Inputs:\n",
    "            ti (a float): the time to calcualte the position at\n",
    "            nn (a float): the neural network prediction at time ti\n",
    "        Returns:\n",
    "            Unnamed (a float): The neural network prediction for the position at\n",
    "                the given time\n",
    "        The neural network preduction for the position of the object\n",
    "    \"\"\"\n",
    "    return ti**2 * nn\n",
    "\n",
    "# The trial velocity is the derivative of the trial position   \n",
    "v_trial = grad(y_trial)\n",
    "# The trial acceleration is the derivative of the trial velocity\n",
    "a_trial = grad(v_trial)"
   ]
  },
  {
   "cell_type": "markdown",
   "metadata": {
    "id": "-AMgWHNmk8OG"
   },
   "source": [
    "## Defining the Loss Function\n",
    "\n",
    "The loss function is a function that will have a minimum (preferably zero) if the results of the neural network match what we expect them to.  Therefore we will define the loss of this neural network as the squared error between the second derivative of the neural network and the expected value for the acceleration.  Remember that if the neural network is modelling the position of an object, then its second derivative will be the acceleration of the object."
   ]
  },
  {
   "cell_type": "code",
   "execution_count": null,
   "metadata": {
    "id": "RPGeHNDNicuU"
   },
   "outputs": [],
   "source": [
    "def loss_function(W, t):\n",
    "    \"\"\"\n",
    "        Inputs:\n",
    "            W (a list): the weights of the neural network\n",
    "            t (a 1D NumPy array): the times to calculate the predicted position at\n",
    "        Returns:\n",
    "            loss_sum (a float): The total loss over all times\n",
    "        The loss function for the neural network to solve for position given \n",
    "        a function for acceleration.\n",
    "    \"\"\"\n",
    "    # Define a variable to hold the total loss\n",
    "    loss_sum = 0.\n",
    "    \n",
    "    # Loop through each individual time\n",
    "    for ti in t:\n",
    "        # Get the output of the neural network with the given set of weights\n",
    "        nn = neural_network(W, ti)[0][0]\n",
    "        \n",
    "        # The prediction for y is related to the neural network\n",
    "        y_nn = y_trial(ti, nn)\n",
    "        # The prediction for velocity is the derivative of the prediction for y\n",
    "        v_nn = v_trial(ti, nn)\n",
    "        # The prediction for acceleration is the derivative of the prediction\n",
    "        # for velocity\n",
    "        a_nn = a_trial(ti, nn)\n",
    "        \n",
    "        # Calculate the true accerlation using the defined function and the \n",
    "        # predictions for y and velocity\n",
    "        a_true = acceleration(v_nn, b) \n",
    "        \n",
    "        # Find the error in the true acceleration and the neural network\n",
    "        # acceleration\n",
    "        err_sqr = (a_nn - a_true)**2\n",
    "        # Update the loss sum\n",
    "        loss_sum += err_sqr\n",
    "        \n",
    "    # Return the loss sum    \n",
    "    return loss_sum"
   ]
  },
  {
   "cell_type": "markdown",
   "metadata": {
    "id": "ocSG7dDdZ51Y"
   },
   "source": [
    "## Train the Neural Network\n",
    "\n",
    "Training neural networks is covered in the second notebook of this module (Notebook 2: What is a Neural Network?).  The code below to train our neural network is very similar.  However, note that here we do not use a train/test split on our data set since we are using the neural network to generate the entire position dataset given only the acceleration."
   ]
  },
  {
   "cell_type": "code",
   "execution_count": null,
   "metadata": {
    "colab": {
     "base_uri": "https://localhost:8080/"
    },
    "executionInfo": {
     "elapsed": 23175,
     "status": "ok",
     "timestamp": 1655156814959,
     "user": {
      "displayName": "Julie Butler Hartley",
      "userId": "16397466870240358107"
     },
     "user_tz": -120
    },
    "id": "F_Db5D3KifJ4",
    "outputId": "8473aa7e-a8b3-4311-94d6-29b2bbfd1fcb"
   },
   "outputs": [
    {
     "name": "stderr",
     "output_type": "stream",
     "text": [
      "WARNING:absl:No GPU/TPU found, falling back to CPU. (Set TF_CPP_MIN_LOG_LEVEL=0 and rerun for more info.)\n"
     ]
    }
   ],
   "source": [
    "# Define the constants: linear drag coefficient and mass\n",
    "b = 0.001\n",
    "m = 1.0\n",
    "\n",
    "# Define the number of time steps, the final time, and the time step (all in seconds)\n",
    "nt = 25\n",
    "tfinal = 2\n",
    "dt = tfinal/nt\n",
    "\n",
    "# Define the time array and generate the exact solution and the numerical solution\n",
    "# using velocity-verlet\n",
    "t = np.linspace(0, tfinal, nt)    \n",
    "\n",
    "# Generate the key random number\n",
    "key = npr.PRNGKey(0)\n",
    "# Set the number of neurons in the hidden layer\n",
    "number_hidden_neurons = 10\n",
    "# Initialize the weights of the neural network with random numbers\n",
    "W = [npr.normal(key,(1, number_hidden_neurons)), npr.normal(key,(number_hidden_neurons, 1))]\n",
    "\n",
    "# Set the learning rate and the number of training iterations for the network\n",
    "learning_rate = 0.001\n",
    "num_training_iterations = 25\n",
    "\n",
    "# Train the neural network for the specified number of iterations\n",
    "# Update the weights using the learning rates\n",
    "for i in range(num_training_iterations):\n",
    "    loss_grad =  grad(loss_function)(W, t)\n",
    "    W[0] = W[0] - learning_rate * loss_grad[0]\n",
    "    W[1] = W[1] - learning_rate * loss_grad[1]"
   ]
  },
  {
   "cell_type": "markdown",
   "metadata": {
    "id": "3Mt2drELaErD"
   },
   "source": [
    "## Analyze The Results\n",
    "\n",
    "Now let's compare the positions generated by the trained neural network both to the results from the Velocity-Verlet method and to the exact solution.  First we need to generate the positions at every time step for all three methods."
   ]
  },
  {
   "cell_type": "code",
   "execution_count": null,
   "metadata": {
    "id": "Wydup1Y8ZpTO"
   },
   "outputs": [],
   "source": [
    "# Calculate the exact solution at every t value\n",
    "y_exact = y_analytic(t,b,m)\n",
    "# Approximate the position using Velocity-Verlet at every t value\n",
    "y_vv = velocity_verlet (b,m,dt,tfinal)\n",
    "# Use the trained neural network to generate the predicted results for y at\n",
    "# every t value\n",
    "y_nn = [y_trial(ti, neural_network(W, ti)[0][0]) for ti in t] "
   ]
  },
  {
   "cell_type": "markdown",
   "metadata": {
    "id": "0Cra_uVFmlXP"
   },
   "source": [
    "Now let's graphically analyze the results by plotting all three results on the same plot."
   ]
  },
  {
   "cell_type": "code",
   "execution_count": null,
   "metadata": {
    "colab": {
     "base_uri": "https://localhost:8080/",
     "height": 301
    },
    "executionInfo": {
     "elapsed": 403,
     "status": "ok",
     "timestamp": 1655156815695,
     "user": {
      "displayName": "Julie Butler Hartley",
      "userId": "16397466870240358107"
     },
     "user_tz": -120
    },
    "id": "FnCe8frzihFQ",
    "outputId": "f7bbf2ea-4f7c-46ef-c6f4-185d48fe3043"
   },
   "outputs": [
    {
     "data": {
      "text/plain": [
       "Text(0, 0.5, 'Position (meters)')"
      ]
     },
     "execution_count": 12,
     "metadata": {},
     "output_type": "execute_result"
    },
    {
     "data": {
      "image/png": "[encoded data removed]",
      "text/plain": [
       "<Figure size 432x288 with 1 Axes>"
      ]
     },
     "metadata": {
      "needs_background": "light"
     },
     "output_type": "display_data"
    }
   ],
   "source": [
    "plt.plot(t, y_exact,linewidth=2,color=\"red\",label=\"Exact\") \n",
    "plt.plot(t, y_nn,linewidth=2,color=\"blue\",label=\"NN\")\n",
    "plt.plot(t,y_vv,linewidth=2,color=\"green\",label=\"Velocity-Verlet\")\n",
    "plt.legend(fontsize=12)\n",
    "plt.xlabel(\"Time (seconds)\",fontsize=14)\n",
    "plt.ylabel(\"Position (meters)\",fontsize=14)"
   ]
  },
  {
   "cell_type": "markdown",
   "metadata": {
    "id": "QZuQbbSOmxCM"
   },
   "source": [
    "Finally, let's calculate the RMSE error between the exact position and the position approximated by the neural network and the exact position and the position approximated by the Velocity-Verlet method."
   ]
  },
  {
   "cell_type": "code",
   "execution_count": null,
   "metadata": {
    "colab": {
     "base_uri": "https://localhost:8080/"
    },
    "executionInfo": {
     "elapsed": 39,
     "status": "ok",
     "timestamp": 1655156815698,
     "user": {
      "displayName": "Julie Butler Hartley",
      "userId": "16397466870240358107"
     },
     "user_tz": -120
    },
    "id": "dssMUzYoaPtY",
    "outputId": "dc551d33-ce4b-438c-f600-2feb90918e3a"
   },
   "outputs": [
    {
     "name": "stdout",
     "output_type": "stream",
     "text": [
      "RMSE of the Velocity-Verlet Solution: 0.70630900830357\n",
      "RMSE of the Neural Network Solution: 0.09494330770895291\n"
     ]
    }
   ],
   "source": [
    "print(\"RMSE of the Velocity-Verlet Solution:\", rmse(y_vv,y_exact))\n",
    "print(\"RMSE of the Neural Network Solution:\", rmse(y_exact,y_nn))"
   ]
  },
  {
   "cell_type": "markdown",
   "metadata": {
    "id": "RToiTIA9m7oB"
   },
   "source": [
    "**EXERCISE 1**: In your opinion, does the Velocity-Verlet method or the neural network approximation work better for modelling the position of an object given its acceleration.  Consider not just accuracy but also other factors such as run time and complexity."
   ]
  },
  {
   "cell_type": "markdown",
   "metadata": {
    "id": "B8SVR-InAsdl"
   },
   "source": [
    "Delete this text and add your answer here."
   ]
  },
  {
   "cell_type": "markdown",
   "metadata": {
    "id": "1V1gxvVXiy8P"
   },
   "source": [
    "## Improving the Accuracy of the Neural Network\n",
    "\n",
    "### Hyperparameter Tuning\n",
    "\n",
    "One of the easiest (though time consuming) methods to improve the accuracy of a neural network is through a process known as hyperparameter tuning.  The output of a neural network depends on many factors, three of which being the learning rate, the number of training iterations, and the number of neurons in each hidden layer.  Hyperparameter tuning is a process through which we train the network using various combinations of values for these parameters to see which combination gives us the best results.\n",
    "\n",
    "The below code cell runs a small hyperparameter tuning process on our neural network.  Note that even though only three options are used for the learning rate, the number of training iterations, and the number of neurons in the hidden layer we will be training and analyzing 27 different neural networks, so this is a time consuming process even with a small number of options.\n",
    "\n",
    "**WARNING**: The below cell will take a long time to run!"
   ]
  },
  {
   "cell_type": "code",
   "execution_count": null,
   "metadata": {
    "colab": {
     "base_uri": "https://localhost:8080/"
    },
    "executionInfo": {
     "elapsed": 1258783,
     "status": "ok",
     "timestamp": 1655158074435,
     "user": {
      "displayName": "Julie Butler Hartley",
      "userId": "16397466870240358107"
     },
     "user_tz": -120
    },
    "id": "RbjuAfgHi4S5",
    "outputId": "a1a7c2b2-8dd0-4157-c79d-901c1595ef54"
   },
   "outputs": [
    {
     "name": "stdout",
     "output_type": "stream",
     "text": [
      "Hyperparameter Combination and Error: ( 0.0001 25 2 ) 6.825785639881246\n",
      "Hyperparameter Combination and Error: ( 0.0001 25 5 ) 4.634791661544085\n",
      "Hyperparameter Combination and Error: ( 0.0001 25 10 ) 2.609767987482142\n",
      "Hyperparameter Combination and Error: ( 0.0001 50 2 ) 3.300284543361196\n",
      "Hyperparameter Combination and Error: ( 0.0001 50 5 ) 1.0619449696315955\n",
      "Hyperparameter Combination and Error: ( 0.0001 50 10 ) 0.5578047367414414\n",
      "Hyperparameter Combination and Error: ( 0.0001 100 2 ) 0.4883778096095776\n",
      "Hyperparameter Combination and Error: ( 0.0001 100 5 ) 0.5416812386045258\n",
      "Hyperparameter Combination and Error: ( 0.0001 100 10 ) 0.08299809479157315\n",
      "Hyperparameter Combination and Error: ( 0.001 25 2 ) 1.2486916624075954\n",
      "Hyperparameter Combination and Error: ( 0.001 25 5 ) 0.39695221178248846\n",
      "Hyperparameter Combination and Error: ( 0.001 25 10 ) 0.09494330770895291\n",
      "Hyperparameter Combination and Error: ( 0.001 50 2 ) 0.7942214993333072\n",
      "Hyperparameter Combination and Error: ( 0.001 50 5 ) 0.1955415092141123\n",
      "Hyperparameter Combination and Error: ( 0.001 50 10 ) 0.04840992014028787\n",
      "Hyperparameter Combination and Error: ( 0.001 100 2 ) 0.16108626524869032\n",
      "Hyperparameter Combination and Error: ( 0.001 100 5 ) 0.03549627366372666\n",
      "Hyperparameter Combination and Error: ( 0.001 100 10 ) 0.02141359789627577\n",
      "Hyperparameter Combination and Error: ( 0.01 25 2 ) 0.2982068065535346\n",
      "Hyperparameter Combination and Error: ( 0.01 25 5 ) 9.040424014569785\n",
      "Hyperparameter Combination and Error: ( 0.01 25 10 ) nan\n",
      "Hyperparameter Combination and Error: ( 0.01 50 2 ) 0.1645828002303167\n",
      "Hyperparameter Combination and Error: ( 0.01 50 5 ) 9.040399242006798\n",
      "Hyperparameter Combination and Error: ( 0.01 50 10 ) nan\n",
      "Hyperparameter Combination and Error: ( 0.01 100 2 ) 0.07011052816014987\n",
      "Hyperparameter Combination and Error: ( 0.01 100 5 ) 9.040264569646913\n",
      "Hyperparameter Combination and Error: ( 0.01 100 10 ) nan\n",
      "Best Hyperparameter Combination and Error: ( 0.001 100 10 ) 0.02141359789627577\n"
     ]
    }
   ],
   "source": [
    "best_err = 100\n",
    "best_lr = None\n",
    "best_num = None\n",
    "best_neurons = None\n",
    "for lr in [0.0001, 0.001, 0.01]:\n",
    "    for num in [25, 50, 100]:\n",
    "        for neurons in [2, 5, 10]:\n",
    "            W = [npr.normal(key,(1, neurons)), npr.normal(key,(neurons, 1))]\n",
    "            for i in range(num):\n",
    "                loss_grad =  grad(loss_function)(W, t)\n",
    "\n",
    "                W[0] = W[0] - lr * loss_grad[0]\n",
    "                W[1] = W[1] - lr * loss_grad[1]\n",
    "            res = [y_trial(ti, neural_network(W, ti)[0][0]) for ti in t] \n",
    "            err = rmse(y_exact,res)\n",
    "            print(\"Hyperparameter Combination and Error: (\",lr, num,neurons,\")\",err)\n",
    "            if err < best_err:\n",
    "                best_err = err\n",
    "                best_lr = lr\n",
    "                best_num = num\n",
    "                best_neurons = neurons\n",
    "print(\"Best Hyperparameter Combination and Error: (\",best_lr, best_num, best_neurons,\")\",best_err)          "
   ]
  },
  {
   "cell_type": "markdown",
   "metadata": {
    "id": "SL-z9sjpAdW1"
   },
   "source": [
    "**EXERCISE 2:** What was the optimal set of parameters and what was the associated RMSE error?  In your opinion, does the decrease in RMSE justify the time needed for the hyperparameter tuning?"
   ]
  },
  {
   "cell_type": "markdown",
   "metadata": {
    "id": "EQbCdVhmApFK"
   },
   "source": [
    "Delete this text and add your answer here."
   ]
  },
  {
   "cell_type": "markdown",
   "metadata": {
    "id": "q-QPMsAaoIxB"
   },
   "source": [
    "Though we are only tuning three different hyperparameter here, there are many more options we could consider.  Things like the number of hidden layers, the number of neurons per hidden layer, and the activation function per hidden layer are all hyperparameters that could be adjusted to improve the accuracy of a neural network."
   ]
  },
  {
   "cell_type": "markdown",
   "metadata": {
    "id": "as3z-i7F8TBy"
   },
   "source": [
    "### Smaller Time Step\n",
    "\n",
    "As seen on the first notebook of this module (Notebook 1: Solving Differential Equations Numerically), a smaller time step makes the numerical differential equation solvers more accurate.  However, this does come with an increased run time.\n",
    "\n",
    "The same should be true for our neural network solution (a smaller step size leads to a greater accuracy but a longer run time).  Let's test that below using a step size that is 4x smaller than previously used."
   ]
  },
  {
   "cell_type": "code",
   "execution_count": null,
   "metadata": {
    "colab": {
     "base_uri": "https://localhost:8080/"
    },
    "executionInfo": {
     "elapsed": 39150,
     "status": "ok",
     "timestamp": 1655158153833,
     "user": {
      "displayName": "Julie Butler Hartley",
      "userId": "16397466870240358107"
     },
     "user_tz": -120
    },
    "id": "ahnssoyPcD5x",
    "outputId": "9fd4cb1a-c281-4696-8536-5a2d9aeb698f"
   },
   "outputs": [
    {
     "name": "stdout",
     "output_type": "stream",
     "text": [
      "RMSE of the Velocity-Verlet Solution: 0.17338892752467963\n",
      "RMSE of the Neural Network Solution: 0.895014010662905\n"
     ]
    }
   ],
   "source": [
    "# Define the constants: linear drag coefficient and mass\n",
    "b = 0.001\n",
    "m = 1.0\n",
    "\n",
    "# Define the number of time steps, the final time, and the time step (all in seconds)\n",
    "nt = 100\n",
    "tfinal = 2\n",
    "dt = tfinal/nt\n",
    "\n",
    "# Define the time array and generate the exact solution and the numerical solution\n",
    "# using velocity-verlet\n",
    "t = np.linspace(0, tfinal, nt)    \n",
    "\n",
    "# Generate the key random number\n",
    "key = npr.PRNGKey(0)\n",
    "# Set the number of neurons in the hidden layer\n",
    "number_hidden_neurons = 10\n",
    "# Initialize the weights of the neural network with random numbers\n",
    "W = [npr.normal(key,(1, number_hidden_neurons)), npr.normal(key,(number_hidden_neurons, 1))]\n",
    "\n",
    "# Set the learning rate and the number of training iterations for the network\n",
    "learning_rate = 0.001\n",
    "num_training_iterations = 25\n",
    "\n",
    "# Train the neural network for the specified number of iterations\n",
    "# Update the weights using the learning rates\n",
    "for i in range(num_training_iterations):\n",
    "    loss_grad =  grad(loss_function)(W, t)\n",
    "    W[0] = W[0] - learning_rate * loss_grad[0]\n",
    "    W[1] = W[1] - learning_rate * loss_grad[1]\n",
    "\n",
    "# Calculate the exact solution at every t value\n",
    "y_exact = y_analytic(t,b,m)\n",
    "# Approximate the position using Velocity-Verlet at every t value\n",
    "y_vv = velocity_verlet (b,m,dt,tfinal)\n",
    "# Use the trained neural network to generate the predicted results for y at\n",
    "# every t value\n",
    "y_nn = [y_trial(ti, neural_network(W, ti)[0][0]) for ti in t]   \n",
    "\n",
    "# Analyze the RMSE of both errors compared to the exact solution\n",
    "print(\"RMSE of the Velocity-Verlet Solution:\", rmse(y_vv,y_exact))\n",
    "print(\"RMSE of the Neural Network Solution:\", rmse(y_exact,y_nn))\n",
    "\n"
   ]
  },
  {
   "cell_type": "markdown",
   "metadata": {
    "id": "5sI9dR-kn5dk"
   },
   "source": [
    "**EXERCISE 3**: In your opinion was this error significantly low enough to justify the time needed to decrease the step size?  Consider this for both the neural network and the Velocity-Verlet results."
   ]
  },
  {
   "cell_type": "markdown",
   "metadata": {
    "id": "Lo2iUr8KAXMF"
   },
   "source": [
    "Delete this text and add your answer here."
   ]
  },
  {
   "cell_type": "markdown",
   "metadata": {
    "id": "Ng01rfUEpdVZ"
   },
   "source": [
    "**EXERCISE 4:** Change the above code to have the optimal set of hyperparameters found above.  Does this improve the result from the neural network?"
   ]
  },
  {
   "cell_type": "markdown",
   "metadata": {
    "id": "mNpO7RnmAR8t"
   },
   "source": [
    "Delete this text and add your answer here."
   ]
  },
  {
   "cell_type": "markdown",
   "metadata": {
    "id": "i4MWj8L9jS1o"
   },
   "source": [
    "## Practice What You Have Learned\n",
    "\n",
    "Using the above notebook as a guide, complete the following exercises.\n",
    "1. Consider a box sliding across a rough surface.  The box is given a push such that its initial velocity is 10m/s and the coefficient of static friction between the box and the surface is 0.01.  What is the analytical expression for the motion of the box?  How long does it take until the box will stop moving (this will be our tfinal)?\n",
    "2. Create a function that will produce the analytical position of the box at a given time.  Consider what other parameters may need to be arguments of this function as well (mass of box, kinetic coefficient of friction, etc.).\n",
    "3. Create a function that numerically solves for the position of the box using the Velocity-Verlet method.  What should be the arguments to this function?\n",
    "4. Considering the initial conditions of the box (y$_0$ = 0m and v$_0$ = 10m/s), what should the trial solution for the neural network solution be?  Create a function called y_trial with your answer (use the above y_trial function as a guide).  \n",
    "5. Using the loss function and neural network training code above (just copy and paste it below), train a neural network for your new system.  How do the results of your neural network compare to the exact solution and to the Velocity-Verlet solution?\n",
    "6. Are you happy with the results from your neural network?  If not, try to use a combination of hyperparameter tuning and reducing the step size to improve your results.\n",
    "7. As the coefficient of kinetic friction is increase, the position of the box as a function of time should become less linear and more quadratic.  Rerun your code with a kinetic coefficient of friction of 0.1 and then 1.0.  How does increasing this coefficient change the accuracy of the Velocity-Verlet and neural network results?\n"
   ]
  },
  {
   "cell_type": "code",
   "execution_count": null,
   "metadata": {
    "id": "pTDFZSXzuJ_S"
   },
   "outputs": [],
   "source": []
  }
 ],
 "metadata": {
  "colab": {
   "authorship_tag": "ABX9TyP0p6mHRPowXI2W3dCmBm4m",
   "collapsed_sections": [],
   "name": "03_solving_differential_equations_neural_networks.ipynb",
   "provenance": []
  },
  "kernelspec": {
   "display_name": "Python 3 (ipykernel)",
   "language": "python",
   "name": "python3"
  },
  "language_info": {
   "codemirror_mode": {
    "name": "ipython",
    "version": 3
   },
   "file_extension": ".py",
   "mimetype": "text/x-python",
   "name": "python",
   "nbconvert_exporter": "python",
   "pygments_lexer": "ipython3",
   "version": "3.9.7"
  }
 },
 "nbformat": 4,
 "nbformat_minor": 4
}
