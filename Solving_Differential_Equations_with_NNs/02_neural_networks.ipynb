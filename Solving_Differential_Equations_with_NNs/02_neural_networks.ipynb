{
 "cells": [
  {
   "cell_type": "markdown",
   "metadata": {
    "id": "u_BjtTXzBGTM"
   },
   "source": [
    "<a href=\"https://colab.research.google.com/github/GDS-Education-Community-of-Practice/DSECOP/blob/main/Solving_Differential_Equations_with_NNs/02_neural_networks.ipynb\" target=\"_parent\"><img src=\"https://colab.research.google.com/assets/colab-badge.svg\" alt=\"Open In Colab\"/></a>\n",
    "\n",
    "# Notebook 2: What is a Neural Network?\n",
    "\n",
    "This notebook will briefly go through the aspects of neural networks that will important for this application.  For a more general overview of neural networks, please see the set of lectures and exercises located [here](https://github.com/GDS-Education-Community-of-Practice/DSECOP/tree/IntroDeepLearn/IntroDeepLearning/lectures)."
   ]
  },
  {
   "cell_type": "markdown",
   "metadata": {
    "id": "PYdPXwjEA5tD"
   },
   "source": [
    "## What is a neural network?\n",
    "* Neural networks can be defined as computational systems that can learn to perform tasks by considering examples, generally without being programmed with any task-specific rules. Another way to phrase this is that a neural network is a computational system that learns to match a given input to the correct output. They are a broad category of machine learning algorithms that include popular algorithms such as convolutional neural networks, recurrent neural networks, and deep learning.\n",
    "\n"
   ]
  },
  {
   "cell_type": "markdown",
   "metadata": {
    "id": "UGonPJUyA5tG"
   },
   "source": [
    "## Neural Network Terminology\n",
    "\n",
    "![NN](https://raw.githubusercontent.com/GDS-Education-Community-of-Practice/DSECOP/main/Solving_Differential_Equations_with_NNs/nn.png)\n",
    "\n",
    "* Neuron (Node): the simplest unit of a neural network, takes in an input and produces an output.  Neurons are represent by circles in the above diagram.\n",
    "* Layer: a collection of neurons that act together.  Layers are represented by vertical stacks of neurons in the above diagram.\n",
    "* Input Layer: the first layer in a neural network, performs no manipulations to the data.  The layer to the very left in the above diagram is the input layer.\n",
    "* Output Layer: the last layer of a neural network.  The layer to the very left in the above diagram is the output layer.\n",
    "* Hidden Layer: any other layer of a neural network, in between the input and output layers.  All other layers besides the input and output layers in the above diagram are hidden layers.\n",
    "\n"
   ]
  },
  {
   "cell_type": "markdown",
   "metadata": {
    "id": "iGRwZisAA5tH"
   },
   "source": [
    "## Fully Connected Feedforward Neural Network (Fully Connected FFNN)\n",
    "\n",
    "![NN](https://raw.githubusercontent.com/GDS-Education-Community-of-Practice/DSECOP/main/Solving_Differential_Equations_with_NNs/nn.png)\n",
    "\n",
    "Though there are many types of neural network, using just the phrase \"neural network\" typically refers to a type of neural network known as a fully connected feedforward neural network (FFNN).  This type of network can also be known as a multilayer perceptron (MLP) if it has at least one hidden layer.\n",
    "\n",
    "Information in an FFNN moves only forward (left to right in the above diagram).  Additionally each neuron is connected to every neuron in the next layer and there are no connection between neurons in the same layer.  This means that the input to a layer in the neural network is simply the output from the previous layer.  As we will see in a moment, each neuron receives a weighted sum of the outputs of all neurons in the previous layer.\n",
    "\n"
   ]
  },
  {
   "cell_type": "markdown",
   "metadata": {
    "id": "nYNZ38p6A5tJ"
   },
   "source": [
    "## Mathematics of  a Neuron\n",
    "\n",
    "Each neuron is a mathematical function involving a column from a weight matrix, a scalar from a bias vector, and an activation function.  We can represent the mathematical form of the i-th neuron as:\n",
    "\n",
    "\n",
    "$$\\hat{y}_i = f(\\sum_{j=1}^M w_{ij}x_j + b_i),$$\n",
    "\n",
    "\n",
    "where x is the input to the neural network, w is the weight matrix which scales the input of the neuron, b is the bias vector that makes sure the output of the neuron is non-zero, and f is known as the activation function, which adds nonlinearity to the neuron."
   ]
  },
  {
   "cell_type": "markdown",
   "metadata": {
    "id": "mg69XMBVA5tK"
   },
   "source": [
    "## Activation Functions\n",
    "\n",
    "There are many common function to use as activation functions for neural networks, but three of the most commons ones are listed here.\n",
    "\n",
    "**Sigmoid**\n",
    "\n",
    "\n",
    "\n",
    "$$f(x) = \\frac{1}{1 + e^{-x}}$$\n",
    "\n",
    "\n",
    "**Hyperbolic Tangent**\n",
    "\n",
    "\n",
    "\n",
    "$$f(x) = tanh(x) = \\frac{e^{2x} - 1}{e^{2x} + 1}$$\n",
    "\n",
    "**Relu (Rectified Linear Unit)**\n",
    "\n",
    "\n",
    "\n",
    "$$f(x) = max(0, x)$$\n"
   ]
  },
  {
   "cell_type": "markdown",
   "metadata": {
    "id": "mGW3t46NA5tL"
   },
   "source": [
    "## A Note on Hyperparameters\n",
    "\n",
    "The number of hidden layers, number of neurons per layer, activation function, and many other features are called hyperparameters of a neural network, meaning that their values must be chosen by the user before the network is run. Changing the value of a hyperparameter can drastically change the results of the neural network.\n"
   ]
  },
  {
   "cell_type": "markdown",
   "metadata": {
    "id": "r_SDms1XA5tp"
   },
   "source": [
    "## Mathematics of Neural Networks: The First Hidden Layer\n",
    "\n",
    "For each neuron, i, in the first hidden layer of a neural network, we can represent its mathematical form as:\n",
    "\n",
    "\n",
    "$$\\hat{y}_i^1 = f^1(\\sum_{j=1}^M w_{ij}^1x_j + b_i^1).$$\n",
    "\n",
    "\n",
    "\n",
    "We can also write out the mathematical form for the entire first hidden layer as:\n",
    "\n",
    "\n",
    "$$\\hat{y}_1 = f^1(W_1\\textbf{x} + \\textbf{b}_1)$$"
   ]
  },
  {
   "cell_type": "markdown",
   "metadata": {
    "id": "dnWfc8YcA5uU"
   },
   "source": [
    "## Mathematics of Neural Networks: The Second Hidden Layer\n",
    "\n",
    "Similarly for the second hidden layer, we can represent the mathematical form of each neuron as:\n",
    "\n",
    "$$y_i^2 = f^2(\\sum_{j=1}^N w_{ij}^2y_j^1 + b_i^2).$$\n",
    "\n",
    "Note here that the weights matriz is no longer multiplied by the inputs to the neural network (x), but rather to the output of the first hidden layer.  This is because the input to the first hidden layer is the input ot the neural network but the input to the second hidden layer is the output of the first hidden layer.  Therefore we can expand the above equation to be a bit more clear:\n",
    "\n",
    "$$y_i^2 = f^2(\\sum_{j=1}^N w_{ij}^2f^1(\\sum_{k=1}^M w_{kj}^1x_k + b_j^1) + b_i^2).$$\n",
    "\n",
    "\n",
    "We can also write a mathematical form for the entire second hidden layer as:\n",
    "\n",
    "$$\\hat{y}_2 = f^2(W_2\\hat{y}_1 + \\textbf{b}_2),$$\n",
    "\n",
    "or more explicitly as\n",
    "\n",
    "$$\\hat{y}_2 = f^2(W_2f^1(W_1\\textbf(x) + \\textbf{b}_1) + \\textbf{b}_2).$$"
   ]
  },
  {
   "cell_type": "markdown",
   "metadata": {
    "id": "pxgZ4mriA5uy"
   },
   "source": [
    "## Mathematics of Neural Networks: The l-th Hidden Layer\n",
    "\n",
    "Finally, we can use the pattern we have developed to write down the equation for the mathematical output for a neuron on the l-th hidden layer of the neural network.  For the i-th neuron on the l-th layer we can describe it mathematically as:\n",
    "\n",
    "\n",
    "$$y_i^l = f^l(\\sum_{j=1}^{N_l} w_{ij}^ly_j^{l-1} + b_i^l),$$\n",
    "\n",
    "and more explicitly as\n",
    "\n",
    "$$y_i^l = f^l(\\sum_{j=1}^{N_l} w_{ij}^lf^{l-1}(\\sum_{k=1}^{N_{l-1}} w_{kj}^{l-2}y_k^{l-1} + b_j^{l-1}) + b_i^l),$$\n",
    "\n",
    "and finally all the way expanded as\n",
    "\n",
    "$$y_i^l = f^l(\\sum_{j=1}^{N_l} w_{ij}^l f^{l-1}(\\sum_{k=1}^{N_{l-1}} w_{jk}^{l-1}( \\cdot \\cdot \\cdot f^1(\\sum_{n=1}^M w_{mn}^1x_n + b_m^1) \\cdot \\cdot \\cdot ) + b_k^{l-1}) + b_j^l).$$\n",
    "\n",
    "\n",
    "We can also write a mathematical expression for the output of the entire l-th layer as:\n",
    "\n",
    "$$\\hat{y}_l = f^l (W_l \\hat{y}_{l-1} + \\textbf{b}_l),$$\n",
    "\n",
    "which can be expanded to\n",
    "\n",
    "$$\\hat{y}_l = f^l(W_lf^{l-1}(W_{l-1}\\hat{y}_{l-2} + \\textbf{b}_{l-1}) + \\textbf{b}_l),$$\n",
    "\n",
    "and finally to\n",
    "\n",
    "$$\\hat{y}_l = f^l(W_lf^{l-1}(W_{l-1}(\\cdot \\cdot \\cdot f^1(W_1\\textbf{x} + \\textbf{b}_1) \\cdot \\cdot \\cdot) + \\textbf{b}_{l-1}) + \\textbf{b}_l).$$\n",
    "\n",
    "\n",
    "It's a complicated expression and can grow to be very large but it is a set equation that describes the output of a neural network with l-1 hidden layers and an output layer. So it is also possible to rephrase the definition of a neural network to be an analytical function that maps a set of inputs to a set of outputs using a set of optimized parameters."
   ]
  },
  {
   "cell_type": "markdown",
   "metadata": {
    "id": "e_NKvIYSA5vC"
   },
   "source": [
    "## Neural Network Loss Function\n",
    "\n",
    "A loss function is used to determine how much the output from a neural network differs from the true/expected result.  There is not a set loss function that is used with neural networks, but two common loss functions are the mean-squared error loss function and the mean absolute error function.  The mean-squared error loss function (MSE) can be defined as:\n",
    "\n",
    "$$J_{MSE}(W) = \\frac{1}{N}\\sum_{i=1}^N (y_i - \\hat{y}_i)^2,$$\n",
    "\n",
    "where y is the true data set, $\\hat{y}$ is the neural network prediction, N is the number of data points in the set, and W are the weights of the neural network.  The loss function depends on the weights of the neural network because changing the weights of the neural network changes its output.  \n",
    "\n",
    "The mean-absolute error loss function (MAE) has a similar form:\n",
    "\n",
    "$$J_{MAE}(W) = \\frac{1}{N}\\sum_{i=1}^N |y_i - \\hat{y}_i|..$$\n"
   ]
  },
  {
   "cell_type": "markdown",
   "metadata": {
    "id": "TTMinj7QA5vH"
   },
   "source": [
    "## Finding The Optimized Weights and Biases\n",
    "\n",
    "A major part of working with neural networks is a process known as training where the weights of the neural network are optimized such that the cost function is minimized.  This training process has two phases: the forward pass and the backpropagation.\n"
   ]
  },
  {
   "cell_type": "markdown",
   "metadata": {
    "id": "7VnG4AWQA5vJ"
   },
   "source": [
    "## Forward Pass\n",
    "\n",
    "![NN](https://raw.githubusercontent.com/GDS-Education-Community-of-Practice/DSECOP/main/Solving_Differential_Equations_with_NNs/bp1.png)\n",
    "\n",
    "The forward pass occurs when data is sent through the neural network (from left to right on the above graph) to produce a predicted output.  This predicted output is then fed into the loss function with the true data set to generate the loss value.\n"
   ]
  },
  {
   "cell_type": "markdown",
   "metadata": {
    "id": "u7CQpwLjA5vL"
   },
   "source": [
    "## Backpropagation\n",
    "\n",
    "![NN](https://raw.githubusercontent.com/GDS-Education-Community-of-Practice/DSECOP/main/Solving_Differential_Equations_with_NNs/bp2.png)\n",
    "\n",
    "After the forward pass comes backpropagation, where the error from the loss function is backpropagated through the layers of the neural networks and its weights are adjusted layer by layer so that the next forward pass will result in a reduced loss value.  A simple way to optimize the weights of a neural network during backpropagation is through an optimization technique known as gradient descent.  The weights of the neural network are simply adjusted by the derivative of the loss function with respect to the weights, scaled by a hyperparameter known as the learning rate:\n",
    "\n",
    "$$W = W - r_{l}\\frac{\\partial J(W)}{\\partial W}.$$\n",
    "\n",
    "The learning rate (r$_l$) is a number typically much less than 1 and it is also a hyperparameter, so its value must be set before the neural network is run.\n",
    "\n",
    "The process of training a neural network involves many different iterations of forward pass followed by backpropagation.  Typically a training process will continue until a certain number of training iterations has been reached or the difference in the current loss value compared to the value from the previous iteration is below a certain threshold.  However, neural networks should not be trained for an overly long time because this will lead to something called overfitting where the neural network learns to match the data set it is trained with very well (so will show a small loss value) but loses all generality when given new data (so it will perform poorly when given the new data set).\n",
    "\n"
   ]
  },
  {
   "cell_type": "markdown",
   "metadata": {
    "id": "ZztdU69O-nEi"
   },
   "source": [
    "**EXERCISE 1**: Take a moment and summarize what you have learned about neural networks in the text box below."
   ]
  },
  {
   "cell_type": "markdown",
   "metadata": {
    "id": "gBrSO1G1-nZF"
   },
   "source": [
    "Delete this text and type your response here."
   ]
  },
  {
   "cell_type": "markdown",
   "metadata": {
    "id": "3vqA3RXtBuEY"
   },
   "source": [
    "## Creating a Neural Network from Scratch Using JAX\n",
    "\n",
    "JAX is an automatic differentiation library in Python that can find the derivative of any chunk of code it is given.  If you are interested you can read more about the library [here](https://github.com/google/jax).\n",
    "\n",
    "The below section of the notebook will create a neural network entirely from scratch and analyze its performance. We will be using the gradient feature of the JAX library to implement a gradient descent optimization of our loss function."
   ]
  },
  {
   "cell_type": "code",
   "execution_count": null,
   "metadata": {
    "id": "t4lC9FhCCpWE"
   },
   "outputs": [],
   "source": [
    "# IMPORTS\n",
    "# Math for the ceiling function\n",
    "from math import ceil\n",
    "# Matplotlib for graphing capabilities\n",
    "from matplotlib import pyplot as plt\n",
    "# Numpy for arrays\n",
    "import numpy as np\n",
    "# Modules from the JAX library for creating neural networks\n",
    "import jax.numpy as jnp\n",
    "from jax import grad\n",
    "from jax import random as npr"
   ]
  },
  {
   "cell_type": "markdown",
   "metadata": {
    "id": "i67TbrTQlVCk"
   },
   "source": [
    "### Generate the Data Set\n",
    "\n",
    "Let's keep things simple and generate a data points from a Gaussian curve.  We will have our x data be evenly space between -10 and 10 and our y data be the corresponding points on a Gaussian curve.\n"
   ]
  },
  {
   "cell_type": "code",
   "execution_count": null,
   "metadata": {
    "id": "pUuugR9kCp3L"
   },
   "outputs": [],
   "source": [
    "# Let's create a data set that is just a basic Gaussian curve\n",
    "X = np.linspace(-10,10,250)\n",
    "y = np.exp(-X**2)"
   ]
  },
  {
   "cell_type": "markdown",
   "metadata": {
    "id": "mzdz0Mg8lX5H"
   },
   "source": [
    "### Perform a Train-Test Split\n",
    "\n",
    "In machine learning problems it is common to split your data into two sets.  The first set, which usually contains 70%-80% of the data, is called the training set.  This set of data is used to train the machine learning algorithm (i.e. set the weights such that the cost function is minimized).  The second data set, which is much smaller, is called the test set.  This is used to test the accuracy of the machine learning algorithm on data that it has not yet seen.\n",
    "\n",
    "Below we use the common training-test split functionality from the library Scikit-Learn.  We will be using 80% of our total data set as the training set with the remaining 20% being the test set."
   ]
  },
  {
   "cell_type": "code",
   "execution_count": null,
   "metadata": {
    "id": "_TbbahdRlPIX"
   },
   "outputs": [],
   "source": [
    "# We will split the data set into two pieces, a training data set that contains\n",
    "# 80% of the total data and a test set that contains the other 20%\n",
    "from sklearn.model_selection import train_test_split\n",
    "train_size = 0.8\n",
    "X_train, X_test, y_train, y_test = train_test_split(X, y, train_size=train_size)"
   ]
  },
  {
   "cell_type": "markdown",
   "metadata": {
    "id": "Hnu0xUo3li8O"
   },
   "source": [
    "### Define the Neural Network\n",
    "\n",
    "Now we will define a neural network using the equations for neural networks defined above.  First we will define the sigmoid function as our activation function."
   ]
  },
  {
   "cell_type": "code",
   "execution_count": null,
   "metadata": {
    "id": "ty4x-OXNDjDv"
   },
   "outputs": [],
   "source": [
    "def sigmoid(x):\n",
    "    \"\"\"\n",
    "        Calculates the value of the sigmoid function for \n",
    "        a given input of x\n",
    "    \"\"\"\n",
    "    return 1. / (1. + jnp.exp(-x))"
   ]
  },
  {
   "cell_type": "markdown",
   "metadata": {
    "id": "m1w51Ui0xbif"
   },
   "source": [
    "Now we will define our neural network.  Here we will be using an architecture with two hidden layers, each using the sigmoid activation function, and an output layer which does not have an activation function.  Note how the input to the second hidden layer is the output from the first hidden layer and the input to the output layer is the output from the second hidden layer.  We will be setting the number of neurons per layer later when we are training the neural network.  The code we have defined below does not require a specific number of neurons per hidden layer."
   ]
  },
  {
   "cell_type": "code",
   "execution_count": null,
   "metadata": {
    "id": "anEAM0LJJgee"
   },
   "outputs": [],
   "source": [
    "def neural_network(W, x):\n",
    "    \"\"\"\n",
    "        Inputs:\n",
    "            W (a list of length 2): the weights of the neural network\n",
    "            x (a float): the input value of the neural network\n",
    "        Returns:\n",
    "            Unnamed (a float): The output of the neural network\n",
    "        Defines a neural network with one hidden layer.  The number of neurons in\n",
    "        the hidden layer is the length of W[0]. The activation function is the \n",
    "        sigmoid function on the hidden layer an none on the output layer.\n",
    "    \"\"\"\n",
    "    # Calculate the output for the neurons in the hidden layers\n",
    "    hidden_layer1 = jnp.tanh(jnp.dot(x,W[0]))\n",
    "    hidden_layer2 = jnp.tanh(jnp.dot(hidden_layer1, W[1]))\n",
    "    # Calculate the result for the output neuron\n",
    "    return jnp.tanh(jnp.dot(hidden_layer2, W[2]))"
   ]
  },
  {
   "cell_type": "markdown",
   "metadata": {
    "id": "6cQWo3MulmGc"
   },
   "source": [
    "### Define the Loss Function\n",
    "\n",
    "Now we need to define our loss function.  For simplicity we will be using the mean-squared error loss function, which is a very common loss function for training neural networks."
   ]
  },
  {
   "cell_type": "code",
   "execution_count": null,
   "metadata": {
    "id": "Sq2AIpStDIsH"
   },
   "outputs": [],
   "source": [
    "def loss_function(W, x, y):\n",
    "    \"\"\"\n",
    "        Inputs:\n",
    "            W (a list): the weights of the neural network\n",
    "            t (a 1D NumPy array): the times to calculate the predicted position at\n",
    "        Returns:\n",
    "            loss_sum (a float): The total loss over all times\n",
    "        The loss function for the neural network to solve for position given \n",
    "        a function for acceleration.\n",
    "    \"\"\"\n",
    "    # Define a variable to hold the total loss\n",
    "    loss_sum = 0.\n",
    "    # Loop through each individual time\n",
    "    for i in range(len(x)):\n",
    "        # Get the output of the neural network with the given set of weights\n",
    "        nn = neural_network(W, x[i])[0][0]\n",
    "        err_sqr = (nn-y[i])**2\n",
    "        # Update the loss sum\n",
    "        loss_sum += err_sqr\n",
    "    loss_sum /= len(x)\n",
    "    # Return the loss sum    \n",
    "    return loss_sum"
   ]
  },
  {
   "cell_type": "markdown",
   "metadata": {
    "id": "BJsuIjroT-Rb"
   },
   "source": [
    "### Train the Neural Network\n",
    "\n",
    "Finally we need to train our neural network.  We will start by randomly initializing the weights of our neural network (with 25 neurons per hidden layer).  We then define the parameters for the learning rate, the number of training iterations, and the threshold for stopping the training.  Next, we perform gradient descent to update the weights of the neural network over for the set number of training iterations, or until the loss function value converges to some set threshold.\n",
    "\n",
    "**WARNING**: This cell will take a long time to run."
   ]
  },
  {
   "cell_type": "code",
   "execution_count": null,
   "metadata": {
    "colab": {
     "base_uri": "https://localhost:8080/"
    },
    "executionInfo": {
     "elapsed": 63780,
     "status": "ok",
     "timestamp": 1655154417810,
     "user": {
      "displayName": "Julie Butler Hartley",
      "userId": "16397466870240358107"
     },
     "user_tz": -120
    },
    "id": "mPlInu6xDhNb",
    "outputId": "1363187d-93db-4f1c-96ac-be133e5118d3"
   },
   "outputs": [
    {
     "name": "stdout",
     "output_type": "stream",
     "text": [
      "Training Iteration: 1\n",
      "Loss: 0.9679325\n",
      "\n",
      "Training Iteration: 2\n",
      "Loss: 0.87496966\n",
      "\n",
      "Training Iteration: 3\n",
      "Loss: 0.42899132\n",
      "\n",
      "Training Iteration: 4\n",
      "Loss: 0.56665987\n",
      "\n",
      "Training Iteration: 5\n",
      "Loss: 0.28957328\n",
      "\n",
      "Training Iteration: 6\n",
      "Loss: 0.37441632\n",
      "\n",
      "Training Iteration: 7\n",
      "Loss: 0.38987857\n",
      "\n",
      "Training Iteration: 8\n",
      "Loss: 0.40654492\n",
      "\n",
      "Training Iteration: 9\n",
      "Loss: 0.2975046\n",
      "\n",
      "Training Iteration: 10\n",
      "Loss: 0.33554095\n",
      "\n",
      "Training Iteration: 11\n",
      "Loss: 0.28734046\n",
      "\n",
      "Training Iteration: 12\n",
      "Loss: 0.31077173\n",
      "\n",
      "Training Iteration: 13\n",
      "Loss: 0.2668793\n",
      "\n",
      "Training Iteration: 14\n",
      "Loss: 0.28293598\n",
      "\n",
      "Training Iteration: 15\n",
      "Loss: 0.25128502\n",
      "\n",
      "Training Iteration: 16\n",
      "Loss: 0.26022694\n",
      "\n",
      "Training Iteration: 17\n",
      "Loss: 0.23660965\n",
      "\n",
      "Training Iteration: 18\n",
      "Loss: 0.2390252\n",
      "\n",
      "Training Iteration: 19\n",
      "Loss: 0.22199869\n",
      "\n",
      "Training Iteration: 20\n",
      "Loss: 0.21908057\n",
      "\n",
      "Training Iteration: 21\n",
      "Loss: 0.20718534\n",
      "\n",
      "Training Iteration: 22\n",
      "Loss: 0.20055237\n",
      "\n",
      "Training Iteration: 23\n",
      "Loss: 0.19233082\n",
      "\n",
      "Training Iteration: 24\n",
      "Loss: 0.18365496\n",
      "\n",
      "Training Iteration: 25\n",
      "Loss: 0.17786014\n",
      "\n",
      "Training Iteration: 26\n",
      "Loss: 0.16854252\n",
      "\n",
      "Training Iteration: 27\n",
      "Loss: 0.1642623\n",
      "\n",
      "Training Iteration: 28\n",
      "Loss: 0.15527935\n",
      "\n",
      "Training Iteration: 29\n",
      "Loss: 0.1519319\n",
      "\n",
      "Training Iteration: 30\n",
      "Loss: 0.1438376\n",
      "\n",
      "Training Iteration: 31\n",
      "Loss: 0.1410901\n",
      "\n",
      "Training Iteration: 32\n",
      "Loss: 0.13411222\n",
      "\n",
      "Training Iteration: 33\n",
      "Loss: 0.13178869\n",
      "\n",
      "Training Iteration: 34\n",
      "Loss: 0.1259442\n",
      "\n",
      "Training Iteration: 35\n",
      "Loss: 0.12395257\n",
      "\n",
      "Training Iteration: 36\n",
      "Loss: 0.119144745\n",
      "\n",
      "Training Iteration: 37\n",
      "Loss: 0.11743273\n",
      "\n",
      "Training Iteration: 38\n",
      "Loss: 0.113516614\n",
      "\n",
      "Training Iteration: 39\n",
      "Loss: 0.11204696\n",
      "\n",
      "Training Iteration: 40\n",
      "Loss: 0.10886968\n",
      "\n",
      "Training Iteration: 41\n",
      "Loss: 0.1076121\n",
      "\n",
      "Training Iteration: 42\n",
      "Loss: 0.10503288\n",
      "\n",
      "Training Iteration: 43\n",
      "Loss: 0.103959225\n",
      "\n",
      "Training Iteration: 44\n",
      "Loss: 0.101857044\n",
      "\n",
      "Training Iteration: 45\n",
      "Loss: 0.1009418\n",
      "\n",
      "Training Iteration: 46\n",
      "Loss: 0.09921744\n",
      "\n",
      "Training Iteration: 47\n",
      "Loss: 0.09843698\n",
      "\n",
      "Training Iteration: 48\n",
      "Loss: 0.097010955\n",
      "\n",
      "Training Iteration: 49\n",
      "Loss: 0.09634497\n",
      "\n",
      "Training Iteration: 50\n",
      "Loss: 0.09515467\n",
      "\n",
      "Training Iteration: 51\n",
      "Loss: 0.09458538\n",
      "\n",
      "Training Iteration: 52\n",
      "Loss: 0.09358216\n",
      "\n",
      "Training Iteration: 53\n",
      "Loss: 0.09309526\n",
      "\n",
      "Training Iteration: 54\n",
      "Loss: 0.09224184\n",
      "\n",
      "Training Iteration: 55\n",
      "Loss: 0.09182528\n",
      "\n",
      "Training Iteration: 56\n",
      "Loss: 0.091092415\n",
      "\n",
      "Training Iteration: 57\n",
      "Loss: 0.09073689\n",
      "\n",
      "Training Iteration: 58\n",
      "Loss: 0.09010229\n",
      "\n",
      "Training Iteration: 59\n",
      "Loss: 0.08980025\n",
      "\n",
      "Training Iteration: 60\n",
      "Loss: 0.08924679\n",
      "\n",
      "Training Iteration: 61\n",
      "Loss: 0.08899272\n",
      "\n",
      "Training Iteration: 62\n",
      "Loss: 0.08850703\n",
      "\n",
      "Training Iteration: 63\n",
      "Loss: 0.088296615\n",
      "\n",
      "Training Iteration: 64\n",
      "Loss: 0.087868385\n",
      "\n",
      "Training Iteration: 65\n",
      "Loss: 0.08769861\n",
      "\n",
      "Training Iteration: 66\n",
      "Loss: 0.08731979\n",
      "\n",
      "Training Iteration: 67\n",
      "Loss: 0.08718859\n",
      "\n",
      "Training Iteration: 68\n",
      "Loss: 0.08685253\n",
      "\n",
      "Training Iteration: 69\n",
      "Loss: 0.086758174\n",
      "\n"
     ]
    }
   ],
   "source": [
    "# Generate the key for the random number generator\n",
    "key = npr.PRNGKey(0)\n",
    "# Set the number of neurons in the hidden layer\n",
    "number_hidden_neurons = 25\n",
    "# Initialize the weights of the neural network with random numbers\n",
    "W = [npr.normal(key,(1, number_hidden_neurons)), \n",
    "     npr.normal(key,(number_hidden_neurons,number_hidden_neurons)), \n",
    "     npr.normal(key,(number_hidden_neurons, 1))]\n",
    "\n",
    "# Set the learning rate and the number of training iterations for the network\n",
    "learning_rate = 0.01\n",
    "num_training_iterations = 100\n",
    "threshold = 0.0001\n",
    "previous_loss = 0\n",
    "\n",
    "# Train the neural network for the specified number of iterations\n",
    "# Update the weights using the learning rates\n",
    "for i in range(num_training_iterations):\n",
    "    print(\"Training Iteration:\", i+1)\n",
    "    current_loss = loss_function(W,X_train,y_train)\n",
    "    print(\"Loss:\", current_loss)\n",
    "    print()\n",
    "    # If the current loss is within a set threshold of the previous loss, stop\n",
    "    # the training\n",
    "    if np.abs(current_loss-previous_loss) < threshold:\n",
    "        break;\n",
    "    # Calculate the gradient of the loss function and then use that gradient to\n",
    "    # update the weights of the neural network using the learning rate and the \n",
    "    # gradient descent optimization method\n",
    "    loss_grad =  grad(loss_function)(W, X_train, y_train)\n",
    "    W[0] = W[0] - learning_rate * loss_grad[0]\n",
    "    W[1] = W[1] - learning_rate * loss_grad[1]\n",
    "    W[2] = W[2] - learning_rate * loss_grad[2]\n",
    "    previous_loss = current_loss\n",
    "    "
   ]
  },
  {
   "cell_type": "markdown",
   "metadata": {
    "id": "6x3W_Ksnlvc5"
   },
   "source": [
    "### Analyze the Results\n",
    "\n",
    "Now we need to analyze the performance of our neural network using the test data set that was reserved earlier.  First we need to generate the neural network predictions for the y component of the test data set."
   ]
  },
  {
   "cell_type": "code",
   "execution_count": null,
   "metadata": {
    "id": "pV5isOXjEe_C"
   },
   "outputs": [],
   "source": [
    "y_nn = [neural_network(W, xi)[0][0] for xi in X_test] "
   ]
  },
  {
   "cell_type": "markdown",
   "metadata": {
    "id": "VdSk3F8U1PvL"
   },
   "source": [
    "First let's analyze the results graphically by plotting the predicted test data set and the true test data set on the same graph."
   ]
  },
  {
   "cell_type": "code",
   "execution_count": null,
   "metadata": {
    "colab": {
     "base_uri": "https://localhost:8080/",
     "height": 301
    },
    "executionInfo": {
     "elapsed": 43,
     "status": "ok",
     "timestamp": 1655154418758,
     "user": {
      "displayName": "Julie Butler Hartley",
      "userId": "16397466870240358107"
     },
     "user_tz": -120
    },
    "id": "mODZn7OTFPxu",
    "outputId": "fea37d06-40c7-4296-84f1-d1b8ea01d39f"
   },
   "outputs": [
    {
     "data": {
      "text/plain": [
       "Text(0, 0.5, 'y')"
      ]
     },
     "execution_count": 39,
     "metadata": {},
     "output_type": "execute_result"
    },
    {
     "data": {
      "image/png": "[encoded data removed]",
      "text/plain": [
       "<Figure size 432x288 with 1 Axes>"
      ]
     },
     "metadata": {
      "needs_background": "light"
     },
     "output_type": "display_data"
    }
   ],
   "source": [
    "plt.scatter(X_test, y_nn, s=50, color=\"blue\",label=\"NN Prediction\")\n",
    "plt.scatter(X_test, y_test, s=50, color=\"red\", label=\"True Data\")\n",
    "plt.legend(fontsize=12)\n",
    "plt.xlabel(\"X\",fontsize=14)\n",
    "plt.ylabel(\"y\",fontsize=14)"
   ]
  },
  {
   "cell_type": "markdown",
   "metadata": {
    "id": "jfQyLgC21u85"
   },
   "source": [
    "Next let's analyze the error numerically using the root mean-squared error (RMSE) function, which is simply the square root of the mean-squared error.  The RMSE gives the average error on each data point (instead of the squared average error) so it is a met more of a clear metric for error analysis.  First, let's define a function to calculate the RMSE between two data sets."
   ]
  },
  {
   "cell_type": "code",
   "execution_count": null,
   "metadata": {
    "id": "w1e0YM82Eu0B"
   },
   "outputs": [],
   "source": [
    "def rmse(A,B):\n",
    "    \"\"\"\n",
    "        Inputs:\n",
    "            A,B (NumPy arrays)\n",
    "        Returns:\n",
    "            Unnamed (a float): the RMSE error between A and B\n",
    "        Calculates the RMSE error between A and B.\n",
    "    \"\"\"\n",
    "    assert len(A)==len(B),\"The data sets must be the same length to calcualte\\\n",
    "        the RMSE.\"\n",
    "    return np.sqrt(np.average((A-B)**2)) "
   ]
  },
  {
   "cell_type": "markdown",
   "metadata": {
    "id": "EqL-fMnZ2K7a"
   },
   "source": [
    "Now let's print the RMSE between the true test data set and the neural network prediction."
   ]
  },
  {
   "cell_type": "code",
   "execution_count": null,
   "metadata": {
    "colab": {
     "base_uri": "https://localhost:8080/"
    },
    "executionInfo": {
     "elapsed": 40,
     "status": "ok",
     "timestamp": 1655154418769,
     "user": {
      "displayName": "Julie Butler Hartley",
      "userId": "16397466870240358107"
     },
     "user_tz": -120
    },
    "id": "ejW4oDj1Eyp3",
    "outputId": "a7989afe-96a2-4aef-f3ed-2b37e2c2d6d5"
   },
   "outputs": [
    {
     "name": "stdout",
     "output_type": "stream",
     "text": [
      "RMSE between true test set and neural network result: 0.4083000246981841\n"
     ]
    }
   ],
   "source": [
    "print(\"RMSE between true test set and neural network result:\", rmse(y_nn,y_test))"
   ]
  },
  {
   "cell_type": "markdown",
   "metadata": {
    "id": "WXG9RQ8j-4d2"
   },
   "source": [
    "**EXERCISE 2**: Are you satisfied with the performance of this neural network?  If not, brainstorm some ways in which its performance may be improved."
   ]
  },
  {
   "cell_type": "markdown",
   "metadata": {
    "id": "mkEhe0yZ-4rs"
   },
   "source": [
    "Delete this text and type your response here."
   ]
  },
  {
   "cell_type": "markdown",
   "metadata": {
    "id": "4N-BKVEJHayF"
   },
   "source": [
    "## Neural Networks with a Popular Python Library\n",
    "\n",
    "When using a neural network for most cases, instead of creating one by hand you will likely use a neural network implementation from a popular Python library.  These have several advantages including being able to easily use large networks (which would be hard to create by hand), the use of more advanced optimizers for training, and more optimized implementations to significantly decrease runtime (and likely more accuracy)."
   ]
  },
  {
   "cell_type": "markdown",
   "metadata": {
    "id": "7fyXHqDLHpYp"
   },
   "source": [
    "### Keras\n",
    "\n",
    "One of the most popular machine learning library in Python is known as Keras, which is actually a wrapper for another machine learning library known as Tensorflow.  See the [Keras website](https://keras.io/) for more information.   Keras is very commonly used for training neural networks because it makes building and training neural networks simply and intuitive. \n",
    "\n",
    "Neural networks are build in keras by adding layers with the specified parameters to a model and then compiling the model with a loss function and an optimizer.  Here we use the same architecture as we have been using (two hidden layers with 25 neurons each and a hyperbolic tangent activation function).  The main difference here is that instead of using the gradient descent algorithm the optimize the weights of the neural network we will instead be using a much more powerful optimizer known as the Adam optimizer."
   ]
  },
  {
   "cell_type": "code",
   "execution_count": null,
   "metadata": {
    "colab": {
     "base_uri": "https://localhost:8080/",
     "height": 1000
    },
    "executionInfo": {
     "elapsed": 10368,
     "status": "ok",
     "timestamp": 1655154429608,
     "user": {
      "displayName": "Julie Butler Hartley",
      "userId": "16397466870240358107"
     },
     "user_tz": -120
    },
    "id": "KDhBDvuxHnC3",
    "outputId": "d5fda35e-0e75-424c-dcd6-d194b3db87d9"
   },
   "outputs": [
    {
     "name": "stdout",
     "output_type": "stream",
     "text": [
      "Epoch 1/200\n",
      "7/7 [==============================] - 0s 3ms/step - loss: 0.1078\n",
      "Epoch 2/200\n",
      "7/7 [==============================] - 0s 3ms/step - loss: 0.0645\n",
      "Epoch 3/200\n",
      "7/7 [==============================] - 0s 3ms/step - loss: 0.0427\n",
      "Epoch 4/200\n",
      "7/7 [==============================] - 0s 3ms/step - loss: 0.0409\n",
      "Epoch 5/200\n",
      "7/7 [==============================] - 0s 3ms/step - loss: 0.0352\n",
      "Epoch 6/200\n",
      "7/7 [==============================] - 0s 3ms/step - loss: 0.0326\n",
      "Epoch 7/200\n",
      "7/7 [==============================] - 0s 3ms/step - loss: 0.0304\n",
      "Epoch 8/200\n",
      "7/7 [==============================] - 0s 4ms/step - loss: 0.0283\n",
      "Epoch 9/200\n",
      "7/7 [==============================] - 0s 2ms/step - loss: 0.0264\n",
      "Epoch 10/200\n",
      "7/7 [==============================] - 0s 3ms/step - loss: 0.0249\n",
      "Epoch 11/200\n",
      "7/7 [==============================] - 0s 3ms/step - loss: 0.0230\n",
      "Epoch 12/200\n",
      "7/7 [==============================] - 0s 3ms/step - loss: 0.0216\n",
      "Epoch 13/200\n",
      "7/7 [==============================] - 0s 3ms/step - loss: 0.0204\n",
      "Epoch 14/200\n",
      "7/7 [==============================] - 0s 3ms/step - loss: 0.0193\n",
      "Epoch 15/200\n",
      "7/7 [==============================] - 0s 3ms/step - loss: 0.0182\n",
      "Epoch 16/200\n",
      "7/7 [==============================] - 0s 4ms/step - loss: 0.0171\n",
      "Epoch 17/200\n",
      "7/7 [==============================] - 0s 3ms/step - loss: 0.0165\n",
      "Epoch 18/200\n",
      "7/7 [==============================] - 0s 2ms/step - loss: 0.0155\n",
      "Epoch 19/200\n",
      "7/7 [==============================] - 0s 3ms/step - loss: 0.0151\n",
      "Epoch 20/200\n",
      "7/7 [==============================] - 0s 3ms/step - loss: 0.0142\n",
      "Epoch 21/200\n",
      "7/7 [==============================] - 0s 4ms/step - loss: 0.0134\n",
      "Epoch 22/200\n",
      "7/7 [==============================] - 0s 3ms/step - loss: 0.0127\n",
      "Epoch 23/200\n",
      "7/7 [==============================] - 0s 3ms/step - loss: 0.0122\n",
      "Epoch 24/200\n",
      "7/7 [==============================] - 0s 3ms/step - loss: 0.0118\n",
      "Epoch 25/200\n",
      "7/7 [==============================] - 0s 3ms/step - loss: 0.0112\n",
      "Epoch 26/200\n",
      "7/7 [==============================] - 0s 4ms/step - loss: 0.0108\n",
      "Epoch 27/200\n",
      "7/7 [==============================] - 0s 3ms/step - loss: 0.0103\n",
      "Epoch 28/200\n",
      "7/7 [==============================] - 0s 2ms/step - loss: 0.0100\n",
      "Epoch 29/200\n",
      "7/7 [==============================] - 0s 3ms/step - loss: 0.0096\n",
      "Epoch 30/200\n",
      "7/7 [==============================] - 0s 3ms/step - loss: 0.0093\n",
      "Epoch 31/200\n",
      "7/7 [==============================] - 0s 3ms/step - loss: 0.0090\n",
      "Epoch 32/200\n",
      "7/7 [==============================] - 0s 3ms/step - loss: 0.0085\n",
      "Epoch 33/200\n",
      "7/7 [==============================] - 0s 3ms/step - loss: 0.0082\n",
      "Epoch 34/200\n",
      "7/7 [==============================] - 0s 3ms/step - loss: 0.0079\n",
      "Epoch 35/200\n",
      "7/7 [==============================] - 0s 3ms/step - loss: 0.0076\n",
      "Epoch 36/200\n",
      "7/7 [==============================] - 0s 3ms/step - loss: 0.0074\n",
      "Epoch 37/200\n",
      "7/7 [==============================] - 0s 3ms/step - loss: 0.0071\n",
      "Epoch 38/200\n",
      "7/7 [==============================] - 0s 3ms/step - loss: 0.0068\n",
      "Epoch 39/200\n",
      "7/7 [==============================] - 0s 3ms/step - loss: 0.0066\n",
      "Epoch 40/200\n",
      "7/7 [==============================] - 0s 3ms/step - loss: 0.0063\n",
      "Epoch 41/200\n",
      "7/7 [==============================] - 0s 3ms/step - loss: 0.0061\n",
      "Epoch 42/200\n",
      "7/7 [==============================] - 0s 4ms/step - loss: 0.0059\n",
      "Epoch 43/200\n",
      "7/7 [==============================] - 0s 3ms/step - loss: 0.0057\n",
      "Epoch 44/200\n",
      "7/7 [==============================] - 0s 3ms/step - loss: 0.0054\n",
      "Epoch 45/200\n",
      "7/7 [==============================] - 0s 4ms/step - loss: 0.0052\n",
      "Epoch 46/200\n",
      "7/7 [==============================] - 0s 3ms/step - loss: 0.0050\n",
      "Epoch 47/200\n",
      "7/7 [==============================] - 0s 3ms/step - loss: 0.0048\n",
      "Epoch 48/200\n",
      "7/7 [==============================] - 0s 3ms/step - loss: 0.0046\n",
      "Epoch 49/200\n",
      "7/7 [==============================] - 0s 3ms/step - loss: 0.0045\n",
      "Epoch 50/200\n",
      "7/7 [==============================] - 0s 3ms/step - loss: 0.0043\n",
      "Epoch 51/200\n",
      "7/7 [==============================] - 0s 3ms/step - loss: 0.0041\n",
      "Epoch 52/200\n",
      "7/7 [==============================] - 0s 3ms/step - loss: 0.0040\n",
      "Epoch 53/200\n",
      "7/7 [==============================] - 0s 2ms/step - loss: 0.0039\n",
      "Epoch 54/200\n",
      "7/7 [==============================] - 0s 3ms/step - loss: 0.0037\n",
      "Epoch 55/200\n",
      "7/7 [==============================] - 0s 3ms/step - loss: 0.0036\n",
      "Epoch 56/200\n",
      "7/7 [==============================] - 0s 3ms/step - loss: 0.0035\n",
      "Epoch 57/200\n",
      "7/7 [==============================] - 0s 3ms/step - loss: 0.0034\n",
      "Epoch 58/200\n",
      "7/7 [==============================] - 0s 3ms/step - loss: 0.0033\n",
      "Epoch 59/200\n",
      "7/7 [==============================] - 0s 3ms/step - loss: 0.0032\n",
      "Epoch 60/200\n",
      "7/7 [==============================] - 0s 3ms/step - loss: 0.0030\n",
      "Epoch 61/200\n",
      "7/7 [==============================] - 0s 3ms/step - loss: 0.0030\n",
      "Epoch 62/200\n",
      "7/7 [==============================] - 0s 3ms/step - loss: 0.0029\n",
      "Epoch 63/200\n",
      "7/7 [==============================] - 0s 3ms/step - loss: 0.0028\n",
      "Epoch 64/200\n",
      "7/7 [==============================] - 0s 3ms/step - loss: 0.0027\n",
      "Epoch 65/200\n",
      "7/7 [==============================] - 0s 3ms/step - loss: 0.0026\n",
      "Epoch 66/200\n",
      "7/7 [==============================] - 0s 3ms/step - loss: 0.0026\n",
      "Epoch 67/200\n",
      "7/7 [==============================] - 0s 4ms/step - loss: 0.0025\n",
      "Epoch 68/200\n",
      "7/7 [==============================] - 0s 3ms/step - loss: 0.0024\n",
      "Epoch 69/200\n",
      "7/7 [==============================] - 0s 3ms/step - loss: 0.0024\n",
      "Epoch 70/200\n",
      "7/7 [==============================] - 0s 3ms/step - loss: 0.0023\n",
      "Epoch 71/200\n",
      "7/7 [==============================] - 0s 3ms/step - loss: 0.0023\n",
      "Epoch 72/200\n",
      "7/7 [==============================] - 0s 3ms/step - loss: 0.0022\n",
      "Epoch 73/200\n",
      "7/7 [==============================] - 0s 3ms/step - loss: 0.0021\n",
      "Epoch 74/200\n",
      "7/7 [==============================] - 0s 3ms/step - loss: 0.0020\n",
      "Epoch 75/200\n",
      "7/7 [==============================] - 0s 3ms/step - loss: 0.0020\n",
      "Epoch 76/200\n",
      "7/7 [==============================] - 0s 4ms/step - loss: 0.0020\n",
      "Epoch 77/200\n",
      "7/7 [==============================] - 0s 5ms/step - loss: 0.0019\n",
      "Epoch 78/200\n",
      "7/7 [==============================] - 0s 4ms/step - loss: 0.0019\n",
      "Epoch 79/200\n",
      "7/7 [==============================] - 0s 4ms/step - loss: 0.0018\n",
      "Epoch 80/200\n",
      "7/7 [==============================] - 0s 3ms/step - loss: 0.0018\n",
      "Epoch 81/200\n",
      "7/7 [==============================] - 0s 4ms/step - loss: 0.0018\n",
      "Epoch 82/200\n",
      "7/7 [==============================] - 0s 4ms/step - loss: 0.0017\n",
      "Epoch 83/200\n",
      "7/7 [==============================] - 0s 4ms/step - loss: 0.0017\n",
      "Epoch 84/200\n",
      "7/7 [==============================] - 0s 3ms/step - loss: 0.0016\n",
      "Epoch 85/200\n",
      "7/7 [==============================] - 0s 3ms/step - loss: 0.0016\n",
      "Epoch 86/200\n",
      "7/7 [==============================] - 0s 3ms/step - loss: 0.0016\n",
      "Epoch 87/200\n",
      "7/7 [==============================] - 0s 4ms/step - loss: 0.0016\n",
      "Epoch 88/200\n",
      "7/7 [==============================] - 0s 3ms/step - loss: 0.0015\n",
      "Epoch 89/200\n",
      "7/7 [==============================] - 0s 3ms/step - loss: 0.0015\n",
      "Epoch 90/200\n",
      "7/7 [==============================] - 0s 3ms/step - loss: 0.0015\n",
      "Epoch 91/200\n",
      "7/7 [==============================] - 0s 3ms/step - loss: 0.0014\n",
      "Epoch 92/200\n",
      "7/7 [==============================] - 0s 3ms/step - loss: 0.0014\n",
      "Epoch 93/200\n",
      "7/7 [==============================] - 0s 3ms/step - loss: 0.0013\n",
      "Epoch 94/200\n",
      "7/7 [==============================] - 0s 3ms/step - loss: 0.0013\n",
      "Epoch 95/200\n",
      "7/7 [==============================] - 0s 3ms/step - loss: 0.0013\n",
      "Epoch 96/200\n",
      "7/7 [==============================] - 0s 3ms/step - loss: 0.0013\n",
      "Epoch 97/200\n",
      "7/7 [==============================] - 0s 3ms/step - loss: 0.0012\n",
      "Epoch 98/200\n",
      "7/7 [==============================] - 0s 3ms/step - loss: 0.0012\n",
      "Epoch 99/200\n",
      "7/7 [==============================] - 0s 3ms/step - loss: 0.0012\n",
      "Epoch 100/200\n",
      "7/7 [==============================] - 0s 3ms/step - loss: 0.0012\n",
      "Epoch 101/200\n",
      "7/7 [==============================] - 0s 3ms/step - loss: 0.0012\n",
      "Epoch 102/200\n",
      "7/7 [==============================] - 0s 3ms/step - loss: 0.0011\n",
      "Epoch 103/200\n",
      "7/7 [==============================] - 0s 3ms/step - loss: 0.0012\n",
      "Epoch 104/200\n",
      "7/7 [==============================] - 0s 3ms/step - loss: 0.0011\n",
      "Epoch 105/200\n",
      "7/7 [==============================] - 0s 3ms/step - loss: 0.0011\n",
      "Epoch 106/200\n",
      "7/7 [==============================] - 0s 3ms/step - loss: 0.0011\n",
      "Epoch 107/200\n",
      "7/7 [==============================] - 0s 3ms/step - loss: 0.0010\n",
      "Epoch 108/200\n",
      "7/7 [==============================] - 0s 4ms/step - loss: 0.0010\n",
      "Epoch 109/200\n",
      "7/7 [==============================] - 0s 3ms/step - loss: 9.8343e-04\n",
      "Epoch 110/200\n",
      "7/7 [==============================] - 0s 3ms/step - loss: 9.9275e-04\n",
      "Epoch 111/200\n",
      "7/7 [==============================] - 0s 3ms/step - loss: 9.7353e-04\n",
      "Epoch 112/200\n",
      "7/7 [==============================] - 0s 4ms/step - loss: 9.6189e-04\n",
      "Epoch 113/200\n",
      "7/7 [==============================] - 0s 3ms/step - loss: 9.3219e-04\n",
      "Epoch 114/200\n",
      "7/7 [==============================] - 0s 3ms/step - loss: 9.3055e-04\n",
      "Epoch 115/200\n",
      "7/7 [==============================] - 0s 3ms/step - loss: 9.2136e-04\n",
      "Epoch 116/200\n",
      "7/7 [==============================] - 0s 4ms/step - loss: 8.8719e-04\n",
      "Epoch 117/200\n",
      "7/7 [==============================] - 0s 3ms/step - loss: 8.5708e-04\n",
      "Epoch 118/200\n",
      "7/7 [==============================] - 0s 3ms/step - loss: 8.6396e-04\n",
      "Epoch 119/200\n",
      "7/7 [==============================] - 0s 4ms/step - loss: 8.2447e-04\n",
      "Epoch 120/200\n",
      "7/7 [==============================] - 0s 3ms/step - loss: 8.3418e-04\n",
      "Epoch 121/200\n",
      "7/7 [==============================] - 0s 2ms/step - loss: 8.1305e-04\n",
      "Epoch 122/200\n",
      "7/7 [==============================] - 0s 3ms/step - loss: 7.7774e-04\n",
      "Epoch 123/200\n",
      "7/7 [==============================] - 0s 3ms/step - loss: 7.7009e-04\n",
      "Epoch 124/200\n",
      "7/7 [==============================] - 0s 3ms/step - loss: 7.4960e-04\n",
      "Epoch 125/200\n",
      "7/7 [==============================] - 0s 3ms/step - loss: 7.4154e-04\n",
      "Epoch 126/200\n",
      "7/7 [==============================] - 0s 3ms/step - loss: 7.5855e-04\n",
      "Epoch 127/200\n",
      "7/7 [==============================] - 0s 3ms/step - loss: 7.1417e-04\n",
      "Epoch 128/200\n",
      "7/7 [==============================] - 0s 3ms/step - loss: 7.0284e-04\n",
      "Epoch 129/200\n",
      "7/7 [==============================] - 0s 3ms/step - loss: 7.0224e-04\n",
      "Epoch 130/200\n",
      "7/7 [==============================] - 0s 3ms/step - loss: 6.7733e-04\n",
      "Epoch 131/200\n",
      "7/7 [==============================] - 0s 4ms/step - loss: 6.6874e-04\n",
      "Epoch 132/200\n",
      "7/7 [==============================] - 0s 3ms/step - loss: 6.6444e-04\n",
      "Epoch 133/200\n",
      "7/7 [==============================] - 0s 3ms/step - loss: 6.5241e-04\n",
      "Epoch 134/200\n",
      "7/7 [==============================] - 0s 3ms/step - loss: 6.4083e-04\n",
      "Epoch 135/200\n",
      "7/7 [==============================] - 0s 3ms/step - loss: 6.3749e-04\n",
      "Epoch 136/200\n",
      "7/7 [==============================] - 0s 3ms/step - loss: 6.6859e-04\n",
      "Epoch 137/200\n",
      "7/7 [==============================] - 0s 3ms/step - loss: 6.3209e-04\n",
      "Epoch 138/200\n",
      "7/7 [==============================] - 0s 3ms/step - loss: 6.0695e-04\n",
      "Epoch 139/200\n",
      "7/7 [==============================] - 0s 3ms/step - loss: 6.0195e-04\n",
      "Epoch 140/200\n",
      "7/7 [==============================] - 0s 4ms/step - loss: 5.9255e-04\n",
      "Epoch 141/200\n",
      "7/7 [==============================] - 0s 4ms/step - loss: 5.8917e-04\n",
      "Epoch 142/200\n",
      "7/7 [==============================] - 0s 3ms/step - loss: 5.8393e-04\n",
      "Epoch 143/200\n",
      "7/7 [==============================] - 0s 3ms/step - loss: 5.6860e-04\n",
      "Epoch 144/200\n",
      "7/7 [==============================] - 0s 3ms/step - loss: 5.6240e-04\n",
      "Epoch 145/200\n",
      "7/7 [==============================] - 0s 3ms/step - loss: 5.7392e-04\n",
      "Epoch 146/200\n",
      "7/7 [==============================] - 0s 4ms/step - loss: 5.7676e-04\n",
      "Epoch 147/200\n",
      "7/7 [==============================] - 0s 4ms/step - loss: 5.7071e-04\n",
      "Epoch 148/200\n",
      "7/7 [==============================] - 0s 4ms/step - loss: 5.3583e-04\n",
      "Epoch 149/200\n",
      "7/7 [==============================] - 0s 4ms/step - loss: 5.2616e-04\n",
      "Epoch 150/200\n",
      "7/7 [==============================] - 0s 4ms/step - loss: 5.2702e-04\n",
      "Epoch 151/200\n",
      "7/7 [==============================] - 0s 3ms/step - loss: 5.3313e-04\n",
      "Epoch 152/200\n",
      "7/7 [==============================] - 0s 3ms/step - loss: 5.0830e-04\n",
      "Epoch 153/200\n",
      "7/7 [==============================] - 0s 3ms/step - loss: 5.0240e-04\n",
      "Epoch 154/200\n",
      "7/7 [==============================] - 0s 3ms/step - loss: 5.2469e-04\n",
      "Epoch 155/200\n",
      "7/7 [==============================] - 0s 3ms/step - loss: 4.9143e-04\n",
      "Epoch 156/200\n",
      "7/7 [==============================] - 0s 3ms/step - loss: 4.8827e-04\n",
      "Epoch 157/200\n",
      "7/7 [==============================] - 0s 3ms/step - loss: 4.7646e-04\n",
      "Epoch 158/200\n",
      "7/7 [==============================] - 0s 3ms/step - loss: 4.6802e-04\n",
      "Epoch 159/200\n",
      "7/7 [==============================] - 0s 3ms/step - loss: 4.6930e-04\n",
      "Epoch 160/200\n",
      "7/7 [==============================] - 0s 3ms/step - loss: 4.8631e-04\n",
      "Epoch 161/200\n",
      "7/7 [==============================] - 0s 4ms/step - loss: 4.5814e-04\n",
      "Epoch 162/200\n",
      "7/7 [==============================] - 0s 4ms/step - loss: 4.6103e-04\n",
      "Epoch 163/200\n",
      "7/7 [==============================] - 0s 3ms/step - loss: 4.6353e-04\n",
      "Epoch 164/200\n",
      "7/7 [==============================] - 0s 3ms/step - loss: 4.6680e-04\n",
      "Epoch 165/200\n",
      "7/7 [==============================] - 0s 4ms/step - loss: 4.5697e-04\n",
      "Epoch 166/200\n",
      "7/7 [==============================] - 0s 3ms/step - loss: 4.6745e-04\n",
      "Epoch 167/200\n",
      "7/7 [==============================] - 0s 3ms/step - loss: 4.3146e-04\n",
      "Epoch 168/200\n",
      "7/7 [==============================] - 0s 3ms/step - loss: 4.2322e-04\n",
      "Epoch 169/200\n",
      "7/7 [==============================] - 0s 4ms/step - loss: 4.3428e-04\n",
      "Epoch 170/200\n",
      "7/7 [==============================] - 0s 3ms/step - loss: 4.1617e-04\n",
      "Epoch 171/200\n",
      "7/7 [==============================] - 0s 3ms/step - loss: 4.1878e-04\n",
      "Epoch 172/200\n",
      "7/7 [==============================] - 0s 4ms/step - loss: 4.0123e-04\n",
      "Epoch 173/200\n",
      "7/7 [==============================] - 0s 3ms/step - loss: 4.0234e-04\n",
      "Epoch 174/200\n",
      "7/7 [==============================] - 0s 3ms/step - loss: 3.9102e-04\n",
      "Epoch 175/200\n",
      "7/7 [==============================] - 0s 3ms/step - loss: 3.8357e-04\n",
      "Epoch 176/200\n",
      "7/7 [==============================] - 0s 3ms/step - loss: 3.7910e-04\n",
      "Epoch 177/200\n",
      "7/7 [==============================] - 0s 3ms/step - loss: 3.7660e-04\n",
      "Epoch 178/200\n",
      "7/7 [==============================] - 0s 4ms/step - loss: 3.6767e-04\n",
      "Epoch 179/200\n",
      "7/7 [==============================] - 0s 3ms/step - loss: 3.6114e-04\n",
      "Epoch 180/200\n",
      "7/7 [==============================] - 0s 3ms/step - loss: 3.6740e-04\n",
      "Epoch 181/200\n",
      "7/7 [==============================] - 0s 2ms/step - loss: 3.7303e-04\n",
      "Epoch 182/200\n",
      "7/7 [==============================] - 0s 3ms/step - loss: 3.5549e-04\n",
      "Epoch 183/200\n",
      "7/7 [==============================] - 0s 3ms/step - loss: 3.4674e-04\n",
      "Epoch 184/200\n",
      "7/7 [==============================] - 0s 4ms/step - loss: 3.4938e-04\n",
      "Epoch 185/200\n",
      "7/7 [==============================] - 0s 4ms/step - loss: 3.4346e-04\n",
      "Epoch 186/200\n",
      "7/7 [==============================] - 0s 3ms/step - loss: 3.3951e-04\n",
      "Epoch 187/200\n",
      "7/7 [==============================] - 0s 3ms/step - loss: 3.3777e-04\n",
      "Epoch 188/200\n",
      "7/7 [==============================] - 0s 3ms/step - loss: 3.3488e-04\n",
      "Epoch 189/200\n",
      "7/7 [==============================] - 0s 4ms/step - loss: 3.3452e-04\n",
      "Epoch 190/200\n",
      "7/7 [==============================] - 0s 3ms/step - loss: 3.2418e-04\n",
      "Epoch 191/200\n",
      "7/7 [==============================] - 0s 3ms/step - loss: 3.2094e-04\n",
      "Epoch 192/200\n",
      "7/7 [==============================] - 0s 3ms/step - loss: 3.2427e-04\n",
      "Epoch 193/200\n",
      "7/7 [==============================] - 0s 5ms/step - loss: 3.2259e-04\n",
      "Epoch 194/200\n",
      "7/7 [==============================] - 0s 3ms/step - loss: 3.1608e-04\n",
      "Epoch 195/200\n",
      "7/7 [==============================] - 0s 3ms/step - loss: 3.1022e-04\n",
      "Epoch 196/200\n",
      "7/7 [==============================] - 0s 3ms/step - loss: 3.1024e-04\n",
      "Epoch 197/200\n",
      "7/7 [==============================] - 0s 3ms/step - loss: 3.1451e-04\n",
      "Epoch 198/200\n",
      "7/7 [==============================] - 0s 3ms/step - loss: 3.0206e-04\n",
      "Epoch 199/200\n",
      "7/7 [==============================] - 0s 3ms/step - loss: 2.9827e-04\n",
      "Epoch 200/200\n",
      "7/7 [==============================] - 0s 3ms/step - loss: 2.9468e-04\n",
      "0.38217810638619504\n"
     ]
    },
    {
     "data": {
      "text/plain": [
       "<matplotlib.collections.PathCollection at 0x7f5e7cc28410>"
      ]
     },
     "execution_count": 43,
     "metadata": {},
     "output_type": "execute_result"
    },
    {
     "data": {
      "image/png": "[encoded data removed]",
      "text/plain": [
       "<Figure size 432x288 with 1 Axes>"
      ]
     },
     "metadata": {
      "needs_background": "light"
     },
     "output_type": "display_data"
    }
   ],
   "source": [
    "import keras\n",
    "\n",
    "# Create the model \n",
    "model = keras.Sequential()\n",
    "model.add(keras.layers.Dense(units = 25, activation = 'tanh', input_dim=1))\n",
    "model.add(keras.layers.Dense(units = 25, activation = 'tanh'))\n",
    "model.add(keras.layers.Dense(units = 1, activation = 'tanh'))\n",
    "model.compile(loss='mse', optimizer=\"adam\")\n",
    "\n",
    "model.fit(X_train,y_train,epochs=200)\n",
    "y_nn = model.predict(X_test)\n",
    "print(rmse(y_nn, y_test))\n",
    "plt.scatter(X_test, y_nn)\n",
    "plt.scatter(X_test,y_test)"
   ]
  },
  {
   "cell_type": "markdown",
   "metadata": {
    "id": "N1P-ziJe_KD-"
   },
   "source": [
    "**EXERCISE 3**: Of the three implementations of neural networks explored here (from scratch, Scikit-Learn, and Keras), which implementation do you think is best?  Consider not just the accuracy of the neural network but also its runtime and ease of use."
   ]
  },
  {
   "cell_type": "markdown",
   "metadata": {
    "id": "v7iLVA0z_KjU"
   },
   "source": [
    "Delete this text and type your response here."
   ]
  },
  {
   "cell_type": "markdown",
   "metadata": {
    "id": "jUfpS2Vp_K3T"
   },
   "source": [
    "## Practice What You Have Learned\n",
    "\n",
    "Go back to Exercise 2 where you brainstormed ways to improve the performance of the neural network.  Choose three of these ideas that you think are the most promising and implement them one at a time below the cell.  Copy and paste as much code from above as needed.  Record how your changes effect the error when predicting the test data set.  Were you able to get the error significantly lower than the notebook's result?"
   ]
  },
  {
   "cell_type": "code",
   "execution_count": null,
   "metadata": {
    "id": "5hn0pdnDTHs2"
   },
   "outputs": [],
   "source": []
  }
 ],
 "metadata": {
  "colab": {
   "authorship_tag": "ABX9TyOvMK4DSfDMHuhnrTkgBFKR",
   "collapsed_sections": [],
   "name": "02_neural_networks.ipynb",
   "provenance": []
  },
  "kernelspec": {
   "display_name": "Python 3 (ipykernel)",
   "language": "python",
   "name": "python3"
  },
  "language_info": {
   "codemirror_mode": {
    "name": "ipython",
    "version": 3
   },
   "file_extension": ".py",
   "mimetype": "text/x-python",
   "name": "python",
   "nbconvert_exporter": "python",
   "pygments_lexer": "ipython3",
   "version": "3.9.10"
  }
 },
 "nbformat": 4,
 "nbformat_minor": 4
}
