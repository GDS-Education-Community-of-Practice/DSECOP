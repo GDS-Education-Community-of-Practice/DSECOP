{
 "cells": [
  {
   "cell_type": "markdown",
   "id": "f7f15ca9-a8eb-4c15-a616-69dfa47538fe",
   "metadata": {},
   "source": [
    "# QHO PINN Modulus Code\n",
    "\n",
    "This code makes use of TensorFlow and Nvidia Modulus v21.06 (https://developer.nvidia.com/modulus). It is a demonstration for solving the 1D QHO system with a PINN."
   ]
  },
  {
   "cell_type": "code",
   "execution_count": null,
   "id": "63676658-f6ee-4281-a50c-ff1710eaa792",
   "metadata": {},
   "outputs": [],
   "source": [
    "from sympy import Symbol, Function, Number, sin, I, pi, sqrt, re, im\n",
    "from sympy.functions import exp\n",
    "\n",
    "from modulus.pdes import PDES\n",
    "from modulus.variables import Variables\n",
    "\n",
    "import numpy as np\n",
    "\n",
    "from modulus.solver import Solver\n",
    "from modulus.dataset import TrainDomain, ValidationDomain\n",
    "from modulus.data import Validation\n",
    "from modulus.sympy_utils.geometry_1d import Line1D\n",
    "from modulus.controller import ModulusController\n",
    "\n",
    "import tensorflow as tf"
   ]
  },
  {
   "cell_type": "markdown",
   "id": "d246b05c-93fe-457a-a028-30fe11ac4e66",
   "metadata": {},
   "source": [
    "Define the PDEs"
   ]
  },
  {
   "cell_type": "code",
   "execution_count": null,
   "id": "397d07d1-6a49-4204-a141-87d51005a456",
   "metadata": {},
   "outputs": [],
   "source": [
    "class QHOEq1D(PDES):\n",
    "\n",
    "  name = 'qho_1d'\n",
    "\n",
    "  def __init__(self, f=1.0):\n",
    "    # coordinates\n",
    "    x = Symbol('x')\n",
    "\n",
    "    # time\n",
    "    t = Symbol('t')\n",
    "\n",
    "    # make input variables\n",
    "    input_variables = {'x':x, 't':t}\n",
    "\n",
    "    # make u,v function\n",
    "    u = Function('u')(*input_variables)\n",
    "    v = Function('v')(*input_variables)\n",
    "\n",
    "    # frequency\n",
    "    if type(f) is str:\n",
    "      f = Function(f)(*input_variables)\n",
    "    elif type(f) in [float, int]:\n",
    "      f = Number(f)\n",
    "\n",
    "    # set equations\n",
    "    self.equations = Variables()\n",
    "    self.equations['qho_1d_u'] = - u.diff(t) - 1/2 * (v.diff(x, 2)) + f**2/2 * (x**2) * v\n",
    "    self.equations['qho_1d_v'] = - v.diff(t) + 1/2 * (u.diff(x, 2)) - f**2/2 * (x**2) * u"
   ]
  },
  {
   "cell_type": "markdown",
   "id": "45bb4a4c-905c-41ca-a019-61a2d88de80b",
   "metadata": {},
   "source": [
    "Set up the domains, initial conditions and boundary conditions."
   ]
  },
  {
   "cell_type": "code",
   "execution_count": null,
   "id": "716246ec-1bf3-4a09-80a0-13203dbd7402",
   "metadata": {},
   "outputs": [],
   "source": [
    "def get_ic(x):\n",
    "    f=1.0\n",
    "    phi_0 =(f / pi) ** (1. / 4.) * exp(-x * f * x / 2.0)\n",
    "    phi_1 = phi_0 *  sqrt(f / 2.) * 2.0 * x\n",
    "    psi = sqrt(1. / 2.) * (phi_0 + phi_1)\n",
    "    return psi\n",
    "\n",
    "# params for domain\n",
    "L = float(np.pi)\n",
    "\n",
    "# define geometry\n",
    "geo = Line1D(-L, L)\n",
    "\n",
    "# define sympy varaibles to parametize domain curves\n",
    "t_symbol = Symbol('t')\n",
    "time_range = {t_symbol: (0, 2*L)}\n",
    "\n",
    "class QHOTrain(TrainDomain):\n",
    "\tdef __init__(self, **config):\n",
    "    super(QHOTrain, self).__init__()\n",
    "    # sympy variables\n",
    "    x = Symbol('x')\n",
    "\n",
    "    #initial conditions\n",
    "    IC = geo.interior_bc(outvar_sympy={'u': get_ic(x), 'v': 0.0},\n",
    "                         bounds={x: (-L, L)},\n",
    "                         batch_size_per_area=100,\n",
    "                         lambda_sympy={'lambda_u': 1.0,\n",
    "                                       'lambda_v': 1.0},\n",
    "                         param_ranges={t_symbol: 0.0})\n",
    "    self.add(IC, name=\"IC\")\n",
    "\n",
    "\n",
    "    #boundary conditions\n",
    "    BC = geo.boundary_bc(outvar_sympy={'u': 0,'v': 0},\n",
    "                         batch_size_per_area=100,\n",
    "                         lambda_sympy={'lambda_u': 1.0,\n",
    "                                       'lambda_v': 1.0},\n",
    "                         param_ranges=time_range)\n",
    "    self.add(BC, name=\"BC\")\n",
    "\n",
    "    # interior\n",
    "    interior = geo.interior_bc(outvar_sympy={'qho_1d_u': 0,'qho_1d_v': 0},\n",
    "                               bounds={x: (-L, L)},\n",
    "                               batch_size_per_area=1000,\n",
    "                               lambda_sympy={'lambda_qho_1d_u': 1.0,'lambda_qho_1d_v': 1.0},\n",
    "                               param_ranges=time_range)\n",
    "    self.add(interior, name=\"Interior\")"
   ]
  },
  {
   "cell_type": "markdown",
   "id": "455de94f-1cfd-4bae-8f24-bca7f2de66aa",
   "metadata": {},
   "source": [
    "Set up analytical solution and validation set."
   ]
  },
  {
   "cell_type": "code",
   "execution_count": null,
   "id": "873d18fa-d392-45d7-ac47-3b491db88058",
   "metadata": {},
   "outputs": [],
   "source": [
    "def get_analytical_solution(X,T):\n",
    "    f=1.0\n",
    "    phi_0 =(f / np.pi) ** (1. / 4.) * np.exp(-X * f * X / 2.0)\n",
    "    phi_1 = phi_0 *  np.sqrt(f / 2.) * 2.0 * X\n",
    "    psi = np.sqrt(1. / 2.) * (np.exp(-1j * f * T/2.0) * phi_0 + np.exp(-1j* 3 * f * T/2.0) * phi_1)\n",
    "\n",
    "    return psi\n",
    "\n",
    "class QHOVal(ValidationDomain):\n",
    "  def __init__(self, **config):\n",
    "    super(QHOVal, self).__init__()\n",
    "    # make validation data\n",
    "    deltaT = 0.01\n",
    "    deltaX = 0.01\n",
    "    x = np.arange(-L, L, deltaX)\n",
    "    t = np.arange(0, 2*L, deltaT)\n",
    "    X, T = np.meshgrid(x, t)\n",
    "    X = np.expand_dims(X.flatten(), axis=-1)\n",
    "    T = np.expand_dims(T.flatten(), axis=-1)\n",
    "    \n",
    "    psi_val = get_analytical_solution(X,T)\n",
    "    u = np.real(psi_val)\n",
    "    v = np.imag(psi_val)\n",
    "\n",
    "    invar_numpy = {'x': X, 't': T}\n",
    "    outvar_numpy = {'u': u, 'v': v}\n",
    "    val = Validation.from_numpy(invar_numpy, outvar_numpy)\n",
    "    self.add(val, name='Val')"
   ]
  },
  {
   "cell_type": "markdown",
   "id": "01e8250d-b61e-44c8-bd4e-c92e3f261644",
   "metadata": {},
   "source": [
    "Define and run the PINN."
   ]
  },
  {
   "cell_type": "code",
   "execution_count": null,
   "id": "696fb55b-30f8-4672-8f23-3d15c4b94480",
   "metadata": {},
   "outputs": [],
   "source": [
    "# Define neural network\n",
    "class QHOSolver(Solver):\n",
    "  train_domain = QHOTrain\n",
    "  val_domain = QHOVal\n",
    "\n",
    "  def __init__(self, **config):\n",
    "    super(QHOSolver, self).__init__(**config)\n",
    "\n",
    "    #self.equations = QHOEq1D(f=1.0).make_node()\n",
    "    self.equations = (QHOEq1D(f=1.0).make_node())\n",
    "    qho_net = self.arch.make_node(name='qho_net',\n",
    "                                   inputs=['x', 't'],\n",
    "                                   outputs=['u','v'])\n",
    "    self.nets = [qho_net]\n",
    "\n",
    "  @classmethod\n",
    "  def update_defaults(cls, defaults):\n",
    "    defaults.update({\n",
    "        'network_dir': './checkpoints/network_checkpoint_qho_1d_full_single_func_3000',\n",
    "        'max_steps': 3000,\n",
    "        'decay_steps': 1000,\n",
    "        })\n",
    "\n",
    "if __name__ == '__main__':\n",
    "    #tf.logging.set_verbosity(tf.logging.ERROR)\n",
    "    ctr = ModulusController(QHOSolver)\n",
    "    ctr.run()"
   ]
  },
  {
   "cell_type": "code",
   "execution_count": null,
   "id": "e6cff752-0c11-4148-9237-479319f6aea7",
   "metadata": {},
   "outputs": [],
   "source": []
  }
 ],
 "metadata": {
  "kernelspec": {
   "display_name": "Python 3 (ipykernel)",
   "language": "python",
   "name": "python3"
  },
  "language_info": {
   "codemirror_mode": {
    "name": "ipython",
    "version": 3
   },
   "file_extension": ".py",
   "mimetype": "text/x-python",
   "name": "python",
   "nbconvert_exporter": "python",
   "pygments_lexer": "ipython3",
   "version": "3.8.12"
  }
 },
 "nbformat": 4,
 "nbformat_minor": 5
}
