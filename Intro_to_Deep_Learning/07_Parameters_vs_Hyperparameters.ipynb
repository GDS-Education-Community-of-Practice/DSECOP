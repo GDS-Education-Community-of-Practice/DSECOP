{
 "cells": [
  {
   "cell_type": "markdown",
   "id": "a3796f50",
   "metadata": {},
   "source": [
    "<a href=\"https://colab.research.google.com/github/GDS-Education-Community-of-Practice/DSECOP/blob/main/Intro_to_Deep_Learning/07_Parameters_vs_Hyperparameters.ipynb\" target=\"_parent\"><img src=\"https://colab.research.google.com/assets/colab-badge.svg\" alt=\"Open In Colab\"/></a>\n",
    "\n",
    "# Lecture VII: Parameters vs. Hyperparameters\n",
    "\n",
    "The logistic regression model's output and input are related by the two parameter sets $\\omega$ and $b$. These are called **model parameters**. But we also use an activation function such as sigmoid function $\\sigma(z)$. Do we call it another parameter of the model? The answer is no. We define it manually, and it does not change **within** the *learning process*. Therefore, an activation function is a **Hyperparameter** in the neural network. In general, *Hyperparameters* are those parameters explicitly defined by the user to control the learning process, whereas *Model parameters* are configuration variables internal to the model, and the model has to **learn them**. \n",
    "\n",
    "Another example of hyperparameters is the learning rate in the gradient descent model. How do we choose it? Should it be $0.01$ or $0.05$, for example? We do not know! The hyperparameter is defined based on prior knowledge of the problem or by try and error!"
   ]
  },
  {
   "cell_type": "markdown",
   "id": "d36cbd89",
   "metadata": {},
   "source": [
    "# Homework\n",
    "\n",
    "Find five hyperparameters in a neural network defined by the logistic regression model and gradient descent method."
   ]
  },
  {
   "cell_type": "code",
   "execution_count": null,
   "id": "166cd2ac",
   "metadata": {},
   "outputs": [],
   "source": []
  }
 ],
 "metadata": {
  "kernelspec": {
   "display_name": "Python 3 (ipykernel)",
   "language": "python",
   "name": "python3"
  },
  "language_info": {
   "codemirror_mode": {
    "name": "ipython",
    "version": 3
   },
   "file_extension": ".py",
   "mimetype": "text/x-python",
   "name": "python",
   "nbconvert_exporter": "python",
   "pygments_lexer": "ipython3",
   "version": "3.9.7"
  }
 },
 "nbformat": 4,
 "nbformat_minor": 5
}
