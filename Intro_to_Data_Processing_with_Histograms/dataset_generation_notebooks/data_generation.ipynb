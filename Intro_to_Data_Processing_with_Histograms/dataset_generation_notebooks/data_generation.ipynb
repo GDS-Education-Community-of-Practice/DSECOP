{
 "cells": [
  {
   "cell_type": "markdown",
   "metadata": {
    "colab_type": "text",
    "id": "view-in-github"
   },
   "source": [
    "<a href=\"https://colab.research.google.com/github/GDS-Education-Community-of-Practice/DSECOP/blob/main/Intro_to_Data_Processing/data_generation.ipynb\" target=\"_parent\"><img src=\"https://colab.research.google.com/assets/colab-badge.svg\" alt=\"Open In Colab\"/></a>"
   ]
  },
  {
   "cell_type": "code",
   "execution_count": null,
   "metadata": {
    "colab": {
     "base_uri": "https://localhost:8080/"
    },
    "id": "pJ8p3_mvULSq",
    "outputId": "cb920f46-c29c-418b-8fca-559ee41085b9"
   },
   "outputs": [
    {
     "name": "stdout",
     "output_type": "stream",
     "text": [
      "Mounted at /content/drive/\n",
      "/content/drive/My Drive/DSECOP/Colab Notebooks\n"
     ]
    }
   ],
   "source": [
    "import numpy as np\n",
    "import matplotlib.pyplot as plt\n",
    "\n",
    "from google.colab import drive \n",
    "drive.mount(\"/content/drive/\")\n",
    "\n",
    "import os\n",
    "os.chdir(\"/content/drive/My Drive/DSECOP/Colab Notebooks/\")\n",
    "!pwd"
   ]
  },
  {
   "cell_type": "markdown",
   "metadata": {
    "id": "YrFarP9IUObn"
   },
   "source": [
    "# In-class modules\n",
    "\n",
    "The following cells generate Geiger counter (Poisson distributed) data for the in-class modules.\n",
    "\n",
    "If modifying:\n",
    "\n",
    "*  Ensure that ```lambda_A``` and ```lambda_B``` are different.\n",
    "*  Ensure that ```n_A``` and ```n_B``` are different.\n"
   ]
  },
  {
   "cell_type": "code",
   "execution_count": null,
   "metadata": {
    "id": "oIE-wrZqUT39"
   },
   "outputs": [],
   "source": [
    "ofile_1 = \"datasets/geiger_counts_A.txt\"\n",
    "ofile_2 = \"datasets/geiger_counts_B.txt\"\n",
    "\n",
    "lambda_A = 12\n",
    "lambda_B = 15\n",
    "\n",
    "n_A = 4000\n",
    "n_B = 5000\n",
    "\n",
    "dataset_1 = np.random.poisson(lambda_A, n_A)\n",
    "dataset_2 = np.random.poisson(lambda_B, n_B)\n",
    "\n",
    "with open(ofile_1, \"w\") as ofile:\n",
    "  for data in dataset_1:\n",
    "    ofile.write(str(data)+\", \")\n",
    "\n",
    "with open(ofile_2, \"w\") as ofile:\n",
    "  for data in dataset_2:\n",
    "    ofile.write(str(data)+\", \")\n"
   ]
  },
  {
   "cell_type": "markdown",
   "metadata": {
    "id": "hRuCw3gBR6tw"
   },
   "source": [
    "# Quiz questions\n",
    "\n",
    "The following cells generate a generic signal (gaussian) + background (exponential) dataset."
   ]
  },
  {
   "cell_type": "code",
   "execution_count": null,
   "metadata": {
    "colab": {
     "base_uri": "https://localhost:8080/",
     "height": 279
    },
    "id": "UtMg_bM3A41U",
    "outputId": "ba19da68-fd49-43fe-acda-d620d32f866d"
   },
   "outputs": [
    {
     "data": {
      "image/png": "[encoded data removed]",
      "text/plain": [
       "<Figure size 432x288 with 1 Axes>"
      ]
     },
     "metadata": {
      "needs_background": "light"
     },
     "output_type": "display_data"
    }
   ],
   "source": [
    "sig_mean = 15\n",
    "sig_std = 3\n",
    "n_sig = 3000\n",
    "\n",
    "bkg_decay = 10\n",
    "n_bkg = 5000\n",
    "\n",
    "signal = np.random.normal(sig_mean, sig_std, n_sig)\n",
    "background = np.random.exponential(bkg_decay, n_bkg)\n",
    "\n",
    "dataset = np.concatenate((signal, background))\n",
    "\n",
    "\n",
    "plt.figure()\n",
    "plt.hist(dataset, bins = 50)\n",
    "plt.xlabel(\"Feature\")\n",
    "plt.ylabel(\"Counts\")\n",
    "plt.show()"
   ]
  },
  {
   "cell_type": "code",
   "execution_count": null,
   "metadata": {
    "id": "6V7UmKJsSHTB"
   },
   "outputs": [],
   "source": [
    "ofile_data = \"datasets/quiz_dataset.txt\"\n",
    "\n",
    "with open(ofile_data, \"w\") as ofile:\n",
    "  for data in dataset:\n",
    "    ofile.write(str(data)+\", \")"
   ]
  },
  {
   "cell_type": "code",
   "execution_count": null,
   "metadata": {
    "id": "NtqLM_SASYiX"
   },
   "outputs": [],
   "source": []
  }
 ],
 "metadata": {
  "colab": {
   "authorship_tag": "ABX9TyPTfxKhFcHIltErUMKPBDMF",
   "collapsed_sections": [],
   "include_colab_link": true,
   "name": "data_generation.ipynb",
   "provenance": []
  },
  "kernelspec": {
   "display_name": "Python 3 (ipykernel)",
   "language": "python",
   "name": "python3"
  },
  "language_info": {
   "codemirror_mode": {
    "name": "ipython",
    "version": 3
   },
   "file_extension": ".py",
   "mimetype": "text/x-python",
   "name": "python",
   "nbconvert_exporter": "python",
   "pygments_lexer": "ipython3",
   "version": "3.9.7"
  }
 },
 "nbformat": 4,
 "nbformat_minor": 4
}
