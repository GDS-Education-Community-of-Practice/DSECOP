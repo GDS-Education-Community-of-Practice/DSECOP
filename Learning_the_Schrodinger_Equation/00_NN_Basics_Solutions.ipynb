{
  "cells": [
    {
      "cell_type": "markdown",
      "metadata": {
        "id": "view-in-github",
        "colab_type": "text"
      },
      "source": [
        "<a href=\"https://colab.research.google.com/github/GDS-Education-Community-of-Practice/DSECOP/blob/main/Learning_the_Schrodinger_Equation/00_NN_Basics_Solutions.ipynb\" target=\"_parent\"><img src=\"https://colab.research.google.com/assets/colab-badge.svg\" alt=\"Open In Colab\"/></a>"
      ]
    },
    {
      "cell_type": "markdown",
      "id": "c3fa8fcd",
      "metadata": {
        "id": "c3fa8fcd"
      },
      "source": [
        "# Neural Networks, Plumbing and Colours: Solution notebook\n",
        "\n",
        "Notebook for DSECOP Module 1\n",
        "\n",
        "Author: Karan Shah"
      ]
    },
    {
      "cell_type": "markdown",
      "id": "55a51fdd",
      "metadata": {
        "id": "55a51fdd"
      },
      "source": [
        "In this notebook, we learn about the basics of neural networks and train our network to convert colours."
      ]
    },
    {
      "cell_type": "code",
      "execution_count": 1,
      "id": "fadccc8e-82e1-4ad1-878e-d04599533094",
      "metadata": {
        "id": "fadccc8e-82e1-4ad1-878e-d04599533094",
        "outputId": "755f02ee-f33c-4816-b38f-d1f594c0d5af",
        "colab": {
          "base_uri": "https://localhost:8080/"
        }
      },
      "outputs": [
        {
          "output_type": "stream",
          "name": "stdout",
          "text": [
            "Colab detected. (Re)Loading helper files\n"
          ]
        }
      ],
      "source": [
        "# Get res dir and helper files\n",
        "import os\n",
        "try:\n",
        "    import google.colab\n",
        "    IN_COLAB = True\n",
        "except:\n",
        "    IN_COLAB = False\n",
        "\n",
        "if IN_COLAB:\n",
        "    print(\"Colab detected. (Re)Loading helper files\")\n",
        "    os.system(\"rm -rf res\")\n",
        "    os.system(\"rm -f res.tar.gz\")\n",
        "    os.system(\"wget https://github.com/GDS-Education-Community-of-Practice/DSECOP/blob/main/Learning_the_Schrodinger_Equation/res.tar.gz?raw=true\")\n",
        "    os.system(\"mv res.tar.gz?raw=true res.tar.gz\")\n",
        "    os.system(\"tar -xzf res.tar.gz\")"
      ]
    },
    {
      "cell_type": "code",
      "execution_count": 2,
      "id": "572549f1",
      "metadata": {
        "id": "572549f1"
      },
      "outputs": [],
      "source": [
        "import numpy as np\n",
        "import matplotlib.pyplot as plt\n",
        "import copy\n",
        "\n",
        "import torch\n",
        "import torch.nn as nn\n",
        "import torch.nn.functional as F\n",
        "\n",
        "import torch.optim as optim\n",
        "\n",
        "from torch.utils.data import Dataset, DataLoader\n",
        "from torchvision import transforms, utils\n",
        "\n",
        "from ipywidgets import interact\n",
        "\n",
        "import sys\n",
        "sys.path.insert(1, './res')\n",
        "try:\n",
        "    from ml_helper import *\n",
        "except Exception as e:\n",
        "    print(e)\n",
        "    print(\"ERROR: It seems the ml_helper file is missing. If you are running this in google colab, please run the first cell block again. (Begins with comment: \\\"Get res dir and helper files\\'\")\n",
        "\n",
        "\n",
        "torch.set_default_tensor_type(torch.DoubleTensor)"
      ]
    },
    {
      "cell_type": "markdown",
      "id": "ae15d974",
      "metadata": {
        "id": "ae15d974"
      },
      "source": [
        "## So what is machine learning?"
      ]
    },
    {
      "cell_type": "markdown",
      "id": "71bd4565",
      "metadata": {
        "id": "71bd4565"
      },
      "source": [
        "Machine learning is a field of computer scince that deals with creating programs that can learn from experience tasks that are not explicitly hardcoded in them. For example, we can create a model that can learn to differentiate between a picture of a cat and a dog without explicit definition of what a cat or a dog is, just by repeteadly looking at pictures which have a correct label on them.\n",
        "\n",
        "> Machine learning is the study of computer algorithms that allow computer programs to automatically improve through experience.\n",
        "\n",
        "In this notebook, we will focus on a specific class of ML known as ddeep learning. Deep learning involves the use of models called neural networks. A neural network is loosely inspired by biological neurons in our brains. \n",
        "\n",
        "But first, let's take a brief detour into the world of digital colours:"
      ]
    },
    {
      "cell_type": "markdown",
      "id": "6b7eb9b2",
      "metadata": {
        "id": "6b7eb9b2"
      },
      "source": [
        "### RGB Colours\n",
        "\n",
        "Let's understand how computers represent colours. Each pixel on your screen is made of 3 sub-pixels: Red, Green and Blue. By changing the intensities of these sub-pixels, we can generate different colours. This way of representing coulours is called \"additive\". This is different from the colours that we use while painting, which is \"subtractive\". When dealing with paints and printing, with subtractive colours, the absence of any colour is white on a sheet of paper. When dealing with digital screens and light, with additive colours, the absence of any colour is black on a display.\n",
        "\n",
        "![res/fig/rgb-additive-subtractive-colors.jpeg](https://github.com/GDS-Education-Community-of-Practice/DSECOP/blob/main/Learning_the_Schrodinger_Equation/res/fig/rgb-additive-subtractive-colors.jpeg?raw=1)\n",
        "\n",
        "\n",
        "Let's play with the RGB colour scheme:\n",
        "For each colour sub-pixel, the intensity is represented as an integer value between 0 to 255. For convenience, we will represent that as a continuous value between 0.0 to 1.0.\n",
        "\n",
        "Each colour is represented as a list of subpixels.\n",
        "[r,g,b] where r is the value of Red subpixel, g is the value of Green subpixel and b is the value of Blue subpixel.\n",
        "\n",
        "\n",
        "Throughout this notebook, you can call the `viz_colour` function to display the r,g,b values and the resultant colours.\n",
        "For example, this is how you would represent pure red colour:\n"
      ]
    },
    {
      "cell_type": "code",
      "execution_count": 3,
      "id": "36f9d9ac",
      "metadata": {
        "id": "36f9d9ac",
        "outputId": "162dec40-865b-4f40-a297-989d240a7a29",
        "colab": {
          "base_uri": "https://localhost:8080/",
          "height": 137
        }
      },
      "outputs": [
        {
          "output_type": "display_data",
          "data": {
            "text/plain": [
              "<Figure size 360x720 with 1 Axes>"
            ],
            "image/png": "[encoded data removed]"
          },
          "metadata": {
            "needs_background": "light"
          }
        },
        {
          "output_type": "stream",
          "name": "stdout",
          "text": [
            "r = 1.0, g = 0.0, b = 0.0\n"
          ]
        }
      ],
      "source": [
        "# represent colour as [r,g,b], call the function viz_colour to show the colour.\n",
        "red = [1.0,0,0]\n",
        "viz_colour_rgb(red)"
      ]
    },
    {
      "cell_type": "code",
      "execution_count": 4,
      "id": "5d98f8ef",
      "metadata": {
        "id": "5d98f8ef",
        "outputId": "c475e1fa-0e11-4019-d92d-f89198ba82c1",
        "colab": {
          "base_uri": "https://localhost:8080/",
          "height": 257
        }
      },
      "outputs": [
        {
          "output_type": "display_data",
          "data": {
            "text/plain": [
              "<Figure size 360x720 with 1 Axes>"
            ],
            "image/png": "[encoded data removed]"
          },
          "metadata": {
            "needs_background": "light"
          }
        },
        {
          "output_type": "stream",
          "name": "stdout",
          "text": [
            "r = 0.0, g = 0.0, b = 1.0\n"
          ]
        },
        {
          "output_type": "display_data",
          "data": {
            "text/plain": [
              "<Figure size 360x720 with 1 Axes>"
            ],
            "image/png": "[encoded data removed]"
          },
          "metadata": {
            "needs_background": "light"
          }
        },
        {
          "output_type": "stream",
          "name": "stdout",
          "text": [
            "r = 0.0, g = 1.0, b = 0.0\n"
          ]
        }
      ],
      "source": [
        "# exercise: fill the values and display blue and green colours\n",
        "blue = [0.0,0.0,1.0] #fill here\n",
        "viz_colour_rgb(blue)\n",
        "\n",
        "green = [0.0,1.0,0.0] #fill here\n",
        "viz_colour_rgb(green)\n"
      ]
    },
    {
      "cell_type": "markdown",
      "id": "d7bb62d2",
      "metadata": {
        "id": "d7bb62d2"
      },
      "source": [
        "We can change the rgb values to create new colours. Refer to figure 1. to see how colours can be mixed. For example, cyan can be made by setting b and g on and turning r off."
      ]
    },
    {
      "cell_type": "code",
      "execution_count": 5,
      "id": "66da8b3d",
      "metadata": {
        "id": "66da8b3d",
        "outputId": "ce7ba134-1747-4673-cf1b-da61fc5be19a",
        "colab": {
          "base_uri": "https://localhost:8080/",
          "height": 137
        }
      },
      "outputs": [
        {
          "output_type": "display_data",
          "data": {
            "text/plain": [
              "<Figure size 360x720 with 1 Axes>"
            ],
            "image/png": "[encoded data removed]"
          },
          "metadata": {
            "needs_background": "light"
          }
        },
        {
          "output_type": "stream",
          "name": "stdout",
          "text": [
            "r = 0.0, g = 1.0, b = 1.0\n"
          ]
        }
      ],
      "source": [
        "# represent colour as [r,g,b], call the function viz_colour to show the colour.\n",
        "cyan = [0.0,1.0,1.0]\n",
        "viz_colour_rgb(cyan)"
      ]
    },
    {
      "cell_type": "code",
      "execution_count": 6,
      "id": "b9984600",
      "metadata": {
        "id": "b9984600",
        "outputId": "43007df6-e2af-4f3a-d24d-1ca45fe66fbe",
        "colab": {
          "base_uri": "https://localhost:8080/",
          "height": 257
        }
      },
      "outputs": [
        {
          "output_type": "display_data",
          "data": {
            "text/plain": [
              "<Figure size 360x720 with 1 Axes>"
            ],
            "image/png": "[encoded data removed]"
          },
          "metadata": {
            "needs_background": "light"
          }
        },
        {
          "output_type": "stream",
          "name": "stdout",
          "text": [
            "r = 1.0, g = 1.0, b = 0.0\n"
          ]
        },
        {
          "output_type": "display_data",
          "data": {
            "text/plain": [
              "<Figure size 360x720 with 1 Axes>"
            ],
            "image/png": "[encoded data removed]"
          },
          "metadata": {
            "needs_background": "light"
          }
        },
        {
          "output_type": "stream",
          "name": "stdout",
          "text": [
            "r = 1.0, g = 0.0, b = 1.0\n"
          ]
        }
      ],
      "source": [
        "# Exercise: refer to figure 1 and fill the values and display yellow and pink colours\n",
        "yellow = [1.0,1.0,0.0] #fill here\n",
        "viz_colour_rgb(yellow)\n",
        "\n",
        "pink = [1.0,0.0,1.0] #fill here\n",
        "viz_colour_rgb(pink)\n"
      ]
    },
    {
      "cell_type": "markdown",
      "id": "2f087814",
      "metadata": {
        "id": "2f087814"
      },
      "source": [
        "The values of r,g,b can be any number between 0.0 and 1.0 and it represents the intensity of that sub-pixel. For example, compare bright red and dull red"
      ]
    },
    {
      "cell_type": "code",
      "execution_count": 7,
      "id": "683b519b",
      "metadata": {
        "id": "683b519b",
        "outputId": "a1772db1-50b2-4f60-9d65-d5367ea99de7",
        "colab": {
          "base_uri": "https://localhost:8080/",
          "height": 257
        }
      },
      "outputs": [
        {
          "output_type": "display_data",
          "data": {
            "text/plain": [
              "<Figure size 360x720 with 1 Axes>"
            ],
            "image/png": "[encoded data removed]"
          },
          "metadata": {
            "needs_background": "light"
          }
        },
        {
          "output_type": "stream",
          "name": "stdout",
          "text": [
            "r = 1.0, g = 0.0, b = 0.0\n"
          ]
        },
        {
          "output_type": "display_data",
          "data": {
            "text/plain": [
              "<Figure size 360x720 with 1 Axes>"
            ],
            "image/png": "[encoded data removed]"
          },
          "metadata": {
            "needs_background": "light"
          }
        },
        {
          "output_type": "stream",
          "name": "stdout",
          "text": [
            "r = 0.5, g = 0.0, b = 0.0\n"
          ]
        }
      ],
      "source": [
        "red = [1.0,0.0,0.0]\n",
        "viz_colour_rgb(red)\n",
        "\n",
        "dull_red = [0.5,0.0,0.0]\n",
        "viz_colour_rgb(dull_red)\n",
        "\n"
      ]
    },
    {
      "cell_type": "code",
      "execution_count": 8,
      "id": "934f3c27",
      "metadata": {
        "id": "934f3c27",
        "outputId": "f9ddc3f1-1a33-4ec0-d8ac-e5d0cd80ef0f",
        "colab": {
          "base_uri": "https://localhost:8080/",
          "height": 377
        }
      },
      "outputs": [
        {
          "output_type": "display_data",
          "data": {
            "text/plain": [
              "<Figure size 360x720 with 1 Axes>"
            ],
            "image/png": "[encoded data removed]"
          },
          "metadata": {
            "needs_background": "light"
          }
        },
        {
          "output_type": "stream",
          "name": "stdout",
          "text": [
            "r = 0.5, g = 0.5, b = 0.5\n"
          ]
        },
        {
          "output_type": "display_data",
          "data": {
            "text/plain": [
              "<Figure size 360x720 with 1 Axes>"
            ],
            "image/png": "[encoded data removed]"
          },
          "metadata": {
            "needs_background": "light"
          }
        },
        {
          "output_type": "stream",
          "name": "stdout",
          "text": [
            "r = 0.0, g = 0.0, b = 0.0\n"
          ]
        },
        {
          "output_type": "display_data",
          "data": {
            "text/plain": [
              "<Figure size 360x720 with 1 Axes>"
            ],
            "image/png": "[encoded data removed]"
          },
          "metadata": {
            "needs_background": "light"
          }
        },
        {
          "output_type": "stream",
          "name": "stdout",
          "text": [
            "r = 1.0, g = 1.0, b = 1.0\n"
          ]
        }
      ],
      "source": [
        "# Exercise: fill the values and display grey colour\n",
        "grey = [0.5,0.5,0.5] #fill here\n",
        "viz_colour_rgb(grey)\n",
        "\n",
        "#black and white for comparison, don't change this \n",
        "black = [0.0,0.0,0.0]\n",
        "viz_colour_rgb(black)\n",
        "\n",
        "white = [1.0,1.0,1.0]\n",
        "viz_colour_rgb(white)"
      ]
    },
    {
      "cell_type": "markdown",
      "id": "91b26fee",
      "metadata": {
        "id": "91b26fee"
      },
      "source": [
        "You now know how computers represent and display colours! You can play with these sliders and create even more colours:"
      ]
    },
    {
      "cell_type": "code",
      "execution_count": 9,
      "id": "707066bf",
      "metadata": {
        "id": "707066bf",
        "outputId": "185e92e6-cb2a-416f-f709-1f07fec7c406",
        "colab": {
          "base_uri": "https://localhost:8080/",
          "height": 233,
          "referenced_widgets": [
            "1ab58a2fbad44d4fa0e2ac9cf4052e92",
            "c0a79a3b3beb45fe919a8e4db076ca49",
            "2eb60593b6be441c83c05dc43993ecb2",
            "50e2f7eb756c4320b1a720814afcb383",
            "4ef821681d134495a2a2387c64bae40d",
            "d41f7988688d4e4cb1eb1ea116b74af5",
            "d5f407cd80634c3db0fa059fb78d207c",
            "13a8821c20c04248b71df11259fe4fef",
            "5bbed483c15f44e9826426daa61c15ae",
            "d566e7855faa4833b65a5de1391ca0a6",
            "ecb6132ad68d474c8e3903b62cd33100",
            "92457d6956ee47469699606eb3fbe73e",
            "4e6cfb5d1a5442b4b5d8c1a782cc5cb9"
          ]
        }
      },
      "outputs": [
        {
          "output_type": "display_data",
          "data": {
            "text/plain": [
              "interactive(children=(FloatSlider(value=0.5, description='r', max=1.0), FloatSlider(value=0.5, description='g'…"
            ],
            "application/vnd.jupyter.widget-view+json": {
              "version_major": 2,
              "version_minor": 0,
              "model_id": "1ab58a2fbad44d4fa0e2ac9cf4052e92"
            }
          },
          "metadata": {}
        }
      ],
      "source": [
        "@interact(r=(0, 1.0),g=(0,1.0),b=(0,1.0))\n",
        "def interactive_viz_colour(r,g,b):\n",
        "    c=[r,g,b]\n",
        "    viz_colour_rgb(c)"
      ]
    },
    {
      "cell_type": "markdown",
      "id": "7016d99c",
      "metadata": {
        "id": "7016d99c"
      },
      "source": [
        "### Neural Networks"
      ]
    },
    {
      "cell_type": "markdown",
      "id": "e54d111b",
      "metadata": {
        "id": "e54d111b"
      },
      "source": [
        "We will construct our own neural network bit by bit. Let's begin with an analogy. Imagine we have water with different colours, and we want to add them together to make new colours. We do that by setting up a system of pipes but we do not know how to arrange these pipes. We will invent a robot plumber called PlumberBot who will keep trying different combinations of pipes. \n",
        "\n",
        "\n",
        "Lets start with the components of a deep learning pipeline:\n",
        "\n",
        "1. Set the pipes for the input and the output.\n",
        "2. Connect the input and output pipes randomly. At this point, the colours will mix incorrectly and we will get wrong results.\n",
        "3. Compare the colours from the output pipes and the true value that we want.\n",
        "4. Based on the difference of these colours, adjust the thickness of the pipes by a tiny bit.\n",
        "5. Repeat steps 3 and 4 till the difference between the predicted colours and the true colours is as low as we want.\n",
        "6. Now the machine learning pipeline is trained. We can use it to mix the colours very quickly.\n",
        "\n",
        "\n",
        "Let's look at the parts of this pipeline in detail:\n",
        "\n",
        "####  Inputs and outputs:\n",
        "The inputs and outputs represent our quantities of interest. In this notebook, we will represent the input with $x$ and the output with $y$. $x$ and $y$ are vectors. \n",
        "\n",
        "The relationship between $x$ and $y$ is\n",
        "$$ y = f(x) $$\n",
        "where $f$ is a function acting on $x$. We might not know the function $f$ explicitly, but given enough pairs of corresponding inputs and outputs, the neural network can approximate $f$.\n",
        "\n",
        "The dataset is the collection of all ($x$,$y$) pairs. We represent the $i$th element of the dataset with the subscript $i$. This means\n",
        "$$ y_i = f(x_i) $$\n",
        "\n",
        "Examples:\n",
        "For a network doing handwriting recognition, $x$ can be an image of written text and $y$ can be the text encoded in digital form.\n",
        "\n",
        "For a network doing text to speech, $x$ can be a sentence in text form and $y$ can be an audio file.\n",
        "\n",
        "For a network identifying animals, $x$ can be an image of an animal and $y$ the name of animal in text form.\n",
        "\n",
        "(In all cases, things such as images, audio, text etc are represented as numbers in computers, so $x$ and $y$ are still vectors)\n",
        "\n",
        "#### Neural Network:\n",
        "The neural network is the network of pipes connecting the input to the output. In most cases, we do not know the arrangement of the pipes beforehand. The colours flow through the input pipes, mix in various ways inside the network and flow out through output pipes.\n",
        "\n",
        "The smallest element of a neural network is called a Perceptron. The perceptron takes in an input vector, applies some mathematical operations to it and produces the output.\n",
        "\n",
        "Mathematically, this is defined as\n",
        "$$ y = wx + b $$\n",
        "$w$ consists of weights and $b$ is known as bias. \n",
        "Here $w$ is a vector too. For example, for $w = [w_1, w_2, w_3]$, \n",
        "$$ y = w_1 * x_1 + w_2 * x_2 + w_3 * x_3 $$\n",
        "![res/fig/perceptron.png](https://github.com/GDS-Education-Community-of-Practice/DSECOP/blob/main/Learning_the_Schrodinger_Equation/res/fig/perceptron.png?raw=1)\n",
        "\n",
        "\n",
        "We can think of $w$ as the thickness of pipes in our analogy. By changing the values of $w$, we control the flow of different colours from the input.\n",
        "\n",
        "Neural networks are made by combining the perceptrons and stacking them into layers, such that the output of the previous perceptron is the input of the next one.\n",
        "\n",
        "####  Predictions and ground truth:\n",
        "The prediction is simply the output of the neural network. In this notebook, we will use notation where $^$ denotes the true value. The neural network can be represented by $NN$. The output predicted value is represented by $y$ and the true known value $\n",
        "hat{y}$.\n",
        "\n",
        "$$ \\hat{y_i} = NN(x_i) $$\n",
        "\n",
        "####  Loss function:\n",
        "Our goal is to make the output of the pipes as close as possible to the true value of the colours that are formed by mixing the input. The loss function represents the difference between the predicted $y$ and true $\\hat{y}$. Ideally, the goal is to get $y = \\hat{y}$. One common way of measuring this is the mean squared error. For a single vector of size $m$, it is defined as:\n",
        "$$ L_i = \\sum_{j=1}^{m} (\\hat{v_j} - v_j)^2 $$, where $v_j$ are elements of $y$ and $\\hat{v_j}$ are elements of $\\hat{y}$.\n",
        "\n",
        "Let's implement this in code"
      ]
    },
    {
      "cell_type": "code",
      "execution_count": 10,
      "id": "5f572664",
      "metadata": {
        "id": "5f572664"
      },
      "outputs": [],
      "source": [
        "# Exercise: Implement mse_loss for colours\n",
        "# Hint: For two numbers a and b, the mse_loss is of the form\n",
        "# loss = (a - b) ** 2\n",
        "# However, you are not dealing with single numbers but vectors of 3 numbers (like a = [0.3,0.1,0.5])\n",
        "# You can ith element of the vector a by using index a[i-1].\n",
        "# eg a[0] will return first element, a[1] will return second element and so on.\n",
        "\n",
        "def mse_loss_nb(y,y_hat):\n",
        "    loss = (y[0] - y_hat[0])**2 + (y[1] - y_hat[1])**2 + (y[2] - y_hat[2]) ** 2\n",
        "    return loss"
      ]
    },
    {
      "cell_type": "code",
      "execution_count": 11,
      "id": "0547640f",
      "metadata": {
        "id": "0547640f",
        "outputId": "bc6639d1-50c4-410c-a04e-5dd977d74795",
        "colab": {
          "base_uri": "https://localhost:8080/"
        }
      },
      "outputs": [
        {
          "output_type": "stream",
          "name": "stdout",
          "text": [
            "The loss is 0\n"
          ]
        }
      ],
      "source": [
        "y = np.array([1,1,1])\n",
        "y_hat = np.array([1,1,1])\n",
        "loss = mse_loss_nb(y,y_hat)\n",
        "print(f\"The loss is {loss}\")"
      ]
    },
    {
      "cell_type": "code",
      "execution_count": 12,
      "id": "5043adf5",
      "metadata": {
        "id": "5043adf5",
        "outputId": "b7477137-0c98-4d22-c54f-06c3ae740461",
        "colab": {
          "base_uri": "https://localhost:8080/"
        }
      },
      "outputs": [
        {
          "output_type": "stream",
          "name": "stdout",
          "text": [
            "The loss is 1.7749000000000001\n"
          ]
        }
      ],
      "source": [
        "y = np.array([1,1,1])\n",
        "y_hat = np.array([0.2,0.43,0.1])\n",
        "loss = mse_loss_nb(y,y_hat)\n",
        "print(f\"The loss is {loss}\")"
      ]
    },
    {
      "cell_type": "markdown",
      "id": "fdcd3482",
      "metadata": {
        "id": "fdcd3482"
      },
      "source": [
        "####  Backpropagation:\n",
        "How do we figure out the correct arrangement of pipes to get the desired output $y$ close to $\\hat{y}$? We instruct our robot plumber to minimize the value of $L$. It changes the thickness of network pipes a little bit, passes the input through the network and checks the value of $L$ for that case. Then it changes the thickness of the pipes again trying to lower the value of $L$. This procedure of changing weights is called backpropagation. \n",
        "\n",
        "Mathematically, this is calulated by the rate of change of $L$ with respect to $w$. The derivative calculates the rate of change of $L$ with respect to $w$, ie how much does $L$ change when we change $w$ by a small amount. You will learn more about this in your Calculus classes.\n",
        "$$ \\Delta w_i = - \\frac{\\partial L}{\\partial w_i} $$\n",
        "and then updating the $w_i$\n",
        "$$ w_i = w_i + \\Delta w_i $$\n",
        "\n",
        "$\\Delta w_i$ is a (tiny) quantity that measures how $L$ changes when we change $w_i$. \n",
        "\n",
        "By repeating this procedure for a large number of times, the $L$ is minimized to a value close to 0, ie our predictions match the true values we need.\n",
        "\n",
        "#### Training, testing and overfitting\n",
        "While working with neural networks, we split our dataset into training and test datasets. The training dataset is used to train the neural network for our task. Once trained, the pipelines are fixed and then we use the test dataset to measure how the network performs.\n",
        "\n",
        "This is important because we don't want our network to just memorize the specific data points in our dataset. Remember when you were learning multiplication in school? You could memorize the multiplication tables in words, like \"three times four equals twelve\" and \"seven times nine equals sixty three\". However, when you are taking a maths test and you face a multiplication problem you haven't memorized, like \"12\\*10=?\", then you wouldn't be able to solve it. If you understood how multiplication works, then you could just calculate \"12\\*10=120\".\n",
        "\n",
        "We want the neural network to understand the task, not just memorize. We can measure this by giving it a test after it has done studying (training). If the neural network has memorized too much, it will not score well on the test. This is called \"overfitting\".\n",
        "\n",
        "Luckily, we have our PlumberBot who can change the pipes very quickly! Let's give our PlumberBot it's first task.\n",
        "\n",
        "![res/fig/rp-1.png](https://github.com/GDS-Education-Community-of-Practice/DSECOP/blob/main/Learning_the_Schrodinger_Equation/res/fig/rp-1.png?raw=1)\n",
        "\n",
        "\n",
        "### Network 1: RGB to RGB\n",
        "\n",
        "The current exercise is trivial, the colors in the output of the pipes should be the same as the colours in the input of the pipes. There are three input pipes: red, green and blue, and there are three ouput pipes that will eject the same colours.\n",
        "\n",
        "Remember that when PlumberBot first sets up the pipes, the whole network is in a random order. That means there will be problems like the paint from red input pipe going to pipes in the green and blue outputs and so on. Our goal is to make PlumberBot figure out the correct arrangement of pipes without telling it the solution.\n",
        "\n",
        "While this is a simple exercise, it will illustrate important concepts about how neural networks work.\n",
        "\n",
        "First let's create the data set. We will create a training set of 1000 random colours. Fill in the next block:"
      ]
    },
    {
      "cell_type": "code",
      "execution_count": 13,
      "id": "5ce532e3",
      "metadata": {
        "id": "5ce532e3"
      },
      "outputs": [],
      "source": [
        "# Exercise: Create 1000 colours. Each colour has 3 elements (r,g,b).\n",
        "# Example: To create a training set with size 500 and 4 elements each, you can use:\n",
        "# n_size = 500\n",
        "# n_elements = 4\n",
        "# training_set = np.random.rand(n_size, n_elements)\n",
        "n_size = 1000\n",
        "n_elements = 3\n",
        "training_set = np.random.rand(n_size, n_elements)"
      ]
    },
    {
      "cell_type": "markdown",
      "id": "2f2218ee",
      "metadata": {
        "id": "2f2218ee"
      },
      "source": [
        "Now our training set consists of 1000 colours consisting of 3 elements (r,g,b) each. Some data points of the training set are:"
      ]
    },
    {
      "cell_type": "code",
      "execution_count": 14,
      "id": "314fb95e",
      "metadata": {
        "id": "314fb95e",
        "outputId": "91b2dfd2-73bd-466b-c683-51acc679046f",
        "colab": {
          "base_uri": "https://localhost:8080/"
        }
      },
      "outputs": [
        {
          "output_type": "stream",
          "name": "stdout",
          "text": [
            "[[0.4482174  0.73159059 0.83882864]\n",
            " [0.53881878 0.34210259 0.76913406]\n",
            " [0.18724726 0.16073148 0.18909146]\n",
            " ...\n",
            " [0.96272962 0.87453879 0.27729435]\n",
            " [0.08405296 0.44050997 0.81951791]\n",
            " [0.80572804 0.80208516 0.02975454]]\n"
          ]
        }
      ],
      "source": [
        "print(training_set)"
      ]
    },
    {
      "cell_type": "markdown",
      "id": "814b3bdd",
      "metadata": {
        "id": "814b3bdd"
      },
      "source": [
        "What is the size of this dataset? You can use the np.shape function."
      ]
    },
    {
      "cell_type": "code",
      "execution_count": 15,
      "id": "fa1ff84c",
      "metadata": {
        "id": "fa1ff84c",
        "outputId": "eb7eb187-a8cd-451e-f492-dbc0e8ea625d",
        "colab": {
          "base_uri": "https://localhost:8080/"
        }
      },
      "outputs": [
        {
          "output_type": "stream",
          "name": "stdout",
          "text": [
            "(1000, 3)\n"
          ]
        }
      ],
      "source": [
        "# Exercise: Print size of training set\n",
        "# Hint: To get the size of an array a, use a.shape\n",
        "training_set_size = training_set.shape\n",
        "print(training_set_size)"
      ]
    },
    {
      "cell_type": "markdown",
      "id": "f66bb7d1",
      "metadata": {
        "id": "f66bb7d1"
      },
      "source": [
        "Let's vizualize the first 3 elements of the training set. These will change everytime you run this notebook."
      ]
    },
    {
      "cell_type": "code",
      "execution_count": 16,
      "id": "5aab7137",
      "metadata": {
        "id": "5aab7137",
        "outputId": "bac1f6bf-7ad1-468c-cc21-9330ac98f65a",
        "colab": {
          "base_uri": "https://localhost:8080/",
          "height": 377
        }
      },
      "outputs": [
        {
          "output_type": "display_data",
          "data": {
            "text/plain": [
              "<Figure size 360x720 with 1 Axes>"
            ],
            "image/png": "[encoded data removed]"
          },
          "metadata": {
            "needs_background": "light"
          }
        },
        {
          "output_type": "stream",
          "name": "stdout",
          "text": [
            "r = 0.45, g = 0.73, b = 0.84\n"
          ]
        },
        {
          "output_type": "display_data",
          "data": {
            "text/plain": [
              "<Figure size 360x720 with 1 Axes>"
            ],
            "image/png": "[encoded data removed]"
          },
          "metadata": {
            "needs_background": "light"
          }
        },
        {
          "output_type": "stream",
          "name": "stdout",
          "text": [
            "r = 0.54, g = 0.34, b = 0.77\n"
          ]
        },
        {
          "output_type": "display_data",
          "data": {
            "text/plain": [
              "<Figure size 360x720 with 1 Axes>"
            ],
            "image/png": "[encoded data removed]"
          },
          "metadata": {
            "needs_background": "light"
          }
        },
        {
          "output_type": "stream",
          "name": "stdout",
          "text": [
            "r = 0.19, g = 0.16, b = 0.19\n"
          ]
        }
      ],
      "source": [
        "for i in np.arange(3):\n",
        "    viz_colour_rgb(training_set[i])"
      ]
    },
    {
      "cell_type": "markdown",
      "id": "8cab8509",
      "metadata": {
        "id": "8cab8509"
      },
      "source": [
        "You can explore the whole training set with this widget. Move the slider to see different colour data points."
      ]
    },
    {
      "cell_type": "code",
      "execution_count": 17,
      "id": "b1aa552a",
      "metadata": {
        "id": "b1aa552a",
        "outputId": "ca90b24e-b73b-4371-fe9a-74634c2033a4",
        "colab": {
          "base_uri": "https://localhost:8080/",
          "height": 169,
          "referenced_widgets": [
            "1b011d7dd4d64decacd640de4de56cad",
            "57d8efcc465f46e7b4f080232698a5fa",
            "894167f83b8a44a49fd043fd0ee66061",
            "2cc31b3a4f7345db9b8cb9976269b723",
            "8f2f7101cde54033af686ca09566b2d4",
            "ab262c54a2e2497daea2a571bab597fb",
            "c3c0f6c35d294064b09b2671fb5f2620"
          ]
        }
      },
      "outputs": [
        {
          "output_type": "display_data",
          "data": {
            "text/plain": [
              "interactive(children=(IntSlider(value=500, description='n', max=1000), Output()), _dom_classes=('widget-intera…"
            ],
            "application/vnd.jupyter.widget-view+json": {
              "version_major": 2,
              "version_minor": 0,
              "model_id": "1b011d7dd4d64decacd640de4de56cad"
            }
          },
          "metadata": {}
        }
      ],
      "source": [
        "@interact(n=(0,1000))\n",
        "def interactive_trainset_viz(n):\n",
        "    c = training_set[n]\n",
        "    viz_colour_rgb(c)\n",
        "    "
      ]
    },
    {
      "cell_type": "markdown",
      "id": "58a164fa",
      "metadata": {
        "id": "58a164fa"
      },
      "source": [
        "Let's set up the general structure of the neural network. We will create only one layer of pipes, joining each input pipe to each output pipe. This means that we created 3 perceptrons, each with 3 inputs (input r,g,b) and 1 output (r or g or b)."
      ]
    },
    {
      "cell_type": "code",
      "execution_count": 18,
      "id": "9614cf73",
      "metadata": {
        "id": "9614cf73"
      },
      "outputs": [],
      "source": [
        "class PipeNet(nn.Module):\n",
        "    def __init__(self):\n",
        "        super().__init__()\n",
        "        \n",
        "        self.fc1 = nn.Linear(3, 3)\n",
        "        # (3,3) means 3 inputs, 3 outputs\n",
        "\n",
        "\n",
        "    def forward(self, x):\n",
        "        x = self.fc1(x)\n",
        "\n",
        "        return x\n",
        "\n",
        "\n",
        "net = PipeNet()\n",
        "untrained_net = copy.deepcopy(net)"
      ]
    },
    {
      "cell_type": "markdown",
      "id": "3abd57b0",
      "metadata": {
        "id": "3abd57b0"
      },
      "source": [
        "After running this, PlumberBot has set up random pipes between the input and the output. This means that the paints won't be mixed correctly. Let's try running our network now."
      ]
    },
    {
      "cell_type": "code",
      "execution_count": 19,
      "id": "434fd1e3",
      "metadata": {
        "id": "434fd1e3",
        "outputId": "efd9f100-c617-4def-ca05-8d52aca48848",
        "colab": {
          "base_uri": "https://localhost:8080/",
          "height": 992
        }
      },
      "outputs": [
        {
          "output_type": "stream",
          "name": "stdout",
          "text": [
            "Input RGB:\n"
          ]
        },
        {
          "output_type": "display_data",
          "data": {
            "text/plain": [
              "<Figure size 360x720 with 1 Axes>"
            ],
            "image/png": "[encoded data removed]"
          },
          "metadata": {
            "needs_background": "light"
          }
        },
        {
          "output_type": "stream",
          "name": "stderr",
          "text": [
            "WARNING:matplotlib.image:Clipping input data to the valid range for imshow with RGB data ([0..1] for floats or [0..255] for integers).\n"
          ]
        },
        {
          "output_type": "stream",
          "name": "stdout",
          "text": [
            "r = 0.0, g = 0.0, b = 0.0\n",
            "\n",
            "Output Prediction RGB:\n"
          ]
        },
        {
          "output_type": "display_data",
          "data": {
            "text/plain": [
              "<Figure size 360x720 with 1 Axes>"
            ],
            "image/png": "[encoded data removed]"
          },
          "metadata": {
            "needs_background": "light"
          }
        },
        {
          "output_type": "stream",
          "name": "stdout",
          "text": [
            "r = -0.29, g = -0.54, b = 0.33\n",
            "##############################\n",
            "Input RGB:\n"
          ]
        },
        {
          "output_type": "display_data",
          "data": {
            "text/plain": [
              "<Figure size 360x720 with 1 Axes>"
            ],
            "image/png": "[encoded data removed]"
          },
          "metadata": {
            "needs_background": "light"
          }
        },
        {
          "output_type": "stream",
          "name": "stdout",
          "text": [
            "r = 0.5, g = 0.5, b = 0.5\n",
            "\n",
            "Output Prediction RGB:\n"
          ]
        },
        {
          "output_type": "stream",
          "name": "stderr",
          "text": [
            "WARNING:matplotlib.image:Clipping input data to the valid range for imshow with RGB data ([0..1] for floats or [0..255] for integers).\n"
          ]
        },
        {
          "output_type": "display_data",
          "data": {
            "text/plain": [
              "<Figure size 360x720 with 1 Axes>"
            ],
            "image/png": "[encoded data removed]"
          },
          "metadata": {
            "needs_background": "light"
          }
        },
        {
          "output_type": "stream",
          "name": "stdout",
          "text": [
            "r = -0.26, g = -0.79, b = 0.81\n",
            "##############################\n",
            "Input RGB:\n"
          ]
        },
        {
          "output_type": "display_data",
          "data": {
            "text/plain": [
              "<Figure size 360x720 with 1 Axes>"
            ],
            "image/png": "[encoded data removed]"
          },
          "metadata": {
            "needs_background": "light"
          }
        },
        {
          "output_type": "stream",
          "name": "stderr",
          "text": [
            "WARNING:matplotlib.image:Clipping input data to the valid range for imshow with RGB data ([0..1] for floats or [0..255] for integers).\n"
          ]
        },
        {
          "output_type": "stream",
          "name": "stdout",
          "text": [
            "r = 0.0, g = 0.5, b = 0.5\n",
            "\n",
            "Output Prediction RGB:\n"
          ]
        },
        {
          "output_type": "display_data",
          "data": {
            "text/plain": [
              "<Figure size 360x720 with 1 Axes>"
            ],
            "image/png": "[encoded data removed]"
          },
          "metadata": {
            "needs_background": "light"
          }
        },
        {
          "output_type": "stream",
          "name": "stdout",
          "text": [
            "r = -0.2, g = -1.0, b = 0.57\n",
            "##############################\n"
          ]
        }
      ],
      "source": [
        "inputs = torch.as_tensor([0.,0.,0.])\n",
        "pred = net(inputs).detach().numpy()\n",
        "viz_colour_predicted_rgb(inputs,pred)\n",
        "\n",
        "\n",
        "inputs = torch.as_tensor([0.5,0.5,0.5])\n",
        "pred = net(inputs).detach().numpy()\n",
        "viz_colour_predicted_rgb(inputs,pred)\n",
        "\n",
        "inputs = torch.as_tensor([0.0,0.5,0.5])\n",
        "pred = net(inputs).detach().numpy()\n",
        "viz_colour_predicted_rgb(inputs,pred)"
      ]
    },
    {
      "cell_type": "code",
      "execution_count": 20,
      "id": "acd3b6df",
      "metadata": {
        "id": "acd3b6df",
        "outputId": "25d5df5a-0a5a-4dcb-d0fd-183747e1e7ae",
        "colab": {
          "base_uri": "https://localhost:8080/",
          "height": 342
        }
      },
      "outputs": [
        {
          "output_type": "stream",
          "name": "stdout",
          "text": [
            "Input RGB:\n"
          ]
        },
        {
          "output_type": "display_data",
          "data": {
            "text/plain": [
              "<Figure size 360x720 with 1 Axes>"
            ],
            "image/png": "[encoded data removed]"
          },
          "metadata": {
            "needs_background": "light"
          }
        },
        {
          "output_type": "stream",
          "name": "stderr",
          "text": [
            "WARNING:matplotlib.image:Clipping input data to the valid range for imshow with RGB data ([0..1] for floats or [0..255] for integers).\n"
          ]
        },
        {
          "output_type": "stream",
          "name": "stdout",
          "text": [
            "r = 0.2, g = 0.5, b = 0.8\n",
            "\n",
            "Output Prediction RGB:\n"
          ]
        },
        {
          "output_type": "display_data",
          "data": {
            "text/plain": [
              "<Figure size 360x720 with 1 Axes>"
            ],
            "image/png": "[encoded data removed]"
          },
          "metadata": {
            "needs_background": "light"
          }
        },
        {
          "output_type": "stream",
          "name": "stdout",
          "text": [
            "r = -0.11, g = -1.1, b = 0.68\n",
            "##############################\n"
          ]
        }
      ],
      "source": [
        "# Exercise: Fill in col with a colour of your choice, in the form of [r,g,b]. \n",
        "# Then, use the neural network to generate the output for that colour.\n",
        "# Hint: You can pass the input colour as an argument to the net.\n",
        "# Like this: pred = net(colour)\n",
        "your_col = [0.2,0.5,0.8] #Fill this\n",
        "your_col = torch.as_tensor(your_col)\n",
        "\n",
        "pred_col =  net(your_col)# Fill this\n",
        "pred_col = pred_col.detach().numpy()\n",
        "\n",
        "viz_colour_predicted_rgb(your_col,pred_col)"
      ]
    },
    {
      "cell_type": "markdown",
      "id": "91ad00bd",
      "metadata": {
        "id": "91ad00bd"
      },
      "source": [
        "As you can see with the untrained network, the pipes are not connected properly. The output colours are very different from the input colours. Some of the output colours even have negative values, which does not make sense.\n",
        "\n",
        "Can we measure how different they are? Yes! Let's use the `mse_loss` function you implemented before:\n"
      ]
    },
    {
      "cell_type": "code",
      "execution_count": 21,
      "id": "2001e766",
      "metadata": {
        "id": "2001e766",
        "outputId": "2f8968ee-f6f7-4757-efa3-949543a2581e",
        "colab": {
          "base_uri": "https://localhost:8080/"
        }
      },
      "outputs": [
        {
          "output_type": "stream",
          "name": "stdout",
          "text": [
            "Loss is 2.6561285291535954\n"
          ]
        }
      ],
      "source": [
        "# Exercise: Calculate the difference between the colour you provided and the neural network prediction.\n",
        "# Hint: You can use your mse_loss function.\n",
        "# mse_loss(a,b) gives the difference between a and b\n",
        "\n",
        "your_loss = mse_loss_nb(your_col, pred_col)\n",
        "print(f\"Loss is {your_loss}\")"
      ]
    },
    {
      "cell_type": "markdown",
      "id": "855f6f00",
      "metadata": {
        "id": "855f6f00"
      },
      "source": [
        "For the input colours to be equal to the output colours, the loss has to be 0. \n",
        "\n",
        "Let us now ask PlumberBot to train the pipe network."
      ]
    },
    {
      "cell_type": "markdown",
      "id": "96f73ce1",
      "metadata": {
        "id": "96f73ce1"
      },
      "source": [
        "First we set up the dataset to be in a form that PlumberBot can use:"
      ]
    },
    {
      "cell_type": "code",
      "execution_count": 22,
      "id": "83d97874",
      "metadata": {
        "id": "83d97874"
      },
      "outputs": [],
      "source": [
        "trainset = ColourDataset(input_data=training_set, output_data=training_set)\n",
        "\n",
        "batch_size = 1\n",
        "trainloader = torch.utils.data.DataLoader(trainset, batch_size=batch_size,\n",
        "                                          shuffle=True, num_workers=0)"
      ]
    },
    {
      "cell_type": "markdown",
      "id": "f71af689",
      "metadata": {
        "id": "f71af689"
      },
      "source": [
        "Now we instruct PlumberBot on how to measure the difference between input and output. `nn.MSELoss()` does the same thing as the `mse_loss` function you wrote.\n",
        "\n",
        "The `optimizer` gives the PlumberBot additional information on how to change the pipes using backpropagation."
      ]
    },
    {
      "cell_type": "code",
      "execution_count": 23,
      "id": "dacb2605",
      "metadata": {
        "id": "dacb2605"
      },
      "outputs": [],
      "source": [
        "criterion = nn.MSELoss()\n",
        "optimizer = optim.SGD(net.parameters(), lr=0.001, momentum=0.9)"
      ]
    },
    {
      "cell_type": "markdown",
      "id": "ae32d28c",
      "metadata": {
        "id": "ae32d28c"
      },
      "source": [
        "We now instruct PlumberBot to train the pipe network. PlumberBot will put input data into pipes, look at the outputs, measure the difference and adjust pipes. It will do it 5 times with all the colours we have in our dataset. \n",
        "\n",
        "After each time it goes through the dataset, we will print the loss and look at how the output for your colour looks at that point."
      ]
    },
    {
      "cell_type": "code",
      "execution_count": 24,
      "id": "696f346e",
      "metadata": {
        "id": "696f346e",
        "outputId": "baf9ef1c-3342-43db-c9c6-c5cb859fdc96",
        "colab": {
          "base_uri": "https://localhost:8080/",
          "height": 1000
        }
      },
      "outputs": [
        {
          "output_type": "stream",
          "name": "stdout",
          "text": [
            "[1 Pass through data] loss: 0.114\n",
            "Input RGB:\n"
          ]
        },
        {
          "output_type": "display_data",
          "data": {
            "text/plain": [
              "<Figure size 360x720 with 1 Axes>"
            ],
            "image/png": "[encoded data removed]"
          },
          "metadata": {
            "needs_background": "light"
          }
        },
        {
          "output_type": "stream",
          "name": "stdout",
          "text": [
            "r = 0.2, g = 0.5, b = 0.8\n",
            "\n",
            "Output Prediction RGB:\n"
          ]
        },
        {
          "output_type": "display_data",
          "data": {
            "text/plain": [
              "<Figure size 360x720 with 1 Axes>"
            ],
            "image/png": "[encoded data removed]"
          },
          "metadata": {
            "needs_background": "light"
          }
        },
        {
          "output_type": "stream",
          "name": "stdout",
          "text": [
            "r = 0.47, g = 0.33, b = 0.56\n",
            "##############################\n",
            "[2 Pass through data] loss: 0.024\n",
            "Input RGB:\n"
          ]
        },
        {
          "output_type": "display_data",
          "data": {
            "text/plain": [
              "<Figure size 360x720 with 1 Axes>"
            ],
            "image/png": "[encoded data removed]"
          },
          "metadata": {
            "needs_background": "light"
          }
        },
        {
          "output_type": "stream",
          "name": "stdout",
          "text": [
            "r = 0.2, g = 0.5, b = 0.8\n",
            "\n",
            "Output Prediction RGB:\n"
          ]
        },
        {
          "output_type": "display_data",
          "data": {
            "text/plain": [
              "<Figure size 360x720 with 1 Axes>"
            ],
            "image/png": "[encoded data removed]"
          },
          "metadata": {
            "needs_background": "light"
          }
        },
        {
          "output_type": "stream",
          "name": "stdout",
          "text": [
            "r = 0.36, g = 0.38, b = 0.67\n",
            "##############################\n",
            "[3 Pass through data] loss: 0.008\n",
            "Input RGB:\n"
          ]
        },
        {
          "output_type": "display_data",
          "data": {
            "text/plain": [
              "<Figure size 360x720 with 1 Axes>"
            ],
            "image/png": "[encoded data removed]"
          },
          "metadata": {
            "needs_background": "light"
          }
        },
        {
          "output_type": "stream",
          "name": "stdout",
          "text": [
            "r = 0.2, g = 0.5, b = 0.8\n",
            "\n",
            "Output Prediction RGB:\n"
          ]
        },
        {
          "output_type": "display_data",
          "data": {
            "text/plain": [
              "<Figure size 360x720 with 1 Axes>"
            ],
            "image/png": "[encoded data removed]"
          },
          "metadata": {
            "needs_background": "light"
          }
        },
        {
          "output_type": "stream",
          "name": "stdout",
          "text": [
            "r = 0.29, g = 0.44, b = 0.72\n",
            "##############################\n",
            "[4 Pass through data] loss: 0.003\n",
            "Input RGB:\n"
          ]
        },
        {
          "output_type": "display_data",
          "data": {
            "text/plain": [
              "<Figure size 360x720 with 1 Axes>"
            ],
            "image/png": "[encoded data removed]"
          },
          "metadata": {
            "needs_background": "light"
          }
        },
        {
          "output_type": "stream",
          "name": "stdout",
          "text": [
            "r = 0.2, g = 0.5, b = 0.8\n",
            "\n",
            "Output Prediction RGB:\n"
          ]
        },
        {
          "output_type": "display_data",
          "data": {
            "text/plain": [
              "<Figure size 360x720 with 1 Axes>"
            ],
            "image/png": "[encoded data removed]"
          },
          "metadata": {
            "needs_background": "light"
          }
        },
        {
          "output_type": "stream",
          "name": "stdout",
          "text": [
            "r = 0.25, g = 0.47, b = 0.76\n",
            "##############################\n",
            "[5 Pass through data] loss: 0.001\n",
            "Input RGB:\n"
          ]
        },
        {
          "output_type": "display_data",
          "data": {
            "text/plain": [
              "<Figure size 360x720 with 1 Axes>"
            ],
            "image/png": "[encoded data removed]"
          },
          "metadata": {
            "needs_background": "light"
          }
        },
        {
          "output_type": "stream",
          "name": "stdout",
          "text": [
            "r = 0.2, g = 0.5, b = 0.8\n",
            "\n",
            "Output Prediction RGB:\n"
          ]
        },
        {
          "output_type": "display_data",
          "data": {
            "text/plain": [
              "<Figure size 360x720 with 1 Axes>"
            ],
            "image/png": "[encoded data removed]"
          },
          "metadata": {
            "needs_background": "light"
          }
        },
        {
          "output_type": "stream",
          "name": "stdout",
          "text": [
            "r = 0.23, g = 0.48, b = 0.78\n",
            "##############################\n",
            "Finished Training\n"
          ]
        }
      ],
      "source": [
        "for epoch in range(5):  \n",
        "\n",
        "    running_loss = 0.0\n",
        "    for i, data in enumerate(trainloader, 0):\n",
        "\n",
        "        inputs, labels = data\n",
        "\n",
        "        optimizer.zero_grad()\n",
        "\n",
        "        outputs = net(inputs)\n",
        "        loss = criterion(outputs, labels)\n",
        "        loss.backward()\n",
        "        optimizer.step()\n",
        "\n",
        "        # print statistics\n",
        "        running_loss += loss.item()\n",
        "        if i % 1000 == 999:    \n",
        "            print(f'[{epoch + 1} Pass through data] loss: {running_loss/1000 :.3f}')\n",
        "            running_loss = 0.0\n",
        "            \n",
        "            pred_col =  net(your_col)\n",
        "            pred_col = pred_col.detach().numpy()\n",
        "\n",
        "            viz_colour_predicted_rgb(your_col,pred_col)\n",
        "\n",
        "print('Finished Training')"
      ]
    },
    {
      "cell_type": "markdown",
      "id": "04508ead",
      "metadata": {
        "id": "04508ead"
      },
      "source": [
        "As you can see, as training progresses, the output starts looking more and more similar to your input colour. What is the loss for your colour now?"
      ]
    },
    {
      "cell_type": "code",
      "execution_count": 25,
      "id": "2ec0c973",
      "metadata": {
        "id": "2ec0c973",
        "outputId": "2ef44764-537c-408f-ed84-fccc8143a6c5",
        "colab": {
          "base_uri": "https://localhost:8080/"
        }
      },
      "outputs": [
        {
          "output_type": "stream",
          "name": "stdout",
          "text": [
            "Loss for untrained network is 2.6561285291535954\n",
            "Loss for the trained network is 0.0019320284986226424\n"
          ]
        }
      ],
      "source": [
        "your_col = torch.as_tensor(your_col)\n",
        "\n",
        "pred_col =  untrained_net(your_col)\n",
        "pred_col = pred_col.detach().numpy()\n",
        "\n",
        "your_loss = mse_loss_nb(your_col, pred_col)\n",
        "print(f\"Loss for untrained network is {your_loss}\")\n",
        "\n",
        "pred_col =  net(your_col)\n",
        "pred_col = pred_col.detach().numpy()\n",
        "\n",
        "your_loss = mse_loss_nb(your_col, pred_col)\n",
        "print(f\"Loss for the trained network is {your_loss}\")\n"
      ]
    },
    {
      "cell_type": "markdown",
      "id": "93c6c8f0",
      "metadata": {
        "id": "93c6c8f0"
      },
      "source": [
        "PlumberBot has done a good job! The loss before training was high, after training, it has become so close to zero. There's almost no difference between the colours.\n",
        "\n",
        "Let's look at the other sample colours as well:"
      ]
    },
    {
      "cell_type": "code",
      "execution_count": 26,
      "id": "ca5f9674",
      "metadata": {
        "id": "ca5f9674",
        "outputId": "9b4f50e0-7a53-42bd-d885-6fbc3d543eb1",
        "colab": {
          "base_uri": "https://localhost:8080/",
          "height": 941
        }
      },
      "outputs": [
        {
          "output_type": "stream",
          "name": "stdout",
          "text": [
            "Input RGB:\n"
          ]
        },
        {
          "output_type": "display_data",
          "data": {
            "text/plain": [
              "<Figure size 360x720 with 1 Axes>"
            ],
            "image/png": "[encoded data removed]"
          },
          "metadata": {
            "needs_background": "light"
          }
        },
        {
          "output_type": "stream",
          "name": "stdout",
          "text": [
            "r = 0.0, g = 0.0, b = 0.0\n",
            "\n",
            "Output Prediction RGB:\n"
          ]
        },
        {
          "output_type": "display_data",
          "data": {
            "text/plain": [
              "<Figure size 360x720 with 1 Axes>"
            ],
            "image/png": "[encoded data removed]"
          },
          "metadata": {
            "needs_background": "light"
          }
        },
        {
          "output_type": "stream",
          "name": "stdout",
          "text": [
            "r = 0.028, g = 0.039, b = 0.037\n",
            "##############################\n",
            "Input RGB:\n"
          ]
        },
        {
          "output_type": "display_data",
          "data": {
            "text/plain": [
              "<Figure size 360x720 with 1 Axes>"
            ],
            "image/png": "[encoded data removed]"
          },
          "metadata": {
            "needs_background": "light"
          }
        },
        {
          "output_type": "stream",
          "name": "stdout",
          "text": [
            "r = 0.5, g = 0.5, b = 0.5\n",
            "\n",
            "Output Prediction RGB:\n"
          ]
        },
        {
          "output_type": "display_data",
          "data": {
            "text/plain": [
              "<Figure size 360x720 with 1 Axes>"
            ],
            "image/png": "[encoded data removed]"
          },
          "metadata": {
            "needs_background": "light"
          }
        },
        {
          "output_type": "stream",
          "name": "stdout",
          "text": [
            "r = 0.5, g = 0.5, b = 0.5\n",
            "##############################\n",
            "Input RGB:\n"
          ]
        },
        {
          "output_type": "display_data",
          "data": {
            "text/plain": [
              "<Figure size 360x720 with 1 Axes>"
            ],
            "image/png": "[encoded data removed]"
          },
          "metadata": {
            "needs_background": "light"
          }
        },
        {
          "output_type": "stream",
          "name": "stdout",
          "text": [
            "r = 0.0, g = 0.5, b = 0.5\n",
            "\n",
            "Output Prediction RGB:\n"
          ]
        },
        {
          "output_type": "display_data",
          "data": {
            "text/plain": [
              "<Figure size 360x720 with 1 Axes>"
            ],
            "image/png": "[encoded data removed]"
          },
          "metadata": {
            "needs_background": "light"
          }
        },
        {
          "output_type": "stream",
          "name": "stdout",
          "text": [
            "r = 0.038, g = 0.48, b = 0.5\n",
            "##############################\n"
          ]
        }
      ],
      "source": [
        "inputs = torch.as_tensor([0.,0.,0.])\n",
        "pred = net(inputs).detach().numpy()\n",
        "viz_colour_predicted_rgb(inputs,pred)\n",
        "\n",
        "\n",
        "inputs = torch.as_tensor([0.5,0.5,0.5])\n",
        "pred = net(inputs).detach().numpy()\n",
        "viz_colour_predicted_rgb(inputs,pred)\n",
        "\n",
        "inputs = torch.as_tensor([0.0,0.5,0.5])\n",
        "pred = net(inputs).detach().numpy()\n",
        "viz_colour_predicted_rgb(inputs,pred)"
      ]
    },
    {
      "cell_type": "markdown",
      "id": "14d3cfdd",
      "metadata": {
        "id": "14d3cfdd"
      },
      "source": [
        "Congrats on training your first neural network! Now you understand the basics of how neural networks work. Our first task was not very useful, simply passing the same colours from input to output. Let us make a network for something more useful. But before that, we will take a brief detour to colour land again."
      ]
    },
    {
      "cell_type": "markdown",
      "id": "40fabb16",
      "metadata": {
        "id": "40fabb16"
      },
      "source": [
        "### Colours part 2: CMYK\n",
        "Now that you know how computers display colours on a screen, let us see how printers print colour on paper. As we discussed in Colours Part 1, the absence of any colour (0 values) is white, the colour of the paper.\n",
        "\n",
        "Printers use Cyan, Magenta, Yellow and Black ink. This representation is known as CMYK.\n",
        "\n",
        "![cmyk](https://github.com/GDS-Education-Community-of-Practice/DSECOP/blob/main/Learning_the_Schrodinger_Equation/res/fig/cmyk-additive-subtractive-colors.jpeg?raw=1)\n",
        "\n",
        "You can play around with CMYK colours in this widget. It will also display the corresponding RGB representation. We have set k to 0 to show the relationship between cmy and rgb better.\n"
      ]
    },
    {
      "cell_type": "code",
      "execution_count": 27,
      "id": "ff3bfe7a",
      "metadata": {
        "tags": [],
        "id": "ff3bfe7a",
        "outputId": "b57026d4-39fe-4453-9385-41420648aef8",
        "colab": {
          "base_uri": "https://localhost:8080/",
          "height": 390,
          "referenced_widgets": [
            "6ee2e259949a4fcdac38300055895ac9",
            "12aeaf93e0d04d2d88da8ad354a9b13b",
            "65abdf5498af44f19f0eb256ea2c3703",
            "fa922a180ebf438daafa96ec31e3ee2a",
            "d504c65c4bfb44bd809bb11552cf4f6f",
            "42a8fdf89ca54b2c96368accaf768981",
            "0d993219b6a0402bb8f9e949349dfac1",
            "a74552f982554be6ad9d0d00bca540d4",
            "15da8193e80e43abb40b46a3509f5d7d",
            "25c34fc7abc040aca1f433928b273e01",
            "466608f73dfd467b92aecfaa8cf47b04",
            "766bb4598b1f47afb3f7d0b108abc600",
            "d063e9b07a2a4d9192b8052ecaa18236",
            "270925fbad024e4986b44967121680fc",
            "0d4a8f4679b5488b98d4a9c786ff5d03",
            "6433c49d52294fa2bdedb9917982de22"
          ]
        }
      },
      "outputs": [
        {
          "output_type": "display_data",
          "data": {
            "text/plain": [
              "interactive(children=(FloatSlider(value=0.5, description='c', max=1.0), FloatSlider(value=0.5, description='m'…"
            ],
            "application/vnd.jupyter.widget-view+json": {
              "version_major": 2,
              "version_minor": 0,
              "model_id": "6ee2e259949a4fcdac38300055895ac9"
            }
          },
          "metadata": {}
        }
      ],
      "source": [
        "@interact(c=(0, 1.0),m=(0,1.0),y=(0,1.0),k=(0))\n",
        "def interactive_viz_colour(c,m,y,k):\n",
        "    print(\"CMYK:\")\n",
        "    col=[c,m,y,k]\n",
        "    viz_colour_cmyk(col)\n",
        "    print(\"RGB:\")\n",
        "    rgb = cmyk_to_rgb(col)\n",
        "    viz_colour_rgb(rgb)"
      ]
    },
    {
      "cell_type": "markdown",
      "id": "be1154b2",
      "metadata": {
        "id": "be1154b2"
      },
      "source": [
        "Notice the behaviour of both the colour schemes when you set all c,m,y to 0 and all c,m,y to 1, while keeping k at 0. When c,m,y are 0, the colour produced is white and r,g,b are \"on\" while c,m,y are \"off\". When c,m,y are 1, the colour produced is black and r,g,b are \"off\" and c,m,y are \"on\".\n",
        "\n",
        "Let us look at the relationship between the two colour schemes.\n",
        "\n",
        "For converting RGB to CMYK:\n",
        "\n",
        "Assuming all our values are between 0 and 1.0, the relationship is:\n",
        "$$ k = 1 - max(r,g,b) $$\n",
        "$$ c = (1 - r - k)/ (1 - k) $$\n",
        "$$ m = (1 - g - k)/ (1 - k) $$\n",
        "$$ y = (1 - b - k)/ (1 - k) $$\n",
        "\n",
        "and for converting CMYK to RGB:\n",
        "\n",
        "$$ r = 1 - (c + k) $$\n",
        "$$ g = 1 - (m + k) $$\n",
        "$$ b = 1 - (y + k) $$\n",
        "\n",
        "Let's implement this in code:\n"
      ]
    },
    {
      "cell_type": "code",
      "execution_count": 28,
      "id": "82aca7f1",
      "metadata": {
        "id": "82aca7f1"
      },
      "outputs": [],
      "source": [
        "# Exercise: Convert rgb to cmyk\n",
        "def rgb_to_cmyk_nb(rgb_col):\n",
        "    r,g,b = rgb_col\n",
        "    \n",
        "    ### Your code here\n",
        "    k = 1 - max(r,g,b)\n",
        "    c = (1 - r - k)/ (1 - k)\n",
        "    m = (1 - g - k)/ (1 - k)\n",
        "    y = (1 - b - k)/ (1 - k)\n",
        "    ###\n",
        "    \n",
        "    cmyk_col = [c,m,y,k]\n",
        "    return cmyk_col"
      ]
    },
    {
      "cell_type": "markdown",
      "id": "1fb8c6f9",
      "metadata": {
        "id": "1fb8c6f9"
      },
      "source": [
        "And let's test it with a sample colour"
      ]
    },
    {
      "cell_type": "code",
      "execution_count": 29,
      "id": "c4a60213",
      "metadata": {
        "id": "c4a60213",
        "outputId": "ac20fbc6-044e-4599-825b-f8cfeeab2569",
        "colab": {
          "base_uri": "https://localhost:8080/",
          "height": 279
        }
      },
      "outputs": [
        {
          "output_type": "stream",
          "name": "stdout",
          "text": [
            "CMYK:\n"
          ]
        },
        {
          "output_type": "display_data",
          "data": {
            "text/plain": [
              "<Figure size 360x720 with 1 Axes>"
            ],
            "image/png": "[encoded data removed]"
          },
          "metadata": {
            "needs_background": "light"
          }
        },
        {
          "output_type": "stream",
          "name": "stdout",
          "text": [
            "c = 0.75, m = 0.0, y = 0.0, k = 0.2\n",
            "RGB:\n"
          ]
        },
        {
          "output_type": "display_data",
          "data": {
            "text/plain": [
              "<Figure size 360x720 with 1 Axes>"
            ],
            "image/png": "[encoded data removed]"
          },
          "metadata": {
            "needs_background": "light"
          }
        },
        {
          "output_type": "stream",
          "name": "stdout",
          "text": [
            "r = 0.2, g = 0.8, b = 0.8\n"
          ]
        }
      ],
      "source": [
        "rgb_col = [0.2,0.8,0.8]\n",
        "cmyk_col = rgb_to_cmyk_nb(rgb_col)\n",
        "\n",
        "print(\"CMYK:\")\n",
        "col= cmyk_col\n",
        "viz_colour_cmyk(col)\n",
        "print(\"RGB:\")\n",
        "rgb = rgb_col\n",
        "viz_colour_rgb(rgb)\n"
      ]
    },
    {
      "cell_type": "code",
      "execution_count": 30,
      "id": "e5135749",
      "metadata": {
        "id": "e5135749"
      },
      "outputs": [],
      "source": [
        "# Exercise: Convert cmyk to rgb\n",
        "def cmyk_to_rgb(cmyk_col):\n",
        "    c,m,y,k = cmyk_col\n",
        "    \n",
        "    ### Your code here\n",
        "    r = 1 - (c + k)\n",
        "    g = 1 - (m + k)\n",
        "    b = 1 - (y + k)\n",
        "    ###\n",
        "    \n",
        "    rgb_col = [r,g,b]\n",
        "    return rgb_col"
      ]
    },
    {
      "cell_type": "markdown",
      "id": "51d1ef93",
      "metadata": {
        "id": "51d1ef93"
      },
      "source": [
        "And let's test it with a sample colour"
      ]
    },
    {
      "cell_type": "code",
      "execution_count": 31,
      "id": "5aab9c02",
      "metadata": {
        "id": "5aab9c02",
        "outputId": "5965adda-102a-4c7a-99e1-77ad7f2f1140",
        "colab": {
          "base_uri": "https://localhost:8080/",
          "height": 279
        }
      },
      "outputs": [
        {
          "output_type": "stream",
          "name": "stdout",
          "text": [
            "CMYK:\n"
          ]
        },
        {
          "output_type": "display_data",
          "data": {
            "text/plain": [
              "<Figure size 360x720 with 1 Axes>"
            ],
            "image/png": "[encoded data removed]"
          },
          "metadata": {
            "needs_background": "light"
          }
        },
        {
          "output_type": "stream",
          "name": "stdout",
          "text": [
            "c = 0.2, m = 0.8, y = 0.8, k = 0.0\n",
            "RGB:\n"
          ]
        },
        {
          "output_type": "display_data",
          "data": {
            "text/plain": [
              "<Figure size 360x720 with 1 Axes>"
            ],
            "image/png": "[encoded data removed]"
          },
          "metadata": {
            "needs_background": "light"
          }
        },
        {
          "output_type": "stream",
          "name": "stdout",
          "text": [
            "r = 0.8, g = 0.2, b = 0.2\n"
          ]
        }
      ],
      "source": [
        "cmyk_col = [0.2,0.8,0.8, 0.0]\n",
        "rgb_col = cmyk_to_rgb(cmyk_col)\n",
        "\n",
        "print(\"CMYK:\")\n",
        "col= cmyk_col\n",
        "viz_colour_cmyk(col)\n",
        "print(\"RGB:\")\n",
        "rgb = rgb_col\n",
        "viz_colour_rgb(rgb)\n",
        "\n"
      ]
    },
    {
      "cell_type": "markdown",
      "id": "439a58fb",
      "metadata": {
        "id": "439a58fb"
      },
      "source": [
        "Feel free to change the sample colours in the code boxes above and look at how both schemes are converted."
      ]
    },
    {
      "cell_type": "markdown",
      "id": "272e565d",
      "metadata": {
        "id": "272e565d"
      },
      "source": [
        "## Network 2: RGB to CMYK\n",
        "\n",
        "Let us call PlumberBot again. \n",
        "\n",
        "![robot 2](https://github.com/GDS-Education-Community-of-Practice/DSECOP/blob/main/Learning_the_Schrodinger_Equation/res/fig/rp-2.png?raw=1)\n",
        "\n",
        "This time, we want to input r,g,b paints in our pipeline and get c,m,y,k values back. Let's create the dataset as before"
      ]
    },
    {
      "cell_type": "code",
      "execution_count": 32,
      "id": "c8bc356a",
      "metadata": {
        "id": "c8bc356a"
      },
      "outputs": [],
      "source": [
        "n_size = 1000\n",
        "rgb_training_set = np.random.rand(n_size,3)\n",
        "cmyk_training_set = np.asarray(list(map(rgb_to_cmyk, rgb_training_set)))"
      ]
    },
    {
      "cell_type": "markdown",
      "id": "42de8009",
      "metadata": {
        "id": "42de8009"
      },
      "source": [
        "The slider below shows the pairs of rgb and cmyk:"
      ]
    },
    {
      "cell_type": "code",
      "execution_count": 33,
      "id": "5c4559f7",
      "metadata": {
        "id": "5c4559f7",
        "outputId": "c50ea122-7f0f-432d-895f-056ef4b44fec",
        "colab": {
          "base_uri": "https://localhost:8080/",
          "height": 277,
          "referenced_widgets": [
            "8e7f99a88cea40b0a750522207cb3d1d",
            "2c5e823e115e4ebda154be3a5daa3b75",
            "7a323d103737467d80094cb1512bd931",
            "6bf08a119f354ed3a51f6c9907d2aa21",
            "83f89965b1a941fea66199b8d5cd8a08",
            "f476c21c817d4a65b2f552bc9a82a0a0",
            "7ad6439cd2814aa9982772dbcda472b0"
          ]
        }
      },
      "outputs": [
        {
          "output_type": "display_data",
          "data": {
            "text/plain": [
              "interactive(children=(IntSlider(value=500, description='n', max=1000), Output()), _dom_classes=('widget-intera…"
            ],
            "application/vnd.jupyter.widget-view+json": {
              "version_major": 2,
              "version_minor": 0,
              "model_id": "8e7f99a88cea40b0a750522207cb3d1d"
            }
          },
          "metadata": {}
        }
      ],
      "source": [
        "@interact(n=(0,1000))\n",
        "def interactive_trainset_viz(n):\n",
        "    viz_colour_rgb(rgb_training_set[n])\n",
        "    viz_colour_cmyk(cmyk_training_set[n])\n",
        "    "
      ]
    },
    {
      "cell_type": "markdown",
      "id": "1b4535b9",
      "metadata": {
        "id": "1b4535b9"
      },
      "source": [
        "Look at the data set size. Notice the rgb has 3 elements each and cmyk has 4 elements each."
      ]
    },
    {
      "cell_type": "code",
      "execution_count": 34,
      "id": "3019d5ae",
      "metadata": {
        "id": "3019d5ae",
        "outputId": "ad542572-054a-4955-eb60-2af13a72c9cc",
        "colab": {
          "base_uri": "https://localhost:8080/"
        }
      },
      "outputs": [
        {
          "output_type": "stream",
          "name": "stdout",
          "text": [
            "The size of rgb dataset is (1000, 3)\n",
            "The size of cmyk dataset is (1000, 4)\n"
          ]
        }
      ],
      "source": [
        "print(f\"The size of rgb dataset is {rgb_training_set.shape}\")\n",
        "print(f\"The size of cmyk dataset is {cmyk_training_set.shape}\")"
      ]
    },
    {
      "cell_type": "markdown",
      "id": "da7ed30e",
      "metadata": {
        "id": "da7ed30e"
      },
      "source": [
        "We need to change our network to handle 3 input pipes and 4 output pipes. "
      ]
    },
    {
      "cell_type": "code",
      "execution_count": 35,
      "id": "d52b3fda",
      "metadata": {
        "id": "d52b3fda"
      },
      "outputs": [],
      "source": [
        "class PipeNet(nn.Module):\n",
        "    def __init__(self):\n",
        "        super().__init__()\n",
        "        \n",
        "        ## Exercise: Add the input and output sizes here\n",
        "        self.fc1 = nn.Linear(3,4)\n",
        "        # In the previous case, for 3 input and 3 outputs,\n",
        "        # we used self.fc1 = nn.Linear(3,3), \n",
        "        # where first number is input size and second number is output size\n",
        "\n",
        "\n",
        "    def forward(self, x):\n",
        "        x = self.fc1(x)\n",
        "        return x\n",
        "\n",
        "\n",
        "net = PipeNet()\n",
        "untrained_net = copy.deepcopy(net)"
      ]
    },
    {
      "cell_type": "markdown",
      "id": "3e2db17f",
      "metadata": {
        "id": "3e2db17f"
      },
      "source": [
        "Lets look at some sample predictions from the untrained net:"
      ]
    },
    {
      "cell_type": "code",
      "execution_count": 36,
      "id": "38d0d28a",
      "metadata": {
        "id": "38d0d28a",
        "outputId": "07d2125e-30e7-440b-d2ae-54c3bfaf5067",
        "colab": {
          "base_uri": "https://localhost:8080/",
          "height": 905
        }
      },
      "outputs": [
        {
          "output_type": "stream",
          "name": "stdout",
          "text": [
            "Input RGB:\n"
          ]
        },
        {
          "output_type": "display_data",
          "data": {
            "text/plain": [
              "<Figure size 360x720 with 1 Axes>"
            ],
            "image/png": "[encoded data removed]"
          },
          "metadata": {
            "needs_background": "light"
          }
        },
        {
          "output_type": "stream",
          "name": "stdout",
          "text": [
            "r = 0.0, g = 0.0, b = 0.0\n",
            "\n",
            "Output Prediction:\n"
          ]
        },
        {
          "output_type": "display_data",
          "data": {
            "text/plain": [
              "<Figure size 360x720 with 1 Axes>"
            ],
            "image/png": "[encoded data removed]"
          },
          "metadata": {
            "needs_background": "light"
          }
        },
        {
          "output_type": "stream",
          "name": "stdout",
          "text": [
            "c = 0.24, m = 0.39, y = 0.2, k = 0.37\n",
            "##############################\n",
            "Input RGB:\n"
          ]
        },
        {
          "output_type": "display_data",
          "data": {
            "text/plain": [
              "<Figure size 360x720 with 1 Axes>"
            ],
            "image/png": "[encoded data removed]"
          },
          "metadata": {
            "needs_background": "light"
          }
        },
        {
          "output_type": "stream",
          "name": "stdout",
          "text": [
            "r = 0.5, g = 0.5, b = 0.5\n",
            "\n",
            "Output Prediction:\n"
          ]
        },
        {
          "output_type": "display_data",
          "data": {
            "text/plain": [
              "<Figure size 360x720 with 1 Axes>"
            ],
            "image/png": "[encoded data removed]"
          },
          "metadata": {
            "needs_background": "light"
          }
        },
        {
          "output_type": "stream",
          "name": "stdout",
          "text": [
            "c = 0.44, m = 0.9, y = 0.48, k = 0.5\n",
            "##############################\n",
            "Input RGB:\n"
          ]
        },
        {
          "output_type": "display_data",
          "data": {
            "text/plain": [
              "<Figure size 360x720 with 1 Axes>"
            ],
            "image/png": "[encoded data removed]"
          },
          "metadata": {
            "needs_background": "light"
          }
        },
        {
          "output_type": "stream",
          "name": "stdout",
          "text": [
            "r = 0.0, g = 0.5, b = 0.5\n",
            "\n",
            "Output Prediction:\n"
          ]
        },
        {
          "output_type": "display_data",
          "data": {
            "text/plain": [
              "<Figure size 360x720 with 1 Axes>"
            ],
            "image/png": "[encoded data removed]"
          },
          "metadata": {
            "needs_background": "light"
          }
        },
        {
          "output_type": "stream",
          "name": "stdout",
          "text": [
            "c = 0.52, m = 0.65, y = 0.6, k = 0.36\n",
            "##############################\n"
          ]
        }
      ],
      "source": [
        "inputs = torch.as_tensor([0.,0.,0.])\n",
        "pred = net(inputs).detach().numpy()\n",
        "viz_colour_predicted_cmyk(inputs,pred)\n",
        "\n",
        "\n",
        "inputs = torch.as_tensor([0.5,0.5,0.5])\n",
        "pred = net(inputs).detach().numpy()\n",
        "viz_colour_predicted_cmyk(inputs,pred)\n",
        "\n",
        "inputs = torch.as_tensor([0.0,0.5,0.5])\n",
        "pred = net(inputs).detach().numpy()\n",
        "viz_colour_predicted_cmyk(inputs,pred)"
      ]
    },
    {
      "cell_type": "code",
      "execution_count": 37,
      "id": "74c69a8d",
      "metadata": {
        "id": "74c69a8d",
        "outputId": "a53ad468-17cb-4d40-c647-a016485cdc16",
        "colab": {
          "base_uri": "https://localhost:8080/",
          "height": 330
        }
      },
      "outputs": [
        {
          "output_type": "stream",
          "name": "stdout",
          "text": [
            "Input RGB:\n"
          ]
        },
        {
          "output_type": "display_data",
          "data": {
            "text/plain": [
              "<Figure size 360x720 with 1 Axes>"
            ],
            "image/png": "[encoded data removed]"
          },
          "metadata": {
            "needs_background": "light"
          }
        },
        {
          "output_type": "stream",
          "name": "stdout",
          "text": [
            "r = 0.2, g = 0.5, b = 0.8\n",
            "\n",
            "Output Prediction:\n"
          ]
        },
        {
          "output_type": "display_data",
          "data": {
            "text/plain": [
              "<Figure size 360x720 with 1 Axes>"
            ],
            "image/png": "[encoded data removed]"
          },
          "metadata": {
            "needs_background": "light"
          }
        },
        {
          "output_type": "stream",
          "name": "stdout",
          "text": [
            "c = 0.51, m = 0.86, y = 0.69, k = 0.57\n",
            "##############################\n",
            "Loss is 0.938604212731694\n"
          ]
        }
      ],
      "source": [
        "# Exercise: Fill in col with a colour of your choice, in the form of [r,g,b]. \n",
        "# Then, use the neural network to generate the output for that colour.\n",
        "# Hint: You can pass the input colour as an argument to the net.\n",
        "# Like this: pred = net(colour)\n",
        "your_col = [0.2,0.5,0.8] #Fill this\n",
        "your_col = torch.as_tensor(your_col)\n",
        "true_col = rgb_to_cmyk(your_col)\n",
        "\n",
        "pred_col =  net(your_col)# Fill thus\n",
        "pred_col = pred_col.detach().numpy()\n",
        "\n",
        "viz_colour_predicted_cmyk(your_col,pred_col)\n",
        "\n",
        "your_loss = np.sum((true_col - pred_col) **2)\n",
        "print(f\"Loss is {your_loss}\")"
      ]
    },
    {
      "cell_type": "markdown",
      "id": "edfef529",
      "metadata": {
        "id": "edfef529"
      },
      "source": [
        "As you can see, the untrained network gives wrong predictions with a high loss.\n",
        "\n",
        "We need to ask PlumberBot to train the network, similar to the procedure in the previous problem."
      ]
    },
    {
      "cell_type": "code",
      "execution_count": 38,
      "id": "95a71552",
      "metadata": {
        "id": "95a71552"
      },
      "outputs": [],
      "source": [
        "trainset = ColourDataset(input_data=rgb_training_set, output_data=cmyk_training_set)\n",
        "\n",
        "batch_size = 1\n",
        "trainloader = torch.utils.data.DataLoader(trainset, batch_size=batch_size,\n",
        "                                          shuffle=True, num_workers=0)\n",
        "criterion = nn.MSELoss()\n",
        "optimizer = optim.SGD(net.parameters(), lr=0.001, momentum=0.9)"
      ]
    },
    {
      "cell_type": "code",
      "execution_count": 38,
      "id": "2e96481e",
      "metadata": {
        "id": "2e96481e"
      },
      "outputs": [],
      "source": []
    },
    {
      "cell_type": "code",
      "execution_count": 39,
      "id": "74522a0f",
      "metadata": {
        "id": "74522a0f",
        "outputId": "70160961-0ffb-46ea-c24a-42746d9d4a0a",
        "colab": {
          "base_uri": "https://localhost:8080/",
          "height": 1000
        }
      },
      "outputs": [
        {
          "output_type": "stream",
          "name": "stdout",
          "text": [
            "[4 Pass through data] loss: 0.019\n",
            "Input RGB:\n"
          ]
        },
        {
          "output_type": "display_data",
          "data": {
            "text/plain": [
              "<Figure size 360x720 with 1 Axes>"
            ],
            "image/png": "[encoded data removed]"
          },
          "metadata": {
            "needs_background": "light"
          }
        },
        {
          "output_type": "stream",
          "name": "stdout",
          "text": [
            "r = 0.2, g = 0.5, b = 0.8\n",
            "\n",
            "Output Prediction:\n"
          ]
        },
        {
          "output_type": "display_data",
          "data": {
            "text/plain": [
              "<Figure size 360x720 with 1 Axes>"
            ],
            "image/png": "[encoded data removed]"
          },
          "metadata": {
            "needs_background": "light"
          }
        },
        {
          "output_type": "stream",
          "name": "stdout",
          "text": [
            "c = 0.49, m = 0.23, y = 0.044, k = 0.26\n",
            "##############################\n",
            "[8 Pass through data] loss: 0.014\n",
            "Input RGB:\n"
          ]
        },
        {
          "output_type": "display_data",
          "data": {
            "text/plain": [
              "<Figure size 360x720 with 1 Axes>"
            ],
            "image/png": "[encoded data removed]"
          },
          "metadata": {
            "needs_background": "light"
          }
        },
        {
          "output_type": "stream",
          "name": "stderr",
          "text": [
            "WARNING:matplotlib.image:Clipping input data to the valid range for imshow with RGB data ([0..1] for floats or [0..255] for integers).\n"
          ]
        },
        {
          "output_type": "stream",
          "name": "stdout",
          "text": [
            "r = 0.2, g = 0.5, b = 0.8\n",
            "\n",
            "Output Prediction:\n"
          ]
        },
        {
          "output_type": "display_data",
          "data": {
            "text/plain": [
              "<Figure size 360x720 with 1 Axes>"
            ],
            "image/png": "[encoded data removed]"
          },
          "metadata": {
            "needs_background": "light"
          }
        },
        {
          "output_type": "stream",
          "name": "stdout",
          "text": [
            "c = 0.53, m = 0.24, y = -0.041, k = 0.26\n",
            "##############################\n",
            "[12 Pass through data] loss: 0.014\n",
            "Input RGB:\n"
          ]
        },
        {
          "output_type": "display_data",
          "data": {
            "text/plain": [
              "<Figure size 360x720 with 1 Axes>"
            ],
            "image/png": "[encoded data removed]"
          },
          "metadata": {
            "needs_background": "light"
          }
        },
        {
          "output_type": "stream",
          "name": "stderr",
          "text": [
            "WARNING:matplotlib.image:Clipping input data to the valid range for imshow with RGB data ([0..1] for floats or [0..255] for integers).\n"
          ]
        },
        {
          "output_type": "stream",
          "name": "stdout",
          "text": [
            "r = 0.2, g = 0.5, b = 0.8\n",
            "\n",
            "Output Prediction:\n"
          ]
        },
        {
          "output_type": "display_data",
          "data": {
            "text/plain": [
              "<Figure size 360x720 with 1 Axes>"
            ],
            "image/png": "[encoded data removed]"
          },
          "metadata": {
            "needs_background": "light"
          }
        },
        {
          "output_type": "stream",
          "name": "stdout",
          "text": [
            "c = 0.54, m = 0.25, y = -0.05, k = 0.25\n",
            "##############################\n",
            "[16 Pass through data] loss: 0.014\n",
            "Input RGB:\n"
          ]
        },
        {
          "output_type": "display_data",
          "data": {
            "text/plain": [
              "<Figure size 360x720 with 1 Axes>"
            ],
            "image/png": "[encoded data removed]"
          },
          "metadata": {
            "needs_background": "light"
          }
        },
        {
          "output_type": "stream",
          "name": "stderr",
          "text": [
            "WARNING:matplotlib.image:Clipping input data to the valid range for imshow with RGB data ([0..1] for floats or [0..255] for integers).\n"
          ]
        },
        {
          "output_type": "stream",
          "name": "stdout",
          "text": [
            "r = 0.2, g = 0.5, b = 0.8\n",
            "\n",
            "Output Prediction:\n"
          ]
        },
        {
          "output_type": "display_data",
          "data": {
            "text/plain": [
              "<Figure size 360x720 with 1 Axes>"
            ],
            "image/png": "[encoded data removed]"
          },
          "metadata": {
            "needs_background": "light"
          }
        },
        {
          "output_type": "stream",
          "name": "stdout",
          "text": [
            "c = 0.55, m = 0.25, y = -0.052, k = 0.25\n",
            "##############################\n",
            "[20 Pass through data] loss: 0.014\n",
            "Input RGB:\n"
          ]
        },
        {
          "output_type": "display_data",
          "data": {
            "text/plain": [
              "<Figure size 360x720 with 1 Axes>"
            ],
            "image/png": "[encoded data removed]"
          },
          "metadata": {
            "needs_background": "light"
          }
        },
        {
          "output_type": "stream",
          "name": "stderr",
          "text": [
            "WARNING:matplotlib.image:Clipping input data to the valid range for imshow with RGB data ([0..1] for floats or [0..255] for integers).\n"
          ]
        },
        {
          "output_type": "stream",
          "name": "stdout",
          "text": [
            "r = 0.2, g = 0.5, b = 0.8\n",
            "\n",
            "Output Prediction:\n"
          ]
        },
        {
          "output_type": "display_data",
          "data": {
            "text/plain": [
              "<Figure size 360x720 with 1 Axes>"
            ],
            "image/png": "[encoded data removed]"
          },
          "metadata": {
            "needs_background": "light"
          }
        },
        {
          "output_type": "stream",
          "name": "stdout",
          "text": [
            "c = 0.54, m = 0.24, y = -0.056, k = 0.26\n",
            "##############################\n",
            "Finished Training\n"
          ]
        }
      ],
      "source": [
        "for epoch in range(20):  # loop over the dataset multiple times\n",
        "\n",
        "    running_loss = 0.0\n",
        "    for i, data in enumerate(trainloader, 0):\n",
        "        inputs, labels = data\n",
        "\n",
        "        optimizer.zero_grad()\n",
        "\n",
        "        outputs = net(inputs)\n",
        "        loss = criterion(outputs, labels)\n",
        "        loss.backward()\n",
        "        optimizer.step()\n",
        "\n",
        "        # print statistics\n",
        "        running_loss += loss.item()\n",
        "        if i % 1000 == 999 and epoch % 4 == 3:    \n",
        "            print(f'[{epoch + 1} Pass through data] loss: {running_loss/1000 :.3f}')\n",
        "            running_loss = 0.0\n",
        "            \n",
        "            pred_col =  net(your_col)\n",
        "            pred_col = pred_col.detach().numpy()\n",
        "\n",
        "            viz_colour_predicted_cmyk(your_col,pred_col)\n",
        "\n",
        "print('Finished Training')"
      ]
    },
    {
      "cell_type": "markdown",
      "id": "62274aaa",
      "metadata": {
        "id": "62274aaa"
      },
      "source": [
        "Let's look at the prediction for our input rgb colour:"
      ]
    },
    {
      "cell_type": "code",
      "execution_count": 40,
      "id": "54c18b12",
      "metadata": {
        "id": "54c18b12",
        "outputId": "98386568-a157-4217-bef1-00af0f37a303",
        "colab": {
          "base_uri": "https://localhost:8080/"
        }
      },
      "outputs": [
        {
          "output_type": "stream",
          "name": "stdout",
          "text": [
            "Loss for untrained network is 0.938604212731694\n",
            "Loss for the trained network is 0.012380864797272366\n"
          ]
        }
      ],
      "source": [
        "your_col = torch.as_tensor(your_col)\n",
        "\n",
        "pred_col =  untrained_net(your_col)\n",
        "pred_col = pred_col.detach().numpy()\n",
        "\n",
        "your_loss = np.sum((true_col - pred_col) **2)\n",
        "print(f\"Loss for untrained network is {your_loss}\")\n",
        "\n",
        "pred_col =  net(your_col)\n",
        "pred_col = pred_col.detach().numpy()\n",
        "\n",
        "your_loss = np.sum((true_col - pred_col) **2)\n",
        "print(f\"Loss for the trained network is {your_loss}\")\n",
        "\n"
      ]
    },
    {
      "cell_type": "markdown",
      "id": "dfb10fa6",
      "metadata": {
        "id": "dfb10fa6"
      },
      "source": [
        "The loss is much closer to 0 now. Our sample colours look much better now too:"
      ]
    },
    {
      "cell_type": "code",
      "execution_count": 41,
      "id": "ac67e40d",
      "metadata": {
        "id": "ac67e40d",
        "outputId": "9dd7c190-659b-4e9b-e864-aa843bd7f1aa",
        "colab": {
          "base_uri": "https://localhost:8080/",
          "height": 905
        }
      },
      "outputs": [
        {
          "output_type": "stream",
          "name": "stdout",
          "text": [
            "Input RGB:\n"
          ]
        },
        {
          "output_type": "display_data",
          "data": {
            "text/plain": [
              "<Figure size 360x720 with 1 Axes>"
            ],
            "image/png": "[encoded data removed]"
          },
          "metadata": {
            "needs_background": "light"
          }
        },
        {
          "output_type": "stream",
          "name": "stdout",
          "text": [
            "r = 0.0, g = 0.0, b = 0.0\n",
            "\n",
            "Output Prediction:\n"
          ]
        },
        {
          "output_type": "display_data",
          "data": {
            "text/plain": [
              "<Figure size 360x720 with 1 Axes>"
            ],
            "image/png": "[encoded data removed]"
          },
          "metadata": {
            "needs_background": "light"
          }
        },
        {
          "output_type": "stream",
          "name": "stdout",
          "text": [
            "c = 0.28, m = 0.28, y = 0.28, k = 0.72\n",
            "##############################\n",
            "Input RGB:\n"
          ]
        },
        {
          "output_type": "display_data",
          "data": {
            "text/plain": [
              "<Figure size 360x720 with 1 Axes>"
            ],
            "image/png": "[encoded data removed]"
          },
          "metadata": {
            "needs_background": "light"
          }
        },
        {
          "output_type": "stream",
          "name": "stdout",
          "text": [
            "r = 0.5, g = 0.5, b = 0.5\n",
            "\n",
            "Output Prediction:\n"
          ]
        },
        {
          "output_type": "display_data",
          "data": {
            "text/plain": [
              "<Figure size 360x720 with 1 Axes>"
            ],
            "image/png": "[encoded data removed]"
          },
          "metadata": {
            "needs_background": "light"
          }
        },
        {
          "output_type": "stream",
          "name": "stdout",
          "text": [
            "c = 0.24, m = 0.24, y = 0.24, k = 0.25\n",
            "##############################\n",
            "Input RGB:\n"
          ]
        },
        {
          "output_type": "display_data",
          "data": {
            "text/plain": [
              "<Figure size 360x720 with 1 Axes>"
            ],
            "image/png": "[encoded data removed]"
          },
          "metadata": {
            "needs_background": "light"
          }
        },
        {
          "output_type": "stream",
          "name": "stdout",
          "text": [
            "r = 0.0, g = 0.5, b = 0.5\n",
            "\n",
            "Output Prediction:\n"
          ]
        },
        {
          "output_type": "display_data",
          "data": {
            "text/plain": [
              "<Figure size 360x720 with 1 Axes>"
            ],
            "image/png": "[encoded data removed]"
          },
          "metadata": {
            "needs_background": "light"
          }
        },
        {
          "output_type": "stream",
          "name": "stdout",
          "text": [
            "c = 0.59, m = 0.087, y = 0.087, k = 0.41\n",
            "##############################\n"
          ]
        }
      ],
      "source": [
        "\n",
        "inputs = torch.as_tensor([0.,0.,0.])\n",
        "pred = net(inputs).detach().numpy()\n",
        "viz_colour_predicted_cmyk(inputs,pred)\n",
        "\n",
        "\n",
        "inputs = torch.as_tensor([0.5,0.5,0.5])\n",
        "pred = net(inputs).detach().numpy()\n",
        "viz_colour_predicted_cmyk(inputs,pred)\n",
        "\n",
        "inputs = torch.as_tensor([0.0,0.5,0.5])\n",
        "pred = net(inputs).detach().numpy()\n",
        "viz_colour_predicted_cmyk(inputs,pred)"
      ]
    },
    {
      "cell_type": "markdown",
      "id": "187b205d",
      "metadata": {
        "id": "187b205d"
      },
      "source": [
        "Good job again PlumberBot!\n",
        "We have learnt how to create simple neural networks, and the basics of how they work."
      ]
    },
    {
      "cell_type": "markdown",
      "id": "32a290f3",
      "metadata": {
        "id": "32a290f3"
      },
      "source": [
        "### Plot twist\n",
        "Did you know that the images of PlumberBot was created using a neural network?\n",
        "\n",
        "That model is called Dall E mini, and it can generate images from any text you provide it.\n",
        "\n",
        "Here are some more examples of \"Robot plumber fixing neural networks\":\n",
        "\n",
        "![robot 1](https://github.com/GDS-Education-Community-of-Practice/DSECOP/blob/main/Learning_the_Schrodinger_Equation/res/fig/rp-3.png?raw=1)\n",
        "![robot 2](https://github.com/GDS-Education-Community-of-Practice/DSECOP/blob/main/Learning_the_Schrodinger_Equation/res/fig/rp-4.png?raw=1)\n",
        "\n",
        "You can generate your own images here: https://huggingface.co/spaces/dalle-mini/dalle-mini\n",
        "(Hint: If it shows an error, close the error and click on run again till it works. It will take a minute or two to generate images)"
      ]
    },
    {
      "cell_type": "markdown",
      "id": "53e92965",
      "metadata": {
        "id": "53e92965"
      },
      "source": [
        "## Optional Challenge: CMYK to RGB Network\n",
        "Can you create a network to convert CMYK values to RGB values? Feel free to copy any code from above."
      ]
    },
    {
      "cell_type": "code",
      "execution_count": 42,
      "id": "fdace28e",
      "metadata": {
        "id": "fdace28e"
      },
      "outputs": [],
      "source": [
        "n_size = 1000\n",
        "rgb_training_set = np.random.rand(n_size,3)\n",
        "cmyk_training_set = np.asarray(list(map(rgb_to_cmyk, rgb_training_set)))"
      ]
    },
    {
      "cell_type": "code",
      "execution_count": 43,
      "id": "1c8a8cc2",
      "metadata": {
        "id": "1c8a8cc2"
      },
      "outputs": [],
      "source": [
        "class PipeNet(nn.Module):\n",
        "    def __init__(self):\n",
        "        super().__init__()\n",
        "        \n",
        "        ## Exercise: Add the input and output sizes here\n",
        "        self.fc1 = nn.Linear(4,3)\n",
        "        # In the previous case, for 3 input and 3 outputs,\n",
        "        # we used self.fc1 = nn.Linear(3,3), \n",
        "        # where first number is input size and second number is output size\n",
        "\n",
        "\n",
        "    def forward(self, x):\n",
        "        x = self.fc1(x)\n",
        "        return x\n",
        "\n",
        "\n",
        "net = PipeNet()\n",
        "untrained_net = copy.deepcopy(net)"
      ]
    },
    {
      "cell_type": "code",
      "execution_count": 44,
      "id": "1e4ed762",
      "metadata": {
        "id": "1e4ed762"
      },
      "outputs": [],
      "source": [
        "trainset = ColourDataset(input_data=cmyk_training_set, output_data=rgb_training_set)\n",
        "\n",
        "batch_size = 1\n",
        "trainloader = torch.utils.data.DataLoader(trainset, batch_size=batch_size,\n",
        "                                          shuffle=True, num_workers=0)\n",
        "criterion = nn.MSELoss()\n",
        "optimizer = optim.SGD(net.parameters(), lr=0.001, momentum=0.9)"
      ]
    },
    {
      "cell_type": "code",
      "execution_count": 45,
      "id": "f23367f2",
      "metadata": {
        "id": "f23367f2",
        "outputId": "f44ae55b-a142-4eaa-9b0e-0add00a44197",
        "colab": {
          "base_uri": "https://localhost:8080/"
        }
      },
      "outputs": [
        {
          "output_type": "stream",
          "name": "stdout",
          "text": [
            "[4 Pass through data] loss: 0.023\n",
            "[8 Pass through data] loss: 0.009\n",
            "[12 Pass through data] loss: 0.004\n",
            "[16 Pass through data] loss: 0.002\n",
            "[20 Pass through data] loss: 0.001\n",
            "Finished Training\n"
          ]
        }
      ],
      "source": [
        "for epoch in range(20):  # loop over the dataset multiple times\n",
        "\n",
        "    running_loss = 0.0\n",
        "    for i, data in enumerate(trainloader, 0):\n",
        "        inputs, labels = data\n",
        "\n",
        "        optimizer.zero_grad()\n",
        "\n",
        "        outputs = net(inputs)\n",
        "        loss = criterion(outputs, labels)\n",
        "        loss.backward()\n",
        "        optimizer.step()\n",
        "\n",
        "        # print statistics\n",
        "        running_loss += loss.item()\n",
        "        if i % 1000 == 999 and epoch % 4 == 3:    \n",
        "            print(f'[{epoch + 1} Pass through data] loss: {running_loss/1000 :.3f}')\n",
        "            running_loss = 0.0\n",
        "            \n",
        "\n",
        "print('Finished Training')"
      ]
    },
    {
      "cell_type": "code",
      "execution_count": 45,
      "id": "2f148453",
      "metadata": {
        "id": "2f148453"
      },
      "outputs": [],
      "source": []
    }
  ],
  "metadata": {
    "kernelspec": {
      "display_name": "Python 3 (ipykernel)",
      "language": "python",
      "name": "python3"
    },
    "language_info": {
      "codemirror_mode": {
        "name": "ipython",
        "version": 3
      },
      "file_extension": ".py",
      "mimetype": "text/x-python",
      "name": "python",
      "nbconvert_exporter": "python",
      "pygments_lexer": "ipython3",
      "version": "3.8.13"
    },
    "colab": {
      "provenance": [],
      "include_colab_link": true
    },
    "widgets": {
      "application/vnd.jupyter.widget-state+json": {
        "1ab58a2fbad44d4fa0e2ac9cf4052e92": {
          "model_module": "@jupyter-widgets/controls",
          "model_name": "VBoxModel",
          "model_module_version": "1.5.0",
          "state": {
            "_dom_classes": [
              "widget-interact"
            ],
            "_model_module": "@jupyter-widgets/controls",
            "_model_module_version": "1.5.0",
            "_model_name": "VBoxModel",
            "_view_count": null,
            "_view_module": "@jupyter-widgets/controls",
            "_view_module_version": "1.5.0",
            "_view_name": "VBoxView",
            "box_style": "",
            "children": [
              "IPY_MODEL_c0a79a3b3beb45fe919a8e4db076ca49",
              "IPY_MODEL_2eb60593b6be441c83c05dc43993ecb2",
              "IPY_MODEL_50e2f7eb756c4320b1a720814afcb383",
              "IPY_MODEL_4ef821681d134495a2a2387c64bae40d"
            ],
            "layout": "IPY_MODEL_d41f7988688d4e4cb1eb1ea116b74af5"
          }
        },
        "c0a79a3b3beb45fe919a8e4db076ca49": {
          "model_module": "@jupyter-widgets/controls",
          "model_name": "FloatSliderModel",
          "model_module_version": "1.5.0",
          "state": {
            "_dom_classes": [],
            "_model_module": "@jupyter-widgets/controls",
            "_model_module_version": "1.5.0",
            "_model_name": "FloatSliderModel",
            "_view_count": null,
            "_view_module": "@jupyter-widgets/controls",
            "_view_module_version": "1.5.0",
            "_view_name": "FloatSliderView",
            "continuous_update": true,
            "description": "r",
            "description_tooltip": null,
            "disabled": false,
            "layout": "IPY_MODEL_d5f407cd80634c3db0fa059fb78d207c",
            "max": 1,
            "min": 0,
            "orientation": "horizontal",
            "readout": true,
            "readout_format": ".2f",
            "step": 0.1,
            "style": "IPY_MODEL_13a8821c20c04248b71df11259fe4fef",
            "value": 0.5
          }
        },
        "2eb60593b6be441c83c05dc43993ecb2": {
          "model_module": "@jupyter-widgets/controls",
          "model_name": "FloatSliderModel",
          "model_module_version": "1.5.0",
          "state": {
            "_dom_classes": [],
            "_model_module": "@jupyter-widgets/controls",
            "_model_module_version": "1.5.0",
            "_model_name": "FloatSliderModel",
            "_view_count": null,
            "_view_module": "@jupyter-widgets/controls",
            "_view_module_version": "1.5.0",
            "_view_name": "FloatSliderView",
            "continuous_update": true,
            "description": "g",
            "description_tooltip": null,
            "disabled": false,
            "layout": "IPY_MODEL_5bbed483c15f44e9826426daa61c15ae",
            "max": 1,
            "min": 0,
            "orientation": "horizontal",
            "readout": true,
            "readout_format": ".2f",
            "step": 0.1,
            "style": "IPY_MODEL_d566e7855faa4833b65a5de1391ca0a6",
            "value": 0.5
          }
        },
        "50e2f7eb756c4320b1a720814afcb383": {
          "model_module": "@jupyter-widgets/controls",
          "model_name": "FloatSliderModel",
          "model_module_version": "1.5.0",
          "state": {
            "_dom_classes": [],
            "_model_module": "@jupyter-widgets/controls",
            "_model_module_version": "1.5.0",
            "_model_name": "FloatSliderModel",
            "_view_count": null,
            "_view_module": "@jupyter-widgets/controls",
            "_view_module_version": "1.5.0",
            "_view_name": "FloatSliderView",
            "continuous_update": true,
            "description": "b",
            "description_tooltip": null,
            "disabled": false,
            "layout": "IPY_MODEL_ecb6132ad68d474c8e3903b62cd33100",
            "max": 1,
            "min": 0,
            "orientation": "horizontal",
            "readout": true,
            "readout_format": ".2f",
            "step": 0.1,
            "style": "IPY_MODEL_92457d6956ee47469699606eb3fbe73e",
            "value": 0.5
          }
        },
        "4ef821681d134495a2a2387c64bae40d": {
          "model_module": "@jupyter-widgets/output",
          "model_name": "OutputModel",
          "model_module_version": "1.0.0",
          "state": {
            "_dom_classes": [],
            "_model_module": "@jupyter-widgets/output",
            "_model_module_version": "1.0.0",
            "_model_name": "OutputModel",
            "_view_count": null,
            "_view_module": "@jupyter-widgets/output",
            "_view_module_version": "1.0.0",
            "_view_name": "OutputView",
            "layout": "IPY_MODEL_4e6cfb5d1a5442b4b5d8c1a782cc5cb9",
            "msg_id": "",
            "outputs": [
              {
                "output_type": "display_data",
                "data": {
                  "text/plain": "<Figure size 360x720 with 1 Axes>",
                  "image/png": "iVBORw0KGgoAAAANSUhEUgAAAXYAAABnCAYAAAAUo2nvAAAABHNCSVQICAgIfAhkiAAAAAlwSFlzAAALEgAACxIB0t1+/AAAADh0RVh0U29mdHdhcmUAbWF0cGxvdGxpYiB2ZXJzaW9uMy4yLjIsIGh0dHA6Ly9tYXRwbG90bGliLm9yZy+WH4yJAAAD0ElEQVR4nO3cv6vVdRzH8dc7HEQcpHAoyFoiSsjBGqQmt6CmCKIgaHEooqW2guvQP1BQ0FCUWUMt1ZxQaQRJkVnhKIGXUIJ+QUt8GjxEhF4azM/5vns8psP9DOd1vxyefDnn3lNjjADQxzWzBwBwZQk7QDPCDtCMsAM0I+wAzQg7QDPbtjrcUTV2Xa0lC7R5/ewFa84F2tL+/TfMnrDWzp07N3vCWtvc3Lwwxth9qbMtw74ryaH/ZFIPh12crblAWzp5cmP2hLW2sbExe8JaO3z48NnLnXkrBqAZYQdoRtgBmhF2gGaEHaAZYQdoRtgBmhF2gGaEHaAZYQdoRtgBmhF2gGaEHaAZYQdoRtgBmhF2gGaEHaAZYQdoRtgBmhF2gGaEHaAZYQdoRtgBmhF2gGaEHaAZYQdoRtgBmhF2gGaEHaAZYQdoRtgBmhF2gGaEHaAZYQdoRtgBmhF2gGaEHaAZYQdoRtgBmhF2gGaEHaAZYQdoRtgBmhF2gGaEHaAZYQdoRtgBmhF2gGaEHaAZYQdoRtgBmhF2gGaEHaAZYQdoRtgBmhF2gGaEHaAZYQdoRtgBmhF2gGaEHaAZYQdoRtgBmhF2gGaEHaAZYQdoRtgBmhF2gGaEHaAZYQdopsYYlz+sOp/k7NWbA8C/dNMYY/elDrYMOwDL460YgGaEHaAZYQdoRtgBmhF2gGaEnf+Vqrq5qk7P3kF/VbVRVU/PeO5Fh70uWvTvAHClLS6KqzuuM1X1RpLTSW6cvWndVNVzq2t0vKrennXXsMa2VdXRqvquqt6tqh2zB7EcVfVoVZ2qqq+q6siqScdWP/uwqvbM3ri4sK/ckuSlMcbeMYb/jP2bqroryQNJ9iW5N8mdcxetpVtz8fVzW5Kfkzw+eQ8LUVV7kzyb5OAYY1+Sp5K8mOT1McYdSY4meWHixCTLDfvZMcZns0esqbuTvDfG+H2M8UuSD2YPWkPfjzFOrB6/meSemWNYlINJ3hljXEiSMcaPSQ4keWt1fiRr8Hpaath/mz2ARfvn92j4Xg1aWWrYubwTSe6vqu1VtTPJfbMHraE9VXVg9fjhJMdnjmFRjiV5sKquS5KqujbJp0keWp0/kuSTSdv+sm32AK6sMcbnVfV+klNJfkjydZKf5q5aO2eSPFFVryb5NsnLk/ewEGOMb6rq+SQfVdUfSb5M8mSS16rqmSTnkzw2c2Pi2x1bqqqdY4xfV3/t8XGSQ2OML2bvAq4Od+w9vVJVtyfZnouf1os6/I+4YwdoxoenAM0IO0Azwg7QjLADNCPsAM0IO0AzfwKegJyHbm4bKgAAAABJRU5ErkJggg==\n"
                },
                "metadata": {
                  "needs_background": "light"
                }
              },
              {
                "output_type": "stream",
                "name": "stdout",
                "text": [
                  "r = 0.5, g = 0.5, b = 0.5\n"
                ]
              }
            ]
          }
        },
        "d41f7988688d4e4cb1eb1ea116b74af5": {
          "model_module": "@jupyter-widgets/base",
          "model_name": "LayoutModel",
          "model_module_version": "1.2.0",
          "state": {
            "_model_module": "@jupyter-widgets/base",
            "_model_module_version": "1.2.0",
            "_model_name": "LayoutModel",
            "_view_count": null,
            "_view_module": "@jupyter-widgets/base",
            "_view_module_version": "1.2.0",
            "_view_name": "LayoutView",
            "align_content": null,
            "align_items": null,
            "align_self": null,
            "border": null,
            "bottom": null,
            "display": null,
            "flex": null,
            "flex_flow": null,
            "grid_area": null,
            "grid_auto_columns": null,
            "grid_auto_flow": null,
            "grid_auto_rows": null,
            "grid_column": null,
            "grid_gap": null,
            "grid_row": null,
            "grid_template_areas": null,
            "grid_template_columns": null,
            "grid_template_rows": null,
            "height": null,
            "justify_content": null,
            "justify_items": null,
            "left": null,
            "margin": null,
            "max_height": null,
            "max_width": null,
            "min_height": null,
            "min_width": null,
            "object_fit": null,
            "object_position": null,
            "order": null,
            "overflow": null,
            "overflow_x": null,
            "overflow_y": null,
            "padding": null,
            "right": null,
            "top": null,
            "visibility": null,
            "width": null
          }
        },
        "d5f407cd80634c3db0fa059fb78d207c": {
          "model_module": "@jupyter-widgets/base",
          "model_name": "LayoutModel",
          "model_module_version": "1.2.0",
          "state": {
            "_model_module": "@jupyter-widgets/base",
            "_model_module_version": "1.2.0",
            "_model_name": "LayoutModel",
            "_view_count": null,
            "_view_module": "@jupyter-widgets/base",
            "_view_module_version": "1.2.0",
            "_view_name": "LayoutView",
            "align_content": null,
            "align_items": null,
            "align_self": null,
            "border": null,
            "bottom": null,
            "display": null,
            "flex": null,
            "flex_flow": null,
            "grid_area": null,
            "grid_auto_columns": null,
            "grid_auto_flow": null,
            "grid_auto_rows": null,
            "grid_column": null,
            "grid_gap": null,
            "grid_row": null,
            "grid_template_areas": null,
            "grid_template_columns": null,
            "grid_template_rows": null,
            "height": null,
            "justify_content": null,
            "justify_items": null,
            "left": null,
            "margin": null,
            "max_height": null,
            "max_width": null,
            "min_height": null,
            "min_width": null,
            "object_fit": null,
            "object_position": null,
            "order": null,
            "overflow": null,
            "overflow_x": null,
            "overflow_y": null,
            "padding": null,
            "right": null,
            "top": null,
            "visibility": null,
            "width": null
          }
        },
        "13a8821c20c04248b71df11259fe4fef": {
          "model_module": "@jupyter-widgets/controls",
          "model_name": "SliderStyleModel",
          "model_module_version": "1.5.0",
          "state": {
            "_model_module": "@jupyter-widgets/controls",
            "_model_module_version": "1.5.0",
            "_model_name": "SliderStyleModel",
            "_view_count": null,
            "_view_module": "@jupyter-widgets/base",
            "_view_module_version": "1.2.0",
            "_view_name": "StyleView",
            "description_width": "",
            "handle_color": null
          }
        },
        "5bbed483c15f44e9826426daa61c15ae": {
          "model_module": "@jupyter-widgets/base",
          "model_name": "LayoutModel",
          "model_module_version": "1.2.0",
          "state": {
            "_model_module": "@jupyter-widgets/base",
            "_model_module_version": "1.2.0",
            "_model_name": "LayoutModel",
            "_view_count": null,
            "_view_module": "@jupyter-widgets/base",
            "_view_module_version": "1.2.0",
            "_view_name": "LayoutView",
            "align_content": null,
            "align_items": null,
            "align_self": null,
            "border": null,
            "bottom": null,
            "display": null,
            "flex": null,
            "flex_flow": null,
            "grid_area": null,
            "grid_auto_columns": null,
            "grid_auto_flow": null,
            "grid_auto_rows": null,
            "grid_column": null,
            "grid_gap": null,
            "grid_row": null,
            "grid_template_areas": null,
            "grid_template_columns": null,
            "grid_template_rows": null,
            "height": null,
            "justify_content": null,
            "justify_items": null,
            "left": null,
            "margin": null,
            "max_height": null,
            "max_width": null,
            "min_height": null,
            "min_width": null,
            "object_fit": null,
            "object_position": null,
            "order": null,
            "overflow": null,
            "overflow_x": null,
            "overflow_y": null,
            "padding": null,
            "right": null,
            "top": null,
            "visibility": null,
            "width": null
          }
        },
        "d566e7855faa4833b65a5de1391ca0a6": {
          "model_module": "@jupyter-widgets/controls",
          "model_name": "SliderStyleModel",
          "model_module_version": "1.5.0",
          "state": {
            "_model_module": "@jupyter-widgets/controls",
            "_model_module_version": "1.5.0",
            "_model_name": "SliderStyleModel",
            "_view_count": null,
            "_view_module": "@jupyter-widgets/base",
            "_view_module_version": "1.2.0",
            "_view_name": "StyleView",
            "description_width": "",
            "handle_color": null
          }
        },
        "ecb6132ad68d474c8e3903b62cd33100": {
          "model_module": "@jupyter-widgets/base",
          "model_name": "LayoutModel",
          "model_module_version": "1.2.0",
          "state": {
            "_model_module": "@jupyter-widgets/base",
            "_model_module_version": "1.2.0",
            "_model_name": "LayoutModel",
            "_view_count": null,
            "_view_module": "@jupyter-widgets/base",
            "_view_module_version": "1.2.0",
            "_view_name": "LayoutView",
            "align_content": null,
            "align_items": null,
            "align_self": null,
            "border": null,
            "bottom": null,
            "display": null,
            "flex": null,
            "flex_flow": null,
            "grid_area": null,
            "grid_auto_columns": null,
            "grid_auto_flow": null,
            "grid_auto_rows": null,
            "grid_column": null,
            "grid_gap": null,
            "grid_row": null,
            "grid_template_areas": null,
            "grid_template_columns": null,
            "grid_template_rows": null,
            "height": null,
            "justify_content": null,
            "justify_items": null,
            "left": null,
            "margin": null,
            "max_height": null,
            "max_width": null,
            "min_height": null,
            "min_width": null,
            "object_fit": null,
            "object_position": null,
            "order": null,
            "overflow": null,
            "overflow_x": null,
            "overflow_y": null,
            "padding": null,
            "right": null,
            "top": null,
            "visibility": null,
            "width": null
          }
        },
        "92457d6956ee47469699606eb3fbe73e": {
          "model_module": "@jupyter-widgets/controls",
          "model_name": "SliderStyleModel",
          "model_module_version": "1.5.0",
          "state": {
            "_model_module": "@jupyter-widgets/controls",
            "_model_module_version": "1.5.0",
            "_model_name": "SliderStyleModel",
            "_view_count": null,
            "_view_module": "@jupyter-widgets/base",
            "_view_module_version": "1.2.0",
            "_view_name": "StyleView",
            "description_width": "",
            "handle_color": null
          }
        },
        "4e6cfb5d1a5442b4b5d8c1a782cc5cb9": {
          "model_module": "@jupyter-widgets/base",
          "model_name": "LayoutModel",
          "model_module_version": "1.2.0",
          "state": {
            "_model_module": "@jupyter-widgets/base",
            "_model_module_version": "1.2.0",
            "_model_name": "LayoutModel",
            "_view_count": null,
            "_view_module": "@jupyter-widgets/base",
            "_view_module_version": "1.2.0",
            "_view_name": "LayoutView",
            "align_content": null,
            "align_items": null,
            "align_self": null,
            "border": null,
            "bottom": null,
            "display": null,
            "flex": null,
            "flex_flow": null,
            "grid_area": null,
            "grid_auto_columns": null,
            "grid_auto_flow": null,
            "grid_auto_rows": null,
            "grid_column": null,
            "grid_gap": null,
            "grid_row": null,
            "grid_template_areas": null,
            "grid_template_columns": null,
            "grid_template_rows": null,
            "height": null,
            "justify_content": null,
            "justify_items": null,
            "left": null,
            "margin": null,
            "max_height": null,
            "max_width": null,
            "min_height": null,
            "min_width": null,
            "object_fit": null,
            "object_position": null,
            "order": null,
            "overflow": null,
            "overflow_x": null,
            "overflow_y": null,
            "padding": null,
            "right": null,
            "top": null,
            "visibility": null,
            "width": null
          }
        },
        "1b011d7dd4d64decacd640de4de56cad": {
          "model_module": "@jupyter-widgets/controls",
          "model_name": "VBoxModel",
          "model_module_version": "1.5.0",
          "state": {
            "_dom_classes": [
              "widget-interact"
            ],
            "_model_module": "@jupyter-widgets/controls",
            "_model_module_version": "1.5.0",
            "_model_name": "VBoxModel",
            "_view_count": null,
            "_view_module": "@jupyter-widgets/controls",
            "_view_module_version": "1.5.0",
            "_view_name": "VBoxView",
            "box_style": "",
            "children": [
              "IPY_MODEL_57d8efcc465f46e7b4f080232698a5fa",
              "IPY_MODEL_894167f83b8a44a49fd043fd0ee66061"
            ],
            "layout": "IPY_MODEL_2cc31b3a4f7345db9b8cb9976269b723"
          }
        },
        "57d8efcc465f46e7b4f080232698a5fa": {
          "model_module": "@jupyter-widgets/controls",
          "model_name": "IntSliderModel",
          "model_module_version": "1.5.0",
          "state": {
            "_dom_classes": [],
            "_model_module": "@jupyter-widgets/controls",
            "_model_module_version": "1.5.0",
            "_model_name": "IntSliderModel",
            "_view_count": null,
            "_view_module": "@jupyter-widgets/controls",
            "_view_module_version": "1.5.0",
            "_view_name": "IntSliderView",
            "continuous_update": true,
            "description": "n",
            "description_tooltip": null,
            "disabled": false,
            "layout": "IPY_MODEL_8f2f7101cde54033af686ca09566b2d4",
            "max": 1000,
            "min": 0,
            "orientation": "horizontal",
            "readout": true,
            "readout_format": "d",
            "step": 1,
            "style": "IPY_MODEL_ab262c54a2e2497daea2a571bab597fb",
            "value": 500
          }
        },
        "894167f83b8a44a49fd043fd0ee66061": {
          "model_module": "@jupyter-widgets/output",
          "model_name": "OutputModel",
          "model_module_version": "1.0.0",
          "state": {
            "_dom_classes": [],
            "_model_module": "@jupyter-widgets/output",
            "_model_module_version": "1.0.0",
            "_model_name": "OutputModel",
            "_view_count": null,
            "_view_module": "@jupyter-widgets/output",
            "_view_module_version": "1.0.0",
            "_view_name": "OutputView",
            "layout": "IPY_MODEL_c3c0f6c35d294064b09b2671fb5f2620",
            "msg_id": "",
            "outputs": [
              {
                "output_type": "display_data",
                "data": {
                  "text/plain": "<Figure size 360x720 with 1 Axes>",
                  "image/png": "iVBORw0KGgoAAAANSUhEUgAAAXYAAABnCAYAAAAUo2nvAAAABHNCSVQICAgIfAhkiAAAAAlwSFlzAAALEgAACxIB0t1+/AAAADh0RVh0U29mdHdhcmUAbWF0cGxvdGxpYiB2ZXJzaW9uMy4yLjIsIGh0dHA6Ly9tYXRwbG90bGliLm9yZy+WH4yJAAAD30lEQVR4nO3cv6vVdRzH8dc7HCTE4YaLoNUQUUIS2iA1uQU1RRD9gpaGIlpqK2jpHygoaChKraGWamlJqDSCKOlmhVNIQ4QipAVB1KfBQ0RcpcH8fr9vH4/pcD/Dfd3D4cmXc8791hgjAPRx1dQDALi0hB2gGWEHaEbYAZoRdoBmhB2gmU0XO1yrGjsu15IFWr916gUzd2xt6gWztmfP9VNPmLXf//x+6gmztn7szOkxxraNzupi32PfXTU++N9mLd/2s1MvmLmtD069YNbGODD1hFn78dxDU0+Yte1bD34xxti70Zm3YgCaEXaAZoQdoBlhB2hG2AGaEXaAZoQdoBlhB2hG2AGaEXaAZoQdoBlhB2hG2AGaEXaAZoQdoBlhB2hG2AGaEXaAZoQdoBlhB2hG2AGaEXaAZoQdoBlhB2hG2AGaEXaAZoQdoBlhB2hG2AGaEXaAZoQdoBlhB2hG2AGaEXaAZoQdoBlhB2hG2AGaEXaAZoQdoBlhB2hG2AGaEXaAZoQdoBlhB2hG2AGaEXaAZoQdoBlhB2hG2AGaEXaAZoQdoBlhB2hG2AGaEXaAZoQdoBlhB2hG2AGaEXaAZoQdoBlhB2hG2AGaEXaAZoQdoBlhB2hG2AGaEXaAZoQdoBlhB2hG2AGaEXaAZmqMceHDqlNJTl6+OQD8R9eOMbZtdHDRsAOwPN6KAWhG2AGaEXaAZoQdoBlhB2hG2LmiVNV1VXV86h30V1XPVdVTU/zuRYe9zlv03wBwqS0uiqsrrhNV9UaS40l2TL1pbqrq2dVzdKSq3prqqmHGNlXVoar6rqreqaqrpx7EclTVw1W1XlVfVdWBVZMOr372YVXtnHrj4sK+ckOSl8YYu8YY/jP2H6rqtiT3JNmd5M4ke6ddNEs35vzr56YkZ5M8NvEeFqKqdiV5Jsn+McbuJE8meTHJ62OMW5IcSvLChBOTLDfsJ8cYn009YqZuT/LuGOO3Mca5JO9PPWiGfhhjHF09PpjkjinHsCj7k7w9xjidJGOMM0n2JXlzdX4gM3g9LTXsv049gEX793003FeDVpYadi7saJK7q2pzVW1JctfUg2ZoZ1XtWz2+P8mRKcewKIeT3FtV1yRJVa0l+TTJfavzB5J8MtG2v22aegCX1hjj86p6L8l6kp+SfJ3k52lXzc6JJI9X1atJvk3y8sR7WIgxxjdV9XySj6rqjyTHkjyR5LWqejrJqSSPTLkxcXfHlqpqyxjjl9W3PT5O8ugY48updwGXhyv2nl6pqpuTbM75T+tFHa4grtgBmvHhKUAzwg7QjLADNCPsAM0IO0Azwg7QzF8GzaRBOM3O7AAAAABJRU5ErkJggg==\n"
                },
                "metadata": {
                  "needs_background": "light"
                }
              },
              {
                "output_type": "stream",
                "name": "stdout",
                "text": [
                  "r = 0.9, g = 0.95, b = 0.36\n"
                ]
              }
            ]
          }
        },
        "2cc31b3a4f7345db9b8cb9976269b723": {
          "model_module": "@jupyter-widgets/base",
          "model_name": "LayoutModel",
          "model_module_version": "1.2.0",
          "state": {
            "_model_module": "@jupyter-widgets/base",
            "_model_module_version": "1.2.0",
            "_model_name": "LayoutModel",
            "_view_count": null,
            "_view_module": "@jupyter-widgets/base",
            "_view_module_version": "1.2.0",
            "_view_name": "LayoutView",
            "align_content": null,
            "align_items": null,
            "align_self": null,
            "border": null,
            "bottom": null,
            "display": null,
            "flex": null,
            "flex_flow": null,
            "grid_area": null,
            "grid_auto_columns": null,
            "grid_auto_flow": null,
            "grid_auto_rows": null,
            "grid_column": null,
            "grid_gap": null,
            "grid_row": null,
            "grid_template_areas": null,
            "grid_template_columns": null,
            "grid_template_rows": null,
            "height": null,
            "justify_content": null,
            "justify_items": null,
            "left": null,
            "margin": null,
            "max_height": null,
            "max_width": null,
            "min_height": null,
            "min_width": null,
            "object_fit": null,
            "object_position": null,
            "order": null,
            "overflow": null,
            "overflow_x": null,
            "overflow_y": null,
            "padding": null,
            "right": null,
            "top": null,
            "visibility": null,
            "width": null
          }
        },
        "8f2f7101cde54033af686ca09566b2d4": {
          "model_module": "@jupyter-widgets/base",
          "model_name": "LayoutModel",
          "model_module_version": "1.2.0",
          "state": {
            "_model_module": "@jupyter-widgets/base",
            "_model_module_version": "1.2.0",
            "_model_name": "LayoutModel",
            "_view_count": null,
            "_view_module": "@jupyter-widgets/base",
            "_view_module_version": "1.2.0",
            "_view_name": "LayoutView",
            "align_content": null,
            "align_items": null,
            "align_self": null,
            "border": null,
            "bottom": null,
            "display": null,
            "flex": null,
            "flex_flow": null,
            "grid_area": null,
            "grid_auto_columns": null,
            "grid_auto_flow": null,
            "grid_auto_rows": null,
            "grid_column": null,
            "grid_gap": null,
            "grid_row": null,
            "grid_template_areas": null,
            "grid_template_columns": null,
            "grid_template_rows": null,
            "height": null,
            "justify_content": null,
            "justify_items": null,
            "left": null,
            "margin": null,
            "max_height": null,
            "max_width": null,
            "min_height": null,
            "min_width": null,
            "object_fit": null,
            "object_position": null,
            "order": null,
            "overflow": null,
            "overflow_x": null,
            "overflow_y": null,
            "padding": null,
            "right": null,
            "top": null,
            "visibility": null,
            "width": null
          }
        },
        "ab262c54a2e2497daea2a571bab597fb": {
          "model_module": "@jupyter-widgets/controls",
          "model_name": "SliderStyleModel",
          "model_module_version": "1.5.0",
          "state": {
            "_model_module": "@jupyter-widgets/controls",
            "_model_module_version": "1.5.0",
            "_model_name": "SliderStyleModel",
            "_view_count": null,
            "_view_module": "@jupyter-widgets/base",
            "_view_module_version": "1.2.0",
            "_view_name": "StyleView",
            "description_width": "",
            "handle_color": null
          }
        },
        "c3c0f6c35d294064b09b2671fb5f2620": {
          "model_module": "@jupyter-widgets/base",
          "model_name": "LayoutModel",
          "model_module_version": "1.2.0",
          "state": {
            "_model_module": "@jupyter-widgets/base",
            "_model_module_version": "1.2.0",
            "_model_name": "LayoutModel",
            "_view_count": null,
            "_view_module": "@jupyter-widgets/base",
            "_view_module_version": "1.2.0",
            "_view_name": "LayoutView",
            "align_content": null,
            "align_items": null,
            "align_self": null,
            "border": null,
            "bottom": null,
            "display": null,
            "flex": null,
            "flex_flow": null,
            "grid_area": null,
            "grid_auto_columns": null,
            "grid_auto_flow": null,
            "grid_auto_rows": null,
            "grid_column": null,
            "grid_gap": null,
            "grid_row": null,
            "grid_template_areas": null,
            "grid_template_columns": null,
            "grid_template_rows": null,
            "height": null,
            "justify_content": null,
            "justify_items": null,
            "left": null,
            "margin": null,
            "max_height": null,
            "max_width": null,
            "min_height": null,
            "min_width": null,
            "object_fit": null,
            "object_position": null,
            "order": null,
            "overflow": null,
            "overflow_x": null,
            "overflow_y": null,
            "padding": null,
            "right": null,
            "top": null,
            "visibility": null,
            "width": null
          }
        },
        "6ee2e259949a4fcdac38300055895ac9": {
          "model_module": "@jupyter-widgets/controls",
          "model_name": "VBoxModel",
          "model_module_version": "1.5.0",
          "state": {
            "_dom_classes": [
              "widget-interact"
            ],
            "_model_module": "@jupyter-widgets/controls",
            "_model_module_version": "1.5.0",
            "_model_name": "VBoxModel",
            "_view_count": null,
            "_view_module": "@jupyter-widgets/controls",
            "_view_module_version": "1.5.0",
            "_view_name": "VBoxView",
            "box_style": "",
            "children": [
              "IPY_MODEL_12aeaf93e0d04d2d88da8ad354a9b13b",
              "IPY_MODEL_65abdf5498af44f19f0eb256ea2c3703",
              "IPY_MODEL_fa922a180ebf438daafa96ec31e3ee2a",
              "IPY_MODEL_d504c65c4bfb44bd809bb11552cf4f6f",
              "IPY_MODEL_42a8fdf89ca54b2c96368accaf768981"
            ],
            "layout": "IPY_MODEL_0d993219b6a0402bb8f9e949349dfac1"
          }
        },
        "12aeaf93e0d04d2d88da8ad354a9b13b": {
          "model_module": "@jupyter-widgets/controls",
          "model_name": "FloatSliderModel",
          "model_module_version": "1.5.0",
          "state": {
            "_dom_classes": [],
            "_model_module": "@jupyter-widgets/controls",
            "_model_module_version": "1.5.0",
            "_model_name": "FloatSliderModel",
            "_view_count": null,
            "_view_module": "@jupyter-widgets/controls",
            "_view_module_version": "1.5.0",
            "_view_name": "FloatSliderView",
            "continuous_update": true,
            "description": "c",
            "description_tooltip": null,
            "disabled": false,
            "layout": "IPY_MODEL_a74552f982554be6ad9d0d00bca540d4",
            "max": 1,
            "min": 0,
            "orientation": "horizontal",
            "readout": true,
            "readout_format": ".2f",
            "step": 0.1,
            "style": "IPY_MODEL_15da8193e80e43abb40b46a3509f5d7d",
            "value": 0.5
          }
        },
        "65abdf5498af44f19f0eb256ea2c3703": {
          "model_module": "@jupyter-widgets/controls",
          "model_name": "FloatSliderModel",
          "model_module_version": "1.5.0",
          "state": {
            "_dom_classes": [],
            "_model_module": "@jupyter-widgets/controls",
            "_model_module_version": "1.5.0",
            "_model_name": "FloatSliderModel",
            "_view_count": null,
            "_view_module": "@jupyter-widgets/controls",
            "_view_module_version": "1.5.0",
            "_view_name": "FloatSliderView",
            "continuous_update": true,
            "description": "m",
            "description_tooltip": null,
            "disabled": false,
            "layout": "IPY_MODEL_25c34fc7abc040aca1f433928b273e01",
            "max": 1,
            "min": 0,
            "orientation": "horizontal",
            "readout": true,
            "readout_format": ".2f",
            "step": 0.1,
            "style": "IPY_MODEL_466608f73dfd467b92aecfaa8cf47b04",
            "value": 0.5
          }
        },
        "fa922a180ebf438daafa96ec31e3ee2a": {
          "model_module": "@jupyter-widgets/controls",
          "model_name": "FloatSliderModel",
          "model_module_version": "1.5.0",
          "state": {
            "_dom_classes": [],
            "_model_module": "@jupyter-widgets/controls",
            "_model_module_version": "1.5.0",
            "_model_name": "FloatSliderModel",
            "_view_count": null,
            "_view_module": "@jupyter-widgets/controls",
            "_view_module_version": "1.5.0",
            "_view_name": "FloatSliderView",
            "continuous_update": true,
            "description": "y",
            "description_tooltip": null,
            "disabled": false,
            "layout": "IPY_MODEL_766bb4598b1f47afb3f7d0b108abc600",
            "max": 1,
            "min": 0,
            "orientation": "horizontal",
            "readout": true,
            "readout_format": ".2f",
            "step": 0.1,
            "style": "IPY_MODEL_d063e9b07a2a4d9192b8052ecaa18236",
            "value": 0.5
          }
        },
        "d504c65c4bfb44bd809bb11552cf4f6f": {
          "model_module": "@jupyter-widgets/controls",
          "model_name": "IntSliderModel",
          "model_module_version": "1.5.0",
          "state": {
            "_dom_classes": [],
            "_model_module": "@jupyter-widgets/controls",
            "_model_module_version": "1.5.0",
            "_model_name": "IntSliderModel",
            "_view_count": null,
            "_view_module": "@jupyter-widgets/controls",
            "_view_module_version": "1.5.0",
            "_view_name": "IntSliderView",
            "continuous_update": true,
            "description": "k",
            "description_tooltip": null,
            "disabled": false,
            "layout": "IPY_MODEL_270925fbad024e4986b44967121680fc",
            "max": 1,
            "min": 0,
            "orientation": "horizontal",
            "readout": true,
            "readout_format": "d",
            "step": 1,
            "style": "IPY_MODEL_0d4a8f4679b5488b98d4a9c786ff5d03",
            "value": 0
          }
        },
        "42a8fdf89ca54b2c96368accaf768981": {
          "model_module": "@jupyter-widgets/output",
          "model_name": "OutputModel",
          "model_module_version": "1.0.0",
          "state": {
            "_dom_classes": [],
            "_model_module": "@jupyter-widgets/output",
            "_model_module_version": "1.0.0",
            "_model_name": "OutputModel",
            "_view_count": null,
            "_view_module": "@jupyter-widgets/output",
            "_view_module_version": "1.0.0",
            "_view_name": "OutputView",
            "layout": "IPY_MODEL_6433c49d52294fa2bdedb9917982de22",
            "msg_id": "",
            "outputs": [
              {
                "output_type": "stream",
                "name": "stdout",
                "text": [
                  "CMYK:\n"
                ]
              },
              {
                "output_type": "display_data",
                "data": {
                  "text/plain": "<Figure size 360x720 with 1 Axes>",
                  "image/png": "iVBORw0KGgoAAAANSUhEUgAAAXYAAABbCAYAAABnG645AAAABHNCSVQICAgIfAhkiAAAAAlwSFlzAAALEgAACxIB0t1+/AAAADh0RVh0U29mdHdhcmUAbWF0cGxvdGxpYiB2ZXJzaW9uMy4yLjIsIGh0dHA6Ly9tYXRwbG90bGliLm9yZy+WH4yJAAAD6klEQVR4nO3cP6iVdRzH8c9XnJqklKKhLhEUBUWDQdAkDQ0tCUIYiC1tUYMt0XANXIKWWqM/mFNE1BahEVFLkpQZkUHZoIMaBTUk6K/h3kFKJerc57l97+sFB+45z3A+h3vOm+c+B26NMQJAH5vmHgDAYgk7QDPCDtCMsAM0I+wAzQg7QDObr3Xwuq1bx5alpYmmzO/m03MvmNjGe8FzD2ANnT69sd7PZ86cOTfG2HalY9cM+5alpTx59OjarFqHlpfnXjCxjfeC5x7AGlreYO/n/fv3n7raMZdiAJoRdoBmhB2gGWEHaEbYAZoRdoBmhB2gGWEHaEbYAZoRdoBmhB2gGWEHaEbYAZoRdoBmhB2gGWEHaEbYAZoRdoBmhB2gGWEHaEbYAZoRdoBmhB2gGWEHaEbYAZoRdoBmhB2gGWEHaEbYAZoRdoBmhB2gGWEHaEbYAZoRdoBmhB2gGWEHaEbYAZoRdoBmhB2gGWEHaEbYAZoRdoBmhB2gGWEHaEbYAZoRdoBmhB2gGWEHaEbYAZoRdoBmhB2gGWEHaEbYAZoRdoBmhB2gGWEHaEbYAZoRdoBmaoxx9YNVZ5Ocmm4OAP/QrWOMbVc6cM2wA/D/41IMQDPCDtCMsAM0I+wAzQg7QDPCDhOoqqWq+nruHcyvqparat9aPoewAzSzrsNeVXuq6quq+rKqDs69Zy2tntF9W1VvVNV3VXWoqh6qqk+r6mRV3T/3xkWpqheq6pnL7h+oqqfn3DSlqrqtqo5V1fa5t7A4f+3V6mf6yOpjh6vqlqm2rNuwV9XdSZ5PsmOMcW+SjfDBvz3JS0nuXL3tTvJgkn1Jnptx16K9lmRPklTVpiSPJXlr1kUTqao7kryTZO8Y4/O597AYV+nVK0neHGPck+RQkpen2rN5qif6F3YkeXuMcS5Jxhg/z7xnCj+MMY4nSVWdSHJ4jDGq6niSpVmXLdAY48eqOl9V9yW5McmxMcb5uXdNYFuS95LsHGN8M/cYFupvvaqqB5LsXD1+MMmLU41Zz2HfiP647OdLl92/lH6/q1eT7E1yU1bO4DeCX5P8lJW/woSdNbNuL8UkOZJkV1XdkCRVdf3Me1isd5M8nGR7kg9m3jKVC0keTbKnqnbPPYaFulKvPsvKZcYkeTzJJ1ONWbdngWOME1V1IMnHVXUxybGsnOHRwBjjQlV9lOSXMcbFufdMZYzxe1U9kuTDqvptjPH+3Jv4767Sq6eSvF5VzyY5m+SJqfb4747MYvVL0y+S7BpjnJx7D3Syni/F0FRV3ZXk+6x8OSzqsGDO2AGaccYO0IywAzQj7ADNCDtAM8IO0IywAzTzJ0xowiFPjNQmAAAAAElFTkSuQmCC\n"
                },
                "metadata": {
                  "needs_background": "light"
                }
              },
              {
                "output_type": "stream",
                "name": "stdout",
                "text": [
                  "c = 0.5, m = 0.5, y = 0.5, k = 0.0\n",
                  "RGB:\n"
                ]
              },
              {
                "output_type": "display_data",
                "data": {
                  "text/plain": "<Figure size 360x720 with 1 Axes>",
                  "image/png": "iVBORw0KGgoAAAANSUhEUgAAAXYAAABnCAYAAAAUo2nvAAAABHNCSVQICAgIfAhkiAAAAAlwSFlzAAALEgAACxIB0t1+/AAAADh0RVh0U29mdHdhcmUAbWF0cGxvdGxpYiB2ZXJzaW9uMy4yLjIsIGh0dHA6Ly9tYXRwbG90bGliLm9yZy+WH4yJAAAD0ElEQVR4nO3cv6vVdRzH8dc7HEQcpHAoyFoiSsjBGqQmt6CmCKIgaHEooqW2guvQP1BQ0FCUWUMt1ZxQaQRJkVnhKIGXUIJ+QUt8GjxEhF4azM/5vns8psP9DOd1vxyefDnn3lNjjADQxzWzBwBwZQk7QDPCDtCMsAM0I+wAzQg7QDPbtjrcUTV2Xa0lC7R5/ewFa84F2tL+/TfMnrDWzp07N3vCWtvc3Lwwxth9qbMtw74ryaH/ZFIPh12crblAWzp5cmP2hLW2sbExe8JaO3z48NnLnXkrBqAZYQdoRtgBmhF2gGaEHaAZYQdoRtgBmhF2gGaEHaAZYQdoRtgBmhF2gGaEHaAZYQdoRtgBmhF2gGaEHaAZYQdoRtgBmhF2gGaEHaAZYQdoRtgBmhF2gGaEHaAZYQdoRtgBmhF2gGaEHaAZYQdoRtgBmhF2gGaEHaAZYQdoRtgBmhF2gGaEHaAZYQdoRtgBmhF2gGaEHaAZYQdoRtgBmhF2gGaEHaAZYQdoRtgBmhF2gGaEHaAZYQdoRtgBmhF2gGaEHaAZYQdoRtgBmhF2gGaEHaAZYQdoRtgBmhF2gGaEHaAZYQdoRtgBmhF2gGaEHaAZYQdoRtgBmhF2gGaEHaAZYQdopsYYlz+sOp/k7NWbA8C/dNMYY/elDrYMOwDL460YgGaEHaAZYQdoRtgBmhF2gGaEnf+Vqrq5qk7P3kF/VbVRVU/PeO5Fh70uWvTvAHClLS6KqzuuM1X1RpLTSW6cvWndVNVzq2t0vKrennXXsMa2VdXRqvquqt6tqh2zB7EcVfVoVZ2qqq+q6siqScdWP/uwqvbM3ri4sK/ckuSlMcbeMYb/jP2bqroryQNJ9iW5N8mdcxetpVtz8fVzW5Kfkzw+eQ8LUVV7kzyb5OAYY1+Sp5K8mOT1McYdSY4meWHixCTLDfvZMcZns0esqbuTvDfG+H2M8UuSD2YPWkPfjzFOrB6/meSemWNYlINJ3hljXEiSMcaPSQ4keWt1fiRr8Hpaath/mz2ARfvn92j4Xg1aWWrYubwTSe6vqu1VtTPJfbMHraE9VXVg9fjhJMdnjmFRjiV5sKquS5KqujbJp0keWp0/kuSTSdv+sm32AK6sMcbnVfV+klNJfkjydZKf5q5aO2eSPFFVryb5NsnLk/ewEGOMb6rq+SQfVdUfSb5M8mSS16rqmSTnkzw2c2Pi2x1bqqqdY4xfV3/t8XGSQ2OML2bvAq4Od+w9vVJVtyfZnouf1os6/I+4YwdoxoenAM0IO0Azwg7QjLADNCPsAM0IO0AzfwKegJyHbm4bKgAAAABJRU5ErkJggg==\n"
                },
                "metadata": {
                  "needs_background": "light"
                }
              },
              {
                "output_type": "stream",
                "name": "stdout",
                "text": [
                  "r = 0.5, g = 0.5, b = 0.5\n"
                ]
              }
            ]
          }
        },
        "0d993219b6a0402bb8f9e949349dfac1": {
          "model_module": "@jupyter-widgets/base",
          "model_name": "LayoutModel",
          "model_module_version": "1.2.0",
          "state": {
            "_model_module": "@jupyter-widgets/base",
            "_model_module_version": "1.2.0",
            "_model_name": "LayoutModel",
            "_view_count": null,
            "_view_module": "@jupyter-widgets/base",
            "_view_module_version": "1.2.0",
            "_view_name": "LayoutView",
            "align_content": null,
            "align_items": null,
            "align_self": null,
            "border": null,
            "bottom": null,
            "display": null,
            "flex": null,
            "flex_flow": null,
            "grid_area": null,
            "grid_auto_columns": null,
            "grid_auto_flow": null,
            "grid_auto_rows": null,
            "grid_column": null,
            "grid_gap": null,
            "grid_row": null,
            "grid_template_areas": null,
            "grid_template_columns": null,
            "grid_template_rows": null,
            "height": null,
            "justify_content": null,
            "justify_items": null,
            "left": null,
            "margin": null,
            "max_height": null,
            "max_width": null,
            "min_height": null,
            "min_width": null,
            "object_fit": null,
            "object_position": null,
            "order": null,
            "overflow": null,
            "overflow_x": null,
            "overflow_y": null,
            "padding": null,
            "right": null,
            "top": null,
            "visibility": null,
            "width": null
          }
        },
        "a74552f982554be6ad9d0d00bca540d4": {
          "model_module": "@jupyter-widgets/base",
          "model_name": "LayoutModel",
          "model_module_version": "1.2.0",
          "state": {
            "_model_module": "@jupyter-widgets/base",
            "_model_module_version": "1.2.0",
            "_model_name": "LayoutModel",
            "_view_count": null,
            "_view_module": "@jupyter-widgets/base",
            "_view_module_version": "1.2.0",
            "_view_name": "LayoutView",
            "align_content": null,
            "align_items": null,
            "align_self": null,
            "border": null,
            "bottom": null,
            "display": null,
            "flex": null,
            "flex_flow": null,
            "grid_area": null,
            "grid_auto_columns": null,
            "grid_auto_flow": null,
            "grid_auto_rows": null,
            "grid_column": null,
            "grid_gap": null,
            "grid_row": null,
            "grid_template_areas": null,
            "grid_template_columns": null,
            "grid_template_rows": null,
            "height": null,
            "justify_content": null,
            "justify_items": null,
            "left": null,
            "margin": null,
            "max_height": null,
            "max_width": null,
            "min_height": null,
            "min_width": null,
            "object_fit": null,
            "object_position": null,
            "order": null,
            "overflow": null,
            "overflow_x": null,
            "overflow_y": null,
            "padding": null,
            "right": null,
            "top": null,
            "visibility": null,
            "width": null
          }
        },
        "15da8193e80e43abb40b46a3509f5d7d": {
          "model_module": "@jupyter-widgets/controls",
          "model_name": "SliderStyleModel",
          "model_module_version": "1.5.0",
          "state": {
            "_model_module": "@jupyter-widgets/controls",
            "_model_module_version": "1.5.0",
            "_model_name": "SliderStyleModel",
            "_view_count": null,
            "_view_module": "@jupyter-widgets/base",
            "_view_module_version": "1.2.0",
            "_view_name": "StyleView",
            "description_width": "",
            "handle_color": null
          }
        },
        "25c34fc7abc040aca1f433928b273e01": {
          "model_module": "@jupyter-widgets/base",
          "model_name": "LayoutModel",
          "model_module_version": "1.2.0",
          "state": {
            "_model_module": "@jupyter-widgets/base",
            "_model_module_version": "1.2.0",
            "_model_name": "LayoutModel",
            "_view_count": null,
            "_view_module": "@jupyter-widgets/base",
            "_view_module_version": "1.2.0",
            "_view_name": "LayoutView",
            "align_content": null,
            "align_items": null,
            "align_self": null,
            "border": null,
            "bottom": null,
            "display": null,
            "flex": null,
            "flex_flow": null,
            "grid_area": null,
            "grid_auto_columns": null,
            "grid_auto_flow": null,
            "grid_auto_rows": null,
            "grid_column": null,
            "grid_gap": null,
            "grid_row": null,
            "grid_template_areas": null,
            "grid_template_columns": null,
            "grid_template_rows": null,
            "height": null,
            "justify_content": null,
            "justify_items": null,
            "left": null,
            "margin": null,
            "max_height": null,
            "max_width": null,
            "min_height": null,
            "min_width": null,
            "object_fit": null,
            "object_position": null,
            "order": null,
            "overflow": null,
            "overflow_x": null,
            "overflow_y": null,
            "padding": null,
            "right": null,
            "top": null,
            "visibility": null,
            "width": null
          }
        },
        "466608f73dfd467b92aecfaa8cf47b04": {
          "model_module": "@jupyter-widgets/controls",
          "model_name": "SliderStyleModel",
          "model_module_version": "1.5.0",
          "state": {
            "_model_module": "@jupyter-widgets/controls",
            "_model_module_version": "1.5.0",
            "_model_name": "SliderStyleModel",
            "_view_count": null,
            "_view_module": "@jupyter-widgets/base",
            "_view_module_version": "1.2.0",
            "_view_name": "StyleView",
            "description_width": "",
            "handle_color": null
          }
        },
        "766bb4598b1f47afb3f7d0b108abc600": {
          "model_module": "@jupyter-widgets/base",
          "model_name": "LayoutModel",
          "model_module_version": "1.2.0",
          "state": {
            "_model_module": "@jupyter-widgets/base",
            "_model_module_version": "1.2.0",
            "_model_name": "LayoutModel",
            "_view_count": null,
            "_view_module": "@jupyter-widgets/base",
            "_view_module_version": "1.2.0",
            "_view_name": "LayoutView",
            "align_content": null,
            "align_items": null,
            "align_self": null,
            "border": null,
            "bottom": null,
            "display": null,
            "flex": null,
            "flex_flow": null,
            "grid_area": null,
            "grid_auto_columns": null,
            "grid_auto_flow": null,
            "grid_auto_rows": null,
            "grid_column": null,
            "grid_gap": null,
            "grid_row": null,
            "grid_template_areas": null,
            "grid_template_columns": null,
            "grid_template_rows": null,
            "height": null,
            "justify_content": null,
            "justify_items": null,
            "left": null,
            "margin": null,
            "max_height": null,
            "max_width": null,
            "min_height": null,
            "min_width": null,
            "object_fit": null,
            "object_position": null,
            "order": null,
            "overflow": null,
            "overflow_x": null,
            "overflow_y": null,
            "padding": null,
            "right": null,
            "top": null,
            "visibility": null,
            "width": null
          }
        },
        "d063e9b07a2a4d9192b8052ecaa18236": {
          "model_module": "@jupyter-widgets/controls",
          "model_name": "SliderStyleModel",
          "model_module_version": "1.5.0",
          "state": {
            "_model_module": "@jupyter-widgets/controls",
            "_model_module_version": "1.5.0",
            "_model_name": "SliderStyleModel",
            "_view_count": null,
            "_view_module": "@jupyter-widgets/base",
            "_view_module_version": "1.2.0",
            "_view_name": "StyleView",
            "description_width": "",
            "handle_color": null
          }
        },
        "270925fbad024e4986b44967121680fc": {
          "model_module": "@jupyter-widgets/base",
          "model_name": "LayoutModel",
          "model_module_version": "1.2.0",
          "state": {
            "_model_module": "@jupyter-widgets/base",
            "_model_module_version": "1.2.0",
            "_model_name": "LayoutModel",
            "_view_count": null,
            "_view_module": "@jupyter-widgets/base",
            "_view_module_version": "1.2.0",
            "_view_name": "LayoutView",
            "align_content": null,
            "align_items": null,
            "align_self": null,
            "border": null,
            "bottom": null,
            "display": null,
            "flex": null,
            "flex_flow": null,
            "grid_area": null,
            "grid_auto_columns": null,
            "grid_auto_flow": null,
            "grid_auto_rows": null,
            "grid_column": null,
            "grid_gap": null,
            "grid_row": null,
            "grid_template_areas": null,
            "grid_template_columns": null,
            "grid_template_rows": null,
            "height": null,
            "justify_content": null,
            "justify_items": null,
            "left": null,
            "margin": null,
            "max_height": null,
            "max_width": null,
            "min_height": null,
            "min_width": null,
            "object_fit": null,
            "object_position": null,
            "order": null,
            "overflow": null,
            "overflow_x": null,
            "overflow_y": null,
            "padding": null,
            "right": null,
            "top": null,
            "visibility": null,
            "width": null
          }
        },
        "0d4a8f4679b5488b98d4a9c786ff5d03": {
          "model_module": "@jupyter-widgets/controls",
          "model_name": "SliderStyleModel",
          "model_module_version": "1.5.0",
          "state": {
            "_model_module": "@jupyter-widgets/controls",
            "_model_module_version": "1.5.0",
            "_model_name": "SliderStyleModel",
            "_view_count": null,
            "_view_module": "@jupyter-widgets/base",
            "_view_module_version": "1.2.0",
            "_view_name": "StyleView",
            "description_width": "",
            "handle_color": null
          }
        },
        "6433c49d52294fa2bdedb9917982de22": {
          "model_module": "@jupyter-widgets/base",
          "model_name": "LayoutModel",
          "model_module_version": "1.2.0",
          "state": {
            "_model_module": "@jupyter-widgets/base",
            "_model_module_version": "1.2.0",
            "_model_name": "LayoutModel",
            "_view_count": null,
            "_view_module": "@jupyter-widgets/base",
            "_view_module_version": "1.2.0",
            "_view_name": "LayoutView",
            "align_content": null,
            "align_items": null,
            "align_self": null,
            "border": null,
            "bottom": null,
            "display": null,
            "flex": null,
            "flex_flow": null,
            "grid_area": null,
            "grid_auto_columns": null,
            "grid_auto_flow": null,
            "grid_auto_rows": null,
            "grid_column": null,
            "grid_gap": null,
            "grid_row": null,
            "grid_template_areas": null,
            "grid_template_columns": null,
            "grid_template_rows": null,
            "height": null,
            "justify_content": null,
            "justify_items": null,
            "left": null,
            "margin": null,
            "max_height": null,
            "max_width": null,
            "min_height": null,
            "min_width": null,
            "object_fit": null,
            "object_position": null,
            "order": null,
            "overflow": null,
            "overflow_x": null,
            "overflow_y": null,
            "padding": null,
            "right": null,
            "top": null,
            "visibility": null,
            "width": null
          }
        },
        "8e7f99a88cea40b0a750522207cb3d1d": {
          "model_module": "@jupyter-widgets/controls",
          "model_name": "VBoxModel",
          "model_module_version": "1.5.0",
          "state": {
            "_dom_classes": [
              "widget-interact"
            ],
            "_model_module": "@jupyter-widgets/controls",
            "_model_module_version": "1.5.0",
            "_model_name": "VBoxModel",
            "_view_count": null,
            "_view_module": "@jupyter-widgets/controls",
            "_view_module_version": "1.5.0",
            "_view_name": "VBoxView",
            "box_style": "",
            "children": [
              "IPY_MODEL_2c5e823e115e4ebda154be3a5daa3b75",
              "IPY_MODEL_7a323d103737467d80094cb1512bd931"
            ],
            "layout": "IPY_MODEL_6bf08a119f354ed3a51f6c9907d2aa21"
          }
        },
        "2c5e823e115e4ebda154be3a5daa3b75": {
          "model_module": "@jupyter-widgets/controls",
          "model_name": "IntSliderModel",
          "model_module_version": "1.5.0",
          "state": {
            "_dom_classes": [],
            "_model_module": "@jupyter-widgets/controls",
            "_model_module_version": "1.5.0",
            "_model_name": "IntSliderModel",
            "_view_count": null,
            "_view_module": "@jupyter-widgets/controls",
            "_view_module_version": "1.5.0",
            "_view_name": "IntSliderView",
            "continuous_update": true,
            "description": "n",
            "description_tooltip": null,
            "disabled": false,
            "layout": "IPY_MODEL_83f89965b1a941fea66199b8d5cd8a08",
            "max": 1000,
            "min": 0,
            "orientation": "horizontal",
            "readout": true,
            "readout_format": "d",
            "step": 1,
            "style": "IPY_MODEL_f476c21c817d4a65b2f552bc9a82a0a0",
            "value": 500
          }
        },
        "7a323d103737467d80094cb1512bd931": {
          "model_module": "@jupyter-widgets/output",
          "model_name": "OutputModel",
          "model_module_version": "1.0.0",
          "state": {
            "_dom_classes": [],
            "_model_module": "@jupyter-widgets/output",
            "_model_module_version": "1.0.0",
            "_model_name": "OutputModel",
            "_view_count": null,
            "_view_module": "@jupyter-widgets/output",
            "_view_module_version": "1.0.0",
            "_view_name": "OutputView",
            "layout": "IPY_MODEL_7ad6439cd2814aa9982772dbcda472b0",
            "msg_id": "",
            "outputs": [
              {
                "output_type": "display_data",
                "data": {
                  "text/plain": "<Figure size 360x720 with 1 Axes>",
                  "image/png": "iVBORw0KGgoAAAANSUhEUgAAAXYAAABnCAYAAAAUo2nvAAAABHNCSVQICAgIfAhkiAAAAAlwSFlzAAALEgAACxIB0t1+/AAAADh0RVh0U29mdHdhcmUAbWF0cGxvdGxpYiB2ZXJzaW9uMy4yLjIsIGh0dHA6Ly9tYXRwbG90bGliLm9yZy+WH4yJAAAD0klEQVR4nO3cT6ilcxzH8c93miTNiiZKho3EFAssxGp2ipWUKGVjQbJhQZQN9hRlQYxhwQZryt+UhoxBs5xQRMq/UtLXYk6SxmQxPM/5zuu1Ot3frfu5t9O7p3POfaq7A8AcO5YeAMDJJewAwwg7wDDCDjCMsAMMI+wAw+w80eGOqj7hN5ziflt6wOqdu/SAVbv88nOWnrBqhw5+vfSEVfstX33X3buPd1Yn+hz7aVV99n82a/t9WUsvWLl+ZOkFq9Z939ITVu28HY8uPWHVvuz7D3b3Fcc781IMwDDCDjCMsAMMI+wAwwg7wDDCDjCMsAMMI+wAwwg7wDDCDjCMsAMMI+wAwwg7wDDCDjCMsAMMI+wAwwg7wDDCDjCMsAMMI+wAwwg7wDDCDjCMsAMMI+wAwwg7wDDCDjCMsAMMI+wAwwg7wDDCDjCMsAMMI+wAwwg7wDDCDjCMsAMMI+wAwwg7wDDCDjCMsAMMI+wAwwg7wDDCDjCMsAMMI+wAwwg7wDDCDjCMsAMMI+wAwwg7wDDCDjCMsAMMI+wAwwg7wDDCDjCMsAMMI+wAwwg7wDDCDjCMsAMMI+wAwwg7wDDCDjCMsAMMI+wAwwg7wDDCDjCMsAMMI+wAwwg7wDDCDjBMdfc/H1Z9m+To/zcHgH/p/O7efbyDE4YdgO3jpRiAYYQdYBhhBxhG2AGGEXaAYYSdU0pVXVBVh5fewXxV9VBV3bPEz97qsNcxW/07AJxsWxfFzRXXkap6LsnhJOctvWltqurBzd/onap6camrhhXbWVUHqurzqnq5qs5YehDbo6purapDVfVxVe3fNOmNzdder6o9S2/curBvXJjkie7e293+M/YvqurKJDckuSzJtUmuWHbRKl2UY8+fi5P8mOSOhfewJapqb5IHkuzr7suS3J3k8STPdvelSQ4keWzBiUm2N+xHu/v9pUes1NVJXunuX7v7pySvLT1ohb7o7nc3j59Pcs2SY9gq+5K81N3fJUl3f5/kqiQvbM73ZwXPp20N+y9LD2Cr/f0+Gu6rwSjbGnb+2btJrq+q06tqV5Lrlh60Qnuq6qrN45uTvLPkGLbKG0lurKqzkqSqzkzyXpKbNue3JHl7oW1/2rn0AE6u7v6gql5NcijJN0k+SfLDsqtW50iSO6vq6SSfJXly4T1sie7+tKoeTvJmVf2e5KMkdyV5pqruTfJtktuW3Ji4u+NIVbWru3/efNrjrSS3d/eHS+8C/h+u2Gd6qqouSXJ6jr1bL+pwCnHFDjCMN08BhhF2gGGEHWAYYQcYRtgBhhF2gGH+AOeVokGXFiheAAAAAElFTkSuQmCC\n"
                },
                "metadata": {
                  "needs_background": "light"
                }
              },
              {
                "output_type": "stream",
                "name": "stdout",
                "text": [
                  "r = 0.11, g = 0.0061, b = 0.53\n"
                ]
              },
              {
                "output_type": "display_data",
                "data": {
                  "text/plain": "<Figure size 360x720 with 1 Axes>",
                  "image/png": "iVBORw0KGgoAAAANSUhEUgAAAXYAAABbCAYAAABnG645AAAABHNCSVQICAgIfAhkiAAAAAlwSFlzAAALEgAACxIB0t1+/AAAADh0RVh0U29mdHdhcmUAbWF0cGxvdGxpYiB2ZXJzaW9uMy4yLjIsIGh0dHA6Ly9tYXRwbG90bGliLm9yZy+WH4yJAAAEAklEQVR4nO3cP6iVdRzH8c9XHJtSSYjqEkFRUDQUBE3R0NCSIISB2BpEDUZoDRGIELTUGv3BnCKitgiNiFr6I2VGZFBGgmBGQQ0Z+mu4d5BSiTo+z+17Xy+4cM99hvOBw3nzu8+BU2OMANDHurkHALBYwg7QjLADNCPsAM0IO0Azwg7QzPqLXbxs48axYWlpoinz23R87gUTu3LuAdM6ceLE3BMmtXnz5rknTOrzT9bW6/tHjv84xth0vmsXDfuGpaU8/vHHl2bVKvTQE3MvmNieuQdMa+/evXNPmNSuXbvmnjCpq9atrdf3h7H72IWuuRUD0IywAzQj7ADNCDtAM8IO0IywAzQj7ADNCDtAM8IO0IywAzQj7ADNCDtAM8IO0IywAzQj7ADNCDtAM8IO0IywAzQj7ADNCDtAM8IO0IywAzQj7ADNCDtAM8IO0IywAzQj7ADNCDtAM8IO0IywAzQj7ADNCDtAM8IO0IywAzQj7ADNCDtAM8IO0IywAzQj7ADNCDtAM8IO0IywAzQj7ADNCDtAM8IO0IywAzQj7ADNCDtAM8IO0IywAzQj7ADNCDtAM8IO0IywAzQj7ADNCDtAM8IO0IywAzRTY4wLX6w6meTYdHMA+IeuGWNsOt+Fi4YdgP8ft2IAmhF2gGaEHaAZYQdoRtgBmhF2mEBVLVXVF3PvYH5V9VRV7byUzyHsAM2s6rBX1faq+ryqPquqfXPvuZRWTnRfVdXLVfV1Ve2vqrur6oOqOlpVt8+9cVGq6umqevScx3uq6pE5N02pqq6tqkNVddvcW1icv/Zq5T19cOVvB6rq6qm2rNqwV9VNSZ5MctcY45Yka+GNf12SZ5PcsPKzLcmdSXYm2T3jrkV7Mcn2JKmqdUnuT/LqrIsmUlXXJ3k9yY4xxkdz72ExLtCr55O8Msa4Ocn+JM9NtWf9VE/0L9yV5LUxxo9JMsb4aeY9U/h2jHE4SarqSJIDY4xRVYeTLM26bIHGGN9V1amqujXJFUkOjTFOzb1rApuSvJlkyxjjy7nHsFB/61VV3ZFky8r1fUmemWrMag77WvT7Ob+fPefx2fR7rV5IsiPJ5iyf4NeCX5J8n+X/woSdS2bV3opJcjDJ1qrakCRVdfnMe1isN5Lck+S2JG/PvGUqp5Pcl2R7VW2bewwLdb5efZjl24xJ8kCS96cas2pPgWOMI1W1J8l7VXUmyaEsn/BoYIxxuqreTfLzGOPM3HumMsb4raruTfJOVf06xnhr7k38dxfo1cNJXqqqx5KcTPLgVHt8uyOzWPnQ9NMkW8cYR+feA52s5lsxNFVVNyb5JssfDos6LJgTO0AzTuwAzQg7QDPCDtCMsAM0I+wAzQg7QDN/AgATxR8C5TBkAAAAAElFTkSuQmCC\n"
                },
                "metadata": {
                  "needs_background": "light"
                }
              },
              {
                "output_type": "stream",
                "name": "stdout",
                "text": [
                  "c = 0.42, m = 0.52, y = 0.0, k = 0.47\n"
                ]
              }
            ]
          }
        },
        "6bf08a119f354ed3a51f6c9907d2aa21": {
          "model_module": "@jupyter-widgets/base",
          "model_name": "LayoutModel",
          "model_module_version": "1.2.0",
          "state": {
            "_model_module": "@jupyter-widgets/base",
            "_model_module_version": "1.2.0",
            "_model_name": "LayoutModel",
            "_view_count": null,
            "_view_module": "@jupyter-widgets/base",
            "_view_module_version": "1.2.0",
            "_view_name": "LayoutView",
            "align_content": null,
            "align_items": null,
            "align_self": null,
            "border": null,
            "bottom": null,
            "display": null,
            "flex": null,
            "flex_flow": null,
            "grid_area": null,
            "grid_auto_columns": null,
            "grid_auto_flow": null,
            "grid_auto_rows": null,
            "grid_column": null,
            "grid_gap": null,
            "grid_row": null,
            "grid_template_areas": null,
            "grid_template_columns": null,
            "grid_template_rows": null,
            "height": null,
            "justify_content": null,
            "justify_items": null,
            "left": null,
            "margin": null,
            "max_height": null,
            "max_width": null,
            "min_height": null,
            "min_width": null,
            "object_fit": null,
            "object_position": null,
            "order": null,
            "overflow": null,
            "overflow_x": null,
            "overflow_y": null,
            "padding": null,
            "right": null,
            "top": null,
            "visibility": null,
            "width": null
          }
        },
        "83f89965b1a941fea66199b8d5cd8a08": {
          "model_module": "@jupyter-widgets/base",
          "model_name": "LayoutModel",
          "model_module_version": "1.2.0",
          "state": {
            "_model_module": "@jupyter-widgets/base",
            "_model_module_version": "1.2.0",
            "_model_name": "LayoutModel",
            "_view_count": null,
            "_view_module": "@jupyter-widgets/base",
            "_view_module_version": "1.2.0",
            "_view_name": "LayoutView",
            "align_content": null,
            "align_items": null,
            "align_self": null,
            "border": null,
            "bottom": null,
            "display": null,
            "flex": null,
            "flex_flow": null,
            "grid_area": null,
            "grid_auto_columns": null,
            "grid_auto_flow": null,
            "grid_auto_rows": null,
            "grid_column": null,
            "grid_gap": null,
            "grid_row": null,
            "grid_template_areas": null,
            "grid_template_columns": null,
            "grid_template_rows": null,
            "height": null,
            "justify_content": null,
            "justify_items": null,
            "left": null,
            "margin": null,
            "max_height": null,
            "max_width": null,
            "min_height": null,
            "min_width": null,
            "object_fit": null,
            "object_position": null,
            "order": null,
            "overflow": null,
            "overflow_x": null,
            "overflow_y": null,
            "padding": null,
            "right": null,
            "top": null,
            "visibility": null,
            "width": null
          }
        },
        "f476c21c817d4a65b2f552bc9a82a0a0": {
          "model_module": "@jupyter-widgets/controls",
          "model_name": "SliderStyleModel",
          "model_module_version": "1.5.0",
          "state": {
            "_model_module": "@jupyter-widgets/controls",
            "_model_module_version": "1.5.0",
            "_model_name": "SliderStyleModel",
            "_view_count": null,
            "_view_module": "@jupyter-widgets/base",
            "_view_module_version": "1.2.0",
            "_view_name": "StyleView",
            "description_width": "",
            "handle_color": null
          }
        },
        "7ad6439cd2814aa9982772dbcda472b0": {
          "model_module": "@jupyter-widgets/base",
          "model_name": "LayoutModel",
          "model_module_version": "1.2.0",
          "state": {
            "_model_module": "@jupyter-widgets/base",
            "_model_module_version": "1.2.0",
            "_model_name": "LayoutModel",
            "_view_count": null,
            "_view_module": "@jupyter-widgets/base",
            "_view_module_version": "1.2.0",
            "_view_name": "LayoutView",
            "align_content": null,
            "align_items": null,
            "align_self": null,
            "border": null,
            "bottom": null,
            "display": null,
            "flex": null,
            "flex_flow": null,
            "grid_area": null,
            "grid_auto_columns": null,
            "grid_auto_flow": null,
            "grid_auto_rows": null,
            "grid_column": null,
            "grid_gap": null,
            "grid_row": null,
            "grid_template_areas": null,
            "grid_template_columns": null,
            "grid_template_rows": null,
            "height": null,
            "justify_content": null,
            "justify_items": null,
            "left": null,
            "margin": null,
            "max_height": null,
            "max_width": null,
            "min_height": null,
            "min_width": null,
            "object_fit": null,
            "object_position": null,
            "order": null,
            "overflow": null,
            "overflow_x": null,
            "overflow_y": null,
            "padding": null,
            "right": null,
            "top": null,
            "visibility": null,
            "width": null
          }
        }
      }
    }
  },
  "nbformat": 4,
  "nbformat_minor": 5
}