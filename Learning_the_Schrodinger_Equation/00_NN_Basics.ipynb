{
  "cells": [
    {
      "cell_type": "markdown",
      "metadata": {
        "id": "view-in-github",
        "colab_type": "text"
      },
      "source": [
        "<a href=\"https://colab.research.google.com/github/GDS-Education-Community-of-Practice/DSECOP/blob/main/Learning_the_Schrodinger_Equation/00_NN_Basics.ipynb\" target=\"_parent\"><img src=\"https://colab.research.google.com/assets/colab-badge.svg\" alt=\"Open In Colab\"/></a>"
      ]
    },
    {
      "cell_type": "markdown",
      "id": "c3fa8fcd",
      "metadata": {
        "id": "c3fa8fcd"
      },
      "source": [
        "# Neural Networks, Plumbing and Colours\n",
        "\n",
        "Notebook for DSECOP Module 1\n",
        "\n",
        "Author: Karan Shah"
      ]
    },
    {
      "cell_type": "markdown",
      "id": "55a51fdd",
      "metadata": {
        "id": "55a51fdd"
      },
      "source": [
        "In this notebook, we learn about the basics of neural networks and train our network to convert colours."
      ]
    },
    {
      "cell_type": "code",
      "execution_count": 1,
      "id": "b38ff75d-cb0e-4fa2-a948-627567c38cff",
      "metadata": {
        "colab": {
          "base_uri": "https://localhost:8080/"
        },
        "id": "b38ff75d-cb0e-4fa2-a948-627567c38cff",
        "outputId": "c032f63f-406b-4aa0-af82-affd0fdd6018"
      },
      "outputs": [
        {
          "output_type": "stream",
          "name": "stdout",
          "text": [
            "Colab detected. (Re)Loading helper files\n"
          ]
        }
      ],
      "source": [
        "# Get res dir and helper files\n",
        "import os\n",
        "try:\n",
        "    import google.colab\n",
        "    IN_COLAB = True\n",
        "except:\n",
        "    IN_COLAB = False\n",
        "\n",
        "if IN_COLAB:\n",
        "    print(\"Colab detected. (Re)Loading helper files\")\n",
        "    os.system(\"rm -rf res\")\n",
        "    os.system(\"rm -f res.tar.gz\")\n",
        "    os.system(\"wget https://github.com/GDS-Education-Community-of-Practice/DSECOP/blob/main/Learning_the_Schrodinger_Equation/res.tar.gz?raw=true\")\n",
        "    os.system(\"mv res.tar.gz?raw=true res.tar.gz\")\n",
        "    os.system(\"tar -xzf res.tar.gz\")"
      ]
    },
    {
      "cell_type": "code",
      "execution_count": 2,
      "id": "572549f1",
      "metadata": {
        "id": "572549f1"
      },
      "outputs": [],
      "source": [
        "import numpy as np\n",
        "import matplotlib.pyplot as plt\n",
        "import copy\n",
        "\n",
        "import torch\n",
        "import torch.nn as nn\n",
        "import torch.nn.functional as F\n",
        "\n",
        "import torch.optim as optim\n",
        "\n",
        "from torch.utils.data import Dataset, DataLoader\n",
        "from torchvision import transforms, utils\n",
        "\n",
        "from ipywidgets import interact\n",
        "\n",
        "import sys\n",
        "sys.path.insert(1, './res')\n",
        "try:\n",
        "    from ml_helper import *\n",
        "except Exception as e:\n",
        "    print(e)\n",
        "    print(\"ERROR: It seems the ml_helper file is missing. If you are running this in google colab, please run the first cell block again. (Begins with comment: \\\"Get res dir and helper files\\'\")\n",
        "\n",
        "\n",
        "torch.set_default_tensor_type(torch.DoubleTensor)"
      ]
    },
    {
      "cell_type": "markdown",
      "id": "ae15d974",
      "metadata": {
        "id": "ae15d974"
      },
      "source": [
        "## So what is machine learning?"
      ]
    },
    {
      "cell_type": "markdown",
      "id": "71bd4565",
      "metadata": {
        "id": "71bd4565"
      },
      "source": [
        "Machine learning is a field of computer scince that deals with creating programs that can learn from experience tasks that are not explicitly hardcoded in them. For example, we can create a model that can learn to differentiate between a picture of a cat and a dog without explicit definition of what a cat or a dog is, just by repeteadly looking at pictures which have a correct label on them.\n",
        "\n",
        "> Machine learning is the study of computer algorithms that allow computer programs to automatically improve through experience.\n",
        "\n",
        "In this notebook, we will focus on a specific class of ML known as Deep Learning. Deep learning involves the use of models called neural networks. A neural network is loosely inspired by biological neurons in our brains. \n",
        "\n",
        "But first, let's take a brief detour into the world of digital colours:"
      ]
    },
    {
      "cell_type": "markdown",
      "id": "6b7eb9b2",
      "metadata": {
        "id": "6b7eb9b2"
      },
      "source": [
        "### RGB Colours\n",
        "\n",
        "Let's understand how computers represent colours. Each pixel on your screen is made of 3 sub-pixels: Red, Green and Blue. By changing the intensities of these sub-pixels, we can generate different colours. This way of representing coulours is called \"additive\". This is different from the colours that we use while painting, which is \"subtractive\". When dealing with paints and printing, with subtractive colours, the absence of any colour is white on a sheet of paper. When dealing with digital screens and light, with additive colours, the absence of any colour is black on a display.\n",
        "\n",
        "![res/fig/rgb-additive-subtractive-colors.jpeg](https://github.com/GDS-Education-Community-of-Practice/DSECOP/blob/main/Learning_the_Schrodinger_Equation/res/fig/rgb-additive-subtractive-colors.jpeg?raw=1)\n",
        "\n",
        "\n",
        "Let's play with the RGB colour scheme:\n",
        "For each colour sub-pixel, the intensity is represented as an integer value between 0 to 255. For convenience, we will represent that as a continuous value between 0.0 to 1.0.\n",
        "\n",
        "Each colour is represented as a list of subpixels.\n",
        "[r,g,b] where r is the value of Red subpixel, g is the value of Green subpixel and b is the value of Blue subpixel.\n",
        "\n",
        "\n",
        "Throughout this notebook, you can call the `viz_colour` function to display the r,g,b values and the resultant colours. The colour patch shows the r,g,b values in the first three squares and the resultant colour in the last square.\n",
        "For example, this is how you would represent pure red colour:\n"
      ]
    },
    {
      "cell_type": "code",
      "execution_count": null,
      "id": "36f9d9ac",
      "metadata": {
        "id": "36f9d9ac"
      },
      "outputs": [],
      "source": [
        "# represent colour as [r,g,b], call the function viz_colour to show the colour.\n",
        "red = [1.0,0,0]\n",
        "viz_colour_rgb(red)"
      ]
    },
    {
      "cell_type": "code",
      "execution_count": null,
      "id": "5d98f8ef",
      "metadata": {
        "id": "5d98f8ef"
      },
      "outputs": [],
      "source": [
        "# Exercise: fill the values and display blue and green colours\n",
        "blue = [,,] #fill here\n",
        "viz_colour_rgb(blue)\n",
        "\n",
        "green = [,,] #fill here\n",
        "viz_colour_rgb(green)"
      ]
    },
    {
      "cell_type": "markdown",
      "id": "d7bb62d2",
      "metadata": {
        "id": "d7bb62d2"
      },
      "source": [
        "We can change the rgb values to create new colours. Refer to figure 1. to see how colours can be mixed. For example, cyan can be made by setting b and g on and turning r off."
      ]
    },
    {
      "cell_type": "code",
      "execution_count": null,
      "id": "66da8b3d",
      "metadata": {
        "id": "66da8b3d"
      },
      "outputs": [],
      "source": [
        "# represent colour as [r,g,b], call the function viz_colour to show the colour.\n",
        "cyan = [0.0,1.0,1.0]\n",
        "viz_colour_rgb(cyan)"
      ]
    },
    {
      "cell_type": "code",
      "execution_count": null,
      "id": "b9984600",
      "metadata": {
        "id": "b9984600"
      },
      "outputs": [],
      "source": [
        "# Exercise: refer to figure 1 and fill the values and display yellow and pink colours\n",
        "yellow = [,,] #fill here\n",
        "viz_colour_rgb(yellow)\n",
        "\n",
        "pink = [,,] #fill here\n",
        "viz_colour_rgb(pink)\n"
      ]
    },
    {
      "cell_type": "markdown",
      "id": "2f087814",
      "metadata": {
        "id": "2f087814"
      },
      "source": [
        "The values of r,g,b can be any number between 0.0 and 1.0 and it represents the intensity of that sub-pixel. For example, compare bright red and dull red"
      ]
    },
    {
      "cell_type": "code",
      "execution_count": null,
      "id": "683b519b",
      "metadata": {
        "id": "683b519b"
      },
      "outputs": [],
      "source": [
        "red = [1.0,0.0,0.0]\n",
        "viz_colour_rgb(red)\n",
        "\n",
        "dull_red = [0.5,0.0,0.0]\n",
        "viz_colour_rgb(dull_red)\n",
        "\n"
      ]
    },
    {
      "cell_type": "code",
      "execution_count": null,
      "id": "934f3c27",
      "metadata": {
        "id": "934f3c27"
      },
      "outputs": [],
      "source": [
        "# Exercise: fill the values and display grey colour\n",
        "grey = [,,] #fill here\n",
        "viz_colour_rgb(grey)\n",
        "\n",
        "#black and white for comparison, don't change this \n",
        "black = [0.0,0.0,0.0]\n",
        "viz_colour_rgb(black)\n",
        "\n",
        "white = [1.0,1.0,1.0]\n",
        "viz_colour_rgb(white)"
      ]
    },
    {
      "cell_type": "markdown",
      "id": "91b26fee",
      "metadata": {
        "id": "91b26fee"
      },
      "source": [
        "You now know how computers represent and display colours! You can play with these sliders and create even more colours:"
      ]
    },
    {
      "cell_type": "code",
      "execution_count": null,
      "id": "707066bf",
      "metadata": {
        "id": "707066bf"
      },
      "outputs": [],
      "source": [
        "@interact(r=(0, 1.0),g=(0,1.0),b=(0,1.0))\n",
        "def interactive_viz_colour(r,g,b):\n",
        "    c=[r,g,b]\n",
        "    viz_colour_rgb(c)"
      ]
    },
    {
      "cell_type": "markdown",
      "id": "7016d99c",
      "metadata": {
        "id": "7016d99c"
      },
      "source": [
        "### Neural Networks"
      ]
    },
    {
      "cell_type": "markdown",
      "id": "e54d111b",
      "metadata": {
        "id": "e54d111b"
      },
      "source": [
        "We will construct our own neural network bit by bit. Let's begin with an analogy. Imagine we have water with different colours, and we want to add them together to make new colours. We do that by setting up a system of pipes but we do not know how to arrange these pipes. We will invent a robot plumber called PlumberBot who will keep trying different combinations of pipes. \n",
        "\n",
        "\n",
        "Lets start with the components of a deep learning pipeline:\n",
        "\n",
        "1. Set the pipes for the input and the output.\n",
        "2. Connect the input and output pipes randomly. At this point, the colours will mix incorrectly and we will get wrong results.\n",
        "3. Compare the colours from the output pipes and the true value that we want.\n",
        "4. Based on the difference of these colours, adjust the thickness of the pipes by a tiny bit.\n",
        "5. Repeat steps 3 and 4 till the difference between the predicted colours and the true colours is as low as we want.\n",
        "6. Now the machine learning pipeline is trained. We can use it to mix the colours very quickly.\n",
        "\n",
        "\n",
        "Let's look at the parts of this pipeline in detail:\n",
        "\n",
        "####  Inputs and outputs:\n",
        "The inputs and outputs represent our quantities of interest. In this notebook, we will represent the input with $x$ and the output with $y$. $x$ and $y$ are vectors. \n",
        "\n",
        "The relationship between $x$ and $y$ is\n",
        "$$ y = f(x) $$\n",
        "where $f$ is a function acting on $x$. We might not know the function $f$ explicitly, but given enough pairs of corresponding inputs and outputs, the neural network can approximate $f$.\n",
        "\n",
        "The dataset is the collection of all ($x$,$y$) pairs. We represent the $i$th element of the dataset with the subscript $i$. This means\n",
        "$$ y_i = f(x_i) $$\n",
        "\n",
        "Examples:\n",
        "For a network doing handwriting recognition, $x$ can be an image of written text and $y$ can be the text encoded in digital form.\n",
        "\n",
        "For a network doing text to speech, $x$ can be a sentence in text form and $y$ can be an audio file.\n",
        "\n",
        "For a network identifying animals, $x$ can be an image of an animal and $y$ the name of animal in text form.\n",
        "\n",
        "(In all cases, things such as images, audio, text etc are represented as numbers in computers, so $x$ and $y$ are still vectors)\n",
        "\n",
        "#### Neural Network:\n",
        "The neural network is the network of pipes connecting the input to the output. In most cases, we do not know the arrangement of the pipes beforehand. The colours flow through the input pipes, mix in various ways inside the network and flow out through output pipes.\n",
        "\n",
        "The smallest element of a neural network is called a Perceptron. The perceptron takes in an input vector, applies some mathematical operations to it and produces the output.\n",
        "\n",
        "Mathematically, this is defined as\n",
        "$$ y = wx + b $$\n",
        "$w$ consists of weights and $b$ is known as bias. \n",
        "Here $w$ is a vector too. For example, for $w = [w_1, w_2, w_3]$, \n",
        "$$ y = w_1 * x_1 + w_2 * x_2 + w_3 * x_3 $$\n",
        "![res/fig/perceptron.png](https://github.com/GDS-Education-Community-of-Practice/DSECOP/blob/main/Learning_the_Schrodinger_Equation/res/fig/perceptron.png?raw=1)\n",
        "\n",
        "\n",
        "We can think of $w$ as the thickness of pipes in our analogy. By changing the values of $w$, we control the flow of different colours from the input.\n",
        "\n",
        "Neural networks are made by combining the perceptrons and stacking them into layers, such that the output of the previous perceptron is the input of the next one.\n",
        "\n",
        "####  Predictions and ground truth:\n",
        "The prediction is simply the output of the neural network. In this notebook, we will use notation where $^$ denotes the true value. The neural network can be represented by $NN$. The output predicted value is represented by $y$ and the true known value $\n",
        "hat{y}$.\n",
        "\n",
        "$$ \\hat{y_i} = NN(x_i) $$\n",
        "\n",
        "####  Loss function:\n",
        "Our goal is to make the output of the pipes as close as possible to the true value of the colours that are formed by mixing the input. The loss function represents the difference between the predicted $y$ and true $\\hat{y}$. Ideally, the goal is to get $y = \\hat{y}$. One common way of measuring this is the mean squared error. For a single vector of size $m$, it is defined as:\n",
        "$$ L_i = \\sum_{j=1}^{m} (\\hat{v_j} - v_j)^2 $$, where $v_j$ are elements of $y$ and $\\hat{v_j}$ are elements of $\\hat{y}$.\n",
        "\n",
        "Let's implement this in code"
      ]
    },
    {
      "cell_type": "code",
      "execution_count": null,
      "id": "5f572664",
      "metadata": {
        "id": "5f572664"
      },
      "outputs": [],
      "source": [
        "# Exercise: Implement mse_loss for colours\n",
        "# Hint: For two numbers a and b, the mse_loss is of the form\n",
        "# loss = (a - b) ** 2\n",
        "# However, you are not dealing with single numbers but vectors of 3 numbers (like a = [0.3,0.1,0.5])\n",
        "# You can ith element of the vector a by using index a[i-1].\n",
        "# eg a[0] will return first element, a[1] will return second element and so on.\n",
        "\n",
        "def mse_loss_nb(y,y_hat):\n",
        "    loss = # fill here\n",
        "    return loss"
      ]
    },
    {
      "cell_type": "code",
      "execution_count": null,
      "id": "0547640f",
      "metadata": {
        "id": "0547640f"
      },
      "outputs": [],
      "source": [
        "y = np.array([1,1,1])\n",
        "y_hat = np.array([1,1,1])\n",
        "loss = mse_loss_nb(y,y_hat)\n",
        "print(f\"The loss is {loss}\")"
      ]
    },
    {
      "cell_type": "code",
      "execution_count": null,
      "id": "5043adf5",
      "metadata": {
        "id": "5043adf5"
      },
      "outputs": [],
      "source": [
        "y = np.array([1,1,1])\n",
        "y_hat = np.array([0.2,0.43,0.1])\n",
        "loss = mse_loss_nb(y,y_hat)\n",
        "print(f\"The loss is {loss}\")"
      ]
    },
    {
      "cell_type": "markdown",
      "id": "fdcd3482",
      "metadata": {
        "id": "fdcd3482"
      },
      "source": [
        "####  Backpropagation:\n",
        "How do we figure out the correct arrangement of pipes to get the desired output $y$ close to $\\hat{y}$? We instruct our robot plumber to minimize the value of $L$. It changes the thickness of network pipes a little bit, passes the input through the network and checks the value of $L$ for that case. Then it changes the thickness of the pipes again trying to lower the value of $L$. This procedure of changing weights is called backpropagation. \n",
        "\n",
        "Mathematically, this is calulated by the rate of change of $L$ with respect to $w$. The derivative calculates the rate of change of $L$ with respect to $w$, ie how much does $L$ change when we change $w$ by a small amount. You will learn more about this in your Calculus classes.\n",
        "$$ \\Delta w_i = - \\frac{\\partial L}{\\partial w_i} $$\n",
        "and then updating the $w_i$\n",
        "$$ w_i = w_i + \\Delta w_i $$\n",
        "\n",
        "$\\Delta w_i$ is a (tiny) quantity that measures how $L$ changes when we change $w_i$. \n",
        "\n",
        "By repeating this procedure for a large number of times, the $L$ is minimized to a value close to 0, ie our predictions match the true values we need.\n",
        "\n",
        "#### Training, testing and overfitting\n",
        "While working with neural networks, we split our dataset into training and test datasets. The training dataset is used to train the neural network for our task. Once trained, the pipelines are fixed and then we use the test dataset to measure how the network performs.\n",
        "\n",
        "This is important because we don't want our network to just memorize the specific data points in our dataset. Remember when you were learning multiplication in school? You could memorize the multiplication tables in words, like \"three times four equals twelve\" and \"seven times nine equals sixty three\". However, when you are taking a maths test and you face a multiplication problem you haven't memorized, like \"12\\*10=?\", then you wouldn't be able to solve it. If you understood how multiplication works, then you could just calculate \"12\\*10=120\".\n",
        "\n",
        "We want the neural network to understand the task, not just memorize. We can measure this by giving it a test after it has done studying (training). If the neural network has memorized too much, it will not score well on the test. This is called \"overfitting\".\n",
        "\n",
        "Luckily, we have our PlumberBot who can change the pipes very quickly! Let's give our PlumberBot it's first task.\n",
        "\n",
        "![res/fig/rp-1.png](https://github.com/GDS-Education-Community-of-Practice/DSECOP/blob/main/Learning_the_Schrodinger_Equation/res/fig/rp-1.png?raw=1)\n",
        "\n",
        "\n",
        "### Network 1: RGB to RGB\n",
        "\n",
        "The current exercise is trivial, the colors in the output of the pipes should be the same as the colours in the input of the pipes. There are three input pipes: red, green and blue, and there are three ouput pipes that will eject the same colours.\n",
        "\n",
        "Remember that when PlumberBot first sets up the pipes, the whole network is in a random order. That means there will be problems like the paint from red input pipe going to pipes in the green and blue outputs and so on. Our goal is to make PlumberBot figure out the correct arrangement of pipes without telling it the solution.\n",
        "\n",
        "While this is a simple exercise, it will illustrate important concepts about how neural networks work.\n",
        "\n",
        "First let's create the data set. We will create a training set of 1000 random colours. Fill in the next block:"
      ]
    },
    {
      "cell_type": "code",
      "execution_count": null,
      "id": "5ce532e3",
      "metadata": {
        "id": "5ce532e3"
      },
      "outputs": [],
      "source": [
        "# Exercise: Create 1000 colours. Each colour has 3 elements (r,g,b).\n",
        "# Example: To create a training set with size 500 and 4 elements each, you can use:\n",
        "# n_size = 500\n",
        "# n_elements = 4\n",
        "# training_set = np.random.rand(n_size, n_elements)\n",
        "n_size = #fill here\n",
        "n_elements = #fill here\n",
        "training_set = np.random.rand(n_size, n_elements)"
      ]
    },
    {
      "cell_type": "markdown",
      "id": "2f2218ee",
      "metadata": {
        "id": "2f2218ee"
      },
      "source": [
        "Now our training set consists of 1000 colours consisting of 3 elements (r,g,b) each. Some data points of the training set are:"
      ]
    },
    {
      "cell_type": "code",
      "execution_count": null,
      "id": "314fb95e",
      "metadata": {
        "id": "314fb95e"
      },
      "outputs": [],
      "source": [
        "print(training_set)"
      ]
    },
    {
      "cell_type": "markdown",
      "id": "814b3bdd",
      "metadata": {
        "id": "814b3bdd"
      },
      "source": [
        "What is the size of this dataset? You can use the np.shape function."
      ]
    },
    {
      "cell_type": "code",
      "execution_count": null,
      "id": "fa1ff84c",
      "metadata": {
        "id": "fa1ff84c"
      },
      "outputs": [],
      "source": [
        "# Exercise: Print size of training set\n",
        "# Hint: To get the size of an array a, use a.shape\n",
        "# Get size of array \"training_set\"\n",
        "training_set_size = #fill here\n",
        "print(training_set_size)"
      ]
    },
    {
      "cell_type": "markdown",
      "id": "f66bb7d1",
      "metadata": {
        "id": "f66bb7d1"
      },
      "source": [
        "Let's vizualize the first 3 elements of the training set. These will change everytime you run this notebook"
      ]
    },
    {
      "cell_type": "code",
      "execution_count": null,
      "id": "5aab7137",
      "metadata": {
        "id": "5aab7137"
      },
      "outputs": [],
      "source": [
        "for i in np.arange(3):\n",
        "    viz_colour_rgb(training_set[i])"
      ]
    },
    {
      "cell_type": "markdown",
      "id": "8cab8509",
      "metadata": {
        "id": "8cab8509"
      },
      "source": [
        "You can explore the whole training set with this widget. Move the slider to see different colour data points."
      ]
    },
    {
      "cell_type": "code",
      "execution_count": null,
      "id": "b1aa552a",
      "metadata": {
        "id": "b1aa552a"
      },
      "outputs": [],
      "source": [
        "@interact(n=(0,1000))\n",
        "def interactive_trainset_viz(n):\n",
        "    c = training_set[n]\n",
        "    viz_colour_rgb(c)\n",
        "    "
      ]
    },
    {
      "cell_type": "markdown",
      "id": "58a164fa",
      "metadata": {
        "id": "58a164fa"
      },
      "source": [
        "Let's set up the general structure of the neural network. We will create only one layer of pipes, joining each input pipe to each output pipe. This means that we created 3 perceptrons, each with 3 inputs (input r,g,b) and 1 output (r or g or b)."
      ]
    },
    {
      "cell_type": "code",
      "execution_count": null,
      "id": "9614cf73",
      "metadata": {
        "id": "9614cf73"
      },
      "outputs": [],
      "source": [
        "class PipeNet(nn.Module):\n",
        "    def __init__(self):\n",
        "        super().__init__()\n",
        "        \n",
        "        self.fc1 = nn.Linear(3, 3)\n",
        "        # (3,3) means 3 inputs, 3 outputs\n",
        "\n",
        "\n",
        "    def forward(self, x):\n",
        "        x = self.fc1(x)\n",
        "\n",
        "        return x\n",
        "\n",
        "\n",
        "net = PipeNet()\n",
        "untrained_net = copy.deepcopy(net)"
      ]
    },
    {
      "cell_type": "markdown",
      "id": "3abd57b0",
      "metadata": {
        "id": "3abd57b0"
      },
      "source": [
        "After running this, PlumberBot has set up random pipes between the input and the output. This means that the paints won't be mixed correctly. Let's try running our network now."
      ]
    },
    {
      "cell_type": "code",
      "execution_count": null,
      "id": "434fd1e3",
      "metadata": {
        "id": "434fd1e3"
      },
      "outputs": [],
      "source": [
        "inputs = torch.as_tensor([0.,0.,0.])\n",
        "pred = net(inputs).detach().numpy()\n",
        "viz_colour_predicted_rgb(inputs,pred)\n",
        "\n",
        "\n",
        "inputs = torch.as_tensor([0.5,0.5,0.5])\n",
        "pred = net(inputs).detach().numpy()\n",
        "viz_colour_predicted_rgb(inputs,pred)\n",
        "\n",
        "inputs = torch.as_tensor([0.0,0.5,0.5])\n",
        "pred = net(inputs).detach().numpy()\n",
        "viz_colour_predicted_rgb(inputs,pred)"
      ]
    },
    {
      "cell_type": "code",
      "execution_count": null,
      "id": "acd3b6df",
      "metadata": {
        "id": "acd3b6df"
      },
      "outputs": [],
      "source": [
        "# Exercise: Fill in col with a colour of your choice, in the form of [r,g,b]. \n",
        "# Then, use the neural network to generate the output for that colour.\n",
        "# Hint: You can pass the input colour as an argument to the net.\n",
        "# Like this: pred = net(colour)\n",
        "your_col = [,,] #Fill this\n",
        "your_col = torch.as_tensor(your_col)\n",
        "\n",
        "pred_col =  net(your_col)# Fill thus\n",
        "pred_col = pred_col.detach().numpy()\n",
        "\n",
        "viz_colour_predicted_rgb(your_col,pred_col)"
      ]
    },
    {
      "cell_type": "markdown",
      "id": "91ad00bd",
      "metadata": {
        "id": "91ad00bd"
      },
      "source": [
        "As you can see with the untrained network, the pipes are not connected properly. The output colours are very different from the input colours. Some of the output colours even have negative values, which does not make sense.\n",
        "\n",
        "Can we measure how different they are? Yes! Let's use the `mse_loss` function you implemented before:\n"
      ]
    },
    {
      "cell_type": "code",
      "execution_count": null,
      "id": "2001e766",
      "metadata": {
        "id": "2001e766"
      },
      "outputs": [],
      "source": [
        "# Exercise: Calculate the difference between the colour you provided and the neural network prediction.\n",
        "# Hint: You can use your mse_loss function.\n",
        "# mse_loss(a,b) gives the difference between a and b\n",
        "\n",
        "your_loss = mse_loss_nb(your_col, pred_col)\n",
        "print(f\"Loss is {your_loss}\")"
      ]
    },
    {
      "cell_type": "markdown",
      "id": "855f6f00",
      "metadata": {
        "id": "855f6f00"
      },
      "source": [
        "For the input colours to be equal to the output colours, the loss has to be 0. \n",
        "\n",
        "Let us now ask PlumberBot to train the pipe network."
      ]
    },
    {
      "cell_type": "markdown",
      "id": "96f73ce1",
      "metadata": {
        "id": "96f73ce1"
      },
      "source": [
        "First we set up the dataset to be in a form that PlumberBot can use:"
      ]
    },
    {
      "cell_type": "code",
      "execution_count": null,
      "id": "83d97874",
      "metadata": {
        "id": "83d97874"
      },
      "outputs": [],
      "source": [
        "trainset = ColourDataset(input_data=training_set, output_data=training_set)\n",
        "\n",
        "batch_size = 1\n",
        "trainloader = torch.utils.data.DataLoader(trainset, batch_size=batch_size,\n",
        "                                          shuffle=True, num_workers=0)"
      ]
    },
    {
      "cell_type": "markdown",
      "id": "f71af689",
      "metadata": {
        "id": "f71af689"
      },
      "source": [
        "Now we instruct PlumberBot on how to measure the difference between input and output. `nn.MSELoss()` does the same thing as the `mse_loss` function you wrote.\n",
        "\n",
        "The `optimizer` gives the PlumberBot additional information on how to change the pipes using backpropagation."
      ]
    },
    {
      "cell_type": "code",
      "execution_count": null,
      "id": "dacb2605",
      "metadata": {
        "id": "dacb2605"
      },
      "outputs": [],
      "source": [
        "criterion = nn.MSELoss()\n",
        "optimizer = optim.SGD(net.parameters(), lr=0.001, momentum=0.9)"
      ]
    },
    {
      "cell_type": "markdown",
      "id": "ae32d28c",
      "metadata": {
        "id": "ae32d28c"
      },
      "source": [
        "We now instruct PlumberBot to train the pipe network. PlumberBot will put input data into pipes, look at the outputs, measure the difference and adjust pipes. It will do it 5 times with all the colours we have in our dataset. \n",
        "\n",
        "After each time it goes through the dataset, we will print the loss and look at how the output for your colour looks at that point."
      ]
    },
    {
      "cell_type": "code",
      "execution_count": null,
      "id": "696f346e",
      "metadata": {
        "id": "696f346e"
      },
      "outputs": [],
      "source": [
        "for epoch in range(5):  \n",
        "\n",
        "    running_loss = 0.0\n",
        "    for i, data in enumerate(trainloader, 0):\n",
        "\n",
        "        inputs, labels = data\n",
        "\n",
        "        optimizer.zero_grad()\n",
        "\n",
        "        outputs = net(inputs)\n",
        "        loss = criterion(outputs, labels)\n",
        "        loss.backward()\n",
        "        optimizer.step()\n",
        "\n",
        "        # print statistics\n",
        "        running_loss += loss.item()\n",
        "        if i % 1000 == 999:    \n",
        "            print(f'[{epoch + 1} Pass through data] loss: {running_loss/1000 :.3f}')\n",
        "            running_loss = 0.0\n",
        "            \n",
        "            pred_col =  net(your_col)\n",
        "            pred_col = pred_col.detach().numpy()\n",
        "\n",
        "            viz_colour_predicted_rgb(your_col,pred_col)\n",
        "\n",
        "print('Finished Training')"
      ]
    },
    {
      "cell_type": "markdown",
      "id": "04508ead",
      "metadata": {
        "id": "04508ead"
      },
      "source": [
        "As you can see, as training progresses, the output starts looking more and more similar to your input colour. What is the loss for your colour now?"
      ]
    },
    {
      "cell_type": "code",
      "execution_count": null,
      "id": "2ec0c973",
      "metadata": {
        "id": "2ec0c973"
      },
      "outputs": [],
      "source": [
        "your_col = torch.as_tensor(your_col)\n",
        "\n",
        "pred_col =  untrained_net(your_col)\n",
        "pred_col = pred_col.detach().numpy()\n",
        "\n",
        "your_loss = mse_loss_nb(your_col, pred_col)\n",
        "print(f\"Loss for untrained network is {your_loss}\")\n",
        "\n",
        "pred_col =  net(your_col)\n",
        "pred_col = pred_col.detach().numpy()\n",
        "\n",
        "your_loss = mse_loss_nb(your_col, pred_col)\n",
        "print(f\"Loss for the trained network is {your_loss}\")\n"
      ]
    },
    {
      "cell_type": "markdown",
      "id": "93c6c8f0",
      "metadata": {
        "id": "93c6c8f0"
      },
      "source": [
        "PlumberBot has done a good job! The loss before training was high, after training, it has become so close to zero. There's almost no difference between the colours.\n",
        "\n",
        "Let's look at the other sample colours as well:"
      ]
    },
    {
      "cell_type": "code",
      "execution_count": null,
      "id": "ca5f9674",
      "metadata": {
        "id": "ca5f9674"
      },
      "outputs": [],
      "source": [
        "inputs = torch.as_tensor([0.,0.,0.])\n",
        "pred = net(inputs).detach().numpy()\n",
        "viz_colour_predicted_rgb(inputs,pred)\n",
        "\n",
        "\n",
        "inputs = torch.as_tensor([0.5,0.5,0.5])\n",
        "pred = net(inputs).detach().numpy()\n",
        "viz_colour_predicted_rgb(inputs,pred)\n",
        "\n",
        "inputs = torch.as_tensor([0.0,0.5,0.5])\n",
        "pred = net(inputs).detach().numpy()\n",
        "viz_colour_predicted_rgb(inputs,pred)"
      ]
    },
    {
      "cell_type": "markdown",
      "id": "14d3cfdd",
      "metadata": {
        "id": "14d3cfdd"
      },
      "source": [
        "Congrats on training your first neural network! Now you understand the basics of how neural networks work. Our first task was not very useful, simply passing the same colours from input to output. Let us make a network for something more useful. But before that, we will take a brief detour to colour land again."
      ]
    },
    {
      "cell_type": "markdown",
      "id": "40fabb16",
      "metadata": {
        "id": "40fabb16"
      },
      "source": [
        "### Colours part 2: CMYK\n",
        "Now that you know how computers display colours on a screen, let us see how printers print colour on paper. As we discussed in Colours Part 1, the absence of any colour (0 values) is white, the colour of the paper.\n",
        "\n",
        "Printers use Cyan, Magenta, Yellow and Black ink. This representation is known as CMYK.\n",
        "\n",
        "![res/fig/cmyk-additive-subtractive-colors.jpeg](https://github.com/GDS-Education-Community-of-Practice/DSECOP/blob/main/Learning_the_Schrodinger_Equation/res/fig/cmyk-additive-subtractive-colors.jpeg?raw=1)\n",
        "\n",
        "You can play around with CMYK colours in this widget. It will also display the corresponding RGB representation. We have set k to 0 to show the relationship between cmy and rgb better.\n"
      ]
    },
    {
      "cell_type": "code",
      "execution_count": null,
      "id": "ff3bfe7a",
      "metadata": {
        "tags": [],
        "id": "ff3bfe7a"
      },
      "outputs": [],
      "source": [
        "@interact(c=(0, 1.0),m=(0,1.0),y=(0,1.0),k=(0))\n",
        "def interactive_viz_colour(c,m,y,k):\n",
        "    print(\"CMYK:\")\n",
        "    col=[c,m,y,k]\n",
        "    viz_colour_cmyk(col)\n",
        "    print(\"RGB:\")\n",
        "    rgb = cmyk_to_rgb(col)\n",
        "    viz_colour_rgb(rgb)"
      ]
    },
    {
      "cell_type": "markdown",
      "id": "be1154b2",
      "metadata": {
        "id": "be1154b2"
      },
      "source": [
        "Notice the behaviour of both the colour schemes when you set all c,m,y to 0 and all c,m,y to 1, while keeping k at 0. When c,m,y are 0, the colour produced is white and r,g,b are \"on\" while c,m,y are \"off\". When c,m,y are 1, the colour produced is black and r,g,b are \"off\" and c,m,y are \"on\".\n",
        "\n",
        "Let us look at the relationship between the two colour schemes.\n",
        "\n",
        "For converting RGB to CMYK:\n",
        "\n",
        "Assuming all our values are between 0 and 1.0, the relationship is:\n",
        "$$ k = 1 - max(r,g,b) $$\n",
        "$$ c = (1 - r - k)/ (1 - k) $$\n",
        "$$ m = (1 - g - k)/ (1 - k) $$\n",
        "$$ y = (1 - b - k)/ (1 - k) $$\n",
        "\n",
        "and for converting CMYK to RGB:\n",
        "\n",
        "$$ r = 1 - (c + k) $$\n",
        "$$ g = 1 - (m + k) $$\n",
        "$$ b = 1 - (y + k) $$\n",
        "\n",
        "Let's implement this in code:\n"
      ]
    },
    {
      "cell_type": "code",
      "execution_count": null,
      "id": "82aca7f1",
      "metadata": {
        "id": "82aca7f1"
      },
      "outputs": [],
      "source": [
        "# Exercise: Convert rgb to cmyk\n",
        "def rgb_to_cmyk_nb(rgb_col):\n",
        "    r,g,b = rgb_col\n",
        "    \n",
        "    ### Your code here. You can use max() function to get max of numbers. Eg max(a,b,c) gives max of a,b,c\n",
        "    k = \n",
        "    c = \n",
        "    m = \n",
        "    y = \n",
        "    ###\n",
        "    \n",
        "    cmyk_col = [c,m,y,k]\n",
        "    return cmyk_col"
      ]
    },
    {
      "cell_type": "markdown",
      "id": "1fb8c6f9",
      "metadata": {
        "id": "1fb8c6f9"
      },
      "source": [
        "And let's test it with a sample colour"
      ]
    },
    {
      "cell_type": "code",
      "execution_count": null,
      "id": "c4a60213",
      "metadata": {
        "id": "c4a60213"
      },
      "outputs": [],
      "source": [
        "rgb_col = [0.2,0.8,0.8]\n",
        "cmyk_col = rgb_to_cmyk_nb(rgb_col)\n",
        "\n",
        "print(\"CMYK:\")\n",
        "col= cmyk_col\n",
        "viz_colour_cmyk(col)\n",
        "print(\"RGB:\")\n",
        "rgb = rgb_col\n",
        "viz_colour_rgb(rgb)\n"
      ]
    },
    {
      "cell_type": "code",
      "execution_count": null,
      "id": "e5135749",
      "metadata": {
        "id": "e5135749"
      },
      "outputs": [],
      "source": [
        "# Exercise: Convert cmyk to rgb\n",
        "def cmyk_to_rgb(cmyk_col):\n",
        "    c,m,y,k = cmyk_col\n",
        "    \n",
        "    ### Your code here\n",
        "    r = \n",
        "    g = \n",
        "    b = \n",
        "    ###\n",
        "    \n",
        "    rgb_col = [r,g,b]\n",
        "    return rgb_col"
      ]
    },
    {
      "cell_type": "markdown",
      "id": "51d1ef93",
      "metadata": {
        "id": "51d1ef93"
      },
      "source": [
        "And let's test it with a sample colour"
      ]
    },
    {
      "cell_type": "code",
      "execution_count": null,
      "id": "5aab9c02",
      "metadata": {
        "id": "5aab9c02"
      },
      "outputs": [],
      "source": [
        "cmyk_col = [0.2,0.8,0.8, 0.0]\n",
        "rgb_col = cmyk_to_rgb(cmyk_col)\n",
        "\n",
        "print(\"CMYK:\")\n",
        "col= cmyk_col\n",
        "viz_colour_cmyk(col)\n",
        "print(\"RGB:\")\n",
        "rgb = rgb_col\n",
        "viz_colour_rgb(rgb)\n",
        "\n"
      ]
    },
    {
      "cell_type": "markdown",
      "id": "439a58fb",
      "metadata": {
        "id": "439a58fb"
      },
      "source": [
        "Feel free to change the sample colours in the code boxes above and look at how both schemes are converted."
      ]
    },
    {
      "cell_type": "markdown",
      "id": "272e565d",
      "metadata": {
        "id": "272e565d"
      },
      "source": [
        "## Network 2: RGB to CMYK\n",
        "\n",
        "Let us call PlumberBot again. \n",
        "\n",
        "![res/fig/rp-2.png](https://github.com/GDS-Education-Community-of-Practice/DSECOP/blob/main/Learning_the_Schrodinger_Equation/res/fig/rp-2.png?raw=1)\n",
        "\n",
        "This time, we want to input r,g,b paints in our pipeline and get c,m,y,k values back. Let's create the dataset as before"
      ]
    },
    {
      "cell_type": "code",
      "execution_count": null,
      "id": "c8bc356a",
      "metadata": {
        "id": "c8bc356a"
      },
      "outputs": [],
      "source": [
        "n_size = 1000\n",
        "rgb_training_set = np.random.rand(n_size,3)\n",
        "cmyk_training_set = np.asarray(list(map(rgb_to_cmyk, rgb_training_set)))"
      ]
    },
    {
      "cell_type": "markdown",
      "id": "42de8009",
      "metadata": {
        "id": "42de8009"
      },
      "source": [
        "The slider below shows the pairs of rgb and cmyk:"
      ]
    },
    {
      "cell_type": "code",
      "execution_count": null,
      "id": "5c4559f7",
      "metadata": {
        "id": "5c4559f7"
      },
      "outputs": [],
      "source": [
        "@interact(n=(0,1000))\n",
        "def interactive_trainset_viz(n):\n",
        "    viz_colour_rgb(rgb_training_set[n])\n",
        "    viz_colour_cmyk(cmyk_training_set[n])\n",
        "    "
      ]
    },
    {
      "cell_type": "markdown",
      "id": "1b4535b9",
      "metadata": {
        "id": "1b4535b9"
      },
      "source": [
        "Look at the data set size. Notice the rgb has 3 elements each and cmyk has 4 elements each."
      ]
    },
    {
      "cell_type": "code",
      "execution_count": null,
      "id": "3019d5ae",
      "metadata": {
        "id": "3019d5ae"
      },
      "outputs": [],
      "source": [
        "print(f\"The size of rgb dataset is {rgb_training_set.shape}\")\n",
        "print(f\"The size of cmyk dataset is {cmyk_training_set.shape}\")"
      ]
    },
    {
      "cell_type": "markdown",
      "id": "da7ed30e",
      "metadata": {
        "id": "da7ed30e"
      },
      "source": [
        "We need to change our network to handle 3 input pipes and 4 output pipes. "
      ]
    },
    {
      "cell_type": "code",
      "execution_count": null,
      "id": "d52b3fda",
      "metadata": {
        "id": "d52b3fda"
      },
      "outputs": [],
      "source": [
        "class PipeNet(nn.Module):\n",
        "    def __init__(self):\n",
        "        super().__init__()\n",
        "        \n",
        "        ## Exercise: Add the input and output sizes here\n",
        "        self.fc1 = nn.Linear(,) #fill in numbers here\n",
        "        # In the previous case, for 3 input and 3 outputs,\n",
        "        # we used self.fc1 = nn.Linear(3,3), \n",
        "        # where first number is input size and second number is output size\n",
        "\n",
        "\n",
        "    def forward(self, x):\n",
        "        x = self.fc1(x)\n",
        "        return x\n",
        "\n",
        "\n",
        "net = PipeNet()\n",
        "untrained_net = copy.deepcopy(net)"
      ]
    },
    {
      "cell_type": "markdown",
      "id": "3e2db17f",
      "metadata": {
        "id": "3e2db17f"
      },
      "source": [
        "Lets look at some sample predictions from the untrained net:"
      ]
    },
    {
      "cell_type": "code",
      "execution_count": null,
      "id": "38d0d28a",
      "metadata": {
        "id": "38d0d28a"
      },
      "outputs": [],
      "source": [
        "inputs = torch.as_tensor([0.,0.,0.])\n",
        "pred = net(inputs).detach().numpy()\n",
        "viz_colour_predicted_cmyk(inputs,pred)\n",
        "\n",
        "\n",
        "inputs = torch.as_tensor([0.5,0.5,0.5])\n",
        "pred = net(inputs).detach().numpy()\n",
        "viz_colour_predicted_cmyk(inputs,pred)\n",
        "\n",
        "inputs = torch.as_tensor([0.0,0.5,0.5])\n",
        "pred = net(inputs).detach().numpy()\n",
        "viz_colour_predicted_cmyk(inputs,pred)"
      ]
    },
    {
      "cell_type": "code",
      "execution_count": null,
      "id": "74c69a8d",
      "metadata": {
        "id": "74c69a8d"
      },
      "outputs": [],
      "source": [
        "# Exercise: Fill in col with a colour of your choice, in the form of [r,g,b]. \n",
        "# Then, use the neural network to generate the output for that colour.\n",
        "# Hint: You can pass the input colour as an argument to the net.\n",
        "# Like this: pred = net(colour)\n",
        "your_col = [,,] #Fill this\n",
        "your_col = torch.as_tensor(your_col)\n",
        "true_col = rgb_to_cmyk(your_col)\n",
        "\n",
        "pred_col =  net(your_col)# Fill thus\n",
        "pred_col = pred_col.detach().numpy()\n",
        "\n",
        "viz_colour_predicted_cmyk(your_col,pred_col)\n",
        "\n",
        "your_loss = np.sum((true_col - pred_col) **2)\n",
        "print(f\"Loss is {your_loss}\")"
      ]
    },
    {
      "cell_type": "markdown",
      "id": "edfef529",
      "metadata": {
        "id": "edfef529"
      },
      "source": [
        "As you can see, the untrained network gives wrong predictions with a high loss.\n",
        "\n",
        "We need to ask PlumberBot to train the network, similar to the procedure in the previous problem."
      ]
    },
    {
      "cell_type": "code",
      "execution_count": null,
      "id": "95a71552",
      "metadata": {
        "id": "95a71552"
      },
      "outputs": [],
      "source": [
        "trainset = ColourDataset(input_data=rgb_training_set, output_data=cmyk_training_set)\n",
        "\n",
        "batch_size = 1\n",
        "trainloader = torch.utils.data.DataLoader(trainset, batch_size=batch_size,\n",
        "                                          shuffle=True, num_workers=0)\n",
        "criterion = nn.MSELoss()\n",
        "optimizer = optim.SGD(net.parameters(), lr=0.001, momentum=0.9)"
      ]
    },
    {
      "cell_type": "code",
      "execution_count": null,
      "id": "2e96481e",
      "metadata": {
        "id": "2e96481e"
      },
      "outputs": [],
      "source": []
    },
    {
      "cell_type": "code",
      "execution_count": null,
      "id": "74522a0f",
      "metadata": {
        "id": "74522a0f"
      },
      "outputs": [],
      "source": [
        "for epoch in range(20):  # loop over the dataset multiple times\n",
        "\n",
        "    running_loss = 0.0\n",
        "    for i, data in enumerate(trainloader, 0):\n",
        "        inputs, labels = data\n",
        "\n",
        "        optimizer.zero_grad()\n",
        "\n",
        "        outputs = net(inputs)\n",
        "        loss = criterion(outputs, labels)\n",
        "        loss.backward()\n",
        "        optimizer.step()\n",
        "\n",
        "        # print statistics\n",
        "        running_loss += loss.item()\n",
        "        if i % 1000 == 999 and epoch % 4 == 3:    \n",
        "            print(f'[{epoch + 1} Pass through data] loss: {running_loss/1000 :.3f}')\n",
        "            running_loss = 0.0\n",
        "            \n",
        "            pred_col =  net(your_col)\n",
        "            pred_col = pred_col.detach().numpy()\n",
        "\n",
        "            viz_colour_predicted_cmyk(your_col,pred_col)\n",
        "\n",
        "print('Finished Training')"
      ]
    },
    {
      "cell_type": "markdown",
      "id": "62274aaa",
      "metadata": {
        "id": "62274aaa"
      },
      "source": [
        "Let's look at the prediction for the input rgb colour:"
      ]
    },
    {
      "cell_type": "code",
      "execution_count": null,
      "id": "54c18b12",
      "metadata": {
        "id": "54c18b12"
      },
      "outputs": [],
      "source": [
        "your_col = torch.as_tensor(your_col)\n",
        "\n",
        "pred_col =  untrained_net(your_col)\n",
        "pred_col = pred_col.detach().numpy()\n",
        "\n",
        "your_loss = np.sum((true_col - pred_col) **2)\n",
        "print(f\"Loss for untrained network is {your_loss}\")\n",
        "\n",
        "pred_col =  net(your_col)\n",
        "pred_col = pred_col.detach().numpy()\n",
        "\n",
        "your_loss = np.sum((true_col - pred_col) **2)\n",
        "print(f\"Loss for the trained network is {your_loss}\")\n",
        "\n"
      ]
    },
    {
      "cell_type": "markdown",
      "id": "dfb10fa6",
      "metadata": {
        "id": "dfb10fa6"
      },
      "source": [
        "The loss is much closer to 0 now. Our sample colours look much better now too:"
      ]
    },
    {
      "cell_type": "code",
      "execution_count": null,
      "id": "ac67e40d",
      "metadata": {
        "id": "ac67e40d"
      },
      "outputs": [],
      "source": [
        "\n",
        "inputs = torch.as_tensor([0.,0.,0.])\n",
        "pred = net(inputs).detach().numpy()\n",
        "viz_colour_predicted_cmyk(inputs,pred)\n",
        "\n",
        "\n",
        "inputs = torch.as_tensor([0.5,0.5,0.5])\n",
        "pred = net(inputs).detach().numpy()\n",
        "viz_colour_predicted_cmyk(inputs,pred)\n",
        "\n",
        "inputs = torch.as_tensor([0.0,0.5,0.5])\n",
        "pred = net(inputs).detach().numpy()\n",
        "viz_colour_predicted_cmyk(inputs,pred)"
      ]
    },
    {
      "cell_type": "markdown",
      "id": "187b205d",
      "metadata": {
        "id": "187b205d"
      },
      "source": [
        "Good job again PlumberBot!\n",
        "We have learnt how to create simple neural networks, and the basics of how they work."
      ]
    },
    {
      "cell_type": "markdown",
      "id": "32a290f3",
      "metadata": {
        "id": "32a290f3"
      },
      "source": [
        "### Plot twist\n",
        "Did you know that the images of PlumberBot was created using a neural network?\n",
        "\n",
        "That model is called Dall E mini, and it can generate images from any text you provide it.\n",
        "\n",
        "Here are some more examples of \"Robot plumber fixing neural networks\":\n",
        "\n",
        "![res/fig/rp-3.png](https://github.com/GDS-Education-Community-of-Practice/DSECOP/blob/main/Learning_the_Schrodinger_Equation/res/fig/rp-3.png?raw=1)\n",
        "![res/fig/rp-3.png](https://github.com/GDS-Education-Community-of-Practice/DSECOP/blob/main/Learning_the_Schrodinger_Equation/res/fig/rp-4.png?raw=1)\n",
        "\n",
        "\n",
        "You can generate your own images here: https://huggingface.co/spaces/dalle-mini/dalle-mini\n",
        "(Hint: If it shows an error, close the error and click on run again till it works. It will take a minute or two to generate images)"
      ]
    },
    {
      "cell_type": "markdown",
      "id": "53e92965",
      "metadata": {
        "id": "53e92965"
      },
      "source": [
        "## Optional Challenge: CMYK to RGB Network\n",
        "Can you create a network to convert CMYK values to RGB values? Feel free to copy any code from above."
      ]
    },
    {
      "cell_type": "code",
      "execution_count": null,
      "id": "2f148453",
      "metadata": {
        "id": "2f148453"
      },
      "outputs": [],
      "source": []
    }
  ],
  "metadata": {
    "kernelspec": {
      "display_name": "Python 3 (ipykernel)",
      "language": "python",
      "name": "python3"
    },
    "language_info": {
      "codemirror_mode": {
        "name": "ipython",
        "version": 3
      },
      "file_extension": ".py",
      "mimetype": "text/x-python",
      "name": "python",
      "nbconvert_exporter": "python",
      "pygments_lexer": "ipython3",
      "version": "3.8.13"
    },
    "colab": {
      "provenance": [],
      "include_colab_link": true
    }
  },
  "nbformat": 4,
  "nbformat_minor": 5
}